{
 "cells": [
  {
   "cell_type": "markdown",
   "id": "4a1aae78-88a6-4133-b905-7e46c8e3772f",
   "metadata": {},
   "source": [
    "# 🚀 LangGraph Quickstart\n",
    "\n",
    "In this tutorial, we will build a support chatbot in LangGraph that can:\n",
    "\n",
    "✅ **Answer common questions** by searching the web  \n",
    "✅ **Maintain conversation state** across calls  \n",
    "✅ **Route complex queries** to a human for review  \n",
    "✅ **Use custom state** to control its behavior  \n",
    "✅ **Rewind and explore** alternative conversation paths  \n",
    "\n",
    "We'll start with a **basic chatbot** and progressively add more sophisticated capabilities, introducing key LangGraph concepts along the way. Let’s dive in! 🌟\n",
    "\n",
    "## Setup\n",
    "\n",
    "First, install the required packages and configure your environment:"
   ]
  },
  {
   "cell_type": "code",
   "execution_count": 1,
   "id": "6f11d631-8679-4f28-822f-cdf1f2ddc21c",
   "metadata": {},
   "outputs": [],
   "source": []
  },
  {
   "cell_type": "code",
   "execution_count": 16,
   "id": "705d4020-6ee8-44cc-b1a5-8c34e7172fc7",
   "metadata": {},
   "outputs": [
    {
     "data": {
      "text/plain": [
       "True"
      ]
     },
     "execution_count": 16,
     "metadata": {},
     "output_type": "execute_result"
    }
   ],
   "source": [
    "import getpass\n",
    "import os\n",
    "from rich import print as pp\n",
    "# load environment variables\n",
    "from dotenv import load_dotenv\n",
    "load_dotenv()\n"
   ]
  },
  {
   "cell_type": "markdown",
   "id": "a98c72cf-33f9-4a37-9634-6c93a7c28815",
   "metadata": {},
   "source": [
    "<div class=\"admonition tip\">\n",
    "    <p class=\"admonition-title\">Set up <a href=\"https://smith.langchain.com\">LangSmith</a> for LangGraph development</p>\n",
    "    <p style=\"padding-top: 5px;\">\n",
    "        Sign up for LangSmith to quickly spot issues and improve the performance of your LangGraph projects. LangSmith lets you use trace data to debug, test, and monitor your LLM apps built with LangGraph — read more about how to get started <a href=\"https://docs.smith.langchain.com\">here</a>. \n",
    "    </p>\n",
    "</div>"
   ]
  },
  {
   "attachments": {},
   "cell_type": "markdown",
   "id": "9c374e41-f9b7-439e-a520-6d8c853c5220",
   "metadata": {},
   "source": [
    "## Part 1: Build a Basic Chatbot\n",
    "\n",
    "We'll first create a simple chatbot using LangGraph. This chatbot will respond directly to user messages. Though simple, it will illustrate the core concepts of building with LangGraph. By the end of this section, you will have a built rudimentary chatbot.\n",
    "\n",
    "Start by creating a `StateGraph`. A `StateGraph` object defines the structure of our chatbot as a \"state machine\". We'll add `nodes` to represent the llm and functions our chatbot can call and `edges` to specify how the bot should transition between these functions."
   ]
  },
  {
   "cell_type": "code",
   "execution_count": 1,
   "id": "e58df974-7579-4f25-9d91-66389b94eba2",
   "metadata": {},
   "outputs": [],
   "source": [
    "from typing import Annotated\n",
    "\n",
    "from typing_extensions import TypedDict\n",
    "\n",
    "from langgraph.graph import StateGraph, START, END\n",
    "from langgraph.graph.message import add_messages\n",
    "from langchain_ollama import ChatOllama, OllamaEmbeddings\n",
    "\n",
    "llm = ChatOllama(model='llama3.2', temperature=0.3)\n",
    "embeddings = OllamaEmbeddings(model='snowflake-arctic-embed:33m')\n",
    "\n",
    "\n",
    "class State(TypedDict):\n",
    "    # Messages have the type \"list\". The `add_messages` function\n",
    "    # in the annotation defines how this state key should be updated\n",
    "    # (in this case, it appends messages to the list, rather than overwriting them)\n",
    "    messages: Annotated[list, add_messages]\n",
    "\n",
    "\n",
    "graph_builder = StateGraph(State)"
   ]
  },
  {
   "attachments": {},
   "cell_type": "markdown",
   "id": "c08c41da-0855-49d3-9a3d-b7eb94413367",
   "metadata": {},
   "source": [
    "Our graph can now handle two key tasks:\n",
    "\n",
    "1. Each `node` can receive the current `State` as input and output an update to the state.\n",
    "2. Updates to `messages` will be appended to the existing list rather than overwriting it, thanks to the prebuilt [`add_messages`](https://langchain-ai.github.io/langgraph/reference/graphs/?h=add+messages#add_messages) function used with the `Annotated` syntax.\n",
    "\n",
    "------\n",
    "\n",
    "!!! tip \"Concept\"\n",
    "\n",
    "    When defining a graph, the first step is to define its `State`. The `State` includes the graph's schema and [reducer functions](https://langchain-ai.github.io/langgraph/concepts/low_level/#reducers) that handle state updates. In our example, `State` is a `TypedDict` with one key: `messages`. The [`add_messages`](https://langchain-ai.github.io/langgraph/reference/graphs/#langgraph.graph.message.add_messages) reducer function is used to append new messages to the list instead of overwriting it. Keys without a reducer annotation will overwrite previous values. Learn more about state, reducers, and related concepts in [this guide](https://langchain-ai.github.io/langgraph/reference/graphs/#langgraph.graph.message.add_messages).\n",
    "\n",
    "---------\n",
    "\n",
    "\n",
    "Next, add a \"`chatbot`\" node. Nodes represent units of work. They are typically regular python functions."
   ]
  },
  {
   "cell_type": "code",
   "execution_count": 2,
   "id": "bc8c9137-8261-42ea-8e83-3590981d23e2",
   "metadata": {},
   "outputs": [
    {
     "data": {
      "text/plain": [
       "<langgraph.graph.state.StateGraph at 0x111a1ba90>"
      ]
     },
     "execution_count": 2,
     "metadata": {},
     "output_type": "execute_result"
    }
   ],
   "source": [
    "\n",
    "\n",
    "def chatbot(state: State):\n",
    "    return {\"messages\": [llm.invoke(state[\"messages\"])]}\n",
    "\n",
    "\n",
    "# The first argument is the unique node name\n",
    "# The second argument is the function or object that will be called whenever\n",
    "# the node is used.\n",
    "graph_builder.add_node(\"chatbot\", chatbot)"
   ]
  },
  {
   "cell_type": "markdown",
   "id": "b6c1dcd9-fb86-4649-81b4-ff6ce20a2e46",
   "metadata": {},
   "source": [
    "**Notice** how the `chatbot` node function takes the current `State` as input and returns a dictionary containing an updated `messages` list under the key \"messages\". This is the basic pattern for all LangGraph node functions.\n",
    "\n",
    "The `add_messages` function in our `State` will append the llm's response messages to whatever messages are already in the state.\n",
    "\n",
    "Next, add an `entry` point. This tells our graph **where to start its work** each time we run it."
   ]
  },
  {
   "cell_type": "code",
   "execution_count": 3,
   "id": "e331e10d-ebcf-4144-9bd3-999b4d656dd3",
   "metadata": {},
   "outputs": [
    {
     "data": {
      "text/plain": [
       "<langgraph.graph.state.StateGraph at 0x111a1ba90>"
      ]
     },
     "execution_count": 3,
     "metadata": {},
     "output_type": "execute_result"
    }
   ],
   "source": [
    "graph_builder.add_edge(START, \"chatbot\")"
   ]
  },
  {
   "cell_type": "markdown",
   "id": "0499c318-d1e6-46fa-a652-8f9e65313355",
   "metadata": {},
   "source": [
    "Similarly, set a `finish` point. This instructs the graph **\"any time this node is run, you can exit.\"**"
   ]
  },
  {
   "cell_type": "code",
   "execution_count": 4,
   "id": "075f0929-3591-4852-b2d3-eaadde40662d",
   "metadata": {},
   "outputs": [
    {
     "data": {
      "text/plain": [
       "<langgraph.graph.state.StateGraph at 0x111a1ba90>"
      ]
     },
     "execution_count": 4,
     "metadata": {},
     "output_type": "execute_result"
    }
   ],
   "source": [
    "graph_builder.add_edge(\"chatbot\", END)"
   ]
  },
  {
   "cell_type": "markdown",
   "id": "65a9b88c-2c53-4d95-8eb1-d544a8946f65",
   "metadata": {},
   "source": [
    "Finally, we'll want to be able to run our graph. To do so, call \"`compile()`\" on the graph builder. This creates a \"`CompiledGraph`\" we can use invoke on our state."
   ]
  },
  {
   "cell_type": "code",
   "execution_count": 5,
   "id": "0bb67a01-cf5c-4625-8c07-6e8c0af50fca",
   "metadata": {},
   "outputs": [],
   "source": [
    "graph = graph_builder.compile()"
   ]
  },
  {
   "cell_type": "markdown",
   "id": "0c39407b-d6f6-48a4-b1f6-31fc7f88b275",
   "metadata": {},
   "source": [
    "You can visualize the graph using the `get_graph` method and one of the \"draw\" methods, like `draw_ascii` or `draw_png`. The `draw` methods each require additional dependencies."
   ]
  },
  {
   "cell_type": "code",
   "execution_count": 6,
   "id": "32e4f36e-72ce-4ade-bd7e-94880e0d456b",
   "metadata": {},
   "outputs": [
    {
     "data": {
      "image/png": "[encoded data removed]",
      "text/plain": [
       "<IPython.core.display.Image object>"
      ]
     },
     "metadata": {},
     "output_type": "display_data"
    }
   ],
   "source": [
    "from IPython.display import Image, display\n",
    "\n",
    "try:\n",
    "    display(Image(graph.get_graph().draw_mermaid_png()))\n",
    "except Exception:\n",
    "    # This requires some extra dependencies and is optional\n",
    "    pass"
   ]
  },
  {
   "cell_type": "markdown",
   "id": "a98097a3-a126-4081-b21e-697ec1185fff",
   "metadata": {},
   "source": [
    "Now let's run the chatbot! \n",
    "\n",
    "**Tip:** You can exit the chat loop at any time by typing \"quit\", \"exit\", or \"q\"."
   ]
  },
  {
   "cell_type": "code",
   "execution_count": 25,
   "id": "6a385b06-8d34-4a2d-aded-1cf4bb0ca590",
   "metadata": {},
   "outputs": [
    {
     "data": {
      "text/html": [
       "<pre style=\"white-space:pre;overflow-x:auto;line-height:normal;font-family:Menlo,'DejaVu Sans Mono',consolas,'Courier New',monospace\">Assistant: \n",
       "</pre>\n"
      ],
      "text/plain": [
       "Assistant: \n"
      ]
     },
     "metadata": {},
     "output_type": "display_data"
    },
    {
     "data": {
      "text/html": [
       "<pre style=\"white-space:pre;overflow-x:auto;line-height:normal;font-family:Menlo,'DejaVu Sans Mono',consolas,'Courier New',monospace\">Assistant: <span style=\"font-weight: bold\">[{</span><span style=\"color: #008000; text-decoration-color: #008000\">\"url\"</span>: <span style=\"color: #008000; text-decoration-color: #008000\">\"https://apnews.com/us-news\"</span>, <span style=\"color: #008000; text-decoration-color: #008000\">\"content\"</span>: <span style=\"color: #008000; text-decoration-color: #008000\">\"U.S. News\\nBlinken sees goals largely unfulfilled in </span>\n",
       "<span style=\"color: #008000; text-decoration-color: #008000\">Mideast trip, even as Israel pledges to protect civilians\\nKlete Keller, Olympic gold medalist swimmer, gets 6 </span>\n",
       "<span style=\"color: #008000; text-decoration-color: #008000\">months in home detention for Jan. 6 Capitol riot\\nBreaches by Iran-affiliated hackers spanned multiple U.S. states,</span>\n",
       "<span style=\"color: #008000; text-decoration-color: #008000\">federal agencies say\\nReport: Belief death penalty is applied unfairly shows capital punishment\\u2019s growing </span>\n",
       "<span style=\"color: #008000; text-decoration-color: #008000\">isolation in US\\nRetired Justice Sandra Day O\\u2019Connor, the first woman on the Supreme Court, has died at </span>\n",
       "<span style=\"color: #008000; text-decoration-color: #008000\">93\\nTopics\\nAbortion\\nCourt pauses federal policy allowing abortion clinic operators to get grants -- but only in </span>\n",
       "<span style=\"color: #008000; text-decoration-color: #008000\">Ohio\\nMan pleads guilty to 2022 firebombing of Wisconsin anti-abortion office\\nWest Virginia places anti-abortion </span>\n",
       "<span style=\"color: #008000; text-decoration-color: #008000\">pregnancy center coalition at the helm of $1M grant program\\nOpponents gave input on ballot language for </span>\n",
       "<span style=\"color: #008000; text-decoration-color: #008000\">abortion-rights measure, Ohio elections chief says\\nLGBTQ+\\nPolice raid Moscow gay bars after a Supreme Court </span>\n",
       "<span style=\"color: #008000; text-decoration-color: #008000\">ruling labeled LGBTQ+ movement \\u2018extremist\\u2019\\nIowa court affirms hate crime conviction of man who left </span>\n",
       "<span style=\"color: #008000; text-decoration-color: #008000\">anti-gay notes at homes with rainbow flags\\nFirst same-sex married couple in Nepal vow to continue campaign for gay</span>\n",
       "<span style=\"color: #008000; text-decoration-color: #008000\">rights\\nFor a male sexual assault survivor, justice won in court does not equal healing\\nShootings\\nLas Vegas </span>\n",
       "<span style=\"color: #008000; text-decoration-color: #008000\">police search for suspect after 5 homeless people are shot, killing 1\\nLos Angeles police searching for suspect in </span>\n",
       "<span style=\"color: #008000; text-decoration-color: #008000\">three fatal shootings of homeless people\\nA world away from the West Bank, Vermont shooting victims and their </span>\n",
       "<span style=\"color: #008000; text-decoration-color: #008000\">families face new grief and fear\\nState trooper who fatally shot man at hospital likely prevented more injuries, </span>\n",
       "<span style=\"color: #008000; text-decoration-color: #008000\">attorney general says\\nImmigration\\nUS border officials are closing a remote Arizona crossing because of </span>\n",
       "<span style=\"color: #008000; text-decoration-color: #008000\">overwhelming migrant arrivals\\nTexas judge rips into Biden administration\\u2019s handling of border in dispute over</span>\n",
       "<span style=\"color: #008000; text-decoration-color: #008000\">razor wire barrier\\nCongress is eying immigration limits as GOP demands border changes in swap for Biden overseas </span>\n",
       "<span style=\"color: #008000; text-decoration-color: #008000\">aid\\nRepublicans want to pair border security with aid for Ukraine. Here\\u2019s why that makes a deal so </span>\n",
       "<span style=\"color: #008000; text-decoration-color: #008000\">tough\\nMore news\\nMassachusetts Republicans stall funding, again, to shelter the homeless and migrants\\nDefense </span>\n",
       "<span style=\"color: #008000; text-decoration-color: #008000\">head calls out those who advocate isolationism and \\u2018an American retreat from responsibility\\u2019\\nFormer prep</span>\n",
       "<span style=\"color: #008000; text-decoration-color: #008000\">school teacher going back to prison for incident as camp counselor\\nRacist remarks cited before cannabis </span>\n",
       "<span style=\"color: #008000; text-decoration-color: #008000\">regulator\\u2019s suspension, court documents say\\nAlabama woman pleads guilty in 2019 baseball bat beating death of</span>\n",
       "<span style=\"color: #008000; text-decoration-color: #008000\">man found in a barrel\\nWinter weather in Pacific Northwest cuts power to thousands in Seattle, dumps snow on </span>\n",
       "<span style=\"color: #008000; text-decoration-color: #008000\">Cascades\\nGroup of swing state Muslims vows to ditch Biden in 2024 over his war stance\\nFederal judge tosses </span>\n",
       "<span style=\"color: #008000; text-decoration-color: #008000\">lawsuit alleging environmental racism in St. James Parish\\nSheriff says Alabama family\\u2019s pet </span>\n",
       "<span style=\"color: #008000; text-decoration-color: #008000\">\\u2018wolf-hybrid\\u2019 killed their 3-month-old boy\\nVermont day care provider convicted of causing infant\\u2019s </span>\n",
       "<span style=\"color: #008000; text-decoration-color: #008000\">death with doses of antihistamine\\nRemington gun factory in operation for nearly 200 years is set to close\\nWest </span>\n",
       "<span style=\"color: #008000; text-decoration-color: #008000\">Virginia prison inmate indicted on murder charge in missing daughter\\u2019s death\\nBMW recalls SUVs after Takata </span>\n",
       "<span style=\"color: #008000; text-decoration-color: #008000\">air bag inflator blows apart, hurling shrapnel and injuring driver\\nSend-offs show Carlton Pearson\\u2019s split </span>\n",
       "<span style=\"color: #008000; text-decoration-color: #008000\">legacy spurred by his inclusive beliefs, rejection of hell\\nTeen girls are being victimized by deepfake nudes. Four</span>\n",
       "<span style=\"color: #008000; text-decoration-color: #008000\">are serving today\\nUS Navy plans to raise jet plane off Hawaii coral reef using inflatable cylinders\\nJudge rejects</span>\n",
       "<span style=\"color: #008000; text-decoration-color: #008000\">calls to halt winter construction work on Willow oil project in Alaska during appeal\\nUS proposes plan to help the </span>\n",
       "<span style=\"color: #008000; text-decoration-color: #008000\">snow-dependent Canada lynx before warming shrinks its habitat\\nFormer Colombian military officer accused in base </span>\n",
       "<span style=\"color: #008000; text-decoration-color: #008000\">bombing extradited to Florida\\nFormer Memphis officer charged in Tyre Nichols\\u2019 death had some violations in </span>\n",
       "<span style=\"color: #008000; text-decoration-color: #008000\">prior prison guard job\\nNew York could see more legal pot shops after state settles cases that halted </span>\n",
       "<span style=\"color: #008000; text-decoration-color: #008000\">market\\nEx-correctional officer at federal prison in California gets 5 years for sexually abusing inmates\\nMan who </span>\n",
       "<span style=\"color: #008000; text-decoration-color: #008000\">avoided prosecution as teen in 13-year-old\\u2019s killing found guilty of killing father of 2\\nJury orders egg </span>\n",
       "<span style=\"color: #008000; text-decoration-color: #008000\">suppliers to pay $17.7 million in damages for price gouging in 2000s\\nMovie armorer in \\u2018Rust\\u2019 fatal </span>\n",
       "<span style=\"color: #008000; text-decoration-color: #008000\">shooting pleads not guilty to unrelated gun charge\\nWisconsin Senate Democrats choose Hesselbein as new minority </span>\n",
       "<span style=\"color: #008000; text-decoration-color: #008000\">leader\\nAging dams in central and western Massachusetts to be removed in $25M project\\nCopyright 2023 The </span>\n",
       "<span style=\"color: #008000; text-decoration-color: #008000\">Associated Press. One family is pushing for more protections\\nCalifornia sheriff\\u2019s sergeant recovering after </span>\n",
       "<span style=\"color: #008000; text-decoration-color: #008000\">exchanging gunfire with suspect who was killed\\nTrump and DeSantis are at dueling campaign events in Iowa with the </span>\n",
       "<span style=\"color: #008000; text-decoration-color: #008000\">caucuses just six weeks away\\nJustice Sandra Day O\\u2019Connor paved a path for women on the Supreme Court. All </span>\n",
       "<span style=\"color: #008000; text-decoration-color: #008000\">Rights Reserved.\\n\"</span><span style=\"font-weight: bold\">}</span>, <span style=\"font-weight: bold\">{</span><span style=\"color: #008000; text-decoration-color: #008000\">\"url\"</span>: <span style=\"color: #008000; text-decoration-color: #008000\">\"https://www.cnn.com/\"</span>, <span style=\"color: #008000; text-decoration-color: #008000\">\"content\"</span>: <span style=\"color: #008000; text-decoration-color: #008000\">\"View the latest news and breaking news today for </span>\n",
       "<span style=\"color: #008000; text-decoration-color: #008000\">U.S., world, weather, entertainment, politics and health at CNN.com.\"</span><span style=\"font-weight: bold\">}]</span>\n",
       "</pre>\n"
      ],
      "text/plain": [
       "Assistant: \u001b[1m[\u001b[0m\u001b[1m{\u001b[0m\u001b[32m\"url\"\u001b[0m: \u001b[32m\"https://apnews.com/us-news\"\u001b[0m, \u001b[32m\"content\"\u001b[0m: \u001b[32m\"U.S. News\\nBlinken sees goals largely unfulfilled in \u001b[0m\n",
       "\u001b[32mMideast trip, even as Israel pledges to protect civilians\\nKlete Keller, Olympic gold medalist swimmer, gets 6 \u001b[0m\n",
       "\u001b[32mmonths in home detention for Jan. 6 Capitol riot\\nBreaches by Iran-affiliated hackers spanned multiple U.S. states,\u001b[0m\n",
       "\u001b[32mfederal agencies say\\nReport: Belief death penalty is applied unfairly shows capital punishment\\u2019s growing \u001b[0m\n",
       "\u001b[32misolation in US\\nRetired Justice Sandra Day O\\u2019Connor, the first woman on the Supreme Court, has died at \u001b[0m\n",
       "\u001b[32m93\\nTopics\\nAbortion\\nCourt pauses federal policy allowing abortion clinic operators to get grants -- but only in \u001b[0m\n",
       "\u001b[32mOhio\\nMan pleads guilty to 2022 firebombing of Wisconsin anti-abortion office\\nWest Virginia places anti-abortion \u001b[0m\n",
       "\u001b[32mpregnancy center coalition at the helm of $1M grant program\\nOpponents gave input on ballot language for \u001b[0m\n",
       "\u001b[32mabortion-rights measure, Ohio elections chief says\\nLGBTQ+\\nPolice raid Moscow gay bars after a Supreme Court \u001b[0m\n",
       "\u001b[32mruling labeled LGBTQ+ movement \\u2018extremist\\u2019\\nIowa court affirms hate crime conviction of man who left \u001b[0m\n",
       "\u001b[32manti-gay notes at homes with rainbow flags\\nFirst same-sex married couple in Nepal vow to continue campaign for gay\u001b[0m\n",
       "\u001b[32mrights\\nFor a male sexual assault survivor, justice won in court does not equal healing\\nShootings\\nLas Vegas \u001b[0m\n",
       "\u001b[32mpolice search for suspect after 5 homeless people are shot, killing 1\\nLos Angeles police searching for suspect in \u001b[0m\n",
       "\u001b[32mthree fatal shootings of homeless people\\nA world away from the West Bank, Vermont shooting victims and their \u001b[0m\n",
       "\u001b[32mfamilies face new grief and fear\\nState trooper who fatally shot man at hospital likely prevented more injuries, \u001b[0m\n",
       "\u001b[32mattorney general says\\nImmigration\\nUS border officials are closing a remote Arizona crossing because of \u001b[0m\n",
       "\u001b[32moverwhelming migrant arrivals\\nTexas judge rips into Biden administration\\u2019s handling of border in dispute over\u001b[0m\n",
       "\u001b[32mrazor wire barrier\\nCongress is eying immigration limits as GOP demands border changes in swap for Biden overseas \u001b[0m\n",
       "\u001b[32maid\\nRepublicans want to pair border security with aid for Ukraine. Here\\u2019s why that makes a deal so \u001b[0m\n",
       "\u001b[32mtough\\nMore news\\nMassachusetts Republicans stall funding, again, to shelter the homeless and migrants\\nDefense \u001b[0m\n",
       "\u001b[32mhead calls out those who advocate isolationism and \\u2018an American retreat from responsibility\\u2019\\nFormer prep\u001b[0m\n",
       "\u001b[32mschool teacher going back to prison for incident as camp counselor\\nRacist remarks cited before cannabis \u001b[0m\n",
       "\u001b[32mregulator\\u2019s suspension, court documents say\\nAlabama woman pleads guilty in 2019 baseball bat beating death of\u001b[0m\n",
       "\u001b[32mman found in a barrel\\nWinter weather in Pacific Northwest cuts power to thousands in Seattle, dumps snow on \u001b[0m\n",
       "\u001b[32mCascades\\nGroup of swing state Muslims vows to ditch Biden in 2024 over his war stance\\nFederal judge tosses \u001b[0m\n",
       "\u001b[32mlawsuit alleging environmental racism in St. James Parish\\nSheriff says Alabama family\\u2019s pet \u001b[0m\n",
       "\u001b[32m\\u2018wolf-hybrid\\u2019 killed their 3-month-old boy\\nVermont day care provider convicted of causing infant\\u2019s \u001b[0m\n",
       "\u001b[32mdeath with doses of antihistamine\\nRemington gun factory in operation for nearly 200 years is set to close\\nWest \u001b[0m\n",
       "\u001b[32mVirginia prison inmate indicted on murder charge in missing daughter\\u2019s death\\nBMW recalls SUVs after Takata \u001b[0m\n",
       "\u001b[32mair bag inflator blows apart, hurling shrapnel and injuring driver\\nSend-offs show Carlton Pearson\\u2019s split \u001b[0m\n",
       "\u001b[32mlegacy spurred by his inclusive beliefs, rejection of hell\\nTeen girls are being victimized by deepfake nudes. Four\u001b[0m\n",
       "\u001b[32mare serving today\\nUS Navy plans to raise jet plane off Hawaii coral reef using inflatable cylinders\\nJudge rejects\u001b[0m\n",
       "\u001b[32mcalls to halt winter construction work on Willow oil project in Alaska during appeal\\nUS proposes plan to help the \u001b[0m\n",
       "\u001b[32msnow-dependent Canada lynx before warming shrinks its habitat\\nFormer Colombian military officer accused in base \u001b[0m\n",
       "\u001b[32mbombing extradited to Florida\\nFormer Memphis officer charged in Tyre Nichols\\u2019 death had some violations in \u001b[0m\n",
       "\u001b[32mprior prison guard job\\nNew York could see more legal pot shops after state settles cases that halted \u001b[0m\n",
       "\u001b[32mmarket\\nEx-correctional officer at federal prison in California gets 5 years for sexually abusing inmates\\nMan who \u001b[0m\n",
       "\u001b[32mavoided prosecution as teen in 13-year-old\\u2019s killing found guilty of killing father of 2\\nJury orders egg \u001b[0m\n",
       "\u001b[32msuppliers to pay $17.7 million in damages for price gouging in 2000s\\nMovie armorer in \\u2018Rust\\u2019 fatal \u001b[0m\n",
       "\u001b[32mshooting pleads not guilty to unrelated gun charge\\nWisconsin Senate Democrats choose Hesselbein as new minority \u001b[0m\n",
       "\u001b[32mleader\\nAging dams in central and western Massachusetts to be removed in $25M project\\nCopyright 2023 The \u001b[0m\n",
       "\u001b[32mAssociated Press. One family is pushing for more protections\\nCalifornia sheriff\\u2019s sergeant recovering after \u001b[0m\n",
       "\u001b[32mexchanging gunfire with suspect who was killed\\nTrump and DeSantis are at dueling campaign events in Iowa with the \u001b[0m\n",
       "\u001b[32mcaucuses just six weeks away\\nJustice Sandra Day O\\u2019Connor paved a path for women on the Supreme Court. All \u001b[0m\n",
       "\u001b[32mRights Reserved.\\n\"\u001b[0m\u001b[1m}\u001b[0m, \u001b[1m{\u001b[0m\u001b[32m\"url\"\u001b[0m: \u001b[32m\"https://www.cnn.com/\"\u001b[0m, \u001b[32m\"content\"\u001b[0m: \u001b[32m\"View the latest news and breaking news today for \u001b[0m\n",
       "\u001b[32mU.S., world, weather, entertainment, politics and health at CNN.com.\"\u001b[0m\u001b[1m}\u001b[0m\u001b[1m]\u001b[0m\n"
      ]
     },
     "metadata": {},
     "output_type": "display_data"
    },
    {
     "data": {
      "text/html": [
       "<pre style=\"white-space:pre;overflow-x:auto;line-height:normal;font-family:Menlo,'DejaVu Sans Mono',consolas,'Courier New',monospace\">Assistant: Here's an answer to your original question based on the tool call response:\n",
       "\n",
       "It appears that you're looking for current events. Here are some of the top stories currently trending:\n",
       "\n",
       "* The US government has seen several breaches by Iran-affiliated hackers, with multiple states affected and federal\n",
       "agencies impacted.\n",
       "* A retired Justice Sandra Day O'Connor has passed away at the age of <span style=\"color: #008080; text-decoration-color: #008080; font-weight: bold\">93</span>.\n",
       "* There have been reports of police raids on gay bars in Moscow after a Supreme Court ruling labeled the LGBTQ+ \n",
       "movement as <span style=\"color: #008000; text-decoration-color: #008000\">\"extremist\"</span>.\n",
       "* The US border is experiencing an influx of migrant arrivals, with officials closing a remote Arizona crossing due\n",
       "to the overwhelming number of people.\n",
       "* There have been fatal shootings of homeless people in Los Angeles and Las Vegas, with police searching for \n",
       "suspects in both cases.\n",
       "\n",
       "I hope this information is helpful. Let me know if you have any other questions!\n",
       "</pre>\n"
      ],
      "text/plain": [
       "Assistant: Here's an answer to your original question based on the tool call response:\n",
       "\n",
       "It appears that you're looking for current events. Here are some of the top stories currently trending:\n",
       "\n",
       "* The US government has seen several breaches by Iran-affiliated hackers, with multiple states affected and federal\n",
       "agencies impacted.\n",
       "* A retired Justice Sandra Day O'Connor has passed away at the age of \u001b[1;36m93\u001b[0m.\n",
       "* There have been reports of police raids on gay bars in Moscow after a Supreme Court ruling labeled the LGBTQ+ \n",
       "movement as \u001b[32m\"extremist\"\u001b[0m.\n",
       "* The US border is experiencing an influx of migrant arrivals, with officials closing a remote Arizona crossing due\n",
       "to the overwhelming number of people.\n",
       "* There have been fatal shootings of homeless people in Los Angeles and Las Vegas, with police searching for \n",
       "suspects in both cases.\n",
       "\n",
       "I hope this information is helpful. Let me know if you have any other questions!\n"
      ]
     },
     "metadata": {},
     "output_type": "display_data"
    },
    {
     "name": "stdout",
     "output_type": "stream",
     "text": [
      "Goodbye!\n"
     ]
    }
   ],
   "source": [
    "def stream_graph_updates(user_input: str):\n",
    "    for event in graph.stream({\"messages\": [(\"user\", user_input)]}):\n",
    "        for value in event.values():\n",
    "            pp(\"Assistant:\", value[\"messages\"][-1].content)\n",
    "\n",
    "\n",
    "while True:\n",
    "    try:\n",
    "        user_input = input(\"User: \")\n",
    "        if user_input.lower() in [\"quit\", \"exit\", \"q\"]:\n",
    "            print(\"Goodbye!\")\n",
    "            break\n",
    "\n",
    "        stream_graph_updates(user_input)\n",
    "    except:\n",
    "        # fallback if input() is not available\n",
    "        user_input = \"What do you know about LangGraph?\"\n",
    "        print(\"User: \" + user_input)\n",
    "        stream_graph_updates(user_input)\n",
    "        break"
   ]
  },
  {
   "cell_type": "markdown",
   "id": "98e1cdb5-869a-41ea-9dab-e28cfc524499",
   "metadata": {},
   "source": [
    "**Congratulations!** You've built your first chatbot using LangGraph. This bot can engage in basic conversation by taking user input and generating responses using an LLM. You can inspect a [LangSmith Trace](https://smith.langchain.com/public/7527e308-9502-4894-b347-f34385740d5a/r) for the call above at the provided link.\n",
    "\n",
    "However, you may have noticed that the bot's knowledge is limited to what's in its training data. In the next part, we'll add a web search tool to expand the bot's knowledge and make it more capable.\n",
    "\n",
    "Below is the full code for this section for your reference:\n",
    "\n",
    "<details>\n",
    "<summary>Full Code</summary>\n",
    "    <pre>\n",
    "        \n",
    "```python\n",
    "from typing import Annotated\n",
    "\n",
    "from langchain_anthropic import ChatAnthropic\n",
    "from typing_extensions import TypedDict\n",
    "\n",
    "from langgraph.graph import StateGraph\n",
    "from langgraph.graph.message import add_messages\n",
    "\n",
    "\n",
    "class State(TypedDict):\n",
    "    messages: Annotated[list, add_messages]\n",
    "\n",
    "\n",
    "graph_builder = StateGraph(State)\n",
    "\n",
    "\n",
    "\n",
    "\n",
    "\n",
    "def chatbot(state: State):\n",
    "    return {\"messages\": [llm.invoke(state[\"messages\"])]}\n",
    "\n",
    "\n",
    "# The first argument is the unique node name\n",
    "# The second argument is the function or object that will be called whenever\n",
    "# the node is used.\n",
    "graph_builder.add_node(\"chatbot\", chatbot)\n",
    "graph_builder.set_entry_point(\"chatbot\")\n",
    "graph_builder.set_finish_point(\"chatbot\")\n",
    "graph = graph_builder.compile()\n",
    "```\n",
    "\n",
    "</pre>\n",
    "</details>"
   ]
  },
  {
   "cell_type": "markdown",
   "id": "f22c5d4a-3134-413c-81fe-dd9752fbeb66",
   "metadata": {},
   "source": [
    "## Part 2: 🛠️ Enhancing the Chatbot with Tools\n",
    "\n",
    "To handle queries our chatbot can't answer \"from memory\", we'll integrate a web search tool. Our bot can use this tool to find relevant information and provide better responses.\n",
    "\n",
    "#### Requirements\n",
    "\n",
    "Before we start, make sure you have the necessary packages installed and API keys set up:\n",
    "\n",
    "First, install the requirements to use the [Tavily Search Engine](https://python.langchain.com/docs/integrations/tools/tavily_search/), and set your [TAVILY_API_KEY](https://tavily.com/)."
   ]
  },
  {
   "cell_type": "code",
   "execution_count": 13,
   "id": "7451151f-41fc-4af0-9359-024ae51b7225",
   "metadata": {},
   "outputs": [],
   "source": [
    "%%capture --no-stderr\n",
    "# %pip install -U tavily-python "
   ]
  },
  {
   "cell_type": "code",
   "execution_count": null,
   "id": "0c52923c-5665-4f8c-a1ba-9799e369c49e",
   "metadata": {},
   "outputs": [],
   "source": []
  },
  {
   "cell_type": "markdown",
   "id": "591ce9ba-c431-4165-b815-25c944ef7cdb",
   "metadata": {},
   "source": [
    "Next, define the tool:"
   ]
  },
  {
   "cell_type": "code",
   "execution_count": 17,
   "id": "35c8978e-c07d-4dd0-a97b-0ce3a723eea5",
   "metadata": {},
   "outputs": [
    {
     "data": {
      "text/html": [
       "<pre style=\"white-space:pre;overflow-x:auto;line-height:normal;font-family:Menlo,'DejaVu Sans Mono',consolas,'Courier New',monospace\"><span style=\"font-weight: bold\">[</span>\n",
       "    <span style=\"font-weight: bold\">{</span>\n",
       "        <span style=\"color: #008000; text-decoration-color: #008000\">'url'</span>: <span style=\"color: #008000; text-decoration-color: #008000\">'https://langchain-ai.github.io/langgraph/concepts/low_level/'</span>,\n",
       "        <span style=\"color: #008000; text-decoration-color: #008000\">'content'</span>: <span style=\"color: #008000; text-decoration-color: #008000\">'Nodes¶ In LangGraph, nodes are typically python functions (sync or async) where the first </span>\n",
       "<span style=\"color: #008000; text-decoration-color: #008000\">positional argument is the state, and (optionally), the second positional argument is a \"config\", containing </span>\n",
       "<span style=\"color: #008000; text-decoration-color: #008000\">optional configurable parameters (such as a thread_id). Similar to NetworkX, you add these nodes to a graph using </span>\n",
       "<span style=\"color: #008000; text-decoration-color: #008000\">the add_node method:'</span>\n",
       "    <span style=\"font-weight: bold\">}</span>,\n",
       "    <span style=\"font-weight: bold\">{</span>\n",
       "        <span style=\"color: #008000; text-decoration-color: #008000\">'url'</span>: <span style=\"color: #008000; text-decoration-color: #008000\">'https://medium.com/@cplog/introduction-to-langgraph-a-beginners-guide-14f9be027141'</span>,\n",
       "        <span style=\"color: #008000; text-decoration-color: #008000\">'content'</span>: <span style=\"color: #008000; text-decoration-color: #008000\">'Nodes: Nodes are the building blocks of your LangGraph. Each node represents a function or a </span>\n",
       "<span style=\"color: #008000; text-decoration-color: #008000\">computation step. You define nodes to perform specific tasks, such as processing input, making'</span>\n",
       "    <span style=\"font-weight: bold\">}</span>\n",
       "<span style=\"font-weight: bold\">]</span>\n",
       "</pre>\n"
      ],
      "text/plain": [
       "\u001b[1m[\u001b[0m\n",
       "    \u001b[1m{\u001b[0m\n",
       "        \u001b[32m'url'\u001b[0m: \u001b[32m'https://langchain-ai.github.io/langgraph/concepts/low_level/'\u001b[0m,\n",
       "        \u001b[32m'content'\u001b[0m: \u001b[32m'Nodes¶ In LangGraph, nodes are typically python functions \u001b[0m\u001b[32m(\u001b[0m\u001b[32msync or async\u001b[0m\u001b[32m)\u001b[0m\u001b[32m where the first \u001b[0m\n",
       "\u001b[32mpositional argument is the state, and \u001b[0m\u001b[32m(\u001b[0m\u001b[32moptionally\u001b[0m\u001b[32m)\u001b[0m\u001b[32m, the second positional argument is a \"config\", containing \u001b[0m\n",
       "\u001b[32moptional configurable parameters \u001b[0m\u001b[32m(\u001b[0m\u001b[32msuch as a thread_id\u001b[0m\u001b[32m)\u001b[0m\u001b[32m. Similar to NetworkX, you add these nodes to a graph using \u001b[0m\n",
       "\u001b[32mthe add_node method:'\u001b[0m\n",
       "    \u001b[1m}\u001b[0m,\n",
       "    \u001b[1m{\u001b[0m\n",
       "        \u001b[32m'url'\u001b[0m: \u001b[32m'https://medium.com/@cplog/introduction-to-langgraph-a-beginners-guide-14f9be027141'\u001b[0m,\n",
       "        \u001b[32m'content'\u001b[0m: \u001b[32m'Nodes: Nodes are the building blocks of your LangGraph. Each node represents a function or a \u001b[0m\n",
       "\u001b[32mcomputation step. You define nodes to perform specific tasks, such as processing input, making'\u001b[0m\n",
       "    \u001b[1m}\u001b[0m\n",
       "\u001b[1m]\u001b[0m\n"
      ]
     },
     "metadata": {},
     "output_type": "display_data"
    }
   ],
   "source": [
    "from langchain_community.tools.tavily_search import TavilySearchResults\n",
    "\n",
    "tool = TavilySearchResults(max_results=2)\n",
    "tools = [tool]\n",
    "pp(tool.invoke(\"What's a 'node' in LangGraph?\"))"
   ]
  },
  {
   "cell_type": "markdown",
   "id": "7f503f02-d23d-42e8-9b5d-eb2681b242f4",
   "metadata": {},
   "source": [
    "The results are page summaries our chat bot can use to answer questions.\n",
    "\n",
    "\n",
    "Next, we'll start defining our graph. The following is all **the same as in Part 1**, except we have added `bind_tools` on our LLM. This lets the LLM know the correct JSON format to use if it wants to use our search engine."
   ]
  },
  {
   "cell_type": "code",
   "execution_count": 18,
   "id": "dc5af88b-47d2-43bf-9a2c-6c07506b1732",
   "metadata": {},
   "outputs": [
    {
     "data": {
      "text/plain": [
       "<langgraph.graph.state.StateGraph at 0x114d47310>"
      ]
     },
     "execution_count": 18,
     "metadata": {},
     "output_type": "execute_result"
    }
   ],
   "source": [
    "from typing import Annotated\n",
    "\n",
    "from langchain_anthropic import ChatAnthropic\n",
    "from typing_extensions import TypedDict\n",
    "\n",
    "from langgraph.graph import StateGraph, START, END\n",
    "from langgraph.graph.message import add_messages\n",
    "\n",
    "\n",
    "class State(TypedDict):\n",
    "    messages: Annotated[list, add_messages]\n",
    "\n",
    "\n",
    "graph_builder = StateGraph(State)\n",
    "\n",
    "\n",
    "# Modification: tell the LLM which tools it can call\n",
    "llm_with_tools = llm.bind_tools(tools)\n",
    "\n",
    "\n",
    "def chatbot(state: State):\n",
    "    return {\"messages\": [llm_with_tools.invoke(state[\"messages\"])]}\n",
    "\n",
    "\n",
    "graph_builder.add_node(\"chatbot\", chatbot)"
   ]
  },
  {
   "cell_type": "markdown",
   "id": "d1e84cfc-b1b2-48e3-8550-152a408c3926",
   "metadata": {},
   "source": [
    "Next we need to create a function to actually run the tools if they are called. We'll do this by adding the tools to a new node.\n",
    "\n",
    "Below, we implement a `BasicToolNode` that checks the most recent message in the state and calls tools if the message contains `tool_calls`. It relies on the LLM's `tool_calling` support, which is available in Anthropic, OpenAI, Google Gemini, and a number of other LLM providers.\n",
    "\n",
    "We will later replace this with LangGraph's prebuilt [ToolNode](https://langchain-ai.github.io/langgraph/reference/prebuilt/#toolnode) to speed things up, but building it ourselves first is instructive."
   ]
  },
  {
   "cell_type": "code",
   "execution_count": 19,
   "id": "12f1fc14-cd91-4cd4-9f2e-1d007f8beafc",
   "metadata": {},
   "outputs": [
    {
     "data": {
      "text/plain": [
       "<langgraph.graph.state.StateGraph at 0x114d47310>"
      ]
     },
     "execution_count": 19,
     "metadata": {},
     "output_type": "execute_result"
    }
   ],
   "source": [
    "import json\n",
    "\n",
    "from langchain_core.messages import ToolMessage\n",
    "\n",
    "\n",
    "class BasicToolNode:\n",
    "    \"\"\"A node that runs the tools requested in the last AIMessage.\"\"\"\n",
    "\n",
    "    def __init__(self, tools: list) -> None:\n",
    "        self.tools_by_name = {tool.name: tool for tool in tools}\n",
    "\n",
    "    def __call__(self, inputs: dict):\n",
    "        if messages := inputs.get(\"messages\", []):\n",
    "            message = messages[-1]\n",
    "        else:\n",
    "            raise ValueError(\"No message found in input\")\n",
    "        outputs = []\n",
    "        for tool_call in message.tool_calls:\n",
    "            tool_result = self.tools_by_name[tool_call[\"name\"]].invoke(\n",
    "                tool_call[\"args\"]\n",
    "            )\n",
    "            outputs.append(\n",
    "                ToolMessage(\n",
    "                    content=json.dumps(tool_result),\n",
    "                    name=tool_call[\"name\"],\n",
    "                    tool_call_id=tool_call[\"id\"],\n",
    "                )\n",
    "            )\n",
    "        return {\"messages\": outputs}\n",
    "\n",
    "\n",
    "tool_node = BasicToolNode(tools=[tool])\n",
    "graph_builder.add_node(\"tools\", tool_node)"
   ]
  },
  {
   "cell_type": "markdown",
   "id": "b049afc4-7757-40ba-8e00-589d378e816d",
   "metadata": {},
   "source": [
    "With the tool node added, we can define the `conditional_edges`. \n",
    "\n",
    "Recall that **edges** route the control flow from one node to the next. **Conditional edges** usually contain \"if\" statements to route to different nodes depending on the current graph state. These functions receive the current graph `state` and return a string or list of strings indicating which node(s) to call next.\n",
    "\n",
    "Below, call define a router function called `route_tools`, that checks for tool_calls in the chatbot's output. Provide this function to the graph by calling `add_conditional_edges`, which tells the graph that whenever the `chatbot` node completes to check this function to see where to go next. \n",
    "\n",
    "The condition will route to `tools` if tool calls are present and `END` if not.\n",
    "\n",
    "Later, we will replace this with the prebuilt [tools_condition](https://langchain-ai.github.io/langgraph/reference/prebuilt/#tools_condition) to be more concise, but implementing it ourselves first makes things more clear. "
   ]
  },
  {
   "cell_type": "code",
   "execution_count": 20,
   "id": "d662df94-66ac-4c6c-92f0-4c93620f1c74",
   "metadata": {},
   "outputs": [],
   "source": [
    "def route_tools(\n",
    "    state: State,\n",
    "):\n",
    "    \"\"\"\n",
    "    Use in the conditional_edge to route to the ToolNode if the last message\n",
    "    has tool calls. Otherwise, route to the end.\n",
    "    \"\"\"\n",
    "    if isinstance(state, list):\n",
    "        ai_message = state[-1]\n",
    "    elif messages := state.get(\"messages\", []):\n",
    "        ai_message = messages[-1]\n",
    "    else:\n",
    "        raise ValueError(f\"No messages found in input state to tool_edge: {state}\")\n",
    "    if hasattr(ai_message, \"tool_calls\") and len(ai_message.tool_calls) > 0:\n",
    "        return \"tools\"\n",
    "    return END\n",
    "\n",
    "\n",
    "# The `tools_condition` function returns \"tools\" if the chatbot asks to use a tool, and \"END\" if\n",
    "# it is fine directly responding. This conditional routing defines the main agent loop.\n",
    "graph_builder.add_conditional_edges(\n",
    "    \"chatbot\",\n",
    "    route_tools,\n",
    "    # The following dictionary lets you tell the graph to interpret the condition's outputs as a specific node\n",
    "    # It defaults to the identity function, but if you\n",
    "    # want to use a node named something else apart from \"tools\",\n",
    "    # You can update the value of the dictionary to something else\n",
    "    # e.g., \"tools\": \"my_tools\"\n",
    "    {\"tools\": \"tools\", END: END},\n",
    ")\n",
    "# Any time a tool is called, we return to the chatbot to decide the next step\n",
    "graph_builder.add_edge(\"tools\", \"chatbot\")\n",
    "graph_builder.add_edge(START, \"chatbot\")\n",
    "graph = graph_builder.compile()"
   ]
  },
  {
   "cell_type": "markdown",
   "id": "a2aa67c2-dd1b-4bf2-8c64-eea44296d15f",
   "metadata": {},
   "source": [
    "**Notice** that conditional edges start from a single node. This tells the graph \"any time the '`chatbot`' node runs, either go to 'tools' if it calls a tool, or end the loop if it responds directly. \n",
    "\n",
    "Like the prebuilt `tools_condition`, our function returns the `END` string if no tool calls are made. When the graph transitions to `END`, it has no more tasks to complete and ceases execution. Because the condition can return `END`, we don't need to explicitly set a `finish_point` this time. Our graph already has a way to finish!\n",
    "\n",
    "Let's visualize the graph we've built. The following function has some additional dependencies to run that are unimportant for this tutorial."
   ]
  },
  {
   "cell_type": "code",
   "execution_count": 21,
   "id": "8b49509c-9d97-457c-a76a-c495fb30ccbc",
   "metadata": {},
   "outputs": [
    {
     "data": {
      "image/png": "[encoded data removed]",
      "text/plain": [
       "<IPython.core.display.Image object>"
      ]
     },
     "metadata": {},
     "output_type": "display_data"
    }
   ],
   "source": [
    "from IPython.display import Image, display\n",
    "\n",
    "try:\n",
    "    display(Image(graph.get_graph().draw_mermaid_png()))\n",
    "except Exception:\n",
    "    # This requires some extra dependencies and is optional\n",
    "    pass"
   ]
  },
  {
   "cell_type": "markdown",
   "id": "c59593ef-5073-4279-931e-828dae971f23",
   "metadata": {},
   "source": [
    "Now we can ask the bot questions outside its training data."
   ]
  },
  {
   "cell_type": "code",
   "execution_count": 26,
   "id": "051dc374-67cc-4371-9dd1-221e07593148",
   "metadata": {},
   "outputs": [
    {
     "data": {
      "text/html": [
       "<pre style=\"white-space:pre;overflow-x:auto;line-height:normal;font-family:Menlo,'DejaVu Sans Mono',consolas,'Courier New',monospace\">Assistant: \n",
       "</pre>\n"
      ],
      "text/plain": [
       "Assistant: \n"
      ]
     },
     "metadata": {},
     "output_type": "display_data"
    },
    {
     "data": {
      "text/html": [
       "<pre style=\"white-space:pre;overflow-x:auto;line-height:normal;font-family:Menlo,'DejaVu Sans Mono',consolas,'Courier New',monospace\">Assistant: <span style=\"font-weight: bold\">[{</span><span style=\"color: #008000; text-decoration-color: #008000\">\"url\"</span>: <span style=\"color: #008000; text-decoration-color: #008000\">\"https://www.cnn.com/\"</span>, <span style=\"color: #008000; text-decoration-color: #008000\">\"content\"</span>: <span style=\"color: #008000; text-decoration-color: #008000\">\"View the latest news and breaking news today for U.S., </span>\n",
       "<span style=\"color: #008000; text-decoration-color: #008000\">world, weather, entertainment, politics and health at CNN.com.\"</span><span style=\"font-weight: bold\">}</span>, <span style=\"font-weight: bold\">{</span><span style=\"color: #008000; text-decoration-color: #008000\">\"url\"</span>: <span style=\"color: #008000; text-decoration-color: #008000\">\"https://www.npr.org/sections/news/\"</span>, \n",
       "<span style=\"color: #008000; text-decoration-color: #008000\">\"content\"</span>: <span style=\"color: #008000; text-decoration-color: #008000\">\"NPR news, audio, and podcasts. Coverage of breaking stories, national and world news, politics, </span>\n",
       "<span style=\"color: #008000; text-decoration-color: #008000\">business, science, technology, and extended coverage of major national and world events.\"</span><span style=\"font-weight: bold\">}]</span>\n",
       "</pre>\n"
      ],
      "text/plain": [
       "Assistant: \u001b[1m[\u001b[0m\u001b[1m{\u001b[0m\u001b[32m\"url\"\u001b[0m: \u001b[32m\"https://www.cnn.com/\"\u001b[0m, \u001b[32m\"content\"\u001b[0m: \u001b[32m\"View the latest news and breaking news today for U.S., \u001b[0m\n",
       "\u001b[32mworld, weather, entertainment, politics and health at CNN.com.\"\u001b[0m\u001b[1m}\u001b[0m, \u001b[1m{\u001b[0m\u001b[32m\"url\"\u001b[0m: \u001b[32m\"https://www.npr.org/sections/news/\"\u001b[0m, \n",
       "\u001b[32m\"content\"\u001b[0m: \u001b[32m\"NPR news, audio, and podcasts. Coverage of breaking stories, national and world news, politics, \u001b[0m\n",
       "\u001b[32mbusiness, science, technology, and extended coverage of major national and world events.\"\u001b[0m\u001b[1m}\u001b[0m\u001b[1m]\u001b[0m\n"
      ]
     },
     "metadata": {},
     "output_type": "display_data"
    },
    {
     "data": {
      "text/html": [
       "<pre style=\"white-space:pre;overflow-x:auto;line-height:normal;font-family:Menlo,'DejaVu Sans Mono',consolas,'Courier New',monospace\">Assistant: Here are some current events you can check out:\n",
       "\n",
       "* You can stay up-to-date on the latest news and breaking news from around the world by visiting CNN at \n",
       "<span style=\"color: #0000ff; text-decoration-color: #0000ff; text-decoration: underline\">https://www.cnn.com/.</span>\n",
       "* For in-depth coverage of national and world news, politics, business, science, technology, and more, head over to\n",
       "NPR at <span style=\"color: #0000ff; text-decoration-color: #0000ff; text-decoration: underline\">https://www.npr.org/.</span>\n",
       "</pre>\n"
      ],
      "text/plain": [
       "Assistant: Here are some current events you can check out:\n",
       "\n",
       "* You can stay up-to-date on the latest news and breaking news from around the world by visiting CNN at \n",
       "\u001b[4;94mhttps://www.cnn.com/.\u001b[0m\n",
       "* For in-depth coverage of national and world news, politics, business, science, technology, and more, head over to\n",
       "NPR at \u001b[4;94mhttps://www.npr.org/.\u001b[0m\n"
      ]
     },
     "metadata": {},
     "output_type": "display_data"
    },
    {
     "name": "stdout",
     "output_type": "stream",
     "text": [
      "Goodbye!\n"
     ]
    }
   ],
   "source": [
    "while True:\n",
    "    try:\n",
    "        user_input = input(\"User: \")\n",
    "        if user_input.lower() in [\"quit\", \"exit\", \"q\"]:\n",
    "            print(\"Goodbye!\")\n",
    "            break\n",
    "\n",
    "        stream_graph_updates(user_input)\n",
    "    except:\n",
    "        # fallback if input() is not available\n",
    "        user_input = \"What do you know about LangGraph?\"\n",
    "        print(\"User: \" + user_input)\n",
    "        stream_graph_updates(user_input)\n",
    "        break"
   ]
  },
  {
   "cell_type": "markdown",
   "id": "89da9e85-2e5d-49c2-8cbd-572cbdb89135",
   "metadata": {},
   "source": [
    "**Congrats!** You've created a conversational agent in langgraph that can use a search engine to retrieve updated information when needed. Now it can handle a wider range of user queries. To inspect all the steps your agent just took, check out this [LangSmith trace](https://smith.langchain.com/public/4fbd7636-25af-4638-9587-5a02fdbb0172/r).\n",
    "\n",
    "Our chatbot still can't remember past interactions on its own, limiting its ability to have coherent, multi-turn conversations. In the next part, we'll add **memory** to address this.\n",
    "\n",
    "\n",
    "The full code for the graph we've created in this section is reproduced below, replacing our `BasicToolNode` for the prebuilt [ToolNode](https://langchain-ai.github.io/langgraph/reference/prebuilt/#toolnode), and our `route_tools` condition with the prebuilt [tools_condition](https://langchain-ai.github.io/langgraph/reference/prebuilt/#tools_condition)\n"
   ]
  },
  {
   "cell_type": "markdown",
   "id": "ae45f2aa-396f-4f3f-848b-7750611617f8",
   "metadata": {},
   "source": [
    "## Part 3: Adding Memory to the Chatbot\n",
    "\n",
    "Our chatbot can now use tools to answer user questions, but it doesn't remember the context of previous interactions. This limits its ability to have coherent, multi-turn conversations.\n",
    "\n",
    "LangGraph solves this problem through **persistent checkpointing**. If you provide a `checkpointer` when compiling the graph and a `thread_id` when calling your graph, LangGraph automatically saves the state after each step. When you invoke the graph again using the same `thread_id`, the graph loads its saved state, allowing the chatbot to pick up where it left off. \n",
    "\n",
    "We will see later that **checkpointing** is _much_ more powerful than simple chat memory - it lets you save and resume complex state at any time for error recovery, human-in-the-loop workflows, time travel interactions, and more. But before we get too ahead of ourselves, let's add checkpointing to enable multi-turn conversations.\n",
    "\n",
    "To get started, create a `MemorySaver` checkpointer."
   ]
  },
  {
   "cell_type": "code",
   "execution_count": 27,
   "id": "6baafdf6-6803-4305-9381-9dc970468a4d",
   "metadata": {},
   "outputs": [],
   "source": [
    "from langgraph.checkpoint.memory import MemorySaver\n",
    "\n",
    "memory = MemorySaver()"
   ]
  },
  {
   "cell_type": "markdown",
   "id": "08d3d11a-1b42-4cbb-8e11-2a4294263d90",
   "metadata": {},
   "source": [
    "**Notice** we're using an in-memory checkpointer. This is convenient for our tutorial (it saves it all in-memory). In a production application, you would likely change this to use `SqliteSaver` or `PostgresSaver` and connect to your own DB.\n",
    "\n",
    "Next define the graph. Now that you've already built your own `BasicToolNode`, we'll replace it with LangGraph's prebuilt `ToolNode` and `tools_condition`, since these do some nice things like parallel API execution. Apart from that, the following is all copied from Part 2."
   ]
  },
  {
   "cell_type": "code",
   "execution_count": 33,
   "id": "e6a51f1e-00de-4701-8931-de8cf19294ae",
   "metadata": {},
   "outputs": [
    {
     "data": {
      "text/plain": [
       "<langgraph.graph.state.StateGraph at 0x120769450>"
      ]
     },
     "execution_count": 33,
     "metadata": {},
     "output_type": "execute_result"
    }
   ],
   "source": [
    "from typing import Annotated\n",
    "\n",
    "from langchain_anthropic import ChatAnthropic\n",
    "from langchain_community.tools.tavily_search import TavilySearchResults\n",
    "from langchain_core.messages import BaseMessage\n",
    "from typing_extensions import TypedDict\n",
    "\n",
    "from langgraph.graph import StateGraph, START, END\n",
    "from langgraph.graph.message import add_messages\n",
    "from langgraph.prebuilt import ToolNode, tools_condition\n",
    "from langchain_ollama import ChatOllama, OllamaEmbeddings\n",
    "\n",
    "llm = ChatOllama(model='llama3.2', temperature=0.3)\n",
    "embeddings = OllamaEmbeddings(model='snowflake-arctic-embed:33m')\n",
    "\n",
    "\n",
    "class State(TypedDict):\n",
    "    messages: Annotated[list, add_messages]\n",
    "\n",
    "\n",
    "graph_builder = StateGraph(State)\n",
    "\n",
    "\n",
    "tool = TavilySearchResults(max_results=2)\n",
    "tools = [tool]\n",
    "llm_with_tools = llm.bind_tools(tools)\n",
    "\n",
    "\n",
    "def chatbot(state: State):\n",
    "    return {\"messages\": [llm_with_tools.invoke(state[\"messages\"])]}\n",
    "\n",
    "\n",
    "graph_builder.add_node(\"chatbot\", chatbot)\n",
    "\n",
    "tool_node = ToolNode(tools=[tool])\n",
    "graph_builder.add_node(\"tools\", tool_node)\n",
    "\n",
    "graph_builder.add_conditional_edges(\n",
    "    \"chatbot\",\n",
    "    tools_condition,\n",
    ")\n",
    "# Any time a tool is called, we return to the chatbot to decide the next step\n",
    "graph_builder.add_edge(\"tools\", \"chatbot\")\n",
    "graph_builder.add_edge(START, \"chatbot\")"
   ]
  },
  {
   "cell_type": "markdown",
   "id": "8a292dfe-764f-4561-90aa-71317d679d3e",
   "metadata": {},
   "source": [
    "Finally, compile the graph with the provided checkpointer."
   ]
  },
  {
   "cell_type": "code",
   "execution_count": 34,
   "id": "a06548bf-81fa-4436-b4c1-f68601fb4187",
   "metadata": {},
   "outputs": [],
   "source": [
    "graph = graph_builder.compile(checkpointer=memory)"
   ]
  },
  {
   "cell_type": "markdown",
   "id": "df01805c-4458-4474-b13b-59ecfe228f12",
   "metadata": {},
   "source": [
    "Notice the connectivity of the graph hasn't changed since Part 2. All we are doing is checkpointing the `State` as the graph works through each node."
   ]
  },
  {
   "cell_type": "code",
   "execution_count": 35,
   "id": "761d15fb-d5e2-4d50-a630-126d77e77294",
   "metadata": {},
   "outputs": [
    {
     "data": {
      "image/png": "[encoded data removed]",
      "text/plain": [
       "<IPython.core.display.Image object>"
      ]
     },
     "metadata": {},
     "output_type": "display_data"
    }
   ],
   "source": [
    "from IPython.display import Image, display\n",
    "\n",
    "try:\n",
    "    display(Image(graph.get_graph().draw_mermaid_png()))\n",
    "except Exception:\n",
    "    # This requires some extra dependencies and is optional\n",
    "    pass"
   ]
  },
  {
   "cell_type": "markdown",
   "id": "2c8265ef-e5b4-4c32-9856-5572b5652142",
   "metadata": {},
   "source": [
    "Now you can interact with your bot! First, pick a thread to use as the key for this conversation."
   ]
  },
  {
   "cell_type": "code",
   "execution_count": 36,
   "id": "be7b5abb-04ef-4d53-83d1-d4d3139cc43a",
   "metadata": {},
   "outputs": [],
   "source": [
    "config = {\"configurable\": {\"thread_id\": \"1\"}}"
   ]
  },
  {
   "cell_type": "markdown",
   "id": "d0b1a5ee-7fa2-475c-a9db-749694b90ba9",
   "metadata": {},
   "source": [
    "Next, call your chat bot."
   ]
  },
  {
   "cell_type": "code",
   "execution_count": 37,
   "id": "dba1b168-f8e0-496d-9bd6-37198fb4776e",
   "metadata": {},
   "outputs": [
    {
     "name": "stdout",
     "output_type": "stream",
     "text": [
      "================================\u001b[1m Human Message \u001b[0m=================================\n",
      "\n",
      "Hi there! My name is Will.\n",
      "==================================\u001b[1m Ai Message \u001b[0m==================================\n",
      "Tool Calls:\n",
      "  tavily_search_results_json (43ce506d-d0cf-4154-bba5-3598646bfc22)\n",
      " Call ID: 43ce506d-d0cf-4154-bba5-3598646bfc22\n",
      "  Args:\n",
      "    query: current events news\n",
      "=================================\u001b[1m Tool Message \u001b[0m=================================\n",
      "Name: tavily_search_results_json\n",
      "\n",
      "[{\"url\": \"https://apnews.com/\", \"content\": \"[![Image 3: Image](https://dims.apnews.com/dims4/default/dbbfca1/2147483647/strip/true/crop/2949x1964+0+368/resize/599x399!/quality/90/?url=https%3A%2F%2Fassets.apnews.com%2Fe8%2F0a%2Fc377af5f961e0128e91ba2d36dc4%2F4f91966abf024d799157d474fdbd0aea)](https://apnews.com/article/trump-trolling-canada-jill-biden-trudeau-39ecae6554c7b4350e6a106354672eb4) [![Image 4: Image](https://dims.apnews.com/dims4/default/78686e1/2147483647/strip/true/crop/6000x3997+0+2/resize/599x399!/quality/90/?url=https%3A%2F%2Fassets.apnews.com%2F55%2F26%2F09fa12ce1edbded24a1bdefc4a51%2Fa2601074f03248cdab2d041f3a626cbc)](https://apnews.com/article/syria-israel-airstrike-assad-war-b90edb8dbe8268dacf90e59ca601e2e3) [![Image 5: Image](https://dims.apnews.com/dims4/default/e588d90/2147483647/strip/true/crop/4032x2686+0+169/resize/599x399!/quality/90/?url=https%3A%2F%2Fassets.apnews.com%2Ff9%2F96%2F15aa6e41881b7ae9693c3f7edb87%2Fa95369e50d864a3dbca1a33f28f6dbe1)](https://apnews.com/article/migrant-health-care-dreamers-lawsuit-504c8f05b3d93538cb7292318c267441) [![Image 6: Image](https://dims.apnews.com/dims4/default/f49d8f1/2147483647/strip/true/crop/5301x3531+0+2/resize/599x399!/quality/90/?url=https%3A%2F%2Fassets.apnews.com%2F4b%2Fd0%2Fd9c6f22eb322668f8259364deee8%2Fbffc615f4ead41809a2b3a78d29bd8eb)](https://apnews.com/article/monarch-butterflies-endangered-species-climate-habitat-f5d4844289ede7b3d76918cc6f98a5cc) [![Image 12: Image](https://dims.apnews.com/dims4/default/dec17c1/2147483647/strip/true/crop/3000x1998+0+1/resize/599x399!/quality/90/?url=https%3A%2F%2Fassets.apnews.com%2F94%2F6d%2F5f84a76d9f279a512cd56e998989%2F0ec3c08087484de1816a01e9c9c2ffb0)](https://apnews.com/article/wildfire-malibu-evacuation-pepperdine-university-ef9f6ea11815be64feaf2e5e5eb7588c) [![Image 13: Image](https://dims.apnews.com/dims4/default/b5cf736/2147483647/strip/true/crop/8640x5755+0+2/resize/599x399!/quality/90/?url=https%3A%2F%2Fassets.apnews.com%2F06%2Fc3%2Fd6f2099324fea0bd0493f0c92c37%2F4178cf4001c4494898732f464b5bbf27)](https://apnews.com/article/biden-trump-economy-stupid-jobs-inflation-cde78b58c6b4ccbcb7ce237f741e06a6) [![Image 14: Image](https://dims.apnews.com/dims4/default/259b976/2147483647/strip/true/crop/3000x2000+0+0/resize/567x378!/quality/90/?url=https%3A%2F%2Fassets.apnews.com%2Fa2%2Ff4%2F0ceaf87a1d3c3410b4cba722aaef%2Fe3ff477aa750430e8fea9fe137e61dc3)](https://apnews.com/article/christopher-nolan-interstellar-rerelease-interview-bd7f4de84525062fb0d0e89a7fe6ea92) [![Image 15: Image](https://dims.apnews.com/dims4/default/61ffd0e/2147483647/strip/true/crop/4740x3157+0+1/resize/599x399!/quality/90/?url=https%3A%2F%2Fassets.apnews.com%2F0b%2Fc7%2Fcd3aa4ad63e7850000a45462a828%2F2d899e6be47b450587a7f40fad9e2e1c)](https://apnews.com/article/south-africa-car-road-crash-accident-2f063819764ae42cd4c8ffd5c76e4c6d) [![Image 18: Image](https://dims.apnews.com/dims4/default/9fdd823/2147483647/strip/true/crop/2300x1532+0+1/resize/599x399!/quality/90/?url=https%3A%2F%2Fassets.apnews.com%2Fc0%2F26%2F15202742a43c06c94c553c2008d9%2F9a08766502ac4a7ca356980292b406ba)](https://apnews.com/article/scrim-new-orleans-fugitive-dog-6fdddcb2cb694981f50f4c25ecfab655) [![Image 20: Image](https://dims.apnews.com/dims4/default/24d5169/2147483647/strip/true/crop/4667x3109+0+1/resize/599x399!/quality/90/?url=https%3A%2F%2Fassets.apnews.com%2Fd0%2Ff2%2F38f75b20e51bb3f3840e1386eb93%2F568053ca409f4c4db5a00c4868fbf7e5)](https://apnews.com/associated-press-100-photos-of-2024-an-epic-catalog-of-humanity) [![Image 21: Image](https://dims.apnews.com/dims4/default/0f779f2/2147483647/strip/true/crop/5819x3876+0+1/resize/599x399!/quality/90/?url=https%3A%2F%2Fassets.apnews.com%2Ffb%2F33%2F4cf11414c7dc0669cad5790c54c9%2Fccf3d40bbfe64a268dae81b2f9b31731)](https://apnews.com/world-news/general-news-1637ffe66255f7048734759ec6bd99e9) [![Image 22: Image](https://dims.apnews.com/dims4/default/2233dae/2147483647/strip/true/crop/5561x3707+0+2/resize/567x378!/quality/90/?url=https%3A%2F%2Fassets.apnews.com%2F9e%2F1e%2Ff8ed9ac2b8080a2bcbde719e6f26%2F43efeab456df437dab2aae52577dfc83)](https://apnews.com/article/france-paris-notre-dame-carpenter-fire-catholic-ea516112b8393a795cd97b6abe5ef4e3) [![Image 23: Image](https://dims.apnews.com/dims4/default/6a5602a/2147483647/strip/true/crop/3000x1998+0+1/resize/599x399!/quality/90/?url=https%3A%2F%2Fassets.apnews.com%2Fb3%2Fef%2Ffadb8b20993381c75377bcfb2279%2F7ac65958f4e6456d87fabb1c5d3166dc)](https://apnews.com/article/buddhism-interfaith-new-jersey-spirituality-ecce3b0d5569e0497c47c92eb57f9abc) [![Image 25: Image](https://dims.apnews.com/dims4/default/103e6fa/2147483647/strip/true/crop/4381x2918+0+1/resize/599x399!/quality/90/?url=https%3A%2F%2Fassets.apnews.com%2F4f%2F1f%2Fc8879ab3242b4d8d39cdb6884eb0%2Fa550497041f84c2c80354e985404803b)](https://apnews.com/world-news/taylor-swift-general-news-domestic-news-add8d87cc892eac2838c51812ea032de) [![Image 26: Image](https://dims.apnews.com/dims4/default/db4c05c/2147483647/strip/true/crop/5500x3664+0+52/resize/599x399!/quality/90/?url=https%3A%2F%2Fassets.apnews.com%2Fb1%2F7b%2F62f6a74c6e33b81ed1f34dea89d6%2Fb0be2be6db014cfcbd9babff7f661d92)](https://apnews.com/article/notre-dame-cathedral-reopening-fire-paris-28cf9686d7d48dce0c046ca9e46f3e99) [![Image 69: Image](https://dims.apnews.com/dims4/default/dd0f3ed/2147483647/strip/true/crop/3072x2046+0+1/resize/599x399!/quality/90/?url=https%3A%2F%2Fassets.apnews.com%2F72%2Fe0%2F21056d49f768745cf7c7c2a4a517%2Fa3d9ef07c1c9475c8834ac5ec8a55297)](https://apnews.com/article/romania-ukraine-draft-cat-rescue-mountain-war-8e57bc8b07a2ec80ea16ca9cd09450b3) [![Image 78: Image](https://dims.apnews.com/dims4/default/6a231c6/2147483647/strip/true/crop/5616x3741+0+2/resize/599x399!/quality/90/?url=https%3A%2F%2Fassets.apnews.com%2F2e%2F97%2Fa1b23b3f7b859b296f2fd76e90a5%2F464a3abd0577440794bdcb70e41f9274)](https://apnews.com/article/trump-paris-notre-dame-f97fde62ca2ce68c3874c395b305e26b) [![Image 80: Image](https://dims.apnews.com/dims4/default/83b446e/2147483647/strip/true/crop/6000x3997+0+2/resize/599x399!/quality/90/?url=https%3A%2F%2Fassets.apnews.com%2F8e%2F09%2F243684f1b3e6b5cde4701ceda6ff%2F65c76be267b04d0395f7ed1c35849a14)](https://apnews.com/article/syria-assad-ousted-rebel-offensive-timeline-8c54a8b97803d4b10cde53b97227128e) [![Image 81: Image](https://dims.apnews.com/dims4/default/8017fc1/2147483647/strip/true/crop/7185x4786+0+86/resize/599x399!/quality/90/?url=https%3A%2F%2Fassets.apnews.com%2Ff1%2F7e%2Fe1e5508484de218a863d8ecd9fad%2Fb34a7af614a24239b810eb78f2e478cf)](https://apnews.com/article/trump-ukraine-military-aid-russia-biden-efbcff8ed068e621055e8fa70b5905e1) [![Image 82: Image](https://dims.apnews.com/dims4/default/b1034b5/2147483647/strip/true/crop/8640x5755+0+2/resize/599x399!/quality/90/?url=https%3A%2F%2Fassets.apnews.com%2Fd6%2Fdd%2F0d1721473c6d61befedc97c7a426%2F2cdc242c49684c10a61fe1d24cd69d87)](https://apnews.com/article/russia-oreshnik-hypersonic-missile-putin-ukraine-war-345588a399158b9eb0b56990b8149bd9) [![Image 83: Image](https://dims.apnews.com/dims4/default/90facc9/2147483647/strip/true/crop/5081x3385+0+1/resize/599x399!/quality/90/?url=https%3A%2F%2Fassets.apnews.com%2F10%2F1f%2Fe69ad0b2a8e0010f4861f097d29e%2F5ad8c5d8d16d40d7a191dc549183afeb)](https://apnews.com/article/russia-ukraine-war-zelenskyy-troops-nato-9bf883670879e2a398fe1a7ebfb71ddb) [![Image 84: Image](https://dims.apnews.com/dims4/default/05046b2/2147483647/strip/true/crop/2045x1362+0+44/resize/599x399!/quality/90/?url=https%3A%2F%2Fassets.apnews.com%2Faf%2Fcc%2F1e4d32c41e0865d25a1eecbad0ef%2F418d96657c1f4cfba849d77a7361730c)](https://apnews.com/article/russia-putin-syria-assad-ukraine-war-31fa9b933372b3704ed285c96863892b) [![Image 85: Image](https://dims.apnews.com/dims4/default/3ea7e0c/2147483647/strip/true/crop/6000x3997+0+2/resize/599x399!/quality/90/?url=https%3A%2F%2Fassets.apnews.com%2F00%2Fd8%2Fb87667ac757b9ca481770ab152e6%2Fb6057e099a8241db9ae4ab336a5dc2c2)](https://apnews.com/article/tulsi-gabbard-hegseth-kash-patel-trump-syria-44d0150e7d251946b60fc7f6799c4a74) [![Image 88: Image](https://dims.apnews.com/dims4/default/41f81a5/2147483647/strip/true/crop/1919x1278+1+0/resize/599x399!/quality/90/?url=https%3A%2F%2Fassets.apnews.com%2F1c%2F12%2F6070e8327115344c7edba999d799%2Fda417d733523484caa3f22d29858c0ec)](https://apnews.com/article/secret-santa-stress-holiday-gift-guide-d5a907bd8aa1b0b1ebf1e04bba9fe89c) [![Image 89: Image](https://dims.apnews.com/dims4/default/3c8b8e5/2147483647/strip/true/crop/5184x3453+0+1/resize/599x399!/quality/90/?url=https%3A%2F%2Fassets.apnews.com%2Faf%2Fc1%2F5ef68e3d35cc53e50da760ec39eb%2F44fd1bff50d44b6d891d67e9921dd91d)](https://apnews.com/article/november-project-exercise-social-fitness-winter-fc55e4aefbd003f999aafec15fe25a0e) [![Image 90: Image](https://dims.apnews.com/dims4/default/8c75a98/2147483647/strip/true/crop/8184x5451+0+2/resize/599x399!/quality/90/?url=https%3A%2F%2Fassets.apnews.com%2Fd1%2F43%2Fa03aa410da12d72c007f4e04dbe1%2Fe02494da5ee04e49bea36e5877aed408)](https://apnews.com/article/personal-trainer-exercise-workout-c94f4f6625d2d6a5a77537946d1518b5) [![Image 91: Image](https://dims.apnews.com/dims4/default/3fc5125/2147483647/strip/true/crop/4479x2984+0+1/resize/599x399!/quality/90/?url=https%3A%2F%2Fassets.apnews.com%2F62%2Fcf%2F564ba47875ce1cfd0bbb3b9fe958%2F1fe0aa9456ed4952a6ef4843535f8bde)](https://apnews.com/article/travel-stress-holiday-tips-db5e5d819b6251bd415a9ad204baa03a) [![Image 92: Image](https://dims.apnews.com/dims4/default/1318d6e/2147483647/strip/true/crop/1620x1079+0+0/resize/599x399!/quality/90/?url=https%3A%2F%2Fassets.apnews.com%2F0c%2F15%2F420caf3cf8f2efbc44b839ea596d%2Fee43d974cece47e09f8f324cd708f6d1)](https://apnews.com/article/work-life-stress-reduction-breathing-techniques-8c0636a09d605ef0c56e529e8be0f2f9) [![Image 97: Image](https://dims.apnews.com/dims4/default/74e65c3/2147483647/strip/true/crop/5993x3992+3+0/resize/599x399!/quality/90/?url=https%3A%2F%2Fassets.apnews.com%2F33%2F73%2F083534678639c949767e0353e020%2F1e147b6dd9aa48648288cc20279edc52)](https://apnews.com/article/ap-top-asia-photos-of-2024-e071bc96deed1052511a53e0e1cc61f9) [![Image 98: Image](https://dims.apnews.com/dims4/default/d1a96d7/2147483647/strip/true/crop/2829x1884+0+1/resize/599x399!/quality/90/?url=https%3A%2F%2Fassets.apnews.com%2Ff2%2F0e%2F6a3787430fbc823f8900f7e6ab52%2Ff8bf616f86284cad9e448061cfc929c9)](https://apnews.com/article/argentina-milei-trump-musk-default-economy-inflation-libertarian-18efe55d81df459792a038ea9e321800) [![Image 99: Image](https://dims.apnews.com/dims4/default/0f779f2/2147483647/strip/true/crop/5819x3876+0+1/resize/599x399!/quality/90/?url=https%3A%2F%2Fassets.apnews.com%2Ffb%2F33%2F4cf11414c7dc0669cad5790c54c9%2Fccf3d40bbfe64a268dae81b2f9b31731)](https://apnews.com/article/ap-sports-photos-of-year-d07f4a6c90716b4e5e46df43cea695e8) [![Image 101: Image](https://dims.apnews.com/dims4/default/df0270d/2147483647/strip/true/crop/6000x4000+0+0/resize/567x378!/quality/90/?url=https%3A%2F%2Fassets.apnews.com%2Fc3%2Fe4%2F7da2e99ba0a57a0bff843a3c04f8%2Fa5584bf0667343f78c019f2f35b56868)](https://apnews.com/article/germany-syria-refugees-asylum-future-ab24be8f2ffef4e118ed12a4b0df110f) [![Image 102: Image](https://dims.apnews.com/dims4/default/6fe020a/2147483647/strip/true/crop/5025x3347+0+1/resize/599x399!/quality/90/?url=https%3A%2F%2Fassets.apnews.com%2F50%2F3d%2Ffd28cebf15c3665f091349a5f7e0%2F1650cbfb41ee4e2194210bb4e8bf8ba0)](https://apnews.com/article/israel-netanyahu-corruption-trial-gaza-478c957c7749986d5b8b2d039f670d54) [![Image 103: Image](https://dims.apnews.com/dims4/default/26a7204/2147483647/strip/true/crop/3900x2598+0+2/resize/599x399!/quality/90/?url=https%3A%2F%2Fassets.apnews.com%2F8a%2F3c%2Fa6ff0ab1b0276a935bf063ee888d%2Fa05f1c5fd3514f569aee18054cc5a6e9)](https://apnews.com/article/ukraine-war-poland-tusk-negotiations-russia-eu-23802e5b26f5c0c1d45a32e9cc80f362) [![Image 107: Image](https://dims.apnews.com/dims4/default/c8ba91c/2147483647/strip/true/crop/4032x2688+0+0/resize/567x378!/quality/90/?url=https%3A%2F%2Fassets.apnews.com%2F30%2Fc2%2F821b7e6e01f117fea2b2b1e4be05%2Fa4e7f61cd4f846488e769fc42692a476)](https://apnews.com/article/congo-world-heritage-site-gold-mining-china-5e9499fd939c3c2d798a6165f3fc487b) [![Image 110: Image](https://dims.apnews.com/dims4/default/0ceb174/2147483647/strip/true/crop/4796x3195+0+1/resize/599x399!/quality/90/?url=https%3A%2F%2Fassets.apnews.com%2Fac%2F7f%2F5466595a879ca2d404379f4b8310%2Fad89b32dd88b4dcd8f005b757f1c624e)](https://apnews.com/article/climate-change-november-hottest-year-record-d1f41a2c7341c006f051ad321915d89c) [![Image 111: Image](https://dims.apnews.com/dims4/default/041f239/2147483647/strip/true/crop/6871x4577+0+2/resize/599x399!/quality/90/?url=https%3A%2F%2Fassets.apnews.com%2F21%2F3e%2F10d5b4943d3c79f80cf6c410519c%2F715b29407d0a4dbca2e3b035f924e1ad)](https://apnews.com/article/deadly-heat-humidity-mexico-climate-change-2e8db903deabd015f608e45204a19bf0) [![Image 113: Image](https://dims.apnews.com/dims4/default/44c34bd/2147483647/strip/true/crop/3368x2243+0+139/resize/599x399!/quality/90/?url=https%3A%2F%2Fassets.apnews.com%2F49%2F08%2F669217d7f9d734a85f4dadd01274%2F3f91221b4d87434789bbf4e34bc32ac3)](https://apnews.com/article/trump-energy-permitting-reform-drilling-billion-investment-dd99706a325082cdf475e599ec3c0687) [![Image 114: Image](https://dims.apnews.com/dims4/default/bcd5cd4/2147483647/strip/true/crop/5572x3712+0+2/resize/599x399!/quality/90/?url=https%3A%2F%2Fassets.apnews.com%2F90%2F3a%2F54e9a82c765fa74d587bf2041f6a%2Fbd09b6cd0ee84c57bfe484c73799a8cb)](https://apnews.com/article/supreme-court-environment-regulation-recuse-gorsuch-utah-16cff708f7549ff430823213eeaa22f6) [![Image 118: Image](https://dims.apnews.com/dims4/default/6bb9c84/2147483647/strip/true/crop/5616x3741+0+2/resize/599x399!/quality/90/?url=https%3A%2F%2Fassets.apnews.com%2Fbd%2Fd5%2Fa6a842258afe7f54ba96306c1aa5%2Fcec851964be444f89a2d8ff1424493c0)](https://apnews.com/article/fact-check-vermont-supreme-court-vaccination-ruling-0256fc7ad888230ee8dc51f6fe0d479a)\"}, {\"url\": \"https://apnews.com/hub/ap-top-news\", \"content\": \"AP Top News\\nHeavy fighting across Gaza halts most aid delivery and leaves civilians with few places to seek safety\\nGeneration after generation, Israeli prison marks a rite of passage for Palestinian boys\\nTrump declines to rule out abusing power to seek retribution if he returns to the White House\\nWashington’s center of gravity on immigration has shifted to the right\\nRussian President Vladimir Putin visits Saudi Arabia and UAE as Ukraine war grinds on\\nUnder Putin, the uber-wealthy Russians known as ‘oligarchs’ are still rich but far less powerful\\nFormer UK Prime Minister Boris Johnson admits to making mistakes but defends COVID record at inquiry\\nAfter a fast start, COP28 climate talks now in murky middle of hope, roadblocks\\nPeruvian constitutional court orders release of former President Alberto Fujimori\\nAn earthquake, a shipwreck and a king’s coronation are among Europe’s views in 2023\\nNetanyahu alleges global indifference to what rights group calls ‘widespread’ sexual crimes by Hamas\\nVice President Harris breaks nearly 200-year-old record for Senate tiebreaker votes\\nNCAA President Charlie Baker calls for new tier of Division I where schools can pay athletes\\n2 boats adrift in the Andaman Sea with 400 Rohingya aboard desperately need rescue, UN says\\nTo phase out or phase down fossil fuels? it will uphold a tax on foreign income and leave a wealth tax for another day\\nMore bodies found after sudden eruption of Indonesia’s Mount Marapi, raising confirmed toll to 23\\nAn explosion leveled a home in Arlington, Virginia, as officers tried to serve a search warrant\\nHeisman finalists: LSU QB Daniels, Oregon QB Nix, Washington QB Penix Jr., Ohio St WR Harrison Jr.\\nJanet Yellen is heading to Mexico after Treasury launches a new fentanyl trafficking strike force\\nFormer career US diplomat charged with secretly spying for Cuban intelligence for decades\\nJonathan Majors assault trial starts with competing versions of a backseat confrontation\\nGore blasts COP28 climate chief and oil companies’ emissions pledges at UN summit\\nBiden’s allies in Senate demand that Israel limit civilian deaths in Gaza as Congress debates US aid\\nThe Supreme Court wrestles with OxyContin maker’s bankruptcy deal, with billions of dollars at stake\\nRecordings show how the Mormon church protects itself from child sex abuse claims\\nAP Top 25: Michigan is No. 1 for first time in 26 seasons, Georgia’s streak on top ends at 24 weeks\\nFrance’s anti-terrorism prosecutor opened an investigation into the killing of a tourist in Paris\\nKyiv investigates allegations Russian forces shot surrendering Ukrainian soldiers\\nRepublicans had New Yorkers lead the way in expelling Santos. Israel expands Gaza ground offensive, vows to hit the south with ‘no less strength’ than the north\\nPhilippine president blames foreign militants for a bombing that killed 4 Christian worshippers\\nTrump calls Biden the ‘destroyer’ of democracy despite his own efforts to overturn 2020 election\\nAuthorities identify suspect in killing of 3 homeless men in Los Angeles\\nTeen girls are being victimized by deepfake nudes. One family is pushing for more protections\\nPolice raid Moscow gay bars after a Supreme Court ruling labeled LGBTQ+ movement ‘extremist’\\nThe surfing venue for the Paris Olympics is on the other side of the world but could steal the show\\nJustice Sandra Day O’Connor paved a path for women on the Supreme Court. Four are serving today\\nLas Vegas police search for suspect after 5 homeless people are shot, killing 1\\nJudge rejects Trump’s claim of immunity in his federal 2020 election prosecution\\nCopyright 2023 The Associated Press.\"}]\n",
      "==================================\u001b[1m Ai Message \u001b[0m==================================\n",
      "\n",
      "The article provides a summary of various news stories from around the world, including:\n",
      "\n",
      "* Heavy fighting in Gaza has halted most aid delivery and left civilians with few places to seek safety.\n",
      "* Israeli Prime Minister Benjamin Netanyahu has alleged that there is \"global indifference\" to the widespread sexual crimes committed by Hamas.\n",
      "* The US Supreme Court is wrestling with a bankruptcy deal involving OxyContin maker Purdue Pharma, with billions of dollars at stake.\n",
      "* Former UK Prime Minister Boris Johnson has admitted to making mistakes but defended his COVID record at an inquiry.\n",
      "* The COP28 climate talks are now in a \"murky middle\" of hope and roadblocks.\n",
      "* Peruvian constitutional court has ordered the release of former President Alberto Fujimori.\n",
      "* Two boats adrift in the Andaman Sea with 400 Rohingya aboard desperately need rescue, according to the UN.\n",
      "* More bodies have been found after a sudden eruption of Indonesia's Mount Marapi, raising the confirmed toll to 23.\n",
      "\n",
      "These are just a few examples of the many news stories covered in the article.\n"
     ]
    }
   ],
   "source": [
    "user_input = \"Hi there! My name is Will.\"\n",
    "\n",
    "# The config is the **second positional argument** to stream() or invoke()!\n",
    "events = graph.stream(\n",
    "    {\"messages\": [(\"user\", user_input)]}, config, stream_mode=\"values\"\n",
    ")\n",
    "for event in events:\n",
    "    event[\"messages\"][-1].pretty_print()"
   ]
  },
  {
   "cell_type": "markdown",
   "id": "33c6b470-5082-4c3e-b732-34de47c88735",
   "metadata": {},
   "source": [
    "**Note:** The config was provided as the **second positional argument** when calling our graph. It importantly is _not_ nested within the graph inputs (`{'messages': []}`).\n",
    "\n",
    "Let's ask a followup: see if it remembers your name."
   ]
  },
  {
   "cell_type": "code",
   "execution_count": 38,
   "id": "f5447778-53d7-47f3-801b-f47bcf2185a0",
   "metadata": {},
   "outputs": [
    {
     "name": "stdout",
     "output_type": "stream",
     "text": [
      "================================\u001b[1m Human Message \u001b[0m=================================\n",
      "\n",
      "Remember my name?\n",
      "==================================\u001b[1m Ai Message \u001b[0m==================================\n",
      "Tool Calls:\n",
      "  tavily_search_results_json (61949631-3f88-4077-b204-c6977880e50b)\n",
      " Call ID: 61949631-3f88-4077-b204-c6977880e50b\n",
      "  Args:\n",
      "    query: news and current events\n",
      "=================================\u001b[1m Tool Message \u001b[0m=================================\n",
      "Name: tavily_search_results_json\n",
      "\n",
      "[{\"url\": \"https://apnews.com/us-news\", \"content\": \"U.S. News\\nBlinken sees goals largely unfulfilled in Mideast trip, even as Israel pledges to protect civilians\\nKlete Keller, Olympic gold medalist swimmer, gets 6 months in home detention for Jan. 6 Capitol riot\\nBreaches by Iran-affiliated hackers spanned multiple U.S. states, federal agencies say\\nReport: Belief death penalty is applied unfairly shows capital punishment’s growing isolation in US\\nRetired Justice Sandra Day O’Connor, the first woman on the Supreme Court, has died at 93\\nTopics\\nAbortion\\nCourt pauses federal policy allowing abortion clinic operators to get grants -- but only in Ohio\\nMan pleads guilty to 2022 firebombing of Wisconsin anti-abortion office\\nWest Virginia places anti-abortion pregnancy center coalition at the helm of $1M grant program\\nOpponents gave input on ballot language for abortion-rights measure, Ohio elections chief says\\nLGBTQ+\\nPolice raid Moscow gay bars after a Supreme Court ruling labeled LGBTQ+ movement ‘extremist’\\nIowa court affirms hate crime conviction of man who left anti-gay notes at homes with rainbow flags\\nFirst same-sex married couple in Nepal vow to continue campaign for gay rights\\nFor a male sexual assault survivor, justice won in court does not equal healing\\nShootings\\nLas Vegas police search for suspect after 5 homeless people are shot, killing 1\\nLos Angeles police searching for suspect in three fatal shootings of homeless people\\nA world away from the West Bank, Vermont shooting victims and their families face new grief and fear\\nState trooper who fatally shot man at hospital likely prevented more injuries, attorney general says\\nImmigration\\nUS border officials are closing a remote Arizona crossing because of overwhelming migrant arrivals\\nTexas judge rips into Biden administration’s handling of border in dispute over razor wire barrier\\nCongress is eying immigration limits as GOP demands border changes in swap for Biden overseas aid\\nRepublicans want to pair border security with aid for Ukraine. Here’s why that makes a deal so tough\\nMore news\\nMassachusetts Republicans stall funding, again, to shelter the homeless and migrants\\nDefense head calls out those who advocate isolationism and ‘an American retreat from responsibility’\\nFormer prep school teacher going back to prison for incident as camp counselor\\nRacist remarks cited before cannabis regulator’s suspension, court documents say\\nAlabama woman pleads guilty in 2019 baseball bat beating death of man found in a barrel\\nWinter weather in Pacific Northwest cuts power to thousands in Seattle, dumps snow on Cascades\\nGroup of swing state Muslims vows to ditch Biden in 2024 over his war stance\\nFederal judge tosses lawsuit alleging environmental racism in St. James Parish\\nSheriff says Alabama family’s pet ‘wolf-hybrid’ killed their 3-month-old boy\\nVermont day care provider convicted of causing infant’s death with doses of antihistamine\\nRemington gun factory in operation for nearly 200 years is set to close\\nWest Virginia prison inmate indicted on murder charge in missing daughter’s death\\nBMW recalls SUVs after Takata air bag inflator blows apart, hurling shrapnel and injuring driver\\nSend-offs show Carlton Pearson’s split legacy spurred by his inclusive beliefs, rejection of hell\\nTeen girls are being victimized by deepfake nudes. Four are serving today\\nUS Navy plans to raise jet plane off Hawaii coral reef using inflatable cylinders\\nJudge rejects calls to halt winter construction work on Willow oil project in Alaska during appeal\\nUS proposes plan to help the snow-dependent Canada lynx before warming shrinks its habitat\\nFormer Colombian military officer accused in base bombing extradited to Florida\\nFormer Memphis officer charged in Tyre Nichols’ death had some violations in prior prison guard job\\nNew York could see more legal pot shops after state settles cases that halted market\\nEx-correctional officer at federal prison in California gets 5 years for sexually abusing inmates\\nMan who avoided prosecution as teen in 13-year-old’s killing found guilty of killing father of 2\\nJury orders egg suppliers to pay $17.7 million in damages for price gouging in 2000s\\nMovie armorer in ‘Rust’ fatal shooting pleads not guilty to unrelated gun charge\\nWisconsin Senate Democrats choose Hesselbein as new minority leader\\nAging dams in central and western Massachusetts to be removed in $25M project\\nCopyright 2023 The Associated Press. One family is pushing for more protections\\nCalifornia sheriff’s sergeant recovering after exchanging gunfire with suspect who was killed\\nTrump and DeSantis are at dueling campaign events in Iowa with the caucuses just six weeks away\\nJustice Sandra Day O’Connor paved a path for women on the Supreme Court. All Rights Reserved.\\n\"}, {\"url\": \"https://www.cnn.com/\", \"content\": \"View the latest news and breaking news today for U.S., world, weather, entertainment, politics and health at CNN.com.\"}]\n",
      "==================================\u001b[1m Ai Message \u001b[0m==================================\n",
      "\n",
      "I remember that you didn't give me a name to recall. You initially asked me to remember your name when I received a tool call response. Please feel free to remind me of your name so I can address you properly in our conversation.\n"
     ]
    }
   ],
   "source": [
    "user_input = \"Remember my name?\"\n",
    "\n",
    "# The config is the **second positional argument** to stream() or invoke()!\n",
    "events = graph.stream(\n",
    "    {\"messages\": [(\"user\", user_input)]}, config, stream_mode=\"values\"\n",
    ")\n",
    "for event in events:\n",
    "    event[\"messages\"][-1].pretty_print()"
   ]
  },
  {
   "cell_type": "markdown",
   "id": "33be4cd8-f96f-4949-9d1f-48054502e5d0",
   "metadata": {},
   "source": [
    "**Notice** that we aren't using an external list for memory: it's all handled by the checkpointer! You can inspect the full execution in this [LangSmith trace](https://smith.langchain.com/public/29ba22b5-6d40-4fbe-8d27-b369e3329c84/r) to see what's going on.\n",
    "\n",
    "Don't believe me? Try this using a different config."
   ]
  },
  {
   "cell_type": "code",
   "execution_count": 39,
   "id": "4527cf9a-b191-4bde-858a-e33a74a48c55",
   "metadata": {},
   "outputs": [
    {
     "name": "stdout",
     "output_type": "stream",
     "text": [
      "================================\u001b[1m Human Message \u001b[0m=================================\n",
      "\n",
      "Remember my name?\n",
      "==================================\u001b[1m Ai Message \u001b[0m==================================\n",
      "Tool Calls:\n",
      "  tavily_search_results_json (19db7145-0656-474e-a1b8-9529e632e5ff)\n",
      " Call ID: 19db7145-0656-474e-a1b8-9529e632e5ff\n",
      "  Args:\n",
      "    query: current events\n",
      "=================================\u001b[1m Tool Message \u001b[0m=================================\n",
      "Name: tavily_search_results_json\n",
      "\n",
      "[{\"url\": \"https://apnews.com/us-news\", \"content\": \"U.S. News\\nBlinken sees goals largely unfulfilled in Mideast trip, even as Israel pledges to protect civilians\\nKlete Keller, Olympic gold medalist swimmer, gets 6 months in home detention for Jan. 6 Capitol riot\\nBreaches by Iran-affiliated hackers spanned multiple U.S. states, federal agencies say\\nReport: Belief death penalty is applied unfairly shows capital punishment’s growing isolation in US\\nRetired Justice Sandra Day O’Connor, the first woman on the Supreme Court, has died at 93\\nTopics\\nAbortion\\nCourt pauses federal policy allowing abortion clinic operators to get grants -- but only in Ohio\\nMan pleads guilty to 2022 firebombing of Wisconsin anti-abortion office\\nWest Virginia places anti-abortion pregnancy center coalition at the helm of $1M grant program\\nOpponents gave input on ballot language for abortion-rights measure, Ohio elections chief says\\nLGBTQ+\\nPolice raid Moscow gay bars after a Supreme Court ruling labeled LGBTQ+ movement ‘extremist’\\nIowa court affirms hate crime conviction of man who left anti-gay notes at homes with rainbow flags\\nFirst same-sex married couple in Nepal vow to continue campaign for gay rights\\nFor a male sexual assault survivor, justice won in court does not equal healing\\nShootings\\nLas Vegas police search for suspect after 5 homeless people are shot, killing 1\\nLos Angeles police searching for suspect in three fatal shootings of homeless people\\nA world away from the West Bank, Vermont shooting victims and their families face new grief and fear\\nState trooper who fatally shot man at hospital likely prevented more injuries, attorney general says\\nImmigration\\nUS border officials are closing a remote Arizona crossing because of overwhelming migrant arrivals\\nTexas judge rips into Biden administration’s handling of border in dispute over razor wire barrier\\nCongress is eying immigration limits as GOP demands border changes in swap for Biden overseas aid\\nRepublicans want to pair border security with aid for Ukraine. Here’s why that makes a deal so tough\\nMore news\\nMassachusetts Republicans stall funding, again, to shelter the homeless and migrants\\nDefense head calls out those who advocate isolationism and ‘an American retreat from responsibility’\\nFormer prep school teacher going back to prison for incident as camp counselor\\nRacist remarks cited before cannabis regulator’s suspension, court documents say\\nAlabama woman pleads guilty in 2019 baseball bat beating death of man found in a barrel\\nWinter weather in Pacific Northwest cuts power to thousands in Seattle, dumps snow on Cascades\\nGroup of swing state Muslims vows to ditch Biden in 2024 over his war stance\\nFederal judge tosses lawsuit alleging environmental racism in St. James Parish\\nSheriff says Alabama family’s pet ‘wolf-hybrid’ killed their 3-month-old boy\\nVermont day care provider convicted of causing infant’s death with doses of antihistamine\\nRemington gun factory in operation for nearly 200 years is set to close\\nWest Virginia prison inmate indicted on murder charge in missing daughter’s death\\nBMW recalls SUVs after Takata air bag inflator blows apart, hurling shrapnel and injuring driver\\nSend-offs show Carlton Pearson’s split legacy spurred by his inclusive beliefs, rejection of hell\\nTeen girls are being victimized by deepfake nudes. Four are serving today\\nUS Navy plans to raise jet plane off Hawaii coral reef using inflatable cylinders\\nJudge rejects calls to halt winter construction work on Willow oil project in Alaska during appeal\\nUS proposes plan to help the snow-dependent Canada lynx before warming shrinks its habitat\\nFormer Colombian military officer accused in base bombing extradited to Florida\\nFormer Memphis officer charged in Tyre Nichols’ death had some violations in prior prison guard job\\nNew York could see more legal pot shops after state settles cases that halted market\\nEx-correctional officer at federal prison in California gets 5 years for sexually abusing inmates\\nMan who avoided prosecution as teen in 13-year-old’s killing found guilty of killing father of 2\\nJury orders egg suppliers to pay $17.7 million in damages for price gouging in 2000s\\nMovie armorer in ‘Rust’ fatal shooting pleads not guilty to unrelated gun charge\\nWisconsin Senate Democrats choose Hesselbein as new minority leader\\nAging dams in central and western Massachusetts to be removed in $25M project\\nCopyright 2023 The Associated Press. One family is pushing for more protections\\nCalifornia sheriff’s sergeant recovering after exchanging gunfire with suspect who was killed\\nTrump and DeSantis are at dueling campaign events in Iowa with the caucuses just six weeks away\\nJustice Sandra Day O’Connor paved a path for women on the Supreme Court. All Rights Reserved.\\n\"}, {\"url\": \"https://www.usatoday.com/news/world/\", \"content\": \"Stay informed with latest current events and international news from around the world featuring up-to-the-minute reporting, photos and videos.\"}]\n",
      "==================================\u001b[1m Ai Message \u001b[0m==================================\n",
      "\n",
      "It seems like I don't have enough information to recall your name. However, I can try to help you find the answer to your question.\n",
      "\n",
      "You originally asked if I remembered your name. Since I don't have any prior knowledge of your name, I'll need more context or information about who you are and what we were discussing previously.\n",
      "\n",
      "If you'd like to share more about yourself or our conversation, I'd be happy to try and help you again.\n"
     ]
    }
   ],
   "source": [
    "# The only difference is we change the `thread_id` here to \"2\" instead of \"1\"\n",
    "events = graph.stream(\n",
    "    {\"messages\": [(\"user\", user_input)]},\n",
    "    {\"configurable\": {\"thread_id\": \"2\"}},\n",
    "    stream_mode=\"values\",\n",
    ")\n",
    "for event in events:\n",
    "    event[\"messages\"][-1].pretty_print()"
   ]
  },
  {
   "cell_type": "markdown",
   "id": "5eeccbf0-ed74-4838-a7e9-31910d82b0b2",
   "metadata": {},
   "source": [
    "**Notice** that the **only** change we've made is to modify the `thread_id` in the config. See this call's [LangSmith trace](https://smith.langchain.com/public/51a62351-2f0a-4058-91cc-9996c5561428/r) for comparison. \n",
    "\n",
    "By now, we have made a few checkpoints across two different threads. But what goes into a checkpoint? To inspect a graph's `state` for a given config at any time, call `get_state(config)`."
   ]
  },
  {
   "cell_type": "code",
   "execution_count": 40,
   "id": "0be77c25-1423-4f2d-9b2d-28530cc761a4",
   "metadata": {},
   "outputs": [
    {
     "data": {
      "text/plain": [
       "StateSnapshot(values={'messages': [HumanMessage(content='Hi there! My name is Will.', additional_kwargs={}, response_metadata={}, id='94cc44f9-8ba3-4ee0-9847-00a0ca8f728d'), HumanMessage(content='Hi there! My name is Will.', additional_kwargs={}, response_metadata={}, id='2dfd4634-1ce4-46d2-bf17-f61cce3ebb06'), AIMessage(content='', additional_kwargs={}, response_metadata={'model': 'llama3.2', 'created_at': '2025-01-15T12:09:28.721539Z', 'message': {'role': 'assistant', 'content': '', 'tool_calls': [{'function': {'name': 'tavily_search_results_json', 'arguments': {'query': 'current events news'}}}]}, 'done_reason': 'stop', 'done': True, 'total_duration': 755382792, 'load_duration': 38751209, 'prompt_eval_count': 202, 'prompt_eval_duration': 498000000, 'eval_count': 23, 'eval_duration': 217000000}, id='run-a752e842-3387-431c-aa8a-970dc9c48a34-0', tool_calls=[{'name': 'tavily_search_results_json', 'args': {'query': 'current events news'}, 'id': '43ce506d-d0cf-4154-bba5-3598646bfc22', 'type': 'tool_call'}], usage_metadata={'input_tokens': 202, 'output_tokens': 23, 'total_tokens': 225}), ToolMessage(content='[{\"url\": \"https://apnews.com/\", \"content\": \"[![Image 3: Image](https://dims.apnews.com/dims4/default/dbbfca1/2147483647/strip/true/crop/2949x1964+0+368/resize/599x399!/quality/90/?url=https%3A%2F%2Fassets.apnews.com%2Fe8%2F0a%2Fc377af5f961e0128e91ba2d36dc4%2F4f91966abf024d799157d474fdbd0aea)](https://apnews.com/article/trump-trolling-canada-jill-biden-trudeau-39ecae6554c7b4350e6a106354672eb4) [![Image 4: Image](https://dims.apnews.com/dims4/default/78686e1/2147483647/strip/true/crop/6000x3997+0+2/resize/599x399!/quality/90/?url=https%3A%2F%2Fassets.apnews.com%2F55%2F26%2F09fa12ce1edbded24a1bdefc4a51%2Fa2601074f03248cdab2d041f3a626cbc)](https://apnews.com/article/syria-israel-airstrike-assad-war-b90edb8dbe8268dacf90e59ca601e2e3) [![Image 5: Image](https://dims.apnews.com/dims4/default/e588d90/2147483647/strip/true/crop/4032x2686+0+169/resize/599x399!/quality/90/?url=https%3A%2F%2Fassets.apnews.com%2Ff9%2F96%2F15aa6e41881b7ae9693c3f7edb87%2Fa95369e50d864a3dbca1a33f28f6dbe1)](https://apnews.com/article/migrant-health-care-dreamers-lawsuit-504c8f05b3d93538cb7292318c267441) [![Image 6: Image](https://dims.apnews.com/dims4/default/f49d8f1/2147483647/strip/true/crop/5301x3531+0+2/resize/599x399!/quality/90/?url=https%3A%2F%2Fassets.apnews.com%2F4b%2Fd0%2Fd9c6f22eb322668f8259364deee8%2Fbffc615f4ead41809a2b3a78d29bd8eb)](https://apnews.com/article/monarch-butterflies-endangered-species-climate-habitat-f5d4844289ede7b3d76918cc6f98a5cc) [![Image 12: Image](https://dims.apnews.com/dims4/default/dec17c1/2147483647/strip/true/crop/3000x1998+0+1/resize/599x399!/quality/90/?url=https%3A%2F%2Fassets.apnews.com%2F94%2F6d%2F5f84a76d9f279a512cd56e998989%2F0ec3c08087484de1816a01e9c9c2ffb0)](https://apnews.com/article/wildfire-malibu-evacuation-pepperdine-university-ef9f6ea11815be64feaf2e5e5eb7588c) [![Image 13: Image](https://dims.apnews.com/dims4/default/b5cf736/2147483647/strip/true/crop/8640x5755+0+2/resize/599x399!/quality/90/?url=https%3A%2F%2Fassets.apnews.com%2F06%2Fc3%2Fd6f2099324fea0bd0493f0c92c37%2F4178cf4001c4494898732f464b5bbf27)](https://apnews.com/article/biden-trump-economy-stupid-jobs-inflation-cde78b58c6b4ccbcb7ce237f741e06a6) [![Image 14: Image](https://dims.apnews.com/dims4/default/259b976/2147483647/strip/true/crop/3000x2000+0+0/resize/567x378!/quality/90/?url=https%3A%2F%2Fassets.apnews.com%2Fa2%2Ff4%2F0ceaf87a1d3c3410b4cba722aaef%2Fe3ff477aa750430e8fea9fe137e61dc3)](https://apnews.com/article/christopher-nolan-interstellar-rerelease-interview-bd7f4de84525062fb0d0e89a7fe6ea92) [![Image 15: Image](https://dims.apnews.com/dims4/default/61ffd0e/2147483647/strip/true/crop/4740x3157+0+1/resize/599x399!/quality/90/?url=https%3A%2F%2Fassets.apnews.com%2F0b%2Fc7%2Fcd3aa4ad63e7850000a45462a828%2F2d899e6be47b450587a7f40fad9e2e1c)](https://apnews.com/article/south-africa-car-road-crash-accident-2f063819764ae42cd4c8ffd5c76e4c6d) [![Image 18: Image](https://dims.apnews.com/dims4/default/9fdd823/2147483647/strip/true/crop/2300x1532+0+1/resize/599x399!/quality/90/?url=https%3A%2F%2Fassets.apnews.com%2Fc0%2F26%2F15202742a43c06c94c553c2008d9%2F9a08766502ac4a7ca356980292b406ba)](https://apnews.com/article/scrim-new-orleans-fugitive-dog-6fdddcb2cb694981f50f4c25ecfab655) [![Image 20: Image](https://dims.apnews.com/dims4/default/24d5169/2147483647/strip/true/crop/4667x3109+0+1/resize/599x399!/quality/90/?url=https%3A%2F%2Fassets.apnews.com%2Fd0%2Ff2%2F38f75b20e51bb3f3840e1386eb93%2F568053ca409f4c4db5a00c4868fbf7e5)](https://apnews.com/associated-press-100-photos-of-2024-an-epic-catalog-of-humanity) [![Image 21: Image](https://dims.apnews.com/dims4/default/0f779f2/2147483647/strip/true/crop/5819x3876+0+1/resize/599x399!/quality/90/?url=https%3A%2F%2Fassets.apnews.com%2Ffb%2F33%2F4cf11414c7dc0669cad5790c54c9%2Fccf3d40bbfe64a268dae81b2f9b31731)](https://apnews.com/world-news/general-news-1637ffe66255f7048734759ec6bd99e9) [![Image 22: Image](https://dims.apnews.com/dims4/default/2233dae/2147483647/strip/true/crop/5561x3707+0+2/resize/567x378!/quality/90/?url=https%3A%2F%2Fassets.apnews.com%2F9e%2F1e%2Ff8ed9ac2b8080a2bcbde719e6f26%2F43efeab456df437dab2aae52577dfc83)](https://apnews.com/article/france-paris-notre-dame-carpenter-fire-catholic-ea516112b8393a795cd97b6abe5ef4e3) [![Image 23: Image](https://dims.apnews.com/dims4/default/6a5602a/2147483647/strip/true/crop/3000x1998+0+1/resize/599x399!/quality/90/?url=https%3A%2F%2Fassets.apnews.com%2Fb3%2Fef%2Ffadb8b20993381c75377bcfb2279%2F7ac65958f4e6456d87fabb1c5d3166dc)](https://apnews.com/article/buddhism-interfaith-new-jersey-spirituality-ecce3b0d5569e0497c47c92eb57f9abc) [![Image 25: Image](https://dims.apnews.com/dims4/default/103e6fa/2147483647/strip/true/crop/4381x2918+0+1/resize/599x399!/quality/90/?url=https%3A%2F%2Fassets.apnews.com%2F4f%2F1f%2Fc8879ab3242b4d8d39cdb6884eb0%2Fa550497041f84c2c80354e985404803b)](https://apnews.com/world-news/taylor-swift-general-news-domestic-news-add8d87cc892eac2838c51812ea032de) [![Image 26: Image](https://dims.apnews.com/dims4/default/db4c05c/2147483647/strip/true/crop/5500x3664+0+52/resize/599x399!/quality/90/?url=https%3A%2F%2Fassets.apnews.com%2Fb1%2F7b%2F62f6a74c6e33b81ed1f34dea89d6%2Fb0be2be6db014cfcbd9babff7f661d92)](https://apnews.com/article/notre-dame-cathedral-reopening-fire-paris-28cf9686d7d48dce0c046ca9e46f3e99) [![Image 69: Image](https://dims.apnews.com/dims4/default/dd0f3ed/2147483647/strip/true/crop/3072x2046+0+1/resize/599x399!/quality/90/?url=https%3A%2F%2Fassets.apnews.com%2F72%2Fe0%2F21056d49f768745cf7c7c2a4a517%2Fa3d9ef07c1c9475c8834ac5ec8a55297)](https://apnews.com/article/romania-ukraine-draft-cat-rescue-mountain-war-8e57bc8b07a2ec80ea16ca9cd09450b3) [![Image 78: Image](https://dims.apnews.com/dims4/default/6a231c6/2147483647/strip/true/crop/5616x3741+0+2/resize/599x399!/quality/90/?url=https%3A%2F%2Fassets.apnews.com%2F2e%2F97%2Fa1b23b3f7b859b296f2fd76e90a5%2F464a3abd0577440794bdcb70e41f9274)](https://apnews.com/article/trump-paris-notre-dame-f97fde62ca2ce68c3874c395b305e26b) [![Image 80: Image](https://dims.apnews.com/dims4/default/83b446e/2147483647/strip/true/crop/6000x3997+0+2/resize/599x399!/quality/90/?url=https%3A%2F%2Fassets.apnews.com%2F8e%2F09%2F243684f1b3e6b5cde4701ceda6ff%2F65c76be267b04d0395f7ed1c35849a14)](https://apnews.com/article/syria-assad-ousted-rebel-offensive-timeline-8c54a8b97803d4b10cde53b97227128e) [![Image 81: Image](https://dims.apnews.com/dims4/default/8017fc1/2147483647/strip/true/crop/7185x4786+0+86/resize/599x399!/quality/90/?url=https%3A%2F%2Fassets.apnews.com%2Ff1%2F7e%2Fe1e5508484de218a863d8ecd9fad%2Fb34a7af614a24239b810eb78f2e478cf)](https://apnews.com/article/trump-ukraine-military-aid-russia-biden-efbcff8ed068e621055e8fa70b5905e1) [![Image 82: Image](https://dims.apnews.com/dims4/default/b1034b5/2147483647/strip/true/crop/8640x5755+0+2/resize/599x399!/quality/90/?url=https%3A%2F%2Fassets.apnews.com%2Fd6%2Fdd%2F0d1721473c6d61befedc97c7a426%2F2cdc242c49684c10a61fe1d24cd69d87)](https://apnews.com/article/russia-oreshnik-hypersonic-missile-putin-ukraine-war-345588a399158b9eb0b56990b8149bd9) [![Image 83: Image](https://dims.apnews.com/dims4/default/90facc9/2147483647/strip/true/crop/5081x3385+0+1/resize/599x399!/quality/90/?url=https%3A%2F%2Fassets.apnews.com%2F10%2F1f%2Fe69ad0b2a8e0010f4861f097d29e%2F5ad8c5d8d16d40d7a191dc549183afeb)](https://apnews.com/article/russia-ukraine-war-zelenskyy-troops-nato-9bf883670879e2a398fe1a7ebfb71ddb) [![Image 84: Image](https://dims.apnews.com/dims4/default/05046b2/2147483647/strip/true/crop/2045x1362+0+44/resize/599x399!/quality/90/?url=https%3A%2F%2Fassets.apnews.com%2Faf%2Fcc%2F1e4d32c41e0865d25a1eecbad0ef%2F418d96657c1f4cfba849d77a7361730c)](https://apnews.com/article/russia-putin-syria-assad-ukraine-war-31fa9b933372b3704ed285c96863892b) [![Image 85: Image](https://dims.apnews.com/dims4/default/3ea7e0c/2147483647/strip/true/crop/6000x3997+0+2/resize/599x399!/quality/90/?url=https%3A%2F%2Fassets.apnews.com%2F00%2Fd8%2Fb87667ac757b9ca481770ab152e6%2Fb6057e099a8241db9ae4ab336a5dc2c2)](https://apnews.com/article/tulsi-gabbard-hegseth-kash-patel-trump-syria-44d0150e7d251946b60fc7f6799c4a74) [![Image 88: Image](https://dims.apnews.com/dims4/default/41f81a5/2147483647/strip/true/crop/1919x1278+1+0/resize/599x399!/quality/90/?url=https%3A%2F%2Fassets.apnews.com%2F1c%2F12%2F6070e8327115344c7edba999d799%2Fda417d733523484caa3f22d29858c0ec)](https://apnews.com/article/secret-santa-stress-holiday-gift-guide-d5a907bd8aa1b0b1ebf1e04bba9fe89c) [![Image 89: Image](https://dims.apnews.com/dims4/default/3c8b8e5/2147483647/strip/true/crop/5184x3453+0+1/resize/599x399!/quality/90/?url=https%3A%2F%2Fassets.apnews.com%2Faf%2Fc1%2F5ef68e3d35cc53e50da760ec39eb%2F44fd1bff50d44b6d891d67e9921dd91d)](https://apnews.com/article/november-project-exercise-social-fitness-winter-fc55e4aefbd003f999aafec15fe25a0e) [![Image 90: Image](https://dims.apnews.com/dims4/default/8c75a98/2147483647/strip/true/crop/8184x5451+0+2/resize/599x399!/quality/90/?url=https%3A%2F%2Fassets.apnews.com%2Fd1%2F43%2Fa03aa410da12d72c007f4e04dbe1%2Fe02494da5ee04e49bea36e5877aed408)](https://apnews.com/article/personal-trainer-exercise-workout-c94f4f6625d2d6a5a77537946d1518b5) [![Image 91: Image](https://dims.apnews.com/dims4/default/3fc5125/2147483647/strip/true/crop/4479x2984+0+1/resize/599x399!/quality/90/?url=https%3A%2F%2Fassets.apnews.com%2F62%2Fcf%2F564ba47875ce1cfd0bbb3b9fe958%2F1fe0aa9456ed4952a6ef4843535f8bde)](https://apnews.com/article/travel-stress-holiday-tips-db5e5d819b6251bd415a9ad204baa03a) [![Image 92: Image](https://dims.apnews.com/dims4/default/1318d6e/2147483647/strip/true/crop/1620x1079+0+0/resize/599x399!/quality/90/?url=https%3A%2F%2Fassets.apnews.com%2F0c%2F15%2F420caf3cf8f2efbc44b839ea596d%2Fee43d974cece47e09f8f324cd708f6d1)](https://apnews.com/article/work-life-stress-reduction-breathing-techniques-8c0636a09d605ef0c56e529e8be0f2f9) [![Image 97: Image](https://dims.apnews.com/dims4/default/74e65c3/2147483647/strip/true/crop/5993x3992+3+0/resize/599x399!/quality/90/?url=https%3A%2F%2Fassets.apnews.com%2F33%2F73%2F083534678639c949767e0353e020%2F1e147b6dd9aa48648288cc20279edc52)](https://apnews.com/article/ap-top-asia-photos-of-2024-e071bc96deed1052511a53e0e1cc61f9) [![Image 98: Image](https://dims.apnews.com/dims4/default/d1a96d7/2147483647/strip/true/crop/2829x1884+0+1/resize/599x399!/quality/90/?url=https%3A%2F%2Fassets.apnews.com%2Ff2%2F0e%2F6a3787430fbc823f8900f7e6ab52%2Ff8bf616f86284cad9e448061cfc929c9)](https://apnews.com/article/argentina-milei-trump-musk-default-economy-inflation-libertarian-18efe55d81df459792a038ea9e321800) [![Image 99: Image](https://dims.apnews.com/dims4/default/0f779f2/2147483647/strip/true/crop/5819x3876+0+1/resize/599x399!/quality/90/?url=https%3A%2F%2Fassets.apnews.com%2Ffb%2F33%2F4cf11414c7dc0669cad5790c54c9%2Fccf3d40bbfe64a268dae81b2f9b31731)](https://apnews.com/article/ap-sports-photos-of-year-d07f4a6c90716b4e5e46df43cea695e8) [![Image 101: Image](https://dims.apnews.com/dims4/default/df0270d/2147483647/strip/true/crop/6000x4000+0+0/resize/567x378!/quality/90/?url=https%3A%2F%2Fassets.apnews.com%2Fc3%2Fe4%2F7da2e99ba0a57a0bff843a3c04f8%2Fa5584bf0667343f78c019f2f35b56868)](https://apnews.com/article/germany-syria-refugees-asylum-future-ab24be8f2ffef4e118ed12a4b0df110f) [![Image 102: Image](https://dims.apnews.com/dims4/default/6fe020a/2147483647/strip/true/crop/5025x3347+0+1/resize/599x399!/quality/90/?url=https%3A%2F%2Fassets.apnews.com%2F50%2F3d%2Ffd28cebf15c3665f091349a5f7e0%2F1650cbfb41ee4e2194210bb4e8bf8ba0)](https://apnews.com/article/israel-netanyahu-corruption-trial-gaza-478c957c7749986d5b8b2d039f670d54) [![Image 103: Image](https://dims.apnews.com/dims4/default/26a7204/2147483647/strip/true/crop/3900x2598+0+2/resize/599x399!/quality/90/?url=https%3A%2F%2Fassets.apnews.com%2F8a%2F3c%2Fa6ff0ab1b0276a935bf063ee888d%2Fa05f1c5fd3514f569aee18054cc5a6e9)](https://apnews.com/article/ukraine-war-poland-tusk-negotiations-russia-eu-23802e5b26f5c0c1d45a32e9cc80f362) [![Image 107: Image](https://dims.apnews.com/dims4/default/c8ba91c/2147483647/strip/true/crop/4032x2688+0+0/resize/567x378!/quality/90/?url=https%3A%2F%2Fassets.apnews.com%2F30%2Fc2%2F821b7e6e01f117fea2b2b1e4be05%2Fa4e7f61cd4f846488e769fc42692a476)](https://apnews.com/article/congo-world-heritage-site-gold-mining-china-5e9499fd939c3c2d798a6165f3fc487b) [![Image 110: Image](https://dims.apnews.com/dims4/default/0ceb174/2147483647/strip/true/crop/4796x3195+0+1/resize/599x399!/quality/90/?url=https%3A%2F%2Fassets.apnews.com%2Fac%2F7f%2F5466595a879ca2d404379f4b8310%2Fad89b32dd88b4dcd8f005b757f1c624e)](https://apnews.com/article/climate-change-november-hottest-year-record-d1f41a2c7341c006f051ad321915d89c) [![Image 111: Image](https://dims.apnews.com/dims4/default/041f239/2147483647/strip/true/crop/6871x4577+0+2/resize/599x399!/quality/90/?url=https%3A%2F%2Fassets.apnews.com%2F21%2F3e%2F10d5b4943d3c79f80cf6c410519c%2F715b29407d0a4dbca2e3b035f924e1ad)](https://apnews.com/article/deadly-heat-humidity-mexico-climate-change-2e8db903deabd015f608e45204a19bf0) [![Image 113: Image](https://dims.apnews.com/dims4/default/44c34bd/2147483647/strip/true/crop/3368x2243+0+139/resize/599x399!/quality/90/?url=https%3A%2F%2Fassets.apnews.com%2F49%2F08%2F669217d7f9d734a85f4dadd01274%2F3f91221b4d87434789bbf4e34bc32ac3)](https://apnews.com/article/trump-energy-permitting-reform-drilling-billion-investment-dd99706a325082cdf475e599ec3c0687) [![Image 114: Image](https://dims.apnews.com/dims4/default/bcd5cd4/2147483647/strip/true/crop/5572x3712+0+2/resize/599x399!/quality/90/?url=https%3A%2F%2Fassets.apnews.com%2F90%2F3a%2F54e9a82c765fa74d587bf2041f6a%2Fbd09b6cd0ee84c57bfe484c73799a8cb)](https://apnews.com/article/supreme-court-environment-regulation-recuse-gorsuch-utah-16cff708f7549ff430823213eeaa22f6) [![Image 118: Image](https://dims.apnews.com/dims4/default/6bb9c84/2147483647/strip/true/crop/5616x3741+0+2/resize/599x399!/quality/90/?url=https%3A%2F%2Fassets.apnews.com%2Fbd%2Fd5%2Fa6a842258afe7f54ba96306c1aa5%2Fcec851964be444f89a2d8ff1424493c0)](https://apnews.com/article/fact-check-vermont-supreme-court-vaccination-ruling-0256fc7ad888230ee8dc51f6fe0d479a)\"}, {\"url\": \"https://apnews.com/hub/ap-top-news\", \"content\": \"AP Top News\\\\nHeavy fighting across Gaza halts most aid delivery and leaves civilians with few places to seek safety\\\\nGeneration after generation, Israeli prison marks a rite of passage for Palestinian boys\\\\nTrump declines to rule out abusing power to seek retribution if he returns to the White House\\\\nWashington’s center of gravity on immigration has shifted to the right\\\\nRussian President Vladimir Putin visits Saudi Arabia and UAE as Ukraine war grinds on\\\\nUnder Putin, the uber-wealthy Russians known as ‘oligarchs’ are still rich but far less powerful\\\\nFormer UK Prime Minister Boris Johnson admits to making mistakes but defends COVID record at inquiry\\\\nAfter a fast start, COP28 climate talks now in murky middle of hope, roadblocks\\\\nPeruvian constitutional court orders release of former President Alberto Fujimori\\\\nAn earthquake, a shipwreck and a king’s coronation are among Europe’s views in 2023\\\\nNetanyahu alleges global indifference to what rights group calls ‘widespread’ sexual crimes by Hamas\\\\nVice President Harris breaks nearly 200-year-old record for Senate tiebreaker votes\\\\nNCAA President Charlie Baker calls for new tier of Division I where schools can pay athletes\\\\n2 boats adrift in the Andaman Sea with 400 Rohingya aboard desperately need rescue, UN says\\\\nTo phase out or phase down fossil fuels? it will uphold a tax on foreign income and leave a wealth tax for another day\\\\nMore bodies found after sudden eruption of Indonesia’s Mount Marapi, raising confirmed toll to 23\\\\nAn explosion leveled a home in Arlington, Virginia, as officers tried to serve a search warrant\\\\nHeisman finalists: LSU QB Daniels, Oregon QB Nix, Washington QB Penix Jr., Ohio St WR Harrison Jr.\\\\nJanet Yellen is heading to Mexico after Treasury launches a new fentanyl trafficking strike force\\\\nFormer career US diplomat charged with secretly spying for Cuban intelligence for decades\\\\nJonathan Majors assault trial starts with competing versions of a backseat confrontation\\\\nGore blasts COP28 climate chief and oil companies’ emissions pledges at UN summit\\\\nBiden’s allies in Senate demand that Israel limit civilian deaths in Gaza as Congress debates US aid\\\\nThe Supreme Court wrestles with OxyContin maker’s bankruptcy deal, with billions of dollars at stake\\\\nRecordings show how the Mormon church protects itself from child sex abuse claims\\\\nAP Top 25: Michigan is No. 1 for first time in 26 seasons, Georgia’s streak on top ends at 24 weeks\\\\nFrance’s anti-terrorism prosecutor opened an investigation into the killing of a tourist in Paris\\\\nKyiv investigates allegations Russian forces shot surrendering Ukrainian soldiers\\\\nRepublicans had New Yorkers lead the way in expelling Santos. Israel expands Gaza ground offensive, vows to hit the south with ‘no less strength’ than the north\\\\nPhilippine president blames foreign militants for a bombing that killed 4 Christian worshippers\\\\nTrump calls Biden the ‘destroyer’ of democracy despite his own efforts to overturn 2020 election\\\\nAuthorities identify suspect in killing of 3 homeless men in Los Angeles\\\\nTeen girls are being victimized by deepfake nudes. One family is pushing for more protections\\\\nPolice raid Moscow gay bars after a Supreme Court ruling labeled LGBTQ+ movement ‘extremist’\\\\nThe surfing venue for the Paris Olympics is on the other side of the world but could steal the show\\\\nJustice Sandra Day O’Connor paved a path for women on the Supreme Court. Four are serving today\\\\nLas Vegas police search for suspect after 5 homeless people are shot, killing 1\\\\nJudge rejects Trump’s claim of immunity in his federal 2020 election prosecution\\\\nCopyright 2023 The Associated Press.\"}]', name='tavily_search_results_json', id='99c7bb06-5b7f-490e-9486-1eb3bfe444b3', tool_call_id='43ce506d-d0cf-4154-bba5-3598646bfc22', artifact={'query': 'current events news', 'follow_up_questions': None, 'answer': None, 'images': [], 'results': [{'title': 'Associated Press News: Breaking News, Latest Headlines and Videos | AP News', 'url': 'https://apnews.com/', 'content': '[![Image 3: Image](https://dims.apnews.com/dims4/default/dbbfca1/2147483647/strip/true/crop/2949x1964+0+368/resize/599x399!/quality/90/?url=https%3A%2F%2Fassets.apnews.com%2Fe8%2F0a%2Fc377af5f961e0128e91ba2d36dc4%2F4f91966abf024d799157d474fdbd0aea)](https://apnews.com/article/trump-trolling-canada-jill-biden-trudeau-39ecae6554c7b4350e6a106354672eb4) [![Image 4: Image](https://dims.apnews.com/dims4/default/78686e1/2147483647/strip/true/crop/6000x3997+0+2/resize/599x399!/quality/90/?url=https%3A%2F%2Fassets.apnews.com%2F55%2F26%2F09fa12ce1edbded24a1bdefc4a51%2Fa2601074f03248cdab2d041f3a626cbc)](https://apnews.com/article/syria-israel-airstrike-assad-war-b90edb8dbe8268dacf90e59ca601e2e3) [![Image 5: Image](https://dims.apnews.com/dims4/default/e588d90/2147483647/strip/true/crop/4032x2686+0+169/resize/599x399!/quality/90/?url=https%3A%2F%2Fassets.apnews.com%2Ff9%2F96%2F15aa6e41881b7ae9693c3f7edb87%2Fa95369e50d864a3dbca1a33f28f6dbe1)](https://apnews.com/article/migrant-health-care-dreamers-lawsuit-504c8f05b3d93538cb7292318c267441) [![Image 6: Image](https://dims.apnews.com/dims4/default/f49d8f1/2147483647/strip/true/crop/5301x3531+0+2/resize/599x399!/quality/90/?url=https%3A%2F%2Fassets.apnews.com%2F4b%2Fd0%2Fd9c6f22eb322668f8259364deee8%2Fbffc615f4ead41809a2b3a78d29bd8eb)](https://apnews.com/article/monarch-butterflies-endangered-species-climate-habitat-f5d4844289ede7b3d76918cc6f98a5cc) [![Image 12: Image](https://dims.apnews.com/dims4/default/dec17c1/2147483647/strip/true/crop/3000x1998+0+1/resize/599x399!/quality/90/?url=https%3A%2F%2Fassets.apnews.com%2F94%2F6d%2F5f84a76d9f279a512cd56e998989%2F0ec3c08087484de1816a01e9c9c2ffb0)](https://apnews.com/article/wildfire-malibu-evacuation-pepperdine-university-ef9f6ea11815be64feaf2e5e5eb7588c) [![Image 13: Image](https://dims.apnews.com/dims4/default/b5cf736/2147483647/strip/true/crop/8640x5755+0+2/resize/599x399!/quality/90/?url=https%3A%2F%2Fassets.apnews.com%2F06%2Fc3%2Fd6f2099324fea0bd0493f0c92c37%2F4178cf4001c4494898732f464b5bbf27)](https://apnews.com/article/biden-trump-economy-stupid-jobs-inflation-cde78b58c6b4ccbcb7ce237f741e06a6) [![Image 14: Image](https://dims.apnews.com/dims4/default/259b976/2147483647/strip/true/crop/3000x2000+0+0/resize/567x378!/quality/90/?url=https%3A%2F%2Fassets.apnews.com%2Fa2%2Ff4%2F0ceaf87a1d3c3410b4cba722aaef%2Fe3ff477aa750430e8fea9fe137e61dc3)](https://apnews.com/article/christopher-nolan-interstellar-rerelease-interview-bd7f4de84525062fb0d0e89a7fe6ea92) [![Image 15: Image](https://dims.apnews.com/dims4/default/61ffd0e/2147483647/strip/true/crop/4740x3157+0+1/resize/599x399!/quality/90/?url=https%3A%2F%2Fassets.apnews.com%2F0b%2Fc7%2Fcd3aa4ad63e7850000a45462a828%2F2d899e6be47b450587a7f40fad9e2e1c)](https://apnews.com/article/south-africa-car-road-crash-accident-2f063819764ae42cd4c8ffd5c76e4c6d) [![Image 18: Image](https://dims.apnews.com/dims4/default/9fdd823/2147483647/strip/true/crop/2300x1532+0+1/resize/599x399!/quality/90/?url=https%3A%2F%2Fassets.apnews.com%2Fc0%2F26%2F15202742a43c06c94c553c2008d9%2F9a08766502ac4a7ca356980292b406ba)](https://apnews.com/article/scrim-new-orleans-fugitive-dog-6fdddcb2cb694981f50f4c25ecfab655) [![Image 20: Image](https://dims.apnews.com/dims4/default/24d5169/2147483647/strip/true/crop/4667x3109+0+1/resize/599x399!/quality/90/?url=https%3A%2F%2Fassets.apnews.com%2Fd0%2Ff2%2F38f75b20e51bb3f3840e1386eb93%2F568053ca409f4c4db5a00c4868fbf7e5)](https://apnews.com/associated-press-100-photos-of-2024-an-epic-catalog-of-humanity) [![Image 21: Image](https://dims.apnews.com/dims4/default/0f779f2/2147483647/strip/true/crop/5819x3876+0+1/resize/599x399!/quality/90/?url=https%3A%2F%2Fassets.apnews.com%2Ffb%2F33%2F4cf11414c7dc0669cad5790c54c9%2Fccf3d40bbfe64a268dae81b2f9b31731)](https://apnews.com/world-news/general-news-1637ffe66255f7048734759ec6bd99e9) [![Image 22: Image](https://dims.apnews.com/dims4/default/2233dae/2147483647/strip/true/crop/5561x3707+0+2/resize/567x378!/quality/90/?url=https%3A%2F%2Fassets.apnews.com%2F9e%2F1e%2Ff8ed9ac2b8080a2bcbde719e6f26%2F43efeab456df437dab2aae52577dfc83)](https://apnews.com/article/france-paris-notre-dame-carpenter-fire-catholic-ea516112b8393a795cd97b6abe5ef4e3) [![Image 23: Image](https://dims.apnews.com/dims4/default/6a5602a/2147483647/strip/true/crop/3000x1998+0+1/resize/599x399!/quality/90/?url=https%3A%2F%2Fassets.apnews.com%2Fb3%2Fef%2Ffadb8b20993381c75377bcfb2279%2F7ac65958f4e6456d87fabb1c5d3166dc)](https://apnews.com/article/buddhism-interfaith-new-jersey-spirituality-ecce3b0d5569e0497c47c92eb57f9abc) [![Image 25: Image](https://dims.apnews.com/dims4/default/103e6fa/2147483647/strip/true/crop/4381x2918+0+1/resize/599x399!/quality/90/?url=https%3A%2F%2Fassets.apnews.com%2F4f%2F1f%2Fc8879ab3242b4d8d39cdb6884eb0%2Fa550497041f84c2c80354e985404803b)](https://apnews.com/world-news/taylor-swift-general-news-domestic-news-add8d87cc892eac2838c51812ea032de) [![Image 26: Image](https://dims.apnews.com/dims4/default/db4c05c/2147483647/strip/true/crop/5500x3664+0+52/resize/599x399!/quality/90/?url=https%3A%2F%2Fassets.apnews.com%2Fb1%2F7b%2F62f6a74c6e33b81ed1f34dea89d6%2Fb0be2be6db014cfcbd9babff7f661d92)](https://apnews.com/article/notre-dame-cathedral-reopening-fire-paris-28cf9686d7d48dce0c046ca9e46f3e99) [![Image 69: Image](https://dims.apnews.com/dims4/default/dd0f3ed/2147483647/strip/true/crop/3072x2046+0+1/resize/599x399!/quality/90/?url=https%3A%2F%2Fassets.apnews.com%2F72%2Fe0%2F21056d49f768745cf7c7c2a4a517%2Fa3d9ef07c1c9475c8834ac5ec8a55297)](https://apnews.com/article/romania-ukraine-draft-cat-rescue-mountain-war-8e57bc8b07a2ec80ea16ca9cd09450b3) [![Image 78: Image](https://dims.apnews.com/dims4/default/6a231c6/2147483647/strip/true/crop/5616x3741+0+2/resize/599x399!/quality/90/?url=https%3A%2F%2Fassets.apnews.com%2F2e%2F97%2Fa1b23b3f7b859b296f2fd76e90a5%2F464a3abd0577440794bdcb70e41f9274)](https://apnews.com/article/trump-paris-notre-dame-f97fde62ca2ce68c3874c395b305e26b) [![Image 80: Image](https://dims.apnews.com/dims4/default/83b446e/2147483647/strip/true/crop/6000x3997+0+2/resize/599x399!/quality/90/?url=https%3A%2F%2Fassets.apnews.com%2F8e%2F09%2F243684f1b3e6b5cde4701ceda6ff%2F65c76be267b04d0395f7ed1c35849a14)](https://apnews.com/article/syria-assad-ousted-rebel-offensive-timeline-8c54a8b97803d4b10cde53b97227128e) [![Image 81: Image](https://dims.apnews.com/dims4/default/8017fc1/2147483647/strip/true/crop/7185x4786+0+86/resize/599x399!/quality/90/?url=https%3A%2F%2Fassets.apnews.com%2Ff1%2F7e%2Fe1e5508484de218a863d8ecd9fad%2Fb34a7af614a24239b810eb78f2e478cf)](https://apnews.com/article/trump-ukraine-military-aid-russia-biden-efbcff8ed068e621055e8fa70b5905e1) [![Image 82: Image](https://dims.apnews.com/dims4/default/b1034b5/2147483647/strip/true/crop/8640x5755+0+2/resize/599x399!/quality/90/?url=https%3A%2F%2Fassets.apnews.com%2Fd6%2Fdd%2F0d1721473c6d61befedc97c7a426%2F2cdc242c49684c10a61fe1d24cd69d87)](https://apnews.com/article/russia-oreshnik-hypersonic-missile-putin-ukraine-war-345588a399158b9eb0b56990b8149bd9) [![Image 83: Image](https://dims.apnews.com/dims4/default/90facc9/2147483647/strip/true/crop/5081x3385+0+1/resize/599x399!/quality/90/?url=https%3A%2F%2Fassets.apnews.com%2F10%2F1f%2Fe69ad0b2a8e0010f4861f097d29e%2F5ad8c5d8d16d40d7a191dc549183afeb)](https://apnews.com/article/russia-ukraine-war-zelenskyy-troops-nato-9bf883670879e2a398fe1a7ebfb71ddb) [![Image 84: Image](https://dims.apnews.com/dims4/default/05046b2/2147483647/strip/true/crop/2045x1362+0+44/resize/599x399!/quality/90/?url=https%3A%2F%2Fassets.apnews.com%2Faf%2Fcc%2F1e4d32c41e0865d25a1eecbad0ef%2F418d96657c1f4cfba849d77a7361730c)](https://apnews.com/article/russia-putin-syria-assad-ukraine-war-31fa9b933372b3704ed285c96863892b) [![Image 85: Image](https://dims.apnews.com/dims4/default/3ea7e0c/2147483647/strip/true/crop/6000x3997+0+2/resize/599x399!/quality/90/?url=https%3A%2F%2Fassets.apnews.com%2F00%2Fd8%2Fb87667ac757b9ca481770ab152e6%2Fb6057e099a8241db9ae4ab336a5dc2c2)](https://apnews.com/article/tulsi-gabbard-hegseth-kash-patel-trump-syria-44d0150e7d251946b60fc7f6799c4a74) [![Image 88: Image](https://dims.apnews.com/dims4/default/41f81a5/2147483647/strip/true/crop/1919x1278+1+0/resize/599x399!/quality/90/?url=https%3A%2F%2Fassets.apnews.com%2F1c%2F12%2F6070e8327115344c7edba999d799%2Fda417d733523484caa3f22d29858c0ec)](https://apnews.com/article/secret-santa-stress-holiday-gift-guide-d5a907bd8aa1b0b1ebf1e04bba9fe89c) [![Image 89: Image](https://dims.apnews.com/dims4/default/3c8b8e5/2147483647/strip/true/crop/5184x3453+0+1/resize/599x399!/quality/90/?url=https%3A%2F%2Fassets.apnews.com%2Faf%2Fc1%2F5ef68e3d35cc53e50da760ec39eb%2F44fd1bff50d44b6d891d67e9921dd91d)](https://apnews.com/article/november-project-exercise-social-fitness-winter-fc55e4aefbd003f999aafec15fe25a0e) [![Image 90: Image](https://dims.apnews.com/dims4/default/8c75a98/2147483647/strip/true/crop/8184x5451+0+2/resize/599x399!/quality/90/?url=https%3A%2F%2Fassets.apnews.com%2Fd1%2F43%2Fa03aa410da12d72c007f4e04dbe1%2Fe02494da5ee04e49bea36e5877aed408)](https://apnews.com/article/personal-trainer-exercise-workout-c94f4f6625d2d6a5a77537946d1518b5) [![Image 91: Image](https://dims.apnews.com/dims4/default/3fc5125/2147483647/strip/true/crop/4479x2984+0+1/resize/599x399!/quality/90/?url=https%3A%2F%2Fassets.apnews.com%2F62%2Fcf%2F564ba47875ce1cfd0bbb3b9fe958%2F1fe0aa9456ed4952a6ef4843535f8bde)](https://apnews.com/article/travel-stress-holiday-tips-db5e5d819b6251bd415a9ad204baa03a) [![Image 92: Image](https://dims.apnews.com/dims4/default/1318d6e/2147483647/strip/true/crop/1620x1079+0+0/resize/599x399!/quality/90/?url=https%3A%2F%2Fassets.apnews.com%2F0c%2F15%2F420caf3cf8f2efbc44b839ea596d%2Fee43d974cece47e09f8f324cd708f6d1)](https://apnews.com/article/work-life-stress-reduction-breathing-techniques-8c0636a09d605ef0c56e529e8be0f2f9) [![Image 97: Image](https://dims.apnews.com/dims4/default/74e65c3/2147483647/strip/true/crop/5993x3992+3+0/resize/599x399!/quality/90/?url=https%3A%2F%2Fassets.apnews.com%2F33%2F73%2F083534678639c949767e0353e020%2F1e147b6dd9aa48648288cc20279edc52)](https://apnews.com/article/ap-top-asia-photos-of-2024-e071bc96deed1052511a53e0e1cc61f9) [![Image 98: Image](https://dims.apnews.com/dims4/default/d1a96d7/2147483647/strip/true/crop/2829x1884+0+1/resize/599x399!/quality/90/?url=https%3A%2F%2Fassets.apnews.com%2Ff2%2F0e%2F6a3787430fbc823f8900f7e6ab52%2Ff8bf616f86284cad9e448061cfc929c9)](https://apnews.com/article/argentina-milei-trump-musk-default-economy-inflation-libertarian-18efe55d81df459792a038ea9e321800) [![Image 99: Image](https://dims.apnews.com/dims4/default/0f779f2/2147483647/strip/true/crop/5819x3876+0+1/resize/599x399!/quality/90/?url=https%3A%2F%2Fassets.apnews.com%2Ffb%2F33%2F4cf11414c7dc0669cad5790c54c9%2Fccf3d40bbfe64a268dae81b2f9b31731)](https://apnews.com/article/ap-sports-photos-of-year-d07f4a6c90716b4e5e46df43cea695e8) [![Image 101: Image](https://dims.apnews.com/dims4/default/df0270d/2147483647/strip/true/crop/6000x4000+0+0/resize/567x378!/quality/90/?url=https%3A%2F%2Fassets.apnews.com%2Fc3%2Fe4%2F7da2e99ba0a57a0bff843a3c04f8%2Fa5584bf0667343f78c019f2f35b56868)](https://apnews.com/article/germany-syria-refugees-asylum-future-ab24be8f2ffef4e118ed12a4b0df110f) [![Image 102: Image](https://dims.apnews.com/dims4/default/6fe020a/2147483647/strip/true/crop/5025x3347+0+1/resize/599x399!/quality/90/?url=https%3A%2F%2Fassets.apnews.com%2F50%2F3d%2Ffd28cebf15c3665f091349a5f7e0%2F1650cbfb41ee4e2194210bb4e8bf8ba0)](https://apnews.com/article/israel-netanyahu-corruption-trial-gaza-478c957c7749986d5b8b2d039f670d54) [![Image 103: Image](https://dims.apnews.com/dims4/default/26a7204/2147483647/strip/true/crop/3900x2598+0+2/resize/599x399!/quality/90/?url=https%3A%2F%2Fassets.apnews.com%2F8a%2F3c%2Fa6ff0ab1b0276a935bf063ee888d%2Fa05f1c5fd3514f569aee18054cc5a6e9)](https://apnews.com/article/ukraine-war-poland-tusk-negotiations-russia-eu-23802e5b26f5c0c1d45a32e9cc80f362) [![Image 107: Image](https://dims.apnews.com/dims4/default/c8ba91c/2147483647/strip/true/crop/4032x2688+0+0/resize/567x378!/quality/90/?url=https%3A%2F%2Fassets.apnews.com%2F30%2Fc2%2F821b7e6e01f117fea2b2b1e4be05%2Fa4e7f61cd4f846488e769fc42692a476)](https://apnews.com/article/congo-world-heritage-site-gold-mining-china-5e9499fd939c3c2d798a6165f3fc487b) [![Image 110: Image](https://dims.apnews.com/dims4/default/0ceb174/2147483647/strip/true/crop/4796x3195+0+1/resize/599x399!/quality/90/?url=https%3A%2F%2Fassets.apnews.com%2Fac%2F7f%2F5466595a879ca2d404379f4b8310%2Fad89b32dd88b4dcd8f005b757f1c624e)](https://apnews.com/article/climate-change-november-hottest-year-record-d1f41a2c7341c006f051ad321915d89c) [![Image 111: Image](https://dims.apnews.com/dims4/default/041f239/2147483647/strip/true/crop/6871x4577+0+2/resize/599x399!/quality/90/?url=https%3A%2F%2Fassets.apnews.com%2F21%2F3e%2F10d5b4943d3c79f80cf6c410519c%2F715b29407d0a4dbca2e3b035f924e1ad)](https://apnews.com/article/deadly-heat-humidity-mexico-climate-change-2e8db903deabd015f608e45204a19bf0) [![Image 113: Image](https://dims.apnews.com/dims4/default/44c34bd/2147483647/strip/true/crop/3368x2243+0+139/resize/599x399!/quality/90/?url=https%3A%2F%2Fassets.apnews.com%2F49%2F08%2F669217d7f9d734a85f4dadd01274%2F3f91221b4d87434789bbf4e34bc32ac3)](https://apnews.com/article/trump-energy-permitting-reform-drilling-billion-investment-dd99706a325082cdf475e599ec3c0687) [![Image 114: Image](https://dims.apnews.com/dims4/default/bcd5cd4/2147483647/strip/true/crop/5572x3712+0+2/resize/599x399!/quality/90/?url=https%3A%2F%2Fassets.apnews.com%2F90%2F3a%2F54e9a82c765fa74d587bf2041f6a%2Fbd09b6cd0ee84c57bfe484c73799a8cb)](https://apnews.com/article/supreme-court-environment-regulation-recuse-gorsuch-utah-16cff708f7549ff430823213eeaa22f6) [![Image 118: Image](https://dims.apnews.com/dims4/default/6bb9c84/2147483647/strip/true/crop/5616x3741+0+2/resize/599x399!/quality/90/?url=https%3A%2F%2Fassets.apnews.com%2Fbd%2Fd5%2Fa6a842258afe7f54ba96306c1aa5%2Fcec851964be444f89a2d8ff1424493c0)](https://apnews.com/article/fact-check-vermont-supreme-court-vaccination-ruling-0256fc7ad888230ee8dc51f6fe0d479a)', 'score': 0.72042775, 'raw_content': None}, {'title': 'Top News: US & International Top News Stories Today | AP News', 'url': 'https://apnews.com/hub/ap-top-news', 'content': 'AP Top News\\nHeavy fighting across Gaza halts most aid delivery and leaves civilians with few places to seek safety\\nGeneration after generation, Israeli prison marks a rite of passage for Palestinian boys\\nTrump declines to rule out abusing power to seek retribution if he returns to the White House\\nWashington’s center of gravity on immigration has shifted to the right\\nRussian President Vladimir Putin visits Saudi Arabia and UAE as Ukraine war grinds on\\nUnder Putin, the uber-wealthy Russians known as ‘oligarchs’ are still rich but far less powerful\\nFormer UK Prime Minister Boris Johnson admits to making mistakes but defends COVID record at inquiry\\nAfter a fast start, COP28 climate talks now in murky middle of hope, roadblocks\\nPeruvian constitutional court orders release of former President Alberto Fujimori\\nAn earthquake, a shipwreck and a king’s coronation are among Europe’s views in 2023\\nNetanyahu alleges global indifference to what rights group calls ‘widespread’ sexual crimes by Hamas\\nVice President Harris breaks nearly 200-year-old record for Senate tiebreaker votes\\nNCAA President Charlie Baker calls for new tier of Division I where schools can pay athletes\\n2 boats adrift in the Andaman Sea with 400 Rohingya aboard desperately need rescue, UN says\\nTo phase out or phase down fossil fuels? it will uphold a tax on foreign income and leave a wealth tax for another day\\nMore bodies found after sudden eruption of Indonesia’s Mount Marapi, raising confirmed toll to 23\\nAn explosion leveled a home in Arlington, Virginia, as officers tried to serve a search warrant\\nHeisman finalists: LSU QB Daniels, Oregon QB Nix, Washington QB Penix Jr., Ohio St WR Harrison Jr.\\nJanet Yellen is heading to Mexico after Treasury launches a new fentanyl trafficking strike force\\nFormer career US diplomat charged with secretly spying for Cuban intelligence for decades\\nJonathan Majors assault trial starts with competing versions of a backseat confrontation\\nGore blasts COP28 climate chief and oil companies’ emissions pledges at UN summit\\nBiden’s allies in Senate demand that Israel limit civilian deaths in Gaza as Congress debates US aid\\nThe Supreme Court wrestles with OxyContin maker’s bankruptcy deal, with billions of dollars at stake\\nRecordings show how the Mormon church protects itself from child sex abuse claims\\nAP Top 25: Michigan is No. 1 for first time in 26 seasons, Georgia’s streak on top ends at 24 weeks\\nFrance’s anti-terrorism prosecutor opened an investigation into the killing of a tourist in Paris\\nKyiv investigates allegations Russian forces shot surrendering Ukrainian soldiers\\nRepublicans had New Yorkers lead the way in expelling Santos. Israel expands Gaza ground offensive, vows to hit the south with ‘no less strength’ than the north\\nPhilippine president blames foreign militants for a bombing that killed 4 Christian worshippers\\nTrump calls Biden the ‘destroyer’ of democracy despite his own efforts to overturn 2020 election\\nAuthorities identify suspect in killing of 3 homeless men in Los Angeles\\nTeen girls are being victimized by deepfake nudes. One family is pushing for more protections\\nPolice raid Moscow gay bars after a Supreme Court ruling labeled LGBTQ+ movement ‘extremist’\\nThe surfing venue for the Paris Olympics is on the other side of the world but could steal the show\\nJustice Sandra Day O’Connor paved a path for women on the Supreme Court. Four are serving today\\nLas Vegas police search for suspect after 5 homeless people are shot, killing 1\\nJudge rejects Trump’s claim of immunity in his federal 2020 election prosecution\\nCopyright 2023 The Associated Press.', 'score': 0.4549328, 'raw_content': None}], 'response_time': 1.66}), AIMessage(content='The article provides a summary of various news stories from around the world, including:\\n\\n* Heavy fighting in Gaza has halted most aid delivery and left civilians with few places to seek safety.\\n* Israeli Prime Minister Benjamin Netanyahu has alleged that there is \"global indifference\" to the widespread sexual crimes committed by Hamas.\\n* The US Supreme Court is wrestling with a bankruptcy deal involving OxyContin maker Purdue Pharma, with billions of dollars at stake.\\n* Former UK Prime Minister Boris Johnson has admitted to making mistakes but defended his COVID record at an inquiry.\\n* The COP28 climate talks are now in a \"murky middle\" of hope and roadblocks.\\n* Peruvian constitutional court has ordered the release of former President Alberto Fujimori.\\n* Two boats adrift in the Andaman Sea with 400 Rohingya aboard desperately need rescue, according to the UN.\\n* More bodies have been found after a sudden eruption of Indonesia\\'s Mount Marapi, raising the confirmed toll to 23.\\n\\nThese are just a few examples of the many news stories covered in the article.', additional_kwargs={}, response_metadata={'model': 'llama3.2', 'created_at': '2025-01-15T12:09:35.014857Z', 'message': {'role': 'assistant', 'content': 'The article provides a summary of various news stories from around the world, including:\\n\\n* Heavy fighting in Gaza has halted most aid delivery and left civilians with few places to seek safety.\\n* Israeli Prime Minister Benjamin Netanyahu has alleged that there is \"global indifference\" to the widespread sexual crimes committed by Hamas.\\n* The US Supreme Court is wrestling with a bankruptcy deal involving OxyContin maker Purdue Pharma, with billions of dollars at stake.\\n* Former UK Prime Minister Boris Johnson has admitted to making mistakes but defended his COVID record at an inquiry.\\n* The COP28 climate talks are now in a \"murky middle\" of hope and roadblocks.\\n* Peruvian constitutional court has ordered the release of former President Alberto Fujimori.\\n* Two boats adrift in the Andaman Sea with 400 Rohingya aboard desperately need rescue, according to the UN.\\n* More bodies have been found after a sudden eruption of Indonesia\\'s Mount Marapi, raising the confirmed toll to 23.\\n\\nThese are just a few examples of the many news stories covered in the article.'}, 'done_reason': 'stop', 'done': True, 'total_duration': 4155500291, 'load_duration': 36038541, 'prompt_eval_count': 2048, 'prompt_eval_duration': 1444000000, 'eval_count': 211, 'eval_duration': 2663000000}, id='run-fec7e748-a6e7-4192-ae2f-1c32d2051a8c-0', usage_metadata={'input_tokens': 2048, 'output_tokens': 211, 'total_tokens': 2259}), HumanMessage(content='Remember my name?', additional_kwargs={}, response_metadata={}, id='42e26bae-ac95-4064-985f-6303f372da6b'), AIMessage(content='', additional_kwargs={}, response_metadata={'model': 'llama3.2', 'created_at': '2025-01-15T12:09:49.975082Z', 'message': {'role': 'assistant', 'content': '', 'tool_calls': [{'function': {'name': 'tavily_search_results_json', 'arguments': {'query': 'news and current events'}}}]}, 'done_reason': 'stop', 'done': True, 'total_duration': 665178042, 'load_duration': 31537000, 'prompt_eval_count': 405, 'prompt_eval_duration': 390000000, 'eval_count': 24, 'eval_duration': 229000000}, id='run-dd0f1ad8-214e-42f9-a714-36fdeb0eff23-0', tool_calls=[{'name': 'tavily_search_results_json', 'args': {'query': 'news and current events'}, 'id': '61949631-3f88-4077-b204-c6977880e50b', 'type': 'tool_call'}], usage_metadata={'input_tokens': 405, 'output_tokens': 24, 'total_tokens': 429}), ToolMessage(content='[{\"url\": \"https://apnews.com/us-news\", \"content\": \"U.S. News\\\\nBlinken sees goals largely unfulfilled in Mideast trip, even as Israel pledges to protect civilians\\\\nKlete Keller, Olympic gold medalist swimmer, gets 6 months in home detention for Jan. 6 Capitol riot\\\\nBreaches by Iran-affiliated hackers spanned multiple U.S. states, federal agencies say\\\\nReport: Belief death penalty is applied unfairly shows capital punishment’s growing isolation in US\\\\nRetired Justice Sandra Day O’Connor, the first woman on the Supreme Court, has died at 93\\\\nTopics\\\\nAbortion\\\\nCourt pauses federal policy allowing abortion clinic operators to get grants -- but only in Ohio\\\\nMan pleads guilty to 2022 firebombing of Wisconsin anti-abortion office\\\\nWest Virginia places anti-abortion pregnancy center coalition at the helm of $1M grant program\\\\nOpponents gave input on ballot language for abortion-rights measure, Ohio elections chief says\\\\nLGBTQ+\\\\nPolice raid Moscow gay bars after a Supreme Court ruling labeled LGBTQ+ movement ‘extremist’\\\\nIowa court affirms hate crime conviction of man who left anti-gay notes at homes with rainbow flags\\\\nFirst same-sex married couple in Nepal vow to continue campaign for gay rights\\\\nFor a male sexual assault survivor, justice won in court does not equal healing\\\\nShootings\\\\nLas Vegas police search for suspect after 5 homeless people are shot, killing 1\\\\nLos Angeles police searching for suspect in three fatal shootings of homeless people\\\\nA world away from the West Bank, Vermont shooting victims and their families face new grief and fear\\\\nState trooper who fatally shot man at hospital likely prevented more injuries, attorney general says\\\\nImmigration\\\\nUS border officials are closing a remote Arizona crossing because of overwhelming migrant arrivals\\\\nTexas judge rips into Biden administration’s handling of border in dispute over razor wire barrier\\\\nCongress is eying immigration limits as GOP demands border changes in swap for Biden overseas aid\\\\nRepublicans want to pair border security with aid for Ukraine. Here’s why that makes a deal so tough\\\\nMore news\\\\nMassachusetts Republicans stall funding, again, to shelter the homeless and migrants\\\\nDefense head calls out those who advocate isolationism and ‘an American retreat from responsibility’\\\\nFormer prep school teacher going back to prison for incident as camp counselor\\\\nRacist remarks cited before cannabis regulator’s suspension, court documents say\\\\nAlabama woman pleads guilty in 2019 baseball bat beating death of man found in a barrel\\\\nWinter weather in Pacific Northwest cuts power to thousands in Seattle, dumps snow on Cascades\\\\nGroup of swing state Muslims vows to ditch Biden in 2024 over his war stance\\\\nFederal judge tosses lawsuit alleging environmental racism in St. James Parish\\\\nSheriff says Alabama family’s pet ‘wolf-hybrid’ killed their 3-month-old boy\\\\nVermont day care provider convicted of causing infant’s death with doses of antihistamine\\\\nRemington gun factory in operation for nearly 200 years is set to close\\\\nWest Virginia prison inmate indicted on murder charge in missing daughter’s death\\\\nBMW recalls SUVs after Takata air bag inflator blows apart, hurling shrapnel and injuring driver\\\\nSend-offs show Carlton Pearson’s split legacy spurred by his inclusive beliefs, rejection of hell\\\\nTeen girls are being victimized by deepfake nudes. Four are serving today\\\\nUS Navy plans to raise jet plane off Hawaii coral reef using inflatable cylinders\\\\nJudge rejects calls to halt winter construction work on Willow oil project in Alaska during appeal\\\\nUS proposes plan to help the snow-dependent Canada lynx before warming shrinks its habitat\\\\nFormer Colombian military officer accused in base bombing extradited to Florida\\\\nFormer Memphis officer charged in Tyre Nichols’ death had some violations in prior prison guard job\\\\nNew York could see more legal pot shops after state settles cases that halted market\\\\nEx-correctional officer at federal prison in California gets 5 years for sexually abusing inmates\\\\nMan who avoided prosecution as teen in 13-year-old’s killing found guilty of killing father of 2\\\\nJury orders egg suppliers to pay $17.7 million in damages for price gouging in 2000s\\\\nMovie armorer in ‘Rust’ fatal shooting pleads not guilty to unrelated gun charge\\\\nWisconsin Senate Democrats choose Hesselbein as new minority leader\\\\nAging dams in central and western Massachusetts to be removed in $25M project\\\\nCopyright 2023 The Associated Press. One family is pushing for more protections\\\\nCalifornia sheriff’s sergeant recovering after exchanging gunfire with suspect who was killed\\\\nTrump and DeSantis are at dueling campaign events in Iowa with the caucuses just six weeks away\\\\nJustice Sandra Day O’Connor paved a path for women on the Supreme Court. All Rights Reserved.\\\\n\"}, {\"url\": \"https://www.cnn.com/\", \"content\": \"View the latest news and breaking news today for U.S., world, weather, entertainment, politics and health at CNN.com.\"}]', name='tavily_search_results_json', id='4929872e-d802-4e87-9b3a-f0e3f0009da9', tool_call_id='61949631-3f88-4077-b204-c6977880e50b', artifact={'query': 'news and current events', 'follow_up_questions': None, 'answer': None, 'images': [], 'results': [{'title': 'U.S. News: Top U.S. News Today | AP News - Associated Press News', 'url': 'https://apnews.com/us-news', 'content': 'U.S. News\\nBlinken sees goals largely unfulfilled in Mideast trip, even as Israel pledges to protect civilians\\nKlete Keller, Olympic gold medalist swimmer, gets 6 months in home detention for Jan. 6 Capitol riot\\nBreaches by Iran-affiliated hackers spanned multiple U.S. states, federal agencies say\\nReport: Belief death penalty is applied unfairly shows capital punishment’s growing isolation in US\\nRetired Justice Sandra Day O’Connor, the first woman on the Supreme Court, has died at 93\\nTopics\\nAbortion\\nCourt pauses federal policy allowing abortion clinic operators to get grants -- but only in Ohio\\nMan pleads guilty to 2022 firebombing of Wisconsin anti-abortion office\\nWest Virginia places anti-abortion pregnancy center coalition at the helm of $1M grant program\\nOpponents gave input on ballot language for abortion-rights measure, Ohio elections chief says\\nLGBTQ+\\nPolice raid Moscow gay bars after a Supreme Court ruling labeled LGBTQ+ movement ‘extremist’\\nIowa court affirms hate crime conviction of man who left anti-gay notes at homes with rainbow flags\\nFirst same-sex married couple in Nepal vow to continue campaign for gay rights\\nFor a male sexual assault survivor, justice won in court does not equal healing\\nShootings\\nLas Vegas police search for suspect after 5 homeless people are shot, killing 1\\nLos Angeles police searching for suspect in three fatal shootings of homeless people\\nA world away from the West Bank, Vermont shooting victims and their families face new grief and fear\\nState trooper who fatally shot man at hospital likely prevented more injuries, attorney general says\\nImmigration\\nUS border officials are closing a remote Arizona crossing because of overwhelming migrant arrivals\\nTexas judge rips into Biden administration’s handling of border in dispute over razor wire barrier\\nCongress is eying immigration limits as GOP demands border changes in swap for Biden overseas aid\\nRepublicans want to pair border security with aid for Ukraine. Here’s why that makes a deal so tough\\nMore news\\nMassachusetts Republicans stall funding, again, to shelter the homeless and migrants\\nDefense head calls out those who advocate isolationism and ‘an American retreat from responsibility’\\nFormer prep school teacher going back to prison for incident as camp counselor\\nRacist remarks cited before cannabis regulator’s suspension, court documents say\\nAlabama woman pleads guilty in 2019 baseball bat beating death of man found in a barrel\\nWinter weather in Pacific Northwest cuts power to thousands in Seattle, dumps snow on Cascades\\nGroup of swing state Muslims vows to ditch Biden in 2024 over his war stance\\nFederal judge tosses lawsuit alleging environmental racism in St. James Parish\\nSheriff says Alabama family’s pet ‘wolf-hybrid’ killed their 3-month-old boy\\nVermont day care provider convicted of causing infant’s death with doses of antihistamine\\nRemington gun factory in operation for nearly 200 years is set to close\\nWest Virginia prison inmate indicted on murder charge in missing daughter’s death\\nBMW recalls SUVs after Takata air bag inflator blows apart, hurling shrapnel and injuring driver\\nSend-offs show Carlton Pearson’s split legacy spurred by his inclusive beliefs, rejection of hell\\nTeen girls are being victimized by deepfake nudes. Four are serving today\\nUS Navy plans to raise jet plane off Hawaii coral reef using inflatable cylinders\\nJudge rejects calls to halt winter construction work on Willow oil project in Alaska during appeal\\nUS proposes plan to help the snow-dependent Canada lynx before warming shrinks its habitat\\nFormer Colombian military officer accused in base bombing extradited to Florida\\nFormer Memphis officer charged in Tyre Nichols’ death had some violations in prior prison guard job\\nNew York could see more legal pot shops after state settles cases that halted market\\nEx-correctional officer at federal prison in California gets 5 years for sexually abusing inmates\\nMan who avoided prosecution as teen in 13-year-old’s killing found guilty of killing father of 2\\nJury orders egg suppliers to pay $17.7 million in damages for price gouging in 2000s\\nMovie armorer in ‘Rust’ fatal shooting pleads not guilty to unrelated gun charge\\nWisconsin Senate Democrats choose Hesselbein as new minority leader\\nAging dams in central and western Massachusetts to be removed in $25M project\\nCopyright 2023 The Associated Press. One family is pushing for more protections\\nCalifornia sheriff’s sergeant recovering after exchanging gunfire with suspect who was killed\\nTrump and DeSantis are at dueling campaign events in Iowa with the caucuses just six weeks away\\nJustice Sandra Day O’Connor paved a path for women on the Supreme Court. All Rights Reserved.\\n', 'score': 0.53400564, 'raw_content': None}, {'title': 'Breaking News, Latest News and Videos | CNN', 'url': 'https://www.cnn.com/', 'content': 'View the latest news and breaking news today for U.S., world, weather, entertainment, politics and health at CNN.com.', 'score': 0.3608724, 'raw_content': None}], 'response_time': 1.64}), AIMessage(content=\"I remember that you didn't give me a name to recall. You initially asked me to remember your name when I received a tool call response. Please feel free to remind me of your name so I can address you properly in our conversation.\", additional_kwargs={}, response_metadata={'model': 'llama3.2', 'created_at': '2025-01-15T12:09:53.460204Z', 'message': {'role': 'assistant', 'content': \"I remember that you didn't give me a name to recall. You initially asked me to remember your name when I received a tool call response. Please feel free to remind me of your name so I can address you properly in our conversation.\"}, 'done_reason': 'stop', 'done': True, 'total_duration': 1405349459, 'load_duration': 30246084, 'prompt_eval_count': 1332, 'prompt_eval_duration': 808000000, 'eval_count': 49, 'eval_duration': 554000000}, id='run-fdccf46c-b441-47f2-9adc-7d460d269fd4-0', usage_metadata={'input_tokens': 1332, 'output_tokens': 49, 'total_tokens': 1381})]}, next=(), config={'configurable': {'thread_id': '1', 'checkpoint_ns': '', 'checkpoint_id': '1efd339a-0b5a-690c-800a-0ca76e6a0716'}}, metadata={'source': 'loop', 'writes': {'chatbot': {'messages': [AIMessage(content=\"I remember that you didn't give me a name to recall. You initially asked me to remember your name when I received a tool call response. Please feel free to remind me of your name so I can address you properly in our conversation.\", additional_kwargs={}, response_metadata={'model': 'llama3.2', 'created_at': '2025-01-15T12:09:53.460204Z', 'message': {'role': 'assistant', 'content': \"I remember that you didn't give me a name to recall. You initially asked me to remember your name when I received a tool call response. Please feel free to remind me of your name so I can address you properly in our conversation.\"}, 'done_reason': 'stop', 'done': True, 'total_duration': 1405349459, 'load_duration': 30246084, 'prompt_eval_count': 1332, 'prompt_eval_duration': 808000000, 'eval_count': 49, 'eval_duration': 554000000}, id='run-fdccf46c-b441-47f2-9adc-7d460d269fd4-0', usage_metadata={'input_tokens': 1332, 'output_tokens': 49, 'total_tokens': 1381})]}}, 'step': 10, 'parents': {}}, created_at='2025-01-15T12:09:53.463009+00:00', parent_config={'configurable': {'thread_id': '1', 'checkpoint_ns': '', 'checkpoint_id': '1efd3399-fde7-6720-8009-d5114ff791df'}}, tasks=())"
      ]
     },
     "execution_count": 40,
     "metadata": {},
     "output_type": "execute_result"
    }
   ],
   "source": [
    "snapshot = graph.get_state(config)\n",
    "snapshot"
   ]
  },
  {
   "cell_type": "code",
   "execution_count": 41,
   "id": "c106bd09-f155-4e15-9120-c60c834106e5",
   "metadata": {},
   "outputs": [
    {
     "data": {
      "text/plain": [
       "()"
      ]
     },
     "execution_count": 41,
     "metadata": {},
     "output_type": "execute_result"
    }
   ],
   "source": [
    "snapshot.next  # (since the graph ended this turn, `next` is empty. If you fetch a state from within a graph invocation, next tells which node will execute next)"
   ]
  },
  {
   "cell_type": "markdown",
   "id": "627f4998-6780-4cce-8f3c-9a5580888e3a",
   "metadata": {},
   "source": [
    "The snapshot above contains the current state values, corresponding config, and the `next` node to process. In our case, the graph has reached an `END` state, so `next` is empty.\n",
    "\n",
    "**Congratulations!** Your chatbot can now maintain conversation state across sessions thanks to LangGraph's checkpointing system. This opens up exciting possibilities for more natural, contextual interactions. LangGraph's checkpointing even handles **arbitrarily complex graph states**, which is much more expressive and powerful than simple chat memory.\n",
    "\n",
    "In the next part, we'll introduce human oversight to our bot to handle situations where it may need guidance or verification before proceeding.\n",
    "  \n",
    "Check out the code snippet below to review our graph from this section.\n",
    "\n",
    "<details>\n",
    "<summary>Full Code</summary>\n",
    "    <pre>\n",
    "\n",
    "```python\n",
    "from typing import Annotated\n",
    "\n",
    "from langchain_anthropic import ChatAnthropic\n",
    "from langchain_community.tools.tavily_search import TavilySearchResults\n",
    "from langchain_core.messages import BaseMessage\n",
    "from typing_extensions import TypedDict\n",
    "\n",
    "from langgraph.checkpoint.memory import MemorySaver\n",
    "from langgraph.graph import StateGraph\n",
    "from langgraph.graph.message import add_messages\n",
    "from langgraph.prebuilt import ToolNode\n",
    "\n",
    "\n",
    "class State(TypedDict):\n",
    "    messages: Annotated[list, add_messages]\n",
    "\n",
    "\n",
    "graph_builder = StateGraph(State)\n",
    "\n",
    "\n",
    "tool = TavilySearchResults(max_results=2)\n",
    "tools = [tool]\n",
    "\n",
    "llm_with_tools = llm.bind_tools(tools)\n",
    "\n",
    "\n",
    "def chatbot(state: State):\n",
    "    return {\"messages\": [llm_with_tools.invoke(state[\"messages\"])]}\n",
    "\n",
    "\n",
    "graph_builder.add_node(\"chatbot\", chatbot)\n",
    "\n",
    "tool_node = ToolNode(tools=[tool])\n",
    "graph_builder.add_node(\"tools\", tool_node)\n",
    "\n",
    "graph_builder.add_conditional_edges(\n",
    "    \"chatbot\",\n",
    "    tools_condition,\n",
    ")\n",
    "graph_builder.add_edge(\"tools\", \"chatbot\")\n",
    "graph_builder.set_entry_point(\"chatbot\")\n",
    "graph = graph_builder.compile(checkpointer=memory)\n",
    "```\n",
    "</pre>\n",
    "</pre>\n",
    "</details>"
   ]
  },
  {
   "cell_type": "markdown",
   "id": "6f1da240-ec9b-441f-9d47-44c6dc85d540",
   "metadata": {},
   "source": [
    "## Part 4: Human-in-the-loop\n",
    "\n",
    "Agents can be unreliable and may need human input to successfully accomplish tasks. Similarly, for some actions, you may want to require human approval before running to ensure that everything is running as intended.\n",
    "\n",
    "LangGraph supports `human-in-the-loop` workflows in a number of ways. In this section, we will use LangGraph's `interrupt_before` functionality to always break the tool node.\n",
    "\n",
    "First, start from our existing code. The following is copied from Part 3."
   ]
  },
  {
   "cell_type": "code",
   "execution_count": 43,
   "id": "5a81608a-373a-4339-b1c6-65b73a92b983",
   "metadata": {},
   "outputs": [
    {
     "data": {
      "text/plain": [
       "<langgraph.graph.state.StateGraph at 0x121d863d0>"
      ]
     },
     "execution_count": 43,
     "metadata": {},
     "output_type": "execute_result"
    }
   ],
   "source": [
    "from typing import Annotated\n",
    "\n",
    "from langchain_anthropic import ChatAnthropic\n",
    "from langchain_community.tools.tavily_search import TavilySearchResults\n",
    "from typing_extensions import TypedDict\n",
    "\n",
    "from langgraph.checkpoint.memory import MemorySaver\n",
    "from langgraph.graph import StateGraph, START\n",
    "from langgraph.graph.message import add_messages\n",
    "from langgraph.prebuilt import ToolNode, tools_condition\n",
    "from langchain_ollama import ChatOllama, OllamaEmbeddings\n",
    "\n",
    "llm = ChatOllama(model='llama3.2', temperature=0.3)\n",
    "embeddings = OllamaEmbeddings(model='snowflake-arctic-embed:33m')\n",
    "\n",
    "\n",
    "memory = MemorySaver()\n",
    "\n",
    "\n",
    "class State(TypedDict):\n",
    "    messages: Annotated[list, add_messages]\n",
    "\n",
    "\n",
    "graph_builder = StateGraph(State)\n",
    "\n",
    "\n",
    "tool = TavilySearchResults(max_results=2)\n",
    "tools = [tool]\n",
    "llm_with_tools = llm.bind_tools(tools)\n",
    "\n",
    "\n",
    "def chatbot(state: State):\n",
    "    return {\"messages\": [llm_with_tools.invoke(state[\"messages\"])]}\n",
    "\n",
    "\n",
    "graph_builder.add_node(\"chatbot\", chatbot)\n",
    "\n",
    "tool_node = ToolNode(tools=[tool])\n",
    "graph_builder.add_node(\"tools\", tool_node)\n",
    "\n",
    "graph_builder.add_conditional_edges(\n",
    "    \"chatbot\",\n",
    "    tools_condition,\n",
    ")\n",
    "graph_builder.add_edge(\"tools\", \"chatbot\")\n",
    "graph_builder.add_edge(START, \"chatbot\")"
   ]
  },
  {
   "cell_type": "markdown",
   "id": "813505b2-18c1-46e9-b891-20a34232808b",
   "metadata": {},
   "source": [
    "Now, compile the graph, specifying to `interrupt_before` the `tools` node."
   ]
  },
  {
   "cell_type": "code",
   "execution_count": 44,
   "id": "b0883e32-1a39-4ce9-ae32-bbd66708fd84",
   "metadata": {},
   "outputs": [],
   "source": [
    "graph = graph_builder.compile(\n",
    "    checkpointer=memory,\n",
    "    # This is new!\n",
    "    interrupt_before=[\"tools\"],\n",
    "    # Note: can also interrupt __after__ tools, if desired.\n",
    "    # interrupt_after=[\"tools\"]\n",
    ")"
   ]
  },
  {
   "cell_type": "code",
   "execution_count": 45,
   "id": "9f318020-ab7e-415b-a5e2-eddec6d9f3a6",
   "metadata": {},
   "outputs": [
    {
     "name": "stdout",
     "output_type": "stream",
     "text": [
      "================================\u001b[1m Human Message \u001b[0m=================================\n",
      "\n",
      "I'm learning LangGraph. Could you do some research on it for me?\n",
      "==================================\u001b[1m Ai Message \u001b[0m==================================\n",
      "Tool Calls:\n",
      "  tavily_search_results_json (27fa15ba-e724-4e4c-a230-70f647b46e67)\n",
      " Call ID: 27fa15ba-e724-4e4c-a230-70f647b46e67\n",
      "  Args:\n",
      "    query: LangGraph\n"
     ]
    }
   ],
   "source": [
    "user_input = \"I'm learning LangGraph. Could you do some research on it for me?\"\n",
    "config = {\"configurable\": {\"thread_id\": \"1\"}}\n",
    "# The config is the **second positional argument** to stream() or invoke()!\n",
    "events = graph.stream(\n",
    "    {\"messages\": [(\"user\", user_input)]}, config, stream_mode=\"values\"\n",
    ")\n",
    "for event in events:\n",
    "    if \"messages\" in event:\n",
    "        event[\"messages\"][-1].pretty_print()"
   ]
  },
  {
   "cell_type": "markdown",
   "id": "39405637-13b1-40b1-a51e-6d60bf675ff1",
   "metadata": {},
   "source": [
    "Let's inspect the graph state to confirm it worked."
   ]
  },
  {
   "cell_type": "code",
   "execution_count": 46,
   "id": "9bb7af46-9b4f-4bb1-b8b9-e9ddf7dbc82c",
   "metadata": {},
   "outputs": [
    {
     "data": {
      "text/plain": [
       "('tools',)"
      ]
     },
     "execution_count": 46,
     "metadata": {},
     "output_type": "execute_result"
    }
   ],
   "source": [
    "snapshot = graph.get_state(config)\n",
    "snapshot.next"
   ]
  },
  {
   "cell_type": "markdown",
   "id": "89326046-2b11-4812-8b6d-8780306ec275",
   "metadata": {},
   "source": [
    "**Notice** that unlike last time, the \"next\" node is set to **'tools'**. We've interrupted here! Let's check the tool invocation."
   ]
  },
  {
   "cell_type": "code",
   "execution_count": 47,
   "id": "3facda0a-e6ad-4b28-b627-753ad8c90c15",
   "metadata": {},
   "outputs": [
    {
     "data": {
      "text/plain": [
       "[{'name': 'tavily_search_results_json',\n",
       "  'args': {'query': 'LangGraph'},\n",
       "  'id': '27fa15ba-e724-4e4c-a230-70f647b46e67',\n",
       "  'type': 'tool_call'}]"
      ]
     },
     "execution_count": 47,
     "metadata": {},
     "output_type": "execute_result"
    }
   ],
   "source": [
    "existing_message = snapshot.values[\"messages\"][-1]\n",
    "existing_message.tool_calls"
   ]
  },
  {
   "cell_type": "markdown",
   "id": "a55a4c70-7226-4be0-8562-391f72bc1f2b",
   "metadata": {},
   "source": [
    "This query seems reasonable. Nothing to filter here. The simplest thing the human can do is just let the graph continue executing. Let's do that below.\n",
    "\n",
    "Next, continue the graph! Passing in `None` will just let the graph continue where it left off, without adding anything new to the state."
   ]
  },
  {
   "cell_type": "code",
   "execution_count": 48,
   "id": "effb95d9-b7d5-40c5-9253-253d193b23b2",
   "metadata": {},
   "outputs": [
    {
     "name": "stdout",
     "output_type": "stream",
     "text": [
      "==================================\u001b[1m Ai Message \u001b[0m==================================\n",
      "Tool Calls:\n",
      "  tavily_search_results_json (27fa15ba-e724-4e4c-a230-70f647b46e67)\n",
      " Call ID: 27fa15ba-e724-4e4c-a230-70f647b46e67\n",
      "  Args:\n",
      "    query: LangGraph\n",
      "=================================\u001b[1m Tool Message \u001b[0m=================================\n",
      "Name: tavily_search_results_json\n",
      "\n",
      "[{\"url\": \"https://langchain-ai.github.io/langgraph/\", \"content\": \"Overview¶. LangGraph is a library for building stateful, multi-actor applications with LLMs, used to create agent and multi-agent workflows. Compared to other LLM frameworks, it offers these core benefits: cycles, controllability, and persistence. LangGraph allows you to define flows that involve cycles, essential for most agentic architectures, differentiating it from DAG-based solutions.\"}, {\"url\": \"https://www.datacamp.com/tutorial/langgraph-tutorial\", \"content\": \"LangGraph is a library within the LangChain ecosystem that simplifies the development of complex, multi-agent large language model (LLM) applications. Learn how to use LangGraph to create stateful, flexible, and scalable systems with nodes, edges, and state management.\"}]\n",
      "==================================\u001b[1m Ai Message \u001b[0m==================================\n",
      "\n",
      "Based on the tool call response, here's a formatted answer to your original question:\n",
      "\n",
      "LangGraph is a library within the LangChain ecosystem that simplifies the development of complex, multi-agent large language model (LLM) applications. It allows you to define flows that involve cycles, which is essential for most agentic architectures. With LangGraph, you can create stateful, flexible, and scalable systems with nodes, edges, and state management. This library offers benefits such as controllability and persistence compared to other LLM frameworks.\n"
     ]
    }
   ],
   "source": [
    "# `None` will append nothing new to the current state, letting it resume as if it had never been interrupted\n",
    "events = graph.stream(None, config, stream_mode=\"values\")\n",
    "for event in events:\n",
    "    if \"messages\" in event:\n",
    "        event[\"messages\"][-1].pretty_print()"
   ]
  },
  {
   "cell_type": "markdown",
   "id": "21e78a97-474f-4709-b51d-9d5e8323e14c",
   "metadata": {},
   "source": [
    "Review this call's [LangSmith trace](https://smith.langchain.com/public/4d7f8757-9d3b-43b9-88b6-aeab0595bc4c/r) to see the exact work that was done in the above call. Notice that the state is loaded in the first step so that your chatbot can continue where it left off.\n",
    "\n",
    "**Congrats!** You've used an `interrupt` to add human-in-the-loop execution to your chatbot, allowing for human oversight and intervention when needed. This opens up the potential UIs you can create with your AI systems. Since we have already added a **checkpointer**, the graph can be paused **indefinitely** and resumed at any time as if nothing had happened.\n",
    "\n",
    "Next, we'll explore how to further customize the bot's behavior using custom state updates.\n",
    "\n",
    "Below is a copy of the code you used in this section. The only difference between this and the previous parts is the addition of the `interrupt_before` argument.\n",
    "\n",
    "<details>\n",
    "<summary>Full Code</summary>\n",
    "    <pre>\n",
    "\n",
    "```python\n",
    "from typing import Annotated\n",
    "\n",
    "from langchain_anthropic import ChatAnthropic\n",
    "from langchain_community.tools.tavily_search import TavilySearchResults\n",
    "from langchain_core.messages import BaseMessage\n",
    "from typing_extensions import TypedDict\n",
    "\n",
    "from langgraph.checkpoint.memory import MemorySaver\n",
    "from langgraph.graph import StateGraph\n",
    "from langgraph.graph.message import add_messages\n",
    "from langgraph.prebuilt import ToolNode, tools_condition\n",
    "\n",
    "\n",
    "class State(TypedDict):\n",
    "    messages: Annotated[list, add_messages]\n",
    "\n",
    "\n",
    "graph_builder = StateGraph(State)\n",
    "\n",
    "\n",
    "tool = TavilySearchResults(max_results=2)\n",
    "tools = [tool]\n",
    "\n",
    "llm_with_tools = llm.bind_tools(tools)\n",
    "\n",
    "\n",
    "def chatbot(state: State):\n",
    "    return {\"messages\": [llm_with_tools.invoke(state[\"messages\"])]}\n",
    "\n",
    "\n",
    "graph_builder.add_node(\"chatbot\", chatbot)\n",
    "\n",
    "tool_node = ToolNode(tools=[tool])\n",
    "graph_builder.add_node(\"tools\", tool_node)\n",
    "\n",
    "graph_builder.add_conditional_edges(\n",
    "    \"chatbot\",\n",
    "    tools_condition,\n",
    ")\n",
    "graph_builder.add_edge(\"tools\", \"chatbot\")\n",
    "graph_builder.set_entry_point(\"chatbot\")\n",
    "\n",
    "memory = MemorySaver()\n",
    "graph = graph_builder.compile(\n",
    "    checkpointer=memory,\n",
    "    # This is new!\n",
    "    interrupt_before=[\"tools\"],\n",
    "    # Note: can also interrupt __after__ actions, if desired.\n",
    "    # interrupt_after=[\"tools\"]\n",
    ")\n",
    "```\n",
    "</pre>\n",
    "</details>"
   ]
  },
  {
   "cell_type": "markdown",
   "id": "6df38bc4-c177-4ccd-9ec2-83d32bf66722",
   "metadata": {},
   "source": [
    "## Part 5: Manually Updating the State\n",
    "\n",
    "In the previous section, we showed how to interrupt a graph so that a human could inspect its actions. This lets the human `read` the state, but if they want to change their agent's course, they'll need to have `write` access.\n",
    "\n",
    "Thankfully, LangGraph lets you **manually update state**! Updating the state lets you control the agent's trajectory by modifying its actions (even modifying the past!). This capability is particularly useful when you want to correct the agent's mistakes, explore alternative paths, or guide the agent towards a specific goal.\n",
    "\n",
    "We'll show how to update a checkpointed state below. As before, first, define your graph. We'll reuse the exact same graph as before."
   ]
  },
  {
   "cell_type": "code",
   "execution_count": 49,
   "id": "faa345c6-38a2-42e8-9035-9cf56f7bb5b1",
   "metadata": {},
   "outputs": [],
   "source": [
    "from typing import Annotated\n",
    "\n",
    "from langchain_anthropic import ChatAnthropic\n",
    "from langchain_community.tools.tavily_search import TavilySearchResults\n",
    "from typing_extensions import TypedDict\n",
    "\n",
    "from langgraph.checkpoint.memory import MemorySaver\n",
    "from langgraph.graph import StateGraph, START\n",
    "from langgraph.graph.message import add_messages\n",
    "from langgraph.prebuilt import ToolNode, tools_condition\n",
    "\n",
    "\n",
    "class State(TypedDict):\n",
    "    messages: Annotated[list, add_messages]\n",
    "\n",
    "\n",
    "graph_builder = StateGraph(State)\n",
    "\n",
    "\n",
    "tool = TavilySearchResults(max_results=2)\n",
    "tools = [tool]\n",
    "llm_with_tools = llm.bind_tools(tools)\n",
    "\n",
    "\n",
    "def chatbot(state: State):\n",
    "    return {\"messages\": [llm_with_tools.invoke(state[\"messages\"])]}\n",
    "\n",
    "\n",
    "graph_builder.add_node(\"chatbot\", chatbot)\n",
    "\n",
    "tool_node = ToolNode(tools=[tool])\n",
    "graph_builder.add_node(\"tools\", tool_node)\n",
    "\n",
    "graph_builder.add_conditional_edges(\n",
    "    \"chatbot\",\n",
    "    tools_condition,\n",
    ")\n",
    "graph_builder.add_edge(\"tools\", \"chatbot\")\n",
    "graph_builder.add_edge(START, \"chatbot\")\n",
    "memory = MemorySaver()\n",
    "graph = graph_builder.compile(\n",
    "    checkpointer=memory,\n",
    "    # This is new!\n",
    "    interrupt_before=[\"tools\"],\n",
    "    # Note: can also interrupt **after** actions, if desired.\n",
    "    # interrupt_after=[\"tools\"]\n",
    ")\n",
    "\n",
    "user_input = \"I'm learning LangGraph. Could you do some research on it for me?\"\n",
    "config = {\"configurable\": {\"thread_id\": \"1\"}}\n",
    "# The config is the **second positional argument** to stream() or invoke()!\n",
    "events = graph.stream({\"messages\": [(\"user\", user_input)]}, config)\n",
    "for event in events:\n",
    "    if \"messages\" in event:\n",
    "        event[\"messages\"][-1].pretty_print()"
   ]
  },
  {
   "cell_type": "code",
   "execution_count": 50,
   "id": "a6b3bcae-dd04-49da-a4ef-e05634657faf",
   "metadata": {},
   "outputs": [
    {
     "name": "stdout",
     "output_type": "stream",
     "text": [
      "==================================\u001b[1m Ai Message \u001b[0m==================================\n",
      "Tool Calls:\n",
      "  tavily_search_results_json (5da1d090-6fcf-4879-a7e3-896887310cc8)\n",
      " Call ID: 5da1d090-6fcf-4879-a7e3-896887310cc8\n",
      "  Args:\n",
      "    query: LangGraph\n"
     ]
    }
   ],
   "source": [
    "snapshot = graph.get_state(config)\n",
    "existing_message = snapshot.values[\"messages\"][-1]\n",
    "existing_message.pretty_print()"
   ]
  },
  {
   "cell_type": "markdown",
   "id": "3bf55a26-8c12-477a-9e83-5011d36ac4ee",
   "metadata": {},
   "source": [
    "So far, all of this is an _exact repeat_ of the previous section. The LLM just requested to use the search engine tool and our graph was interrupted. If we proceed as before, the tool will be called to search the web.\n",
    "\n",
    "But what if the user wants to intercede? What if we think the chat bot doesn't need to use the tool? \n",
    "\n",
    "Let's directly provide the correct response!"
   ]
  },
  {
   "cell_type": "code",
   "execution_count": 51,
   "id": "6a44bedc-ea91-4c22-976c-98b3d5a5e4a7",
   "metadata": {},
   "outputs": [
    {
     "name": "stdout",
     "output_type": "stream",
     "text": [
      "==================================\u001b[1m Ai Message \u001b[0m==================================\n",
      "\n",
      "LangGraph is a library for building stateful, multi-actor applications with LLMs.\n",
      "\n",
      "\n",
      "Last 2 messages;\n",
      "[ToolMessage(content='LangGraph is a library for building stateful, multi-actor applications with LLMs.', id='c0090bb0-28ec-4f77-ad49-1fe6c220106e', tool_call_id='5da1d090-6fcf-4879-a7e3-896887310cc8'), AIMessage(content='LangGraph is a library for building stateful, multi-actor applications with LLMs.', additional_kwargs={}, response_metadata={}, id='e945f134-8e8d-43b9-85b1-a861163d5e83')]\n"
     ]
    }
   ],
   "source": [
    "from langchain_core.messages import AIMessage, ToolMessage\n",
    "\n",
    "answer = (\n",
    "    \"LangGraph is a library for building stateful, multi-actor applications with LLMs.\"\n",
    ")\n",
    "new_messages = [\n",
    "    # The LLM API expects some ToolMessage to match its tool call. We'll satisfy that here.\n",
    "    ToolMessage(content=answer, tool_call_id=existing_message.tool_calls[0][\"id\"]),\n",
    "    # And then directly \"put words in the LLM's mouth\" by populating its response.\n",
    "    AIMessage(content=answer),\n",
    "]\n",
    "\n",
    "new_messages[-1].pretty_print()\n",
    "graph.update_state(\n",
    "    # Which state to update\n",
    "    config,\n",
    "    # The updated values to provide. The messages in our `State` are \"append-only\", meaning this will be appended\n",
    "    # to the existing state. We will review how to update existing messages in the next section!\n",
    "    {\"messages\": new_messages},\n",
    ")\n",
    "\n",
    "print(\"\\n\\nLast 2 messages;\")\n",
    "print(graph.get_state(config).values[\"messages\"][-2:])"
   ]
  },
  {
   "cell_type": "markdown",
   "id": "584de971-6b10-4931-986e-cc35f7adbb3d",
   "metadata": {},
   "source": [
    "Now the graph is complete, since we've provided the final response message! Since state updates simulate a graph step, they even generate corresponding traces. Inspect the [LangSmith trace](https://smith.langchain.com/public/6d72aeb5-3bca-4090-8684-a11d5a36b10c/r) of the `update_state` call above to see what's going on.\n",
    "\n",
    "**Notice** that our new messages are _appended_ to the messages already in the state. Remember how we defined the `State` type?\n",
    "\n",
    "```python\n",
    "class State(TypedDict):\n",
    "    messages: Annotated[list, add_messages]\n",
    "```\n",
    "\n",
    "We annotated `messages` with the pre-built `add_messages` function. This instructs the graph to always append values to the existing list, rather than overwriting the list directly. The same logic is applied here, so the messages we passed to `update_state` were appended in the same way!\n",
    "\n",
    "The `update_state` function operates as if it were one of the nodes in your graph! By default, the update operation uses the node that was last executed, but you can manually specify it below. Let's add an update and tell the graph to treat it as if it came from the \"chatbot\"."
   ]
  },
  {
   "cell_type": "code",
   "execution_count": 52,
   "id": "d16d95c3-b465-42ac-8015-26b669d45d1f",
   "metadata": {},
   "outputs": [
    {
     "data": {
      "text/plain": [
       "{'configurable': {'thread_id': '1',\n",
       "  'checkpoint_ns': '',\n",
       "  'checkpoint_id': '1efd339d-3bc0-6616-8003-f199d5f7f353'}}"
      ]
     },
     "execution_count": 52,
     "metadata": {},
     "output_type": "execute_result"
    }
   ],
   "source": [
    "graph.update_state(\n",
    "    config,\n",
    "    {\"messages\": [AIMessage(content=\"I'm an AI expert!\")]},\n",
    "    # Which node for this function to act as. It will automatically continue\n",
    "    # processing as if this node just ran.\n",
    "    as_node=\"chatbot\",\n",
    ")"
   ]
  },
  {
   "cell_type": "markdown",
   "id": "5a1f0056-6b6f-425f-ac1a-0d4b0e9b85cc",
   "metadata": {},
   "source": [
    "Check out the [LangSmith trace](https://smith.langchain.com/public/2e4d92ca-c17c-49e0-92e5-3962390ded30/r) for this update call at the provided link. **Notice** from the trace that the graph continues into the `tools_condition` edge. We just told the graph to treat the update `as_node=\"chatbot\"`. If we follow the diagram below and start from the `chatbot` node, we naturally end up in the `tools_condition` edge and then `__end__` since our updated message lacks tool calls."
   ]
  },
  {
   "cell_type": "code",
   "execution_count": 53,
   "id": "f4009ba6-dc0b-4216-ab0c-fbb104616f73",
   "metadata": {},
   "outputs": [
    {
     "data": {
      "image/png": "[encoded data removed]",
      "text/plain": [
       "<IPython.core.display.Image object>"
      ]
     },
     "metadata": {},
     "output_type": "display_data"
    }
   ],
   "source": [
    "from IPython.display import Image, display\n",
    "\n",
    "try:\n",
    "    display(Image(graph.get_graph().draw_mermaid_png()))\n",
    "except Exception:\n",
    "    # This requires some extra dependencies and is optional\n",
    "    pass"
   ]
  },
  {
   "cell_type": "markdown",
   "id": "96cd4ffa-8fb2-4bd6-bef9-564cbfe7e3ab",
   "metadata": {},
   "source": [
    "Inspect the current state as before to confirm the checkpoint reflects our manual updates."
   ]
  },
  {
   "cell_type": "code",
   "execution_count": 54,
   "id": "d420e813-a8c7-415d-ab31-5298d42491e4",
   "metadata": {},
   "outputs": [
    {
     "name": "stdout",
     "output_type": "stream",
     "text": [
      "[ToolMessage(content='LangGraph is a library for building stateful, multi-actor applications with LLMs.', id='c0090bb0-28ec-4f77-ad49-1fe6c220106e', tool_call_id='5da1d090-6fcf-4879-a7e3-896887310cc8'), AIMessage(content='LangGraph is a library for building stateful, multi-actor applications with LLMs.', additional_kwargs={}, response_metadata={}, id='e945f134-8e8d-43b9-85b1-a861163d5e83'), AIMessage(content=\"I'm an AI expert!\", additional_kwargs={}, response_metadata={}, id='fad6a3c1-6be3-4600-aaf4-6b6edaf45723')]\n",
      "()\n"
     ]
    }
   ],
   "source": [
    "snapshot = graph.get_state(config)\n",
    "print(snapshot.values[\"messages\"][-3:])\n",
    "print(snapshot.next)"
   ]
  },
  {
   "cell_type": "markdown",
   "id": "380222f4-65fa-4962-afe6-6a715fadb2de",
   "metadata": {},
   "source": [
    "**Notice**: that we've continued to add AI messages to the state. Since we are acting as the `chatbot` and responding with an AIMessage that doesn't contain `tool_calls`, the graph knows that it has entered a finished state (`next` is empty).\n",
    "\n",
    "#### What if you want to **overwrite** existing messages? \n",
    "\n",
    "The [`add_messages`](https://langchain-ai.github.io/langgraph/reference/graphs/?h=add+messages#add_messages) function we used to annotate our graph's `State` above controls how updates are made to the `messages` key. This function looks at any message IDs in the new `messages` list. If the ID matches a message in the existing state, [`add_messages`](https://langchain-ai.github.io/langgraph/reference/graphs/?h=add+messages#add_messages) overwrites the existing message with the new content. \n",
    "\n",
    "As an example, let's update the tool invocation to make sure we get good results from our search engine! First, start a new thread:"
   ]
  },
  {
   "cell_type": "code",
   "execution_count": 55,
   "id": "9fc99c7e-b61d-4aec-9c62-042798185ec3",
   "metadata": {},
   "outputs": [
    {
     "name": "stdout",
     "output_type": "stream",
     "text": [
      "================================\u001b[1m Human Message \u001b[0m=================================\n",
      "\n",
      "I'm learning LangGraph. Could you do some research on it for me?\n",
      "==================================\u001b[1m Ai Message \u001b[0m==================================\n",
      "Tool Calls:\n",
      "  tavily_search_results_json (d394e8ae-56cf-4fed-a6e5-5e786c13a0b2)\n",
      " Call ID: d394e8ae-56cf-4fed-a6e5-5e786c13a0b2\n",
      "  Args:\n",
      "    query: LangGraph\n"
     ]
    }
   ],
   "source": [
    "user_input = \"I'm learning LangGraph. Could you do some research on it for me?\"\n",
    "config = {\"configurable\": {\"thread_id\": \"2\"}}  # we'll use thread_id = 2 here\n",
    "events = graph.stream(\n",
    "    {\"messages\": [(\"user\", user_input)]}, config, stream_mode=\"values\"\n",
    ")\n",
    "for event in events:\n",
    "    if \"messages\" in event:\n",
    "        event[\"messages\"][-1].pretty_print()"
   ]
  },
  {
   "cell_type": "markdown",
   "id": "8b019fc6-7826-4291-9178-6cecb5d7b3d0",
   "metadata": {},
   "source": [
    "**Next,** let's update the tool invocation for our agent. Maybe we want to search for human-in-the-loop workflows in particular."
   ]
  },
  {
   "cell_type": "code",
   "execution_count": 56,
   "id": "7215533a-b7e2-4b2d-bc1d-5122b1d06b8b",
   "metadata": {},
   "outputs": [
    {
     "name": "stdout",
     "output_type": "stream",
     "text": [
      "Original\n",
      "Message ID run-32459cc1-b7ad-48c5-b34a-da3beb6188ae-0\n",
      "{'name': 'tavily_search_results_json', 'args': {'query': 'LangGraph'}, 'id': 'd394e8ae-56cf-4fed-a6e5-5e786c13a0b2', 'type': 'tool_call'}\n",
      "Updated\n",
      "{'name': 'tavily_search_results_json', 'args': {'query': 'LangGraph human-in-the-loop workflow'}, 'id': 'd394e8ae-56cf-4fed-a6e5-5e786c13a0b2', 'type': 'tool_call'}\n",
      "Message ID run-32459cc1-b7ad-48c5-b34a-da3beb6188ae-0\n",
      "\n",
      "\n",
      "Tool calls\n"
     ]
    },
    {
     "data": {
      "text/plain": [
       "[{'name': 'tavily_search_results_json',\n",
       "  'args': {'query': 'LangGraph human-in-the-loop workflow'},\n",
       "  'id': 'd394e8ae-56cf-4fed-a6e5-5e786c13a0b2',\n",
       "  'type': 'tool_call'}]"
      ]
     },
     "execution_count": 56,
     "metadata": {},
     "output_type": "execute_result"
    }
   ],
   "source": [
    "from langchain_core.messages import AIMessage\n",
    "\n",
    "snapshot = graph.get_state(config)\n",
    "existing_message = snapshot.values[\"messages\"][-1]\n",
    "print(\"Original\")\n",
    "print(\"Message ID\", existing_message.id)\n",
    "print(existing_message.tool_calls[0])\n",
    "new_tool_call = existing_message.tool_calls[0].copy()\n",
    "new_tool_call[\"args\"][\"query\"] = \"LangGraph human-in-the-loop workflow\"\n",
    "new_message = AIMessage(\n",
    "    content=existing_message.content,\n",
    "    tool_calls=[new_tool_call],\n",
    "    # Important! The ID is how LangGraph knows to REPLACE the message in the state rather than APPEND this messages\n",
    "    id=existing_message.id,\n",
    ")\n",
    "\n",
    "print(\"Updated\")\n",
    "print(new_message.tool_calls[0])\n",
    "print(\"Message ID\", new_message.id)\n",
    "graph.update_state(config, {\"messages\": [new_message]})\n",
    "\n",
    "print(\"\\n\\nTool calls\")\n",
    "graph.get_state(config).values[\"messages\"][-1].tool_calls"
   ]
  },
  {
   "cell_type": "markdown",
   "id": "680f0ebd-ebce-4de6-8a9b-37d3d4ef0234",
   "metadata": {},
   "source": [
    "**Notice** that we've modified the AI's tool invocation to search for \"LangGraph human-in-the-loop workflow\" instead of the simple \"LangGraph\".\n",
    "\n",
    "Check out the [LangSmith trace](https://smith.langchain.com/public/cd7c09a6-758d-41d4-8de1-64ab838b2338/r) to see the state update call - you can see our new message has successfully updated the previous AI message.\n",
    "\n",
    "Resume the graph by streaming with an input of `None` and the existing config."
   ]
  },
  {
   "cell_type": "code",
   "execution_count": 57,
   "id": "03a09bfc-3d90-4e54-878f-22e3cb28a418",
   "metadata": {},
   "outputs": [
    {
     "name": "stdout",
     "output_type": "stream",
     "text": [
      "==================================\u001b[1m Ai Message \u001b[0m==================================\n",
      "Tool Calls:\n",
      "  tavily_search_results_json (d394e8ae-56cf-4fed-a6e5-5e786c13a0b2)\n",
      " Call ID: d394e8ae-56cf-4fed-a6e5-5e786c13a0b2\n",
      "  Args:\n",
      "    query: LangGraph human-in-the-loop workflow\n",
      "=================================\u001b[1m Tool Message \u001b[0m=================================\n",
      "Name: tavily_search_results_json\n",
      "\n",
      "[{\"url\": \"https://github.com/Tanujkumar24/LANGRAPH-HUMAN-IN-LOOP-AGENT-PATTERN\", \"content\": \"GitHub - Tanujkumar24/LANGRAPH-HUMAN-IN-LOOP-AGENT-PATTERN: This repository demonstrates how to build an AI-powered workflow with human-in-the-loop capabilities using LangGraph. Search code, repositories, users, issues, pull requests... Tanujkumar24 / LANGRAPH-HUMAN-IN-LOOP-AGENT-PATTERN Public This repository demonstrates how to build an AI-powered workflow with human-in-the-loop capabilities using LangGraph. Tanujkumar24/LANGRAPH-HUMAN-IN-LOOP-AGENT-PATTERN LANGRAPH-HUMAN-IN-LOOP-AGENT-PATTERN This repository demonstrates the implementation of a human-in-the-loop (HITL) agent pattern using LangGraph. git clone https://github.com/Tanujkumar24/LANGRAPH-HUMAN-IN-LOOP-AGENT-PATTERN.git cd LANGRAPH-HUMAN-IN-LOOP-AGENT-PATTERN The main implementation is in the Jupyter Notebook human_in_loop.ipynb. Open human_in_loop.ipynb: Navigate through the cells, executing them sequentially to understand and run the human-in-the-loop agent pattern. For more information on human-in-the-loop implementations with LangGraph, refer to the LangGraph Human-in-the-loop Documentation. This repository demonstrates how to build an AI-powered workflow with human-in-the-loop capabilities using LangGraph.\"}, {\"url\": \"https://www.youtube.com/watch?v=9BPCV5TYPmg\", \"content\": \"In this video, I'll show you how to handle persistence with LangGraph, enabling a unique Human-in-the-Loop workflow. This approach allows a human to grant an\"}]\n",
      "==================================\u001b[1m Ai Message \u001b[0m==================================\n",
      "\n",
      "LangGraph is an open-source Python library for building and deploying machine learning models in real-time. It provides a simple and intuitive API for defining workflows, which can be used to automate various tasks such as data processing, model training, and deployment.\n",
      "\n",
      "One of the key features of LangGraph is its support for human-in-the-loop (HITL) workflows, which allow humans to intervene and correct the output of machine learning models in real-time. This approach enables more accurate and reliable decision-making, especially in applications where data quality or uncertainty is high.\n",
      "\n",
      "To build a HITL workflow with LangGraph, you can use the library's built-in support for Jupyter Notebooks and web-based interfaces. These tools provide an interactive environment where humans can review and correct model outputs, allowing for more precise control over the decision-making process.\n",
      "\n",
      "Some key benefits of using LangGraph for HITL workflows include:\n",
      "\n",
      "*   **Real-time feedback**: Humans can receive immediate feedback on their corrections, enabling faster and more accurate decision-making.\n",
      "*   **Improved accuracy**: By allowing humans to intervene and correct model outputs, HITL workflows can reduce errors and improve overall accuracy.\n",
      "*   **Increased transparency**: LangGraph's web-based interface provides a clear and transparent way for humans to review and understand the decision-making process.\n",
      "\n",
      "Overall, LangGraph offers a powerful toolset for building and deploying HITL workflows, enabling more accurate and reliable decision-making in real-time applications.\n"
     ]
    }
   ],
   "source": [
    "events = graph.stream(None, config, stream_mode=\"values\")\n",
    "for event in events:\n",
    "    if \"messages\" in event:\n",
    "        event[\"messages\"][-1].pretty_print()"
   ]
  },
  {
   "cell_type": "markdown",
   "id": "090b680b-f53f-4af2-a432-45f8c5a10779",
   "metadata": {},
   "source": [
    "Check out the [trace](https://smith.langchain.com/public/2d633326-14ad-4248-a391-2757d01851c4/r/6464f2f2-edb4-4ef3-8f48-ee4e249f2ad0) to see the tool call and later LLM response. **Notice** that now the graph queries the search engine using our updated query term - we were able to manually override the LLM's search here!\n",
    "\n",
    "All of this is reflected in the graph's checkpointed memory, meaning if we continue the conversation, it will recall all the _modified_ state."
   ]
  },
  {
   "cell_type": "code",
   "execution_count": 58,
   "id": "11d5b934-6d8b-4f52-a3bc-b3daa7207e00",
   "metadata": {},
   "outputs": [
    {
     "name": "stdout",
     "output_type": "stream",
     "text": [
      "================================\u001b[1m Human Message \u001b[0m=================================\n",
      "\n",
      "Remember what I'm learning about?\n",
      "==================================\u001b[1m Ai Message \u001b[0m==================================\n",
      "Tool Calls:\n",
      "  tavily_search_results_json (7511c618-c967-4762-b7ce-6fbaf566132f)\n",
      " Call ID: 7511c618-c967-4762-b7ce-6fbaf566132f\n",
      "  Args:\n",
      "    query: LangGraph human-in-the-loop workflow\n"
     ]
    }
   ],
   "source": [
    "events = graph.stream(\n",
    "    {\n",
    "        \"messages\": (\n",
    "            \"user\",\n",
    "            \"Remember what I'm learning about?\",\n",
    "        )\n",
    "    },\n",
    "    config,\n",
    "    stream_mode=\"values\",\n",
    ")\n",
    "for event in events:\n",
    "    if \"messages\" in event:\n",
    "        event[\"messages\"][-1].pretty_print()"
   ]
  },
  {
   "cell_type": "markdown",
   "id": "a5166e1b-96a6-4ac0-88a1-bf32a422134a",
   "metadata": {},
   "source": [
    "**Congratulations!** You've used `interrupt_before` and `update_state` to manually modify the state as a part of a human-in-the-loop workflow. Interruptions and state modifications let you control how the agent behaves. Combined with persistent checkpointing, it means you can `pause` an action and `resume` at any point. Your user doesn't have to be available when the graph interrupts!\n",
    "\n",
    "The graph code for this section is identical to previous ones. The key snippets to remember are to add `.compile(..., interrupt_before=[...])` (or `interrupt_after`) if you want to explicitly pause the graph whenever it reaches a node. Then you can use `update_state` to modify the checkpoint and control how the graph should proceed."
   ]
  },
  {
   "cell_type": "markdown",
   "id": "d88d4c9e-65c8-4093-a6c2-c261475f7c07",
   "metadata": {},
   "source": [
    "## Part 6: Customizing State\n",
    "\n",
    "So far, we've relied on a simple state (it's just a list of messages!). You can go far with this simple state, but if you want to define complex behavior without relying on the message list, you can add additional fields to the state. In this section, we will extend our chat bot with a new node to illustrate this.\n",
    "\n",
    "In the examples above, we involved a human deterministically: the graph __always__ interrupted whenever a tool was invoked. Suppose we wanted our chat bot to have the choice of relying on a human.\n",
    "\n",
    "One way to do this is to create a passthrough \"human\" node, before which the graph will always stop. We will only execute this node if the LLM invokes a \"human\" tool. For our convenience, we will include an \"ask_human\" flag in our graph state that we will flip if the LLM calls this tool.\n",
    "\n",
    "Below, define this new graph, with an updated `State`"
   ]
  },
  {
   "cell_type": "code",
   "execution_count": 59,
   "id": "3cf7e042-1718-4625-ae30-a9917f595449",
   "metadata": {},
   "outputs": [],
   "source": [
    "from typing import Annotated\n",
    "\n",
    "from langchain_anthropic import ChatAnthropic\n",
    "from langchain_community.tools.tavily_search import TavilySearchResults\n",
    "from typing_extensions import TypedDict\n",
    "\n",
    "from langgraph.checkpoint.memory import MemorySaver\n",
    "from langgraph.graph import StateGraph, START\n",
    "from langgraph.graph.message import add_messages\n",
    "from langgraph.prebuilt import ToolNode, tools_condition\n",
    "\n",
    "\n",
    "class State(TypedDict):\n",
    "    messages: Annotated[list, add_messages]\n",
    "    # This flag is new\n",
    "    ask_human: bool"
   ]
  },
  {
   "cell_type": "markdown",
   "id": "e87f2cb8-c066-4b54-acc4-e8c7399c5f3d",
   "metadata": {},
   "source": [
    "Next, define a schema to show the model to let it decide to request assistance."
   ]
  },
  {
   "cell_type": "markdown",
   "id": "7bd3d704-5bee-4872-8d12-992bc970c158",
   "metadata": {},
   "source": [
    "<div class=\"admonition note\">\n",
    "    <p class=\"admonition-title\">Using Pydantic with LangChain</p>\n",
    "    <p>\n",
    "        This notebook uses Pydantic v2 <code>BaseModel</code>, which requires <code>langchain-core >= 0.3</code>. Using <code>langchain-core < 0.3</code> will result in errors due to mixing of Pydantic v1 and v2 <code>BaseModels</code>.\n",
    "    </p>\n",
    "</div>"
   ]
  },
  {
   "cell_type": "code",
   "execution_count": 60,
   "id": "e5192e54-6a28-42fe-a8a7-62d45d61f994",
   "metadata": {},
   "outputs": [],
   "source": [
    "from pydantic import BaseModel\n",
    "\n",
    "\n",
    "class RequestAssistance(BaseModel):\n",
    "    \"\"\"Escalate the conversation to an expert. Use this if you are unable to assist directly or if the user requires support beyond your permissions.\n",
    "\n",
    "    To use this function, relay the user's 'request' so the expert can provide the right guidance.\n",
    "    \"\"\"\n",
    "\n",
    "    request: str"
   ]
  },
  {
   "cell_type": "markdown",
   "id": "2b19c61b-2087-463b-adf8-96dbc193f41c",
   "metadata": {},
   "source": [
    "Next, define the chatbot node. The primary modification here is flip the `ask_human` flag if we see that the chat bot has invoked the `RequestAssistance` flag."
   ]
  },
  {
   "cell_type": "code",
   "execution_count": 68,
   "id": "fa59b266-14e5-4c75-8b3d-54fac28e8290",
   "metadata": {},
   "outputs": [],
   "source": [
    "from langchain_ollama import ChatOllama, OllamaEmbeddings\n",
    "\n",
    "llm = ChatOllama(model='llama3.2', temperature=0.3)\n",
    "embeddings = OllamaEmbeddings(model='snowflake-arctic-embed:33m')\n",
    "\n",
    "tool = TavilySearchResults(max_results=2)\n",
    "tools = [tool]\n",
    "\n",
    "# We can bind the llm to a tool definition, a pydantic model, or a json schema\n",
    "llm_with_tools = llm.bind_tools(tools + [RequestAssistance])\n",
    "\n",
    "\n",
    "def chatbot(state: State):\n",
    "    response = llm_with_tools.invoke(state[\"messages\"])\n",
    "    ask_human = False\n",
    "    if (\n",
    "        response.tool_calls\n",
    "        and response.tool_calls[0][\"name\"] == RequestAssistance.__name__\n",
    "    ):\n",
    "        ask_human = True\n",
    "    return {\"messages\": [response], \"ask_human\": ask_human}"
   ]
  },
  {
   "cell_type": "markdown",
   "id": "04ca0f57-2519-49c2-9499-888b5a884897",
   "metadata": {},
   "source": [
    "Next, create the graph builder and add the chatbot and tools nodes to the graph, same as before."
   ]
  },
  {
   "cell_type": "code",
   "execution_count": 69,
   "id": "3f4464d2-288b-4689-aaf0-329a55dcb85c",
   "metadata": {},
   "outputs": [
    {
     "data": {
      "text/plain": [
       "<langgraph.graph.state.StateGraph at 0x1227ecc10>"
      ]
     },
     "execution_count": 69,
     "metadata": {},
     "output_type": "execute_result"
    }
   ],
   "source": [
    "graph_builder = StateGraph(State)\n",
    "\n",
    "graph_builder.add_node(\"chatbot\", chatbot)\n",
    "graph_builder.add_node(\"tools\", ToolNode(tools=[tool]))"
   ]
  },
  {
   "cell_type": "markdown",
   "id": "7f7a0ff3-b671-45c8-8157-ce5db411d370",
   "metadata": {},
   "source": [
    "Next, create the \"human\" `node`. This `node` function is mostly a placeholder in our graph that will trigger an interrupt. If the human does __not__ manually update the state during the `interrupt`, it inserts a tool message so the LLM knows the user was requested but didn't respond. This node also unsets the `ask_human` flag so the graph knows not to revisit the node unless further requests are made."
   ]
  },
  {
   "cell_type": "code",
   "execution_count": 70,
   "id": "1d70b5a4-ce50-47dc-aa43-ffb5c48c46fc",
   "metadata": {},
   "outputs": [
    {
     "data": {
      "text/plain": [
       "<langgraph.graph.state.StateGraph at 0x1227ecc10>"
      ]
     },
     "execution_count": 70,
     "metadata": {},
     "output_type": "execute_result"
    }
   ],
   "source": [
    "from langchain_core.messages import AIMessage, ToolMessage\n",
    "\n",
    "\n",
    "def create_response(response: str, ai_message: AIMessage):\n",
    "    return ToolMessage(\n",
    "        content=response,\n",
    "        tool_call_id=ai_message.tool_calls[0][\"id\"],\n",
    "    )\n",
    "\n",
    "\n",
    "def human_node(state: State):\n",
    "    new_messages = []\n",
    "    if not isinstance(state[\"messages\"][-1], ToolMessage):\n",
    "        # Typically, the user will have updated the state during the interrupt.\n",
    "        # If they choose not to, we will include a placeholder ToolMessage to\n",
    "        # let the LLM continue.\n",
    "        new_messages.append(\n",
    "            create_response(\"No response from human.\", state[\"messages\"][-1])\n",
    "        )\n",
    "    return {\n",
    "        # Append the new messages\n",
    "        \"messages\": new_messages,\n",
    "        # Unset the flag\n",
    "        \"ask_human\": False,\n",
    "    }\n",
    "\n",
    "\n",
    "graph_builder.add_node(\"human\", human_node)"
   ]
  },
  {
   "cell_type": "markdown",
   "id": "d56e5c65-f7b7-48bd-b0b5-fc8e590eca7d",
   "metadata": {},
   "source": [
    "Next, define the conditional logic. The `select_next_node` will route to the `human` node if the flag is set. Otherwise, it lets the prebuilt `tools_condition` function choose the next node.\n",
    "\n",
    "Recall that the `tools_condition` function simply checks to see if the `chatbot` has responded with any `tool_calls` in its response message. If so, it routes to the `action` node. Otherwise, it ends the graph."
   ]
  },
  {
   "cell_type": "code",
   "execution_count": 71,
   "id": "586a0d07-8303-47f4-b3cf-3bdd043e762b",
   "metadata": {},
   "outputs": [
    {
     "data": {
      "text/plain": [
       "<langgraph.graph.state.StateGraph at 0x1227ecc10>"
      ]
     },
     "execution_count": 71,
     "metadata": {},
     "output_type": "execute_result"
    }
   ],
   "source": [
    "def select_next_node(state: State):\n",
    "    if state[\"ask_human\"]:\n",
    "        return \"human\"\n",
    "    # Otherwise, we can route as before\n",
    "    return tools_condition(state)\n",
    "\n",
    "\n",
    "graph_builder.add_conditional_edges(\n",
    "    \"chatbot\",\n",
    "    select_next_node,\n",
    "    {\"human\": \"human\", \"tools\": \"tools\", END: END},\n",
    ")"
   ]
  },
  {
   "cell_type": "markdown",
   "id": "66cd0bb1-b13e-477e-a08a-a7e657e2c19e",
   "metadata": {},
   "source": [
    "Finally, add the simple directed edges and compile the graph. These edges instruct the graph to **always** flow from node `a`->`b` whenever `a` finishes executing."
   ]
  },
  {
   "cell_type": "code",
   "execution_count": 72,
   "id": "84101737-0048-4635-9f68-45b0c508b6b6",
   "metadata": {},
   "outputs": [],
   "source": [
    "# The rest is the same\n",
    "graph_builder.add_edge(\"tools\", \"chatbot\")\n",
    "graph_builder.add_edge(\"human\", \"chatbot\")\n",
    "graph_builder.add_edge(START, \"chatbot\")\n",
    "memory = MemorySaver()\n",
    "graph = graph_builder.compile(\n",
    "    checkpointer=memory,\n",
    "    # We interrupt before 'human' here instead.\n",
    "    interrupt_before=[\"human\"],\n",
    ")"
   ]
  },
  {
   "cell_type": "markdown",
   "id": "7f855593-8690-4a18-9ef8-7f3ccdc335bf",
   "metadata": {},
   "source": [
    "If you have the visualization dependencies installed, you can see the graph structure below:"
   ]
  },
  {
   "cell_type": "code",
   "execution_count": 73,
   "id": "b3220ae2-cba0-4447-96d1-eb0be4684e59",
   "metadata": {},
   "outputs": [
    {
     "data": {
      "image/png": "[encoded data removed]",
      "text/plain": [
       "<IPython.core.display.Image object>"
      ]
     },
     "metadata": {},
     "output_type": "display_data"
    }
   ],
   "source": [
    "from IPython.display import Image, display\n",
    "\n",
    "try:\n",
    "    display(Image(graph.get_graph().draw_mermaid_png()))\n",
    "except Exception:\n",
    "    # This requires some extra dependencies and is optional\n",
    "    pass"
   ]
  },
  {
   "cell_type": "markdown",
   "id": "a3b73851-810e-4466-89d8-37fba87e8494",
   "metadata": {},
   "source": [
    "The chat bot can either request help from a human (chatbot->select->human), invoke the search engine tool (chatbot->select->action), or directly respond (chatbot->select->__end__). Once an action or request has been made, the graph will transition back to the `chatbot` node to continue operations.\n",
    "\n",
    "Let's see this graph in action. We will request for expert assistance to illustrate our graph."
   ]
  },
  {
   "cell_type": "code",
   "execution_count": 74,
   "id": "c1955d79-a1e4-47d0-ba79-b45bd5752a23",
   "metadata": {},
   "outputs": [
    {
     "name": "stdout",
     "output_type": "stream",
     "text": [
      "================================\u001b[1m Human Message \u001b[0m=================================\n",
      "\n",
      "I need some expert guidance for building this AI agent. Could you request assistance for me?\n",
      "==================================\u001b[1m Ai Message \u001b[0m==================================\n",
      "Tool Calls:\n",
      "  RequestAssistance (c1047f49-ab26-485c-aa41-ee8a0d18e9cd)\n",
      " Call ID: c1047f49-ab26-485c-aa41-ee8a0d18e9cd\n",
      "  Args:\n",
      "    request: Need some expert guidance for building this AI agent\n"
     ]
    }
   ],
   "source": [
    "user_input = \"I need some expert guidance for building this AI agent. Could you request assistance for me?\"\n",
    "config = {\"configurable\": {\"thread_id\": \"1\"}}\n",
    "# The config is the **second positional argument** to stream() or invoke()!\n",
    "events = graph.stream(\n",
    "    {\"messages\": [(\"user\", user_input)]}, config, stream_mode=\"values\"\n",
    ")\n",
    "for event in events:\n",
    "    if \"messages\" in event:\n",
    "        event[\"messages\"][-1].pretty_print()"
   ]
  },
  {
   "cell_type": "markdown",
   "id": "b3945ea4-8dbd-4e14-ae2a-34da7f05a0c1",
   "metadata": {},
   "source": [
    "**Notice:** the LLM has invoked the \"`RequestAssistance`\" tool we provided it, and the interrupt has been set. Let's inspect the graph state to confirm."
   ]
  },
  {
   "cell_type": "code",
   "execution_count": 75,
   "id": "5320ba05-5696-4194-8278-5385c571264d",
   "metadata": {},
   "outputs": [
    {
     "data": {
      "text/plain": [
       "('human',)"
      ]
     },
     "execution_count": 75,
     "metadata": {},
     "output_type": "execute_result"
    }
   ],
   "source": [
    "snapshot = graph.get_state(config)\n",
    "snapshot.next"
   ]
  },
  {
   "cell_type": "markdown",
   "id": "ed2dd02e-f0a6-4f63-a7d6-e49ecf40db21",
   "metadata": {},
   "source": [
    "The graph state is indeed **interrupted** before the `'human'` node. We can act as the \"expert\" in this scenario and manually update the state by adding a new ToolMessage with our input.\n",
    "\n",
    "Next, respond to the chatbot's request by:\n",
    "1. Creating a `ToolMessage` with our response. This will be passed back to the `chatbot`.\n",
    "2. Calling `update_state` to manually update the graph state."
   ]
  },
  {
   "cell_type": "code",
   "execution_count": 76,
   "id": "2cbac924-61ce-4282-9b1c-77f9090ea1f5",
   "metadata": {},
   "outputs": [
    {
     "data": {
      "text/plain": [
       "{'configurable': {'thread_id': '1',\n",
       "  'checkpoint_ns': '',\n",
       "  'checkpoint_id': '1efd33a1-902f-639c-8002-3b97340499ad'}}"
      ]
     },
     "execution_count": 76,
     "metadata": {},
     "output_type": "execute_result"
    }
   ],
   "source": [
    "ai_message = snapshot.values[\"messages\"][-1]\n",
    "human_response = (\n",
    "    \"We, the experts are here to help! We'd recommend you check out LangGraph to build your agent.\"\n",
    "    \" It's much more reliable and extensible than simple autonomous agents.\"\n",
    ")\n",
    "tool_message = create_response(human_response, ai_message)\n",
    "graph.update_state(config, {\"messages\": [tool_message]})"
   ]
  },
  {
   "cell_type": "markdown",
   "id": "79492363-7fc6-4ec7-977d-9030648029bc",
   "metadata": {},
   "source": [
    "You can inspect the state to confirm our response was added."
   ]
  },
  {
   "cell_type": "code",
   "execution_count": 77,
   "id": "4b986c66-1c65-4da8-a404-db7e28f8364e",
   "metadata": {},
   "outputs": [
    {
     "data": {
      "text/plain": [
       "[HumanMessage(content='I need some expert guidance for building this AI agent. Could you request assistance for me?', additional_kwargs={}, response_metadata={}, id='ee09b111-2c63-406a-916b-6eeb733a2eb5'),\n",
       " AIMessage(content='', additional_kwargs={}, response_metadata={'model': 'llama3.2', 'created_at': '2025-01-15T12:13:12.460853Z', 'message': {'role': 'assistant', 'content': '', 'tool_calls': [{'function': {'name': 'RequestAssistance', 'arguments': {'request': 'Need some expert guidance for building this AI agent'}}}]}, 'done_reason': 'stop', 'done': True, 'total_duration': 746891291, 'load_duration': 45606791, 'prompt_eval_count': 293, 'prompt_eval_duration': 459000000, 'eval_count': 26, 'eval_duration': 241000000}, id='run-d5bb3ef5-6788-4afb-92a6-a5399abc2544-0', tool_calls=[{'name': 'RequestAssistance', 'args': {'request': 'Need some expert guidance for building this AI agent'}, 'id': 'c1047f49-ab26-485c-aa41-ee8a0d18e9cd', 'type': 'tool_call'}], usage_metadata={'input_tokens': 293, 'output_tokens': 26, 'total_tokens': 319}),\n",
       " ToolMessage(content=\"We, the experts are here to help! We'd recommend you check out LangGraph to build your agent. It's much more reliable and extensible than simple autonomous agents.\", id='0d39b158-5169-414e-96f8-5542c1aaa91d', tool_call_id='c1047f49-ab26-485c-aa41-ee8a0d18e9cd')]"
      ]
     },
     "execution_count": 77,
     "metadata": {},
     "output_type": "execute_result"
    }
   ],
   "source": [
    "graph.get_state(config).values[\"messages\"]"
   ]
  },
  {
   "cell_type": "markdown",
   "id": "ea6b8616-de10-44d6-a8f0-3ac73c3c3680",
   "metadata": {},
   "source": [
    "Next, **resume** the graph by invoking it with `None` as the inputs."
   ]
  },
  {
   "cell_type": "code",
   "execution_count": 78,
   "id": "6b32914d-4d60-491f-8e11-1e6867e38ffd",
   "metadata": {},
   "outputs": [
    {
     "name": "stdout",
     "output_type": "stream",
     "text": [
      "=================================\u001b[1m Tool Message \u001b[0m=================================\n",
      "\n",
      "We, the experts are here to help! We'd recommend you check out LangGraph to build your agent. It's much more reliable and extensible than simple autonomous agents.\n",
      "=================================\u001b[1m Tool Message \u001b[0m=================================\n",
      "\n",
      "We, the experts are here to help! We'd recommend you check out LangGraph to build your agent. It's much more reliable and extensible than simple autonomous agents.\n",
      "==================================\u001b[1m Ai Message \u001b[0m==================================\n",
      "\n",
      "It seems like you're looking to build an AI agent from scratch. I can assist you with that.\n",
      "\n",
      "To get started, we'll need to define the scope of your project. What specific tasks do you want your AI agent to perform? Is it for a game, a simulation, or something else?\n",
      "\n",
      "Also, what programming language and framework are you planning to use? Some popular options include Python, TensorFlow, and PyTorch.\n",
      "\n",
      "Once we have a better understanding of your requirements, we can discuss the architecture and components needed to build your AI agent.\n"
     ]
    }
   ],
   "source": [
    "events = graph.stream(None, config, stream_mode=\"values\")\n",
    "for event in events:\n",
    "    if \"messages\" in event:\n",
    "        event[\"messages\"][-1].pretty_print()"
   ]
  },
  {
   "cell_type": "markdown",
   "id": "48e0559b-d653-4dab-8928-b001004d14cb",
   "metadata": {},
   "source": [
    "**Notice** that the chat bot has incorporated the updated state in its final response. Since **everything** was checkpointed, the \"expert\" human in the loop could perform the update at any time without impacting the graph's execution.\n",
    "\n",
    "**Congratulations!** you've now added an additional node to your assistant graph to let the chat bot decide for itself whether or not it needs to interrupt execution. You did so by updating the graph `State` with a new `ask_human` field and modifying the interruption logic when compiling the graph. This lets you dynamically include a human in the loop while maintaining full **memory** every time you execute the graph.\n",
    "\n",
    "We're almost done with the tutorial, but there is one more concept we'd like to review before finishing that connects `checkpointing` and `state updates`. \n",
    "\n",
    "This section's code is reproduced below for your reference.\n",
    "\n",
    "<details>\n",
    "<summary>Full Code</summary>\n",
    "    <pre>\n",
    "\n",
    "```python\n",
    "from typing import Annotated\n",
    "\n",
    "from langchain_anthropic import ChatAnthropic\n",
    "from langchain_community.tools.tavily_search import TavilySearchResults\n",
    "from langchain_core.messages import BaseMessage\n",
    "# NOTE: you must use langchain-core >= 0.3 with Pydantic v2\n",
    "from pydantic import BaseModel\n",
    "from typing_extensions import TypedDict\n",
    "\n",
    "from langgraph.checkpoint.memory import MemorySaver\n",
    "from langgraph.graph import StateGraph\n",
    "from langgraph.graph.message import add_messages\n",
    "from langgraph.prebuilt import ToolNode, tools_condition\n",
    "\n",
    "\n",
    "class State(TypedDict):\n",
    "    messages: Annotated[list, add_messages]\n",
    "    # This flag is new\n",
    "    ask_human: bool\n",
    "\n",
    "\n",
    "class RequestAssistance(BaseModel):\n",
    "    \"\"\"Escalate the conversation to an expert. Use this if you are unable to assist directly or if the user requires support beyond your permissions.\n",
    "\n",
    "    To use this function, relay the user's 'request' so the expert can provide the right guidance.\n",
    "    \"\"\"\n",
    "\n",
    "    request: str\n",
    "\n",
    "\n",
    "tool = TavilySearchResults(max_results=2)\n",
    "tools = [tool]\n",
    "\n",
    "# We can bind the llm to a tool definition, a pydantic model, or a json schema\n",
    "llm_with_tools = llm.bind_tools(tools + [RequestAssistance])\n",
    "\n",
    "\n",
    "def chatbot(state: State):\n",
    "    response = llm_with_tools.invoke(state[\"messages\"])\n",
    "    ask_human = False\n",
    "    if (\n",
    "        response.tool_calls\n",
    "        and response.tool_calls[0][\"name\"] == RequestAssistance.__name__\n",
    "    ):\n",
    "        ask_human = True\n",
    "    return {\"messages\": [response], \"ask_human\": ask_human}\n",
    "\n",
    "\n",
    "graph_builder = StateGraph(State)\n",
    "\n",
    "graph_builder.add_node(\"chatbot\", chatbot)\n",
    "graph_builder.add_node(\"tools\", ToolNode(tools=[tool]))\n",
    "\n",
    "\n",
    "def create_response(response: str, ai_message: AIMessage):\n",
    "    return ToolMessage(\n",
    "        content=response,\n",
    "        tool_call_id=ai_message.tool_calls[0][\"id\"],\n",
    "    )\n",
    "\n",
    "\n",
    "def human_node(state: State):\n",
    "    new_messages = []\n",
    "    if not isinstance(state[\"messages\"][-1], ToolMessage):\n",
    "        # Typically, the user will have updated the state during the interrupt.\n",
    "        # If they choose not to, we will include a placeholder ToolMessage to\n",
    "        # let the LLM continue.\n",
    "        new_messages.append(\n",
    "            create_response(\"No response from human.\", state[\"messages\"][-1])\n",
    "        )\n",
    "    return {\n",
    "        # Append the new messages\n",
    "        \"messages\": new_messages,\n",
    "        # Unset the flag\n",
    "        \"ask_human\": False,\n",
    "    }\n",
    "\n",
    "\n",
    "graph_builder.add_node(\"human\", human_node)\n",
    "\n",
    "\n",
    "def select_next_node(state: State):\n",
    "    if state[\"ask_human\"]:\n",
    "        return \"human\"\n",
    "    # Otherwise, we can route as before\n",
    "    return tools_condition(state)\n",
    "\n",
    "\n",
    "graph_builder.add_conditional_edges(\n",
    "    \"chatbot\",\n",
    "    select_next_node,\n",
    "    {\"human\": \"human\", \"tools\": \"tools\", \"__end__\": \"__end__\"},\n",
    ")\n",
    "graph_builder.add_edge(\"tools\", \"chatbot\")\n",
    "graph_builder.add_edge(\"human\", \"chatbot\")\n",
    "graph_builder.set_entry_point(\"chatbot\")\n",
    "memory = MemorySaver()\n",
    "graph = graph_builder.compile(\n",
    "    checkpointer=memory,\n",
    "    interrupt_before=[\"human\"],\n",
    ")\n",
    "```\n",
    "</pre>\n",
    "</details>"
   ]
  },
  {
   "cell_type": "markdown",
   "id": "05283db2-2f26-4800-8eda-78a4468a3d8f",
   "metadata": {},
   "source": [
    "## Part 7: Time Travel\n",
    "\n",
    "In a typical chat bot workflow, the user interacts with the bot 1 or more times to accomplish a task. In the previous sections, we saw how to add memory and a human-in-the-loop to be able to checkpoint our graph state and manually override the state to control future responses.\n",
    "\n",
    "But what if you want to let your user start from a previous response and \"branch off\" to explore a separate outcome? Or what if you want users to be able to \"rewind\" your assistant's work to fix some mistakes or try a different strategy (common in applications like autonomous software engineers)?\n",
    "\n",
    "You can create both of these experiences and more using LangGraph's built-in \"time travel\" functionality. \n",
    "\n",
    "In this section, you will \"rewind\" your graph by fetching a checkpoint using the graph's `get_state_history` method. You can then resume execution at this previous point in time.\n",
    "\n",
    "First, recall our chatbot graph. We don't need to make **any** changes from before:"
   ]
  },
  {
   "cell_type": "code",
   "execution_count": 79,
   "id": "bb8a02de-a21b-4ef6-a714-7d6e44435e3a",
   "metadata": {},
   "outputs": [],
   "source": [
    "from typing import Annotated\n",
    "\n",
    "from langchain_anthropic import ChatAnthropic\n",
    "from langchain_community.tools.tavily_search import TavilySearchResults\n",
    "from langchain_core.messages import AIMessage, ToolMessage\n",
    "\n",
    "# NOTE: you must use langchain-core >= 0.3 with Pydantic v2\n",
    "from pydantic import BaseModel\n",
    "from typing_extensions import TypedDict\n",
    "\n",
    "from langgraph.checkpoint.memory import MemorySaver\n",
    "from langgraph.graph import StateGraph, START\n",
    "from langgraph.graph.message import add_messages\n",
    "from langgraph.prebuilt import ToolNode, tools_condition\n",
    "\n",
    "\n",
    "class State(TypedDict):\n",
    "    messages: Annotated[list, add_messages]\n",
    "    # This flag is new\n",
    "    ask_human: bool\n",
    "\n",
    "\n",
    "class RequestAssistance(BaseModel):\n",
    "    \"\"\"Escalate the conversation to an expert. Use this if you are unable to assist directly or if the user requires support beyond your permissions.\n",
    "\n",
    "    To use this function, relay the user's 'request' so the expert can provide the right guidance.\n",
    "    \"\"\"\n",
    "\n",
    "    request: str\n",
    "\n",
    "\n",
    "tool = TavilySearchResults(max_results=2)\n",
    "tools = [tool]\n",
    "\n",
    "# We can bind the llm to a tool definition, a pydantic model, or a json schema\n",
    "llm_with_tools = llm.bind_tools(tools + [RequestAssistance])\n",
    "\n",
    "\n",
    "def chatbot(state: State):\n",
    "    response = llm_with_tools.invoke(state[\"messages\"])\n",
    "    ask_human = False\n",
    "    if (\n",
    "        response.tool_calls\n",
    "        and response.tool_calls[0][\"name\"] == RequestAssistance.__name__\n",
    "    ):\n",
    "        ask_human = True\n",
    "    return {\"messages\": [response], \"ask_human\": ask_human}\n",
    "\n",
    "\n",
    "graph_builder = StateGraph(State)\n",
    "\n",
    "graph_builder.add_node(\"chatbot\", chatbot)\n",
    "graph_builder.add_node(\"tools\", ToolNode(tools=[tool]))\n",
    "\n",
    "\n",
    "def create_response(response: str, ai_message: AIMessage):\n",
    "    return ToolMessage(\n",
    "        content=response,\n",
    "        tool_call_id=ai_message.tool_calls[0][\"id\"],\n",
    "    )\n",
    "\n",
    "\n",
    "def human_node(state: State):\n",
    "    new_messages = []\n",
    "    if not isinstance(state[\"messages\"][-1], ToolMessage):\n",
    "        # Typically, the user will have updated the state during the interrupt.\n",
    "        # If they choose not to, we will include a placeholder ToolMessage to\n",
    "        # let the LLM continue.\n",
    "        new_messages.append(\n",
    "            create_response(\"No response from human.\", state[\"messages\"][-1])\n",
    "        )\n",
    "    return {\n",
    "        # Append the new messages\n",
    "        \"messages\": new_messages,\n",
    "        # Unset the flag\n",
    "        \"ask_human\": False,\n",
    "    }\n",
    "\n",
    "\n",
    "graph_builder.add_node(\"human\", human_node)\n",
    "\n",
    "\n",
    "def select_next_node(state: State):\n",
    "    if state[\"ask_human\"]:\n",
    "        return \"human\"\n",
    "    # Otherwise, we can route as before\n",
    "    return tools_condition(state)\n",
    "\n",
    "\n",
    "graph_builder.add_conditional_edges(\n",
    "    \"chatbot\",\n",
    "    select_next_node,\n",
    "    {\"human\": \"human\", \"tools\": \"tools\", END: END},\n",
    ")\n",
    "graph_builder.add_edge(\"tools\", \"chatbot\")\n",
    "graph_builder.add_edge(\"human\", \"chatbot\")\n",
    "graph_builder.add_edge(START, \"chatbot\")\n",
    "memory = MemorySaver()\n",
    "graph = graph_builder.compile(\n",
    "    checkpointer=memory,\n",
    "    interrupt_before=[\"human\"],\n",
    ")"
   ]
  },
  {
   "cell_type": "code",
   "execution_count": 80,
   "id": "a7debb4a-2a3a-40b9-a48c-7052ec2c2726",
   "metadata": {},
   "outputs": [
    {
     "data": {
      "image/png": "[encoded data removed]",
      "text/plain": [
       "<IPython.core.display.Image object>"
      ]
     },
     "metadata": {},
     "output_type": "display_data"
    }
   ],
   "source": [
    "from IPython.display import Image, display\n",
    "\n",
    "try:\n",
    "    display(Image(graph.get_graph().draw_mermaid_png()))\n",
    "except Exception:\n",
    "    # This requires some extra dependencies and is optional\n",
    "    pass"
   ]
  },
  {
   "cell_type": "markdown",
   "id": "5414c482-215e-4cc0-9eef-4a8722d2f468",
   "metadata": {},
   "source": [
    "Let's have our graph take a couple steps. Every step will be checkpointed in its state history:"
   ]
  },
  {
   "cell_type": "code",
   "execution_count": 81,
   "id": "69071b02-c011-4b7f-90b1-8e89e032322d",
   "metadata": {},
   "outputs": [
    {
     "name": "stdout",
     "output_type": "stream",
     "text": [
      "================================\u001b[1m Human Message \u001b[0m=================================\n",
      "\n",
      "I'm learning LangGraph. Could you do some research on it for me?\n",
      "==================================\u001b[1m Ai Message \u001b[0m==================================\n",
      "Tool Calls:\n",
      "  tavily_search_results_json (8b755536-61da-4713-b0a1-29b5cd2aedab)\n",
      " Call ID: 8b755536-61da-4713-b0a1-29b5cd2aedab\n",
      "  Args:\n",
      "    query: LangGraph\n",
      "=================================\u001b[1m Tool Message \u001b[0m=================================\n",
      "Name: tavily_search_results_json\n",
      "\n",
      "[{\"url\": \"https://langchain-ai.github.io/langgraph/\", \"content\": \"Overview¶. LangGraph is a library for building stateful, multi-actor applications with LLMs, used to create agent and multi-agent workflows. Compared to other LLM frameworks, it offers these core benefits: cycles, controllability, and persistence. LangGraph allows you to define flows that involve cycles, essential for most agentic architectures, differentiating it from DAG-based solutions.\"}, {\"url\": \"https://www.langchain.com/langgraph\", \"content\": \"LangGraph is a framework for building and scaling agentic applications with LangChain Platform. Learn how to design agents that handle complex tasks, collaborate with humans, and stream intermediate steps with LangGraph.\"}]\n",
      "==================================\u001b[1m Ai Message \u001b[0m==================================\n",
      "\n",
      "LangGraph is a library for building stateful, multi-actor applications with Large Language Models (LLMs). It offers several core benefits compared to other LLM frameworks, including:\n",
      "\n",
      "*   Cycles: LangGraph allows you to define flows that involve cycles, which are essential for most agentic architectures.\n",
      "*   Controllability: The framework provides controllability, enabling you to manage and control the flow of tasks in your application.\n",
      "*   Persistence: LangGraph offers persistence, allowing you to store and retrieve data between task executions.\n",
      "\n",
      "LangGraph is particularly useful for building agent and multi-agent workflows. It enables you to design agents that can handle complex tasks, collaborate with humans, and stream intermediate steps.\n",
      "\n",
      "To get started with LangGraph, you can explore the official documentation and tutorials on the [LangChain website](https://langchain.com/langgraph).\n"
     ]
    }
   ],
   "source": [
    "config = {\"configurable\": {\"thread_id\": \"1\"}}\n",
    "events = graph.stream(\n",
    "    {\n",
    "        \"messages\": [\n",
    "            (\"user\", \"I'm learning LangGraph. Could you do some research on it for me?\")\n",
    "        ]\n",
    "    },\n",
    "    config,\n",
    "    stream_mode=\"values\",\n",
    ")\n",
    "for event in events:\n",
    "    if \"messages\" in event:\n",
    "        event[\"messages\"][-1].pretty_print()"
   ]
  },
  {
   "cell_type": "code",
   "execution_count": 82,
   "id": "acbec099-e5d2-497f-929e-c548d7bcbf77",
   "metadata": {},
   "outputs": [
    {
     "name": "stdout",
     "output_type": "stream",
     "text": [
      "================================\u001b[1m Human Message \u001b[0m=================================\n",
      "\n",
      "Ya that's helpful. Maybe I'll build an autonomous agent with it!\n",
      "==================================\u001b[1m Ai Message \u001b[0m==================================\n",
      "Tool Calls:\n",
      "  RequestAssistance (6acf370e-90ed-4da2-a68d-293e4d269de9)\n",
      " Call ID: 6acf370e-90ed-4da2-a68d-293e4d269de9\n",
      "  Args:\n",
      "    request: building an autonomous agent with LangGraph\n"
     ]
    }
   ],
   "source": [
    "events = graph.stream(\n",
    "    {\n",
    "        \"messages\": [\n",
    "            (\"user\", \"Ya that's helpful. Maybe I'll build an autonomous agent with it!\")\n",
    "        ]\n",
    "    },\n",
    "    config,\n",
    "    stream_mode=\"values\",\n",
    ")\n",
    "for event in events:\n",
    "    if \"messages\" in event:\n",
    "        event[\"messages\"][-1].pretty_print()"
   ]
  },
  {
   "cell_type": "markdown",
   "id": "b2e48c77-65f3-4075-8030-ebf943a281f1",
   "metadata": {},
   "source": [
    "Now that we've had the agent take a couple steps, we can `replay` the full state history to see everything that occurred."
   ]
  },
  {
   "cell_type": "code",
   "execution_count": 83,
   "id": "6c0dbed5-210d-40ad-b002-0bc52ef28fac",
   "metadata": {},
   "outputs": [
    {
     "name": "stdout",
     "output_type": "stream",
     "text": [
      "Num Messages:  6 Next:  ('human',)\n",
      "--------------------------------------------------------------------------------\n",
      "Num Messages:  5 Next:  ('chatbot',)\n",
      "--------------------------------------------------------------------------------\n",
      "Num Messages:  4 Next:  ('__start__',)\n",
      "--------------------------------------------------------------------------------\n",
      "Num Messages:  4 Next:  ()\n",
      "--------------------------------------------------------------------------------\n",
      "Num Messages:  3 Next:  ('chatbot',)\n",
      "--------------------------------------------------------------------------------\n",
      "Num Messages:  2 Next:  ('tools',)\n",
      "--------------------------------------------------------------------------------\n",
      "Num Messages:  1 Next:  ('chatbot',)\n",
      "--------------------------------------------------------------------------------\n",
      "Num Messages:  0 Next:  ('__start__',)\n",
      "--------------------------------------------------------------------------------\n"
     ]
    }
   ],
   "source": [
    "to_replay = None\n",
    "for state in graph.get_state_history(config):\n",
    "    print(\"Num Messages: \", len(state.values[\"messages\"]), \"Next: \", state.next)\n",
    "    print(\"-\" * 80)\n",
    "    if len(state.values[\"messages\"]) == 6:\n",
    "        # We are somewhat arbitrarily selecting a specific state based on the number of chat messages in the state.\n",
    "        to_replay = state"
   ]
  },
  {
   "cell_type": "markdown",
   "id": "b182019e-bae3-4616-ba1b-f845c0ab6636",
   "metadata": {},
   "source": [
    "**Notice** that checkpoints are saved for every step of the graph. This __spans invocations__ so you can rewind across a full thread's history. We've picked out `to_replay` as a state to resume from. This is the state after the `chatbot` node in the second graph invocation above.\n",
    "\n",
    "Resuming from this point should call the **action** node next."
   ]
  },
  {
   "cell_type": "code",
   "execution_count": 84,
   "id": "de8d5521-8d71-4093-a657-4920c790802f",
   "metadata": {},
   "outputs": [
    {
     "name": "stdout",
     "output_type": "stream",
     "text": [
      "('human',)\n",
      "{'configurable': {'thread_id': '1', 'checkpoint_ns': '', 'checkpoint_id': '1efd33a2-4eae-6926-8006-5855dccf8a0e'}}\n"
     ]
    }
   ],
   "source": [
    "print(to_replay.next)\n",
    "print(to_replay.config)"
   ]
  },
  {
   "cell_type": "markdown",
   "id": "7e8c61f5-3a4a-4cce-b81b-43fe1dcc971f",
   "metadata": {},
   "source": [
    "**Notice** that the checkpoint's config (`to_replay.config`) contains a `checkpoint_id` **timestamp**. Providing this `checkpoint_id` value tells LangGraph's checkpointer to **load** the state from that moment in time. Let's try it below:"
   ]
  },
  {
   "cell_type": "code",
   "execution_count": null,
   "id": "85f17be3-eaf6-495e-a846-49436916b4ab",
   "metadata": {},
   "outputs": [
    {
     "name": "stdout",
     "output_type": "stream",
     "text": [
      "==================================\u001b[1m Ai Message \u001b[0m==================================\n",
      "Tool Calls:\n",
      "  RequestAssistance (6acf370e-90ed-4da2-a68d-293e4d269de9)\n",
      " Call ID: 6acf370e-90ed-4da2-a68d-293e4d269de9\n",
      "  Args:\n",
      "    request: building an autonomous agent with LangGraph\n",
      "=================================\u001b[1m Tool Message \u001b[0m=================================\n",
      "\n",
      "No response from human.\n",
      "==================================\u001b[1m Ai Message \u001b[0m==================================\n",
      "\n",
      "Building an Autonomous Agent with LangGraph\n",
      "=============================================\n",
      "\n",
      "LangGraph is a powerful library for building stateful, multi-actor applications with Large Language Models (LLMs). To build an autonomous agent using LangGraph, you'll need to design and implement the following components:\n",
      "\n",
      "### 1. Define the Agent's Architecture\n",
      "\n",
      "The first step in building an autonomous agent is to define its architecture. This includes deciding on the type of agent you want to build (e.g., simple reactive agent or more complex decision-making agent), the number of actors involved, and how they will interact with each other.\n",
      "\n",
      "### 2. Choose a LangGraph Flow\n",
      "\n",
      "LangGraph provides several pre-built flows that you can use as a starting point for your autonomous agent. These flows include:\n",
      "\n",
      "*   `SequentialFlow`: A basic flow that allows you to chain together multiple tasks.\n",
      "*   `ParallelFlow`: A flow that enables parallel execution of multiple tasks.\n",
      "*   `CycleFlow`: A flow that supports cycles, which are essential for most agentic architectures.\n",
      "\n",
      "### 3. Implement Task Execution\n",
      "\n",
      "Once you've chosen a LangGraph flow, you'll need to implement task execution. This involves defining the tasks that your agent will perform and how they will be executed.\n",
      "\n",
      "### 4. Add Sensing and Acting Capabilities\n",
      "\n",
      "To make your autonomous agent truly autonomous, you'll need to add sensing and acting capabilities. This includes implementing sensors that allow your agent to perceive its environment and actuators that enable it to take actions.\n",
      "\n",
      "### 5. Test and Refine Your Agent\n",
      "\n",
      "Finally, you'll need to test and refine your autonomous agent. This involves simulating different scenarios and evaluating the performance of your agent.\n",
      "\n",
      "Example Code\n",
      "------------\n",
      "\n",
      "Here's an example code snippet that demonstrates how to build a simple autonomous agent using LangGraph:\n",
      "```python\n",
      "import langgraph\n",
      "\n",
      "# Define the agent's architecture\n",
      "class AutonomousAgent:\n",
      "    def __init__(self):\n",
      "        self.flow = langgraph.SequentialFlow()\n",
      "\n",
      "    def run(self):\n",
      "        # Add tasks to the flow\n",
      "        self.flow.add_task(\"sensing\", lambda: self.sense())\n",
      "        self.flow.add_task(\"acting\", lambda: self.act())\n",
      "\n",
      "        # Execute the flow\n",
      "        self.flow.execute()\n",
      "\n",
      "    def sense(self):\n",
      "        # Implement sensing logic here\n",
      "        pass\n",
      "\n",
      "    def act(self):\n",
      "        # Implement acting logic here\n",
      "        pass\n",
      "\n",
      "# Create an instance of the autonomous agent\n",
      "agent = AutonomousAgent()\n",
      "agent.run()\n",
      "```\n",
      "This code snippet demonstrates how to define a simple autonomous agent using LangGraph. You can build upon this example by adding more tasks, sensors, and actuators to create a more complex agent.\n",
      "\n",
      "Advice\n",
      "------\n",
      "\n",
      "*   Start with a simple architecture and gradually add complexity as needed.\n",
      "*   Use pre-built flows as a starting point for your autonomous agent.\n",
      "*   Implement task execution carefully to ensure that your agent can handle different scenarios.\n",
      "*   Test and refine your autonomous agent thoroughly to ensure its performance.\n"
     ]
    },
    {
     "ename": "",
     "evalue": "",
     "output_type": "error",
     "traceback": [
      "\u001b[1;31mThe Kernel crashed while executing code in the current cell or a previous cell. \n",
      "\u001b[1;31mPlease review the code in the cell(s) to identify a possible cause of the failure. \n",
      "\u001b[1;31mClick <a href='https://aka.ms/vscodeJupyterKernelCrash'>here</a> for more info. \n",
      "\u001b[1;31mView Jupyter <a href='command:jupyter.viewOutput'>log</a> for further details."
     ]
    }
   ],
   "source": [
    "# The `checkpoint_id` in the `to_replay.config` corresponds to a state we've persisted to our checkpointer.\n",
    "for event in graph.stream(None, to_replay.config, stream_mode=\"values\"):\n",
    "    if \"messages\" in event:\n",
    "        event[\"messages\"][-1].pretty_print()"
   ]
  },
  {
   "cell_type": "markdown",
   "id": "c2501fed-2591-420d-98e0-4a3836fb99a8",
   "metadata": {},
   "source": [
    "Notice that the graph resumed execution from the `**action**` node. You can tell this is the case since the first value printed above is the response from our search engine tool.\n",
    "\n",
    "**Congratulations!** You've now used time-travel checkpoint traversal in LangGraph. Being able to rewind and explore alternative paths opens up a world of possibilities for debugging, experimentation, and interactive applications."
   ]
  },
  {
   "cell_type": "markdown",
   "id": "e584d57f-5aad-4507-815f-0b2e4b64b791",
   "metadata": {},
   "source": [
    "## Next Steps\n",
    "\n",
    "Take your journey further by exploring deployment and advanced features:\n",
    "\n",
    "### Server Quickstart\n",
    "\n",
    "- **[LangGraph Server Quickstart](../langgraph-platform/local-server)**: Launch a LangGraph server locally and interact with it using the REST API and LangGraph Studio Web UI.\n",
    "\n",
    "### LangGraph Cloud\n",
    "\n",
    "- **[LangGraph Cloud QuickStart](../../cloud/quick_start)**: Deploy your LangGraph app using LangGraph Cloud.\n",
    "\n",
    "### LangGraph Framework\n",
    "\n",
    "- **[LangGraph Concepts](../../concepts)**: Learn the foundational concepts of LangGraph.  \n",
    "- **[LangGraph How-to Guides](../../how-tos)**: Guides for common tasks with LangGraph.\n",
    "\n",
    "### LangGraph Platform\n",
    "\n",
    "Expand your knowledge with these resources:\n",
    "\n",
    "- **[LangGraph Platform Concepts](../../concepts#langgraph-platform)**: Understand the foundational concepts of the LangGraph Platform.  \n",
    "- **[LangGraph Platform How-to Guides](../../how-tos#langgraph-platform)**: Guides for common tasks with LangGraph Platform. "
   ]
  }
 ],
 "metadata": {
  "kernelspec": {
   "display_name": "llm311",
   "language": "python",
   "name": "python3"
  },
  "language_info": {
   "codemirror_mode": {
    "name": "ipython",
    "version": 3
   },
   "file_extension": ".py",
   "mimetype": "text/x-python",
   "name": "python",
   "nbconvert_exporter": "python",
   "pygments_lexer": "ipython3",
   "version": "3.11.10"
  }
 },
 "nbformat": 4,
 "nbformat_minor": 5
}
