{
 "cells": [
  {
   "cell_type": "markdown",
   "id": "9f121f5e",
   "metadata": {},
   "source": [
    "# LangGraph To-Do App with Subgraph Reminder\n",
    "\n",
    "\n",
    "#### Subgraph Visualization\n",
    "\n",
    "<pre style=\"white-space:pre;overflow-x:auto;line-height:normal;font-family:Menlo,'DejaVu Sans Mono',consolas,'Courier New',monospace\">   +-----------+     \n",
    "   | __start__ |     \n",
    "   +-----------+     \n",
    "          *          \n",
    "          *          \n",
    "          *          \n",
    "  +------------+     \n",
    "  | prioritize |     \n",
    "  +------------+     \n",
    "          *          \n",
    "          *          \n",
    "          *          \n",
    "+-----------------+  \n",
    "| format_reminder |  \n",
    "+-----------------+  \n",
    "          *          \n",
    "          *          \n",
    "          *          \n",
    "    +---------+      \n",
    "    | __end__ |      \n",
    "    +---------+      \n",
    "</pre>\n",
    "\n",
    "#### Main Graph Visualization\n",
    "\n",
    "<pre style=\"white-space:pre;overflow-x:auto;line-height:normal;font-family:Menlo,'DejaVu Sans Mono',consolas,'Courier New',monospace\">    +-----------+      \n",
    "    | __start__ |      \n",
    "    +-----------+      \n",
    "          *            \n",
    "          *            \n",
    "          *            \n",
    "    +----------+       \n",
    "    | add_todo |       \n",
    "    +----------+       \n",
    "          *            \n",
    "          *            \n",
    "          *            \n",
    "+-------------------+  \n",
    "| reminder_subgraph |  \n",
    "+-------------------+  \n",
    "          *            \n",
    "          *            \n",
    "          *            \n",
    "  +---------------+    \n",
    "  | display_todos |    \n",
    "  +---------------+    \n",
    "          *            \n",
    "          *            \n",
    "          *            \n",
    "     +---------+       \n",
    "     | __end__ |       \n",
    "     +---------+       \n",
    "</pre>\n"
   ]
  },
  {
   "cell_type": "markdown",
   "id": "530def7d",
   "metadata": {},
   "source": [
    "## 1. Imports and Setup\n",
    "- `StateGraph`, `START`, and `END` define the directed workflow used by LangGraph.\n",
    "- `ChatOllama` and the structured message classes give us an easy way to prompt an LLM.\n",
    "- `rich.print` keeps runtime tracing readable while we debug or demo the graph.\n",
    "- If you rely on a different model provider, this is where you would swap in your own client and credentials.\n"
   ]
  },
  {
   "cell_type": "code",
   "execution_count": null,
   "id": "2c33ce1f",
   "metadata": {},
   "outputs": [],
   "source": [
    "from typing import List, TypedDict, Annotated\n",
    "import operator\n",
    "from langchain_core.messages import AnyMessage, SystemMessage, HumanMessage\n",
    "from langchain_ollama import ChatOllama\n",
    "from langgraph.graph import StateGraph, END, START\n",
    "from rich import print\n",
    "from dotenv import load_dotenv\n",
    "import os\n",
    "\n",
    "# load environment variables from .env file\n",
    "load_dotenv()  \n"
   ]
  },
  {
   "cell_type": "markdown",
   "id": "c5d1638d",
   "metadata": {},
   "source": [
    "## 2. Define Shared State\n",
    "- LangGraph threads a single state dictionary through every node, so we spell it out with a `TodoState` `TypedDict`.\n",
    "- `todos` uses `Annotated[List[str], operator.add]` so any node can append items across repeated graph runs.\n",
    "- `new_todo` captures the latest user input, while `reminder` stores whatever message the subgraph produces.\n"
   ]
  },
  {
   "cell_type": "code",
   "execution_count": null,
   "id": "ee3e5ce6",
   "metadata": {},
   "outputs": [],
   "source": [
    "class TodoState(TypedDict):\n",
    "    \"\"\"\n",
    "    Represents the application's state, including the list of tasks and reminders.\n",
    "    \"\"\"\n",
    "    # Use operator.add to accumulate items into the list across graph runs.\n",
    "    todos: Annotated[List[str], operator.add]\n",
    "    reminder: str  # User-friendly reminder message.\n",
    "    new_todo: str  # The latest todo item to be added."
   ]
  },
  {
   "cell_type": "markdown",
   "id": "efc1eb0c",
   "metadata": {},
   "source": [
    "## 3. Main Graph Nodes\n",
    "- Main-graph nodes handle user input and output, keeping business logic simple and testable.\n",
    "- `add_todo` trims the incoming `new_todo`, returns a list of tasks to append, and gracefully ignores blank entries.\n",
    "- `display_final_state` prints the aggregated tasks plus the reminder, then returns an empty dict because it does not change state.\n",
    "- Short, focused node functions are easier to unit test and reuse in other graphs.\n"
   ]
  },
  {
   "cell_type": "code",
   "execution_count": null,
   "id": "27721d2c",
   "metadata": {},
   "outputs": [],
   "source": []
  },
  {
   "cell_type": "markdown",
   "id": "9a7ff79c",
   "metadata": {},
   "source": [
    "## 4. Subgraph Nodes\n",
    "- The reminder workflow lives in a subgraph so we can iterate on it independently of the main app.\n",
    "- `prioritize_tasks_llm` composes a prompt from the current tasks, calls `ChatOllama`, and handles the edge case where no tasks exist.\n",
    "- `format_reminder_text` wraps the LLM output in a user-friendly template before handing control back.\n",
    "- Each node updates only the `reminder` field, illustrating how subgraphs can focus on a narrow slice of shared state.\n"
   ]
  },
  {
   "cell_type": "code",
   "execution_count": null,
   "id": "9d9e49bc",
   "metadata": {},
   "outputs": [],
   "source": []
  },
  {
   "cell_type": "markdown",
   "id": "7fcf1d9a",
   "metadata": {},
   "source": [
    "## 5. Build Graphs\n",
    "- LangGraph composes nodes by name, so once functions exist we can wire them into reusable workflows.\n",
    "- Start by declaring the reminder subgraph and then embed it inside the main application graph for a modular design.\n",
    "\n",
    "### Building Subgraph\n",
    "- Instantiate `StateGraph(TodoState)` to scope the reminder flow to the shared schema.\n",
    "- Register the prioritization and formatting nodes, linking `START -> prioritize -> format_reminder -> END`.\n",
    "- Compile the subgraph to produce `reminder_app`, a callable component you can reuse elsewhere.\n"
   ]
  },
  {
   "cell_type": "code",
   "execution_count": null,
   "id": "1f8a5235",
   "metadata": {},
   "outputs": [],
   "source": []
  },
  {
   "cell_type": "markdown",
   "id": "e2508b2e",
   "metadata": {},
   "source": [
    "### Building Main Graph\n",
    "- Spin up another `StateGraph(TodoState)` for the top-level workflow.\n",
    "- Add the `add_todo` node, mount the compiled `reminder_app` as a single step, and finish with `display_todos`.\n",
    "- Connect the edges in execution order and call `compile()` to create `app`, the final agent we will run multiple times.\n"
   ]
  },
  {
   "cell_type": "code",
   "execution_count": null,
   "id": "ec400438",
   "metadata": {},
   "outputs": [],
   "source": [
    "\n",
    "# Create the main application graph.\n",
    "main_graph = StateGraph(TodoState)\n",
    "\n",
    "# Add nodes for the main workflow.\n",
    "main_graph.add_node('add_todo', add_todo)\n",
    "# Add the compiled subgraph as a single, callable node.\n",
    "main_graph.add_node('reminder_subgraph', reminder_app)\n",
    "main_graph.add_node('display_todos', display_final_state)\n",
    "\n",
    "# Define the data flow for the main graph.\n",
    "main_graph.add_edge(START, 'add_todo')\n",
    "main_graph.add_edge('add_todo', 'reminder_subgraph')\n",
    "main_graph.add_edge('reminder_subgraph', 'display_todos')\n",
    "main_graph.add_edge('display_todos', END)\n",
    "\n",
    "# Compile the complete main graph into the final application.\n",
    "app = main_graph.compile()\n",
    "print(app.get_graph().draw_ascii())"
   ]
  },
  {
   "cell_type": "markdown",
   "id": "28df5115",
   "metadata": {},
   "source": [
    "## 6. Visualize Graph Structure\n",
    "- Call `draw_ascii()` to confirm the node order without needing extra dependencies.\n",
    "- Swap in `draw_png()` or `draw_mermaid()` if Graphviz is available and you want richer diagrams in the notebook.\n",
    "- Visual checks help catch wiring mistakes before you execute the full agent.\n"
   ]
  },
  {
   "cell_type": "markdown",
   "id": "734f27b7",
   "metadata": {},
   "source": [
    "## 7. Run the Application\n",
    "- Begin with an empty state like `{'todos': [], 'reminder': ''}` so the graph can build context over time.\n",
    "- Invoke `app` multiple times, each call passing the previous state plus a new `new_todo` value to accumulate tasks.\n",
    "- `operator.add` on the `todos` field preserves prior entries, while the subgraph refreshes the `reminder` each run.\n",
    "- Inspect `final_state` (or the logged output) to confirm the list and reminder match your expectations.\n"
   ]
  },
  {
   "cell_type": "code",
   "execution_count": null,
   "id": "7f06bb76",
   "metadata": {},
   "outputs": [],
   "source": [
    "# Initialize an empty state for the first run.\n",
    "current_state = {'todos': [], 'reminder': ''}\n",
    "\n",
    "# Execute the graph sequentially to add multiple tasks and update the state.\n",
    "# First invocation adds 'Finish LangGraph tutorial video'.\n",
    "inputs1 = {'new_todo': 'Finish LangGraph tutorial video'}\n",
    "# Pass previous state to accumulate tasks.\n",
    "current_state = app.invoke(inputs1, config={'recursion_limit': 50}, state=current_state)  \n",
    "print('\\nCurrent State:')\n",
    "print(current_state)"
   ]
  },
  {
   "cell_type": "code",
   "execution_count": null,
   "id": "e416490e",
   "metadata": {},
   "outputs": [],
   "source": [
    "\n",
    "# Second invocation adds 'Create Basic Grocery List'.\n",
    "inputs2 = {'new_todo': 'Create Basic Grocery List'}\n",
    "current_state = app.invoke(inputs2, config={'recursion_limit': 50}, state=current_state)  # Pass previous state.\n",
    "print('\\nCurrent State:')\n",
    "print(current_state)"
   ]
  },
  {
   "cell_type": "code",
   "execution_count": null,
   "id": "6f6f8650",
   "metadata": {},
   "outputs": [],
   "source": [
    "# Third invocation adds 'Schedule dentist appointment' and gets the final result.\n",
    "inputs3 = {'new_todo': 'Schedule dentist appointment'}\n",
    "final_state = app.invoke(inputs3, config={'recursion_limit': 50}, state=current_state)  # Pass previous state.\n",
    "\n",
    "print('\\nCurrent State:')\n",
    "print(current_state)"
   ]
  }
 ],
 "metadata": {
  "kernelspec": {
   "display_name": "py312",
   "language": "python",
   "name": "python3"
  },
  "language_info": {
   "codemirror_mode": {
    "name": "ipython",
    "version": 3
   },
   "file_extension": ".py",
   "mimetype": "text/x-python",
   "name": "python",
   "nbconvert_exporter": "python",
   "pygments_lexer": "ipython3",
   "version": "3.12.11"
  }
 },
 "nbformat": 4,
 "nbformat_minor": 5
}
