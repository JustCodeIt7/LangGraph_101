{
 "cells": [
  {
   "cell_type": "markdown",
   "id": "9f121f5e",
   "metadata": {},
   "source": [
    "# LangGraph To-Do App with Subgraph Reminder\n",
    "\n",
    "- Refactors the original Python script into an interactive notebook walkthrough.\n",
    "- Shows how to assemble a to-do list agent that delegates reminder creation to a LangGraph subgraph.\n",
    "- Flags the goal of each section so you can skim the notes before running any code.\n",
    "\n",
    "\n",
    "\n",
    "#### Subgraph Visualization\n",
    "\n",
    "<pre style=\"white-space:pre;overflow-x:auto;line-height:normal;font-family:Menlo,'DejaVu Sans Mono',consolas,'Courier New',monospace\">   +-----------+     \n",
    "   | __start__ |     \n",
    "   +-----------+     \n",
    "          *          \n",
    "          *          \n",
    "          *          \n",
    "  +------------+     \n",
    "  | prioritize |     \n",
    "  +------------+     \n",
    "          *          \n",
    "          *          \n",
    "          *          \n",
    "+-----------------+  \n",
    "| format_reminder |  \n",
    "+-----------------+  \n",
    "          *          \n",
    "          *          \n",
    "          *          \n",
    "    +---------+      \n",
    "    | __end__ |      \n",
    "    +---------+      \n",
    "</pre>\n",
    "\n",
    "#### Main Graph Visualization\n",
    "\n",
    "<pre style=\"white-space:pre;overflow-x:auto;line-height:normal;font-family:Menlo,'DejaVu Sans Mono',consolas,'Courier New',monospace\">    +-----------+      \n",
    "    | __start__ |      \n",
    "    +-----------+      \n",
    "          *            \n",
    "          *            \n",
    "          *            \n",
    "    +----------+       \n",
    "    | add_todo |       \n",
    "    +----------+       \n",
    "          *            \n",
    "          *            \n",
    "          *            \n",
    "+-------------------+  \n",
    "| reminder_subgraph |  \n",
    "+-------------------+  \n",
    "          *            \n",
    "          *            \n",
    "          *            \n",
    "  +---------------+    \n",
    "  | display_todos |    \n",
    "  +---------------+    \n",
    "          *            \n",
    "          *            \n",
    "          *            \n",
    "     +---------+       \n",
    "     | __end__ |       \n",
    "     +---------+       \n",
    "</pre>\n"
   ]
  },
  {
   "cell_type": "markdown",
   "id": "530def7d",
   "metadata": {},
   "source": [
    "## 1. Imports and Setup\n",
    "- `StateGraph`, `START`, and `END` define the directed workflow used by LangGraph.\n",
    "- `ChatOllama` and the structured message classes give us an easy way to prompt an LLM.\n",
    "- `rich.print` keeps runtime tracing readable while we debug or demo the graph.\n",
    "- If you rely on a different model provider, this is where you would swap in your own client and credentials.\n"
   ]
  },
  {
   "cell_type": "code",
   "execution_count": 28,
   "id": "2c33ce1f",
   "metadata": {},
   "outputs": [],
   "source": [
    "from typing import List, TypedDict, Annotated\n",
    "import operator\n",
    "from langchain_core.messages import AnyMessage, SystemMessage, HumanMessage\n",
    "from langchain_ollama import ChatOllama\n",
    "from langgraph.graph import StateGraph, END, START\n",
    "from rich import print"
   ]
  },
  {
   "cell_type": "markdown",
   "id": "c5d1638d",
   "metadata": {},
   "source": [
    "## 2. Define Shared State\n",
    "- LangGraph threads a single state dictionary through every node, so we spell it out with a `TodoState` `TypedDict`.\n",
    "- `todos` uses `Annotated[List[str], operator.add]` so any node can append items across repeated graph runs.\n",
    "- `new_todo` captures the latest user input, while `reminder` stores whatever message the subgraph produces.\n"
   ]
  },
  {
   "cell_type": "code",
   "execution_count": 29,
   "id": "ee3e5ce6",
   "metadata": {},
   "outputs": [],
   "source": [
    "class TodoState(TypedDict):\n",
    "    \"\"\"\n",
    "    Represents the application's state, including the list of tasks and reminders.\n",
    "    \"\"\"\n",
    "\n",
    "    # Use operator.add to accumulate items into the list across graph runs.\n",
    "    todos: Annotated[List[str], operator.add]\n",
    "    reminder: str\n",
    "    new_todo: str"
   ]
  },
  {
   "cell_type": "markdown",
   "id": "efc1eb0c",
   "metadata": {},
   "source": [
    "## 3. Main Graph Nodes\n",
    "- Main-graph nodes handle user input and output, keeping business logic simple and testable.\n",
    "- `add_todo` trims the incoming `new_todo`, returns a list of tasks to append, and gracefully ignores blank entries.\n",
    "- `display_final_state` prints the aggregated tasks plus the reminder, then returns an empty dict because it does not change state.\n",
    "- Short, focused node functions are easier to unit test and reuse in other graphs.\n"
   ]
  },
  {
   "cell_type": "code",
   "execution_count": 30,
   "id": "27721d2c",
   "metadata": {},
   "outputs": [],
   "source": [
    "# Define a node to add a new task to the to-do list.\n",
    "def add_todo(state: TodoState):\n",
    "    \"\"\"\n",
    "    Appends a new task from the 'new_todo' field to the 'todos' list.\n",
    "    \"\"\"\n",
    "    print('--- ADDING TODO ---')\n",
    "    new_task = state.get('new_todo', '').strip()\n",
    "\n",
    "    # Handle cases where the input task is empty.\n",
    "    if not new_task:\n",
    "        print('No new task provided.')\n",
    "        return {'todos': []}  # Return an empty list to signify no change.\n",
    "\n",
    "    print(f'Adding task: {new_task}')\n",
    "    # Return the new task in a list to be appended to the state.\n",
    "    return {'todos': [new_task]}\n",
    "\n",
    "\n",
    "# Define a node to print the final state of the to-do list and reminder.\n",
    "def display_final_state(state: TodoState):\n",
    "    \"\"\"\n",
    "    Displays the final list of tasks and the generated reminder to the console.\n",
    "    \"\"\"\n",
    "    print('\\n--- FINAL TO-DO LIST & REMINDER ---')\n",
    "    print(f'Tasks: {state[\"todos\"]}')\n",
    "    print(f'Reminder: {state[\"reminder\"]}')\n",
    "    print('------------------------------------')\n",
    "    return {}  # Return an empty dictionary as this node doesn't modify state.\n"
   ]
  },
  {
   "cell_type": "markdown",
   "id": "9a7ff79c",
   "metadata": {},
   "source": [
    "## 4. Subgraph Nodes\n",
    "- The reminder workflow lives in a subgraph so we can iterate on it independently of the main app.\n",
    "- `prioritize_tasks_llm` composes a prompt from the current tasks, calls `ChatOllama`, and handles the edge case where no tasks exist.\n",
    "- `format_reminder_text` wraps the LLM output in a user-friendly template before handing control back.\n",
    "- Each node updates only the `reminder` field, illustrating how subgraphs can focus on a narrow slice of shared state.\n"
   ]
  },
  {
   "cell_type": "code",
   "execution_count": 31,
   "id": "9d9e49bc",
   "metadata": {},
   "outputs": [],
   "source": [
    "\n",
    "# Define a node that uses an LLM to prioritize the current list of tasks.\n",
    "def prioritize_tasks_llm(state: TodoState):\n",
    "    \"\"\"\n",
    "    Invokes an LLM to generate a prioritized list from the current 'todos'.\n",
    "    \"\"\"\n",
    "    print('\\n--- SUBGRAPH: PRIORITIZING TASKS ---')\n",
    "    llm = ChatOllama(model='llama3.2')  # Initialize the language model.\n",
    "\n",
    "    # If there are no tasks, return a default message.\n",
    "    if not state['todos']:\n",
    "        return {'reminder': 'No tasks to prioritize.'}\n",
    "\n",
    "    # Format the list of tasks into a string for the LLM prompt.\n",
    "    task_list_str = '\\n'.join(f'- {task}' for task in state['todos'])\n",
    "\n",
    "    # Construct the prompt with system and human messages.\n",
    "    prompt = [\n",
    "        SystemMessage(content='You are a helpful assistant. Your task is to prioritize a list of to-do items.'),\n",
    "        HumanMessage(\n",
    "            content=f'Please prioritize the following tasks and return them as a numbered list, with the most important task first:\\n\\n{task_list_str}'\n",
    "        ),\n",
    "    ]\n",
    "\n",
    "    response = llm.invoke(prompt)\n",
    "    print('LLM generated prioritized list.')\n",
    "    # Update the 'reminder' field with the raw LLM output.\n",
    "    return {'reminder': response.content}\n",
    "\n",
    "\n",
    "# Define a node to format the LLM's output into a user-friendly message.\n",
    "def format_reminder_text(state: TodoState):\n",
    "    \"\"\"\n",
    "    Wraps the prioritized task list in a friendly reminder message.\n",
    "    \"\"\"\n",
    "    print('--- SUBGRAPH: FORMATTING REMINDER ---')\n",
    "    prioritized_tasks = state.get('reminder', 'No tasks were prioritized.')\n",
    "    formatted_reminder = f'Here is your prioritized reminder for today:\\n{prioritized_tasks}'\n",
    "    # Overwrite the 'reminder' field with the final formatted string.\n",
    "    return {'reminder': formatted_reminder}\n"
   ]
  },
  {
   "cell_type": "markdown",
   "id": "7fcf1d9a",
   "metadata": {},
   "source": [
    "## 5. Build Graphs\n",
    "- LangGraph composes nodes by name, so once functions exist we can wire them into reusable workflows.\n",
    "- Start by declaring the reminder subgraph and then embed it inside the main application graph for a modular design.\n",
    "\n",
    "### Building Subgraph\n",
    "- Instantiate `StateGraph(TodoState)` to scope the reminder flow to the shared schema.\n",
    "- Register the prioritization and formatting nodes, linking `START -> prioritize -> format_reminder -> END`.\n",
    "- Compile the subgraph to produce `reminder_app`, a callable component you can reuse elsewhere.\n"
   ]
  },
  {
   "cell_type": "code",
   "execution_count": 32,
   "id": "1f8a5235",
   "metadata": {},
   "outputs": [
    {
     "data": {
      "text/html": [
       "<pre style=\"white-space:pre;overflow-x:auto;line-height:normal;font-family:Menlo,'DejaVu Sans Mono',consolas,'Courier New',monospace\">   +-----------+     \n",
       "   | __start__ |     \n",
       "   +-----------+     \n",
       "          *          \n",
       "          *          \n",
       "          *          \n",
       "  +------------+     \n",
       "  | prioritize |     \n",
       "  +------------+     \n",
       "          *          \n",
       "          *          \n",
       "          *          \n",
       "+-----------------+  \n",
       "| format_reminder |  \n",
       "+-----------------+  \n",
       "          *          \n",
       "          *          \n",
       "          *          \n",
       "    +---------+      \n",
       "    | __end__ |      \n",
       "    +---------+      \n",
       "</pre>\n"
      ],
      "text/plain": [
       "   +-----------+     \n",
       "   | __start__ |     \n",
       "   +-----------+     \n",
       "          *          \n",
       "          *          \n",
       "          *          \n",
       "  +------------+     \n",
       "  | prioritize |     \n",
       "  +------------+     \n",
       "          *          \n",
       "          *          \n",
       "          *          \n",
       "+-----------------+  \n",
       "| format_reminder |  \n",
       "+-----------------+  \n",
       "          *          \n",
       "          *          \n",
       "          *          \n",
       "    +---------+      \n",
       "    | __end__ |      \n",
       "    +---------+      \n"
      ]
     },
     "metadata": {},
     "output_type": "display_data"
    }
   ],
   "source": [
    "\n",
    "# Create the state graph for the reminder-generation subgraph.\n",
    "reminder_subgraph = StateGraph(TodoState)\n",
    "# Add nodes for prioritizing tasks and formatting the output.\n",
    "reminder_subgraph.add_node('prioritize', prioritize_tasks_llm)\n",
    "reminder_subgraph.add_node('format_reminder', format_reminder_text)\n",
    "\n",
    "# Define the data flow within the subgraph.\n",
    "reminder_subgraph.add_edge(START, 'prioritize')\n",
    "reminder_subgraph.add_edge('prioritize', 'format_reminder')\n",
    "reminder_subgraph.add_edge('format_reminder', END)\n",
    "\n",
    "# Compile the subgraph into a runnable application.\n",
    "reminder_app = reminder_subgraph.compile()\n",
    "print(reminder_app.get_graph().draw_ascii())\n"
   ]
  },
  {
   "cell_type": "markdown",
   "id": "e2508b2e",
   "metadata": {},
   "source": [
    "### Building Main Graph\n",
    "- Spin up another `StateGraph(TodoState)` for the top-level workflow.\n",
    "- Add the `add_todo` node, mount the compiled `reminder_app` as a single step, and finish with `display_todos`.\n",
    "- Connect the edges in execution order and call `compile()` to create `app`, the final agent we will run multiple times.\n"
   ]
  },
  {
   "cell_type": "code",
   "execution_count": 33,
   "id": "ec400438",
   "metadata": {},
   "outputs": [
    {
     "data": {
      "text/html": [
       "<pre style=\"white-space:pre;overflow-x:auto;line-height:normal;font-family:Menlo,'DejaVu Sans Mono',consolas,'Courier New',monospace\">    +-----------+      \n",
       "    | __start__ |      \n",
       "    +-----------+      \n",
       "          *            \n",
       "          *            \n",
       "          *            \n",
       "    +----------+       \n",
       "    | add_todo |       \n",
       "    +----------+       \n",
       "          *            \n",
       "          *            \n",
       "          *            \n",
       "+-------------------+  \n",
       "| reminder_subgraph |  \n",
       "+-------------------+  \n",
       "          *            \n",
       "          *            \n",
       "          *            \n",
       "  +---------------+    \n",
       "  | display_todos |    \n",
       "  +---------------+    \n",
       "          *            \n",
       "          *            \n",
       "          *            \n",
       "     +---------+       \n",
       "     | __end__ |       \n",
       "     +---------+       \n",
       "</pre>\n"
      ],
      "text/plain": [
       "    +-----------+      \n",
       "    | __start__ |      \n",
       "    +-----------+      \n",
       "          *            \n",
       "          *            \n",
       "          *            \n",
       "    +----------+       \n",
       "    | add_todo |       \n",
       "    +----------+       \n",
       "          *            \n",
       "          *            \n",
       "          *            \n",
       "+-------------------+  \n",
       "| reminder_subgraph |  \n",
       "+-------------------+  \n",
       "          *            \n",
       "          *            \n",
       "          *            \n",
       "  +---------------+    \n",
       "  | display_todos |    \n",
       "  +---------------+    \n",
       "          *            \n",
       "          *            \n",
       "          *            \n",
       "     +---------+       \n",
       "     | __end__ |       \n",
       "     +---------+       \n"
      ]
     },
     "metadata": {},
     "output_type": "display_data"
    }
   ],
   "source": [
    "\n",
    "# Create the main application graph.\n",
    "main_graph = StateGraph(TodoState)\n",
    "\n",
    "# Add nodes for the main workflow.\n",
    "main_graph.add_node('add_todo', add_todo)\n",
    "# Add the compiled subgraph as a single, callable node.\n",
    "main_graph.add_node('reminder_subgraph', reminder_app)\n",
    "main_graph.add_node('display_todos', display_final_state)\n",
    "\n",
    "# Define the data flow for the main graph.\n",
    "main_graph.add_edge(START, 'add_todo')\n",
    "main_graph.add_edge('add_todo', 'reminder_subgraph')\n",
    "main_graph.add_edge('reminder_subgraph', 'display_todos')\n",
    "main_graph.add_edge('display_todos', END)\n",
    "\n",
    "# Compile the complete main graph into the final application.\n",
    "app = main_graph.compile()\n",
    "print(app.get_graph().draw_ascii())"
   ]
  },
  {
   "cell_type": "markdown",
   "id": "28df5115",
   "metadata": {},
   "source": [
    "## 6. Visualize Graph Structure\n",
    "- Call `draw_ascii()` to confirm the node order without needing extra dependencies.\n",
    "- Swap in `draw_png()` or `draw_mermaid()` if Graphviz is available and you want richer diagrams in the notebook.\n",
    "- Visual checks help catch wiring mistakes before you execute the full agent.\n"
   ]
  },
  {
   "cell_type": "markdown",
   "id": "734f27b7",
   "metadata": {},
   "source": [
    "## 7. Run the Application\n",
    "- Begin with an empty state like `{'todos': [], 'reminder': ''}` so the graph can build context over time.\n",
    "- Invoke `app` multiple times, each call passing the previous state plus a new `new_todo` value to accumulate tasks.\n",
    "- `operator.add` on the `todos` field preserves prior entries, while the subgraph refreshes the `reminder` each run.\n",
    "- Inspect `final_state` (or the logged output) to confirm the list and reminder match your expectations.\n"
   ]
  },
  {
   "cell_type": "code",
   "execution_count": 34,
   "id": "7f06bb76",
   "metadata": {},
   "outputs": [
    {
     "data": {
      "text/html": [
       "<pre style=\"white-space:pre;overflow-x:auto;line-height:normal;font-family:Menlo,'DejaVu Sans Mono',consolas,'Courier New',monospace\">--- ADDING TODO ---\n",
       "</pre>\n"
      ],
      "text/plain": [
       "--- ADDING TODO ---\n"
      ]
     },
     "metadata": {},
     "output_type": "display_data"
    },
    {
     "data": {
      "text/html": [
       "<pre style=\"white-space:pre;overflow-x:auto;line-height:normal;font-family:Menlo,'DejaVu Sans Mono',consolas,'Courier New',monospace\">Adding task: Finish LangGraph tutorial video\n",
       "</pre>\n"
      ],
      "text/plain": [
       "Adding task: Finish LangGraph tutorial video\n"
      ]
     },
     "metadata": {},
     "output_type": "display_data"
    },
    {
     "data": {
      "text/html": [
       "<pre style=\"white-space:pre;overflow-x:auto;line-height:normal;font-family:Menlo,'DejaVu Sans Mono',consolas,'Courier New',monospace\">\n",
       "--- SUBGRAPH: PRIORITIZING TASKS ---\n",
       "</pre>\n"
      ],
      "text/plain": [
       "\n",
       "--- SUBGRAPH: PRIORITIZING TASKS ---\n"
      ]
     },
     "metadata": {},
     "output_type": "display_data"
    },
    {
     "data": {
      "text/html": [
       "<pre style=\"white-space:pre;overflow-x:auto;line-height:normal;font-family:Menlo,'DejaVu Sans Mono',consolas,'Courier New',monospace\">LLM generated prioritized list.\n",
       "</pre>\n"
      ],
      "text/plain": [
       "LLM generated prioritized list.\n"
      ]
     },
     "metadata": {},
     "output_type": "display_data"
    },
    {
     "data": {
      "text/html": [
       "<pre style=\"white-space:pre;overflow-x:auto;line-height:normal;font-family:Menlo,'DejaVu Sans Mono',consolas,'Courier New',monospace\">--- SUBGRAPH: FORMATTING REMINDER ---\n",
       "</pre>\n"
      ],
      "text/plain": [
       "--- SUBGRAPH: FORMATTING REMINDER ---\n"
      ]
     },
     "metadata": {},
     "output_type": "display_data"
    },
    {
     "data": {
      "text/html": [
       "<pre style=\"white-space:pre;overflow-x:auto;line-height:normal;font-family:Menlo,'DejaVu Sans Mono',consolas,'Courier New',monospace\">\n",
       "--- FINAL TO-DO LIST &amp; REMINDER ---\n",
       "</pre>\n"
      ],
      "text/plain": [
       "\n",
       "--- FINAL TO-DO LIST & REMINDER ---\n"
      ]
     },
     "metadata": {},
     "output_type": "display_data"
    },
    {
     "data": {
      "text/html": [
       "<pre style=\"white-space:pre;overflow-x:auto;line-height:normal;font-family:Menlo,'DejaVu Sans Mono',consolas,'Courier New',monospace\">Tasks: <span style=\"font-weight: bold\">[</span><span style=\"color: #008000; text-decoration-color: #008000\">'Finish LangGraph tutorial video'</span>, <span style=\"color: #008000; text-decoration-color: #008000\">'Finish LangGraph tutorial video'</span><span style=\"font-weight: bold\">]</span>\n",
       "</pre>\n"
      ],
      "text/plain": [
       "Tasks: \u001b[1m[\u001b[0m\u001b[32m'Finish LangGraph tutorial video'\u001b[0m, \u001b[32m'Finish LangGraph tutorial video'\u001b[0m\u001b[1m]\u001b[0m\n"
      ]
     },
     "metadata": {},
     "output_type": "display_data"
    },
    {
     "data": {
      "text/html": [
       "<pre style=\"white-space:pre;overflow-x:auto;line-height:normal;font-family:Menlo,'DejaVu Sans Mono',consolas,'Courier New',monospace\">Reminder: Here is your prioritized reminder for today:\n",
       "Here's your prioritized task list with the most important task first:\n",
       "\n",
       "<span style=\"color: #008080; text-decoration-color: #008080; font-weight: bold\">1</span>. Finish LangGraph tutorial video\n",
       "<span style=\"color: #008080; text-decoration-color: #008080; font-weight: bold\">2</span>. <span style=\"font-weight: bold\">(</span>No other tasks provided - please add more if needed!<span style=\"font-weight: bold\">)</span>\n",
       "\n",
       "If you have additional tasks to prioritize, feel free to share them and I'll be happy to help!\n",
       "</pre>\n"
      ],
      "text/plain": [
       "Reminder: Here is your prioritized reminder for today:\n",
       "Here's your prioritized task list with the most important task first:\n",
       "\n",
       "\u001b[1;36m1\u001b[0m. Finish LangGraph tutorial video\n",
       "\u001b[1;36m2\u001b[0m. \u001b[1m(\u001b[0mNo other tasks provided - please add more if needed!\u001b[1m)\u001b[0m\n",
       "\n",
       "If you have additional tasks to prioritize, feel free to share them and I'll be happy to help!\n"
      ]
     },
     "metadata": {},
     "output_type": "display_data"
    },
    {
     "data": {
      "text/html": [
       "<pre style=\"white-space:pre;overflow-x:auto;line-height:normal;font-family:Menlo,'DejaVu Sans Mono',consolas,'Courier New',monospace\">------------------------------------\n",
       "</pre>\n"
      ],
      "text/plain": [
       "------------------------------------\n"
      ]
     },
     "metadata": {},
     "output_type": "display_data"
    },
    {
     "data": {
      "text/html": [
       "<pre style=\"white-space:pre;overflow-x:auto;line-height:normal;font-family:Menlo,'DejaVu Sans Mono',consolas,'Courier New',monospace\">--- ADDING TODO ---\n",
       "</pre>\n"
      ],
      "text/plain": [
       "--- ADDING TODO ---\n"
      ]
     },
     "metadata": {},
     "output_type": "display_data"
    },
    {
     "data": {
      "text/html": [
       "<pre style=\"white-space:pre;overflow-x:auto;line-height:normal;font-family:Menlo,'DejaVu Sans Mono',consolas,'Courier New',monospace\">Adding task: Buy groceries\n",
       "</pre>\n"
      ],
      "text/plain": [
       "Adding task: Buy groceries\n"
      ]
     },
     "metadata": {},
     "output_type": "display_data"
    },
    {
     "data": {
      "text/html": [
       "<pre style=\"white-space:pre;overflow-x:auto;line-height:normal;font-family:Menlo,'DejaVu Sans Mono',consolas,'Courier New',monospace\">\n",
       "--- SUBGRAPH: PRIORITIZING TASKS ---\n",
       "</pre>\n"
      ],
      "text/plain": [
       "\n",
       "--- SUBGRAPH: PRIORITIZING TASKS ---\n"
      ]
     },
     "metadata": {},
     "output_type": "display_data"
    },
    {
     "data": {
      "text/html": [
       "<pre style=\"white-space:pre;overflow-x:auto;line-height:normal;font-family:Menlo,'DejaVu Sans Mono',consolas,'Courier New',monospace\">LLM generated prioritized list.\n",
       "</pre>\n"
      ],
      "text/plain": [
       "LLM generated prioritized list.\n"
      ]
     },
     "metadata": {},
     "output_type": "display_data"
    },
    {
     "data": {
      "text/html": [
       "<pre style=\"white-space:pre;overflow-x:auto;line-height:normal;font-family:Menlo,'DejaVu Sans Mono',consolas,'Courier New',monospace\">--- SUBGRAPH: FORMATTING REMINDER ---\n",
       "</pre>\n"
      ],
      "text/plain": [
       "--- SUBGRAPH: FORMATTING REMINDER ---\n"
      ]
     },
     "metadata": {},
     "output_type": "display_data"
    },
    {
     "data": {
      "text/html": [
       "<pre style=\"white-space:pre;overflow-x:auto;line-height:normal;font-family:Menlo,'DejaVu Sans Mono',consolas,'Courier New',monospace\">\n",
       "--- FINAL TO-DO LIST &amp; REMINDER ---\n",
       "</pre>\n"
      ],
      "text/plain": [
       "\n",
       "--- FINAL TO-DO LIST & REMINDER ---\n"
      ]
     },
     "metadata": {},
     "output_type": "display_data"
    },
    {
     "data": {
      "text/html": [
       "<pre style=\"white-space:pre;overflow-x:auto;line-height:normal;font-family:Menlo,'DejaVu Sans Mono',consolas,'Courier New',monospace\">Tasks: <span style=\"font-weight: bold\">[</span><span style=\"color: #008000; text-decoration-color: #008000\">'Buy groceries'</span>, <span style=\"color: #008000; text-decoration-color: #008000\">'Buy groceries'</span><span style=\"font-weight: bold\">]</span>\n",
       "</pre>\n"
      ],
      "text/plain": [
       "Tasks: \u001b[1m[\u001b[0m\u001b[32m'Buy groceries'\u001b[0m, \u001b[32m'Buy groceries'\u001b[0m\u001b[1m]\u001b[0m\n"
      ]
     },
     "metadata": {},
     "output_type": "display_data"
    },
    {
     "data": {
      "text/html": [
       "<pre style=\"white-space:pre;overflow-x:auto;line-height:normal;font-family:Menlo,'DejaVu Sans Mono',consolas,'Courier New',monospace\">Reminder: Here is your prioritized reminder for today:\n",
       "Here's your prioritized list of tasks with <span style=\"color: #008000; text-decoration-color: #008000\">\"Buy groceries\"</span> as the top priority:\n",
       "\n",
       "<span style=\"color: #008080; text-decoration-color: #008080; font-weight: bold\">1</span>. Buy groceries\n",
       "<span style=\"color: #008080; text-decoration-color: #008080; font-weight: bold\">2</span>. <span style=\"font-weight: bold\">(</span>No other tasks provided<span style=\"font-weight: bold\">)</span> - If you'd like to add more tasks, please provide them so I can assist with \n",
       "prioritizing!\n",
       "</pre>\n"
      ],
      "text/plain": [
       "Reminder: Here is your prioritized reminder for today:\n",
       "Here's your prioritized list of tasks with \u001b[32m\"Buy groceries\"\u001b[0m as the top priority:\n",
       "\n",
       "\u001b[1;36m1\u001b[0m. Buy groceries\n",
       "\u001b[1;36m2\u001b[0m. \u001b[1m(\u001b[0mNo other tasks provided\u001b[1m)\u001b[0m - If you'd like to add more tasks, please provide them so I can assist with \n",
       "prioritizing!\n"
      ]
     },
     "metadata": {},
     "output_type": "display_data"
    },
    {
     "data": {
      "text/html": [
       "<pre style=\"white-space:pre;overflow-x:auto;line-height:normal;font-family:Menlo,'DejaVu Sans Mono',consolas,'Courier New',monospace\">------------------------------------\n",
       "</pre>\n"
      ],
      "text/plain": [
       "------------------------------------\n"
      ]
     },
     "metadata": {},
     "output_type": "display_data"
    },
    {
     "data": {
      "text/html": [
       "<pre style=\"white-space:pre;overflow-x:auto;line-height:normal;font-family:Menlo,'DejaVu Sans Mono',consolas,'Courier New',monospace\">--- ADDING TODO ---\n",
       "</pre>\n"
      ],
      "text/plain": [
       "--- ADDING TODO ---\n"
      ]
     },
     "metadata": {},
     "output_type": "display_data"
    },
    {
     "data": {
      "text/html": [
       "<pre style=\"white-space:pre;overflow-x:auto;line-height:normal;font-family:Menlo,'DejaVu Sans Mono',consolas,'Courier New',monospace\">Adding task: Schedule dentist appointment\n",
       "</pre>\n"
      ],
      "text/plain": [
       "Adding task: Schedule dentist appointment\n"
      ]
     },
     "metadata": {},
     "output_type": "display_data"
    },
    {
     "data": {
      "text/html": [
       "<pre style=\"white-space:pre;overflow-x:auto;line-height:normal;font-family:Menlo,'DejaVu Sans Mono',consolas,'Courier New',monospace\">\n",
       "--- SUBGRAPH: PRIORITIZING TASKS ---\n",
       "</pre>\n"
      ],
      "text/plain": [
       "\n",
       "--- SUBGRAPH: PRIORITIZING TASKS ---\n"
      ]
     },
     "metadata": {},
     "output_type": "display_data"
    },
    {
     "data": {
      "text/html": [
       "<pre style=\"white-space:pre;overflow-x:auto;line-height:normal;font-family:Menlo,'DejaVu Sans Mono',consolas,'Courier New',monospace\">LLM generated prioritized list.\n",
       "</pre>\n"
      ],
      "text/plain": [
       "LLM generated prioritized list.\n"
      ]
     },
     "metadata": {},
     "output_type": "display_data"
    },
    {
     "data": {
      "text/html": [
       "<pre style=\"white-space:pre;overflow-x:auto;line-height:normal;font-family:Menlo,'DejaVu Sans Mono',consolas,'Courier New',monospace\">--- SUBGRAPH: FORMATTING REMINDER ---\n",
       "</pre>\n"
      ],
      "text/plain": [
       "--- SUBGRAPH: FORMATTING REMINDER ---\n"
      ]
     },
     "metadata": {},
     "output_type": "display_data"
    },
    {
     "data": {
      "text/html": [
       "<pre style=\"white-space:pre;overflow-x:auto;line-height:normal;font-family:Menlo,'DejaVu Sans Mono',consolas,'Courier New',monospace\">\n",
       "--- FINAL TO-DO LIST &amp; REMINDER ---\n",
       "</pre>\n"
      ],
      "text/plain": [
       "\n",
       "--- FINAL TO-DO LIST & REMINDER ---\n"
      ]
     },
     "metadata": {},
     "output_type": "display_data"
    },
    {
     "data": {
      "text/html": [
       "<pre style=\"white-space:pre;overflow-x:auto;line-height:normal;font-family:Menlo,'DejaVu Sans Mono',consolas,'Courier New',monospace\">Tasks: <span style=\"font-weight: bold\">[</span><span style=\"color: #008000; text-decoration-color: #008000\">'Schedule dentist appointment'</span>, <span style=\"color: #008000; text-decoration-color: #008000\">'Schedule dentist appointment'</span><span style=\"font-weight: bold\">]</span>\n",
       "</pre>\n"
      ],
      "text/plain": [
       "Tasks: \u001b[1m[\u001b[0m\u001b[32m'Schedule dentist appointment'\u001b[0m, \u001b[32m'Schedule dentist appointment'\u001b[0m\u001b[1m]\u001b[0m\n"
      ]
     },
     "metadata": {},
     "output_type": "display_data"
    },
    {
     "data": {
      "text/html": [
       "<pre style=\"white-space:pre;overflow-x:auto;line-height:normal;font-family:Menlo,'DejaVu Sans Mono',consolas,'Courier New',monospace\">Reminder: Here is your prioritized reminder for today:\n",
       "Here is the prioritized list:\n",
       "\n",
       "<span style=\"color: #008080; text-decoration-color: #008080; font-weight: bold\">1</span>. Schedule dentist appointment <span style=\"font-weight: bold\">(</span>urgent - maintaining good oral health is essential for overall well-being<span style=\"font-weight: bold\">)</span>\n",
       "<span style=\"color: #008080; text-decoration-color: #008080; font-weight: bold\">2</span>. <span style=\"font-weight: bold\">[</span>No other tasks provided<span style=\"font-weight: bold\">]</span>\n",
       "</pre>\n"
      ],
      "text/plain": [
       "Reminder: Here is your prioritized reminder for today:\n",
       "Here is the prioritized list:\n",
       "\n",
       "\u001b[1;36m1\u001b[0m. Schedule dentist appointment \u001b[1m(\u001b[0murgent - maintaining good oral health is essential for overall well-being\u001b[1m)\u001b[0m\n",
       "\u001b[1;36m2\u001b[0m. \u001b[1m[\u001b[0mNo other tasks provided\u001b[1m]\u001b[0m\n"
      ]
     },
     "metadata": {},
     "output_type": "display_data"
    },
    {
     "data": {
      "text/html": [
       "<pre style=\"white-space:pre;overflow-x:auto;line-height:normal;font-family:Menlo,'DejaVu Sans Mono',consolas,'Courier New',monospace\">------------------------------------\n",
       "</pre>\n"
      ],
      "text/plain": [
       "------------------------------------\n"
      ]
     },
     "metadata": {},
     "output_type": "display_data"
    }
   ],
   "source": [
    "# Initialize an empty state for the first run.\n",
    "current_state = {'todos': [], 'reminder': ''}\n",
    "\n",
    "# Execute the graph sequentially to add multiple tasks and update the state.\n",
    "# First invocation adds 'Finish LangGraph tutorial video'.\n",
    "inputs1 = {'new_todo': 'Finish LangGraph tutorial video'}\n",
    "current_state = app.invoke(\n",
    "    inputs1, config={'recursion_limit': 100}, state=current_state\n",
    ")  # Pass previous state to accumulate tasks.\n",
    "\n",
    "# Second invocation adds 'Buy groceries'.\n",
    "inputs2 = {'new_todo': 'Buy groceries'}\n",
    "current_state = app.invoke(inputs2, config={'recursion_limit': 100}, state=current_state)  # Pass previous state.\n",
    "\n",
    "# Third invocation adds 'Schedule dentist appointment' and gets the final result.\n",
    "inputs3 = {'new_todo': 'Schedule dentist appointment'}\n",
    "final_state = app.invoke(inputs3, config={'recursion_limit': 100}, state=current_state)  # Pass previous state."
   ]
  },
  {
   "cell_type": "code",
   "execution_count": null,
   "id": "be3ccc29",
   "metadata": {},
   "outputs": [],
   "source": []
  }
 ],
 "metadata": {
  "kernelspec": {
   "display_name": "py312",
   "language": "python",
   "name": "python3"
  },
  "language_info": {
   "codemirror_mode": {
    "name": "ipython",
    "version": 3
   },
   "file_extension": ".py",
   "mimetype": "text/x-python",
   "name": "python",
   "nbconvert_exporter": "python",
   "pygments_lexer": "ipython3",
   "version": "3.12.11"
  }
 },
 "nbformat": 4,
 "nbformat_minor": 5
}
