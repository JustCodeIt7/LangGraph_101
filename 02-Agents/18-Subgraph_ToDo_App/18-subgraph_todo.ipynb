{
 "cells": [
  {
   "cell_type": "markdown",
   "id": "9f121f5e",
   "metadata": {},
   "source": [
    "# LangGraph To-Do App with Subgraph Reminder\n",
    "\n",
    "This notebook refactors the original Python script into an interactive walkthrough that showcases how to build a to-do list agent with a reminder-generating subgraph using LangGraph.\n",
    "\n",
    "\n",
    "\n",
    "#### Subgraph Visualization\n",
    "\n",
    "<pre style=\"white-space:pre;overflow-x:auto;line-height:normal;font-family:Menlo,'DejaVu Sans Mono',consolas,'Courier New',monospace\">   +-----------+     \n",
    "   | __start__ |     \n",
    "   +-----------+     \n",
    "          *          \n",
    "          *          \n",
    "          *          \n",
    "  +------------+     \n",
    "  | prioritize |     \n",
    "  +------------+     \n",
    "          *          \n",
    "          *          \n",
    "          *          \n",
    "+-----------------+  \n",
    "| format_reminder |  \n",
    "+-----------------+  \n",
    "          *          \n",
    "          *          \n",
    "          *          \n",
    "    +---------+      \n",
    "    | __end__ |      \n",
    "    +---------+      \n",
    "</pre>\n",
    "\n",
    "#### Main Graph Visualization\n",
    "\n",
    "<pre style=\"white-space:pre;overflow-x:auto;line-height:normal;font-family:Menlo,'DejaVu Sans Mono',consolas,'Courier New',monospace\">    +-----------+      \n",
    "    | __start__ |      \n",
    "    +-----------+      \n",
    "          *            \n",
    "          *            \n",
    "          *            \n",
    "    +----------+       \n",
    "    | add_todo |       \n",
    "    +----------+       \n",
    "          *            \n",
    "          *            \n",
    "          *            \n",
    "+-------------------+  \n",
    "| reminder_subgraph |  \n",
    "+-------------------+  \n",
    "          *            \n",
    "          *            \n",
    "          *            \n",
    "  +---------------+    \n",
    "  | display_todos |    \n",
    "  +---------------+    \n",
    "          *            \n",
    "          *            \n",
    "          *            \n",
    "     +---------+       \n",
    "     | __end__ |       \n",
    "     +---------+       \n",
    "</pre>"
   ]
  },
  {
   "cell_type": "markdown",
   "id": "530def7d",
   "metadata": {},
   "source": [
    "## 1. Imports and Setup\n",
    "Import required typing helpers, LangChain / LangGraph utilities, and Rich for styled logging.\n"
   ]
  },
  {
   "cell_type": "code",
   "execution_count": 17,
   "id": "2c33ce1f",
   "metadata": {},
   "outputs": [],
   "source": [
    "from typing import List, TypedDict, Annotated\n",
    "import operator\n",
    "from langchain_core.messages import AnyMessage, SystemMessage, HumanMessage\n",
    "from langchain_ollama import ChatOllama\n",
    "from langgraph.graph import StateGraph, END, START\n",
    "from rich import print"
   ]
  },
  {
   "cell_type": "markdown",
   "id": "c5d1638d",
   "metadata": {},
   "source": [
    "## 2. Define Shared State\n",
    "We describe the schema for data that flows through the graph using a `TypedDict`. The `todos` list accumulates across graph invocations via `operator.add`."
   ]
  },
  {
   "cell_type": "code",
   "execution_count": 18,
   "id": "ee3e5ce6",
   "metadata": {},
   "outputs": [],
   "source": [
    "class TodoState(TypedDict):\n",
    "    \"\"\"\n",
    "    Represents the application's state, including the list of tasks and reminders.\n",
    "    \"\"\"\n",
    "\n",
    "    # Use operator.add to accumulate items into the list across graph runs.\n",
    "    todos: Annotated[List[str], operator.add]\n",
    "    reminder: str\n",
    "    new_todo: str"
   ]
  },
  {
   "cell_type": "markdown",
   "id": "efc1eb0c",
   "metadata": {},
   "source": [
    "## 3. Main Graph Nodes\n",
    "These nodes handle task ingestion and displaying final results."
   ]
  },
  {
   "cell_type": "code",
   "execution_count": 19,
   "id": "27721d2c",
   "metadata": {},
   "outputs": [],
   "source": [
    "# Define a node to add a new task to the to-do list.\n",
    "def add_todo(state: TodoState):\n",
    "    \"\"\"\n",
    "    Appends a new task from the 'new_todo' field to the 'todos' list.\n",
    "    \"\"\"\n",
    "    print('--- ADDING TODO ---')\n",
    "    new_task = state.get('new_todo', '').strip()\n",
    "\n",
    "    # Handle cases where the input task is empty.\n",
    "    if not new_task:\n",
    "        print('No new task provided.')\n",
    "        return {'todos': []}  # Return an empty list to signify no change.\n",
    "\n",
    "    print(f'Adding task: {new_task}')\n",
    "    # Return the new task in a list to be appended to the state.\n",
    "    return {'todos': [new_task]}\n",
    "\n",
    "\n",
    "# Define a node to print the final state of the to-do list and reminder.\n",
    "def display_final_state(state: TodoState):\n",
    "    \"\"\"\n",
    "    Displays the final list of tasks and the generated reminder to the console.\n",
    "    \"\"\"\n",
    "    print('\\n--- FINAL TO-DO LIST & REMINDER ---')\n",
    "    print(f'Tasks: {state[\"todos\"]}')\n",
    "    print(f'Reminder: {state[\"reminder\"]}')\n",
    "    print('------------------------------------')\n",
    "    return {}  # Return an empty dictionary as this node doesn't modify state.\n"
   ]
  },
  {
   "cell_type": "markdown",
   "id": "9a7ff79c",
   "metadata": {},
   "source": [
    "## 4. Subgraph Nodes\n",
    "The subgraph uses an LLM to prioritize tasks and then formats the reminder message."
   ]
  },
  {
   "cell_type": "code",
   "execution_count": 20,
   "id": "9d9e49bc",
   "metadata": {},
   "outputs": [],
   "source": [
    "\n",
    "# Define a node that uses an LLM to prioritize the current list of tasks.\n",
    "def prioritize_tasks_llm(state: TodoState):\n",
    "    \"\"\"\n",
    "    Invokes an LLM to generate a prioritized list from the current 'todos'.\n",
    "    \"\"\"\n",
    "    print('\\n--- SUBGRAPH: PRIORITIZING TASKS ---')\n",
    "    llm = ChatOllama(model='llama3.2')  # Initialize the language model.\n",
    "\n",
    "    # If there are no tasks, return a default message.\n",
    "    if not state['todos']:\n",
    "        return {'reminder': 'No tasks to prioritize.'}\n",
    "\n",
    "    # Format the list of tasks into a string for the LLM prompt.\n",
    "    task_list_str = '\\n'.join(f'- {task}' for task in state['todos'])\n",
    "\n",
    "    # Construct the prompt with system and human messages.\n",
    "    prompt = [\n",
    "        SystemMessage(content='You are a helpful assistant. Your task is to prioritize a list of to-do items.'),\n",
    "        HumanMessage(\n",
    "            content=f'Please prioritize the following tasks and return them as a numbered list, with the most important task first:\\n\\n{task_list_str}'\n",
    "        ),\n",
    "    ]\n",
    "\n",
    "    response = llm.invoke(prompt)\n",
    "    print('LLM generated prioritized list.')\n",
    "    # Update the 'reminder' field with the raw LLM output.\n",
    "    return {'reminder': response.content}\n",
    "\n",
    "\n",
    "# Define a node to format the LLM's output into a user-friendly message.\n",
    "def format_reminder_text(state: TodoState):\n",
    "    \"\"\"\n",
    "    Wraps the prioritized task list in a friendly reminder message.\n",
    "    \"\"\"\n",
    "    print('--- SUBGRAPH: FORMATTING REMINDER ---')\n",
    "    prioritized_tasks = state.get('reminder', 'No tasks were prioritized.')\n",
    "    formatted_reminder = f'Here is your prioritized reminder for today:\\n{prioritized_tasks}'\n",
    "    # Overwrite the 'reminder' field with the final formatted string.\n",
    "    return {'reminder': formatted_reminder}\n"
   ]
  },
  {
   "cell_type": "markdown",
   "id": "7fcf1d9a",
   "metadata": {},
   "source": [
    "## 5. Build Graphs\n",
    "Create the reminder subgraph and integrate it into the main application graph.\n",
    "### Building Subgraph"
   ]
  },
  {
   "cell_type": "code",
   "execution_count": 26,
   "id": "1f8a5235",
   "metadata": {},
   "outputs": [
    {
     "data": {
      "text/html": [
       "<pre style=\"white-space:pre;overflow-x:auto;line-height:normal;font-family:Menlo,'DejaVu Sans Mono',consolas,'Courier New',monospace\">   +-----------+     \n",
       "   | __start__ |     \n",
       "   +-----------+     \n",
       "          *          \n",
       "          *          \n",
       "          *          \n",
       "  +------------+     \n",
       "  | prioritize |     \n",
       "  +------------+     \n",
       "          *          \n",
       "          *          \n",
       "          *          \n",
       "+-----------------+  \n",
       "| format_reminder |  \n",
       "+-----------------+  \n",
       "          *          \n",
       "          *          \n",
       "          *          \n",
       "    +---------+      \n",
       "    | __end__ |      \n",
       "    +---------+      \n",
       "</pre>\n"
      ],
      "text/plain": [
       "   +-----------+     \n",
       "   | __start__ |     \n",
       "   +-----------+     \n",
       "          *          \n",
       "          *          \n",
       "          *          \n",
       "  +------------+     \n",
       "  | prioritize |     \n",
       "  +------------+     \n",
       "          *          \n",
       "          *          \n",
       "          *          \n",
       "+-----------------+  \n",
       "| format_reminder |  \n",
       "+-----------------+  \n",
       "          *          \n",
       "          *          \n",
       "          *          \n",
       "    +---------+      \n",
       "    | __end__ |      \n",
       "    +---------+      \n"
      ]
     },
     "metadata": {},
     "output_type": "display_data"
    }
   ],
   "source": [
    "\n",
    "# Create the state graph for the reminder-generation subgraph.\n",
    "reminder_subgraph = StateGraph(TodoState)\n",
    "# Add nodes for prioritizing tasks and formatting the output.\n",
    "reminder_subgraph.add_node('prioritize', prioritize_tasks_llm)\n",
    "reminder_subgraph.add_node('format_reminder', format_reminder_text)\n",
    "\n",
    "# Define the data flow within the subgraph.\n",
    "reminder_subgraph.add_edge(START, 'prioritize')\n",
    "reminder_subgraph.add_edge('prioritize', 'format_reminder')\n",
    "reminder_subgraph.add_edge('format_reminder', END)\n",
    "\n",
    "# Compile the subgraph into a runnable application.\n",
    "reminder_app = reminder_subgraph.compile()\n",
    "print(reminder_app.get_graph().draw_ascii())\n"
   ]
  },
  {
   "cell_type": "markdown",
   "id": "e2508b2e",
   "metadata": {},
   "source": [
    "### Building Main Graph"
   ]
  },
  {
   "cell_type": "code",
   "execution_count": 27,
   "id": "ec400438",
   "metadata": {},
   "outputs": [
    {
     "data": {
      "text/html": [
       "<pre style=\"white-space:pre;overflow-x:auto;line-height:normal;font-family:Menlo,'DejaVu Sans Mono',consolas,'Courier New',monospace\">    +-----------+      \n",
       "    | __start__ |      \n",
       "    +-----------+      \n",
       "          *            \n",
       "          *            \n",
       "          *            \n",
       "    +----------+       \n",
       "    | add_todo |       \n",
       "    +----------+       \n",
       "          *            \n",
       "          *            \n",
       "          *            \n",
       "+-------------------+  \n",
       "| reminder_subgraph |  \n",
       "+-------------------+  \n",
       "          *            \n",
       "          *            \n",
       "          *            \n",
       "  +---------------+    \n",
       "  | display_todos |    \n",
       "  +---------------+    \n",
       "          *            \n",
       "          *            \n",
       "          *            \n",
       "     +---------+       \n",
       "     | __end__ |       \n",
       "     +---------+       \n",
       "</pre>\n"
      ],
      "text/plain": [
       "    +-----------+      \n",
       "    | __start__ |      \n",
       "    +-----------+      \n",
       "          *            \n",
       "          *            \n",
       "          *            \n",
       "    +----------+       \n",
       "    | add_todo |       \n",
       "    +----------+       \n",
       "          *            \n",
       "          *            \n",
       "          *            \n",
       "+-------------------+  \n",
       "| reminder_subgraph |  \n",
       "+-------------------+  \n",
       "          *            \n",
       "          *            \n",
       "          *            \n",
       "  +---------------+    \n",
       "  | display_todos |    \n",
       "  +---------------+    \n",
       "          *            \n",
       "          *            \n",
       "          *            \n",
       "     +---------+       \n",
       "     | __end__ |       \n",
       "     +---------+       \n"
      ]
     },
     "metadata": {},
     "output_type": "display_data"
    }
   ],
   "source": [
    "\n",
    "# Create the main application graph.\n",
    "main_graph = StateGraph(TodoState)\n",
    "\n",
    "# Add nodes for the main workflow.\n",
    "main_graph.add_node('add_todo', add_todo)\n",
    "# Add the compiled subgraph as a single, callable node.\n",
    "main_graph.add_node('reminder_subgraph', reminder_app)\n",
    "main_graph.add_node('display_todos', display_final_state)\n",
    "\n",
    "# Define the data flow for the main graph.\n",
    "main_graph.add_edge(START, 'add_todo')\n",
    "main_graph.add_edge('add_todo', 'reminder_subgraph')\n",
    "main_graph.add_edge('reminder_subgraph', 'display_todos')\n",
    "main_graph.add_edge('display_todos', END)\n",
    "\n",
    "# Compile the complete main graph into the final application.\n",
    "app = main_graph.compile()\n",
    "print(app.get_graph().draw_ascii())"
   ]
  },
  {
   "cell_type": "markdown",
   "id": "afb1e148",
   "metadata": {},
   "source": [
    "## 6. Visualize Graph Structure\n",
    "Optionally render the LangGraph diagram (requires graphviz support)."
   ]
  },
  {
   "cell_type": "code",
   "execution_count": 25,
   "id": "e01bc04e",
   "metadata": {},
   "outputs": [
    {
     "data": {
      "text/html": [
       "<pre style=\"white-space:pre;overflow-x:auto;line-height:normal;font-family:Menlo,'DejaVu Sans Mono',consolas,'Courier New',monospace\">Subgraph structure:\n",
       "</pre>\n"
      ],
      "text/plain": [
       "Subgraph structure:\n"
      ]
     },
     "metadata": {},
     "output_type": "display_data"
    },
    {
     "ename": "ValueError",
     "evalue": "Failed to reach https://mermaid.ink/ API while trying to render your graph. Status code: 502.\n\nTo resolve this issue:\n1. Check your internet connection and try again\n2. Try with higher retry settings: `draw_mermaid_png(..., max_retries=5, retry_delay=2.0)`\n3. Use the Pyppeteer rendering method which will render your graph locally in a browser: `draw_mermaid_png(..., draw_method=MermaidDrawMethod.PYPPETEER)`",
     "output_type": "error",
     "traceback": [
      "\u001b[31m---------------------------------------------------------------------------\u001b[39m",
      "\u001b[31mValueError\u001b[39m                                Traceback (most recent call last)",
      "\u001b[36mCell\u001b[39m\u001b[36m \u001b[39m\u001b[32mIn[25]\u001b[39m\u001b[32m, line 6\u001b[39m\n\u001b[32m      2\u001b[39m \u001b[38;5;66;03m# Optional: Display a visualization of the graph's structure.\u001b[39;00m\n\u001b[32m      4\u001b[39m \u001b[38;5;28;01mfrom\u001b[39;00m\u001b[38;5;250m \u001b[39m\u001b[34;01mIPython\u001b[39;00m\u001b[34;01m.\u001b[39;00m\u001b[34;01mdisplay\u001b[39;00m\u001b[38;5;250m \u001b[39m\u001b[38;5;28;01mimport\u001b[39;00m Image, display\n\u001b[32m----> \u001b[39m\u001b[32m6\u001b[39m display(Image(\u001b[43mreminder_app\u001b[49m\u001b[43m.\u001b[49m\u001b[43mget_graph\u001b[49m\u001b[43m(\u001b[49m\u001b[43m)\u001b[49m\u001b[43m.\u001b[49m\u001b[43mdraw_mermaid_png\u001b[49m\u001b[43m(\u001b[49m\u001b[43m)\u001b[49m))\n\u001b[32m      7\u001b[39m \u001b[38;5;66;03m# print(reminder_app.get_graph().draw_ascii())\u001b[39;00m\n",
      "\u001b[36mFile \u001b[39m\u001b[32m~/miniconda3/envs/py312/lib/python3.12/site-packages/langchain_core/runnables/graph.py:695\u001b[39m, in \u001b[36mGraph.draw_mermaid_png\u001b[39m\u001b[34m(self, curve_style, node_colors, wrap_label_n_words, output_file_path, draw_method, background_color, padding, max_retries, retry_delay, frontmatter_config)\u001b[39m\n\u001b[32m    687\u001b[39m \u001b[38;5;28;01mfrom\u001b[39;00m\u001b[38;5;250m \u001b[39m\u001b[34;01mlangchain_core\u001b[39;00m\u001b[34;01m.\u001b[39;00m\u001b[34;01mrunnables\u001b[39;00m\u001b[34;01m.\u001b[39;00m\u001b[34;01mgraph_mermaid\u001b[39;00m\u001b[38;5;250m \u001b[39m\u001b[38;5;28;01mimport\u001b[39;00m draw_mermaid_png\n\u001b[32m    689\u001b[39m mermaid_syntax = \u001b[38;5;28mself\u001b[39m.draw_mermaid(\n\u001b[32m    690\u001b[39m     curve_style=curve_style,\n\u001b[32m    691\u001b[39m     node_colors=node_colors,\n\u001b[32m    692\u001b[39m     wrap_label_n_words=wrap_label_n_words,\n\u001b[32m    693\u001b[39m     frontmatter_config=frontmatter_config,\n\u001b[32m    694\u001b[39m )\n\u001b[32m--> \u001b[39m\u001b[32m695\u001b[39m \u001b[38;5;28;01mreturn\u001b[39;00m \u001b[43mdraw_mermaid_png\u001b[49m\u001b[43m(\u001b[49m\n\u001b[32m    696\u001b[39m \u001b[43m    \u001b[49m\u001b[43mmermaid_syntax\u001b[49m\u001b[43m=\u001b[49m\u001b[43mmermaid_syntax\u001b[49m\u001b[43m,\u001b[49m\n\u001b[32m    697\u001b[39m \u001b[43m    \u001b[49m\u001b[43moutput_file_path\u001b[49m\u001b[43m=\u001b[49m\u001b[43moutput_file_path\u001b[49m\u001b[43m,\u001b[49m\n\u001b[32m    698\u001b[39m \u001b[43m    \u001b[49m\u001b[43mdraw_method\u001b[49m\u001b[43m=\u001b[49m\u001b[43mdraw_method\u001b[49m\u001b[43m,\u001b[49m\n\u001b[32m    699\u001b[39m \u001b[43m    \u001b[49m\u001b[43mbackground_color\u001b[49m\u001b[43m=\u001b[49m\u001b[43mbackground_color\u001b[49m\u001b[43m,\u001b[49m\n\u001b[32m    700\u001b[39m \u001b[43m    \u001b[49m\u001b[43mpadding\u001b[49m\u001b[43m=\u001b[49m\u001b[43mpadding\u001b[49m\u001b[43m,\u001b[49m\n\u001b[32m    701\u001b[39m \u001b[43m    \u001b[49m\u001b[43mmax_retries\u001b[49m\u001b[43m=\u001b[49m\u001b[43mmax_retries\u001b[49m\u001b[43m,\u001b[49m\n\u001b[32m    702\u001b[39m \u001b[43m    \u001b[49m\u001b[43mretry_delay\u001b[49m\u001b[43m=\u001b[49m\u001b[43mretry_delay\u001b[49m\u001b[43m,\u001b[49m\n\u001b[32m    703\u001b[39m \u001b[43m\u001b[49m\u001b[43m)\u001b[49m\n",
      "\u001b[36mFile \u001b[39m\u001b[32m~/miniconda3/envs/py312/lib/python3.12/site-packages/langchain_core/runnables/graph_mermaid.py:294\u001b[39m, in \u001b[36mdraw_mermaid_png\u001b[39m\u001b[34m(mermaid_syntax, output_file_path, draw_method, background_color, padding, max_retries, retry_delay)\u001b[39m\n\u001b[32m    288\u001b[39m     img_bytes = asyncio.run(\n\u001b[32m    289\u001b[39m         _render_mermaid_using_pyppeteer(\n\u001b[32m    290\u001b[39m             mermaid_syntax, output_file_path, background_color, padding\n\u001b[32m    291\u001b[39m         )\n\u001b[32m    292\u001b[39m     )\n\u001b[32m    293\u001b[39m \u001b[38;5;28;01melif\u001b[39;00m draw_method == MermaidDrawMethod.API:\n\u001b[32m--> \u001b[39m\u001b[32m294\u001b[39m     img_bytes = \u001b[43m_render_mermaid_using_api\u001b[49m\u001b[43m(\u001b[49m\n\u001b[32m    295\u001b[39m \u001b[43m        \u001b[49m\u001b[43mmermaid_syntax\u001b[49m\u001b[43m,\u001b[49m\n\u001b[32m    296\u001b[39m \u001b[43m        \u001b[49m\u001b[43moutput_file_path\u001b[49m\u001b[43m=\u001b[49m\u001b[43moutput_file_path\u001b[49m\u001b[43m,\u001b[49m\n\u001b[32m    297\u001b[39m \u001b[43m        \u001b[49m\u001b[43mbackground_color\u001b[49m\u001b[43m=\u001b[49m\u001b[43mbackground_color\u001b[49m\u001b[43m,\u001b[49m\n\u001b[32m    298\u001b[39m \u001b[43m        \u001b[49m\u001b[43mmax_retries\u001b[49m\u001b[43m=\u001b[49m\u001b[43mmax_retries\u001b[49m\u001b[43m,\u001b[49m\n\u001b[32m    299\u001b[39m \u001b[43m        \u001b[49m\u001b[43mretry_delay\u001b[49m\u001b[43m=\u001b[49m\u001b[43mretry_delay\u001b[49m\u001b[43m,\u001b[49m\n\u001b[32m    300\u001b[39m \u001b[43m    \u001b[49m\u001b[43m)\u001b[49m\n\u001b[32m    301\u001b[39m \u001b[38;5;28;01melse\u001b[39;00m:\n\u001b[32m    302\u001b[39m     supported_methods = \u001b[33m\"\u001b[39m\u001b[33m, \u001b[39m\u001b[33m\"\u001b[39m.join([m.value \u001b[38;5;28;01mfor\u001b[39;00m m \u001b[38;5;129;01min\u001b[39;00m MermaidDrawMethod])\n",
      "\u001b[36mFile \u001b[39m\u001b[32m~/miniconda3/envs/py312/lib/python3.12/site-packages/langchain_core/runnables/graph_mermaid.py:451\u001b[39m, in \u001b[36m_render_mermaid_using_api\u001b[39m\u001b[34m(mermaid_syntax, output_file_path, background_color, file_type, max_retries, retry_delay)\u001b[39m\n\u001b[32m    446\u001b[39m     \u001b[38;5;66;03m# For other status codes, fail immediately\u001b[39;00m\n\u001b[32m    447\u001b[39m     msg = (\n\u001b[32m    448\u001b[39m         \u001b[33m\"\u001b[39m\u001b[33mFailed to reach https://mermaid.ink/ API while trying to render \u001b[39m\u001b[33m\"\u001b[39m\n\u001b[32m    449\u001b[39m         \u001b[33mf\u001b[39m\u001b[33m\"\u001b[39m\u001b[33myour graph. Status code: \u001b[39m\u001b[38;5;132;01m{\u001b[39;00mresponse.status_code\u001b[38;5;132;01m}\u001b[39;00m\u001b[33m.\u001b[39m\u001b[38;5;130;01m\\n\u001b[39;00m\u001b[38;5;130;01m\\n\u001b[39;00m\u001b[33m\"\u001b[39m\n\u001b[32m    450\u001b[39m     ) + error_msg_suffix\n\u001b[32m--> \u001b[39m\u001b[32m451\u001b[39m     \u001b[38;5;28;01mraise\u001b[39;00m \u001b[38;5;167;01mValueError\u001b[39;00m(msg)\n\u001b[32m    453\u001b[39m \u001b[38;5;28;01mexcept\u001b[39;00m (requests.RequestException, requests.Timeout) \u001b[38;5;28;01mas\u001b[39;00m e:\n\u001b[32m    454\u001b[39m     \u001b[38;5;28;01mif\u001b[39;00m attempt < max_retries:\n\u001b[32m    455\u001b[39m         \u001b[38;5;66;03m# Exponential backoff with jitter\u001b[39;00m\n",
      "\u001b[31mValueError\u001b[39m: Failed to reach https://mermaid.ink/ API while trying to render your graph. Status code: 502.\n\nTo resolve this issue:\n1. Check your internet connection and try again\n2. Try with higher retry settings: `draw_mermaid_png(..., max_retries=5, retry_delay=2.0)`\n3. Use the Pyppeteer rendering method which will render your graph locally in a browser: `draw_mermaid_png(..., draw_method=MermaidDrawMethod.PYPPETEER)`"
     ]
    }
   ],
   "source": [
    "\n",
    "\n"
   ]
  },
  {
   "cell_type": "markdown",
   "id": "734f27b7",
   "metadata": {},
   "source": [
    "## 7. Run the Application\n",
    "Simulate consecutive invocations of the graph to add tasks and generate a reminder."
   ]
  },
  {
   "cell_type": "code",
   "execution_count": 24,
   "id": "7f06bb76",
   "metadata": {},
   "outputs": [
    {
     "data": {
      "text/html": [
       "<pre style=\"white-space:pre;overflow-x:auto;line-height:normal;font-family:Menlo,'DejaVu Sans Mono',consolas,'Courier New',monospace\">--- ADDING TODO ---\n",
       "</pre>\n"
      ],
      "text/plain": [
       "--- ADDING TODO ---\n"
      ]
     },
     "metadata": {},
     "output_type": "display_data"
    },
    {
     "data": {
      "text/html": [
       "<pre style=\"white-space:pre;overflow-x:auto;line-height:normal;font-family:Menlo,'DejaVu Sans Mono',consolas,'Courier New',monospace\">Adding task: Finish LangGraph tutorial video\n",
       "</pre>\n"
      ],
      "text/plain": [
       "Adding task: Finish LangGraph tutorial video\n"
      ]
     },
     "metadata": {},
     "output_type": "display_data"
    },
    {
     "data": {
      "text/html": [
       "<pre style=\"white-space:pre;overflow-x:auto;line-height:normal;font-family:Menlo,'DejaVu Sans Mono',consolas,'Courier New',monospace\">\n",
       "--- SUBGRAPH: PRIORITIZING TASKS ---\n",
       "</pre>\n"
      ],
      "text/plain": [
       "\n",
       "--- SUBGRAPH: PRIORITIZING TASKS ---\n"
      ]
     },
     "metadata": {},
     "output_type": "display_data"
    },
    {
     "data": {
      "text/html": [
       "<pre style=\"white-space:pre;overflow-x:auto;line-height:normal;font-family:Menlo,'DejaVu Sans Mono',consolas,'Courier New',monospace\">LLM generated prioritized list.\n",
       "</pre>\n"
      ],
      "text/plain": [
       "LLM generated prioritized list.\n"
      ]
     },
     "metadata": {},
     "output_type": "display_data"
    },
    {
     "data": {
      "text/html": [
       "<pre style=\"white-space:pre;overflow-x:auto;line-height:normal;font-family:Menlo,'DejaVu Sans Mono',consolas,'Courier New',monospace\">--- SUBGRAPH: FORMATTING REMINDER ---\n",
       "</pre>\n"
      ],
      "text/plain": [
       "--- SUBGRAPH: FORMATTING REMINDER ---\n"
      ]
     },
     "metadata": {},
     "output_type": "display_data"
    },
    {
     "data": {
      "text/html": [
       "<pre style=\"white-space:pre;overflow-x:auto;line-height:normal;font-family:Menlo,'DejaVu Sans Mono',consolas,'Courier New',monospace\">\n",
       "--- FINAL TO-DO LIST &amp; REMINDER ---\n",
       "</pre>\n"
      ],
      "text/plain": [
       "\n",
       "--- FINAL TO-DO LIST & REMINDER ---\n"
      ]
     },
     "metadata": {},
     "output_type": "display_data"
    },
    {
     "data": {
      "text/html": [
       "<pre style=\"white-space:pre;overflow-x:auto;line-height:normal;font-family:Menlo,'DejaVu Sans Mono',consolas,'Courier New',monospace\">Tasks: <span style=\"font-weight: bold\">[</span><span style=\"color: #008000; text-decoration-color: #008000\">'Finish LangGraph tutorial video'</span>, <span style=\"color: #008000; text-decoration-color: #008000\">'Finish LangGraph tutorial video'</span><span style=\"font-weight: bold\">]</span>\n",
       "</pre>\n"
      ],
      "text/plain": [
       "Tasks: \u001b[1m[\u001b[0m\u001b[32m'Finish LangGraph tutorial video'\u001b[0m, \u001b[32m'Finish LangGraph tutorial video'\u001b[0m\u001b[1m]\u001b[0m\n"
      ]
     },
     "metadata": {},
     "output_type": "display_data"
    },
    {
     "data": {
      "text/html": [
       "<pre style=\"white-space:pre;overflow-x:auto;line-height:normal;font-family:Menlo,'DejaVu Sans Mono',consolas,'Courier New',monospace\">Reminder: Here is your prioritized reminder for today:\n",
       "Based on general productivity principles, I would recommend prioritizing this task at the top of your list. Here is\n",
       "the revised list with the most important task first:\n",
       "\n",
       "<span style=\"color: #008080; text-decoration-color: #008080; font-weight: bold\">1</span>. Finish LangGraph tutorial video\n",
       "<span style=\"color: #008080; text-decoration-color: #008080; font-weight: bold\">2</span>. <span style=\"font-weight: bold\">[</span>Insert other tasks here<span style=\"font-weight: bold\">]</span>\n",
       "\n",
       "Please note that without more context about the specific tasks, I couldn't provide a complete revised list for you.\n",
       "If you'd like to add more tasks, feel free to share them, and I can help prioritize them accordingly!\n",
       "</pre>\n"
      ],
      "text/plain": [
       "Reminder: Here is your prioritized reminder for today:\n",
       "Based on general productivity principles, I would recommend prioritizing this task at the top of your list. Here is\n",
       "the revised list with the most important task first:\n",
       "\n",
       "\u001b[1;36m1\u001b[0m. Finish LangGraph tutorial video\n",
       "\u001b[1;36m2\u001b[0m. \u001b[1m[\u001b[0mInsert other tasks here\u001b[1m]\u001b[0m\n",
       "\n",
       "Please note that without more context about the specific tasks, I couldn't provide a complete revised list for you.\n",
       "If you'd like to add more tasks, feel free to share them, and I can help prioritize them accordingly!\n"
      ]
     },
     "metadata": {},
     "output_type": "display_data"
    },
    {
     "data": {
      "text/html": [
       "<pre style=\"white-space:pre;overflow-x:auto;line-height:normal;font-family:Menlo,'DejaVu Sans Mono',consolas,'Courier New',monospace\">------------------------------------\n",
       "</pre>\n"
      ],
      "text/plain": [
       "------------------------------------\n"
      ]
     },
     "metadata": {},
     "output_type": "display_data"
    },
    {
     "data": {
      "text/html": [
       "<pre style=\"white-space:pre;overflow-x:auto;line-height:normal;font-family:Menlo,'DejaVu Sans Mono',consolas,'Courier New',monospace\">--- ADDING TODO ---\n",
       "</pre>\n"
      ],
      "text/plain": [
       "--- ADDING TODO ---\n"
      ]
     },
     "metadata": {},
     "output_type": "display_data"
    },
    {
     "data": {
      "text/html": [
       "<pre style=\"white-space:pre;overflow-x:auto;line-height:normal;font-family:Menlo,'DejaVu Sans Mono',consolas,'Courier New',monospace\">Adding task: Buy groceries\n",
       "</pre>\n"
      ],
      "text/plain": [
       "Adding task: Buy groceries\n"
      ]
     },
     "metadata": {},
     "output_type": "display_data"
    },
    {
     "data": {
      "text/html": [
       "<pre style=\"white-space:pre;overflow-x:auto;line-height:normal;font-family:Menlo,'DejaVu Sans Mono',consolas,'Courier New',monospace\">\n",
       "--- SUBGRAPH: PRIORITIZING TASKS ---\n",
       "</pre>\n"
      ],
      "text/plain": [
       "\n",
       "--- SUBGRAPH: PRIORITIZING TASKS ---\n"
      ]
     },
     "metadata": {},
     "output_type": "display_data"
    },
    {
     "data": {
      "text/html": [
       "<pre style=\"white-space:pre;overflow-x:auto;line-height:normal;font-family:Menlo,'DejaVu Sans Mono',consolas,'Courier New',monospace\">LLM generated prioritized list.\n",
       "</pre>\n"
      ],
      "text/plain": [
       "LLM generated prioritized list.\n"
      ]
     },
     "metadata": {},
     "output_type": "display_data"
    },
    {
     "data": {
      "text/html": [
       "<pre style=\"white-space:pre;overflow-x:auto;line-height:normal;font-family:Menlo,'DejaVu Sans Mono',consolas,'Courier New',monospace\">--- SUBGRAPH: FORMATTING REMINDER ---\n",
       "</pre>\n"
      ],
      "text/plain": [
       "--- SUBGRAPH: FORMATTING REMINDER ---\n"
      ]
     },
     "metadata": {},
     "output_type": "display_data"
    },
    {
     "data": {
      "text/html": [
       "<pre style=\"white-space:pre;overflow-x:auto;line-height:normal;font-family:Menlo,'DejaVu Sans Mono',consolas,'Courier New',monospace\">\n",
       "--- FINAL TO-DO LIST &amp; REMINDER ---\n",
       "</pre>\n"
      ],
      "text/plain": [
       "\n",
       "--- FINAL TO-DO LIST & REMINDER ---\n"
      ]
     },
     "metadata": {},
     "output_type": "display_data"
    },
    {
     "data": {
      "text/html": [
       "<pre style=\"white-space:pre;overflow-x:auto;line-height:normal;font-family:Menlo,'DejaVu Sans Mono',consolas,'Courier New',monospace\">Tasks: <span style=\"font-weight: bold\">[</span><span style=\"color: #008000; text-decoration-color: #008000\">'Buy groceries'</span>, <span style=\"color: #008000; text-decoration-color: #008000\">'Buy groceries'</span><span style=\"font-weight: bold\">]</span>\n",
       "</pre>\n"
      ],
      "text/plain": [
       "Tasks: \u001b[1m[\u001b[0m\u001b[32m'Buy groceries'\u001b[0m, \u001b[32m'Buy groceries'\u001b[0m\u001b[1m]\u001b[0m\n"
      ]
     },
     "metadata": {},
     "output_type": "display_data"
    },
    {
     "data": {
      "text/html": [
       "<pre style=\"white-space:pre;overflow-x:auto;line-height:normal;font-family:Menlo,'DejaVu Sans Mono',consolas,'Courier New',monospace\">Reminder: Here is your prioritized reminder for today:\n",
       "Here is the prioritized list of tasks:\n",
       "\n",
       "<span style=\"color: #008080; text-decoration-color: #008080; font-weight: bold\">1</span>. Buy groceries <span style=\"font-weight: bold\">(</span>high priority, essential for daily needs<span style=\"font-weight: bold\">)</span>\n",
       "<span style=\"color: #008080; text-decoration-color: #008080; font-weight: bold\">2</span>. <span style=\"font-weight: bold\">[</span>No other specific tasks provided<span style=\"font-weight: bold\">]</span>\n",
       "</pre>\n"
      ],
      "text/plain": [
       "Reminder: Here is your prioritized reminder for today:\n",
       "Here is the prioritized list of tasks:\n",
       "\n",
       "\u001b[1;36m1\u001b[0m. Buy groceries \u001b[1m(\u001b[0mhigh priority, essential for daily needs\u001b[1m)\u001b[0m\n",
       "\u001b[1;36m2\u001b[0m. \u001b[1m[\u001b[0mNo other specific tasks provided\u001b[1m]\u001b[0m\n"
      ]
     },
     "metadata": {},
     "output_type": "display_data"
    },
    {
     "data": {
      "text/html": [
       "<pre style=\"white-space:pre;overflow-x:auto;line-height:normal;font-family:Menlo,'DejaVu Sans Mono',consolas,'Courier New',monospace\">------------------------------------\n",
       "</pre>\n"
      ],
      "text/plain": [
       "------------------------------------\n"
      ]
     },
     "metadata": {},
     "output_type": "display_data"
    },
    {
     "data": {
      "text/html": [
       "<pre style=\"white-space:pre;overflow-x:auto;line-height:normal;font-family:Menlo,'DejaVu Sans Mono',consolas,'Courier New',monospace\">--- ADDING TODO ---\n",
       "</pre>\n"
      ],
      "text/plain": [
       "--- ADDING TODO ---\n"
      ]
     },
     "metadata": {},
     "output_type": "display_data"
    },
    {
     "data": {
      "text/html": [
       "<pre style=\"white-space:pre;overflow-x:auto;line-height:normal;font-family:Menlo,'DejaVu Sans Mono',consolas,'Courier New',monospace\">Adding task: Schedule dentist appointment\n",
       "</pre>\n"
      ],
      "text/plain": [
       "Adding task: Schedule dentist appointment\n"
      ]
     },
     "metadata": {},
     "output_type": "display_data"
    },
    {
     "data": {
      "text/html": [
       "<pre style=\"white-space:pre;overflow-x:auto;line-height:normal;font-family:Menlo,'DejaVu Sans Mono',consolas,'Courier New',monospace\">\n",
       "--- SUBGRAPH: PRIORITIZING TASKS ---\n",
       "</pre>\n"
      ],
      "text/plain": [
       "\n",
       "--- SUBGRAPH: PRIORITIZING TASKS ---\n"
      ]
     },
     "metadata": {},
     "output_type": "display_data"
    },
    {
     "data": {
      "text/html": [
       "<pre style=\"white-space:pre;overflow-x:auto;line-height:normal;font-family:Menlo,'DejaVu Sans Mono',consolas,'Courier New',monospace\">LLM generated prioritized list.\n",
       "</pre>\n"
      ],
      "text/plain": [
       "LLM generated prioritized list.\n"
      ]
     },
     "metadata": {},
     "output_type": "display_data"
    },
    {
     "data": {
      "text/html": [
       "<pre style=\"white-space:pre;overflow-x:auto;line-height:normal;font-family:Menlo,'DejaVu Sans Mono',consolas,'Courier New',monospace\">--- SUBGRAPH: FORMATTING REMINDER ---\n",
       "</pre>\n"
      ],
      "text/plain": [
       "--- SUBGRAPH: FORMATTING REMINDER ---\n"
      ]
     },
     "metadata": {},
     "output_type": "display_data"
    },
    {
     "data": {
      "text/html": [
       "<pre style=\"white-space:pre;overflow-x:auto;line-height:normal;font-family:Menlo,'DejaVu Sans Mono',consolas,'Courier New',monospace\">\n",
       "--- FINAL TO-DO LIST &amp; REMINDER ---\n",
       "</pre>\n"
      ],
      "text/plain": [
       "\n",
       "--- FINAL TO-DO LIST & REMINDER ---\n"
      ]
     },
     "metadata": {},
     "output_type": "display_data"
    },
    {
     "data": {
      "text/html": [
       "<pre style=\"white-space:pre;overflow-x:auto;line-height:normal;font-family:Menlo,'DejaVu Sans Mono',consolas,'Courier New',monospace\">Tasks: <span style=\"font-weight: bold\">[</span><span style=\"color: #008000; text-decoration-color: #008000\">'Schedule dentist appointment'</span>, <span style=\"color: #008000; text-decoration-color: #008000\">'Schedule dentist appointment'</span><span style=\"font-weight: bold\">]</span>\n",
       "</pre>\n"
      ],
      "text/plain": [
       "Tasks: \u001b[1m[\u001b[0m\u001b[32m'Schedule dentist appointment'\u001b[0m, \u001b[32m'Schedule dentist appointment'\u001b[0m\u001b[1m]\u001b[0m\n"
      ]
     },
     "metadata": {},
     "output_type": "display_data"
    },
    {
     "data": {
      "text/html": [
       "<pre style=\"white-space:pre;overflow-x:auto;line-height:normal;font-family:Menlo,'DejaVu Sans Mono',consolas,'Courier New',monospace\">Reminder: Here is your prioritized reminder for today:\n",
       "Here's the prioritized list of tasks:\n",
       "\n",
       "<span style=\"color: #008080; text-decoration-color: #008080; font-weight: bold\">1</span>. **Schedule dentist appointment**\n",
       "<span style=\"color: #008080; text-decoration-color: #008080; font-weight: bold\">2</span>. \n",
       "<span style=\"color: #008080; text-decoration-color: #008080; font-weight: bold\">3</span>. <span style=\"font-weight: bold\">(</span>Note: There is no other information provided about the remaining tasks. If you provide more context or details,\n",
       "I can help prioritize them as well.<span style=\"font-weight: bold\">)</span>\n",
       "</pre>\n"
      ],
      "text/plain": [
       "Reminder: Here is your prioritized reminder for today:\n",
       "Here's the prioritized list of tasks:\n",
       "\n",
       "\u001b[1;36m1\u001b[0m. **Schedule dentist appointment**\n",
       "\u001b[1;36m2\u001b[0m. \n",
       "\u001b[1;36m3\u001b[0m. \u001b[1m(\u001b[0mNote: There is no other information provided about the remaining tasks. If you provide more context or details,\n",
       "I can help prioritize them as well.\u001b[1m)\u001b[0m\n"
      ]
     },
     "metadata": {},
     "output_type": "display_data"
    },
    {
     "data": {
      "text/html": [
       "<pre style=\"white-space:pre;overflow-x:auto;line-height:normal;font-family:Menlo,'DejaVu Sans Mono',consolas,'Courier New',monospace\">------------------------------------\n",
       "</pre>\n"
      ],
      "text/plain": [
       "------------------------------------\n"
      ]
     },
     "metadata": {},
     "output_type": "display_data"
    }
   ],
   "source": [
    "# Initialize an empty state for the first run.\n",
    "current_state = {'todos': [], 'reminder': ''}\n",
    "\n",
    "# Execute the graph sequentially to add multiple tasks and update the state.\n",
    "# First invocation adds 'Finish LangGraph tutorial video'.\n",
    "inputs1 = {'new_todo': 'Finish LangGraph tutorial video'}\n",
    "current_state = app.invoke(\n",
    "    inputs1, config={'recursion_limit': 100}, state=current_state\n",
    ")  # Pass previous state to accumulate tasks.\n",
    "\n",
    "# Second invocation adds 'Buy groceries'.\n",
    "inputs2 = {'new_todo': 'Buy groceries'}\n",
    "current_state = app.invoke(inputs2, config={'recursion_limit': 100}, state=current_state)  # Pass previous state.\n",
    "\n",
    "# Third invocation adds 'Schedule dentist appointment' and gets the final result.\n",
    "inputs3 = {'new_todo': 'Schedule dentist appointment'}\n",
    "final_state = app.invoke(inputs3, config={'recursion_limit': 100}, state=current_state)  # Pass previous state."
   ]
  },
  {
   "cell_type": "code",
   "execution_count": null,
   "id": "be3ccc29",
   "metadata": {},
   "outputs": [],
   "source": []
  }
 ],
 "metadata": {
  "kernelspec": {
   "display_name": "py312",
   "language": "python",
   "name": "python3"
  },
  "language_info": {
   "codemirror_mode": {
    "name": "ipython",
    "version": 3
   },
   "file_extension": ".py",
   "mimetype": "text/x-python",
   "name": "python",
   "nbconvert_exporter": "python",
   "pygments_lexer": "ipython3",
   "version": "3.12.11"
  }
 },
 "nbformat": 4,
 "nbformat_minor": 5
}
