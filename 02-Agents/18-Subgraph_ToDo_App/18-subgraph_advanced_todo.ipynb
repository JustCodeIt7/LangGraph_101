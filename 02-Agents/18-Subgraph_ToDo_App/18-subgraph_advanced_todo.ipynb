{
 "cells": [
  {
   "cell_type": "markdown",
   "metadata": {},
   "source": [
    "# Subgraph for Task Analysis and Prioritization\n",
    "This subgraph analyzes and prioritizes tasks using a language model (LLM). It classifies tasks into simple and complex categories, breaks down complex tasks into sub-tasks, and generates reminders for each task."
   ]
  },
  {
   "cell_type": "markdown",
   "id": "1c977eda",
   "metadata": {},
   "source": [
    "## Imports\n",
    "\n",
    "- Load LangGraph, LangChain, and helper utilities needed to wire the todo workflow.\n",
    "- Prepare support types and console helpers used throughout the notebook."
   ]
  },
  {
   "cell_type": "code",
   "execution_count": 24,
   "id": "f0b59719-15aa-47fe-8b42-207af2ae7031",
   "metadata": {},
   "outputs": [],
   "source": [
    "import operator\n",
    "import os\n",
    "from typing import Annotated, List, TypedDict\n",
    "\n",
    "from dotenv import load_dotenv\n",
    "from langchain_core.messages import HumanMessage, SystemMessage\n",
    "from langchain_ollama import ChatOllama\n",
    "from langgraph.graph import END, START, StateGraph\n",
    "from rich import print\n",
    "import os"
   ]
  },
  {
   "cell_type": "markdown",
   "id": "493c4d20",
   "metadata": {},
   "source": [
    "## Configuration & Setup\n",
    "\n",
    "- Load environment variables with `python-dotenv` so local secrets are available.\n",
    "- Configure the Ollama LLM instance that powers every graph node."
   ]
  },
  {
   "cell_type": "code",
   "execution_count": 25,
   "id": "805fa7a0-998d-4bd3-a36f-4b55024271e1",
   "metadata": {},
   "outputs": [],
   "source": [
    "################################ Configuration & Setup ################################\n",
    "\n",
    "load_dotenv()\n",
    "\n",
    "# Set up the LLM, assuming Ollama is running locally.\n",
    "# Update the model name to your preferred model (e.g., llama3.2, gemma2).\n",
    "llm = ChatOllama(model='gemma3',base_url=os.getenv(\"OLLAMA_BASE_URL\"), temperature=0.0)  # Initialize the language model."
   ]
  },
  {
   "cell_type": "markdown",
   "id": "c2120c59",
   "metadata": {},
   "source": [
    "## Application State Definition\n",
    "\n",
    "- Define the shared `TodoState` schema that travels between nodes.\n",
    "- Accumulate todos and routing flags so each step has the latest context."
   ]
  },
  {
   "cell_type": "code",
   "execution_count": 26,
   "id": "eb3fd697-aa56-41ea-9fff-8452e8c872e3",
   "metadata": {},
   "outputs": [],
   "source": [
    "################################ Application State Definition ################################\n",
    "\n",
    "# Define the state object that will be passed between nodes in the graph.\n",
    "class TodoState(TypedDict):\n",
    "    \"\"\"Represents the application's state.\"\"\"\n",
    "    todos: Annotated[List[str], operator.add] # Accumulate items into the list across graph runs\n",
    "    reminder: str\n",
    "    new_todo: str\n",
    "    is_complex: bool # Flag for conditional routing in the enrichment subgraph"
   ]
  },
  {
   "cell_type": "markdown",
   "id": "e5eac859",
   "metadata": {},
   "source": [
    "## Enrichment Subgraph Nodes\n",
    "\n",
    "- Let the LLM analyze each incoming task to flag complex work.\n",
    "- Break complex tasks into bullet lists or pass simple tasks straight through.\n",
    "- Emit routing info so the graph knows which node should run next."
   ]
  },
  {
   "cell_type": "code",
   "execution_count": 27,
   "id": "ae138e7c-6357-4687-ba57-88a5b6cff10a",
   "metadata": {},
   "outputs": [],
   "source": [
    "################################ Enrichment Subgraph Nodes ################################\n",
    "\n",
    "def analyze_task_complexity(state: TodoState):\n",
    "    \"\"\"Analyzes if a task is simple or complex using an LLM.\"\"\"\n",
    "    print(\"--- SUBGRAPH 1: ANALYZING TASK ---\")\n",
    "    task = state[\"new_todo\"]\n",
    "\n",
    "    # Define the prompt to instruct the LLM to classify the task.\n",
    "    prompt = [\n",
    "        SystemMessage(\n",
    "            \"You are a task analyzer. Classify the task as 'SIMPLE' or 'COMPLEX'. \"\n",
    "            \"A complex task requires multiple steps. A simple task is a single action.\"\n",
    "        ),\n",
    "        HumanMessage(f\"Task: '{task}'\"),\n",
    "    ]\n",
    "    response = llm.invoke(prompt)\n",
    "\n",
    "    # Check the LLM's response to set the complexity flag.\n",
    "    complexity = \"COMPLEX\" in response.content.upper()\n",
    "    print(f\"Task '{task}' is {'COMPLEX' if complexity else 'SIMPLE'}.\")\n",
    "    return {\"is_complex\": complexity}\n",
    "\n",
    "\n",
    "def breakdown_complex_task(state: TodoState):\n",
    "    \"\"\"Breaks down a complex task into sub-tasks using an LLM.\"\"\"\n",
    "    print(\"--- SUBGRAPH 1: BREAKING DOWN TASK ---\")\n",
    "    task = state[\"new_todo\"]\n",
    "\n",
    "    # Define the prompt to instruct the LLM to act as a project manager.\n",
    "    prompt = [\n",
    "        SystemMessage(\n",
    "            \"You are a project manager. Break down the complex task into a main task with 2-3 sub-tasks.\"\n",
    "        ),\n",
    "        HumanMessage(f\"Task: '{task}'\"),\n",
    "    ]\n",
    "    response = llm.invoke(prompt)\n",
    "\n",
    "    # Add the entire formatted response as a single new todo item.\n",
    "    return {\"todos\": [response.content]}\n",
    "\n",
    "\n",
    "def pass_through_simple_task(state: TodoState):\n",
    "    \"\"\"Passes a simple task directly to the todo list without modification.\"\"\"\n",
    "    print(\"--- SUBGRAPH 1: ADDING SIMPLE TASK ---\")\n",
    "    return {\"todos\": [state[\"new_todo\"]]}\n",
    "\n",
    "\n",
    "def route_on_complexity(state: TodoState):\n",
    "    \"\"\"Determines the next node based on the task's complexity flag.\"\"\"\n",
    "    return \"breakdown\" if state[\"is_complex\"] else \"simple\""
   ]
  },
  {
   "cell_type": "markdown",
   "id": "d9f14c14",
   "metadata": {},
   "source": [
    "## Reminder Subgraph Node\n",
    "\n",
    "- Ask the LLM to prioritize the todo list into a reminder message.\n",
    "- Skip the call entirely when there are no tasks to avoid wasted tokens."
   ]
  },
  {
   "cell_type": "code",
   "execution_count": 28,
   "id": "76b6ccc3-7c47-4f2d-8622-5938f3a9358f",
   "metadata": {},
   "outputs": [],
   "source": [
    "################################ Reminder Subgraph Node ################################\n",
    "\n",
    "def prioritize_tasks_llm(state: TodoState):\n",
    "    \"\"\"Generates a prioritized list of all current tasks using an LLM.\"\"\"\n",
    "    print(\"\\n--- SUBGRAPH 2: PRIORITIZING TASKS ---\")\n",
    "\n",
    "    # Avoid calling the LLM if there are no tasks to prioritize.\n",
    "    if not state[\"todos\"]:\n",
    "        return {\"reminder\": \"No tasks to prioritize.\"}\n",
    "\n",
    "    task_list_str = \"\\n\".join(f\"- {task}\" for task in state[\"todos\"])\n",
    "\n",
    "    # Define the prompt to instruct the LLM to prioritize the task list.\n",
    "    prompt = [\n",
    "        SystemMessage(\n",
    "            \"You are a helpful assistant. Prioritize the following tasks.\"\n",
    "        ),\n",
    "        HumanMessage(f\"Tasks:\\n{task_list_str}\"),\n",
    "    ]\n",
    "    response = llm.invoke(prompt)\n",
    "    return {\"reminder\": response.content}"
   ]
  },
  {
   "cell_type": "markdown",
   "id": "50bd28a9",
   "metadata": {},
   "source": [
    "## Final Output Node\n",
    "\n",
    "- Pretty-print the aggregated todos and reminder for quick review.\n",
    "- Leave the state unchanged so downstream steps stay in sync."
   ]
  },
  {
   "cell_type": "code",
   "execution_count": 29,
   "id": "e2b66ce4-495e-4448-9955-24b414c282d8",
   "metadata": {},
   "outputs": [],
   "source": [
    "################################ Final Output Node ################################\n",
    "\n",
    "def display_final_state(state: TodoState):\n",
    "    \"\"\"Displays the final list of tasks and the generated reminder in the console.\"\"\"\n",
    "    print(\"\\n--- FINAL TO-DO LIST & REMINDER ---\")\n",
    "    print(\"Tasks:\")\n",
    "    # Iterate through the accumulated tasks and display them.\n",
    "    for i, task in enumerate(state[\"todos\"]):\n",
    "        print(f\"{i+1}. {task.strip()}\")\n",
    "    print(f\"\\nReminder:\\n{state['reminder']}\")\n",
    "    print(\"------------------------------------\")\n",
    "    return {}"
   ]
  },
  {
   "cell_type": "markdown",
   "id": "ebb7dee5",
   "metadata": {},
   "source": [
    "## Enrichment Subgraph Construction\n",
    "\n",
    "- Register enrichment nodes, edges, and conditional routing on a `StateGraph`.\n",
    "- Compile the subgraph for reuse inside the main application graph."
   ]
  },
  {
   "cell_type": "code",
   "execution_count": 30,
   "id": "a63ca5c7-85a0-461e-8df0-a2a8e8653382",
   "metadata": {},
   "outputs": [
    {
     "data": {
      "text/html": [
       "<pre style=\"white-space:pre;overflow-x:auto;line-height:normal;font-family:Menlo,'DejaVu Sans Mono',consolas,'Courier New',monospace\">           +-----------+           \n",
       "           | __start__ |           \n",
       "           +-----------+           \n",
       "                 *                 \n",
       "                 *                 \n",
       "                 *                 \n",
       "            +---------+            \n",
       "            | analyze |            \n",
       "            +---------+            \n",
       "           ..         ..           \n",
       "         ..             ..         \n",
       "        .                 .        \n",
       "+-----------+          +--------+  \n",
       "| breakdown |          | simple |  \n",
       "+-----------+          +--------+  \n",
       "           **         **           \n",
       "             **     **             \n",
       "               *   *               \n",
       "            +---------+            \n",
       "            | __end__ |            \n",
       "            +---------+            \n",
       "</pre>\n"
      ],
      "text/plain": [
       "           +-----------+           \n",
       "           | __start__ |           \n",
       "           +-----------+           \n",
       "                 *                 \n",
       "                 *                 \n",
       "                 *                 \n",
       "            +---------+            \n",
       "            | analyze |            \n",
       "            +---------+            \n",
       "           ..         ..           \n",
       "         ..             ..         \n",
       "        .                 .        \n",
       "+-----------+          +--------+  \n",
       "| breakdown |          | simple |  \n",
       "+-----------+          +--------+  \n",
       "           **         **           \n",
       "             **     **             \n",
       "               *   *               \n",
       "            +---------+            \n",
       "            | __end__ |            \n",
       "            +---------+            \n"
      ]
     },
     "metadata": {},
     "output_type": "display_data"
    }
   ],
   "source": [
    "################################ Graph & Subgraph Construction ################################\n",
    "\n",
    "# 1. Define and compile the enrichment subgraph with conditional routing.\n",
    "enrichment_graph = StateGraph(TodoState)\n",
    "enrichment_graph.add_node(\"analyze\", analyze_task_complexity)\n",
    "enrichment_graph.add_node(\"breakdown\", breakdown_complex_task)\n",
    "enrichment_graph.add_node(\"simple\", pass_through_simple_task)\n",
    "enrichment_graph.add_edge(START, \"analyze\")\n",
    "enrichment_graph.add_conditional_edges(\n",
    "    \"analyze\", # Source node\n",
    "    route_on_complexity, # Function to determine the route\n",
    "    {\"breakdown\": \"breakdown\", \"simple\": \"simple\"} # Map return values to destination nodes\n",
    ")\n",
    "enrichment_graph.add_edge(\"breakdown\", END)\n",
    "enrichment_graph.add_edge(\"simple\", END)\n",
    "enrichment_app = enrichment_graph.compile()\n",
    "print(enrichment_app.get_graph().draw_ascii())"
   ]
  },
  {
   "cell_type": "markdown",
   "id": "d5edb0c8",
   "metadata": {},
   "source": [
    "## Reminder Subgraph Construction\n",
    "\n",
    "- Build the single-step reminder graph around the prioritization node.\n",
    "- Compile it into a callable subgraph for the main workflow."
   ]
  },
  {
   "cell_type": "code",
   "execution_count": 31,
   "id": "3f09e73e-4e26-44fb-8814-8476a17ca615",
   "metadata": {},
   "outputs": [
    {
     "data": {
      "text/html": [
       "<pre style=\"white-space:pre;overflow-x:auto;line-height:normal;font-family:Menlo,'DejaVu Sans Mono',consolas,'Courier New',monospace\">+-----------+  \n",
       "| __start__ |  \n",
       "+-----------+  \n",
       "       *       \n",
       "       *       \n",
       "       *       \n",
       "+------------+ \n",
       "| prioritize | \n",
       "+------------+ \n",
       "       *       \n",
       "       *       \n",
       "       *       \n",
       "  +---------+  \n",
       "  | __end__ |  \n",
       "  +---------+  \n",
       "</pre>\n"
      ],
      "text/plain": [
       "+-----------+  \n",
       "| __start__ |  \n",
       "+-----------+  \n",
       "       *       \n",
       "       *       \n",
       "       *       \n",
       "+------------+ \n",
       "| prioritize | \n",
       "+------------+ \n",
       "       *       \n",
       "       *       \n",
       "       *       \n",
       "  +---------+  \n",
       "  | __end__ |  \n",
       "  +---------+  \n"
      ]
     },
     "metadata": {},
     "output_type": "display_data"
    }
   ],
   "source": [
    "# 2. Define and compile the reminder subgraph as a simple, single-step graph.\n",
    "reminder_graph = StateGraph(TodoState)\n",
    "reminder_graph.add_node(\"prioritize\", prioritize_tasks_llm)\n",
    "reminder_graph.add_edge(START, \"prioritize\")\n",
    "reminder_graph.add_edge(\"prioritize\", END)\n",
    "reminder_app = reminder_graph.compile()\n",
    "print(reminder_app.get_graph().draw_ascii())"
   ]
  },
  {
   "cell_type": "markdown",
   "id": "65bb53d5",
   "metadata": {},
   "source": [
    "## Main Graph Orchestration\n",
    "\n",
    "- Connect enrichment, reminder, and display stages into one pipeline.\n",
    "- Compile the full application graph and render its topology diagram."
   ]
  },
  {
   "cell_type": "code",
   "execution_count": 32,
   "id": "f94b020e-bb9e-4087-8a2a-cc6334d96b7f",
   "metadata": {},
   "outputs": [
    {
     "data": {
      "text/html": [
       "<pre style=\"white-space:pre;overflow-x:auto;line-height:normal;font-family:Menlo,'DejaVu Sans Mono',consolas,'Courier New',monospace\">    +-----------+      \n",
       "    | __start__ |      \n",
       "    +-----------+      \n",
       "          *            \n",
       "          *            \n",
       "          *            \n",
       "   +-------------+     \n",
       "   | enrich_task |     \n",
       "   +-------------+     \n",
       "          *            \n",
       "          *            \n",
       "          *            \n",
       "+-------------------+  \n",
       "| generate_reminder |  \n",
       "+-------------------+  \n",
       "          *            \n",
       "          *            \n",
       "          *            \n",
       " +-----------------+   \n",
       " | display_results |   \n",
       " +-----------------+   \n",
       "          *            \n",
       "          *            \n",
       "          *            \n",
       "     +---------+       \n",
       "     | __end__ |       \n",
       "     +---------+       \n",
       "</pre>\n"
      ],
      "text/plain": [
       "    +-----------+      \n",
       "    | __start__ |      \n",
       "    +-----------+      \n",
       "          *            \n",
       "          *            \n",
       "          *            \n",
       "   +-------------+     \n",
       "   | enrich_task |     \n",
       "   +-------------+     \n",
       "          *            \n",
       "          *            \n",
       "          *            \n",
       "+-------------------+  \n",
       "| generate_reminder |  \n",
       "+-------------------+  \n",
       "          *            \n",
       "          *            \n",
       "          *            \n",
       " +-----------------+   \n",
       " | display_results |   \n",
       " +-----------------+   \n",
       "          *            \n",
       "          *            \n",
       "          *            \n",
       "     +---------+       \n",
       "     | __end__ |       \n",
       "     +---------+       \n"
      ]
     },
     "metadata": {},
     "output_type": "display_data"
    }
   ],
   "source": [
    "# 3. Define the main graph that orchestrates the subgraphs.\n",
    "main_graph = StateGraph(TodoState)\n",
    "main_graph.add_node(\"enrich_task\", enrichment_app)\n",
    "main_graph.add_node(\"generate_reminder\", reminder_app)\n",
    "main_graph.add_node(\"display_results\", display_final_state)\n",
    "main_graph.add_edge(START, \"enrich_task\")\n",
    "main_graph.add_edge(\"enrich_task\", \"generate_reminder\")\n",
    "main_graph.add_edge(\"generate_reminder\", \"display_results\")\n",
    "main_graph.add_edge(\"display_results\", END)\n",
    "app = main_graph.compile()\n",
    "print(app.get_graph().draw_ascii())"
   ]
  },
  {
   "cell_type": "markdown",
   "id": "6845c676",
   "metadata": {},
   "source": [
    "## Sample Execution\n",
    "\n",
    "- Seed the graph with an initial state and example tasks to process.\n",
    "- Iterate through each task to demonstrate how the workflow evolves the state."
   ]
  },
  {
   "cell_type": "code",
   "execution_count": null,
   "id": "a7d49bc3-d030-4134-804a-c984ebc8549b",
   "metadata": {},
   "outputs": [
    {
     "data": {
      "text/html": [
       "<pre style=\"white-space:pre;overflow-x:auto;line-height:normal;font-family:Menlo,'DejaVu Sans Mono',consolas,'Courier New',monospace\">\n",
       "\n",
       "&gt;&gt;&gt; PROCESSING NEW TASK: Remind me to do my HW &lt;&lt;&lt;\n",
       "</pre>\n"
      ],
      "text/plain": [
       "\n",
       "\n",
       ">>> PROCESSING NEW TASK: Remind me to do my HW <<<\n"
      ]
     },
     "metadata": {},
     "output_type": "display_data"
    },
    {
     "data": {
      "text/html": [
       "<pre style=\"white-space:pre;overflow-x:auto;line-height:normal;font-family:Menlo,'DejaVu Sans Mono',consolas,'Courier New',monospace\">--- SUBGRAPH <span style=\"color: #008080; text-decoration-color: #008080; font-weight: bold\">1</span>: ANALYZING TASK ---\n",
       "</pre>\n"
      ],
      "text/plain": [
       "--- SUBGRAPH \u001b[1;36m1\u001b[0m: ANALYZING TASK ---\n"
      ]
     },
     "metadata": {},
     "output_type": "display_data"
    },
    {
     "data": {
      "text/html": [
       "<pre style=\"white-space:pre;overflow-x:auto;line-height:normal;font-family:Menlo,'DejaVu Sans Mono',consolas,'Courier New',monospace\">Task <span style=\"color: #008000; text-decoration-color: #008000\">'Remind me to do my HW'</span> is SIMPLE.\n",
       "</pre>\n"
      ],
      "text/plain": [
       "Task \u001b[32m'Remind me to do my HW'\u001b[0m is SIMPLE.\n"
      ]
     },
     "metadata": {},
     "output_type": "display_data"
    },
    {
     "data": {
      "text/html": [
       "<pre style=\"white-space:pre;overflow-x:auto;line-height:normal;font-family:Menlo,'DejaVu Sans Mono',consolas,'Courier New',monospace\">--- SUBGRAPH <span style=\"color: #008080; text-decoration-color: #008080; font-weight: bold\">1</span>: ADDING SIMPLE TASK ---\n",
       "</pre>\n"
      ],
      "text/plain": [
       "--- SUBGRAPH \u001b[1;36m1\u001b[0m: ADDING SIMPLE TASK ---\n"
      ]
     },
     "metadata": {},
     "output_type": "display_data"
    },
    {
     "data": {
      "text/html": [
       "<pre style=\"white-space:pre;overflow-x:auto;line-height:normal;font-family:Menlo,'DejaVu Sans Mono',consolas,'Courier New',monospace\">\n",
       "--- SUBGRAPH <span style=\"color: #008080; text-decoration-color: #008080; font-weight: bold\">2</span>: PRIORITIZING TASKS ---\n",
       "</pre>\n"
      ],
      "text/plain": [
       "\n",
       "--- SUBGRAPH \u001b[1;36m2\u001b[0m: PRIORITIZING TASKS ---\n"
      ]
     },
     "metadata": {},
     "output_type": "display_data"
    },
    {
     "data": {
      "text/html": [
       "<pre style=\"white-space:pre;overflow-x:auto;line-height:normal;font-family:Menlo,'DejaVu Sans Mono',consolas,'Courier New',monospace\">\n",
       "--- FINAL TO-DO LIST &amp; REMINDER ---\n",
       "</pre>\n"
      ],
      "text/plain": [
       "\n",
       "--- FINAL TO-DO LIST & REMINDER ---\n"
      ]
     },
     "metadata": {},
     "output_type": "display_data"
    },
    {
     "data": {
      "text/html": [
       "<pre style=\"white-space:pre;overflow-x:auto;line-height:normal;font-family:Menlo,'DejaVu Sans Mono',consolas,'Courier New',monospace\">Tasks:\n",
       "</pre>\n"
      ],
      "text/plain": [
       "Tasks:\n"
      ]
     },
     "metadata": {},
     "output_type": "display_data"
    },
    {
     "data": {
      "text/html": [
       "<pre style=\"white-space:pre;overflow-x:auto;line-height:normal;font-family:Menlo,'DejaVu Sans Mono',consolas,'Courier New',monospace\"><span style=\"color: #008080; text-decoration-color: #008080; font-weight: bold\">1</span>. Remind me to do my HW\n",
       "</pre>\n"
      ],
      "text/plain": [
       "\u001b[1;36m1\u001b[0m. Remind me to do my HW\n"
      ]
     },
     "metadata": {},
     "output_type": "display_data"
    },
    {
     "data": {
      "text/html": [
       "<pre style=\"white-space:pre;overflow-x:auto;line-height:normal;font-family:Menlo,'DejaVu Sans Mono',consolas,'Courier New',monospace\"><span style=\"color: #008080; text-decoration-color: #008080; font-weight: bold\">2</span>. Remind me to do my HW\n",
       "</pre>\n"
      ],
      "text/plain": [
       "\u001b[1;36m2\u001b[0m. Remind me to do my HW\n"
      ]
     },
     "metadata": {},
     "output_type": "display_data"
    },
    {
     "data": {
      "text/html": [
       "<pre style=\"white-space:pre;overflow-x:auto;line-height:normal;font-family:Menlo,'DejaVu Sans Mono',consolas,'Courier New',monospace\">\n",
       "Reminder:\n",
       "Okay, let's prioritize!\n",
       "\n",
       "**Highest Priority:**\n",
       "\n",
       "*   **Remind me to do my HW** - This is the most immediate task and likely has a deadline.\n",
       "\n",
       "**Let's do that first!**  I'll set a reminder for you.  When would you like me to remind you to do your homework? \n",
       "<span style=\"font-weight: bold\">(</span>e.g., <span style=\"color: #008000; text-decoration-color: #008000\">\"Remind me at 7 PM tonight,\"</span> or <span style=\"color: #008000; text-decoration-color: #008000\">\"Remind me in 30 minutes.\"</span><span style=\"font-weight: bold\">)</span>\n",
       "</pre>\n"
      ],
      "text/plain": [
       "\n",
       "Reminder:\n",
       "Okay, let's prioritize!\n",
       "\n",
       "**Highest Priority:**\n",
       "\n",
       "*   **Remind me to do my HW** - This is the most immediate task and likely has a deadline.\n",
       "\n",
       "**Let's do that first!**  I'll set a reminder for you.  When would you like me to remind you to do your homework? \n",
       "\u001b[1m(\u001b[0me.g., \u001b[32m\"Remind me at 7 PM tonight,\"\u001b[0m or \u001b[32m\"Remind me in 30 minutes.\"\u001b[0m\u001b[1m)\u001b[0m\n"
      ]
     },
     "metadata": {},
     "output_type": "display_data"
    },
    {
     "data": {
      "text/html": [
       "<pre style=\"white-space:pre;overflow-x:auto;line-height:normal;font-family:Menlo,'DejaVu Sans Mono',consolas,'Courier New',monospace\">------------------------------------\n",
       "</pre>\n"
      ],
      "text/plain": [
       "------------------------------------\n"
      ]
     },
     "metadata": {},
     "output_type": "display_data"
    },
    {
     "data": {
      "text/html": [
       "<pre style=\"white-space:pre;overflow-x:auto;line-height:normal;font-family:Menlo,'DejaVu Sans Mono',consolas,'Courier New',monospace\">########################## End of Test ################################\n",
       "\n",
       "\n",
       "</pre>\n"
      ],
      "text/plain": [
       "########################## End of Test ################################\n",
       "\n",
       "\n"
      ]
     },
     "metadata": {},
     "output_type": "display_data"
    }
   ],
   "source": [
    "# Initialize an empty state for the first run.\n",
    "current_state = {\"todos\": [], \"reminder\": \"\", \"new_todo\": \"\", \"is_complex\": False}\n",
    "\n",
    "# Define a list of tasks to be processed by the graph.\n",
    "tasks_to_add = [\n",
    "    \"Remind me to do my HW\", # Expected to be simple\n",
    "    # \"Plan weekend trip\", # Expected to be complex\n",
    "    # \"Buy groceries\", # Expected to be simple\n",
    "]\n",
    "\n",
    "# Sequentially process each task, accumulating the results in the state object.\n",
    "for task in tasks_to_add:\n",
    "    print(f\"\\n\\n>>> PROCESSING NEW TASK: {task} <<<\")\n",
    "    inputs = {\"new_todo\": task}\n",
    "    # Invoke the graph with the new task and the accumulated state.\n",
    "    current_state = app.invoke(inputs, {\"recursion_limit\": 100}, state=current_state)\n",
    "    print('########################## End of Test ################################\\n\\n')"
   ]
  },
  {
   "cell_type": "code",
   "execution_count": null,
   "metadata": {},
   "outputs": [],
   "source": []
  }
 ],
 "metadata": {
  "kernelspec": {
   "display_name": "py312",
   "language": "python",
   "name": "python3"
  },
  "language_info": {
   "codemirror_mode": {
    "name": "ipython",
    "version": 3
   },
   "file_extension": ".py",
   "mimetype": "text/x-python",
   "name": "python",
   "nbconvert_exporter": "python",
   "pygments_lexer": "ipython3",
   "version": "3.12.11"
  }
 },
 "nbformat": 4,
 "nbformat_minor": 2
}
