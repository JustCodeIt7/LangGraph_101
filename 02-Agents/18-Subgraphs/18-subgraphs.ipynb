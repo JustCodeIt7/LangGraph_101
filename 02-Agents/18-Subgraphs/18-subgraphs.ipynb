{
 "cells": [
  {
   "cell_type": "markdown",
   "metadata": {},
   "source": [
    "# What are LangGraph Subgraphs?\n",
    "\n",
    "LangGraph **subgraphs** are self-contained workflows that can be embedded within larger parent graphs. They provide a powerful way to:\n",
    "\n",
    "- **Modularize complex workflows** into smaller, reusable components\n",
    "- **Isolate state** between different parts of your application\n",
    "- **Create reusable components** that can be shared across different graphs\n",
    "- **Simplify debugging** by testing subgraphs independently\n",
    "\n",
    "Think of subgraphs like functions in programming - they take input, perform a specific task, and return output, but they maintain their own internal state separate from the calling context.\n",
    "\n",
    "## Setup and Imports\n",
    "\n",
    "Let's start by importing the necessary libraries:"
   ]
  },
  {
   "cell_type": "code",
   "execution_count": null,
   "id": "b40707c3-cdd6-4f8b-9abc-c7c641d6d763",
   "metadata": {},
   "outputs": [],
   "source": [
    "import os\n",
    "from typing import TypedDict\n",
    "from langgraph.graph import StateGraph, START, END\n",
    "from rich import print"
   ]
  },
  {
   "cell_type": "markdown",
   "metadata": {},
   "source": [
    "## Optional: LangSmith Tracing\n",
    "\n",
    "LangSmith provides excellent observability for LangGraph workflows. If you want to trace your graph execution and see detailed logs of each step, uncomment the lines below and add your API key:"
   ]
  },
  {
   "cell_type": "markdown",
   "metadata": {},
   "source": [
    "## Building Our First Subgraph: Greeting Generator\n",
    "\n",
    "Let's create a subgraph that generates personalized greetings. This subgraph will:\n",
    "\n",
    "1. **Take a name as input**\n",
    "2. **Generate a basic greeting** \n",
    "3. **Add a friendly inquiry**\n",
    "4. **Return the complete greeting**\n",
    "\n",
    "### Key Concepts:\n",
    "\n",
    "- **Isolated State**: The subgraph has its own `SubgraphState` that is completely separate from any parent graph\n",
    "- **Self-Contained Logic**: All the greeting logic is encapsulated within the subgraph\n",
    "- **Reusable**: This subgraph can be used in multiple different parent graphs\n",
    "\n",
    "Let's define the subgraph state and node functions:"
   ]
  },
  {
   "cell_type": "code",
   "execution_count": null,
   "id": "1211dc14-4d00-4846-9c19-ea9c5d40f71b",
   "metadata": {},
   "outputs": [],
   "source": [
    "################################ Subgraph Definition ################################\n",
    "# Define the state for the subgraph.\n",
    "# This state is isolated from the parent graph's state.\n",
    "class SubgraphState(TypedDict):\n",
    "    \"\"\"\n",
    "    Define the state schema for the subgraph.\n",
    "    It tracks the name used for the greeting and the evolving greeting message.\n",
    "    \"\"\"\n",
    "\n",
    "    name: str\n",
    "    greeting: str\n",
    "\n",
    "\n",
    "def add_salutation(state: SubgraphState) -> dict:\n",
    "    \"\"\"\n",
    "    Generate an initial greeting for the provided name.\n",
    "    \"\"\"\n",
    "    print('>> Subgraph Node: add_salutation')\n",
    "    name = state['name']\n",
    "    # Return the updated greeting to the subgraph state\n",
    "    return {'greeting': f'Hello, {name}!'}\n",
    "\n",
    "\n",
    "def add_question(state: SubgraphState) -> dict:\n",
    "    \"\"\"\n",
    "    Append a friendly inquiry to the existing greeting.\n",
    "    \"\"\"\n",
    "    print('>> Subgraph Node: add_inquiry')\n",
    "    greeting = state['greeting']\n",
    "    # Update the greeting with an additional phrase\n",
    "    return {'greeting': f'{greeting} How are you today?'}"
   ]
  },
  {
   "cell_type": "markdown",
   "metadata": {},
   "source": [
    "## Constructing the Subgraph\n",
    "\n",
    "Now let's build our subgraph using the `StateGraph` class:\n",
    "\n",
    "### Graph Construction Steps:\n",
    "1. **Initialize** the StateGraph with our `SubgraphState` schema\n",
    "2. **Add nodes** for each step in our greeting process\n",
    "3. **Define edges** to create the workflow sequence\n",
    "4. **Compile** the graph into a runnable object\n",
    "\n",
    "The workflow will be: `START → salutation → inquiry → END`"
   ]
  },
  {
   "cell_type": "code",
   "execution_count": null,
   "id": "0534d03c-e895-47bc-97d4-8892c9f78123",
   "metadata": {},
   "outputs": [],
   "source": [
    "# Initialize the StateGraph for the subgraph.\n",
    "subgraph_builder = StateGraph(SubgraphState)\n",
    "\n",
    "# Define the nodes within the subgraph.\n",
    "subgraph_builder.add_node('salutation', add_salutation)\n",
    "subgraph_builder.add_node('question', add_question)\n",
    "\n",
    "# Define the workflow path within the subgraph.\n",
    "subgraph_builder.add_edge(START, 'salutation')\n",
    "subgraph_builder.add_edge('salutation', 'question')\n",
    "subgraph_builder.add_edge('question', END)\n",
    "\n",
    "# Compile the subgraph into a runnable object.\n",
    "subgraph = subgraph_builder.compile()"
   ]
  },
  {
   "cell_type": "markdown",
   "metadata": {},
   "source": [
    "## Visualizing the Subgraph\n",
    "\n",
    "Let's see what our subgraph looks like visually. This diagram will show the flow from START through our two nodes to END:"
   ]
  },
  {
   "cell_type": "code",
   "execution_count": null,
   "id": "2ed5e3ba-6961-4cfb-aa9f-d7471f22d881",
   "metadata": {},
   "outputs": [
    {
     "data": {
      "text/html": [
       "<pre style=\"white-space:pre;overflow-x:auto;line-height:normal;font-family:Menlo,'DejaVu Sans Mono',consolas,'Courier New',monospace\">Subgraph structure:\n",
       "</pre>\n"
      ],
      "text/plain": [
       "Subgraph structure:\n"
      ]
     },
     "metadata": {},
     "output_type": "display_data"
    },
    {
     "data": {
      "image/png": "[encoded data removed]",
      "text/plain": [
       "<IPython.core.display.Image object>"
      ]
     },
     "metadata": {},
     "output_type": "display_data"
    }
   ],
   "source": [
    "print('Subgraph structure:')\n",
    "# Visualize the compiled subgraph structure.\n",
    "try:\n",
    "    from IPython.display import Image, display\n",
    "\n",
    "    display(Image(subgraph.get_graph().draw_mermaid_png()))\n",
    "except Exception:\n",
    "    pass"
   ]
  },
  {
   "cell_type": "markdown",
   "metadata": {},
   "source": [
    "## Creating the Parent Graph\n",
    "\n",
    "Now let's create a **parent graph** that will use our subgraph as one of its components. This demonstrates the key benefit of subgraphs: **composition**.\n",
    "\n",
    "### Parent Graph Responsibilities:\n",
    "- **Prepare input** for the subgraph\n",
    "- **Invoke the subgraph** and handle its output\n",
    "- **Add additional processing** (like a closing message)\n",
    "- **Manage the overall workflow**\n",
    "\n",
    "### State Mapping:\n",
    "Notice how the parent graph has its own state (`ParentState`) that's different from the subgraph state. We'll need to map data between them when invoking the subgraph."
   ]
  },
  {
   "cell_type": "code",
   "execution_count": null,
   "id": "2b3eb3ae-edd0-4710-9a6c-58a52a8617b4",
   "metadata": {},
   "outputs": [],
   "source": [
    "################################ Parent Graph Definition ################################\n",
    "\n",
    "\n",
    "# Define the state for the parent graph.\n",
    "# This state manages the overall message flow and includes the name input.\n",
    "class ParentState(TypedDict):\n",
    "    \"\"\"\n",
    "    Define the state schema for the parent graph.\n",
    "    It holds the initial name and the final composite message.\n",
    "    \"\"\"\n",
    "\n",
    "    name: str\n",
    "    full_message: str"
   ]
  },
  {
   "cell_type": "markdown",
   "metadata": {},
   "source": [
    "## Parent Graph Node Functions\n",
    "\n",
    "Here are the key functions for our parent graph:\n",
    "\n",
    "### `prepare_input()` \n",
    "Sets up the initial message to prepare for subgraph execution.\n",
    "\n",
    "### `run_subgraph()` - **The Key Function**\n",
    "This is where the magic happens! This function:\n",
    "1. **Maps parent state to subgraph input** - Takes `name` from parent state\n",
    "2. **Invokes the compiled subgraph** - Runs the entire greeting workflow\n",
    "3. **Extracts the result** - Gets the `greeting` from subgraph output\n",
    "4. **Maps back to parent state** - Updates the parent's `full_message`\n",
    "\n",
    "### `add_closing()`\n",
    "Adds a final touch to the message after the subgraph completes.\n",
    "\n",
    "### Important: State Isolation\n",
    "Notice how the parent and subgraph maintain completely separate states, and we explicitly handle the data mapping between them."
   ]
  },
  {
   "cell_type": "code",
   "execution_count": null,
   "id": "cf80a58e-67cd-42c6-8ad3-2984129d95f3",
   "metadata": {},
   "outputs": [],
   "source": [
    "def prepare_input(state: ParentState) -> dict:\n",
    "    \"\"\"\n",
    "    Initialize the full message with a preparatory statement.\n",
    "    \"\"\"\n",
    "    print('-> Parent Node: prepare_input')\n",
    "    # Set an initial message based on the input name\n",
    "    return {'full_message': f'Preparing message for {state[\"name\"]}...'}\n",
    "\n",
    "\n",
    "def run_subgraph(state: ParentState) -> dict:\n",
    "    \"\"\"\n",
    "    Execute the predefined subgraph and incorporate its output into the parent state.\n",
    "    \"\"\"\n",
    "    print('-> Parent Node: run_subgraph (invoking subgraph now)')\n",
    "\n",
    "    # Map parent state variables to the subgraph's expected input state.\n",
    "    subgraph_input = {'name': state['name']}\n",
    "\n",
    "    # Invoke the compiled subgraph with its specific input.\n",
    "    subgraph_output = subgraph.invoke(subgraph_input)\n",
    "\n",
    "    # Extract the final greeting from the subgraph's output state.\n",
    "    final_greeting = subgraph_output['greeting']\n",
    "\n",
    "    print('-> Parent Node: run_subgraph (subgraph finished)')\n",
    "\n",
    "    # Update the parent's full_message with the subgraph's result.\n",
    "    return {'full_message': final_greeting}\n",
    "\n",
    "\n",
    "def add_closing(state: ParentState) -> dict:\n",
    "    \"\"\"\n",
    "    Append a concluding remark to the generated message.\n",
    "    \"\"\"\n",
    "    print('-> Parent Node: add_closing')\n",
    "    message = state['full_message']\n",
    "    # Concatenate the closing phrase to the existing message\n",
    "    return {'full_message': f'{message} Have a great day!'}"
   ]
  },
  {
   "cell_type": "markdown",
   "metadata": {},
   "source": [
    "## Building the Parent Graph\n",
    "\n",
    "Now let's construct our parent graph that will orchestrate the entire workflow:\n",
    "\n",
    "### Graph Structure:\n",
    "`START → prepare → generate_greeting → close → END`\n",
    "\n",
    "The `generate_greeting` node is where our **subgraph gets invoked**. This demonstrates how subgraphs act like sophisticated function calls within a larger workflow."
   ]
  },
  {
   "cell_type": "code",
   "execution_count": null,
   "id": "28bbd4a5-78d3-4a30-908b-12a65240a535",
   "metadata": {},
   "outputs": [],
   "source": [
    "# Initialize the StateGraph for the parent graph.\n",
    "parent_builder = StateGraph(ParentState)\n",
    "\n",
    "# Define the nodes within the parent graph.\n",
    "parent_builder.add_node('prepare', prepare_input)\n",
    "parent_builder.add_node('generate_greeting', run_subgraph)\n",
    "parent_builder.add_node('close', add_closing)\n",
    "\n",
    "# Define the main workflow path for the parent graph.\n",
    "parent_builder.add_edge(START, 'prepare')\n",
    "parent_builder.add_edge('prepare', 'generate_greeting')\n",
    "parent_builder.add_edge('generate_greeting', 'close')\n",
    "parent_builder.add_edge('close', END)\n",
    "\n",
    "# Compile the parent graph into a runnable object.\n",
    "main_graph = parent_builder.compile()"
   ]
  },
  {
   "cell_type": "markdown",
   "metadata": {},
   "source": [
    "## Visualizing the Complete System\n",
    "\n",
    "Let's see how our parent graph looks. Notice that from the parent graph's perspective, the subgraph appears as a single node, even though it contains its own internal workflow."
   ]
  },
  {
   "cell_type": "code",
   "execution_count": null,
   "id": "f0a557af-5da9-45d4-8d9f-f05b9fedc140",
   "metadata": {},
   "outputs": [],
   "source": [
    "print('Parent graph structure:')\n",
    "# Visualize the compiled parent graph structure.\n",
    "try:\n",
    "    from IPython.display import Image, display\n",
    "\n",
    "    display(Image(main_graph.get_graph().draw_mermaid_png()))\n",
    "except Exception:\n",
    "    pass"
   ]
  },
  {
   "cell_type": "code",
   "execution_count": null,
   "id": "20fe2dae-2065-4570-b469-7666d2a05a7a",
   "metadata": {},
   "outputs": [],
   "source": [
    "################################ Graph Execution ################################\n",
    "\n",
    "# Define the initial input for the main graph.\n",
    "initial_input = {'name': 'Alice'}\n",
    "print(f'🚀 Starting graph with input: {initial_input}\\n')\n",
    "\n",
    "# Stream events to observe intermediate node outputs.\n",
    "# Iterate through each event to print node outputs as they occur.\n",
    "for event in main_graph.stream(initial_input, debug=True):\n",
    "    # Each event is a dictionary mapping node names to their outputs.\n",
    "    for node, output in event.items():\n",
    "        print(f\"✅ Output from '{node}':\")\n",
    "        print(f'   {output}')\n",
    "        print('--------------------')\n",
    "\n",
    "# Invoke the graph to get the final state directly.\n",
    "final_state = main_graph.invoke(initial_input)\n",
    "print(f'\\n✨ Final Result:\\n{final_state[\"full_message\"]}')"
   ]
  },
  {
   "cell_type": "code",
   "execution_count": null,
   "metadata": {},
   "outputs": [],
   "source": []
  }
 ],
 "metadata": {
  "kernelspec": {
   "display_name": "py312",
   "language": "python",
   "name": "python3"
  },
  "language_info": {
   "codemirror_mode": {
    "name": "ipython",
    "version": 3
   },
   "file_extension": ".py",
   "mimetype": "text/x-python",
   "name": "python",
   "nbconvert_exporter": "python",
   "pygments_lexer": "ipython3",
   "version": "3.12.11"
  }
 },
 "nbformat": 4,
 "nbformat_minor": 2
}
