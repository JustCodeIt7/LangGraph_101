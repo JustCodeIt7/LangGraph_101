{
 "cells": [
  {
   "cell_type": "markdown",
   "id": "2d990c57-f3a5-40fa-86fc-650808e426cc",
   "metadata": {},
   "source": [
    " # Multi-Step Approval Workflow with LangGraph\n",
    "\n",
    " This example demonstrates a business approval workflow where requests go through different\n",
    " approval stages based on their amount."
   ]
  },
  {
   "cell_type": "code",
   "execution_count": 1,
   "id": "a9d7a64a-93e4-4973-872c-68b3bba07192",
   "metadata": {},
   "outputs": [],
   "source": [
    "from typing import TypedDict\n",
    "from langgraph.graph import StateGraph, START, END\n",
    "from langgraph.types import Command, interrupt\n",
    "from langgraph.checkpoint.memory import InMemorySaver\n",
    "from IPython.display import Image, display\n",
    "from rich import print"
   ]
  },
  {
   "cell_type": "markdown",
   "id": "f6a439e9-612b-490a-9f07-e3895e3084fa",
   "metadata": {},
   "source": [
    " ## Define State"
   ]
  },
  {
   "cell_type": "code",
   "execution_count": 2,
   "id": "291423a6-97f8-4657-9f3f-e2298692f940",
   "metadata": {},
   "outputs": [],
   "source": [
    "class RequestState(TypedDict):\n",
    "    request_id: str\n",
    "    requester: str\n",
    "    amount: float\n",
    "    description: str\n",
    "    manager_approval: str  # \"approved\", \"rejected\", \"pending\"\n",
    "    director_approval: str  # \"approved\", \"rejected\", \"pending\", \"not_required\"\n",
    "    manager_feedback: str\n",
    "    director_feedback: str\n",
    "    status: str  # \"draft\", \"submitted\", \"manager_approved\", \"manager_rejected\", \"director_approved\", \"director_rejected\", \"completed\""
   ]
  },
  {
   "cell_type": "markdown",
   "id": "bbba56b0-2f80-46ae-9b58-d0e02e320e98",
   "metadata": {},
   "source": [
    " ## Define Nodes"
   ]
  },
  {
   "cell_type": "code",
   "execution_count": 3,
   "id": "77fba782-c2d9-4d3a-8e68-7cb19b300a96",
   "metadata": {},
   "outputs": [],
   "source": [
    "def submit_request(state: RequestState):\n",
    "    \"\"\"Initial step to submit a request\"\"\"\n",
    "    print(f'--- Submitting Request ---')\n",
    "    print(f'Request ID: {state[\"request_id\"]}')\n",
    "    print(f'Requester: {state[\"requester\"]}')\n",
    "    print(f'Amount: ${state[\"amount\"]}')\n",
    "    print(f'Description: {state[\"description\"]}')\n",
    "    print('--------------------------')\n",
    "    return {'status': 'submitted'}\n",
    "\n",
    "\n",
    "def manager_approval(state: RequestState):\n",
    "    \"\"\"Manager approval step with human interrupt\"\"\"\n",
    "    print('--- Manager Approval ---')\n",
    "    print(f'Reviewing request {state[\"request_id\"]} for ${state[\"amount\"]}')\n",
    "    print(f'Description: {state[\"description\"]}')\n",
    "\n",
    "    # For requests >= $1000, manager approval is required\n",
    "    # For requests < $1000, this step still happens but is simpler\n",
    "    if state['amount'] >= 1000:\n",
    "        feedback = interrupt(f'Manager approval needed for ${state[\"amount\"]} request. Approve? (yes/no): ')\n",
    "        if feedback.lower() in ['yes', 'y', 'approve']:\n",
    "            return {'manager_approval': 'approved', 'manager_feedback': feedback, 'status': 'manager_approved'}\n",
    "        else:\n",
    "            return {'manager_approval': 'rejected', 'manager_feedback': feedback, 'status': 'manager_rejected'}\n",
    "    else:\n",
    "        # For smaller amounts, auto-approve but still get feedback\n",
    "        feedback = interrupt(f'Manager review for ${state[\"amount\"]} request. Any comments? ')\n",
    "        return {\n",
    "            'manager_approval': 'approved',\n",
    "            'manager_feedback': feedback if feedback else 'Auto-approved for small amount',\n",
    "            'status': 'manager_approved',\n",
    "        }\n",
    "\n"
   ]
  },
  {
   "cell_type": "code",
   "execution_count": 4,
   "metadata": {},
   "outputs": [],
   "source": [
    "\n",
    "def director_approval(state: RequestState):\n",
    "    \"\"\"Director approval step with human interrupt (only for large requests)\"\"\"\n",
    "    print('--- Director Approval ---')\n",
    "    print(f'Director review for request {state[\"request_id\"]} for ${state[\"amount\"]}')\n",
    "\n",
    "    feedback = interrupt(f'Director approval needed for ${state[\"amount\"]} request. Approve? (yes/no): ')\n",
    "    if feedback.lower() in ['yes', 'y', 'approve']:\n",
    "        return {'director_approval': 'approved', 'director_feedback': feedback, 'status': 'director_approved'}\n",
    "    else:\n",
    "        return {'director_approval': 'rejected', 'director_feedback': feedback, 'status': 'director_rejected'}\n",
    "\n",
    "\n",
    "def process_request(state: RequestState):\n",
    "    \"\"\"Final processing step\"\"\"\n",
    "    print('--- Processing Request ---')\n",
    "    print(f'Processing approved request {state[\"request_id\"]}')\n",
    "    print(f'Final status: {state[\"status\"]}')\n",
    "    if state.get('manager_feedback'):\n",
    "        print(f'Manager feedback: {state[\"manager_feedback\"]}')\n",
    "    if state.get('director_feedback'):\n",
    "        print(f'Director feedback: {state[\"director_feedback\"]}')\n",
    "    print('Request processed successfully!')\n",
    "    return {'status': 'completed'}"
   ]
  },
  {
   "cell_type": "markdown",
   "id": "674d09fd-49b2-49be-a928-8b7815d7e330",
   "metadata": {},
   "source": [
    " ## Define Conditional Edges"
   ]
  },
  {
   "cell_type": "code",
   "execution_count": 5,
   "id": "3751bbba-1316-4c18-ae05-0b51de9bc559",
   "metadata": {},
   "outputs": [],
   "source": [
    "def route_after_manager_approval(state: RequestState):\n",
    "    \"\"\"Determine next step after manager approval\"\"\"\n",
    "    # If manager rejected, go to end\n",
    "    if state['manager_approval'] == 'rejected':\n",
    "        return 'end'\n",
    "\n",
    "    # If manager approved, check if director approval is needed\n",
    "    if state['manager_approval'] == 'approved':\n",
    "        # Director approval needed for amounts >= $1000\n",
    "        if state['amount'] >= 1000:\n",
    "            return 'director_approval'\n",
    "        else:\n",
    "            # No director approval needed for smaller amounts\n",
    "            return 'process_request'\n",
    "\n",
    "    # Default case\n",
    "    return 'end'\n",
    "\n",
    "\n",
    "def route_after_director_approval(state: RequestState):\n",
    "    \"\"\"Determine next step after director approval\"\"\"\n",
    "    # If director rejected, go to end\n",
    "    if state['director_approval'] == 'rejected':\n",
    "        return 'end'\n",
    "\n",
    "    # If director approved, proceed to processing\n",
    "    if state['director_approval'] == 'approved':\n",
    "        return 'process_request'\n",
    "\n",
    "    # Default case\n",
    "    return 'end'"
   ]
  },
  {
   "cell_type": "markdown",
   "id": "68820528-85c1-4e32-9231-b17a52912182",
   "metadata": {},
   "source": [
    " ## Build and Compile Graph"
   ]
  },
  {
   "cell_type": "code",
   "execution_count": 6,
   "id": "49ec1cfe-5dda-4241-b390-98c54c644eaf",
   "metadata": {},
   "outputs": [],
   "source": [
    "# Build the graph\n",
    "builder = StateGraph(RequestState)\n",
    "\n",
    "# Add nodes\n",
    "builder.add_node('submit_request', submit_request)\n",
    "builder.add_node('manager_approval', manager_approval)\n",
    "builder.add_node('director_approval', director_approval)\n",
    "builder.add_node('process_request', process_request)\n",
    "\n",
    "# Add edges\n",
    "builder.add_edge(START, 'submit_request')\n",
    "builder.add_edge('submit_request', 'manager_approval')\n",
    "\n",
    "# Add conditional edges\n",
    "builder.add_conditional_edges(\n",
    "    'manager_approval',\n",
    "    route_after_manager_approval,\n",
    "    {'director_approval': 'director_approval', 'process_request': 'process_request', 'end': END},\n",
    ")\n",
    "\n",
    "builder.add_conditional_edges(\n",
    "    'director_approval', route_after_director_approval, {'process_request': 'process_request', 'end': END}\n",
    ")\n",
    "\n",
    "builder.add_edge('process_request', END)\n",
    "\n",
    "# Set up memory\n",
    "memory = InMemorySaver()\n",
    "\n",
    "# Compile the graph\n",
    "approval_graph = builder.compile(checkpointer=memory)"
   ]
  },
  {
   "cell_type": "markdown",
   "id": "cddc2fb7-c772-47db-b3a2-d57ce1d00570",
   "metadata": {},
   "source": [
    " ## Visualize Graph"
   ]
  },
  {
   "cell_type": "code",
   "execution_count": 7,
   "id": "e770da47-32ce-47b3-96fa-3d333d740f36",
   "metadata": {},
   "outputs": [
    {
     "data": {
      "image/png": "[encoded data removed]",
      "text/plain": [
       "<IPython.core.display.Image object>"
      ]
     },
     "metadata": {},
     "output_type": "display_data"
    }
   ],
   "source": [
    "# Visualize the graph\n",
    "display(Image(approval_graph.get_graph().draw_mermaid_png()))"
   ]
  },
  {
   "cell_type": "markdown",
   "id": "321ece64-a537-43bc-a735-b199345a20aa",
   "metadata": {},
   "source": [
    " ## Test the Workflow"
   ]
  },
  {
   "cell_type": "code",
   "execution_count": null,
   "id": "c3498a0a-c852-4ea8-9198-dd9cebb02939",
   "metadata": {},
   "outputs": [
    {
     "data": {
      "text/html": [
       "<pre style=\"white-space:pre;overflow-x:auto;line-height:normal;font-family:Menlo,'DejaVu Sans Mono',consolas,'Courier New',monospace\">=== Testing Small Request ===\n",
       "</pre>\n"
      ],
      "text/plain": [
       "=== Testing Small Request ===\n"
      ]
     },
     "metadata": {},
     "output_type": "display_data"
    },
    {
     "data": {
      "text/html": [
       "<pre style=\"white-space:pre;overflow-x:auto;line-height:normal;font-family:Menlo,'DejaVu Sans Mono',consolas,'Courier New',monospace\">--- Submitting Request ---\n",
       "</pre>\n"
      ],
      "text/plain": [
       "--- Submitting Request ---\n"
      ]
     },
     "metadata": {},
     "output_type": "display_data"
    },
    {
     "data": {
      "text/html": [
       "<pre style=\"white-space:pre;overflow-x:auto;line-height:normal;font-family:Menlo,'DejaVu Sans Mono',consolas,'Courier New',monospace\">Request ID: REQ-<span style=\"color: #008080; text-decoration-color: #008080; font-weight: bold\">001</span>\n",
       "</pre>\n"
      ],
      "text/plain": [
       "Request ID: REQ-\u001b[1;36m001\u001b[0m\n"
      ]
     },
     "metadata": {},
     "output_type": "display_data"
    },
    {
     "data": {
      "text/html": [
       "<pre style=\"white-space:pre;overflow-x:auto;line-height:normal;font-family:Menlo,'DejaVu Sans Mono',consolas,'Courier New',monospace\">Requester: Alice\n",
       "</pre>\n"
      ],
      "text/plain": [
       "Requester: Alice\n"
      ]
     },
     "metadata": {},
     "output_type": "display_data"
    },
    {
     "data": {
      "text/html": [
       "<pre style=\"white-space:pre;overflow-x:auto;line-height:normal;font-family:Menlo,'DejaVu Sans Mono',consolas,'Courier New',monospace\">Amount: $<span style=\"color: #008080; text-decoration-color: #008080; font-weight: bold\">500.0</span>\n",
       "</pre>\n"
      ],
      "text/plain": [
       "Amount: $\u001b[1;36m500.0\u001b[0m\n"
      ]
     },
     "metadata": {},
     "output_type": "display_data"
    },
    {
     "data": {
      "text/html": [
       "<pre style=\"white-space:pre;overflow-x:auto;line-height:normal;font-family:Menlo,'DejaVu Sans Mono',consolas,'Courier New',monospace\">Description: Office supplies\n",
       "</pre>\n"
      ],
      "text/plain": [
       "Description: Office supplies\n"
      ]
     },
     "metadata": {},
     "output_type": "display_data"
    },
    {
     "data": {
      "text/html": [
       "<pre style=\"white-space:pre;overflow-x:auto;line-height:normal;font-family:Menlo,'DejaVu Sans Mono',consolas,'Courier New',monospace\">--------------------------\n",
       "</pre>\n"
      ],
      "text/plain": [
       "--------------------------\n"
      ]
     },
     "metadata": {},
     "output_type": "display_data"
    },
    {
     "data": {
      "text/html": [
       "<pre style=\"white-space:pre;overflow-x:auto;line-height:normal;font-family:Menlo,'DejaVu Sans Mono',consolas,'Courier New',monospace\">Event: <span style=\"font-weight: bold\">{</span><span style=\"color: #008000; text-decoration-color: #008000\">'submit_request'</span>: <span style=\"font-weight: bold\">{</span><span style=\"color: #008000; text-decoration-color: #008000\">'status'</span>: <span style=\"color: #008000; text-decoration-color: #008000\">'submitted'</span><span style=\"font-weight: bold\">}}</span>\n",
       "</pre>\n"
      ],
      "text/plain": [
       "Event: \u001b[1m{\u001b[0m\u001b[32m'submit_request'\u001b[0m: \u001b[1m{\u001b[0m\u001b[32m'status'\u001b[0m: \u001b[32m'submitted'\u001b[0m\u001b[1m}\u001b[0m\u001b[1m}\u001b[0m\n"
      ]
     },
     "metadata": {},
     "output_type": "display_data"
    },
    {
     "data": {
      "text/html": [
       "<pre style=\"white-space:pre;overflow-x:auto;line-height:normal;font-family:Menlo,'DejaVu Sans Mono',consolas,'Courier New',monospace\">\n",
       "</pre>\n"
      ],
      "text/plain": [
       "\n"
      ]
     },
     "metadata": {},
     "output_type": "display_data"
    },
    {
     "data": {
      "text/html": [
       "<pre style=\"white-space:pre;overflow-x:auto;line-height:normal;font-family:Menlo,'DejaVu Sans Mono',consolas,'Courier New',monospace\">--- Manager Approval ---\n",
       "</pre>\n"
      ],
      "text/plain": [
       "--- Manager Approval ---\n"
      ]
     },
     "metadata": {},
     "output_type": "display_data"
    },
    {
     "data": {
      "text/html": [
       "<pre style=\"white-space:pre;overflow-x:auto;line-height:normal;font-family:Menlo,'DejaVu Sans Mono',consolas,'Courier New',monospace\">Reviewing request REQ-<span style=\"color: #008080; text-decoration-color: #008080; font-weight: bold\">001</span> for $<span style=\"color: #008080; text-decoration-color: #008080; font-weight: bold\">500.0</span>\n",
       "</pre>\n"
      ],
      "text/plain": [
       "Reviewing request REQ-\u001b[1;36m001\u001b[0m for $\u001b[1;36m500.0\u001b[0m\n"
      ]
     },
     "metadata": {},
     "output_type": "display_data"
    },
    {
     "data": {
      "text/html": [
       "<pre style=\"white-space:pre;overflow-x:auto;line-height:normal;font-family:Menlo,'DejaVu Sans Mono',consolas,'Courier New',monospace\">Description: Office supplies\n",
       "</pre>\n"
      ],
      "text/plain": [
       "Description: Office supplies\n"
      ]
     },
     "metadata": {},
     "output_type": "display_data"
    },
    {
     "data": {
      "text/html": [
       "<pre style=\"white-space:pre;overflow-x:auto;line-height:normal;font-family:Menlo,'DejaVu Sans Mono',consolas,'Courier New',monospace\">Event: <span style=\"font-weight: bold\">{</span><span style=\"color: #008000; text-decoration-color: #008000\">'__interrupt__'</span>: <span style=\"font-weight: bold\">(</span><span style=\"color: #800080; text-decoration-color: #800080; font-weight: bold\">Interrupt</span><span style=\"font-weight: bold\">(</span><span style=\"color: #808000; text-decoration-color: #808000\">value</span>=<span style=\"color: #008000; text-decoration-color: #008000\">'Manager review for $500.0 request. Any comments? '</span>, \n",
       "<span style=\"color: #808000; text-decoration-color: #808000\">id</span>=<span style=\"color: #008000; text-decoration-color: #008000\">'b4dc4a91d1f36d1cdde727a8b29a38b6'</span><span style=\"font-weight: bold\">)</span>,<span style=\"font-weight: bold\">)}</span>\n",
       "</pre>\n"
      ],
      "text/plain": [
       "Event: \u001b[1m{\u001b[0m\u001b[32m'__interrupt__'\u001b[0m: \u001b[1m(\u001b[0m\u001b[1;35mInterrupt\u001b[0m\u001b[1m(\u001b[0m\u001b[33mvalue\u001b[0m=\u001b[32m'Manager review for $500.0 request. Any comments? '\u001b[0m, \n",
       "\u001b[33mid\u001b[0m=\u001b[32m'b4dc4a91d1f36d1cdde727a8b29a38b6'\u001b[0m\u001b[1m)\u001b[0m,\u001b[1m)\u001b[0m\u001b[1m}\u001b[0m\n"
      ]
     },
     "metadata": {},
     "output_type": "display_data"
    },
    {
     "data": {
      "text/html": [
       "<pre style=\"white-space:pre;overflow-x:auto;line-height:normal;font-family:Menlo,'DejaVu Sans Mono',consolas,'Courier New',monospace\">\n",
       "</pre>\n"
      ],
      "text/plain": [
       "\n"
      ]
     },
     "metadata": {},
     "output_type": "display_data"
    },
    {
     "data": {
      "text/html": [
       "<pre style=\"white-space:pre;overflow-x:auto;line-height:normal;font-family:Menlo,'DejaVu Sans Mono',consolas,'Courier New',monospace\">\n",
       "=== Testing Large Request ===\n",
       "</pre>\n"
      ],
      "text/plain": [
       "\n",
       "=== Testing Large Request ===\n"
      ]
     },
     "metadata": {},
     "output_type": "display_data"
    },
    {
     "data": {
      "text/html": [
       "<pre style=\"white-space:pre;overflow-x:auto;line-height:normal;font-family:Menlo,'DejaVu Sans Mono',consolas,'Courier New',monospace\">--- Submitting Request ---\n",
       "</pre>\n"
      ],
      "text/plain": [
       "--- Submitting Request ---\n"
      ]
     },
     "metadata": {},
     "output_type": "display_data"
    },
    {
     "data": {
      "text/html": [
       "<pre style=\"white-space:pre;overflow-x:auto;line-height:normal;font-family:Menlo,'DejaVu Sans Mono',consolas,'Courier New',monospace\">Request ID: REQ-<span style=\"color: #008080; text-decoration-color: #008080; font-weight: bold\">002</span>\n",
       "</pre>\n"
      ],
      "text/plain": [
       "Request ID: REQ-\u001b[1;36m002\u001b[0m\n"
      ]
     },
     "metadata": {},
     "output_type": "display_data"
    },
    {
     "data": {
      "text/html": [
       "<pre style=\"white-space:pre;overflow-x:auto;line-height:normal;font-family:Menlo,'DejaVu Sans Mono',consolas,'Courier New',monospace\">Requester: Bob\n",
       "</pre>\n"
      ],
      "text/plain": [
       "Requester: Bob\n"
      ]
     },
     "metadata": {},
     "output_type": "display_data"
    },
    {
     "data": {
      "text/html": [
       "<pre style=\"white-space:pre;overflow-x:auto;line-height:normal;font-family:Menlo,'DejaVu Sans Mono',consolas,'Courier New',monospace\">Amount: $<span style=\"color: #008080; text-decoration-color: #008080; font-weight: bold\">2500.0</span>\n",
       "</pre>\n"
      ],
      "text/plain": [
       "Amount: $\u001b[1;36m2500.0\u001b[0m\n"
      ]
     },
     "metadata": {},
     "output_type": "display_data"
    },
    {
     "data": {
      "text/html": [
       "<pre style=\"white-space:pre;overflow-x:auto;line-height:normal;font-family:Menlo,'DejaVu Sans Mono',consolas,'Courier New',monospace\">Description: New computer equipment\n",
       "</pre>\n"
      ],
      "text/plain": [
       "Description: New computer equipment\n"
      ]
     },
     "metadata": {},
     "output_type": "display_data"
    },
    {
     "data": {
      "text/html": [
       "<pre style=\"white-space:pre;overflow-x:auto;line-height:normal;font-family:Menlo,'DejaVu Sans Mono',consolas,'Courier New',monospace\">--------------------------\n",
       "</pre>\n"
      ],
      "text/plain": [
       "--------------------------\n"
      ]
     },
     "metadata": {},
     "output_type": "display_data"
    },
    {
     "data": {
      "text/html": [
       "<pre style=\"white-space:pre;overflow-x:auto;line-height:normal;font-family:Menlo,'DejaVu Sans Mono',consolas,'Courier New',monospace\">Event: <span style=\"font-weight: bold\">{</span><span style=\"color: #008000; text-decoration-color: #008000\">'submit_request'</span>: <span style=\"font-weight: bold\">{</span><span style=\"color: #008000; text-decoration-color: #008000\">'status'</span>: <span style=\"color: #008000; text-decoration-color: #008000\">'submitted'</span><span style=\"font-weight: bold\">}}</span>\n",
       "</pre>\n"
      ],
      "text/plain": [
       "Event: \u001b[1m{\u001b[0m\u001b[32m'submit_request'\u001b[0m: \u001b[1m{\u001b[0m\u001b[32m'status'\u001b[0m: \u001b[32m'submitted'\u001b[0m\u001b[1m}\u001b[0m\u001b[1m}\u001b[0m\n"
      ]
     },
     "metadata": {},
     "output_type": "display_data"
    },
    {
     "data": {
      "text/html": [
       "<pre style=\"white-space:pre;overflow-x:auto;line-height:normal;font-family:Menlo,'DejaVu Sans Mono',consolas,'Courier New',monospace\">\n",
       "</pre>\n"
      ],
      "text/plain": [
       "\n"
      ]
     },
     "metadata": {},
     "output_type": "display_data"
    },
    {
     "data": {
      "text/html": [
       "<pre style=\"white-space:pre;overflow-x:auto;line-height:normal;font-family:Menlo,'DejaVu Sans Mono',consolas,'Courier New',monospace\">--- Manager Approval ---\n",
       "</pre>\n"
      ],
      "text/plain": [
       "--- Manager Approval ---\n"
      ]
     },
     "metadata": {},
     "output_type": "display_data"
    },
    {
     "data": {
      "text/html": [
       "<pre style=\"white-space:pre;overflow-x:auto;line-height:normal;font-family:Menlo,'DejaVu Sans Mono',consolas,'Courier New',monospace\">Reviewing request REQ-<span style=\"color: #008080; text-decoration-color: #008080; font-weight: bold\">002</span> for $<span style=\"color: #008080; text-decoration-color: #008080; font-weight: bold\">2500.0</span>\n",
       "</pre>\n"
      ],
      "text/plain": [
       "Reviewing request REQ-\u001b[1;36m002\u001b[0m for $\u001b[1;36m2500.0\u001b[0m\n"
      ]
     },
     "metadata": {},
     "output_type": "display_data"
    },
    {
     "data": {
      "text/html": [
       "<pre style=\"white-space:pre;overflow-x:auto;line-height:normal;font-family:Menlo,'DejaVu Sans Mono',consolas,'Courier New',monospace\">Description: New computer equipment\n",
       "</pre>\n"
      ],
      "text/plain": [
       "Description: New computer equipment\n"
      ]
     },
     "metadata": {},
     "output_type": "display_data"
    },
    {
     "data": {
      "text/html": [
       "<pre style=\"white-space:pre;overflow-x:auto;line-height:normal;font-family:Menlo,'DejaVu Sans Mono',consolas,'Courier New',monospace\">Event: <span style=\"font-weight: bold\">{</span><span style=\"color: #008000; text-decoration-color: #008000\">'__interrupt__'</span>: <span style=\"font-weight: bold\">(</span><span style=\"color: #800080; text-decoration-color: #800080; font-weight: bold\">Interrupt</span><span style=\"font-weight: bold\">(</span><span style=\"color: #808000; text-decoration-color: #808000\">value</span>=<span style=\"color: #008000; text-decoration-color: #008000\">'Manager approval needed for $2500.0 request. Approve? (yes/no): '</span>, \n",
       "<span style=\"color: #808000; text-decoration-color: #808000\">id</span>=<span style=\"color: #008000; text-decoration-color: #008000\">'b0e58922b496fb325879ccaacf7a4047'</span><span style=\"font-weight: bold\">)</span>,<span style=\"font-weight: bold\">)}</span>\n",
       "</pre>\n"
      ],
      "text/plain": [
       "Event: \u001b[1m{\u001b[0m\u001b[32m'__interrupt__'\u001b[0m: \u001b[1m(\u001b[0m\u001b[1;35mInterrupt\u001b[0m\u001b[1m(\u001b[0m\u001b[33mvalue\u001b[0m=\u001b[32m'Manager approval needed for $2500.0 request. Approve? \u001b[0m\u001b[32m(\u001b[0m\u001b[32myes/no\u001b[0m\u001b[32m)\u001b[0m\u001b[32m: '\u001b[0m, \n",
       "\u001b[33mid\u001b[0m=\u001b[32m'b0e58922b496fb325879ccaacf7a4047'\u001b[0m\u001b[1m)\u001b[0m,\u001b[1m)\u001b[0m\u001b[1m}\u001b[0m\n"
      ]
     },
     "metadata": {},
     "output_type": "display_data"
    },
    {
     "data": {
      "text/html": [
       "<pre style=\"white-space:pre;overflow-x:auto;line-height:normal;font-family:Menlo,'DejaVu Sans Mono',consolas,'Courier New',monospace\">\n",
       "</pre>\n"
      ],
      "text/plain": [
       "\n"
      ]
     },
     "metadata": {},
     "output_type": "display_data"
    }
   ],
   "source": [
    "# Test with a small request (< $1000)\n",
    "small_request = {\n",
    "    'request_id': 'REQ-001',\n",
    "    'requester': 'Alice',\n",
    "    'amount': 500.0,\n",
    "    'description': 'Office supplies',\n",
    "    'manager_approval': 'pending',\n",
    "    'director_approval': 'pending',\n",
    "    'status': 'draft',\n",
    "}\n",
    "\n",
    "# Test with a large request (>= $1000)\n",
    "large_request = {\n",
    "    'request_id': 'REQ-002',\n",
    "    'requester': 'Bob',\n",
    "    'amount': 2500.0,\n",
    "    'description': 'New computer equipment',\n",
    "    'manager_approval': 'pending',\n",
    "    'director_approval': 'pending',\n",
    "    'status': 'draft',\n",
    "}\n",
    "\n",
    "# Thread configuration\n",
    "thread = {'configurable': {'thread_id': 'approval-1'}}\n",
    "\n",
    "# Run the graph for small request\n",
    "print('=== Testing Small Request ===')\n",
    "# In a real notebook, you would run this and then continue after interrupts\n",
    "for event in approval_graph.stream(small_request, thread, stream_mode='updates'):\n",
    "    print(f'Event: {event}')\n",
    "    print()\n",
    "\n",
    "print('\\n=== Testing Large Request ===')\n",
    "# Run the graph for large request\n",
    "thread2 = {'configurable': {'thread_id': 'approval-2'}}\n",
    "for event in approval_graph.stream(large_request, thread2, stream_mode='updates'):\n",
    "    print(f'Event: {event}')\n",
    "    print()\n",
    "\n",
    "# To continue after interrupt, you would use:\n",
    "# approval_graph.stream(Command(resume=\"approved\"), thread, stream_mode=\"updates\")"
   ]
  }
 ],
 "metadata": {
  "kernelspec": {
   "display_name": "py312",
   "language": "python",
   "name": "python3"
  },
  "language_info": {
   "codemirror_mode": {
    "name": "ipython",
    "version": 3
   },
   "file_extension": ".py",
   "mimetype": "text/x-python",
   "name": "python",
   "nbconvert_exporter": "python",
   "pygments_lexer": "ipython3",
   "version": "3.12.11"
  }
 },
 "nbformat": 4,
 "nbformat_minor": 2
}
