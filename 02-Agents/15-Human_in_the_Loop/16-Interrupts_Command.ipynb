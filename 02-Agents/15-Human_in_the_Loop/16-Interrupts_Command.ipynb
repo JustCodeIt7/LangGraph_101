{
 "cells": [
  {
   "cell_type": "markdown",
   "metadata": {},
   "source": [
    "# Interrupts and Commands in LangGraph\n",
    "\n",
    "This notebook demonstrates how to create human-in-the-loop workflows using LangGraph's `interrupt` and `Command` features. We'll build a workflow that pauses for user approval and dynamically routes based on the user's decision.\n",
    "\n",
    "## Key Concepts\n",
    "\n",
    "- **Interrupts**: Pause graph execution and wait for human input\n",
    "- **Commands**: Dynamically control graph routing and execution flow\n",
    "- **Checkpointing**: Required for interrupts to save and restore state\n",
    "\n",
    "#### Interrupt\n",
    "\n",
    "The Interrupt function in LangGraph is built to simplify the creation of human-in-the-loop agents by leveraging LangGraph's robust persistence layer.\n",
    "\n",
    "1. **Approve or Reject Steps**\n",
    "\n",
    "   - Interrupt allows humans to approve or reject LLM decisions (responses/function calls) and directs the graph to different nodes based on human input.\n",
    "\n",
    "2. **Reviewing and Editing Graph State**\n",
    "\n",
    "   - Humans can pause the graph to review and update its state (LLM responses, documents, intermediate values) before execution resumes.\n",
    "\n",
    "3. **Reviewing and Approving Tool Calls**\n",
    "   - Provides essential human oversight by allowing review of LLM-generated tool calls before execution.\n",
    "\n",
    "#### Command\n",
    "\n",
    "The Command type is a new feature in LangGraph designed to create more expressive and controllable communication between agents and nodes, allowing for dynamic control flow.\n",
    "\n",
    "1. **Dynamic Routing within an Agent and Edgeless Graphs**\n",
    "\n",
    "   - Command enables nodes to explicitly define next execution paths, deciding between tool nodes or run termination, supporting \"edgeless graphs.\"\n",
    "\n",
    "2. **Handoffs in Multi-Agent Setups**\n",
    "\n",
    "   - Transfers control from one agent to another specialized agent, enabling layering where agents can act as nodes within larger agent architectures.\n",
    "\n",
    "3. **Enhanced Communication and Control Flow**\n",
    "   - Controls graph execution flow by allowing nodes to update state and dictate subsequent paths, supporting parallel updates and hierarchical architectures.\n",
    "\n",
    "## Workflow Overview\n",
    "\n",
    "Our workflow will:\n",
    "\n",
    "1. Present a task for approval\n",
    "2. Pause execution and wait for user decision\n",
    "3. Route to completion or cancellation based on the decision\n"
   ]
  },
  {
   "cell_type": "code",
   "execution_count": 14,
   "id": "c97cf2b9-e6be-4380-b8f3-fd1d15788755",
   "metadata": {},
   "outputs": [],
   "source": [
    "import os\n",
    "from typing import Literal\n",
    "from typing_extensions import TypedDict\n",
    "\n",
    "from langgraph.graph import StateGraph, START, END\n",
    "from langgraph.types import Command, interrupt\n",
    "from langgraph.checkpoint.memory import InMemorySaver\n",
    "from IPython.display import Image, display\n",
    "from rich import print"
   ]
  },
  {
   "cell_type": "markdown",
   "metadata": {},
   "source": [
    "## State Definition\n",
    "\n",
    "The `WorkflowState` class defines the shared state structure that all nodes in our graph can access and modify. This state persists throughout the workflow execution and across interrupts."
   ]
  },
  {
   "cell_type": "code",
   "execution_count": 15,
   "id": "475b6f12-7a9e-48de-b33e-0365681f500a",
   "metadata": {},
   "outputs": [],
   "source": [
    "################################ 1. State Definition ################################\n",
    "# This is the shared state that all nodes in our graph will have access to and can modify.\n",
    "class WorkflowState(TypedDict):\n",
    "    task: str\n",
    "    # The user's decision ('approve' or 'reject') will be stored here after the interrupt.\n",
    "    user_decision: str\n",
    "    # The final status of our workflow.\n",
    "    status: str"
   ]
  },
  {
   "cell_type": "markdown",
   "metadata": {},
   "source": [
    "## Node Functions\n",
    "\n",
    "These functions represent the different steps (nodes) in our workflow graph. Each node performs a specific action and can modify the shared state.\n",
    "\n",
    "### Key Features:\n",
    "- **`get_approval`**: Uses `interrupt()` to pause execution and wait for human input\n",
    "- **`router`**: Uses `Command(goto=...)` to dynamically route to the next node\n",
    "- **`complete_task` & `cancel_task`**: Terminal nodes that finalize the workflow"
   ]
  },
  {
   "cell_type": "code",
   "execution_count": null,
   "id": "14102a1e-068e-4bb4-b09b-c00c99f09a21",
   "metadata": {},
   "outputs": [],
   "source": [
    "################################ 2. Node Definitions ################################\n",
    "# Each function below represents a \"node\" or a step in our graph.\n",
    "def get_approval(state: WorkflowState):\n",
    "    \"\"\"\n",
    "    This node uses 'interrupt' to pause the graph.\n",
    "    It waits for a human to provide a decision before the graph can proceed.\n",
    "    \"\"\"\n",
    "    print('--- ⏸️ PAUSING FOR APPROVAL ---')\n",
    "    print(f\"Task: '{state['task']}'\")\n",
    "    # The 'interrupt' function stops execution here. The string passed to it\n",
    "    # is a message to the user about what input is expected.\n",
    "    # When the graph is resumed, the value provided will be the return value of this function.\n",
    "    decision = interrupt(\"Please enter 'approve' or 'reject' to continue.\")\n",
    "    print(f\"--- ▶️ RESUMING WITH DECISION: '{decision}' ---\")\n",
    "    return {'user_decision': decision}\n",
    "\n",
    "def router(state: WorkflowState) -> str:\n",
    "    \"\"\"\n",
    "    This node routes based on user decision, returning a string for conditional edges.\n",
    "    \"\"\"\n",
    "    print('--- 🔀 ROUTING ---')\n",
    "    decision = state.get('user_decision', '').strip().lower()\n",
    "    if decision == 'approve':\n",
    "        print(\"Decision: ✅ Approved -> Routing to 'complete_task'\")\n",
    "        return 'complete_task'\n",
    "    else:\n",
    "        print(\"Decision: ❌ Rejected -> Routing to 'cancel_task'\")\n",
    "        return 'cancel_task'\n",
    "\n",
    "def complete_task(state: WorkflowState):\n",
    "    \"\"\"A final node for when the task is approved.\"\"\"\n",
    "    print('--- 🎉 TASK COMPLETED ---')\n",
    "    return {'status': 'done'}\n",
    "\n",
    "\n",
    "def cancel_task(state: WorkflowState):\n",
    "    \"\"\"A final node for when the task is rejected.\"\"\"\n",
    "    print('--- 🗑️ TASK CANCELED ---')\n",
    "    return {'status': 'canceled'}"
   ]
  },
  {
   "cell_type": "markdown",
   "metadata": {},
   "source": [
    "## Graph Construction and Visualization\n",
    "\n",
    "Now we'll build the graph by defining the nodes and their connections. Notice that we don't need explicit conditional edges from the router node - the `Command` object handles dynamic routing at runtime.\n",
    "\n",
    "### Important Notes:\n",
    "- **Checkpointer**: Required for interrupts to work (saves/restores state)\n",
    "- **Dynamic Routing**: The router node uses `Command` objects instead of static edges\n",
    "- **Graph Visualization**: Shows the static structure, but dynamic routing isn't visible"
   ]
  },
  {
   "cell_type": "code",
   "execution_count": 17,
   "id": "cfc9430c-8908-4dad-b833-b3767a75a085",
   "metadata": {},
   "outputs": [
    {
     "data": {
      "image/png": "[encoded data removed]",
      "text/plain": [
       "<IPython.core.display.Image object>"
      ]
     },
     "metadata": {},
     "output_type": "display_data"
    }
   ],
   "source": [
    "################################ 3. Graph Construction ################################\n",
    "\n",
    "# Initialize an in-memory checkpointer. This is required for 'interrupt' to work,\n",
    "# as it needs to save the graph's state when it pauses.\n",
    "memory = InMemorySaver()\n",
    "\n",
    "# Create the graph builder.\n",
    "builder = StateGraph(WorkflowState)\n",
    "\n",
    "# Add the functions as nodes to the graph.\n",
    "builder.add_node('get_approval', get_approval)\n",
    "builder.add_node('router', router)\n",
    "builder.add_node('complete_task', complete_task)\n",
    "builder.add_node('cancel_task', cancel_task)\n",
    "\n",
    "# Define the graph's structure (its edges).\n",
    "builder.add_edge(START, 'get_approval')\n",
    "builder.add_edge('get_approval', 'router')\n",
    "# Add conditional edges from the router node. \n",
    "builder.add_conditional_edges(\n",
    "    'router',\n",
    "    router,  # Your router function, which would return the next node name as a string (e.g., 'complete_task' or 'cancel_task')\n",
    "    {'complete_task': 'complete_task', 'cancel_task': 'cancel_task'}  # Map of possible returns to nodes\n",
    ")\n",
    "# NOTE: We do NOT need to add conditional edges from the 'router' node.\n",
    "# The 'Command' object returned by the router handles the routing dynamically.\n",
    "\n",
    "builder.add_edge('complete_task', END)\n",
    "builder.add_edge('cancel_task', END)\n",
    "\n",
    "# Compile the graph, enabling the checkpointer.\n",
    "graph = builder.compile(checkpointer=memory)\n",
    "\n",
    "# The complete_task and cancel_task nodes appear disconnected in the visualization because their connection to the graph is dynamic, not static. The routing decision is made at runtime by the router node using the Command object.\n",
    "\n",
    "# You can visualize the graph structure.\n",
    "# Notice the router doesn't have explicit paths leading out of it.\n",
    "try:\n",
    "    display(Image(graph.get_graph().draw_mermaid_png()))\n",
    "    # print(graph.get_graph().draw_mermaid())\n",
    "except Exception as e:\n",
    "    print(f'Could not display graph: {e}')"
   ]
  },
  {
   "cell_type": "markdown",
   "metadata": {},
   "source": [
    "## Workflow Execution - Approval Scenario\n",
    "\n",
    "Let's test our workflow with both approval and rejection scenarios. Each run uses a separate thread to maintain independent state.\n",
    "\n",
    "### Run 1: Approving the Task\n",
    "This demonstrates the complete approval workflow:"
   ]
  },
  {
   "cell_type": "code",
   "execution_count": 18,
   "metadata": {},
   "outputs": [
    {
     "data": {
      "text/html": [
       "<pre style=\"white-space:pre;overflow-x:auto;line-height:normal;font-family:Menlo,'DejaVu Sans Mono',consolas,'Courier New',monospace\">\n",
       "==================================================\n",
       "🚀 STARTING RUN <span style=\"color: #008080; text-decoration-color: #008080; font-weight: bold\">1</span>: APPROVAL\n",
       "==================================================\n",
       "</pre>\n"
      ],
      "text/plain": [
       "\n",
       "==================================================\n",
       "🚀 STARTING RUN \u001b[1;36m1\u001b[0m: APPROVAL\n",
       "==================================================\n"
      ]
     },
     "metadata": {},
     "output_type": "display_data"
    },
    {
     "data": {
      "text/html": [
       "<pre style=\"white-space:pre;overflow-x:auto;line-height:normal;font-family:Menlo,'DejaVu Sans Mono',consolas,'Courier New',monospace\">\n",
       "<span style=\"font-weight: bold\">[</span>STREAM EVENT<span style=\"font-weight: bold\">]</span>:\n",
       "<span style=\"font-weight: bold\">{</span><span style=\"color: #008000; text-decoration-color: #008000\">'task'</span>: <span style=\"color: #008000; text-decoration-color: #008000\">'Deploy new feature to production'</span><span style=\"font-weight: bold\">}</span>\n",
       "\n",
       "</pre>\n"
      ],
      "text/plain": [
       "\n",
       "\u001b[1m[\u001b[0mSTREAM EVENT\u001b[1m]\u001b[0m:\n",
       "\u001b[1m{\u001b[0m\u001b[32m'task'\u001b[0m: \u001b[32m'Deploy new feature to production'\u001b[0m\u001b[1m}\u001b[0m\n",
       "\n"
      ]
     },
     "metadata": {},
     "output_type": "display_data"
    },
    {
     "data": {
      "text/html": [
       "<pre style=\"white-space:pre;overflow-x:auto;line-height:normal;font-family:Menlo,'DejaVu Sans Mono',consolas,'Courier New',monospace\">--- ⏸️ PAUSING FOR APPROVAL ---\n",
       "</pre>\n"
      ],
      "text/plain": [
       "--- ⏸️ PAUSING FOR APPROVAL ---\n"
      ]
     },
     "metadata": {},
     "output_type": "display_data"
    },
    {
     "data": {
      "text/html": [
       "<pre style=\"white-space:pre;overflow-x:auto;line-height:normal;font-family:Menlo,'DejaVu Sans Mono',consolas,'Courier New',monospace\">Task: <span style=\"color: #008000; text-decoration-color: #008000\">'Deploy new feature to production'</span>\n",
       "</pre>\n"
      ],
      "text/plain": [
       "Task: \u001b[32m'Deploy new feature to production'\u001b[0m\n"
      ]
     },
     "metadata": {},
     "output_type": "display_data"
    },
    {
     "data": {
      "text/html": [
       "<pre style=\"white-space:pre;overflow-x:auto;line-height:normal;font-family:Menlo,'DejaVu Sans Mono',consolas,'Courier New',monospace\">\n",
       "<span style=\"color: #808000; text-decoration-color: #808000\">...</span> Resuming Run <span style=\"color: #008080; text-decoration-color: #008080; font-weight: bold\">1</span> with <span style=\"color: #008000; text-decoration-color: #008000\">'approve'</span> <span style=\"color: #808000; text-decoration-color: #808000\">...</span>\n",
       "\n",
       "</pre>\n"
      ],
      "text/plain": [
       "\n",
       "\u001b[33m...\u001b[0m Resuming Run \u001b[1;36m1\u001b[0m with \u001b[32m'approve'\u001b[0m \u001b[33m...\u001b[0m\n",
       "\n"
      ]
     },
     "metadata": {},
     "output_type": "display_data"
    },
    {
     "data": {
      "text/html": [
       "<pre style=\"white-space:pre;overflow-x:auto;line-height:normal;font-family:Menlo,'DejaVu Sans Mono',consolas,'Courier New',monospace\">\n",
       "<span style=\"font-weight: bold\">[</span>STREAM EVENT<span style=\"font-weight: bold\">]</span>:\n",
       "<span style=\"font-weight: bold\">{</span><span style=\"color: #008000; text-decoration-color: #008000\">'task'</span>: <span style=\"color: #008000; text-decoration-color: #008000\">'Deploy new feature to production'</span>, <span style=\"color: #008000; text-decoration-color: #008000\">'user_decision'</span>: <span style=\"color: #008000; text-decoration-color: #008000\">'approve'</span><span style=\"font-weight: bold\">}</span>\n",
       "\n",
       "</pre>\n"
      ],
      "text/plain": [
       "\n",
       "\u001b[1m[\u001b[0mSTREAM EVENT\u001b[1m]\u001b[0m:\n",
       "\u001b[1m{\u001b[0m\u001b[32m'task'\u001b[0m: \u001b[32m'Deploy new feature to production'\u001b[0m, \u001b[32m'user_decision'\u001b[0m: \u001b[32m'approve'\u001b[0m\u001b[1m}\u001b[0m\n",
       "\n"
      ]
     },
     "metadata": {},
     "output_type": "display_data"
    },
    {
     "data": {
      "text/html": [
       "<pre style=\"white-space:pre;overflow-x:auto;line-height:normal;font-family:Menlo,'DejaVu Sans Mono',consolas,'Courier New',monospace\">--- ⏸️ PAUSING FOR APPROVAL ---\n",
       "</pre>\n"
      ],
      "text/plain": [
       "--- ⏸️ PAUSING FOR APPROVAL ---\n"
      ]
     },
     "metadata": {},
     "output_type": "display_data"
    },
    {
     "data": {
      "text/html": [
       "<pre style=\"white-space:pre;overflow-x:auto;line-height:normal;font-family:Menlo,'DejaVu Sans Mono',consolas,'Courier New',monospace\">Task: <span style=\"color: #008000; text-decoration-color: #008000\">'Deploy new feature to production'</span>\n",
       "</pre>\n"
      ],
      "text/plain": [
       "Task: \u001b[32m'Deploy new feature to production'\u001b[0m\n"
      ]
     },
     "metadata": {},
     "output_type": "display_data"
    }
   ],
   "source": [
    "########################## 4. Graph Execution & Interaction ##########################\n",
    "\n",
    "# --- Run 1: Approve the task ---\n",
    "print('\\n' + '=' * 50 + '\\n🚀 STARTING RUN 1: APPROVAL\\n' + '=' * 50)\n",
    "\n",
    "# A 'thread_id' is needed to track the state of a single run.\n",
    "thread = {'configurable': {'thread_id': 'run-1'}}\n",
    "initial_task = {'task': 'Deploy new feature to production'}\n",
    "\n",
    "# Start the graph. It will run until it hits the 'interrupt' in the 'get_approval' node.\n",
    "# We use 'stream' to see the events as they happen.\n",
    "for event in graph.stream(initial_task, thread, stream_mode='values'):\n",
    "    print(f'\\n[STREAM EVENT]:\\n{event}\\n')\n",
    "\n",
    "# At this point, the graph is paused. Let's resume it with the user's decision.\n",
    "# For conditional edges approach, we update the state with the interrupt value\n",
    "print(\"\\n... Resuming Run 1 with 'approve' ...\\n\")\n",
    "graph.update_state(thread, {'user_decision': 'approve'})\n",
    "for event in graph.stream(None, thread, stream_mode='values'):\n",
    "    print(f'\\n[STREAM EVENT]:\\n{event}\\n')"
   ]
  },
  {
   "cell_type": "markdown",
   "metadata": {},
   "source": [
    "## Workflow Execution - Rejection Scenario\n",
    "\n",
    "### Run 2: Rejecting the Task\n",
    "This demonstrates the rejection workflow path:"
   ]
  },
  {
   "cell_type": "code",
   "execution_count": 22,
   "id": "bdff15dd-3b4d-4d1b-ad94-08d3bd7dcd69",
   "metadata": {},
   "outputs": [
    {
     "data": {
      "text/html": [
       "<pre style=\"white-space:pre;overflow-x:auto;line-height:normal;font-family:Menlo,'DejaVu Sans Mono',consolas,'Courier New',monospace\">\n",
       "==================================================\n",
       "🚀 STARTING RUN <span style=\"color: #008080; text-decoration-color: #008080; font-weight: bold\">2</span>: REJECTION\n",
       "==================================================\n",
       "</pre>\n"
      ],
      "text/plain": [
       "\n",
       "==================================================\n",
       "🚀 STARTING RUN \u001b[1;36m2\u001b[0m: REJECTION\n",
       "==================================================\n"
      ]
     },
     "metadata": {},
     "output_type": "display_data"
    },
    {
     "data": {
      "text/html": [
       "<pre style=\"white-space:pre;overflow-x:auto;line-height:normal;font-family:Menlo,'DejaVu Sans Mono',consolas,'Courier New',monospace\">\n",
       "<span style=\"font-weight: bold\">[</span>STREAM EVENT<span style=\"font-weight: bold\">]</span>:\n",
       "<span style=\"font-weight: bold\">{</span><span style=\"color: #008000; text-decoration-color: #008000\">'task'</span>: <span style=\"color: #008000; text-decoration-color: #008000\">'Deploy new feature to production'</span>, <span style=\"color: #008000; text-decoration-color: #008000\">'user_decision'</span>: <span style=\"color: #008000; text-decoration-color: #008000\">'reject'</span><span style=\"font-weight: bold\">}</span>\n",
       "\n",
       "</pre>\n"
      ],
      "text/plain": [
       "\n",
       "\u001b[1m[\u001b[0mSTREAM EVENT\u001b[1m]\u001b[0m:\n",
       "\u001b[1m{\u001b[0m\u001b[32m'task'\u001b[0m: \u001b[32m'Deploy new feature to production'\u001b[0m, \u001b[32m'user_decision'\u001b[0m: \u001b[32m'reject'\u001b[0m\u001b[1m}\u001b[0m\n",
       "\n"
      ]
     },
     "metadata": {},
     "output_type": "display_data"
    },
    {
     "data": {
      "text/html": [
       "<pre style=\"white-space:pre;overflow-x:auto;line-height:normal;font-family:Menlo,'DejaVu Sans Mono',consolas,'Courier New',monospace\">--- ⏸️ PAUSING FOR APPROVAL ---\n",
       "</pre>\n"
      ],
      "text/plain": [
       "--- ⏸️ PAUSING FOR APPROVAL ---\n"
      ]
     },
     "metadata": {},
     "output_type": "display_data"
    },
    {
     "data": {
      "text/html": [
       "<pre style=\"white-space:pre;overflow-x:auto;line-height:normal;font-family:Menlo,'DejaVu Sans Mono',consolas,'Courier New',monospace\">Task: <span style=\"color: #008000; text-decoration-color: #008000\">'Deploy new feature to production'</span>\n",
       "</pre>\n"
      ],
      "text/plain": [
       "Task: \u001b[32m'Deploy new feature to production'\u001b[0m\n"
      ]
     },
     "metadata": {},
     "output_type": "display_data"
    },
    {
     "data": {
      "text/html": [
       "<pre style=\"white-space:pre;overflow-x:auto;line-height:normal;font-family:Menlo,'DejaVu Sans Mono',consolas,'Courier New',monospace\">\n",
       "<span style=\"color: #808000; text-decoration-color: #808000\">...</span> Resuming Run <span style=\"color: #008080; text-decoration-color: #008080; font-weight: bold\">2</span> with <span style=\"color: #008000; text-decoration-color: #008000\">'reject'</span> <span style=\"color: #808000; text-decoration-color: #808000\">...</span>\n",
       "\n",
       "</pre>\n"
      ],
      "text/plain": [
       "\n",
       "\u001b[33m...\u001b[0m Resuming Run \u001b[1;36m2\u001b[0m with \u001b[32m'reject'\u001b[0m \u001b[33m...\u001b[0m\n",
       "\n"
      ]
     },
     "metadata": {},
     "output_type": "display_data"
    },
    {
     "data": {
      "text/html": [
       "<pre style=\"white-space:pre;overflow-x:auto;line-height:normal;font-family:Menlo,'DejaVu Sans Mono',consolas,'Courier New',monospace\">\n",
       "<span style=\"font-weight: bold\">[</span>STREAM EVENT<span style=\"font-weight: bold\">]</span>:\n",
       "<span style=\"font-weight: bold\">{</span><span style=\"color: #008000; text-decoration-color: #008000\">'task'</span>: <span style=\"color: #008000; text-decoration-color: #008000\">'Deploy new feature to production'</span>, <span style=\"color: #008000; text-decoration-color: #008000\">'user_decision'</span>: <span style=\"color: #008000; text-decoration-color: #008000\">'reject'</span><span style=\"font-weight: bold\">}</span>\n",
       "\n",
       "</pre>\n"
      ],
      "text/plain": [
       "\n",
       "\u001b[1m[\u001b[0mSTREAM EVENT\u001b[1m]\u001b[0m:\n",
       "\u001b[1m{\u001b[0m\u001b[32m'task'\u001b[0m: \u001b[32m'Deploy new feature to production'\u001b[0m, \u001b[32m'user_decision'\u001b[0m: \u001b[32m'reject'\u001b[0m\u001b[1m}\u001b[0m\n",
       "\n"
      ]
     },
     "metadata": {},
     "output_type": "display_data"
    },
    {
     "data": {
      "text/html": [
       "<pre style=\"white-space:pre;overflow-x:auto;line-height:normal;font-family:Menlo,'DejaVu Sans Mono',consolas,'Courier New',monospace\">--- ⏸️ PAUSING FOR APPROVAL ---\n",
       "</pre>\n"
      ],
      "text/plain": [
       "--- ⏸️ PAUSING FOR APPROVAL ---\n"
      ]
     },
     "metadata": {},
     "output_type": "display_data"
    },
    {
     "data": {
      "text/html": [
       "<pre style=\"white-space:pre;overflow-x:auto;line-height:normal;font-family:Menlo,'DejaVu Sans Mono',consolas,'Courier New',monospace\">Task: <span style=\"color: #008000; text-decoration-color: #008000\">'Deploy new feature to production'</span>\n",
       "</pre>\n"
      ],
      "text/plain": [
       "Task: \u001b[32m'Deploy new feature to production'\u001b[0m\n"
      ]
     },
     "metadata": {},
     "output_type": "display_data"
    }
   ],
   "source": [
    "# --- Run 2: Reject the task ---\n",
    "print('\\n' + '=' * 50 + '\\n🚀 STARTING RUN 2: REJECTION\\n' + '=' * 50)\n",
    "\n",
    "# Use a new thread_id for the second, independent run.\n",
    "thread2 = {'configurable': {'thread_id': 'run-2'}}\n",
    "\n",
    "# Start the second run.\n",
    "for event in graph.stream(initial_task, thread2, stream_mode='values'):\n",
    "    print(f'\\n[STREAM EVENT]:\\n{event}\\n')\n",
    "\n",
    "# Resume the second run, but this time with a 'reject' decision.\n",
    "print(\"\\n... Resuming Run 2 with 'reject' ...\\n\")\n",
    "graph.update_state(thread2, {'user_decision': 'reject'})\n",
    "for event in graph.stream(None, thread2, stream_mode='values'):\n",
    "    print(f'\\n[STREAM EVENT]:\\n{event}\\n')"
   ]
  },
  {
   "cell_type": "markdown",
   "metadata": {},
   "source": []
  }
 ],
 "metadata": {
  "kernelspec": {
   "display_name": "py312",
   "language": "python",
   "name": "python3"
  },
  "language_info": {
   "codemirror_mode": {
    "name": "ipython",
    "version": 3
   },
   "file_extension": ".py",
   "mimetype": "text/x-python",
   "name": "python",
   "nbconvert_exporter": "python",
   "pygments_lexer": "ipython3",
   "version": "3.12.11"
  }
 },
 "nbformat": 4,
 "nbformat_minor": 2
}
