{
 "cells": [
  {
   "cell_type": "markdown",
   "metadata": {},
   "source": [
    "# Multi-Agent System with LangGraph\n",
    "In multi-agent systems, agents interact through handoffs, a mechanism that determines which agent receives control and what data is transferred to them.\n",
    "\n",
    "Popular multi-agent architectures include:\n",
    "\n",
    "-  **Supervisor:** A central supervisor agent oversees individual agents, managing all communication and task delegation. It decides which agent to activate based on the current context and task needs.\n",
    "-  **Swarm:** Agents dynamically transfer control to one another based on their expertise. The system tracks the last active agent to ensure subsequent interactions continue with that agent.\n",
    "\n",
    "**Overview of the `multi_agent_prebuilt.py` script:**\n",
    "\n",
    "This script showcases three distinct approaches to building multi-agent systems:\n",
    "1. **Supervisor Pattern:** A central supervisor agent assigns tasks to specialized agents.\n",
    "2. **Swarm Pattern:** Agents directly pass tasks to each other as needed.\n",
    "3. **Custom Handoffs:** A detailed implementation of task handoffs between agents."
   ]
  },
  {
   "cell_type": "code",
   "execution_count": 95,
   "metadata": {},
   "outputs": [
    {
     "data": {
      "text/plain": [
       "True"
      ]
     },
     "execution_count": 95,
     "metadata": {},
     "output_type": "execute_result"
    }
   ],
   "source": [
    "# Import the os module to interact with the operating system, used here for environment variables.\n",
    "import os\n",
    "from dotenv import load_dotenv\n",
    "from rich import print\n",
    "from langchain_openai import ChatOpenAI\n",
    "from langgraph.prebuilt import create_react_agent\n",
    "from langgraph_supervisor import create_supervisor\n",
    "from IPython.display import Image, display\n",
    "\n",
    "load_dotenv()"
   ]
  },
  {
   "cell_type": "markdown",
   "metadata": {},
   "source": [
    "## Section 1: Supervisor Multi-Agent System\n",
    "\n",
    "This example demonstrates a supervisor-worker architecture. A `supervisor` agent receives a user request and routes it to the appropriate specialized agent (`flight_assistant` or `hotel_assistant`).\n",
    "\n",
    "**Code Logic:**\n",
    "1.  **Tool Definition:** Simple functions `book_hotel` and `book_flight` are defined as tools for the agents.\n",
    "2.  **Agent Creation:** Two `create_react_agent` instances are created. Each agent is specialized for a single task (booking flights or hotels) and is given access to the relevant tool.\n",
    "3.  **Supervisor Creation:** `create_supervisor` is used to create a managing agent that orchestrates the two specialized agents.\n",
    "4.  **Execution:** The system is run by streaming a user request through the compiled supervisor graph."
   ]
  },
  {
   "cell_type": "code",
   "execution_count": 90,
   "metadata": {},
   "outputs": [],
   "source": [
    "# Define a tool function for booking a hotel.\n",
    "# It takes the hotel name as input and returns a confirmation message.\n",
    "def book_hotel(hotel_name: str):\n",
    "    \"\"\"Book a hotel\"\"\"\n",
    "    # This is a mock function; in a real application, this would\n",
    "    # interact with a hotel booking API.\n",
    "    return f'Successfully booked a stay at {hotel_name}.'\n",
    "\n",
    "\n",
    "# Define a tool function for booking a flight.\n",
    "# It takes departure and arrival airports and returns a confirmation.\n",
    "def book_flight(from_airport: str, to_airport: str):\n",
    "    \"\"\"Book a flight\"\"\"\n",
    "    # This is a mock function; in a real application, this would\n",
    "    # interact with a flight booking API.\n",
    "    return f'Successfully booked a flight from {from_airport} to {to_airport}.'"
   ]
  },
  {
   "cell_type": "code",
   "execution_count": 91,
   "metadata": {},
   "outputs": [],
   "source": [
    "# Create the first specialized agent for booking flights.\n",
    "# The create_react_agent function initializes an agent that can reason and act.\n",
    "flight_assistant = create_react_agent(\n",
    "    # The language model that powers the agent's reasoning.\n",
    "    model=ChatOpenAI(model='gpt-4o-mini', max_tokens=500),\n",
    "    # The list of tools the agent can use. This agent can only book flights.\n",
    "    tools=[book_flight],\n",
    "    # The system prompt that defines the agent's role and personality.\n",
    "    prompt='You are a flight booking assistant. Help users book flights.',\n",
    "    # A unique name for the agent, used for routing and identification.\n",
    "    name='flight_assistant',\n",
    ")\n",
    "\n",
    "\n",
    "# Create the second specialized agent for booking hotels.\n",
    "hotel_assistant = create_react_agent(\n",
    "    model=ChatOpenAI(model='gpt-4o-mini', max_tokens=500),\n",
    "    # This agent can only use the book_hotel tool.\n",
    "    tools=[book_hotel],\n",
    "    # The specific prompt for the hotel assistant.\n",
    "    prompt='You are a hotel booking assistant. Help users book hotels.',\n",
    "    # A unique name for the hotel agent.\n",
    "    name='hotel_assistant',\n",
    ")"
   ]
  },
  {
   "cell_type": "code",
   "execution_count": 92,
   "metadata": {},
   "outputs": [],
   "source": [
    "# Create the supervisor agent that will manage the specialized agents.\n",
    "# The create_supervisor function wires together the agents and a routing mechanism.\n",
    "from litellm import max_tokens\n",
    "\n",
    "\n",
    "supervisor = create_supervisor(\n",
    "    # A list of the worker agents that the supervisor can delegate tasks to.\n",
    "    agents=[flight_assistant, hotel_assistant],\n",
    "    # The language model for the supervisor's decision-making.\n",
    "    model=ChatOpenAI(model='gpt-4o-mini', max_tokens=500),\n",
    "    # The system prompt for the supervisor, defining its role as a manager.\n",
    "    prompt='You manage hotel and flight booking assistants. Assign work to them.',\n",
    "    # Compile the supervisor graph into a runnable LangGraph object.\n",
    ").compile()"
   ]
  },
  {
   "cell_type": "code",
   "execution_count": null,
   "metadata": {},
   "outputs": [
    {
     "data": {
      "text/html": [
       "<pre style=\"white-space:pre;overflow-x:auto;line-height:normal;font-family:Menlo,'DejaVu Sans Mono',consolas,'Courier New',monospace\">Subgraph structure:\n",
       "</pre>\n"
      ],
      "text/plain": [
       "Subgraph structure:\n"
      ]
     },
     "metadata": {},
     "output_type": "display_data"
    },
    {
     "data": {
      "image/png": "[encoded data removed]",
      "text/plain": [
       "<IPython.core.display.Image object>"
      ]
     },
     "metadata": {},
     "output_type": "display_data"
    }
   ],
   "source": [
    "# Print a header to indicate that the graph structure is being displayed.\n",
    "print('Subgraph structure:')\n",
    "try:\n",
    "    display(Image(supervisor.get_graph().draw_mermaid_png()))\n",
    "except Exception:\n",
    "    pass"
   ]
  },
  {
   "cell_type": "code",
   "execution_count": null,
   "metadata": {},
   "outputs": [
    {
     "data": {
      "text/html": [
       "<pre style=\"white-space:pre;overflow-x:auto;line-height:normal;font-family:Menlo,'DejaVu Sans Mono',consolas,'Courier New',monospace\">=== SUPERVISOR EXAMPLE ===\n",
       "</pre>\n"
      ],
      "text/plain": [
       "=== SUPERVISOR EXAMPLE ===\n"
      ]
     },
     "metadata": {},
     "output_type": "display_data"
    },
    {
     "name": "stdout",
     "output_type": "stream",
     "text": [
      "\u001b[1m[values]\u001b[0m {'messages': [HumanMessage(content='Book a flight from LAX to NYC', additional_kwargs={}, response_metadata={}, id='169d8f84-b155-46a2-bed3-cae573369f17')]}\n",
      "\u001b[1m[updates]\u001b[0m {'supervisor': {'messages': [HumanMessage(content='Book a flight from LAX to NYC', additional_kwargs={}, response_metadata={}, id='169d8f84-b155-46a2-bed3-cae573369f17'), AIMessage(content='', additional_kwargs={'tool_calls': [{'id': 'call_lXIlVAmPbCkVc5Agk4jrfXi9', 'function': {'arguments': '{}', 'name': 'transfer_to_flight_assistant'}, 'type': 'function'}], 'refusal': None}, response_metadata={'token_usage': {'completion_tokens': 14, 'prompt_tokens': 88, 'total_tokens': 102, 'completion_tokens_details': {'accepted_prediction_tokens': 0, 'audio_tokens': 0, 'reasoning_tokens': 0, 'rejected_prediction_tokens': 0}, 'prompt_tokens_details': {'audio_tokens': 0, 'cached_tokens': 0}}, 'model_name': 'gpt-4o-mini-2024-07-18', 'system_fingerprint': 'fp_8bda4d3a2c', 'id': 'chatcmpl-CCbk61D3QXfmMceHiZIMveuvrqbaF', 'service_tier': 'default', 'finish_reason': 'tool_calls', 'logprobs': None}, name='supervisor', id='run--d298bbd2-5f26-4c86-9bb2-34e8d66c813b-0', tool_calls=[{'name': 'transfer_to_flight_assistant', 'args': {}, 'id': 'call_lXIlVAmPbCkVc5Agk4jrfXi9', 'type': 'tool_call'}], usage_metadata={'input_tokens': 88, 'output_tokens': 14, 'total_tokens': 102, 'input_token_details': {'audio': 0, 'cache_read': 0}, 'output_token_details': {'audio': 0, 'reasoning': 0}}), ToolMessage(content='Successfully transferred to flight_assistant', name='transfer_to_flight_assistant', id='6ff35518-d7c2-42c4-a7ae-7a350459c6e7', tool_call_id='call_lXIlVAmPbCkVc5Agk4jrfXi9')]}}\n"
     ]
    },
    {
     "data": {
      "text/html": [
       "<pre style=\"white-space:pre;overflow-x:auto;line-height:normal;font-family:Menlo,'DejaVu Sans Mono',consolas,'Courier New',monospace\">------------------------------------------------------------\n",
       "</pre>\n"
      ],
      "text/plain": [
       "------------------------------------------------------------\n"
      ]
     },
     "metadata": {},
     "output_type": "display_data"
    },
    {
     "data": {
      "text/html": [
       "<pre style=\"white-space:pre;overflow-x:auto;line-height:normal;font-family:Menlo,'DejaVu Sans Mono',consolas,'Courier New',monospace\">Chunk: <span style=\"font-weight: bold\">{</span><span style=\"color: #008000; text-decoration-color: #008000\">'supervisor'</span>: <span style=\"font-weight: bold\">{</span><span style=\"color: #008000; text-decoration-color: #008000\">'messages'</span>: <span style=\"font-weight: bold\">[</span><span style=\"color: #800080; text-decoration-color: #800080; font-weight: bold\">HumanMessage</span><span style=\"font-weight: bold\">(</span><span style=\"color: #808000; text-decoration-color: #808000\">content</span>=<span style=\"color: #008000; text-decoration-color: #008000\">'Book a flight from LAX to NYC'</span>, <span style=\"color: #808000; text-decoration-color: #808000\">additional_kwargs</span>=<span style=\"font-weight: bold\">{}</span>, \n",
       "<span style=\"color: #808000; text-decoration-color: #808000\">response_metadata</span>=<span style=\"font-weight: bold\">{}</span>, <span style=\"color: #808000; text-decoration-color: #808000\">id</span>=<span style=\"color: #008000; text-decoration-color: #008000\">'169d8f84-b155-46a2-bed3-cae573369f17'</span><span style=\"font-weight: bold\">)</span>, <span style=\"color: #800080; text-decoration-color: #800080; font-weight: bold\">AIMessage</span><span style=\"font-weight: bold\">(</span><span style=\"color: #808000; text-decoration-color: #808000\">content</span>=<span style=\"color: #008000; text-decoration-color: #008000\">''</span>, \n",
       "<span style=\"color: #808000; text-decoration-color: #808000\">additional_kwargs</span>=<span style=\"font-weight: bold\">{</span><span style=\"color: #008000; text-decoration-color: #008000\">'tool_calls'</span>: <span style=\"font-weight: bold\">[{</span><span style=\"color: #008000; text-decoration-color: #008000\">'id'</span>: <span style=\"color: #008000; text-decoration-color: #008000\">'call_lXIlVAmPbCkVc5Agk4jrfXi9'</span>, <span style=\"color: #008000; text-decoration-color: #008000\">'function'</span>: <span style=\"font-weight: bold\">{</span><span style=\"color: #008000; text-decoration-color: #008000\">'arguments'</span>: <span style=\"color: #008000; text-decoration-color: #008000\">'{}'</span>, <span style=\"color: #008000; text-decoration-color: #008000\">'name'</span>: \n",
       "<span style=\"color: #008000; text-decoration-color: #008000\">'transfer_to_flight_assistant'</span><span style=\"font-weight: bold\">}</span>, <span style=\"color: #008000; text-decoration-color: #008000\">'type'</span>: <span style=\"color: #008000; text-decoration-color: #008000\">'function'</span><span style=\"font-weight: bold\">}]</span>, <span style=\"color: #008000; text-decoration-color: #008000\">'refusal'</span>: <span style=\"color: #800080; text-decoration-color: #800080; font-style: italic\">None</span><span style=\"font-weight: bold\">}</span>, <span style=\"color: #808000; text-decoration-color: #808000\">response_metadata</span>=<span style=\"font-weight: bold\">{</span><span style=\"color: #008000; text-decoration-color: #008000\">'token_usage'</span>: \n",
       "<span style=\"font-weight: bold\">{</span><span style=\"color: #008000; text-decoration-color: #008000\">'completion_tokens'</span>: <span style=\"color: #008080; text-decoration-color: #008080; font-weight: bold\">14</span>, <span style=\"color: #008000; text-decoration-color: #008000\">'prompt_tokens'</span>: <span style=\"color: #008080; text-decoration-color: #008080; font-weight: bold\">88</span>, <span style=\"color: #008000; text-decoration-color: #008000\">'total_tokens'</span>: <span style=\"color: #008080; text-decoration-color: #008080; font-weight: bold\">102</span>, <span style=\"color: #008000; text-decoration-color: #008000\">'completion_tokens_details'</span>: \n",
       "<span style=\"font-weight: bold\">{</span><span style=\"color: #008000; text-decoration-color: #008000\">'accepted_prediction_tokens'</span>: <span style=\"color: #008080; text-decoration-color: #008080; font-weight: bold\">0</span>, <span style=\"color: #008000; text-decoration-color: #008000\">'audio_tokens'</span>: <span style=\"color: #008080; text-decoration-color: #008080; font-weight: bold\">0</span>, <span style=\"color: #008000; text-decoration-color: #008000\">'reasoning_tokens'</span>: <span style=\"color: #008080; text-decoration-color: #008080; font-weight: bold\">0</span>, <span style=\"color: #008000; text-decoration-color: #008000\">'rejected_prediction_tokens'</span>: <span style=\"color: #008080; text-decoration-color: #008080; font-weight: bold\">0</span><span style=\"font-weight: bold\">}</span>, \n",
       "<span style=\"color: #008000; text-decoration-color: #008000\">'prompt_tokens_details'</span>: <span style=\"font-weight: bold\">{</span><span style=\"color: #008000; text-decoration-color: #008000\">'audio_tokens'</span>: <span style=\"color: #008080; text-decoration-color: #008080; font-weight: bold\">0</span>, <span style=\"color: #008000; text-decoration-color: #008000\">'cached_tokens'</span>: <span style=\"color: #008080; text-decoration-color: #008080; font-weight: bold\">0</span><span style=\"font-weight: bold\">}}</span>, <span style=\"color: #008000; text-decoration-color: #008000\">'model_name'</span>: <span style=\"color: #008000; text-decoration-color: #008000\">'gpt-4o-mini-2024-07-18'</span>, \n",
       "<span style=\"color: #008000; text-decoration-color: #008000\">'system_fingerprint'</span>: <span style=\"color: #008000; text-decoration-color: #008000\">'fp_8bda4d3a2c'</span>, <span style=\"color: #008000; text-decoration-color: #008000\">'id'</span>: <span style=\"color: #008000; text-decoration-color: #008000\">'chatcmpl-CCbk61D3QXfmMceHiZIMveuvrqbaF'</span>, <span style=\"color: #008000; text-decoration-color: #008000\">'service_tier'</span>: <span style=\"color: #008000; text-decoration-color: #008000\">'default'</span>, \n",
       "<span style=\"color: #008000; text-decoration-color: #008000\">'finish_reason'</span>: <span style=\"color: #008000; text-decoration-color: #008000\">'tool_calls'</span>, <span style=\"color: #008000; text-decoration-color: #008000\">'logprobs'</span>: <span style=\"color: #800080; text-decoration-color: #800080; font-style: italic\">None</span><span style=\"font-weight: bold\">}</span>, <span style=\"color: #808000; text-decoration-color: #808000\">name</span>=<span style=\"color: #008000; text-decoration-color: #008000\">'supervisor'</span>, \n",
       "<span style=\"color: #808000; text-decoration-color: #808000\">id</span>=<span style=\"color: #008000; text-decoration-color: #008000\">'run--d298bbd2-5f26-4c86-9bb2-34e8d66c813b-0'</span>, <span style=\"color: #808000; text-decoration-color: #808000\">tool_calls</span>=<span style=\"font-weight: bold\">[{</span><span style=\"color: #008000; text-decoration-color: #008000\">'name'</span>: <span style=\"color: #008000; text-decoration-color: #008000\">'transfer_to_flight_assistant'</span>, <span style=\"color: #008000; text-decoration-color: #008000\">'args'</span>: <span style=\"font-weight: bold\">{}</span>, \n",
       "<span style=\"color: #008000; text-decoration-color: #008000\">'id'</span>: <span style=\"color: #008000; text-decoration-color: #008000\">'call_lXIlVAmPbCkVc5Agk4jrfXi9'</span>, <span style=\"color: #008000; text-decoration-color: #008000\">'type'</span>: <span style=\"color: #008000; text-decoration-color: #008000\">'tool_call'</span><span style=\"font-weight: bold\">}]</span>, <span style=\"color: #808000; text-decoration-color: #808000\">usage_metadata</span>=<span style=\"font-weight: bold\">{</span><span style=\"color: #008000; text-decoration-color: #008000\">'input_tokens'</span>: <span style=\"color: #008080; text-decoration-color: #008080; font-weight: bold\">88</span>, <span style=\"color: #008000; text-decoration-color: #008000\">'output_tokens'</span>: \n",
       "<span style=\"color: #008080; text-decoration-color: #008080; font-weight: bold\">14</span>, <span style=\"color: #008000; text-decoration-color: #008000\">'total_tokens'</span>: <span style=\"color: #008080; text-decoration-color: #008080; font-weight: bold\">102</span>, <span style=\"color: #008000; text-decoration-color: #008000\">'input_token_details'</span>: <span style=\"font-weight: bold\">{</span><span style=\"color: #008000; text-decoration-color: #008000\">'audio'</span>: <span style=\"color: #008080; text-decoration-color: #008080; font-weight: bold\">0</span>, <span style=\"color: #008000; text-decoration-color: #008000\">'cache_read'</span>: <span style=\"color: #008080; text-decoration-color: #008080; font-weight: bold\">0</span><span style=\"font-weight: bold\">}</span>, <span style=\"color: #008000; text-decoration-color: #008000\">'output_token_details'</span>: <span style=\"font-weight: bold\">{</span><span style=\"color: #008000; text-decoration-color: #008000\">'audio'</span>: <span style=\"color: #008080; text-decoration-color: #008080; font-weight: bold\">0</span>,\n",
       "<span style=\"color: #008000; text-decoration-color: #008000\">'reasoning'</span>: <span style=\"color: #008080; text-decoration-color: #008080; font-weight: bold\">0</span><span style=\"font-weight: bold\">}})</span>, <span style=\"color: #800080; text-decoration-color: #800080; font-weight: bold\">ToolMessage</span><span style=\"font-weight: bold\">(</span><span style=\"color: #808000; text-decoration-color: #808000\">content</span>=<span style=\"color: #008000; text-decoration-color: #008000\">'Successfully transferred to flight_assistant'</span>, \n",
       "<span style=\"color: #808000; text-decoration-color: #808000\">name</span>=<span style=\"color: #008000; text-decoration-color: #008000\">'transfer_to_flight_assistant'</span>, <span style=\"color: #808000; text-decoration-color: #808000\">id</span>=<span style=\"color: #008000; text-decoration-color: #008000\">'6ff35518-d7c2-42c4-a7ae-7a350459c6e7'</span>, \n",
       "<span style=\"color: #808000; text-decoration-color: #808000\">tool_call_id</span>=<span style=\"color: #008000; text-decoration-color: #008000\">'call_lXIlVAmPbCkVc5Agk4jrfXi9'</span><span style=\"font-weight: bold\">)]}}</span>\n",
       "</pre>\n"
      ],
      "text/plain": [
       "Chunk: \u001b[1m{\u001b[0m\u001b[32m'supervisor'\u001b[0m: \u001b[1m{\u001b[0m\u001b[32m'messages'\u001b[0m: \u001b[1m[\u001b[0m\u001b[1;35mHumanMessage\u001b[0m\u001b[1m(\u001b[0m\u001b[33mcontent\u001b[0m=\u001b[32m'Book a flight from LAX to NYC'\u001b[0m, \u001b[33madditional_kwargs\u001b[0m=\u001b[1m{\u001b[0m\u001b[1m}\u001b[0m, \n",
       "\u001b[33mresponse_metadata\u001b[0m=\u001b[1m{\u001b[0m\u001b[1m}\u001b[0m, \u001b[33mid\u001b[0m=\u001b[32m'169d8f84-b155-46a2-bed3-cae573369f17'\u001b[0m\u001b[1m)\u001b[0m, \u001b[1;35mAIMessage\u001b[0m\u001b[1m(\u001b[0m\u001b[33mcontent\u001b[0m=\u001b[32m''\u001b[0m, \n",
       "\u001b[33madditional_kwargs\u001b[0m=\u001b[1m{\u001b[0m\u001b[32m'tool_calls'\u001b[0m: \u001b[1m[\u001b[0m\u001b[1m{\u001b[0m\u001b[32m'id'\u001b[0m: \u001b[32m'call_lXIlVAmPbCkVc5Agk4jrfXi9'\u001b[0m, \u001b[32m'function'\u001b[0m: \u001b[1m{\u001b[0m\u001b[32m'arguments'\u001b[0m: \u001b[32m'\u001b[0m\u001b[32m{\u001b[0m\u001b[32m}\u001b[0m\u001b[32m'\u001b[0m, \u001b[32m'name'\u001b[0m: \n",
       "\u001b[32m'transfer_to_flight_assistant'\u001b[0m\u001b[1m}\u001b[0m, \u001b[32m'type'\u001b[0m: \u001b[32m'function'\u001b[0m\u001b[1m}\u001b[0m\u001b[1m]\u001b[0m, \u001b[32m'refusal'\u001b[0m: \u001b[3;35mNone\u001b[0m\u001b[1m}\u001b[0m, \u001b[33mresponse_metadata\u001b[0m=\u001b[1m{\u001b[0m\u001b[32m'token_usage'\u001b[0m: \n",
       "\u001b[1m{\u001b[0m\u001b[32m'completion_tokens'\u001b[0m: \u001b[1;36m14\u001b[0m, \u001b[32m'prompt_tokens'\u001b[0m: \u001b[1;36m88\u001b[0m, \u001b[32m'total_tokens'\u001b[0m: \u001b[1;36m102\u001b[0m, \u001b[32m'completion_tokens_details'\u001b[0m: \n",
       "\u001b[1m{\u001b[0m\u001b[32m'accepted_prediction_tokens'\u001b[0m: \u001b[1;36m0\u001b[0m, \u001b[32m'audio_tokens'\u001b[0m: \u001b[1;36m0\u001b[0m, \u001b[32m'reasoning_tokens'\u001b[0m: \u001b[1;36m0\u001b[0m, \u001b[32m'rejected_prediction_tokens'\u001b[0m: \u001b[1;36m0\u001b[0m\u001b[1m}\u001b[0m, \n",
       "\u001b[32m'prompt_tokens_details'\u001b[0m: \u001b[1m{\u001b[0m\u001b[32m'audio_tokens'\u001b[0m: \u001b[1;36m0\u001b[0m, \u001b[32m'cached_tokens'\u001b[0m: \u001b[1;36m0\u001b[0m\u001b[1m}\u001b[0m\u001b[1m}\u001b[0m, \u001b[32m'model_name'\u001b[0m: \u001b[32m'gpt-4o-mini-2024-07-18'\u001b[0m, \n",
       "\u001b[32m'system_fingerprint'\u001b[0m: \u001b[32m'fp_8bda4d3a2c'\u001b[0m, \u001b[32m'id'\u001b[0m: \u001b[32m'chatcmpl-CCbk61D3QXfmMceHiZIMveuvrqbaF'\u001b[0m, \u001b[32m'service_tier'\u001b[0m: \u001b[32m'default'\u001b[0m, \n",
       "\u001b[32m'finish_reason'\u001b[0m: \u001b[32m'tool_calls'\u001b[0m, \u001b[32m'logprobs'\u001b[0m: \u001b[3;35mNone\u001b[0m\u001b[1m}\u001b[0m, \u001b[33mname\u001b[0m=\u001b[32m'supervisor'\u001b[0m, \n",
       "\u001b[33mid\u001b[0m=\u001b[32m'run--d298bbd2-5f26-4c86-9bb2-34e8d66c813b-0'\u001b[0m, \u001b[33mtool_calls\u001b[0m=\u001b[1m[\u001b[0m\u001b[1m{\u001b[0m\u001b[32m'name'\u001b[0m: \u001b[32m'transfer_to_flight_assistant'\u001b[0m, \u001b[32m'args'\u001b[0m: \u001b[1m{\u001b[0m\u001b[1m}\u001b[0m, \n",
       "\u001b[32m'id'\u001b[0m: \u001b[32m'call_lXIlVAmPbCkVc5Agk4jrfXi9'\u001b[0m, \u001b[32m'type'\u001b[0m: \u001b[32m'tool_call'\u001b[0m\u001b[1m}\u001b[0m\u001b[1m]\u001b[0m, \u001b[33musage_metadata\u001b[0m=\u001b[1m{\u001b[0m\u001b[32m'input_tokens'\u001b[0m: \u001b[1;36m88\u001b[0m, \u001b[32m'output_tokens'\u001b[0m: \n",
       "\u001b[1;36m14\u001b[0m, \u001b[32m'total_tokens'\u001b[0m: \u001b[1;36m102\u001b[0m, \u001b[32m'input_token_details'\u001b[0m: \u001b[1m{\u001b[0m\u001b[32m'audio'\u001b[0m: \u001b[1;36m0\u001b[0m, \u001b[32m'cache_read'\u001b[0m: \u001b[1;36m0\u001b[0m\u001b[1m}\u001b[0m, \u001b[32m'output_token_details'\u001b[0m: \u001b[1m{\u001b[0m\u001b[32m'audio'\u001b[0m: \u001b[1;36m0\u001b[0m,\n",
       "\u001b[32m'reasoning'\u001b[0m: \u001b[1;36m0\u001b[0m\u001b[1m}\u001b[0m\u001b[1m}\u001b[0m\u001b[1m)\u001b[0m, \u001b[1;35mToolMessage\u001b[0m\u001b[1m(\u001b[0m\u001b[33mcontent\u001b[0m=\u001b[32m'Successfully transferred to flight_assistant'\u001b[0m, \n",
       "\u001b[33mname\u001b[0m=\u001b[32m'transfer_to_flight_assistant'\u001b[0m, \u001b[33mid\u001b[0m=\u001b[32m'6ff35518-d7c2-42c4-a7ae-7a350459c6e7'\u001b[0m, \n",
       "\u001b[33mtool_call_id\u001b[0m=\u001b[32m'call_lXIlVAmPbCkVc5Agk4jrfXi9'\u001b[0m\u001b[1m)\u001b[0m\u001b[1m]\u001b[0m\u001b[1m}\u001b[0m\u001b[1m}\u001b[0m\n"
      ]
     },
     "metadata": {},
     "output_type": "display_data"
    },
    {
     "name": "stdout",
     "output_type": "stream",
     "text": [
      "\u001b[1m[values]\u001b[0m {'messages': [HumanMessage(content='Book a flight from LAX to NYC', additional_kwargs={}, response_metadata={}, id='169d8f84-b155-46a2-bed3-cae573369f17'), AIMessage(content='', additional_kwargs={'tool_calls': [{'id': 'call_lXIlVAmPbCkVc5Agk4jrfXi9', 'function': {'arguments': '{}', 'name': 'transfer_to_flight_assistant'}, 'type': 'function'}], 'refusal': None}, response_metadata={'token_usage': {'completion_tokens': 14, 'prompt_tokens': 88, 'total_tokens': 102, 'completion_tokens_details': {'accepted_prediction_tokens': 0, 'audio_tokens': 0, 'reasoning_tokens': 0, 'rejected_prediction_tokens': 0}, 'prompt_tokens_details': {'audio_tokens': 0, 'cached_tokens': 0}}, 'model_name': 'gpt-4o-mini-2024-07-18', 'system_fingerprint': 'fp_8bda4d3a2c', 'id': 'chatcmpl-CCbk61D3QXfmMceHiZIMveuvrqbaF', 'service_tier': 'default', 'finish_reason': 'tool_calls', 'logprobs': None}, name='supervisor', id='run--d298bbd2-5f26-4c86-9bb2-34e8d66c813b-0', tool_calls=[{'name': 'transfer_to_flight_assistant', 'args': {}, 'id': 'call_lXIlVAmPbCkVc5Agk4jrfXi9', 'type': 'tool_call'}], usage_metadata={'input_tokens': 88, 'output_tokens': 14, 'total_tokens': 102, 'input_token_details': {'audio': 0, 'cache_read': 0}, 'output_token_details': {'audio': 0, 'reasoning': 0}}), ToolMessage(content='Successfully transferred to flight_assistant', name='transfer_to_flight_assistant', id='6ff35518-d7c2-42c4-a7ae-7a350459c6e7', tool_call_id='call_lXIlVAmPbCkVc5Agk4jrfXi9')]}\n",
      "\u001b[1m[updates]\u001b[0m {'flight_assistant': {'messages': [AIMessage(content='Your flight from LAX to NYC has been successfully booked! If you need any more assistance, feel free to ask.', additional_kwargs={'refusal': None}, response_metadata={'token_usage': {'completion_tokens': 25, 'prompt_tokens': 153, 'total_tokens': 178, 'completion_tokens_details': {'accepted_prediction_tokens': 0, 'audio_tokens': 0, 'reasoning_tokens': 0, 'rejected_prediction_tokens': 0}, 'prompt_tokens_details': {'audio_tokens': 0, 'cached_tokens': 0}}, 'model_name': 'gpt-4o-mini-2024-07-18', 'system_fingerprint': 'fp_8bda4d3a2c', 'id': 'chatcmpl-CCbk8nnmRNVn1wOlXprK0XXXRrPKP', 'service_tier': 'default', 'finish_reason': 'stop', 'logprobs': None}, name='flight_assistant', id='run--25fb4683-aca6-416b-aac3-26dd87e5e04a-0', usage_metadata={'input_tokens': 153, 'output_tokens': 25, 'total_tokens': 178, 'input_token_details': {'audio': 0, 'cache_read': 0}, 'output_token_details': {'audio': 0, 'reasoning': 0}}), AIMessage(content='Transferring back to supervisor', additional_kwargs={}, response_metadata={'__is_handoff_back': True}, name='flight_assistant', id='0e46f95d-ea1f-4b30-bd80-2d6ed4ee4695', tool_calls=[{'name': 'transfer_back_to_supervisor', 'args': {}, 'id': '13a73cf3-5609-47a4-8556-4065490f5091', 'type': 'tool_call'}]), ToolMessage(content='Successfully transferred back to supervisor', name='transfer_back_to_supervisor', id='bb2c2693-0b84-48e0-a377-be757b2a1df1', tool_call_id='13a73cf3-5609-47a4-8556-4065490f5091')]}}\n"
     ]
    },
    {
     "data": {
      "text/html": [
       "<pre style=\"white-space:pre;overflow-x:auto;line-height:normal;font-family:Menlo,'DejaVu Sans Mono',consolas,'Courier New',monospace\">------------------------------------------------------------\n",
       "</pre>\n"
      ],
      "text/plain": [
       "------------------------------------------------------------\n"
      ]
     },
     "metadata": {},
     "output_type": "display_data"
    },
    {
     "data": {
      "text/html": [
       "<pre style=\"white-space:pre;overflow-x:auto;line-height:normal;font-family:Menlo,'DejaVu Sans Mono',consolas,'Courier New',monospace\">Chunk: <span style=\"font-weight: bold\">{</span><span style=\"color: #008000; text-decoration-color: #008000\">'flight_assistant'</span>: <span style=\"font-weight: bold\">{</span><span style=\"color: #008000; text-decoration-color: #008000\">'messages'</span>: <span style=\"font-weight: bold\">[</span><span style=\"color: #800080; text-decoration-color: #800080; font-weight: bold\">AIMessage</span><span style=\"font-weight: bold\">(</span><span style=\"color: #808000; text-decoration-color: #808000\">content</span>=<span style=\"color: #008000; text-decoration-color: #008000\">'Your flight from LAX to NYC has been successfully </span>\n",
       "<span style=\"color: #008000; text-decoration-color: #008000\">booked! If you need any more assistance, feel free to ask.'</span>, <span style=\"color: #808000; text-decoration-color: #808000\">additional_kwargs</span>=<span style=\"font-weight: bold\">{</span><span style=\"color: #008000; text-decoration-color: #008000\">'refusal'</span>: <span style=\"color: #800080; text-decoration-color: #800080; font-style: italic\">None</span><span style=\"font-weight: bold\">}</span>, \n",
       "<span style=\"color: #808000; text-decoration-color: #808000\">response_metadata</span>=<span style=\"font-weight: bold\">{</span><span style=\"color: #008000; text-decoration-color: #008000\">'token_usage'</span>: <span style=\"font-weight: bold\">{</span><span style=\"color: #008000; text-decoration-color: #008000\">'completion_tokens'</span>: <span style=\"color: #008080; text-decoration-color: #008080; font-weight: bold\">25</span>, <span style=\"color: #008000; text-decoration-color: #008000\">'prompt_tokens'</span>: <span style=\"color: #008080; text-decoration-color: #008080; font-weight: bold\">153</span>, <span style=\"color: #008000; text-decoration-color: #008000\">'total_tokens'</span>: <span style=\"color: #008080; text-decoration-color: #008080; font-weight: bold\">178</span>, \n",
       "<span style=\"color: #008000; text-decoration-color: #008000\">'completion_tokens_details'</span>: <span style=\"font-weight: bold\">{</span><span style=\"color: #008000; text-decoration-color: #008000\">'accepted_prediction_tokens'</span>: <span style=\"color: #008080; text-decoration-color: #008080; font-weight: bold\">0</span>, <span style=\"color: #008000; text-decoration-color: #008000\">'audio_tokens'</span>: <span style=\"color: #008080; text-decoration-color: #008080; font-weight: bold\">0</span>, <span style=\"color: #008000; text-decoration-color: #008000\">'reasoning_tokens'</span>: <span style=\"color: #008080; text-decoration-color: #008080; font-weight: bold\">0</span>, \n",
       "<span style=\"color: #008000; text-decoration-color: #008000\">'rejected_prediction_tokens'</span>: <span style=\"color: #008080; text-decoration-color: #008080; font-weight: bold\">0</span><span style=\"font-weight: bold\">}</span>, <span style=\"color: #008000; text-decoration-color: #008000\">'prompt_tokens_details'</span>: <span style=\"font-weight: bold\">{</span><span style=\"color: #008000; text-decoration-color: #008000\">'audio_tokens'</span>: <span style=\"color: #008080; text-decoration-color: #008080; font-weight: bold\">0</span>, <span style=\"color: #008000; text-decoration-color: #008000\">'cached_tokens'</span>: <span style=\"color: #008080; text-decoration-color: #008080; font-weight: bold\">0</span><span style=\"font-weight: bold\">}}</span>, <span style=\"color: #008000; text-decoration-color: #008000\">'model_name'</span>: \n",
       "<span style=\"color: #008000; text-decoration-color: #008000\">'gpt-4o-mini-2024-07-18'</span>, <span style=\"color: #008000; text-decoration-color: #008000\">'system_fingerprint'</span>: <span style=\"color: #008000; text-decoration-color: #008000\">'fp_8bda4d3a2c'</span>, <span style=\"color: #008000; text-decoration-color: #008000\">'id'</span>: <span style=\"color: #008000; text-decoration-color: #008000\">'chatcmpl-CCbk8nnmRNVn1wOlXprK0XXXRrPKP'</span>, \n",
       "<span style=\"color: #008000; text-decoration-color: #008000\">'service_tier'</span>: <span style=\"color: #008000; text-decoration-color: #008000\">'default'</span>, <span style=\"color: #008000; text-decoration-color: #008000\">'finish_reason'</span>: <span style=\"color: #008000; text-decoration-color: #008000\">'stop'</span>, <span style=\"color: #008000; text-decoration-color: #008000\">'logprobs'</span>: <span style=\"color: #800080; text-decoration-color: #800080; font-style: italic\">None</span><span style=\"font-weight: bold\">}</span>, <span style=\"color: #808000; text-decoration-color: #808000\">name</span>=<span style=\"color: #008000; text-decoration-color: #008000\">'flight_assistant'</span>, \n",
       "<span style=\"color: #808000; text-decoration-color: #808000\">id</span>=<span style=\"color: #008000; text-decoration-color: #008000\">'run--25fb4683-aca6-416b-aac3-26dd87e5e04a-0'</span>, <span style=\"color: #808000; text-decoration-color: #808000\">usage_metadata</span>=<span style=\"font-weight: bold\">{</span><span style=\"color: #008000; text-decoration-color: #008000\">'input_tokens'</span>: <span style=\"color: #008080; text-decoration-color: #008080; font-weight: bold\">153</span>, <span style=\"color: #008000; text-decoration-color: #008000\">'output_tokens'</span>: <span style=\"color: #008080; text-decoration-color: #008080; font-weight: bold\">25</span>, \n",
       "<span style=\"color: #008000; text-decoration-color: #008000\">'total_tokens'</span>: <span style=\"color: #008080; text-decoration-color: #008080; font-weight: bold\">178</span>, <span style=\"color: #008000; text-decoration-color: #008000\">'input_token_details'</span>: <span style=\"font-weight: bold\">{</span><span style=\"color: #008000; text-decoration-color: #008000\">'audio'</span>: <span style=\"color: #008080; text-decoration-color: #008080; font-weight: bold\">0</span>, <span style=\"color: #008000; text-decoration-color: #008000\">'cache_read'</span>: <span style=\"color: #008080; text-decoration-color: #008080; font-weight: bold\">0</span><span style=\"font-weight: bold\">}</span>, <span style=\"color: #008000; text-decoration-color: #008000\">'output_token_details'</span>: <span style=\"font-weight: bold\">{</span><span style=\"color: #008000; text-decoration-color: #008000\">'audio'</span>: <span style=\"color: #008080; text-decoration-color: #008080; font-weight: bold\">0</span>, \n",
       "<span style=\"color: #008000; text-decoration-color: #008000\">'reasoning'</span>: <span style=\"color: #008080; text-decoration-color: #008080; font-weight: bold\">0</span><span style=\"font-weight: bold\">}})</span>, <span style=\"color: #800080; text-decoration-color: #800080; font-weight: bold\">AIMessage</span><span style=\"font-weight: bold\">(</span><span style=\"color: #808000; text-decoration-color: #808000\">content</span>=<span style=\"color: #008000; text-decoration-color: #008000\">'Transferring back to supervisor'</span>, <span style=\"color: #808000; text-decoration-color: #808000\">additional_kwargs</span>=<span style=\"font-weight: bold\">{}</span>, \n",
       "<span style=\"color: #808000; text-decoration-color: #808000\">response_metadata</span>=<span style=\"font-weight: bold\">{</span><span style=\"color: #008000; text-decoration-color: #008000\">'__is_handoff_back'</span>: <span style=\"color: #00ff00; text-decoration-color: #00ff00; font-style: italic\">True</span><span style=\"font-weight: bold\">}</span>, <span style=\"color: #808000; text-decoration-color: #808000\">name</span>=<span style=\"color: #008000; text-decoration-color: #008000\">'flight_assistant'</span>, <span style=\"color: #808000; text-decoration-color: #808000\">id</span>=<span style=\"color: #008000; text-decoration-color: #008000\">'0e46f95d-ea1f-4b30-bd80-2d6ed4ee4695'</span>, \n",
       "<span style=\"color: #808000; text-decoration-color: #808000\">tool_calls</span>=<span style=\"font-weight: bold\">[{</span><span style=\"color: #008000; text-decoration-color: #008000\">'name'</span>: <span style=\"color: #008000; text-decoration-color: #008000\">'transfer_back_to_supervisor'</span>, <span style=\"color: #008000; text-decoration-color: #008000\">'args'</span>: <span style=\"font-weight: bold\">{}</span>, <span style=\"color: #008000; text-decoration-color: #008000\">'id'</span>: <span style=\"color: #008000; text-decoration-color: #008000\">'13a73cf3-5609-47a4-8556-4065490f5091'</span>, \n",
       "<span style=\"color: #008000; text-decoration-color: #008000\">'type'</span>: <span style=\"color: #008000; text-decoration-color: #008000\">'tool_call'</span><span style=\"font-weight: bold\">}])</span>, <span style=\"color: #800080; text-decoration-color: #800080; font-weight: bold\">ToolMessage</span><span style=\"font-weight: bold\">(</span><span style=\"color: #808000; text-decoration-color: #808000\">content</span>=<span style=\"color: #008000; text-decoration-color: #008000\">'Successfully transferred back to supervisor'</span>, \n",
       "<span style=\"color: #808000; text-decoration-color: #808000\">name</span>=<span style=\"color: #008000; text-decoration-color: #008000\">'transfer_back_to_supervisor'</span>, <span style=\"color: #808000; text-decoration-color: #808000\">id</span>=<span style=\"color: #008000; text-decoration-color: #008000\">'bb2c2693-0b84-48e0-a377-be757b2a1df1'</span>, \n",
       "<span style=\"color: #808000; text-decoration-color: #808000\">tool_call_id</span>=<span style=\"color: #008000; text-decoration-color: #008000\">'13a73cf3-5609-47a4-8556-4065490f5091'</span><span style=\"font-weight: bold\">)]}}</span>\n",
       "</pre>\n"
      ],
      "text/plain": [
       "Chunk: \u001b[1m{\u001b[0m\u001b[32m'flight_assistant'\u001b[0m: \u001b[1m{\u001b[0m\u001b[32m'messages'\u001b[0m: \u001b[1m[\u001b[0m\u001b[1;35mAIMessage\u001b[0m\u001b[1m(\u001b[0m\u001b[33mcontent\u001b[0m=\u001b[32m'Your flight from LAX to NYC has been successfully \u001b[0m\n",
       "\u001b[32mbooked! If you need any more assistance, feel free to ask.'\u001b[0m, \u001b[33madditional_kwargs\u001b[0m=\u001b[1m{\u001b[0m\u001b[32m'refusal'\u001b[0m: \u001b[3;35mNone\u001b[0m\u001b[1m}\u001b[0m, \n",
       "\u001b[33mresponse_metadata\u001b[0m=\u001b[1m{\u001b[0m\u001b[32m'token_usage'\u001b[0m: \u001b[1m{\u001b[0m\u001b[32m'completion_tokens'\u001b[0m: \u001b[1;36m25\u001b[0m, \u001b[32m'prompt_tokens'\u001b[0m: \u001b[1;36m153\u001b[0m, \u001b[32m'total_tokens'\u001b[0m: \u001b[1;36m178\u001b[0m, \n",
       "\u001b[32m'completion_tokens_details'\u001b[0m: \u001b[1m{\u001b[0m\u001b[32m'accepted_prediction_tokens'\u001b[0m: \u001b[1;36m0\u001b[0m, \u001b[32m'audio_tokens'\u001b[0m: \u001b[1;36m0\u001b[0m, \u001b[32m'reasoning_tokens'\u001b[0m: \u001b[1;36m0\u001b[0m, \n",
       "\u001b[32m'rejected_prediction_tokens'\u001b[0m: \u001b[1;36m0\u001b[0m\u001b[1m}\u001b[0m, \u001b[32m'prompt_tokens_details'\u001b[0m: \u001b[1m{\u001b[0m\u001b[32m'audio_tokens'\u001b[0m: \u001b[1;36m0\u001b[0m, \u001b[32m'cached_tokens'\u001b[0m: \u001b[1;36m0\u001b[0m\u001b[1m}\u001b[0m\u001b[1m}\u001b[0m, \u001b[32m'model_name'\u001b[0m: \n",
       "\u001b[32m'gpt-4o-mini-2024-07-18'\u001b[0m, \u001b[32m'system_fingerprint'\u001b[0m: \u001b[32m'fp_8bda4d3a2c'\u001b[0m, \u001b[32m'id'\u001b[0m: \u001b[32m'chatcmpl-CCbk8nnmRNVn1wOlXprK0XXXRrPKP'\u001b[0m, \n",
       "\u001b[32m'service_tier'\u001b[0m: \u001b[32m'default'\u001b[0m, \u001b[32m'finish_reason'\u001b[0m: \u001b[32m'stop'\u001b[0m, \u001b[32m'logprobs'\u001b[0m: \u001b[3;35mNone\u001b[0m\u001b[1m}\u001b[0m, \u001b[33mname\u001b[0m=\u001b[32m'flight_assistant'\u001b[0m, \n",
       "\u001b[33mid\u001b[0m=\u001b[32m'run--25fb4683-aca6-416b-aac3-26dd87e5e04a-0'\u001b[0m, \u001b[33musage_metadata\u001b[0m=\u001b[1m{\u001b[0m\u001b[32m'input_tokens'\u001b[0m: \u001b[1;36m153\u001b[0m, \u001b[32m'output_tokens'\u001b[0m: \u001b[1;36m25\u001b[0m, \n",
       "\u001b[32m'total_tokens'\u001b[0m: \u001b[1;36m178\u001b[0m, \u001b[32m'input_token_details'\u001b[0m: \u001b[1m{\u001b[0m\u001b[32m'audio'\u001b[0m: \u001b[1;36m0\u001b[0m, \u001b[32m'cache_read'\u001b[0m: \u001b[1;36m0\u001b[0m\u001b[1m}\u001b[0m, \u001b[32m'output_token_details'\u001b[0m: \u001b[1m{\u001b[0m\u001b[32m'audio'\u001b[0m: \u001b[1;36m0\u001b[0m, \n",
       "\u001b[32m'reasoning'\u001b[0m: \u001b[1;36m0\u001b[0m\u001b[1m}\u001b[0m\u001b[1m}\u001b[0m\u001b[1m)\u001b[0m, \u001b[1;35mAIMessage\u001b[0m\u001b[1m(\u001b[0m\u001b[33mcontent\u001b[0m=\u001b[32m'Transferring back to supervisor'\u001b[0m, \u001b[33madditional_kwargs\u001b[0m=\u001b[1m{\u001b[0m\u001b[1m}\u001b[0m, \n",
       "\u001b[33mresponse_metadata\u001b[0m=\u001b[1m{\u001b[0m\u001b[32m'__is_handoff_back'\u001b[0m: \u001b[3;92mTrue\u001b[0m\u001b[1m}\u001b[0m, \u001b[33mname\u001b[0m=\u001b[32m'flight_assistant'\u001b[0m, \u001b[33mid\u001b[0m=\u001b[32m'0e46f95d-ea1f-4b30-bd80-2d6ed4ee4695'\u001b[0m, \n",
       "\u001b[33mtool_calls\u001b[0m=\u001b[1m[\u001b[0m\u001b[1m{\u001b[0m\u001b[32m'name'\u001b[0m: \u001b[32m'transfer_back_to_supervisor'\u001b[0m, \u001b[32m'args'\u001b[0m: \u001b[1m{\u001b[0m\u001b[1m}\u001b[0m, \u001b[32m'id'\u001b[0m: \u001b[32m'13a73cf3-5609-47a4-8556-4065490f5091'\u001b[0m, \n",
       "\u001b[32m'type'\u001b[0m: \u001b[32m'tool_call'\u001b[0m\u001b[1m}\u001b[0m\u001b[1m]\u001b[0m\u001b[1m)\u001b[0m, \u001b[1;35mToolMessage\u001b[0m\u001b[1m(\u001b[0m\u001b[33mcontent\u001b[0m=\u001b[32m'Successfully transferred back to supervisor'\u001b[0m, \n",
       "\u001b[33mname\u001b[0m=\u001b[32m'transfer_back_to_supervisor'\u001b[0m, \u001b[33mid\u001b[0m=\u001b[32m'bb2c2693-0b84-48e0-a377-be757b2a1df1'\u001b[0m, \n",
       "\u001b[33mtool_call_id\u001b[0m=\u001b[32m'13a73cf3-5609-47a4-8556-4065490f5091'\u001b[0m\u001b[1m)\u001b[0m\u001b[1m]\u001b[0m\u001b[1m}\u001b[0m\u001b[1m}\u001b[0m\n"
      ]
     },
     "metadata": {},
     "output_type": "display_data"
    },
    {
     "name": "stdout",
     "output_type": "stream",
     "text": [
      "\u001b[1m[values]\u001b[0m {'messages': [HumanMessage(content='Book a flight from LAX to NYC', additional_kwargs={}, response_metadata={}, id='169d8f84-b155-46a2-bed3-cae573369f17'), AIMessage(content='', additional_kwargs={'tool_calls': [{'id': 'call_lXIlVAmPbCkVc5Agk4jrfXi9', 'function': {'arguments': '{}', 'name': 'transfer_to_flight_assistant'}, 'type': 'function'}], 'refusal': None}, response_metadata={'token_usage': {'completion_tokens': 14, 'prompt_tokens': 88, 'total_tokens': 102, 'completion_tokens_details': {'accepted_prediction_tokens': 0, 'audio_tokens': 0, 'reasoning_tokens': 0, 'rejected_prediction_tokens': 0}, 'prompt_tokens_details': {'audio_tokens': 0, 'cached_tokens': 0}}, 'model_name': 'gpt-4o-mini-2024-07-18', 'system_fingerprint': 'fp_8bda4d3a2c', 'id': 'chatcmpl-CCbk61D3QXfmMceHiZIMveuvrqbaF', 'service_tier': 'default', 'finish_reason': 'tool_calls', 'logprobs': None}, name='supervisor', id='run--d298bbd2-5f26-4c86-9bb2-34e8d66c813b-0', tool_calls=[{'name': 'transfer_to_flight_assistant', 'args': {}, 'id': 'call_lXIlVAmPbCkVc5Agk4jrfXi9', 'type': 'tool_call'}], usage_metadata={'input_tokens': 88, 'output_tokens': 14, 'total_tokens': 102, 'input_token_details': {'audio': 0, 'cache_read': 0}, 'output_token_details': {'audio': 0, 'reasoning': 0}}), ToolMessage(content='Successfully transferred to flight_assistant', name='transfer_to_flight_assistant', id='6ff35518-d7c2-42c4-a7ae-7a350459c6e7', tool_call_id='call_lXIlVAmPbCkVc5Agk4jrfXi9'), AIMessage(content='Your flight from LAX to NYC has been successfully booked! If you need any more assistance, feel free to ask.', additional_kwargs={'refusal': None}, response_metadata={'token_usage': {'completion_tokens': 25, 'prompt_tokens': 153, 'total_tokens': 178, 'completion_tokens_details': {'accepted_prediction_tokens': 0, 'audio_tokens': 0, 'reasoning_tokens': 0, 'rejected_prediction_tokens': 0}, 'prompt_tokens_details': {'audio_tokens': 0, 'cached_tokens': 0}}, 'model_name': 'gpt-4o-mini-2024-07-18', 'system_fingerprint': 'fp_8bda4d3a2c', 'id': 'chatcmpl-CCbk8nnmRNVn1wOlXprK0XXXRrPKP', 'service_tier': 'default', 'finish_reason': 'stop', 'logprobs': None}, name='flight_assistant', id='run--25fb4683-aca6-416b-aac3-26dd87e5e04a-0', usage_metadata={'input_tokens': 153, 'output_tokens': 25, 'total_tokens': 178, 'input_token_details': {'audio': 0, 'cache_read': 0}, 'output_token_details': {'audio': 0, 'reasoning': 0}}), AIMessage(content='Transferring back to supervisor', additional_kwargs={}, response_metadata={'__is_handoff_back': True}, name='flight_assistant', id='0e46f95d-ea1f-4b30-bd80-2d6ed4ee4695', tool_calls=[{'name': 'transfer_back_to_supervisor', 'args': {}, 'id': '13a73cf3-5609-47a4-8556-4065490f5091', 'type': 'tool_call'}]), ToolMessage(content='Successfully transferred back to supervisor', name='transfer_back_to_supervisor', id='bb2c2693-0b84-48e0-a377-be757b2a1df1', tool_call_id='13a73cf3-5609-47a4-8556-4065490f5091')]}\n",
      "\u001b[1m[updates]\u001b[0m {'supervisor': {'messages': [HumanMessage(content='Book a flight from LAX to NYC', additional_kwargs={}, response_metadata={}, id='169d8f84-b155-46a2-bed3-cae573369f17'), AIMessage(content='', additional_kwargs={'tool_calls': [{'id': 'call_lXIlVAmPbCkVc5Agk4jrfXi9', 'function': {'arguments': '{}', 'name': 'transfer_to_flight_assistant'}, 'type': 'function'}], 'refusal': None}, response_metadata={'token_usage': {'completion_tokens': 14, 'prompt_tokens': 88, 'total_tokens': 102, 'completion_tokens_details': {'accepted_prediction_tokens': 0, 'audio_tokens': 0, 'reasoning_tokens': 0, 'rejected_prediction_tokens': 0}, 'prompt_tokens_details': {'audio_tokens': 0, 'cached_tokens': 0}}, 'model_name': 'gpt-4o-mini-2024-07-18', 'system_fingerprint': 'fp_8bda4d3a2c', 'id': 'chatcmpl-CCbk61D3QXfmMceHiZIMveuvrqbaF', 'service_tier': 'default', 'finish_reason': 'tool_calls', 'logprobs': None}, name='supervisor', id='run--d298bbd2-5f26-4c86-9bb2-34e8d66c813b-0', tool_calls=[{'name': 'transfer_to_flight_assistant', 'args': {}, 'id': 'call_lXIlVAmPbCkVc5Agk4jrfXi9', 'type': 'tool_call'}], usage_metadata={'input_tokens': 88, 'output_tokens': 14, 'total_tokens': 102, 'input_token_details': {'audio': 0, 'cache_read': 0}, 'output_token_details': {'audio': 0, 'reasoning': 0}}), ToolMessage(content='Successfully transferred to flight_assistant', name='transfer_to_flight_assistant', id='6ff35518-d7c2-42c4-a7ae-7a350459c6e7', tool_call_id='call_lXIlVAmPbCkVc5Agk4jrfXi9'), AIMessage(content='Your flight from LAX to NYC has been successfully booked! If you need any more assistance, feel free to ask.', additional_kwargs={'refusal': None}, response_metadata={'token_usage': {'completion_tokens': 25, 'prompt_tokens': 153, 'total_tokens': 178, 'completion_tokens_details': {'accepted_prediction_tokens': 0, 'audio_tokens': 0, 'reasoning_tokens': 0, 'rejected_prediction_tokens': 0}, 'prompt_tokens_details': {'audio_tokens': 0, 'cached_tokens': 0}}, 'model_name': 'gpt-4o-mini-2024-07-18', 'system_fingerprint': 'fp_8bda4d3a2c', 'id': 'chatcmpl-CCbk8nnmRNVn1wOlXprK0XXXRrPKP', 'service_tier': 'default', 'finish_reason': 'stop', 'logprobs': None}, name='flight_assistant', id='run--25fb4683-aca6-416b-aac3-26dd87e5e04a-0', usage_metadata={'input_tokens': 153, 'output_tokens': 25, 'total_tokens': 178, 'input_token_details': {'audio': 0, 'cache_read': 0}, 'output_token_details': {'audio': 0, 'reasoning': 0}}), AIMessage(content='Transferring back to supervisor', additional_kwargs={}, response_metadata={'__is_handoff_back': True}, name='flight_assistant', id='0e46f95d-ea1f-4b30-bd80-2d6ed4ee4695', tool_calls=[{'name': 'transfer_back_to_supervisor', 'args': {}, 'id': '13a73cf3-5609-47a4-8556-4065490f5091', 'type': 'tool_call'}]), ToolMessage(content='Successfully transferred back to supervisor', name='transfer_back_to_supervisor', id='bb2c2693-0b84-48e0-a377-be757b2a1df1', tool_call_id='13a73cf3-5609-47a4-8556-4065490f5091'), AIMessage(content='The flight from LAX to NYC has been booked. If you need any further assistance or details, just let me know!', additional_kwargs={'refusal': None}, response_metadata={'token_usage': {'completion_tokens': 26, 'prompt_tokens': 202, 'total_tokens': 228, 'completion_tokens_details': {'accepted_prediction_tokens': 0, 'audio_tokens': 0, 'reasoning_tokens': 0, 'rejected_prediction_tokens': 0}, 'prompt_tokens_details': {'audio_tokens': 0, 'cached_tokens': 0}}, 'model_name': 'gpt-4o-mini-2024-07-18', 'system_fingerprint': 'fp_8bda4d3a2c', 'id': 'chatcmpl-CCbk90hSLHkzruSfjeSdJRSjiIQ2y', 'service_tier': 'default', 'finish_reason': 'stop', 'logprobs': None}, name='supervisor', id='run--f9dfcf11-e447-4f14-88e0-8da935d1eec3-0', usage_metadata={'input_tokens': 202, 'output_tokens': 26, 'total_tokens': 228, 'input_token_details': {'audio': 0, 'cache_read': 0}, 'output_token_details': {'audio': 0, 'reasoning': 0}})]}}\n"
     ]
    },
    {
     "data": {
      "text/html": [
       "<pre style=\"white-space:pre;overflow-x:auto;line-height:normal;font-family:Menlo,'DejaVu Sans Mono',consolas,'Courier New',monospace\">------------------------------------------------------------\n",
       "</pre>\n"
      ],
      "text/plain": [
       "------------------------------------------------------------\n"
      ]
     },
     "metadata": {},
     "output_type": "display_data"
    },
    {
     "data": {
      "text/html": [
       "<pre style=\"white-space:pre;overflow-x:auto;line-height:normal;font-family:Menlo,'DejaVu Sans Mono',consolas,'Courier New',monospace\">Chunk: <span style=\"font-weight: bold\">{</span><span style=\"color: #008000; text-decoration-color: #008000\">'supervisor'</span>: <span style=\"font-weight: bold\">{</span><span style=\"color: #008000; text-decoration-color: #008000\">'messages'</span>: <span style=\"font-weight: bold\">[</span><span style=\"color: #800080; text-decoration-color: #800080; font-weight: bold\">HumanMessage</span><span style=\"font-weight: bold\">(</span><span style=\"color: #808000; text-decoration-color: #808000\">content</span>=<span style=\"color: #008000; text-decoration-color: #008000\">'Book a flight from LAX to NYC'</span>, <span style=\"color: #808000; text-decoration-color: #808000\">additional_kwargs</span>=<span style=\"font-weight: bold\">{}</span>, \n",
       "<span style=\"color: #808000; text-decoration-color: #808000\">response_metadata</span>=<span style=\"font-weight: bold\">{}</span>, <span style=\"color: #808000; text-decoration-color: #808000\">id</span>=<span style=\"color: #008000; text-decoration-color: #008000\">'169d8f84-b155-46a2-bed3-cae573369f17'</span><span style=\"font-weight: bold\">)</span>, <span style=\"color: #800080; text-decoration-color: #800080; font-weight: bold\">AIMessage</span><span style=\"font-weight: bold\">(</span><span style=\"color: #808000; text-decoration-color: #808000\">content</span>=<span style=\"color: #008000; text-decoration-color: #008000\">''</span>, \n",
       "<span style=\"color: #808000; text-decoration-color: #808000\">additional_kwargs</span>=<span style=\"font-weight: bold\">{</span><span style=\"color: #008000; text-decoration-color: #008000\">'tool_calls'</span>: <span style=\"font-weight: bold\">[{</span><span style=\"color: #008000; text-decoration-color: #008000\">'id'</span>: <span style=\"color: #008000; text-decoration-color: #008000\">'call_lXIlVAmPbCkVc5Agk4jrfXi9'</span>, <span style=\"color: #008000; text-decoration-color: #008000\">'function'</span>: <span style=\"font-weight: bold\">{</span><span style=\"color: #008000; text-decoration-color: #008000\">'arguments'</span>: <span style=\"color: #008000; text-decoration-color: #008000\">'{}'</span>, <span style=\"color: #008000; text-decoration-color: #008000\">'name'</span>: \n",
       "<span style=\"color: #008000; text-decoration-color: #008000\">'transfer_to_flight_assistant'</span><span style=\"font-weight: bold\">}</span>, <span style=\"color: #008000; text-decoration-color: #008000\">'type'</span>: <span style=\"color: #008000; text-decoration-color: #008000\">'function'</span><span style=\"font-weight: bold\">}]</span>, <span style=\"color: #008000; text-decoration-color: #008000\">'refusal'</span>: <span style=\"color: #800080; text-decoration-color: #800080; font-style: italic\">None</span><span style=\"font-weight: bold\">}</span>, <span style=\"color: #808000; text-decoration-color: #808000\">response_metadata</span>=<span style=\"font-weight: bold\">{</span><span style=\"color: #008000; text-decoration-color: #008000\">'token_usage'</span>: \n",
       "<span style=\"font-weight: bold\">{</span><span style=\"color: #008000; text-decoration-color: #008000\">'completion_tokens'</span>: <span style=\"color: #008080; text-decoration-color: #008080; font-weight: bold\">14</span>, <span style=\"color: #008000; text-decoration-color: #008000\">'prompt_tokens'</span>: <span style=\"color: #008080; text-decoration-color: #008080; font-weight: bold\">88</span>, <span style=\"color: #008000; text-decoration-color: #008000\">'total_tokens'</span>: <span style=\"color: #008080; text-decoration-color: #008080; font-weight: bold\">102</span>, <span style=\"color: #008000; text-decoration-color: #008000\">'completion_tokens_details'</span>: \n",
       "<span style=\"font-weight: bold\">{</span><span style=\"color: #008000; text-decoration-color: #008000\">'accepted_prediction_tokens'</span>: <span style=\"color: #008080; text-decoration-color: #008080; font-weight: bold\">0</span>, <span style=\"color: #008000; text-decoration-color: #008000\">'audio_tokens'</span>: <span style=\"color: #008080; text-decoration-color: #008080; font-weight: bold\">0</span>, <span style=\"color: #008000; text-decoration-color: #008000\">'reasoning_tokens'</span>: <span style=\"color: #008080; text-decoration-color: #008080; font-weight: bold\">0</span>, <span style=\"color: #008000; text-decoration-color: #008000\">'rejected_prediction_tokens'</span>: <span style=\"color: #008080; text-decoration-color: #008080; font-weight: bold\">0</span><span style=\"font-weight: bold\">}</span>, \n",
       "<span style=\"color: #008000; text-decoration-color: #008000\">'prompt_tokens_details'</span>: <span style=\"font-weight: bold\">{</span><span style=\"color: #008000; text-decoration-color: #008000\">'audio_tokens'</span>: <span style=\"color: #008080; text-decoration-color: #008080; font-weight: bold\">0</span>, <span style=\"color: #008000; text-decoration-color: #008000\">'cached_tokens'</span>: <span style=\"color: #008080; text-decoration-color: #008080; font-weight: bold\">0</span><span style=\"font-weight: bold\">}}</span>, <span style=\"color: #008000; text-decoration-color: #008000\">'model_name'</span>: <span style=\"color: #008000; text-decoration-color: #008000\">'gpt-4o-mini-2024-07-18'</span>, \n",
       "<span style=\"color: #008000; text-decoration-color: #008000\">'system_fingerprint'</span>: <span style=\"color: #008000; text-decoration-color: #008000\">'fp_8bda4d3a2c'</span>, <span style=\"color: #008000; text-decoration-color: #008000\">'id'</span>: <span style=\"color: #008000; text-decoration-color: #008000\">'chatcmpl-CCbk61D3QXfmMceHiZIMveuvrqbaF'</span>, <span style=\"color: #008000; text-decoration-color: #008000\">'service_tier'</span>: <span style=\"color: #008000; text-decoration-color: #008000\">'default'</span>, \n",
       "<span style=\"color: #008000; text-decoration-color: #008000\">'finish_reason'</span>: <span style=\"color: #008000; text-decoration-color: #008000\">'tool_calls'</span>, <span style=\"color: #008000; text-decoration-color: #008000\">'logprobs'</span>: <span style=\"color: #800080; text-decoration-color: #800080; font-style: italic\">None</span><span style=\"font-weight: bold\">}</span>, <span style=\"color: #808000; text-decoration-color: #808000\">name</span>=<span style=\"color: #008000; text-decoration-color: #008000\">'supervisor'</span>, \n",
       "<span style=\"color: #808000; text-decoration-color: #808000\">id</span>=<span style=\"color: #008000; text-decoration-color: #008000\">'run--d298bbd2-5f26-4c86-9bb2-34e8d66c813b-0'</span>, <span style=\"color: #808000; text-decoration-color: #808000\">tool_calls</span>=<span style=\"font-weight: bold\">[{</span><span style=\"color: #008000; text-decoration-color: #008000\">'name'</span>: <span style=\"color: #008000; text-decoration-color: #008000\">'transfer_to_flight_assistant'</span>, <span style=\"color: #008000; text-decoration-color: #008000\">'args'</span>: <span style=\"font-weight: bold\">{}</span>, \n",
       "<span style=\"color: #008000; text-decoration-color: #008000\">'id'</span>: <span style=\"color: #008000; text-decoration-color: #008000\">'call_lXIlVAmPbCkVc5Agk4jrfXi9'</span>, <span style=\"color: #008000; text-decoration-color: #008000\">'type'</span>: <span style=\"color: #008000; text-decoration-color: #008000\">'tool_call'</span><span style=\"font-weight: bold\">}]</span>, <span style=\"color: #808000; text-decoration-color: #808000\">usage_metadata</span>=<span style=\"font-weight: bold\">{</span><span style=\"color: #008000; text-decoration-color: #008000\">'input_tokens'</span>: <span style=\"color: #008080; text-decoration-color: #008080; font-weight: bold\">88</span>, <span style=\"color: #008000; text-decoration-color: #008000\">'output_tokens'</span>: \n",
       "<span style=\"color: #008080; text-decoration-color: #008080; font-weight: bold\">14</span>, <span style=\"color: #008000; text-decoration-color: #008000\">'total_tokens'</span>: <span style=\"color: #008080; text-decoration-color: #008080; font-weight: bold\">102</span>, <span style=\"color: #008000; text-decoration-color: #008000\">'input_token_details'</span>: <span style=\"font-weight: bold\">{</span><span style=\"color: #008000; text-decoration-color: #008000\">'audio'</span>: <span style=\"color: #008080; text-decoration-color: #008080; font-weight: bold\">0</span>, <span style=\"color: #008000; text-decoration-color: #008000\">'cache_read'</span>: <span style=\"color: #008080; text-decoration-color: #008080; font-weight: bold\">0</span><span style=\"font-weight: bold\">}</span>, <span style=\"color: #008000; text-decoration-color: #008000\">'output_token_details'</span>: <span style=\"font-weight: bold\">{</span><span style=\"color: #008000; text-decoration-color: #008000\">'audio'</span>: <span style=\"color: #008080; text-decoration-color: #008080; font-weight: bold\">0</span>,\n",
       "<span style=\"color: #008000; text-decoration-color: #008000\">'reasoning'</span>: <span style=\"color: #008080; text-decoration-color: #008080; font-weight: bold\">0</span><span style=\"font-weight: bold\">}})</span>, <span style=\"color: #800080; text-decoration-color: #800080; font-weight: bold\">ToolMessage</span><span style=\"font-weight: bold\">(</span><span style=\"color: #808000; text-decoration-color: #808000\">content</span>=<span style=\"color: #008000; text-decoration-color: #008000\">'Successfully transferred to flight_assistant'</span>, \n",
       "<span style=\"color: #808000; text-decoration-color: #808000\">name</span>=<span style=\"color: #008000; text-decoration-color: #008000\">'transfer_to_flight_assistant'</span>, <span style=\"color: #808000; text-decoration-color: #808000\">id</span>=<span style=\"color: #008000; text-decoration-color: #008000\">'6ff35518-d7c2-42c4-a7ae-7a350459c6e7'</span>, \n",
       "<span style=\"color: #808000; text-decoration-color: #808000\">tool_call_id</span>=<span style=\"color: #008000; text-decoration-color: #008000\">'call_lXIlVAmPbCkVc5Agk4jrfXi9'</span><span style=\"font-weight: bold\">)</span>, <span style=\"color: #800080; text-decoration-color: #800080; font-weight: bold\">AIMessage</span><span style=\"font-weight: bold\">(</span><span style=\"color: #808000; text-decoration-color: #808000\">content</span>=<span style=\"color: #008000; text-decoration-color: #008000\">'Your flight from LAX to NYC has been successfully</span>\n",
       "<span style=\"color: #008000; text-decoration-color: #008000\">booked! If you need any more assistance, feel free to ask.'</span>, <span style=\"color: #808000; text-decoration-color: #808000\">additional_kwargs</span>=<span style=\"font-weight: bold\">{</span><span style=\"color: #008000; text-decoration-color: #008000\">'refusal'</span>: <span style=\"color: #800080; text-decoration-color: #800080; font-style: italic\">None</span><span style=\"font-weight: bold\">}</span>, \n",
       "<span style=\"color: #808000; text-decoration-color: #808000\">response_metadata</span>=<span style=\"font-weight: bold\">{</span><span style=\"color: #008000; text-decoration-color: #008000\">'token_usage'</span>: <span style=\"font-weight: bold\">{</span><span style=\"color: #008000; text-decoration-color: #008000\">'completion_tokens'</span>: <span style=\"color: #008080; text-decoration-color: #008080; font-weight: bold\">25</span>, <span style=\"color: #008000; text-decoration-color: #008000\">'prompt_tokens'</span>: <span style=\"color: #008080; text-decoration-color: #008080; font-weight: bold\">153</span>, <span style=\"color: #008000; text-decoration-color: #008000\">'total_tokens'</span>: <span style=\"color: #008080; text-decoration-color: #008080; font-weight: bold\">178</span>, \n",
       "<span style=\"color: #008000; text-decoration-color: #008000\">'completion_tokens_details'</span>: <span style=\"font-weight: bold\">{</span><span style=\"color: #008000; text-decoration-color: #008000\">'accepted_prediction_tokens'</span>: <span style=\"color: #008080; text-decoration-color: #008080; font-weight: bold\">0</span>, <span style=\"color: #008000; text-decoration-color: #008000\">'audio_tokens'</span>: <span style=\"color: #008080; text-decoration-color: #008080; font-weight: bold\">0</span>, <span style=\"color: #008000; text-decoration-color: #008000\">'reasoning_tokens'</span>: <span style=\"color: #008080; text-decoration-color: #008080; font-weight: bold\">0</span>, \n",
       "<span style=\"color: #008000; text-decoration-color: #008000\">'rejected_prediction_tokens'</span>: <span style=\"color: #008080; text-decoration-color: #008080; font-weight: bold\">0</span><span style=\"font-weight: bold\">}</span>, <span style=\"color: #008000; text-decoration-color: #008000\">'prompt_tokens_details'</span>: <span style=\"font-weight: bold\">{</span><span style=\"color: #008000; text-decoration-color: #008000\">'audio_tokens'</span>: <span style=\"color: #008080; text-decoration-color: #008080; font-weight: bold\">0</span>, <span style=\"color: #008000; text-decoration-color: #008000\">'cached_tokens'</span>: <span style=\"color: #008080; text-decoration-color: #008080; font-weight: bold\">0</span><span style=\"font-weight: bold\">}}</span>, <span style=\"color: #008000; text-decoration-color: #008000\">'model_name'</span>: \n",
       "<span style=\"color: #008000; text-decoration-color: #008000\">'gpt-4o-mini-2024-07-18'</span>, <span style=\"color: #008000; text-decoration-color: #008000\">'system_fingerprint'</span>: <span style=\"color: #008000; text-decoration-color: #008000\">'fp_8bda4d3a2c'</span>, <span style=\"color: #008000; text-decoration-color: #008000\">'id'</span>: <span style=\"color: #008000; text-decoration-color: #008000\">'chatcmpl-CCbk8nnmRNVn1wOlXprK0XXXRrPKP'</span>, \n",
       "<span style=\"color: #008000; text-decoration-color: #008000\">'service_tier'</span>: <span style=\"color: #008000; text-decoration-color: #008000\">'default'</span>, <span style=\"color: #008000; text-decoration-color: #008000\">'finish_reason'</span>: <span style=\"color: #008000; text-decoration-color: #008000\">'stop'</span>, <span style=\"color: #008000; text-decoration-color: #008000\">'logprobs'</span>: <span style=\"color: #800080; text-decoration-color: #800080; font-style: italic\">None</span><span style=\"font-weight: bold\">}</span>, <span style=\"color: #808000; text-decoration-color: #808000\">name</span>=<span style=\"color: #008000; text-decoration-color: #008000\">'flight_assistant'</span>, \n",
       "<span style=\"color: #808000; text-decoration-color: #808000\">id</span>=<span style=\"color: #008000; text-decoration-color: #008000\">'run--25fb4683-aca6-416b-aac3-26dd87e5e04a-0'</span>, <span style=\"color: #808000; text-decoration-color: #808000\">usage_metadata</span>=<span style=\"font-weight: bold\">{</span><span style=\"color: #008000; text-decoration-color: #008000\">'input_tokens'</span>: <span style=\"color: #008080; text-decoration-color: #008080; font-weight: bold\">153</span>, <span style=\"color: #008000; text-decoration-color: #008000\">'output_tokens'</span>: <span style=\"color: #008080; text-decoration-color: #008080; font-weight: bold\">25</span>, \n",
       "<span style=\"color: #008000; text-decoration-color: #008000\">'total_tokens'</span>: <span style=\"color: #008080; text-decoration-color: #008080; font-weight: bold\">178</span>, <span style=\"color: #008000; text-decoration-color: #008000\">'input_token_details'</span>: <span style=\"font-weight: bold\">{</span><span style=\"color: #008000; text-decoration-color: #008000\">'audio'</span>: <span style=\"color: #008080; text-decoration-color: #008080; font-weight: bold\">0</span>, <span style=\"color: #008000; text-decoration-color: #008000\">'cache_read'</span>: <span style=\"color: #008080; text-decoration-color: #008080; font-weight: bold\">0</span><span style=\"font-weight: bold\">}</span>, <span style=\"color: #008000; text-decoration-color: #008000\">'output_token_details'</span>: <span style=\"font-weight: bold\">{</span><span style=\"color: #008000; text-decoration-color: #008000\">'audio'</span>: <span style=\"color: #008080; text-decoration-color: #008080; font-weight: bold\">0</span>, \n",
       "<span style=\"color: #008000; text-decoration-color: #008000\">'reasoning'</span>: <span style=\"color: #008080; text-decoration-color: #008080; font-weight: bold\">0</span><span style=\"font-weight: bold\">}})</span>, <span style=\"color: #800080; text-decoration-color: #800080; font-weight: bold\">AIMessage</span><span style=\"font-weight: bold\">(</span><span style=\"color: #808000; text-decoration-color: #808000\">content</span>=<span style=\"color: #008000; text-decoration-color: #008000\">'Transferring back to supervisor'</span>, <span style=\"color: #808000; text-decoration-color: #808000\">additional_kwargs</span>=<span style=\"font-weight: bold\">{}</span>, \n",
       "<span style=\"color: #808000; text-decoration-color: #808000\">response_metadata</span>=<span style=\"font-weight: bold\">{</span><span style=\"color: #008000; text-decoration-color: #008000\">'__is_handoff_back'</span>: <span style=\"color: #00ff00; text-decoration-color: #00ff00; font-style: italic\">True</span><span style=\"font-weight: bold\">}</span>, <span style=\"color: #808000; text-decoration-color: #808000\">name</span>=<span style=\"color: #008000; text-decoration-color: #008000\">'flight_assistant'</span>, <span style=\"color: #808000; text-decoration-color: #808000\">id</span>=<span style=\"color: #008000; text-decoration-color: #008000\">'0e46f95d-ea1f-4b30-bd80-2d6ed4ee4695'</span>, \n",
       "<span style=\"color: #808000; text-decoration-color: #808000\">tool_calls</span>=<span style=\"font-weight: bold\">[{</span><span style=\"color: #008000; text-decoration-color: #008000\">'name'</span>: <span style=\"color: #008000; text-decoration-color: #008000\">'transfer_back_to_supervisor'</span>, <span style=\"color: #008000; text-decoration-color: #008000\">'args'</span>: <span style=\"font-weight: bold\">{}</span>, <span style=\"color: #008000; text-decoration-color: #008000\">'id'</span>: <span style=\"color: #008000; text-decoration-color: #008000\">'13a73cf3-5609-47a4-8556-4065490f5091'</span>, \n",
       "<span style=\"color: #008000; text-decoration-color: #008000\">'type'</span>: <span style=\"color: #008000; text-decoration-color: #008000\">'tool_call'</span><span style=\"font-weight: bold\">}])</span>, <span style=\"color: #800080; text-decoration-color: #800080; font-weight: bold\">ToolMessage</span><span style=\"font-weight: bold\">(</span><span style=\"color: #808000; text-decoration-color: #808000\">content</span>=<span style=\"color: #008000; text-decoration-color: #008000\">'Successfully transferred back to supervisor'</span>, \n",
       "<span style=\"color: #808000; text-decoration-color: #808000\">name</span>=<span style=\"color: #008000; text-decoration-color: #008000\">'transfer_back_to_supervisor'</span>, <span style=\"color: #808000; text-decoration-color: #808000\">id</span>=<span style=\"color: #008000; text-decoration-color: #008000\">'bb2c2693-0b84-48e0-a377-be757b2a1df1'</span>, \n",
       "<span style=\"color: #808000; text-decoration-color: #808000\">tool_call_id</span>=<span style=\"color: #008000; text-decoration-color: #008000\">'13a73cf3-5609-47a4-8556-4065490f5091'</span><span style=\"font-weight: bold\">)</span>, <span style=\"color: #800080; text-decoration-color: #800080; font-weight: bold\">AIMessage</span><span style=\"font-weight: bold\">(</span><span style=\"color: #808000; text-decoration-color: #808000\">content</span>=<span style=\"color: #008000; text-decoration-color: #008000\">'The flight from LAX to NYC has been </span>\n",
       "<span style=\"color: #008000; text-decoration-color: #008000\">booked. If you need any further assistance or details, just let me know!'</span>, <span style=\"color: #808000; text-decoration-color: #808000\">additional_kwargs</span>=<span style=\"font-weight: bold\">{</span><span style=\"color: #008000; text-decoration-color: #008000\">'refusal'</span>: <span style=\"color: #800080; text-decoration-color: #800080; font-style: italic\">None</span><span style=\"font-weight: bold\">}</span>, \n",
       "<span style=\"color: #808000; text-decoration-color: #808000\">response_metadata</span>=<span style=\"font-weight: bold\">{</span><span style=\"color: #008000; text-decoration-color: #008000\">'token_usage'</span>: <span style=\"font-weight: bold\">{</span><span style=\"color: #008000; text-decoration-color: #008000\">'completion_tokens'</span>: <span style=\"color: #008080; text-decoration-color: #008080; font-weight: bold\">26</span>, <span style=\"color: #008000; text-decoration-color: #008000\">'prompt_tokens'</span>: <span style=\"color: #008080; text-decoration-color: #008080; font-weight: bold\">202</span>, <span style=\"color: #008000; text-decoration-color: #008000\">'total_tokens'</span>: <span style=\"color: #008080; text-decoration-color: #008080; font-weight: bold\">228</span>, \n",
       "<span style=\"color: #008000; text-decoration-color: #008000\">'completion_tokens_details'</span>: <span style=\"font-weight: bold\">{</span><span style=\"color: #008000; text-decoration-color: #008000\">'accepted_prediction_tokens'</span>: <span style=\"color: #008080; text-decoration-color: #008080; font-weight: bold\">0</span>, <span style=\"color: #008000; text-decoration-color: #008000\">'audio_tokens'</span>: <span style=\"color: #008080; text-decoration-color: #008080; font-weight: bold\">0</span>, <span style=\"color: #008000; text-decoration-color: #008000\">'reasoning_tokens'</span>: <span style=\"color: #008080; text-decoration-color: #008080; font-weight: bold\">0</span>, \n",
       "<span style=\"color: #008000; text-decoration-color: #008000\">'rejected_prediction_tokens'</span>: <span style=\"color: #008080; text-decoration-color: #008080; font-weight: bold\">0</span><span style=\"font-weight: bold\">}</span>, <span style=\"color: #008000; text-decoration-color: #008000\">'prompt_tokens_details'</span>: <span style=\"font-weight: bold\">{</span><span style=\"color: #008000; text-decoration-color: #008000\">'audio_tokens'</span>: <span style=\"color: #008080; text-decoration-color: #008080; font-weight: bold\">0</span>, <span style=\"color: #008000; text-decoration-color: #008000\">'cached_tokens'</span>: <span style=\"color: #008080; text-decoration-color: #008080; font-weight: bold\">0</span><span style=\"font-weight: bold\">}}</span>, <span style=\"color: #008000; text-decoration-color: #008000\">'model_name'</span>: \n",
       "<span style=\"color: #008000; text-decoration-color: #008000\">'gpt-4o-mini-2024-07-18'</span>, <span style=\"color: #008000; text-decoration-color: #008000\">'system_fingerprint'</span>: <span style=\"color: #008000; text-decoration-color: #008000\">'fp_8bda4d3a2c'</span>, <span style=\"color: #008000; text-decoration-color: #008000\">'id'</span>: <span style=\"color: #008000; text-decoration-color: #008000\">'chatcmpl-CCbk90hSLHkzruSfjeSdJRSjiIQ2y'</span>, \n",
       "<span style=\"color: #008000; text-decoration-color: #008000\">'service_tier'</span>: <span style=\"color: #008000; text-decoration-color: #008000\">'default'</span>, <span style=\"color: #008000; text-decoration-color: #008000\">'finish_reason'</span>: <span style=\"color: #008000; text-decoration-color: #008000\">'stop'</span>, <span style=\"color: #008000; text-decoration-color: #008000\">'logprobs'</span>: <span style=\"color: #800080; text-decoration-color: #800080; font-style: italic\">None</span><span style=\"font-weight: bold\">}</span>, <span style=\"color: #808000; text-decoration-color: #808000\">name</span>=<span style=\"color: #008000; text-decoration-color: #008000\">'supervisor'</span>, \n",
       "<span style=\"color: #808000; text-decoration-color: #808000\">id</span>=<span style=\"color: #008000; text-decoration-color: #008000\">'run--f9dfcf11-e447-4f14-88e0-8da935d1eec3-0'</span>, <span style=\"color: #808000; text-decoration-color: #808000\">usage_metadata</span>=<span style=\"font-weight: bold\">{</span><span style=\"color: #008000; text-decoration-color: #008000\">'input_tokens'</span>: <span style=\"color: #008080; text-decoration-color: #008080; font-weight: bold\">202</span>, <span style=\"color: #008000; text-decoration-color: #008000\">'output_tokens'</span>: <span style=\"color: #008080; text-decoration-color: #008080; font-weight: bold\">26</span>, \n",
       "<span style=\"color: #008000; text-decoration-color: #008000\">'total_tokens'</span>: <span style=\"color: #008080; text-decoration-color: #008080; font-weight: bold\">228</span>, <span style=\"color: #008000; text-decoration-color: #008000\">'input_token_details'</span>: <span style=\"font-weight: bold\">{</span><span style=\"color: #008000; text-decoration-color: #008000\">'audio'</span>: <span style=\"color: #008080; text-decoration-color: #008080; font-weight: bold\">0</span>, <span style=\"color: #008000; text-decoration-color: #008000\">'cache_read'</span>: <span style=\"color: #008080; text-decoration-color: #008080; font-weight: bold\">0</span><span style=\"font-weight: bold\">}</span>, <span style=\"color: #008000; text-decoration-color: #008000\">'output_token_details'</span>: <span style=\"font-weight: bold\">{</span><span style=\"color: #008000; text-decoration-color: #008000\">'audio'</span>: <span style=\"color: #008080; text-decoration-color: #008080; font-weight: bold\">0</span>, \n",
       "<span style=\"color: #008000; text-decoration-color: #008000\">'reasoning'</span>: <span style=\"color: #008080; text-decoration-color: #008080; font-weight: bold\">0</span><span style=\"font-weight: bold\">}})]}}</span>\n",
       "</pre>\n"
      ],
      "text/plain": [
       "Chunk: \u001b[1m{\u001b[0m\u001b[32m'supervisor'\u001b[0m: \u001b[1m{\u001b[0m\u001b[32m'messages'\u001b[0m: \u001b[1m[\u001b[0m\u001b[1;35mHumanMessage\u001b[0m\u001b[1m(\u001b[0m\u001b[33mcontent\u001b[0m=\u001b[32m'Book a flight from LAX to NYC'\u001b[0m, \u001b[33madditional_kwargs\u001b[0m=\u001b[1m{\u001b[0m\u001b[1m}\u001b[0m, \n",
       "\u001b[33mresponse_metadata\u001b[0m=\u001b[1m{\u001b[0m\u001b[1m}\u001b[0m, \u001b[33mid\u001b[0m=\u001b[32m'169d8f84-b155-46a2-bed3-cae573369f17'\u001b[0m\u001b[1m)\u001b[0m, \u001b[1;35mAIMessage\u001b[0m\u001b[1m(\u001b[0m\u001b[33mcontent\u001b[0m=\u001b[32m''\u001b[0m, \n",
       "\u001b[33madditional_kwargs\u001b[0m=\u001b[1m{\u001b[0m\u001b[32m'tool_calls'\u001b[0m: \u001b[1m[\u001b[0m\u001b[1m{\u001b[0m\u001b[32m'id'\u001b[0m: \u001b[32m'call_lXIlVAmPbCkVc5Agk4jrfXi9'\u001b[0m, \u001b[32m'function'\u001b[0m: \u001b[1m{\u001b[0m\u001b[32m'arguments'\u001b[0m: \u001b[32m'\u001b[0m\u001b[32m{\u001b[0m\u001b[32m}\u001b[0m\u001b[32m'\u001b[0m, \u001b[32m'name'\u001b[0m: \n",
       "\u001b[32m'transfer_to_flight_assistant'\u001b[0m\u001b[1m}\u001b[0m, \u001b[32m'type'\u001b[0m: \u001b[32m'function'\u001b[0m\u001b[1m}\u001b[0m\u001b[1m]\u001b[0m, \u001b[32m'refusal'\u001b[0m: \u001b[3;35mNone\u001b[0m\u001b[1m}\u001b[0m, \u001b[33mresponse_metadata\u001b[0m=\u001b[1m{\u001b[0m\u001b[32m'token_usage'\u001b[0m: \n",
       "\u001b[1m{\u001b[0m\u001b[32m'completion_tokens'\u001b[0m: \u001b[1;36m14\u001b[0m, \u001b[32m'prompt_tokens'\u001b[0m: \u001b[1;36m88\u001b[0m, \u001b[32m'total_tokens'\u001b[0m: \u001b[1;36m102\u001b[0m, \u001b[32m'completion_tokens_details'\u001b[0m: \n",
       "\u001b[1m{\u001b[0m\u001b[32m'accepted_prediction_tokens'\u001b[0m: \u001b[1;36m0\u001b[0m, \u001b[32m'audio_tokens'\u001b[0m: \u001b[1;36m0\u001b[0m, \u001b[32m'reasoning_tokens'\u001b[0m: \u001b[1;36m0\u001b[0m, \u001b[32m'rejected_prediction_tokens'\u001b[0m: \u001b[1;36m0\u001b[0m\u001b[1m}\u001b[0m, \n",
       "\u001b[32m'prompt_tokens_details'\u001b[0m: \u001b[1m{\u001b[0m\u001b[32m'audio_tokens'\u001b[0m: \u001b[1;36m0\u001b[0m, \u001b[32m'cached_tokens'\u001b[0m: \u001b[1;36m0\u001b[0m\u001b[1m}\u001b[0m\u001b[1m}\u001b[0m, \u001b[32m'model_name'\u001b[0m: \u001b[32m'gpt-4o-mini-2024-07-18'\u001b[0m, \n",
       "\u001b[32m'system_fingerprint'\u001b[0m: \u001b[32m'fp_8bda4d3a2c'\u001b[0m, \u001b[32m'id'\u001b[0m: \u001b[32m'chatcmpl-CCbk61D3QXfmMceHiZIMveuvrqbaF'\u001b[0m, \u001b[32m'service_tier'\u001b[0m: \u001b[32m'default'\u001b[0m, \n",
       "\u001b[32m'finish_reason'\u001b[0m: \u001b[32m'tool_calls'\u001b[0m, \u001b[32m'logprobs'\u001b[0m: \u001b[3;35mNone\u001b[0m\u001b[1m}\u001b[0m, \u001b[33mname\u001b[0m=\u001b[32m'supervisor'\u001b[0m, \n",
       "\u001b[33mid\u001b[0m=\u001b[32m'run--d298bbd2-5f26-4c86-9bb2-34e8d66c813b-0'\u001b[0m, \u001b[33mtool_calls\u001b[0m=\u001b[1m[\u001b[0m\u001b[1m{\u001b[0m\u001b[32m'name'\u001b[0m: \u001b[32m'transfer_to_flight_assistant'\u001b[0m, \u001b[32m'args'\u001b[0m: \u001b[1m{\u001b[0m\u001b[1m}\u001b[0m, \n",
       "\u001b[32m'id'\u001b[0m: \u001b[32m'call_lXIlVAmPbCkVc5Agk4jrfXi9'\u001b[0m, \u001b[32m'type'\u001b[0m: \u001b[32m'tool_call'\u001b[0m\u001b[1m}\u001b[0m\u001b[1m]\u001b[0m, \u001b[33musage_metadata\u001b[0m=\u001b[1m{\u001b[0m\u001b[32m'input_tokens'\u001b[0m: \u001b[1;36m88\u001b[0m, \u001b[32m'output_tokens'\u001b[0m: \n",
       "\u001b[1;36m14\u001b[0m, \u001b[32m'total_tokens'\u001b[0m: \u001b[1;36m102\u001b[0m, \u001b[32m'input_token_details'\u001b[0m: \u001b[1m{\u001b[0m\u001b[32m'audio'\u001b[0m: \u001b[1;36m0\u001b[0m, \u001b[32m'cache_read'\u001b[0m: \u001b[1;36m0\u001b[0m\u001b[1m}\u001b[0m, \u001b[32m'output_token_details'\u001b[0m: \u001b[1m{\u001b[0m\u001b[32m'audio'\u001b[0m: \u001b[1;36m0\u001b[0m,\n",
       "\u001b[32m'reasoning'\u001b[0m: \u001b[1;36m0\u001b[0m\u001b[1m}\u001b[0m\u001b[1m}\u001b[0m\u001b[1m)\u001b[0m, \u001b[1;35mToolMessage\u001b[0m\u001b[1m(\u001b[0m\u001b[33mcontent\u001b[0m=\u001b[32m'Successfully transferred to flight_assistant'\u001b[0m, \n",
       "\u001b[33mname\u001b[0m=\u001b[32m'transfer_to_flight_assistant'\u001b[0m, \u001b[33mid\u001b[0m=\u001b[32m'6ff35518-d7c2-42c4-a7ae-7a350459c6e7'\u001b[0m, \n",
       "\u001b[33mtool_call_id\u001b[0m=\u001b[32m'call_lXIlVAmPbCkVc5Agk4jrfXi9'\u001b[0m\u001b[1m)\u001b[0m, \u001b[1;35mAIMessage\u001b[0m\u001b[1m(\u001b[0m\u001b[33mcontent\u001b[0m=\u001b[32m'Your flight from LAX to NYC has been successfully\u001b[0m\n",
       "\u001b[32mbooked! If you need any more assistance, feel free to ask.'\u001b[0m, \u001b[33madditional_kwargs\u001b[0m=\u001b[1m{\u001b[0m\u001b[32m'refusal'\u001b[0m: \u001b[3;35mNone\u001b[0m\u001b[1m}\u001b[0m, \n",
       "\u001b[33mresponse_metadata\u001b[0m=\u001b[1m{\u001b[0m\u001b[32m'token_usage'\u001b[0m: \u001b[1m{\u001b[0m\u001b[32m'completion_tokens'\u001b[0m: \u001b[1;36m25\u001b[0m, \u001b[32m'prompt_tokens'\u001b[0m: \u001b[1;36m153\u001b[0m, \u001b[32m'total_tokens'\u001b[0m: \u001b[1;36m178\u001b[0m, \n",
       "\u001b[32m'completion_tokens_details'\u001b[0m: \u001b[1m{\u001b[0m\u001b[32m'accepted_prediction_tokens'\u001b[0m: \u001b[1;36m0\u001b[0m, \u001b[32m'audio_tokens'\u001b[0m: \u001b[1;36m0\u001b[0m, \u001b[32m'reasoning_tokens'\u001b[0m: \u001b[1;36m0\u001b[0m, \n",
       "\u001b[32m'rejected_prediction_tokens'\u001b[0m: \u001b[1;36m0\u001b[0m\u001b[1m}\u001b[0m, \u001b[32m'prompt_tokens_details'\u001b[0m: \u001b[1m{\u001b[0m\u001b[32m'audio_tokens'\u001b[0m: \u001b[1;36m0\u001b[0m, \u001b[32m'cached_tokens'\u001b[0m: \u001b[1;36m0\u001b[0m\u001b[1m}\u001b[0m\u001b[1m}\u001b[0m, \u001b[32m'model_name'\u001b[0m: \n",
       "\u001b[32m'gpt-4o-mini-2024-07-18'\u001b[0m, \u001b[32m'system_fingerprint'\u001b[0m: \u001b[32m'fp_8bda4d3a2c'\u001b[0m, \u001b[32m'id'\u001b[0m: \u001b[32m'chatcmpl-CCbk8nnmRNVn1wOlXprK0XXXRrPKP'\u001b[0m, \n",
       "\u001b[32m'service_tier'\u001b[0m: \u001b[32m'default'\u001b[0m, \u001b[32m'finish_reason'\u001b[0m: \u001b[32m'stop'\u001b[0m, \u001b[32m'logprobs'\u001b[0m: \u001b[3;35mNone\u001b[0m\u001b[1m}\u001b[0m, \u001b[33mname\u001b[0m=\u001b[32m'flight_assistant'\u001b[0m, \n",
       "\u001b[33mid\u001b[0m=\u001b[32m'run--25fb4683-aca6-416b-aac3-26dd87e5e04a-0'\u001b[0m, \u001b[33musage_metadata\u001b[0m=\u001b[1m{\u001b[0m\u001b[32m'input_tokens'\u001b[0m: \u001b[1;36m153\u001b[0m, \u001b[32m'output_tokens'\u001b[0m: \u001b[1;36m25\u001b[0m, \n",
       "\u001b[32m'total_tokens'\u001b[0m: \u001b[1;36m178\u001b[0m, \u001b[32m'input_token_details'\u001b[0m: \u001b[1m{\u001b[0m\u001b[32m'audio'\u001b[0m: \u001b[1;36m0\u001b[0m, \u001b[32m'cache_read'\u001b[0m: \u001b[1;36m0\u001b[0m\u001b[1m}\u001b[0m, \u001b[32m'output_token_details'\u001b[0m: \u001b[1m{\u001b[0m\u001b[32m'audio'\u001b[0m: \u001b[1;36m0\u001b[0m, \n",
       "\u001b[32m'reasoning'\u001b[0m: \u001b[1;36m0\u001b[0m\u001b[1m}\u001b[0m\u001b[1m}\u001b[0m\u001b[1m)\u001b[0m, \u001b[1;35mAIMessage\u001b[0m\u001b[1m(\u001b[0m\u001b[33mcontent\u001b[0m=\u001b[32m'Transferring back to supervisor'\u001b[0m, \u001b[33madditional_kwargs\u001b[0m=\u001b[1m{\u001b[0m\u001b[1m}\u001b[0m, \n",
       "\u001b[33mresponse_metadata\u001b[0m=\u001b[1m{\u001b[0m\u001b[32m'__is_handoff_back'\u001b[0m: \u001b[3;92mTrue\u001b[0m\u001b[1m}\u001b[0m, \u001b[33mname\u001b[0m=\u001b[32m'flight_assistant'\u001b[0m, \u001b[33mid\u001b[0m=\u001b[32m'0e46f95d-ea1f-4b30-bd80-2d6ed4ee4695'\u001b[0m, \n",
       "\u001b[33mtool_calls\u001b[0m=\u001b[1m[\u001b[0m\u001b[1m{\u001b[0m\u001b[32m'name'\u001b[0m: \u001b[32m'transfer_back_to_supervisor'\u001b[0m, \u001b[32m'args'\u001b[0m: \u001b[1m{\u001b[0m\u001b[1m}\u001b[0m, \u001b[32m'id'\u001b[0m: \u001b[32m'13a73cf3-5609-47a4-8556-4065490f5091'\u001b[0m, \n",
       "\u001b[32m'type'\u001b[0m: \u001b[32m'tool_call'\u001b[0m\u001b[1m}\u001b[0m\u001b[1m]\u001b[0m\u001b[1m)\u001b[0m, \u001b[1;35mToolMessage\u001b[0m\u001b[1m(\u001b[0m\u001b[33mcontent\u001b[0m=\u001b[32m'Successfully transferred back to supervisor'\u001b[0m, \n",
       "\u001b[33mname\u001b[0m=\u001b[32m'transfer_back_to_supervisor'\u001b[0m, \u001b[33mid\u001b[0m=\u001b[32m'bb2c2693-0b84-48e0-a377-be757b2a1df1'\u001b[0m, \n",
       "\u001b[33mtool_call_id\u001b[0m=\u001b[32m'13a73cf3-5609-47a4-8556-4065490f5091'\u001b[0m\u001b[1m)\u001b[0m, \u001b[1;35mAIMessage\u001b[0m\u001b[1m(\u001b[0m\u001b[33mcontent\u001b[0m=\u001b[32m'The flight from LAX to NYC has been \u001b[0m\n",
       "\u001b[32mbooked. If you need any further assistance or details, just let me know!'\u001b[0m, \u001b[33madditional_kwargs\u001b[0m=\u001b[1m{\u001b[0m\u001b[32m'refusal'\u001b[0m: \u001b[3;35mNone\u001b[0m\u001b[1m}\u001b[0m, \n",
       "\u001b[33mresponse_metadata\u001b[0m=\u001b[1m{\u001b[0m\u001b[32m'token_usage'\u001b[0m: \u001b[1m{\u001b[0m\u001b[32m'completion_tokens'\u001b[0m: \u001b[1;36m26\u001b[0m, \u001b[32m'prompt_tokens'\u001b[0m: \u001b[1;36m202\u001b[0m, \u001b[32m'total_tokens'\u001b[0m: \u001b[1;36m228\u001b[0m, \n",
       "\u001b[32m'completion_tokens_details'\u001b[0m: \u001b[1m{\u001b[0m\u001b[32m'accepted_prediction_tokens'\u001b[0m: \u001b[1;36m0\u001b[0m, \u001b[32m'audio_tokens'\u001b[0m: \u001b[1;36m0\u001b[0m, \u001b[32m'reasoning_tokens'\u001b[0m: \u001b[1;36m0\u001b[0m, \n",
       "\u001b[32m'rejected_prediction_tokens'\u001b[0m: \u001b[1;36m0\u001b[0m\u001b[1m}\u001b[0m, \u001b[32m'prompt_tokens_details'\u001b[0m: \u001b[1m{\u001b[0m\u001b[32m'audio_tokens'\u001b[0m: \u001b[1;36m0\u001b[0m, \u001b[32m'cached_tokens'\u001b[0m: \u001b[1;36m0\u001b[0m\u001b[1m}\u001b[0m\u001b[1m}\u001b[0m, \u001b[32m'model_name'\u001b[0m: \n",
       "\u001b[32m'gpt-4o-mini-2024-07-18'\u001b[0m, \u001b[32m'system_fingerprint'\u001b[0m: \u001b[32m'fp_8bda4d3a2c'\u001b[0m, \u001b[32m'id'\u001b[0m: \u001b[32m'chatcmpl-CCbk90hSLHkzruSfjeSdJRSjiIQ2y'\u001b[0m, \n",
       "\u001b[32m'service_tier'\u001b[0m: \u001b[32m'default'\u001b[0m, \u001b[32m'finish_reason'\u001b[0m: \u001b[32m'stop'\u001b[0m, \u001b[32m'logprobs'\u001b[0m: \u001b[3;35mNone\u001b[0m\u001b[1m}\u001b[0m, \u001b[33mname\u001b[0m=\u001b[32m'supervisor'\u001b[0m, \n",
       "\u001b[33mid\u001b[0m=\u001b[32m'run--f9dfcf11-e447-4f14-88e0-8da935d1eec3-0'\u001b[0m, \u001b[33musage_metadata\u001b[0m=\u001b[1m{\u001b[0m\u001b[32m'input_tokens'\u001b[0m: \u001b[1;36m202\u001b[0m, \u001b[32m'output_tokens'\u001b[0m: \u001b[1;36m26\u001b[0m, \n",
       "\u001b[32m'total_tokens'\u001b[0m: \u001b[1;36m228\u001b[0m, \u001b[32m'input_token_details'\u001b[0m: \u001b[1m{\u001b[0m\u001b[32m'audio'\u001b[0m: \u001b[1;36m0\u001b[0m, \u001b[32m'cache_read'\u001b[0m: \u001b[1;36m0\u001b[0m\u001b[1m}\u001b[0m, \u001b[32m'output_token_details'\u001b[0m: \u001b[1m{\u001b[0m\u001b[32m'audio'\u001b[0m: \u001b[1;36m0\u001b[0m, \n",
       "\u001b[32m'reasoning'\u001b[0m: \u001b[1;36m0\u001b[0m\u001b[1m}\u001b[0m\u001b[1m}\u001b[0m\u001b[1m)\u001b[0m\u001b[1m]\u001b[0m\u001b[1m}\u001b[0m\u001b[1m}\u001b[0m\n"
      ]
     },
     "metadata": {},
     "output_type": "display_data"
    },
    {
     "name": "stdout",
     "output_type": "stream",
     "text": [
      "\u001b[1m[values]\u001b[0m {'messages': [HumanMessage(content='Book a flight from LAX to NYC', additional_kwargs={}, response_metadata={}, id='169d8f84-b155-46a2-bed3-cae573369f17'), AIMessage(content='', additional_kwargs={'tool_calls': [{'id': 'call_lXIlVAmPbCkVc5Agk4jrfXi9', 'function': {'arguments': '{}', 'name': 'transfer_to_flight_assistant'}, 'type': 'function'}], 'refusal': None}, response_metadata={'token_usage': {'completion_tokens': 14, 'prompt_tokens': 88, 'total_tokens': 102, 'completion_tokens_details': {'accepted_prediction_tokens': 0, 'audio_tokens': 0, 'reasoning_tokens': 0, 'rejected_prediction_tokens': 0}, 'prompt_tokens_details': {'audio_tokens': 0, 'cached_tokens': 0}}, 'model_name': 'gpt-4o-mini-2024-07-18', 'system_fingerprint': 'fp_8bda4d3a2c', 'id': 'chatcmpl-CCbk61D3QXfmMceHiZIMveuvrqbaF', 'service_tier': 'default', 'finish_reason': 'tool_calls', 'logprobs': None}, name='supervisor', id='run--d298bbd2-5f26-4c86-9bb2-34e8d66c813b-0', tool_calls=[{'name': 'transfer_to_flight_assistant', 'args': {}, 'id': 'call_lXIlVAmPbCkVc5Agk4jrfXi9', 'type': 'tool_call'}], usage_metadata={'input_tokens': 88, 'output_tokens': 14, 'total_tokens': 102, 'input_token_details': {'audio': 0, 'cache_read': 0}, 'output_token_details': {'audio': 0, 'reasoning': 0}}), ToolMessage(content='Successfully transferred to flight_assistant', name='transfer_to_flight_assistant', id='6ff35518-d7c2-42c4-a7ae-7a350459c6e7', tool_call_id='call_lXIlVAmPbCkVc5Agk4jrfXi9'), AIMessage(content='Your flight from LAX to NYC has been successfully booked! If you need any more assistance, feel free to ask.', additional_kwargs={'refusal': None}, response_metadata={'token_usage': {'completion_tokens': 25, 'prompt_tokens': 153, 'total_tokens': 178, 'completion_tokens_details': {'accepted_prediction_tokens': 0, 'audio_tokens': 0, 'reasoning_tokens': 0, 'rejected_prediction_tokens': 0}, 'prompt_tokens_details': {'audio_tokens': 0, 'cached_tokens': 0}}, 'model_name': 'gpt-4o-mini-2024-07-18', 'system_fingerprint': 'fp_8bda4d3a2c', 'id': 'chatcmpl-CCbk8nnmRNVn1wOlXprK0XXXRrPKP', 'service_tier': 'default', 'finish_reason': 'stop', 'logprobs': None}, name='flight_assistant', id='run--25fb4683-aca6-416b-aac3-26dd87e5e04a-0', usage_metadata={'input_tokens': 153, 'output_tokens': 25, 'total_tokens': 178, 'input_token_details': {'audio': 0, 'cache_read': 0}, 'output_token_details': {'audio': 0, 'reasoning': 0}}), AIMessage(content='Transferring back to supervisor', additional_kwargs={}, response_metadata={'__is_handoff_back': True}, name='flight_assistant', id='0e46f95d-ea1f-4b30-bd80-2d6ed4ee4695', tool_calls=[{'name': 'transfer_back_to_supervisor', 'args': {}, 'id': '13a73cf3-5609-47a4-8556-4065490f5091', 'type': 'tool_call'}]), ToolMessage(content='Successfully transferred back to supervisor', name='transfer_back_to_supervisor', id='bb2c2693-0b84-48e0-a377-be757b2a1df1', tool_call_id='13a73cf3-5609-47a4-8556-4065490f5091'), AIMessage(content='The flight from LAX to NYC has been booked. If you need any further assistance or details, just let me know!', additional_kwargs={'refusal': None}, response_metadata={'token_usage': {'completion_tokens': 26, 'prompt_tokens': 202, 'total_tokens': 228, 'completion_tokens_details': {'accepted_prediction_tokens': 0, 'audio_tokens': 0, 'reasoning_tokens': 0, 'rejected_prediction_tokens': 0}, 'prompt_tokens_details': {'audio_tokens': 0, 'cached_tokens': 0}}, 'model_name': 'gpt-4o-mini-2024-07-18', 'system_fingerprint': 'fp_8bda4d3a2c', 'id': 'chatcmpl-CCbk90hSLHkzruSfjeSdJRSjiIQ2y', 'service_tier': 'default', 'finish_reason': 'stop', 'logprobs': None}, name='supervisor', id='run--f9dfcf11-e447-4f14-88e0-8da935d1eec3-0', usage_metadata={'input_tokens': 202, 'output_tokens': 26, 'total_tokens': 228, 'input_token_details': {'audio': 0, 'cache_read': 0}, 'output_token_details': {'audio': 0, 'reasoning': 0}})]}\n"
     ]
    }
   ],
   "source": [
    "# Print a header for the supervisor example output.\n",
    "print('=== SUPERVISOR EXAMPLE ===')\n",
    "\n",
    "# Stream the output from the supervisor graph for a given user request.\n",
    "# The `stream` method allows processing the output as it's generated.\n",
    "# `debug=True` provides verbose logging of the internal steps.\n",
    "for chunk in supervisor.stream(\n",
    "    # The input to the graph is a dictionary with a 'messages' key.\n",
    "    {'messages': [{'role': 'user', 'content': 'Book a flight from LAX to NYC'}]},\n",
    "    debug=True,\n",
    "):\n",
    "    # Check if the chunk contains any data before printing.\n",
    "    if chunk:\n",
    "        # Print a separator for readability.\n",
    "        print('-' * 60)\n",
    "        # Print the content of the current chunk.\n",
    "        print(f'Chunk: {chunk}')\n",
    "        # The original print(chunk) is commented out, but can be used for raw output.\n",
    "        # print(chunk)"
   ]
  },
  {
   "cell_type": "markdown",
   "metadata": {},
   "source": [
    "## Section 2: Swarm Multi-Agent System\n",
    "\n",
    "This example showcases a swarm architecture where agents can directly hand off tasks to one another. This is useful for more collaborative workflows.\n",
    "\n",
    "**Code Logic:**\n",
    "1.  **Tool Definition:** Similar to the supervisor example, `book_hotel_swarm` and `book_flight_swarm` are defined.\n",
    "2.  **Handoff Tool Creation:** `create_handoff_tool` is used to create special tools that allow one agent to transfer control to another.\n",
    "3.  **Agent Creation:** Agents are created with both their primary tool and the handoff tools.\n",
    "4.  **Swarm Creation:** `create_swarm` assembles the agents into a collaborative system. A `default_active_agent` is specified to handle the initial user request.\n",
    "5.  **Execution:** The user request is streamed through the swarm."
   ]
  },
  {
   "cell_type": "code",
   "execution_count": null,
   "metadata": {},
   "outputs": [],
   "source": [
    "from langchain_openai import ChatOpenAI\n",
    "from langgraph.prebuilt import create_react_agent\n",
    "from langgraph_swarm import create_swarm, create_handoff_tool"
   ]
  },
  {
   "cell_type": "code",
   "execution_count": null,
   "metadata": {},
   "outputs": [],
   "source": [
    "# Define a tool for booking a hotel in the swarm example.\n",
    "def book_hotel_swarm(hotel_name: str):\n",
    "    \"\"\"Book a hotel\"\"\"\n",
    "    return f'Hotel booked: {hotel_name}'\n",
    "\n",
    "\n",
    "# Define a tool for booking a flight in the swarm example.\n",
    "def book_flight_swarm(from_airport: str, to_airport: str):\n",
    "    \"\"\"Book a flight\"\"\"\n",
    "    return f'Flight booked: {from_airport} to {to_airport}'"
   ]
  },
  {
   "cell_type": "code",
   "execution_count": null,
   "metadata": {},
   "outputs": [],
   "source": [
    "# Create a handoff tool that allows transferring a task to the hotel assistant.\n",
    "# The `create_handoff_tool` function generates a tool that agents can call.\n",
    "transfer_to_hotel = create_handoff_tool(\n",
    "    # The name of the agent to hand off to.\n",
    "    agent_name='hotel_assistant',\n",
    "    # The description of the tool, which the agent's LLM will use to decide when to use it.\n",
    "    description='Transfer to hotel booking assistant.',\n",
    ")\n",
    "\n",
    "\n",
    "# Create a similar handoff tool for transferring to the flight assistant.\n",
    "transfer_to_flight = create_handoff_tool(\n",
    "    agent_name='flight_assistant',\n",
    "    description='Transfer to flight booking assistant.',\n",
    ")"
   ]
  },
  {
   "cell_type": "code",
   "execution_count": null,
   "metadata": {},
   "outputs": [],
   "source": [
    "# Create the flight assistant for the swarm.\n",
    "flight_assistant_swarm = create_react_agent(\n",
    "    model=ChatOpenAI(model='gpt-4o-mini', max_tokens=500),\n",
    "    # This agent has its primary tool (book_flight_swarm) and a handoff tool.\n",
    "    tools=[book_flight_swarm, transfer_to_hotel],\n",
    "    prompt='You are a flight booking assistant.',\n",
    "    name='flight_assistant',\n",
    ")\n",
    "\n",
    "\n",
    "# Create the hotel assistant for the swarm.\n",
    "hotel_assistant_swarm = create_react_agent(\n",
    "    model=ChatOpenAI(model='gpt-4o-mini', max_tokens=500),\n",
    "    # This agent can book hotels and hand off to the flight assistant.\n",
    "    tools=[book_hotel_swarm, transfer_to_flight],\n",
    "    prompt='You are a hotel booking assistant.',\n",
    "    name='hotel_assistant',\n",
    ")"
   ]
  },
  {
   "cell_type": "code",
   "execution_count": null,
   "metadata": {},
   "outputs": [],
   "source": [
    "print('Subgraph structure:')\n",
    "try:\n",
    "    display(Image(hotel_assistant_swarm.get_graph().draw_mermaid_png()))\n",
    "except Exception:\n",
    "    pass"
   ]
  },
  {
   "cell_type": "code",
   "execution_count": null,
   "metadata": {},
   "outputs": [],
   "source": [
    "# Create the swarm by passing the list of agents.\n",
    "# `create_swarm` wires them together so they can hand off tasks to each other.\n",
    "# `default_active_agent` specifies which agent should receive the initial request.\n",
    "swarm = create_swarm(\n",
    "    agents=[flight_assistant_swarm, hotel_assistant_swarm], default_active_agent='flight_assistant'\n",
    ").compile()"
   ]
  },
  {
   "cell_type": "code",
   "execution_count": null,
   "metadata": {},
   "outputs": [],
   "source": [
    "# Print a header for the swarm example.\n",
    "print('\\n=== SWARM EXAMPLE ===')\n",
    "\n",
    "# Stream the output from the swarm.\n",
    "# The initial request is to book a hotel, which will go to the default 'flight_assistant'.\n",
    "# The flight assistant should then use the `transfer_to_hotel` tool.\n",
    "for chunk in swarm.stream({'messages': [{'role': 'user', 'content': 'Book a hotel at Marriott'}]}, debug=True):\n",
    "    if chunk:\n",
    "        print('-' * 60)\n",
    "        print(f'Chunk: {chunk}')\n",
    "        # print(chunk)"
   ]
  },
  {
   "cell_type": "markdown",
   "metadata": {},
   "source": [
    "## Section 3: Custom Handoffs Implementation\n",
    "\n",
    "This section provides a from-scratch implementation of handoffs, giving you complete control over agent interaction logic. It uses a `StateGraph` to define the workflow explicitly.\n",
    "\n",
    "You can specify:\n",
    "- **destination**: target agent to navigate to\n",
    "- **payload**: information to pass to that agent\n",
    "\n",
    "**Code Logic:**\n",
    "1. **Tool Definition:** `book_hotel_custom` and `book_flight_custom` tools are defined.\n",
    "2. **Custom Handoff Tool Factory:** The `create_handoff_tool` function generates a tool that returns a `Command` object when called. This `Command` instructs the graph to transition to a different agent node.\n",
    "3. **Agent Definition:** Agents are created with their respective tools, including the custom handoff tools.\n",
    "4. **Graph Building:** A `StateGraph` is constructed with agents added as nodes and an entry point (`START`) that directs initial requests to the `flight_assistant`.\n"
   ]
  },
  {
   "cell_type": "code",
   "execution_count": null,
   "metadata": {},
   "outputs": [],
   "source": [
    "from typing import Annotated\n",
    "from langchain_core.tools import tool, InjectedToolCallId\n",
    "from langchain_openai import ChatOpenAI\n",
    "from langgraph.prebuilt import create_react_agent, InjectedState\n",
    "from langgraph.graph import StateGraph, START, MessagesState\n",
    "from langgraph.types import Command"
   ]
  },
  {
   "cell_type": "code",
   "execution_count": null,
   "metadata": {},
   "outputs": [],
   "source": [
    "# Define a custom tool for booking a hotel.\n",
    "def book_hotel_custom(hotel_name: str):\n",
    "    \"\"\"Book a hotel\"\"\"\n",
    "    return f'Custom hotel booking: {hotel_name}'\n",
    "\n",
    "\n",
    "# Define a custom tool for booking a flight.\n",
    "def book_flight_custom(from_airport: str, to_airport: str):\n",
    "    \"\"\"Book a flight\"\"\"\n",
    "    return f'Custom flight booking: {from_airport} to {to_airport}'"
   ]
  },
  {
   "cell_type": "code",
   "execution_count": null,
   "metadata": {},
   "outputs": [],
   "source": [
    "# This function is a factory for creating custom handoff tools.\n",
    "def create_handoff_tool_custom(*, agent_name: str, description: str):\n",
    "    # Generate a unique name for the tool based on the target agent.\n",
    "    name = f'transfer_to_{agent_name}'\n",
    "\n",
    "    # Use the @tool decorator to define the handoff tool.\n",
    "    @tool(name, description=description)\n",
    "    def handoff_tool(\n",
    "        # Inject the current graph state into the tool call.\n",
    "        state: Annotated[MessagesState, InjectedState],\n",
    "        # Inject the ID of the tool call that triggered this.\n",
    "        tool_call_id: Annotated[str, InjectedToolCallId],\n",
    "    ) -> Command:\n",
    "        # Create a tool message to record the handoff event.\n",
    "        tool_message = {\n",
    "            'role': 'tool',\n",
    "            'content': f'Transferred to {agent_name}',\n",
    "            'name': name,\n",
    "            'tool_call_id': tool_call_id,\n",
    "        }\n",
    "        # Return a Command object to instruct the graph to transition.\n",
    "        return Command(\n",
    "            # The `goto` field specifies the next node to execute.\n",
    "            goto=agent_name,\n",
    "            # The `update` field modifies the state, adding the tool message.\n",
    "            update={'messages': state['messages'] + [tool_message]},\n",
    "            # `graph=Command.PARENT` indicates the command applies to the parent graph.\n",
    "            graph=Command.PARENT,\n",
    "        )\n",
    "\n",
    "    return handoff_tool"
   ]
  },
  {
   "cell_type": "code",
   "execution_count": null,
   "metadata": {},
   "outputs": [],
   "source": [
    "# Create the custom handoff tools using the factory function.\n",
    "transfer_to_hotel_custom = create_handoff_tool_custom(\n",
    "    agent_name='hotel_assistant',\n",
    "    description='Transfer to hotel assistant.',\n",
    ")\n",
    "\n",
    "transfer_to_flight_custom = create_handoff_tool_custom(\n",
    "    agent_name='flight_assistant',\n",
    "    description='Transfer to flight assistant.',\n",
    ")"
   ]
  },
  {
   "cell_type": "code",
   "execution_count": null,
   "metadata": {},
   "outputs": [],
   "source": [
    "# Define the agents using the custom tools.\n",
    "flight_assistant_custom = create_react_agent(\n",
    "    model=ChatOpenAI(model='gpt-4o-mini', max_tokens=500),\n",
    "    tools=[book_flight_custom, transfer_to_hotel_custom],\n",
    "    prompt='You are a flight booking assistant.',\n",
    "    name='flight_assistant',\n",
    ")\n",
    "\n",
    "hotel_assistant_custom = create_react_agent(\n",
    "    model=ChatOpenAI(model='gpt-4o-mini', max_tokens=500),\n",
    "    tools=[book_hotel_custom, transfer_to_flight_custom],\n",
    "    prompt='You are a hotel booking assistant.',\n",
    "    name='hotel_assistant',\n",
    ")"
   ]
  },
  {
   "cell_type": "code",
   "execution_count": null,
   "metadata": {},
   "outputs": [],
   "source": [
    "# Build the state graph manually. New way to define multi-agent workflows.\n",
    "multi_agent_graph = (\n",
    "    # Initialize a StateGraph with the MessagesState schema.\n",
    "    StateGraph(MessagesState)\n",
    "    # Add the flight assistant as a node in the graph.\n",
    "    .add_node('flight_assistant', flight_assistant_custom)\n",
    "    # Add the hotel assistant as another node.\n",
    "    .add_node('hotel_assistant', hotel_assistant_custom)\n",
    "    # Define the entry point of the graph. All requests will start at the flight assistant.\n",
    "    .add_edge(START, 'flight_assistant')\n",
    "    .compile()\n",
    ")"
   ]
  },
  {
   "cell_type": "code",
   "execution_count": null,
   "metadata": {},
   "outputs": [],
   "source": [
    "print('Subgraph structure:')\n",
    "try:\n",
    "    img = Image(multi_agent_graph.get_graph().draw_mermaid_png())\n",
    "    display(img)\n",
    "except Exception:\n",
    "    pass"
   ]
  },
  {
   "cell_type": "code",
   "execution_count": null,
   "metadata": {},
   "outputs": [],
   "source": [
    "# Print a header for the custom handoffs example.\n",
    "print('\\n=== CUSTOM HANDOFFS EXAMPLE ===')\n",
    "\n",
    "# Stream the output from the custom graph.\n",
    "for chunk in multi_agent_graph.stream(\n",
    "    {'messages': [{'role': 'user', 'content': 'Book a flight from SFO to LAX'}]}, debug=True\n",
    "):\n",
    "    if chunk:\n",
    "        print('-' * 60)\n",
    "        print(f'Chunk: {chunk}')\n",
    "        # print(chunk)"
   ]
  },
  {
   "cell_type": "markdown",
   "metadata": {},
   "source": [
    "## Section 5: Conclusion\n",
    "\n",
    "This notebook has demonstrated three powerful patterns for building multi-agent systems with LangGraph:\n",
    "\n",
    "-   **Supervisor:** Ideal for hierarchical task delegation where a manager oversees workers.\n",
    "-   **Swarm:** Suitable for collaborative environments where agents can pass tasks amongst themselves.\n",
    "-   **Custom Handoffs:** Offers the most flexibility for designing complex, bespoke agent interactions.\n",
    "\n",
    "**Potential Extensions:**\n",
    "\n",
    "*   **Error Handling:** Implement more robust error handling within each agent.\n",
    "*   **Dynamic Routing:** Add more complex conditional logic for routing tasks.\n",
    "*   **State Management:** Enhance the state to carry more context between agent interactions."
   ]
  }
 ],
 "metadata": {
  "kernelspec": {
   "display_name": "py312",
   "language": "python",
   "name": "python3"
  },
  "language_info": {
   "codemirror_mode": {
    "name": "ipython",
    "version": 3
   },
   "file_extension": ".py",
   "mimetype": "text/x-python",
   "name": "python",
   "nbconvert_exporter": "python",
   "pygments_lexer": "ipython3",
   "version": "3.12.11"
  }
 },
 "nbformat": 4,
 "nbformat_minor": 4
}
