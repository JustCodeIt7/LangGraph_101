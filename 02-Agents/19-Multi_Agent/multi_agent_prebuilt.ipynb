{
 "cells": [
  {
   "cell_type": "markdown",
   "metadata": {},
   "source": [
    "# Multi-Agent System with LangGraph\n",
    "In multi-agent systems, agents interact through handoffs, a mechanism that determines which agent receives control and what data is transferred to them.\n",
    "\n",
    "Popular multi-agent architectures include:\n",
    "\n",
    "-  **Supervisor:** A central supervisor agent oversees individual agents, managing all communication and task delegation. It decides which agent to activate based on the current context and task needs.\n",
    "-  **Swarm:** Agents dynamically transfer control to one another based on their expertise. The system tracks the last active agent to ensure subsequent interactions continue with that agent.\n",
    "\n",
    "**Overview of the `multi_agent_prebuilt.py` script:**\n",
    "\n",
    "This script showcases three distinct approaches to building multi-agent systems:\n",
    "1. **Supervisor Pattern:** A central supervisor agent assigns tasks to specialized agents.\n",
    "2. **Swarm Pattern:** Agents directly pass tasks to each other as needed.\n",
    "3. **Custom Handoffs:** A detailed implementation of task handoffs between agents."
   ]
  },
  {
   "cell_type": "code",
   "execution_count": 152,
   "metadata": {},
   "outputs": [
    {
     "data": {
      "text/plain": [
       "True"
      ]
     },
     "execution_count": 152,
     "metadata": {},
     "output_type": "execute_result"
    }
   ],
   "source": [
    "# Import the os module to interact with the operating system, used here for environment variables.\n",
    "import os\n",
    "from dotenv import load_dotenv\n",
    "from rich import print\n",
    "from langchain_openai import ChatOpenAI\n",
    "from langgraph.prebuilt import create_react_agent\n",
    "from langgraph_supervisor import create_supervisor\n",
    "from IPython.display import Image, display\n",
    "from langchain_core.tools import tool\n",
    "load_dotenv()"
   ]
  },
  {
   "cell_type": "markdown",
   "metadata": {},
   "source": [
    "## Section 1: Supervisor Multi-Agent System\n",
    "\n",
    "This example demonstrates a supervisor-worker architecture. A `supervisor` agent receives a user request and routes it to the appropriate specialized agent (`flight_assistant` or `hotel_assistant`).\n",
    "\n",
    "**Code Logic:**\n",
    "1.  **Tool Definition:** Simple functions `book_hotel` and `book_flight` are defined as tools for the agents.\n",
    "2.  **Agent Creation:** Two `create_react_agent` instances are created. Each agent is specialized for a single task (booking flights or hotels) and is given access to the relevant tool.\n",
    "3.  **Supervisor Creation:** `create_supervisor` is used to create a managing agent that orchestrates the two specialized agents.\n",
    "4.  **Execution:** The system is run by streaming a user request through the compiled supervisor graph."
   ]
  },
  {
   "cell_type": "code",
   "execution_count": 153,
   "metadata": {},
   "outputs": [],
   "source": [
    "# Define a tool function for booking a hotel.\n",
    "# It takes the hotel name as input and returns a confirmation message.\n",
    "@tool\n",
    "def book_hotel(hotel_name: str):\n",
    "    \"\"\"Book a hotel\"\"\"\n",
    "    # This is a mock function; in a real application, this would\n",
    "    # interact with a hotel booking API.\n",
    "    return f'Successfully booked a stay at {hotel_name}.'\n",
    "\n",
    "\n",
    "# Define a tool function for booking a flight.\n",
    "# It takes departure and arrival airports and returns a confirmation.\n",
    "@tool\n",
    "def book_flight(from_airport: str, to_airport: str):\n",
    "    \"\"\"Book a flight\"\"\"\n",
    "    # This is a mock function; in a real application, this would\n",
    "    # interact with a flight booking API.\n",
    "    return f'Successfully booked a flight from {from_airport} to {to_airport}.'"
   ]
  },
  {
   "cell_type": "code",
   "execution_count": 154,
   "metadata": {},
   "outputs": [],
   "source": [
    "# Create the first specialized agent for booking flights.\n",
    "# The create_react_agent function initializes an agent that can reason and act.\n",
    "flight_assistant = create_react_agent(\n",
    "    # The language model that powers the agent's reasoning.\n",
    "    model=ChatOpenAI(model='gpt-4o-mini', max_tokens=500),\n",
    "    # The list of tools the agent can use. This agent can only book flights.\n",
    "    tools=[book_flight],\n",
    "    # The system prompt that defines the agent's role and personality.\n",
    "    prompt='You are a flight booking assistant. Help users book flights.',\n",
    "    # A unique name for the agent, used for routing and identification.\n",
    "    name='flight_assistant',\n",
    ")\n",
    "\n",
    "\n",
    "# Create the second specialized agent for booking hotels.\n",
    "hotel_assistant = create_react_agent(\n",
    "    model=ChatOpenAI(model='gpt-4o-mini', max_tokens=500),\n",
    "    # This agent can only use the book_hotel tool.\n",
    "    tools=[book_hotel],\n",
    "    # The specific prompt for the hotel assistant.\n",
    "    prompt='You are a hotel booking assistant. Help users book hotels.',\n",
    "    # A unique name for the hotel agent.\n",
    "    name='hotel_assistant',\n",
    ")"
   ]
  },
  {
   "cell_type": "code",
   "execution_count": 155,
   "metadata": {},
   "outputs": [],
   "source": [
    "# Create the supervisor agent that will manage the specialized agents.\n",
    "# The create_supervisor function wires together the agents and a routing mechanism.\n",
    "supervisor = create_supervisor(\n",
    "    # A list of the worker agents that the supervisor can delegate tasks to.\n",
    "    agents=[flight_assistant, hotel_assistant],\n",
    "    # The language model for the supervisor's decision-making.\n",
    "    model=ChatOpenAI(model='gpt-4o-mini', max_tokens=500),\n",
    "    # The system prompt for the supervisor, defining its role as a manager.\n",
    "    prompt='You manage hotel and flight booking assistants. Assign work to them.',\n",
    "    # Compile the supervisor graph into a runnable LangGraph object.\n",
    ").compile()"
   ]
  },
  {
   "cell_type": "code",
   "execution_count": 156,
   "metadata": {},
   "outputs": [
    {
     "data": {
      "text/html": [
       "<pre style=\"white-space:pre;overflow-x:auto;line-height:normal;font-family:Menlo,'DejaVu Sans Mono',consolas,'Courier New',monospace\">Subgraph structure:\n",
       "</pre>\n"
      ],
      "text/plain": [
       "Subgraph structure:\n"
      ]
     },
     "metadata": {},
     "output_type": "display_data"
    },
    {
     "data": {
      "image/png": "[encoded data removed]",
      "text/plain": [
       "<IPython.core.display.Image object>"
      ]
     },
     "metadata": {},
     "output_type": "display_data"
    }
   ],
   "source": [
    "# Print a header to indicate that the graph structure is being displayed.\n",
    "print('Subgraph structure:')\n",
    "try:\n",
    "    display(Image(supervisor.get_graph().draw_mermaid_png()))\n",
    "except Exception:\n",
    "    pass"
   ]
  },
  {
   "cell_type": "code",
   "execution_count": 157,
   "metadata": {},
   "outputs": [
    {
     "data": {
      "text/html": [
       "<pre style=\"white-space:pre;overflow-x:auto;line-height:normal;font-family:Menlo,'DejaVu Sans Mono',consolas,'Courier New',monospace\">=== SUPERVISOR EXAMPLE ===\n",
       "</pre>\n"
      ],
      "text/plain": [
       "=== SUPERVISOR EXAMPLE ===\n"
      ]
     },
     "metadata": {},
     "output_type": "display_data"
    },
    {
     "name": "stdout",
     "output_type": "stream",
     "text": [
      "\u001b[1m[values]\u001b[0m {'messages': [HumanMessage(content='Book a flight from LAX to NYC', additional_kwargs={}, response_metadata={}, id='bcda27db-1f65-4b6d-896e-65ece36956af')]}\n",
      "\u001b[1m[updates]\u001b[0m {'supervisor': {'messages': [HumanMessage(content='Book a flight from LAX to NYC', additional_kwargs={}, response_metadata={}, id='bcda27db-1f65-4b6d-896e-65ece36956af'), AIMessage(content='', additional_kwargs={'tool_calls': [{'id': 'call_hIenGOUhVyKhHpw4WzVcJ7nK', 'function': {'arguments': '{}', 'name': 'transfer_to_flight_assistant'}, 'type': 'function'}], 'refusal': None}, response_metadata={'token_usage': {'completion_tokens': 14, 'prompt_tokens': 88, 'total_tokens': 102, 'completion_tokens_details': {'accepted_prediction_tokens': 0, 'audio_tokens': 0, 'reasoning_tokens': 0, 'rejected_prediction_tokens': 0}, 'prompt_tokens_details': {'audio_tokens': 0, 'cached_tokens': 0}}, 'model_name': 'gpt-4o-mini-2024-07-18', 'system_fingerprint': 'fp_8bda4d3a2c', 'id': 'chatcmpl-CCcy1beSgwwufDdZMYUwelUkUvCvj', 'service_tier': 'default', 'finish_reason': 'tool_calls', 'logprobs': None}, name='supervisor', id='run--2642cb53-4610-400c-b956-e078048a0bbe-0', tool_calls=[{'name': 'transfer_to_flight_assistant', 'args': {}, 'id': 'call_hIenGOUhVyKhHpw4WzVcJ7nK', 'type': 'tool_call'}], usage_metadata={'input_tokens': 88, 'output_tokens': 14, 'total_tokens': 102, 'input_token_details': {'audio': 0, 'cache_read': 0}, 'output_token_details': {'audio': 0, 'reasoning': 0}}), ToolMessage(content='Successfully transferred to flight_assistant', name='transfer_to_flight_assistant', id='d8a7c030-152a-4003-bec1-321484fe98f8', tool_call_id='call_hIenGOUhVyKhHpw4WzVcJ7nK')]}}\n"
     ]
    },
    {
     "data": {
      "text/html": [
       "<pre style=\"white-space:pre;overflow-x:auto;line-height:normal;font-family:Menlo,'DejaVu Sans Mono',consolas,'Courier New',monospace\">------------------------------------------------------------\n",
       "</pre>\n"
      ],
      "text/plain": [
       "------------------------------------------------------------\n"
      ]
     },
     "metadata": {},
     "output_type": "display_data"
    },
    {
     "data": {
      "text/html": [
       "<pre style=\"white-space:pre;overflow-x:auto;line-height:normal;font-family:Menlo,'DejaVu Sans Mono',consolas,'Courier New',monospace\"><span style=\"font-weight: bold\">{</span>\n",
       "    <span style=\"color: #008000; text-decoration-color: #008000\">'supervisor'</span>: <span style=\"font-weight: bold\">{</span>\n",
       "        <span style=\"color: #008000; text-decoration-color: #008000\">'messages'</span>: <span style=\"font-weight: bold\">[</span>\n",
       "            <span style=\"color: #800080; text-decoration-color: #800080; font-weight: bold\">HumanMessage</span><span style=\"font-weight: bold\">(</span>\n",
       "                <span style=\"color: #808000; text-decoration-color: #808000\">content</span>=<span style=\"color: #008000; text-decoration-color: #008000\">'Book a flight from LAX to NYC'</span>,\n",
       "                <span style=\"color: #808000; text-decoration-color: #808000\">additional_kwargs</span>=<span style=\"font-weight: bold\">{}</span>,\n",
       "                <span style=\"color: #808000; text-decoration-color: #808000\">response_metadata</span>=<span style=\"font-weight: bold\">{}</span>,\n",
       "                <span style=\"color: #808000; text-decoration-color: #808000\">id</span>=<span style=\"color: #008000; text-decoration-color: #008000\">'bcda27db-1f65-4b6d-896e-65ece36956af'</span>\n",
       "            <span style=\"font-weight: bold\">)</span>,\n",
       "            <span style=\"color: #800080; text-decoration-color: #800080; font-weight: bold\">AIMessage</span><span style=\"font-weight: bold\">(</span>\n",
       "                <span style=\"color: #808000; text-decoration-color: #808000\">content</span>=<span style=\"color: #008000; text-decoration-color: #008000\">''</span>,\n",
       "                <span style=\"color: #808000; text-decoration-color: #808000\">additional_kwargs</span>=<span style=\"font-weight: bold\">{</span>\n",
       "                    <span style=\"color: #008000; text-decoration-color: #008000\">'tool_calls'</span>: <span style=\"font-weight: bold\">[</span>\n",
       "                        <span style=\"font-weight: bold\">{</span>\n",
       "                            <span style=\"color: #008000; text-decoration-color: #008000\">'id'</span>: <span style=\"color: #008000; text-decoration-color: #008000\">'call_hIenGOUhVyKhHpw4WzVcJ7nK'</span>,\n",
       "                            <span style=\"color: #008000; text-decoration-color: #008000\">'function'</span>: <span style=\"font-weight: bold\">{</span><span style=\"color: #008000; text-decoration-color: #008000\">'arguments'</span>: <span style=\"color: #008000; text-decoration-color: #008000\">'{}'</span>, <span style=\"color: #008000; text-decoration-color: #008000\">'name'</span>: <span style=\"color: #008000; text-decoration-color: #008000\">'transfer_to_flight_assistant'</span><span style=\"font-weight: bold\">}</span>,\n",
       "                            <span style=\"color: #008000; text-decoration-color: #008000\">'type'</span>: <span style=\"color: #008000; text-decoration-color: #008000\">'function'</span>\n",
       "                        <span style=\"font-weight: bold\">}</span>\n",
       "                    <span style=\"font-weight: bold\">]</span>,\n",
       "                    <span style=\"color: #008000; text-decoration-color: #008000\">'refusal'</span>: <span style=\"color: #800080; text-decoration-color: #800080; font-style: italic\">None</span>\n",
       "                <span style=\"font-weight: bold\">}</span>,\n",
       "                <span style=\"color: #808000; text-decoration-color: #808000\">response_metadata</span>=<span style=\"font-weight: bold\">{</span>\n",
       "                    <span style=\"color: #008000; text-decoration-color: #008000\">'token_usage'</span>: <span style=\"font-weight: bold\">{</span>\n",
       "                        <span style=\"color: #008000; text-decoration-color: #008000\">'completion_tokens'</span>: <span style=\"color: #008080; text-decoration-color: #008080; font-weight: bold\">14</span>,\n",
       "                        <span style=\"color: #008000; text-decoration-color: #008000\">'prompt_tokens'</span>: <span style=\"color: #008080; text-decoration-color: #008080; font-weight: bold\">88</span>,\n",
       "                        <span style=\"color: #008000; text-decoration-color: #008000\">'total_tokens'</span>: <span style=\"color: #008080; text-decoration-color: #008080; font-weight: bold\">102</span>,\n",
       "                        <span style=\"color: #008000; text-decoration-color: #008000\">'completion_tokens_details'</span>: <span style=\"font-weight: bold\">{</span>\n",
       "                            <span style=\"color: #008000; text-decoration-color: #008000\">'accepted_prediction_tokens'</span>: <span style=\"color: #008080; text-decoration-color: #008080; font-weight: bold\">0</span>,\n",
       "                            <span style=\"color: #008000; text-decoration-color: #008000\">'audio_tokens'</span>: <span style=\"color: #008080; text-decoration-color: #008080; font-weight: bold\">0</span>,\n",
       "                            <span style=\"color: #008000; text-decoration-color: #008000\">'reasoning_tokens'</span>: <span style=\"color: #008080; text-decoration-color: #008080; font-weight: bold\">0</span>,\n",
       "                            <span style=\"color: #008000; text-decoration-color: #008000\">'rejected_prediction_tokens'</span>: <span style=\"color: #008080; text-decoration-color: #008080; font-weight: bold\">0</span>\n",
       "                        <span style=\"font-weight: bold\">}</span>,\n",
       "                        <span style=\"color: #008000; text-decoration-color: #008000\">'prompt_tokens_details'</span>: <span style=\"font-weight: bold\">{</span><span style=\"color: #008000; text-decoration-color: #008000\">'audio_tokens'</span>: <span style=\"color: #008080; text-decoration-color: #008080; font-weight: bold\">0</span>, <span style=\"color: #008000; text-decoration-color: #008000\">'cached_tokens'</span>: <span style=\"color: #008080; text-decoration-color: #008080; font-weight: bold\">0</span><span style=\"font-weight: bold\">}</span>\n",
       "                    <span style=\"font-weight: bold\">}</span>,\n",
       "                    <span style=\"color: #008000; text-decoration-color: #008000\">'model_name'</span>: <span style=\"color: #008000; text-decoration-color: #008000\">'gpt-4o-mini-2024-07-18'</span>,\n",
       "                    <span style=\"color: #008000; text-decoration-color: #008000\">'system_fingerprint'</span>: <span style=\"color: #008000; text-decoration-color: #008000\">'fp_8bda4d3a2c'</span>,\n",
       "                    <span style=\"color: #008000; text-decoration-color: #008000\">'id'</span>: <span style=\"color: #008000; text-decoration-color: #008000\">'chatcmpl-CCcy1beSgwwufDdZMYUwelUkUvCvj'</span>,\n",
       "                    <span style=\"color: #008000; text-decoration-color: #008000\">'service_tier'</span>: <span style=\"color: #008000; text-decoration-color: #008000\">'default'</span>,\n",
       "                    <span style=\"color: #008000; text-decoration-color: #008000\">'finish_reason'</span>: <span style=\"color: #008000; text-decoration-color: #008000\">'tool_calls'</span>,\n",
       "                    <span style=\"color: #008000; text-decoration-color: #008000\">'logprobs'</span>: <span style=\"color: #800080; text-decoration-color: #800080; font-style: italic\">None</span>\n",
       "                <span style=\"font-weight: bold\">}</span>,\n",
       "                <span style=\"color: #808000; text-decoration-color: #808000\">name</span>=<span style=\"color: #008000; text-decoration-color: #008000\">'supervisor'</span>,\n",
       "                <span style=\"color: #808000; text-decoration-color: #808000\">id</span>=<span style=\"color: #008000; text-decoration-color: #008000\">'run--2642cb53-4610-400c-b956-e078048a0bbe-0'</span>,\n",
       "                <span style=\"color: #808000; text-decoration-color: #808000\">tool_calls</span>=<span style=\"font-weight: bold\">[</span>\n",
       "                    <span style=\"font-weight: bold\">{</span>\n",
       "                        <span style=\"color: #008000; text-decoration-color: #008000\">'name'</span>: <span style=\"color: #008000; text-decoration-color: #008000\">'transfer_to_flight_assistant'</span>,\n",
       "                        <span style=\"color: #008000; text-decoration-color: #008000\">'args'</span>: <span style=\"font-weight: bold\">{}</span>,\n",
       "                        <span style=\"color: #008000; text-decoration-color: #008000\">'id'</span>: <span style=\"color: #008000; text-decoration-color: #008000\">'call_hIenGOUhVyKhHpw4WzVcJ7nK'</span>,\n",
       "                        <span style=\"color: #008000; text-decoration-color: #008000\">'type'</span>: <span style=\"color: #008000; text-decoration-color: #008000\">'tool_call'</span>\n",
       "                    <span style=\"font-weight: bold\">}</span>\n",
       "                <span style=\"font-weight: bold\">]</span>,\n",
       "                <span style=\"color: #808000; text-decoration-color: #808000\">usage_metadata</span>=<span style=\"font-weight: bold\">{</span>\n",
       "                    <span style=\"color: #008000; text-decoration-color: #008000\">'input_tokens'</span>: <span style=\"color: #008080; text-decoration-color: #008080; font-weight: bold\">88</span>,\n",
       "                    <span style=\"color: #008000; text-decoration-color: #008000\">'output_tokens'</span>: <span style=\"color: #008080; text-decoration-color: #008080; font-weight: bold\">14</span>,\n",
       "                    <span style=\"color: #008000; text-decoration-color: #008000\">'total_tokens'</span>: <span style=\"color: #008080; text-decoration-color: #008080; font-weight: bold\">102</span>,\n",
       "                    <span style=\"color: #008000; text-decoration-color: #008000\">'input_token_details'</span>: <span style=\"font-weight: bold\">{</span><span style=\"color: #008000; text-decoration-color: #008000\">'audio'</span>: <span style=\"color: #008080; text-decoration-color: #008080; font-weight: bold\">0</span>, <span style=\"color: #008000; text-decoration-color: #008000\">'cache_read'</span>: <span style=\"color: #008080; text-decoration-color: #008080; font-weight: bold\">0</span><span style=\"font-weight: bold\">}</span>,\n",
       "                    <span style=\"color: #008000; text-decoration-color: #008000\">'output_token_details'</span>: <span style=\"font-weight: bold\">{</span><span style=\"color: #008000; text-decoration-color: #008000\">'audio'</span>: <span style=\"color: #008080; text-decoration-color: #008080; font-weight: bold\">0</span>, <span style=\"color: #008000; text-decoration-color: #008000\">'reasoning'</span>: <span style=\"color: #008080; text-decoration-color: #008080; font-weight: bold\">0</span><span style=\"font-weight: bold\">}</span>\n",
       "                <span style=\"font-weight: bold\">}</span>\n",
       "            <span style=\"font-weight: bold\">)</span>,\n",
       "            <span style=\"color: #800080; text-decoration-color: #800080; font-weight: bold\">ToolMessage</span><span style=\"font-weight: bold\">(</span>\n",
       "                <span style=\"color: #808000; text-decoration-color: #808000\">content</span>=<span style=\"color: #008000; text-decoration-color: #008000\">'Successfully transferred to flight_assistant'</span>,\n",
       "                <span style=\"color: #808000; text-decoration-color: #808000\">name</span>=<span style=\"color: #008000; text-decoration-color: #008000\">'transfer_to_flight_assistant'</span>,\n",
       "                <span style=\"color: #808000; text-decoration-color: #808000\">id</span>=<span style=\"color: #008000; text-decoration-color: #008000\">'d8a7c030-152a-4003-bec1-321484fe98f8'</span>,\n",
       "                <span style=\"color: #808000; text-decoration-color: #808000\">tool_call_id</span>=<span style=\"color: #008000; text-decoration-color: #008000\">'call_hIenGOUhVyKhHpw4WzVcJ7nK'</span>\n",
       "            <span style=\"font-weight: bold\">)</span>\n",
       "        <span style=\"font-weight: bold\">]</span>\n",
       "    <span style=\"font-weight: bold\">}</span>\n",
       "<span style=\"font-weight: bold\">}</span>\n",
       "</pre>\n"
      ],
      "text/plain": [
       "\u001b[1m{\u001b[0m\n",
       "    \u001b[32m'supervisor'\u001b[0m: \u001b[1m{\u001b[0m\n",
       "        \u001b[32m'messages'\u001b[0m: \u001b[1m[\u001b[0m\n",
       "            \u001b[1;35mHumanMessage\u001b[0m\u001b[1m(\u001b[0m\n",
       "                \u001b[33mcontent\u001b[0m=\u001b[32m'Book a flight from LAX to NYC'\u001b[0m,\n",
       "                \u001b[33madditional_kwargs\u001b[0m=\u001b[1m{\u001b[0m\u001b[1m}\u001b[0m,\n",
       "                \u001b[33mresponse_metadata\u001b[0m=\u001b[1m{\u001b[0m\u001b[1m}\u001b[0m,\n",
       "                \u001b[33mid\u001b[0m=\u001b[32m'bcda27db-1f65-4b6d-896e-65ece36956af'\u001b[0m\n",
       "            \u001b[1m)\u001b[0m,\n",
       "            \u001b[1;35mAIMessage\u001b[0m\u001b[1m(\u001b[0m\n",
       "                \u001b[33mcontent\u001b[0m=\u001b[32m''\u001b[0m,\n",
       "                \u001b[33madditional_kwargs\u001b[0m=\u001b[1m{\u001b[0m\n",
       "                    \u001b[32m'tool_calls'\u001b[0m: \u001b[1m[\u001b[0m\n",
       "                        \u001b[1m{\u001b[0m\n",
       "                            \u001b[32m'id'\u001b[0m: \u001b[32m'call_hIenGOUhVyKhHpw4WzVcJ7nK'\u001b[0m,\n",
       "                            \u001b[32m'function'\u001b[0m: \u001b[1m{\u001b[0m\u001b[32m'arguments'\u001b[0m: \u001b[32m'\u001b[0m\u001b[32m{\u001b[0m\u001b[32m}\u001b[0m\u001b[32m'\u001b[0m, \u001b[32m'name'\u001b[0m: \u001b[32m'transfer_to_flight_assistant'\u001b[0m\u001b[1m}\u001b[0m,\n",
       "                            \u001b[32m'type'\u001b[0m: \u001b[32m'function'\u001b[0m\n",
       "                        \u001b[1m}\u001b[0m\n",
       "                    \u001b[1m]\u001b[0m,\n",
       "                    \u001b[32m'refusal'\u001b[0m: \u001b[3;35mNone\u001b[0m\n",
       "                \u001b[1m}\u001b[0m,\n",
       "                \u001b[33mresponse_metadata\u001b[0m=\u001b[1m{\u001b[0m\n",
       "                    \u001b[32m'token_usage'\u001b[0m: \u001b[1m{\u001b[0m\n",
       "                        \u001b[32m'completion_tokens'\u001b[0m: \u001b[1;36m14\u001b[0m,\n",
       "                        \u001b[32m'prompt_tokens'\u001b[0m: \u001b[1;36m88\u001b[0m,\n",
       "                        \u001b[32m'total_tokens'\u001b[0m: \u001b[1;36m102\u001b[0m,\n",
       "                        \u001b[32m'completion_tokens_details'\u001b[0m: \u001b[1m{\u001b[0m\n",
       "                            \u001b[32m'accepted_prediction_tokens'\u001b[0m: \u001b[1;36m0\u001b[0m,\n",
       "                            \u001b[32m'audio_tokens'\u001b[0m: \u001b[1;36m0\u001b[0m,\n",
       "                            \u001b[32m'reasoning_tokens'\u001b[0m: \u001b[1;36m0\u001b[0m,\n",
       "                            \u001b[32m'rejected_prediction_tokens'\u001b[0m: \u001b[1;36m0\u001b[0m\n",
       "                        \u001b[1m}\u001b[0m,\n",
       "                        \u001b[32m'prompt_tokens_details'\u001b[0m: \u001b[1m{\u001b[0m\u001b[32m'audio_tokens'\u001b[0m: \u001b[1;36m0\u001b[0m, \u001b[32m'cached_tokens'\u001b[0m: \u001b[1;36m0\u001b[0m\u001b[1m}\u001b[0m\n",
       "                    \u001b[1m}\u001b[0m,\n",
       "                    \u001b[32m'model_name'\u001b[0m: \u001b[32m'gpt-4o-mini-2024-07-18'\u001b[0m,\n",
       "                    \u001b[32m'system_fingerprint'\u001b[0m: \u001b[32m'fp_8bda4d3a2c'\u001b[0m,\n",
       "                    \u001b[32m'id'\u001b[0m: \u001b[32m'chatcmpl-CCcy1beSgwwufDdZMYUwelUkUvCvj'\u001b[0m,\n",
       "                    \u001b[32m'service_tier'\u001b[0m: \u001b[32m'default'\u001b[0m,\n",
       "                    \u001b[32m'finish_reason'\u001b[0m: \u001b[32m'tool_calls'\u001b[0m,\n",
       "                    \u001b[32m'logprobs'\u001b[0m: \u001b[3;35mNone\u001b[0m\n",
       "                \u001b[1m}\u001b[0m,\n",
       "                \u001b[33mname\u001b[0m=\u001b[32m'supervisor'\u001b[0m,\n",
       "                \u001b[33mid\u001b[0m=\u001b[32m'run--2642cb53-4610-400c-b956-e078048a0bbe-0'\u001b[0m,\n",
       "                \u001b[33mtool_calls\u001b[0m=\u001b[1m[\u001b[0m\n",
       "                    \u001b[1m{\u001b[0m\n",
       "                        \u001b[32m'name'\u001b[0m: \u001b[32m'transfer_to_flight_assistant'\u001b[0m,\n",
       "                        \u001b[32m'args'\u001b[0m: \u001b[1m{\u001b[0m\u001b[1m}\u001b[0m,\n",
       "                        \u001b[32m'id'\u001b[0m: \u001b[32m'call_hIenGOUhVyKhHpw4WzVcJ7nK'\u001b[0m,\n",
       "                        \u001b[32m'type'\u001b[0m: \u001b[32m'tool_call'\u001b[0m\n",
       "                    \u001b[1m}\u001b[0m\n",
       "                \u001b[1m]\u001b[0m,\n",
       "                \u001b[33musage_metadata\u001b[0m=\u001b[1m{\u001b[0m\n",
       "                    \u001b[32m'input_tokens'\u001b[0m: \u001b[1;36m88\u001b[0m,\n",
       "                    \u001b[32m'output_tokens'\u001b[0m: \u001b[1;36m14\u001b[0m,\n",
       "                    \u001b[32m'total_tokens'\u001b[0m: \u001b[1;36m102\u001b[0m,\n",
       "                    \u001b[32m'input_token_details'\u001b[0m: \u001b[1m{\u001b[0m\u001b[32m'audio'\u001b[0m: \u001b[1;36m0\u001b[0m, \u001b[32m'cache_read'\u001b[0m: \u001b[1;36m0\u001b[0m\u001b[1m}\u001b[0m,\n",
       "                    \u001b[32m'output_token_details'\u001b[0m: \u001b[1m{\u001b[0m\u001b[32m'audio'\u001b[0m: \u001b[1;36m0\u001b[0m, \u001b[32m'reasoning'\u001b[0m: \u001b[1;36m0\u001b[0m\u001b[1m}\u001b[0m\n",
       "                \u001b[1m}\u001b[0m\n",
       "            \u001b[1m)\u001b[0m,\n",
       "            \u001b[1;35mToolMessage\u001b[0m\u001b[1m(\u001b[0m\n",
       "                \u001b[33mcontent\u001b[0m=\u001b[32m'Successfully transferred to flight_assistant'\u001b[0m,\n",
       "                \u001b[33mname\u001b[0m=\u001b[32m'transfer_to_flight_assistant'\u001b[0m,\n",
       "                \u001b[33mid\u001b[0m=\u001b[32m'd8a7c030-152a-4003-bec1-321484fe98f8'\u001b[0m,\n",
       "                \u001b[33mtool_call_id\u001b[0m=\u001b[32m'call_hIenGOUhVyKhHpw4WzVcJ7nK'\u001b[0m\n",
       "            \u001b[1m)\u001b[0m\n",
       "        \u001b[1m]\u001b[0m\n",
       "    \u001b[1m}\u001b[0m\n",
       "\u001b[1m}\u001b[0m\n"
      ]
     },
     "metadata": {},
     "output_type": "display_data"
    },
    {
     "name": "stdout",
     "output_type": "stream",
     "text": [
      "\u001b[1m[values]\u001b[0m {'messages': [HumanMessage(content='Book a flight from LAX to NYC', additional_kwargs={}, response_metadata={}, id='bcda27db-1f65-4b6d-896e-65ece36956af'), AIMessage(content='', additional_kwargs={'tool_calls': [{'id': 'call_hIenGOUhVyKhHpw4WzVcJ7nK', 'function': {'arguments': '{}', 'name': 'transfer_to_flight_assistant'}, 'type': 'function'}], 'refusal': None}, response_metadata={'token_usage': {'completion_tokens': 14, 'prompt_tokens': 88, 'total_tokens': 102, 'completion_tokens_details': {'accepted_prediction_tokens': 0, 'audio_tokens': 0, 'reasoning_tokens': 0, 'rejected_prediction_tokens': 0}, 'prompt_tokens_details': {'audio_tokens': 0, 'cached_tokens': 0}}, 'model_name': 'gpt-4o-mini-2024-07-18', 'system_fingerprint': 'fp_8bda4d3a2c', 'id': 'chatcmpl-CCcy1beSgwwufDdZMYUwelUkUvCvj', 'service_tier': 'default', 'finish_reason': 'tool_calls', 'logprobs': None}, name='supervisor', id='run--2642cb53-4610-400c-b956-e078048a0bbe-0', tool_calls=[{'name': 'transfer_to_flight_assistant', 'args': {}, 'id': 'call_hIenGOUhVyKhHpw4WzVcJ7nK', 'type': 'tool_call'}], usage_metadata={'input_tokens': 88, 'output_tokens': 14, 'total_tokens': 102, 'input_token_details': {'audio': 0, 'cache_read': 0}, 'output_token_details': {'audio': 0, 'reasoning': 0}}), ToolMessage(content='Successfully transferred to flight_assistant', name='transfer_to_flight_assistant', id='d8a7c030-152a-4003-bec1-321484fe98f8', tool_call_id='call_hIenGOUhVyKhHpw4WzVcJ7nK')]}\n",
      "\u001b[1m[updates]\u001b[0m {'flight_assistant': {'messages': [AIMessage(content='Your flight from LAX to NYC has been successfully booked. Safe travels!', additional_kwargs={'refusal': None}, response_metadata={'token_usage': {'completion_tokens': 16, 'prompt_tokens': 153, 'total_tokens': 169, 'completion_tokens_details': {'accepted_prediction_tokens': 0, 'audio_tokens': 0, 'reasoning_tokens': 0, 'rejected_prediction_tokens': 0}, 'prompt_tokens_details': {'audio_tokens': 0, 'cached_tokens': 0}}, 'model_name': 'gpt-4o-mini-2024-07-18', 'system_fingerprint': 'fp_8bda4d3a2c', 'id': 'chatcmpl-CCcy2vcgoVSO7TIe32fA063ukX0iW', 'service_tier': 'default', 'finish_reason': 'stop', 'logprobs': None}, name='flight_assistant', id='run--00a00943-e24a-47a1-ba2f-93f2db52751a-0', usage_metadata={'input_tokens': 153, 'output_tokens': 16, 'total_tokens': 169, 'input_token_details': {'audio': 0, 'cache_read': 0}, 'output_token_details': {'audio': 0, 'reasoning': 0}}), AIMessage(content='Transferring back to supervisor', additional_kwargs={}, response_metadata={'__is_handoff_back': True}, name='flight_assistant', id='eb8d4263-9a41-47cb-b93f-61105e7f2aa9', tool_calls=[{'name': 'transfer_back_to_supervisor', 'args': {}, 'id': 'e16e9062-891a-435f-b096-66becfd85b44', 'type': 'tool_call'}]), ToolMessage(content='Successfully transferred back to supervisor', name='transfer_back_to_supervisor', id='8323a110-8440-4c9c-a3c3-8f316c6dcc56', tool_call_id='e16e9062-891a-435f-b096-66becfd85b44')]}}\n"
     ]
    },
    {
     "data": {
      "text/html": [
       "<pre style=\"white-space:pre;overflow-x:auto;line-height:normal;font-family:Menlo,'DejaVu Sans Mono',consolas,'Courier New',monospace\">------------------------------------------------------------\n",
       "</pre>\n"
      ],
      "text/plain": [
       "------------------------------------------------------------\n"
      ]
     },
     "metadata": {},
     "output_type": "display_data"
    },
    {
     "data": {
      "text/html": [
       "<pre style=\"white-space:pre;overflow-x:auto;line-height:normal;font-family:Menlo,'DejaVu Sans Mono',consolas,'Courier New',monospace\"><span style=\"font-weight: bold\">{</span>\n",
       "    <span style=\"color: #008000; text-decoration-color: #008000\">'flight_assistant'</span>: <span style=\"font-weight: bold\">{</span>\n",
       "        <span style=\"color: #008000; text-decoration-color: #008000\">'messages'</span>: <span style=\"font-weight: bold\">[</span>\n",
       "            <span style=\"color: #800080; text-decoration-color: #800080; font-weight: bold\">AIMessage</span><span style=\"font-weight: bold\">(</span>\n",
       "                <span style=\"color: #808000; text-decoration-color: #808000\">content</span>=<span style=\"color: #008000; text-decoration-color: #008000\">'Your flight from LAX to NYC has been successfully booked. Safe travels!'</span>,\n",
       "                <span style=\"color: #808000; text-decoration-color: #808000\">additional_kwargs</span>=<span style=\"font-weight: bold\">{</span><span style=\"color: #008000; text-decoration-color: #008000\">'refusal'</span>: <span style=\"color: #800080; text-decoration-color: #800080; font-style: italic\">None</span><span style=\"font-weight: bold\">}</span>,\n",
       "                <span style=\"color: #808000; text-decoration-color: #808000\">response_metadata</span>=<span style=\"font-weight: bold\">{</span>\n",
       "                    <span style=\"color: #008000; text-decoration-color: #008000\">'token_usage'</span>: <span style=\"font-weight: bold\">{</span>\n",
       "                        <span style=\"color: #008000; text-decoration-color: #008000\">'completion_tokens'</span>: <span style=\"color: #008080; text-decoration-color: #008080; font-weight: bold\">16</span>,\n",
       "                        <span style=\"color: #008000; text-decoration-color: #008000\">'prompt_tokens'</span>: <span style=\"color: #008080; text-decoration-color: #008080; font-weight: bold\">153</span>,\n",
       "                        <span style=\"color: #008000; text-decoration-color: #008000\">'total_tokens'</span>: <span style=\"color: #008080; text-decoration-color: #008080; font-weight: bold\">169</span>,\n",
       "                        <span style=\"color: #008000; text-decoration-color: #008000\">'completion_tokens_details'</span>: <span style=\"font-weight: bold\">{</span>\n",
       "                            <span style=\"color: #008000; text-decoration-color: #008000\">'accepted_prediction_tokens'</span>: <span style=\"color: #008080; text-decoration-color: #008080; font-weight: bold\">0</span>,\n",
       "                            <span style=\"color: #008000; text-decoration-color: #008000\">'audio_tokens'</span>: <span style=\"color: #008080; text-decoration-color: #008080; font-weight: bold\">0</span>,\n",
       "                            <span style=\"color: #008000; text-decoration-color: #008000\">'reasoning_tokens'</span>: <span style=\"color: #008080; text-decoration-color: #008080; font-weight: bold\">0</span>,\n",
       "                            <span style=\"color: #008000; text-decoration-color: #008000\">'rejected_prediction_tokens'</span>: <span style=\"color: #008080; text-decoration-color: #008080; font-weight: bold\">0</span>\n",
       "                        <span style=\"font-weight: bold\">}</span>,\n",
       "                        <span style=\"color: #008000; text-decoration-color: #008000\">'prompt_tokens_details'</span>: <span style=\"font-weight: bold\">{</span><span style=\"color: #008000; text-decoration-color: #008000\">'audio_tokens'</span>: <span style=\"color: #008080; text-decoration-color: #008080; font-weight: bold\">0</span>, <span style=\"color: #008000; text-decoration-color: #008000\">'cached_tokens'</span>: <span style=\"color: #008080; text-decoration-color: #008080; font-weight: bold\">0</span><span style=\"font-weight: bold\">}</span>\n",
       "                    <span style=\"font-weight: bold\">}</span>,\n",
       "                    <span style=\"color: #008000; text-decoration-color: #008000\">'model_name'</span>: <span style=\"color: #008000; text-decoration-color: #008000\">'gpt-4o-mini-2024-07-18'</span>,\n",
       "                    <span style=\"color: #008000; text-decoration-color: #008000\">'system_fingerprint'</span>: <span style=\"color: #008000; text-decoration-color: #008000\">'fp_8bda4d3a2c'</span>,\n",
       "                    <span style=\"color: #008000; text-decoration-color: #008000\">'id'</span>: <span style=\"color: #008000; text-decoration-color: #008000\">'chatcmpl-CCcy2vcgoVSO7TIe32fA063ukX0iW'</span>,\n",
       "                    <span style=\"color: #008000; text-decoration-color: #008000\">'service_tier'</span>: <span style=\"color: #008000; text-decoration-color: #008000\">'default'</span>,\n",
       "                    <span style=\"color: #008000; text-decoration-color: #008000\">'finish_reason'</span>: <span style=\"color: #008000; text-decoration-color: #008000\">'stop'</span>,\n",
       "                    <span style=\"color: #008000; text-decoration-color: #008000\">'logprobs'</span>: <span style=\"color: #800080; text-decoration-color: #800080; font-style: italic\">None</span>\n",
       "                <span style=\"font-weight: bold\">}</span>,\n",
       "                <span style=\"color: #808000; text-decoration-color: #808000\">name</span>=<span style=\"color: #008000; text-decoration-color: #008000\">'flight_assistant'</span>,\n",
       "                <span style=\"color: #808000; text-decoration-color: #808000\">id</span>=<span style=\"color: #008000; text-decoration-color: #008000\">'run--00a00943-e24a-47a1-ba2f-93f2db52751a-0'</span>,\n",
       "                <span style=\"color: #808000; text-decoration-color: #808000\">usage_metadata</span>=<span style=\"font-weight: bold\">{</span>\n",
       "                    <span style=\"color: #008000; text-decoration-color: #008000\">'input_tokens'</span>: <span style=\"color: #008080; text-decoration-color: #008080; font-weight: bold\">153</span>,\n",
       "                    <span style=\"color: #008000; text-decoration-color: #008000\">'output_tokens'</span>: <span style=\"color: #008080; text-decoration-color: #008080; font-weight: bold\">16</span>,\n",
       "                    <span style=\"color: #008000; text-decoration-color: #008000\">'total_tokens'</span>: <span style=\"color: #008080; text-decoration-color: #008080; font-weight: bold\">169</span>,\n",
       "                    <span style=\"color: #008000; text-decoration-color: #008000\">'input_token_details'</span>: <span style=\"font-weight: bold\">{</span><span style=\"color: #008000; text-decoration-color: #008000\">'audio'</span>: <span style=\"color: #008080; text-decoration-color: #008080; font-weight: bold\">0</span>, <span style=\"color: #008000; text-decoration-color: #008000\">'cache_read'</span>: <span style=\"color: #008080; text-decoration-color: #008080; font-weight: bold\">0</span><span style=\"font-weight: bold\">}</span>,\n",
       "                    <span style=\"color: #008000; text-decoration-color: #008000\">'output_token_details'</span>: <span style=\"font-weight: bold\">{</span><span style=\"color: #008000; text-decoration-color: #008000\">'audio'</span>: <span style=\"color: #008080; text-decoration-color: #008080; font-weight: bold\">0</span>, <span style=\"color: #008000; text-decoration-color: #008000\">'reasoning'</span>: <span style=\"color: #008080; text-decoration-color: #008080; font-weight: bold\">0</span><span style=\"font-weight: bold\">}</span>\n",
       "                <span style=\"font-weight: bold\">}</span>\n",
       "            <span style=\"font-weight: bold\">)</span>,\n",
       "            <span style=\"color: #800080; text-decoration-color: #800080; font-weight: bold\">AIMessage</span><span style=\"font-weight: bold\">(</span>\n",
       "                <span style=\"color: #808000; text-decoration-color: #808000\">content</span>=<span style=\"color: #008000; text-decoration-color: #008000\">'Transferring back to supervisor'</span>,\n",
       "                <span style=\"color: #808000; text-decoration-color: #808000\">additional_kwargs</span>=<span style=\"font-weight: bold\">{}</span>,\n",
       "                <span style=\"color: #808000; text-decoration-color: #808000\">response_metadata</span>=<span style=\"font-weight: bold\">{</span><span style=\"color: #008000; text-decoration-color: #008000\">'__is_handoff_back'</span>: <span style=\"color: #00ff00; text-decoration-color: #00ff00; font-style: italic\">True</span><span style=\"font-weight: bold\">}</span>,\n",
       "                <span style=\"color: #808000; text-decoration-color: #808000\">name</span>=<span style=\"color: #008000; text-decoration-color: #008000\">'flight_assistant'</span>,\n",
       "                <span style=\"color: #808000; text-decoration-color: #808000\">id</span>=<span style=\"color: #008000; text-decoration-color: #008000\">'eb8d4263-9a41-47cb-b93f-61105e7f2aa9'</span>,\n",
       "                <span style=\"color: #808000; text-decoration-color: #808000\">tool_calls</span>=<span style=\"font-weight: bold\">[</span>\n",
       "                    <span style=\"font-weight: bold\">{</span>\n",
       "                        <span style=\"color: #008000; text-decoration-color: #008000\">'name'</span>: <span style=\"color: #008000; text-decoration-color: #008000\">'transfer_back_to_supervisor'</span>,\n",
       "                        <span style=\"color: #008000; text-decoration-color: #008000\">'args'</span>: <span style=\"font-weight: bold\">{}</span>,\n",
       "                        <span style=\"color: #008000; text-decoration-color: #008000\">'id'</span>: <span style=\"color: #008000; text-decoration-color: #008000\">'e16e9062-891a-435f-b096-66becfd85b44'</span>,\n",
       "                        <span style=\"color: #008000; text-decoration-color: #008000\">'type'</span>: <span style=\"color: #008000; text-decoration-color: #008000\">'tool_call'</span>\n",
       "                    <span style=\"font-weight: bold\">}</span>\n",
       "                <span style=\"font-weight: bold\">]</span>\n",
       "            <span style=\"font-weight: bold\">)</span>,\n",
       "            <span style=\"color: #800080; text-decoration-color: #800080; font-weight: bold\">ToolMessage</span><span style=\"font-weight: bold\">(</span>\n",
       "                <span style=\"color: #808000; text-decoration-color: #808000\">content</span>=<span style=\"color: #008000; text-decoration-color: #008000\">'Successfully transferred back to supervisor'</span>,\n",
       "                <span style=\"color: #808000; text-decoration-color: #808000\">name</span>=<span style=\"color: #008000; text-decoration-color: #008000\">'transfer_back_to_supervisor'</span>,\n",
       "                <span style=\"color: #808000; text-decoration-color: #808000\">id</span>=<span style=\"color: #008000; text-decoration-color: #008000\">'8323a110-8440-4c9c-a3c3-8f316c6dcc56'</span>,\n",
       "                <span style=\"color: #808000; text-decoration-color: #808000\">tool_call_id</span>=<span style=\"color: #008000; text-decoration-color: #008000\">'e16e9062-891a-435f-b096-66becfd85b44'</span>\n",
       "            <span style=\"font-weight: bold\">)</span>\n",
       "        <span style=\"font-weight: bold\">]</span>\n",
       "    <span style=\"font-weight: bold\">}</span>\n",
       "<span style=\"font-weight: bold\">}</span>\n",
       "</pre>\n"
      ],
      "text/plain": [
       "\u001b[1m{\u001b[0m\n",
       "    \u001b[32m'flight_assistant'\u001b[0m: \u001b[1m{\u001b[0m\n",
       "        \u001b[32m'messages'\u001b[0m: \u001b[1m[\u001b[0m\n",
       "            \u001b[1;35mAIMessage\u001b[0m\u001b[1m(\u001b[0m\n",
       "                \u001b[33mcontent\u001b[0m=\u001b[32m'Your flight from LAX to NYC has been successfully booked. Safe travels!'\u001b[0m,\n",
       "                \u001b[33madditional_kwargs\u001b[0m=\u001b[1m{\u001b[0m\u001b[32m'refusal'\u001b[0m: \u001b[3;35mNone\u001b[0m\u001b[1m}\u001b[0m,\n",
       "                \u001b[33mresponse_metadata\u001b[0m=\u001b[1m{\u001b[0m\n",
       "                    \u001b[32m'token_usage'\u001b[0m: \u001b[1m{\u001b[0m\n",
       "                        \u001b[32m'completion_tokens'\u001b[0m: \u001b[1;36m16\u001b[0m,\n",
       "                        \u001b[32m'prompt_tokens'\u001b[0m: \u001b[1;36m153\u001b[0m,\n",
       "                        \u001b[32m'total_tokens'\u001b[0m: \u001b[1;36m169\u001b[0m,\n",
       "                        \u001b[32m'completion_tokens_details'\u001b[0m: \u001b[1m{\u001b[0m\n",
       "                            \u001b[32m'accepted_prediction_tokens'\u001b[0m: \u001b[1;36m0\u001b[0m,\n",
       "                            \u001b[32m'audio_tokens'\u001b[0m: \u001b[1;36m0\u001b[0m,\n",
       "                            \u001b[32m'reasoning_tokens'\u001b[0m: \u001b[1;36m0\u001b[0m,\n",
       "                            \u001b[32m'rejected_prediction_tokens'\u001b[0m: \u001b[1;36m0\u001b[0m\n",
       "                        \u001b[1m}\u001b[0m,\n",
       "                        \u001b[32m'prompt_tokens_details'\u001b[0m: \u001b[1m{\u001b[0m\u001b[32m'audio_tokens'\u001b[0m: \u001b[1;36m0\u001b[0m, \u001b[32m'cached_tokens'\u001b[0m: \u001b[1;36m0\u001b[0m\u001b[1m}\u001b[0m\n",
       "                    \u001b[1m}\u001b[0m,\n",
       "                    \u001b[32m'model_name'\u001b[0m: \u001b[32m'gpt-4o-mini-2024-07-18'\u001b[0m,\n",
       "                    \u001b[32m'system_fingerprint'\u001b[0m: \u001b[32m'fp_8bda4d3a2c'\u001b[0m,\n",
       "                    \u001b[32m'id'\u001b[0m: \u001b[32m'chatcmpl-CCcy2vcgoVSO7TIe32fA063ukX0iW'\u001b[0m,\n",
       "                    \u001b[32m'service_tier'\u001b[0m: \u001b[32m'default'\u001b[0m,\n",
       "                    \u001b[32m'finish_reason'\u001b[0m: \u001b[32m'stop'\u001b[0m,\n",
       "                    \u001b[32m'logprobs'\u001b[0m: \u001b[3;35mNone\u001b[0m\n",
       "                \u001b[1m}\u001b[0m,\n",
       "                \u001b[33mname\u001b[0m=\u001b[32m'flight_assistant'\u001b[0m,\n",
       "                \u001b[33mid\u001b[0m=\u001b[32m'run--00a00943-e24a-47a1-ba2f-93f2db52751a-0'\u001b[0m,\n",
       "                \u001b[33musage_metadata\u001b[0m=\u001b[1m{\u001b[0m\n",
       "                    \u001b[32m'input_tokens'\u001b[0m: \u001b[1;36m153\u001b[0m,\n",
       "                    \u001b[32m'output_tokens'\u001b[0m: \u001b[1;36m16\u001b[0m,\n",
       "                    \u001b[32m'total_tokens'\u001b[0m: \u001b[1;36m169\u001b[0m,\n",
       "                    \u001b[32m'input_token_details'\u001b[0m: \u001b[1m{\u001b[0m\u001b[32m'audio'\u001b[0m: \u001b[1;36m0\u001b[0m, \u001b[32m'cache_read'\u001b[0m: \u001b[1;36m0\u001b[0m\u001b[1m}\u001b[0m,\n",
       "                    \u001b[32m'output_token_details'\u001b[0m: \u001b[1m{\u001b[0m\u001b[32m'audio'\u001b[0m: \u001b[1;36m0\u001b[0m, \u001b[32m'reasoning'\u001b[0m: \u001b[1;36m0\u001b[0m\u001b[1m}\u001b[0m\n",
       "                \u001b[1m}\u001b[0m\n",
       "            \u001b[1m)\u001b[0m,\n",
       "            \u001b[1;35mAIMessage\u001b[0m\u001b[1m(\u001b[0m\n",
       "                \u001b[33mcontent\u001b[0m=\u001b[32m'Transferring back to supervisor'\u001b[0m,\n",
       "                \u001b[33madditional_kwargs\u001b[0m=\u001b[1m{\u001b[0m\u001b[1m}\u001b[0m,\n",
       "                \u001b[33mresponse_metadata\u001b[0m=\u001b[1m{\u001b[0m\u001b[32m'__is_handoff_back'\u001b[0m: \u001b[3;92mTrue\u001b[0m\u001b[1m}\u001b[0m,\n",
       "                \u001b[33mname\u001b[0m=\u001b[32m'flight_assistant'\u001b[0m,\n",
       "                \u001b[33mid\u001b[0m=\u001b[32m'eb8d4263-9a41-47cb-b93f-61105e7f2aa9'\u001b[0m,\n",
       "                \u001b[33mtool_calls\u001b[0m=\u001b[1m[\u001b[0m\n",
       "                    \u001b[1m{\u001b[0m\n",
       "                        \u001b[32m'name'\u001b[0m: \u001b[32m'transfer_back_to_supervisor'\u001b[0m,\n",
       "                        \u001b[32m'args'\u001b[0m: \u001b[1m{\u001b[0m\u001b[1m}\u001b[0m,\n",
       "                        \u001b[32m'id'\u001b[0m: \u001b[32m'e16e9062-891a-435f-b096-66becfd85b44'\u001b[0m,\n",
       "                        \u001b[32m'type'\u001b[0m: \u001b[32m'tool_call'\u001b[0m\n",
       "                    \u001b[1m}\u001b[0m\n",
       "                \u001b[1m]\u001b[0m\n",
       "            \u001b[1m)\u001b[0m,\n",
       "            \u001b[1;35mToolMessage\u001b[0m\u001b[1m(\u001b[0m\n",
       "                \u001b[33mcontent\u001b[0m=\u001b[32m'Successfully transferred back to supervisor'\u001b[0m,\n",
       "                \u001b[33mname\u001b[0m=\u001b[32m'transfer_back_to_supervisor'\u001b[0m,\n",
       "                \u001b[33mid\u001b[0m=\u001b[32m'8323a110-8440-4c9c-a3c3-8f316c6dcc56'\u001b[0m,\n",
       "                \u001b[33mtool_call_id\u001b[0m=\u001b[32m'e16e9062-891a-435f-b096-66becfd85b44'\u001b[0m\n",
       "            \u001b[1m)\u001b[0m\n",
       "        \u001b[1m]\u001b[0m\n",
       "    \u001b[1m}\u001b[0m\n",
       "\u001b[1m}\u001b[0m\n"
      ]
     },
     "metadata": {},
     "output_type": "display_data"
    },
    {
     "name": "stdout",
     "output_type": "stream",
     "text": [
      "\u001b[1m[values]\u001b[0m {'messages': [HumanMessage(content='Book a flight from LAX to NYC', additional_kwargs={}, response_metadata={}, id='bcda27db-1f65-4b6d-896e-65ece36956af'), AIMessage(content='', additional_kwargs={'tool_calls': [{'id': 'call_hIenGOUhVyKhHpw4WzVcJ7nK', 'function': {'arguments': '{}', 'name': 'transfer_to_flight_assistant'}, 'type': 'function'}], 'refusal': None}, response_metadata={'token_usage': {'completion_tokens': 14, 'prompt_tokens': 88, 'total_tokens': 102, 'completion_tokens_details': {'accepted_prediction_tokens': 0, 'audio_tokens': 0, 'reasoning_tokens': 0, 'rejected_prediction_tokens': 0}, 'prompt_tokens_details': {'audio_tokens': 0, 'cached_tokens': 0}}, 'model_name': 'gpt-4o-mini-2024-07-18', 'system_fingerprint': 'fp_8bda4d3a2c', 'id': 'chatcmpl-CCcy1beSgwwufDdZMYUwelUkUvCvj', 'service_tier': 'default', 'finish_reason': 'tool_calls', 'logprobs': None}, name='supervisor', id='run--2642cb53-4610-400c-b956-e078048a0bbe-0', tool_calls=[{'name': 'transfer_to_flight_assistant', 'args': {}, 'id': 'call_hIenGOUhVyKhHpw4WzVcJ7nK', 'type': 'tool_call'}], usage_metadata={'input_tokens': 88, 'output_tokens': 14, 'total_tokens': 102, 'input_token_details': {'audio': 0, 'cache_read': 0}, 'output_token_details': {'audio': 0, 'reasoning': 0}}), ToolMessage(content='Successfully transferred to flight_assistant', name='transfer_to_flight_assistant', id='d8a7c030-152a-4003-bec1-321484fe98f8', tool_call_id='call_hIenGOUhVyKhHpw4WzVcJ7nK'), AIMessage(content='Your flight from LAX to NYC has been successfully booked. Safe travels!', additional_kwargs={'refusal': None}, response_metadata={'token_usage': {'completion_tokens': 16, 'prompt_tokens': 153, 'total_tokens': 169, 'completion_tokens_details': {'accepted_prediction_tokens': 0, 'audio_tokens': 0, 'reasoning_tokens': 0, 'rejected_prediction_tokens': 0}, 'prompt_tokens_details': {'audio_tokens': 0, 'cached_tokens': 0}}, 'model_name': 'gpt-4o-mini-2024-07-18', 'system_fingerprint': 'fp_8bda4d3a2c', 'id': 'chatcmpl-CCcy2vcgoVSO7TIe32fA063ukX0iW', 'service_tier': 'default', 'finish_reason': 'stop', 'logprobs': None}, name='flight_assistant', id='run--00a00943-e24a-47a1-ba2f-93f2db52751a-0', usage_metadata={'input_tokens': 153, 'output_tokens': 16, 'total_tokens': 169, 'input_token_details': {'audio': 0, 'cache_read': 0}, 'output_token_details': {'audio': 0, 'reasoning': 0}}), AIMessage(content='Transferring back to supervisor', additional_kwargs={}, response_metadata={'__is_handoff_back': True}, name='flight_assistant', id='eb8d4263-9a41-47cb-b93f-61105e7f2aa9', tool_calls=[{'name': 'transfer_back_to_supervisor', 'args': {}, 'id': 'e16e9062-891a-435f-b096-66becfd85b44', 'type': 'tool_call'}]), ToolMessage(content='Successfully transferred back to supervisor', name='transfer_back_to_supervisor', id='8323a110-8440-4c9c-a3c3-8f316c6dcc56', tool_call_id='e16e9062-891a-435f-b096-66becfd85b44')]}\n",
      "\u001b[1m[updates]\u001b[0m {'supervisor': {'messages': [HumanMessage(content='Book a flight from LAX to NYC', additional_kwargs={}, response_metadata={}, id='bcda27db-1f65-4b6d-896e-65ece36956af'), AIMessage(content='', additional_kwargs={'tool_calls': [{'id': 'call_hIenGOUhVyKhHpw4WzVcJ7nK', 'function': {'arguments': '{}', 'name': 'transfer_to_flight_assistant'}, 'type': 'function'}], 'refusal': None}, response_metadata={'token_usage': {'completion_tokens': 14, 'prompt_tokens': 88, 'total_tokens': 102, 'completion_tokens_details': {'accepted_prediction_tokens': 0, 'audio_tokens': 0, 'reasoning_tokens': 0, 'rejected_prediction_tokens': 0}, 'prompt_tokens_details': {'audio_tokens': 0, 'cached_tokens': 0}}, 'model_name': 'gpt-4o-mini-2024-07-18', 'system_fingerprint': 'fp_8bda4d3a2c', 'id': 'chatcmpl-CCcy1beSgwwufDdZMYUwelUkUvCvj', 'service_tier': 'default', 'finish_reason': 'tool_calls', 'logprobs': None}, name='supervisor', id='run--2642cb53-4610-400c-b956-e078048a0bbe-0', tool_calls=[{'name': 'transfer_to_flight_assistant', 'args': {}, 'id': 'call_hIenGOUhVyKhHpw4WzVcJ7nK', 'type': 'tool_call'}], usage_metadata={'input_tokens': 88, 'output_tokens': 14, 'total_tokens': 102, 'input_token_details': {'audio': 0, 'cache_read': 0}, 'output_token_details': {'audio': 0, 'reasoning': 0}}), ToolMessage(content='Successfully transferred to flight_assistant', name='transfer_to_flight_assistant', id='d8a7c030-152a-4003-bec1-321484fe98f8', tool_call_id='call_hIenGOUhVyKhHpw4WzVcJ7nK'), AIMessage(content='Your flight from LAX to NYC has been successfully booked. Safe travels!', additional_kwargs={'refusal': None}, response_metadata={'token_usage': {'completion_tokens': 16, 'prompt_tokens': 153, 'total_tokens': 169, 'completion_tokens_details': {'accepted_prediction_tokens': 0, 'audio_tokens': 0, 'reasoning_tokens': 0, 'rejected_prediction_tokens': 0}, 'prompt_tokens_details': {'audio_tokens': 0, 'cached_tokens': 0}}, 'model_name': 'gpt-4o-mini-2024-07-18', 'system_fingerprint': 'fp_8bda4d3a2c', 'id': 'chatcmpl-CCcy2vcgoVSO7TIe32fA063ukX0iW', 'service_tier': 'default', 'finish_reason': 'stop', 'logprobs': None}, name='flight_assistant', id='run--00a00943-e24a-47a1-ba2f-93f2db52751a-0', usage_metadata={'input_tokens': 153, 'output_tokens': 16, 'total_tokens': 169, 'input_token_details': {'audio': 0, 'cache_read': 0}, 'output_token_details': {'audio': 0, 'reasoning': 0}}), AIMessage(content='Transferring back to supervisor', additional_kwargs={}, response_metadata={'__is_handoff_back': True}, name='flight_assistant', id='eb8d4263-9a41-47cb-b93f-61105e7f2aa9', tool_calls=[{'name': 'transfer_back_to_supervisor', 'args': {}, 'id': 'e16e9062-891a-435f-b096-66becfd85b44', 'type': 'tool_call'}]), ToolMessage(content='Successfully transferred back to supervisor', name='transfer_back_to_supervisor', id='8323a110-8440-4c9c-a3c3-8f316c6dcc56', tool_call_id='e16e9062-891a-435f-b096-66becfd85b44'), AIMessage(content='Your flight from LAX to NYC has been successfully booked. If you need any further assistance, feel free to ask!', additional_kwargs={'refusal': None}, response_metadata={'token_usage': {'completion_tokens': 25, 'prompt_tokens': 193, 'total_tokens': 218, 'completion_tokens_details': {'accepted_prediction_tokens': 0, 'audio_tokens': 0, 'reasoning_tokens': 0, 'rejected_prediction_tokens': 0}, 'prompt_tokens_details': {'audio_tokens': 0, 'cached_tokens': 0}}, 'model_name': 'gpt-4o-mini-2024-07-18', 'system_fingerprint': 'fp_8bda4d3a2c', 'id': 'chatcmpl-CCcy3ra2T0orrZx6vOBzD5zAjrRIU', 'service_tier': 'default', 'finish_reason': 'stop', 'logprobs': None}, name='supervisor', id='run--398ae733-0681-4518-876c-5de16a172b3f-0', usage_metadata={'input_tokens': 193, 'output_tokens': 25, 'total_tokens': 218, 'input_token_details': {'audio': 0, 'cache_read': 0}, 'output_token_details': {'audio': 0, 'reasoning': 0}})]}}\n"
     ]
    },
    {
     "data": {
      "text/html": [
       "<pre style=\"white-space:pre;overflow-x:auto;line-height:normal;font-family:Menlo,'DejaVu Sans Mono',consolas,'Courier New',monospace\">------------------------------------------------------------\n",
       "</pre>\n"
      ],
      "text/plain": [
       "------------------------------------------------------------\n"
      ]
     },
     "metadata": {},
     "output_type": "display_data"
    },
    {
     "data": {
      "text/html": [
       "<pre style=\"white-space:pre;overflow-x:auto;line-height:normal;font-family:Menlo,'DejaVu Sans Mono',consolas,'Courier New',monospace\"><span style=\"font-weight: bold\">{</span>\n",
       "    <span style=\"color: #008000; text-decoration-color: #008000\">'supervisor'</span>: <span style=\"font-weight: bold\">{</span>\n",
       "        <span style=\"color: #008000; text-decoration-color: #008000\">'messages'</span>: <span style=\"font-weight: bold\">[</span>\n",
       "            <span style=\"color: #800080; text-decoration-color: #800080; font-weight: bold\">HumanMessage</span><span style=\"font-weight: bold\">(</span>\n",
       "                <span style=\"color: #808000; text-decoration-color: #808000\">content</span>=<span style=\"color: #008000; text-decoration-color: #008000\">'Book a flight from LAX to NYC'</span>,\n",
       "                <span style=\"color: #808000; text-decoration-color: #808000\">additional_kwargs</span>=<span style=\"font-weight: bold\">{}</span>,\n",
       "                <span style=\"color: #808000; text-decoration-color: #808000\">response_metadata</span>=<span style=\"font-weight: bold\">{}</span>,\n",
       "                <span style=\"color: #808000; text-decoration-color: #808000\">id</span>=<span style=\"color: #008000; text-decoration-color: #008000\">'bcda27db-1f65-4b6d-896e-65ece36956af'</span>\n",
       "            <span style=\"font-weight: bold\">)</span>,\n",
       "            <span style=\"color: #800080; text-decoration-color: #800080; font-weight: bold\">AIMessage</span><span style=\"font-weight: bold\">(</span>\n",
       "                <span style=\"color: #808000; text-decoration-color: #808000\">content</span>=<span style=\"color: #008000; text-decoration-color: #008000\">''</span>,\n",
       "                <span style=\"color: #808000; text-decoration-color: #808000\">additional_kwargs</span>=<span style=\"font-weight: bold\">{</span>\n",
       "                    <span style=\"color: #008000; text-decoration-color: #008000\">'tool_calls'</span>: <span style=\"font-weight: bold\">[</span>\n",
       "                        <span style=\"font-weight: bold\">{</span>\n",
       "                            <span style=\"color: #008000; text-decoration-color: #008000\">'id'</span>: <span style=\"color: #008000; text-decoration-color: #008000\">'call_hIenGOUhVyKhHpw4WzVcJ7nK'</span>,\n",
       "                            <span style=\"color: #008000; text-decoration-color: #008000\">'function'</span>: <span style=\"font-weight: bold\">{</span><span style=\"color: #008000; text-decoration-color: #008000\">'arguments'</span>: <span style=\"color: #008000; text-decoration-color: #008000\">'{}'</span>, <span style=\"color: #008000; text-decoration-color: #008000\">'name'</span>: <span style=\"color: #008000; text-decoration-color: #008000\">'transfer_to_flight_assistant'</span><span style=\"font-weight: bold\">}</span>,\n",
       "                            <span style=\"color: #008000; text-decoration-color: #008000\">'type'</span>: <span style=\"color: #008000; text-decoration-color: #008000\">'function'</span>\n",
       "                        <span style=\"font-weight: bold\">}</span>\n",
       "                    <span style=\"font-weight: bold\">]</span>,\n",
       "                    <span style=\"color: #008000; text-decoration-color: #008000\">'refusal'</span>: <span style=\"color: #800080; text-decoration-color: #800080; font-style: italic\">None</span>\n",
       "                <span style=\"font-weight: bold\">}</span>,\n",
       "                <span style=\"color: #808000; text-decoration-color: #808000\">response_metadata</span>=<span style=\"font-weight: bold\">{</span>\n",
       "                    <span style=\"color: #008000; text-decoration-color: #008000\">'token_usage'</span>: <span style=\"font-weight: bold\">{</span>\n",
       "                        <span style=\"color: #008000; text-decoration-color: #008000\">'completion_tokens'</span>: <span style=\"color: #008080; text-decoration-color: #008080; font-weight: bold\">14</span>,\n",
       "                        <span style=\"color: #008000; text-decoration-color: #008000\">'prompt_tokens'</span>: <span style=\"color: #008080; text-decoration-color: #008080; font-weight: bold\">88</span>,\n",
       "                        <span style=\"color: #008000; text-decoration-color: #008000\">'total_tokens'</span>: <span style=\"color: #008080; text-decoration-color: #008080; font-weight: bold\">102</span>,\n",
       "                        <span style=\"color: #008000; text-decoration-color: #008000\">'completion_tokens_details'</span>: <span style=\"font-weight: bold\">{</span>\n",
       "                            <span style=\"color: #008000; text-decoration-color: #008000\">'accepted_prediction_tokens'</span>: <span style=\"color: #008080; text-decoration-color: #008080; font-weight: bold\">0</span>,\n",
       "                            <span style=\"color: #008000; text-decoration-color: #008000\">'audio_tokens'</span>: <span style=\"color: #008080; text-decoration-color: #008080; font-weight: bold\">0</span>,\n",
       "                            <span style=\"color: #008000; text-decoration-color: #008000\">'reasoning_tokens'</span>: <span style=\"color: #008080; text-decoration-color: #008080; font-weight: bold\">0</span>,\n",
       "                            <span style=\"color: #008000; text-decoration-color: #008000\">'rejected_prediction_tokens'</span>: <span style=\"color: #008080; text-decoration-color: #008080; font-weight: bold\">0</span>\n",
       "                        <span style=\"font-weight: bold\">}</span>,\n",
       "                        <span style=\"color: #008000; text-decoration-color: #008000\">'prompt_tokens_details'</span>: <span style=\"font-weight: bold\">{</span><span style=\"color: #008000; text-decoration-color: #008000\">'audio_tokens'</span>: <span style=\"color: #008080; text-decoration-color: #008080; font-weight: bold\">0</span>, <span style=\"color: #008000; text-decoration-color: #008000\">'cached_tokens'</span>: <span style=\"color: #008080; text-decoration-color: #008080; font-weight: bold\">0</span><span style=\"font-weight: bold\">}</span>\n",
       "                    <span style=\"font-weight: bold\">}</span>,\n",
       "                    <span style=\"color: #008000; text-decoration-color: #008000\">'model_name'</span>: <span style=\"color: #008000; text-decoration-color: #008000\">'gpt-4o-mini-2024-07-18'</span>,\n",
       "                    <span style=\"color: #008000; text-decoration-color: #008000\">'system_fingerprint'</span>: <span style=\"color: #008000; text-decoration-color: #008000\">'fp_8bda4d3a2c'</span>,\n",
       "                    <span style=\"color: #008000; text-decoration-color: #008000\">'id'</span>: <span style=\"color: #008000; text-decoration-color: #008000\">'chatcmpl-CCcy1beSgwwufDdZMYUwelUkUvCvj'</span>,\n",
       "                    <span style=\"color: #008000; text-decoration-color: #008000\">'service_tier'</span>: <span style=\"color: #008000; text-decoration-color: #008000\">'default'</span>,\n",
       "                    <span style=\"color: #008000; text-decoration-color: #008000\">'finish_reason'</span>: <span style=\"color: #008000; text-decoration-color: #008000\">'tool_calls'</span>,\n",
       "                    <span style=\"color: #008000; text-decoration-color: #008000\">'logprobs'</span>: <span style=\"color: #800080; text-decoration-color: #800080; font-style: italic\">None</span>\n",
       "                <span style=\"font-weight: bold\">}</span>,\n",
       "                <span style=\"color: #808000; text-decoration-color: #808000\">name</span>=<span style=\"color: #008000; text-decoration-color: #008000\">'supervisor'</span>,\n",
       "                <span style=\"color: #808000; text-decoration-color: #808000\">id</span>=<span style=\"color: #008000; text-decoration-color: #008000\">'run--2642cb53-4610-400c-b956-e078048a0bbe-0'</span>,\n",
       "                <span style=\"color: #808000; text-decoration-color: #808000\">tool_calls</span>=<span style=\"font-weight: bold\">[</span>\n",
       "                    <span style=\"font-weight: bold\">{</span>\n",
       "                        <span style=\"color: #008000; text-decoration-color: #008000\">'name'</span>: <span style=\"color: #008000; text-decoration-color: #008000\">'transfer_to_flight_assistant'</span>,\n",
       "                        <span style=\"color: #008000; text-decoration-color: #008000\">'args'</span>: <span style=\"font-weight: bold\">{}</span>,\n",
       "                        <span style=\"color: #008000; text-decoration-color: #008000\">'id'</span>: <span style=\"color: #008000; text-decoration-color: #008000\">'call_hIenGOUhVyKhHpw4WzVcJ7nK'</span>,\n",
       "                        <span style=\"color: #008000; text-decoration-color: #008000\">'type'</span>: <span style=\"color: #008000; text-decoration-color: #008000\">'tool_call'</span>\n",
       "                    <span style=\"font-weight: bold\">}</span>\n",
       "                <span style=\"font-weight: bold\">]</span>,\n",
       "                <span style=\"color: #808000; text-decoration-color: #808000\">usage_metadata</span>=<span style=\"font-weight: bold\">{</span>\n",
       "                    <span style=\"color: #008000; text-decoration-color: #008000\">'input_tokens'</span>: <span style=\"color: #008080; text-decoration-color: #008080; font-weight: bold\">88</span>,\n",
       "                    <span style=\"color: #008000; text-decoration-color: #008000\">'output_tokens'</span>: <span style=\"color: #008080; text-decoration-color: #008080; font-weight: bold\">14</span>,\n",
       "                    <span style=\"color: #008000; text-decoration-color: #008000\">'total_tokens'</span>: <span style=\"color: #008080; text-decoration-color: #008080; font-weight: bold\">102</span>,\n",
       "                    <span style=\"color: #008000; text-decoration-color: #008000\">'input_token_details'</span>: <span style=\"font-weight: bold\">{</span><span style=\"color: #008000; text-decoration-color: #008000\">'audio'</span>: <span style=\"color: #008080; text-decoration-color: #008080; font-weight: bold\">0</span>, <span style=\"color: #008000; text-decoration-color: #008000\">'cache_read'</span>: <span style=\"color: #008080; text-decoration-color: #008080; font-weight: bold\">0</span><span style=\"font-weight: bold\">}</span>,\n",
       "                    <span style=\"color: #008000; text-decoration-color: #008000\">'output_token_details'</span>: <span style=\"font-weight: bold\">{</span><span style=\"color: #008000; text-decoration-color: #008000\">'audio'</span>: <span style=\"color: #008080; text-decoration-color: #008080; font-weight: bold\">0</span>, <span style=\"color: #008000; text-decoration-color: #008000\">'reasoning'</span>: <span style=\"color: #008080; text-decoration-color: #008080; font-weight: bold\">0</span><span style=\"font-weight: bold\">}</span>\n",
       "                <span style=\"font-weight: bold\">}</span>\n",
       "            <span style=\"font-weight: bold\">)</span>,\n",
       "            <span style=\"color: #800080; text-decoration-color: #800080; font-weight: bold\">ToolMessage</span><span style=\"font-weight: bold\">(</span>\n",
       "                <span style=\"color: #808000; text-decoration-color: #808000\">content</span>=<span style=\"color: #008000; text-decoration-color: #008000\">'Successfully transferred to flight_assistant'</span>,\n",
       "                <span style=\"color: #808000; text-decoration-color: #808000\">name</span>=<span style=\"color: #008000; text-decoration-color: #008000\">'transfer_to_flight_assistant'</span>,\n",
       "                <span style=\"color: #808000; text-decoration-color: #808000\">id</span>=<span style=\"color: #008000; text-decoration-color: #008000\">'d8a7c030-152a-4003-bec1-321484fe98f8'</span>,\n",
       "                <span style=\"color: #808000; text-decoration-color: #808000\">tool_call_id</span>=<span style=\"color: #008000; text-decoration-color: #008000\">'call_hIenGOUhVyKhHpw4WzVcJ7nK'</span>\n",
       "            <span style=\"font-weight: bold\">)</span>,\n",
       "            <span style=\"color: #800080; text-decoration-color: #800080; font-weight: bold\">AIMessage</span><span style=\"font-weight: bold\">(</span>\n",
       "                <span style=\"color: #808000; text-decoration-color: #808000\">content</span>=<span style=\"color: #008000; text-decoration-color: #008000\">'Your flight from LAX to NYC has been successfully booked. Safe travels!'</span>,\n",
       "                <span style=\"color: #808000; text-decoration-color: #808000\">additional_kwargs</span>=<span style=\"font-weight: bold\">{</span><span style=\"color: #008000; text-decoration-color: #008000\">'refusal'</span>: <span style=\"color: #800080; text-decoration-color: #800080; font-style: italic\">None</span><span style=\"font-weight: bold\">}</span>,\n",
       "                <span style=\"color: #808000; text-decoration-color: #808000\">response_metadata</span>=<span style=\"font-weight: bold\">{</span>\n",
       "                    <span style=\"color: #008000; text-decoration-color: #008000\">'token_usage'</span>: <span style=\"font-weight: bold\">{</span>\n",
       "                        <span style=\"color: #008000; text-decoration-color: #008000\">'completion_tokens'</span>: <span style=\"color: #008080; text-decoration-color: #008080; font-weight: bold\">16</span>,\n",
       "                        <span style=\"color: #008000; text-decoration-color: #008000\">'prompt_tokens'</span>: <span style=\"color: #008080; text-decoration-color: #008080; font-weight: bold\">153</span>,\n",
       "                        <span style=\"color: #008000; text-decoration-color: #008000\">'total_tokens'</span>: <span style=\"color: #008080; text-decoration-color: #008080; font-weight: bold\">169</span>,\n",
       "                        <span style=\"color: #008000; text-decoration-color: #008000\">'completion_tokens_details'</span>: <span style=\"font-weight: bold\">{</span>\n",
       "                            <span style=\"color: #008000; text-decoration-color: #008000\">'accepted_prediction_tokens'</span>: <span style=\"color: #008080; text-decoration-color: #008080; font-weight: bold\">0</span>,\n",
       "                            <span style=\"color: #008000; text-decoration-color: #008000\">'audio_tokens'</span>: <span style=\"color: #008080; text-decoration-color: #008080; font-weight: bold\">0</span>,\n",
       "                            <span style=\"color: #008000; text-decoration-color: #008000\">'reasoning_tokens'</span>: <span style=\"color: #008080; text-decoration-color: #008080; font-weight: bold\">0</span>,\n",
       "                            <span style=\"color: #008000; text-decoration-color: #008000\">'rejected_prediction_tokens'</span>: <span style=\"color: #008080; text-decoration-color: #008080; font-weight: bold\">0</span>\n",
       "                        <span style=\"font-weight: bold\">}</span>,\n",
       "                        <span style=\"color: #008000; text-decoration-color: #008000\">'prompt_tokens_details'</span>: <span style=\"font-weight: bold\">{</span><span style=\"color: #008000; text-decoration-color: #008000\">'audio_tokens'</span>: <span style=\"color: #008080; text-decoration-color: #008080; font-weight: bold\">0</span>, <span style=\"color: #008000; text-decoration-color: #008000\">'cached_tokens'</span>: <span style=\"color: #008080; text-decoration-color: #008080; font-weight: bold\">0</span><span style=\"font-weight: bold\">}</span>\n",
       "                    <span style=\"font-weight: bold\">}</span>,\n",
       "                    <span style=\"color: #008000; text-decoration-color: #008000\">'model_name'</span>: <span style=\"color: #008000; text-decoration-color: #008000\">'gpt-4o-mini-2024-07-18'</span>,\n",
       "                    <span style=\"color: #008000; text-decoration-color: #008000\">'system_fingerprint'</span>: <span style=\"color: #008000; text-decoration-color: #008000\">'fp_8bda4d3a2c'</span>,\n",
       "                    <span style=\"color: #008000; text-decoration-color: #008000\">'id'</span>: <span style=\"color: #008000; text-decoration-color: #008000\">'chatcmpl-CCcy2vcgoVSO7TIe32fA063ukX0iW'</span>,\n",
       "                    <span style=\"color: #008000; text-decoration-color: #008000\">'service_tier'</span>: <span style=\"color: #008000; text-decoration-color: #008000\">'default'</span>,\n",
       "                    <span style=\"color: #008000; text-decoration-color: #008000\">'finish_reason'</span>: <span style=\"color: #008000; text-decoration-color: #008000\">'stop'</span>,\n",
       "                    <span style=\"color: #008000; text-decoration-color: #008000\">'logprobs'</span>: <span style=\"color: #800080; text-decoration-color: #800080; font-style: italic\">None</span>\n",
       "                <span style=\"font-weight: bold\">}</span>,\n",
       "                <span style=\"color: #808000; text-decoration-color: #808000\">name</span>=<span style=\"color: #008000; text-decoration-color: #008000\">'flight_assistant'</span>,\n",
       "                <span style=\"color: #808000; text-decoration-color: #808000\">id</span>=<span style=\"color: #008000; text-decoration-color: #008000\">'run--00a00943-e24a-47a1-ba2f-93f2db52751a-0'</span>,\n",
       "                <span style=\"color: #808000; text-decoration-color: #808000\">usage_metadata</span>=<span style=\"font-weight: bold\">{</span>\n",
       "                    <span style=\"color: #008000; text-decoration-color: #008000\">'input_tokens'</span>: <span style=\"color: #008080; text-decoration-color: #008080; font-weight: bold\">153</span>,\n",
       "                    <span style=\"color: #008000; text-decoration-color: #008000\">'output_tokens'</span>: <span style=\"color: #008080; text-decoration-color: #008080; font-weight: bold\">16</span>,\n",
       "                    <span style=\"color: #008000; text-decoration-color: #008000\">'total_tokens'</span>: <span style=\"color: #008080; text-decoration-color: #008080; font-weight: bold\">169</span>,\n",
       "                    <span style=\"color: #008000; text-decoration-color: #008000\">'input_token_details'</span>: <span style=\"font-weight: bold\">{</span><span style=\"color: #008000; text-decoration-color: #008000\">'audio'</span>: <span style=\"color: #008080; text-decoration-color: #008080; font-weight: bold\">0</span>, <span style=\"color: #008000; text-decoration-color: #008000\">'cache_read'</span>: <span style=\"color: #008080; text-decoration-color: #008080; font-weight: bold\">0</span><span style=\"font-weight: bold\">}</span>,\n",
       "                    <span style=\"color: #008000; text-decoration-color: #008000\">'output_token_details'</span>: <span style=\"font-weight: bold\">{</span><span style=\"color: #008000; text-decoration-color: #008000\">'audio'</span>: <span style=\"color: #008080; text-decoration-color: #008080; font-weight: bold\">0</span>, <span style=\"color: #008000; text-decoration-color: #008000\">'reasoning'</span>: <span style=\"color: #008080; text-decoration-color: #008080; font-weight: bold\">0</span><span style=\"font-weight: bold\">}</span>\n",
       "                <span style=\"font-weight: bold\">}</span>\n",
       "            <span style=\"font-weight: bold\">)</span>,\n",
       "            <span style=\"color: #800080; text-decoration-color: #800080; font-weight: bold\">AIMessage</span><span style=\"font-weight: bold\">(</span>\n",
       "                <span style=\"color: #808000; text-decoration-color: #808000\">content</span>=<span style=\"color: #008000; text-decoration-color: #008000\">'Transferring back to supervisor'</span>,\n",
       "                <span style=\"color: #808000; text-decoration-color: #808000\">additional_kwargs</span>=<span style=\"font-weight: bold\">{}</span>,\n",
       "                <span style=\"color: #808000; text-decoration-color: #808000\">response_metadata</span>=<span style=\"font-weight: bold\">{</span><span style=\"color: #008000; text-decoration-color: #008000\">'__is_handoff_back'</span>: <span style=\"color: #00ff00; text-decoration-color: #00ff00; font-style: italic\">True</span><span style=\"font-weight: bold\">}</span>,\n",
       "                <span style=\"color: #808000; text-decoration-color: #808000\">name</span>=<span style=\"color: #008000; text-decoration-color: #008000\">'flight_assistant'</span>,\n",
       "                <span style=\"color: #808000; text-decoration-color: #808000\">id</span>=<span style=\"color: #008000; text-decoration-color: #008000\">'eb8d4263-9a41-47cb-b93f-61105e7f2aa9'</span>,\n",
       "                <span style=\"color: #808000; text-decoration-color: #808000\">tool_calls</span>=<span style=\"font-weight: bold\">[</span>\n",
       "                    <span style=\"font-weight: bold\">{</span>\n",
       "                        <span style=\"color: #008000; text-decoration-color: #008000\">'name'</span>: <span style=\"color: #008000; text-decoration-color: #008000\">'transfer_back_to_supervisor'</span>,\n",
       "                        <span style=\"color: #008000; text-decoration-color: #008000\">'args'</span>: <span style=\"font-weight: bold\">{}</span>,\n",
       "                        <span style=\"color: #008000; text-decoration-color: #008000\">'id'</span>: <span style=\"color: #008000; text-decoration-color: #008000\">'e16e9062-891a-435f-b096-66becfd85b44'</span>,\n",
       "                        <span style=\"color: #008000; text-decoration-color: #008000\">'type'</span>: <span style=\"color: #008000; text-decoration-color: #008000\">'tool_call'</span>\n",
       "                    <span style=\"font-weight: bold\">}</span>\n",
       "                <span style=\"font-weight: bold\">]</span>\n",
       "            <span style=\"font-weight: bold\">)</span>,\n",
       "            <span style=\"color: #800080; text-decoration-color: #800080; font-weight: bold\">ToolMessage</span><span style=\"font-weight: bold\">(</span>\n",
       "                <span style=\"color: #808000; text-decoration-color: #808000\">content</span>=<span style=\"color: #008000; text-decoration-color: #008000\">'Successfully transferred back to supervisor'</span>,\n",
       "                <span style=\"color: #808000; text-decoration-color: #808000\">name</span>=<span style=\"color: #008000; text-decoration-color: #008000\">'transfer_back_to_supervisor'</span>,\n",
       "                <span style=\"color: #808000; text-decoration-color: #808000\">id</span>=<span style=\"color: #008000; text-decoration-color: #008000\">'8323a110-8440-4c9c-a3c3-8f316c6dcc56'</span>,\n",
       "                <span style=\"color: #808000; text-decoration-color: #808000\">tool_call_id</span>=<span style=\"color: #008000; text-decoration-color: #008000\">'e16e9062-891a-435f-b096-66becfd85b44'</span>\n",
       "            <span style=\"font-weight: bold\">)</span>,\n",
       "            <span style=\"color: #800080; text-decoration-color: #800080; font-weight: bold\">AIMessage</span><span style=\"font-weight: bold\">(</span>\n",
       "                <span style=\"color: #808000; text-decoration-color: #808000\">content</span>=<span style=\"color: #008000; text-decoration-color: #008000\">'Your flight from LAX to NYC has been successfully booked. If you need any further </span>\n",
       "<span style=\"color: #008000; text-decoration-color: #008000\">assistance, feel free to ask!'</span>,\n",
       "                <span style=\"color: #808000; text-decoration-color: #808000\">additional_kwargs</span>=<span style=\"font-weight: bold\">{</span><span style=\"color: #008000; text-decoration-color: #008000\">'refusal'</span>: <span style=\"color: #800080; text-decoration-color: #800080; font-style: italic\">None</span><span style=\"font-weight: bold\">}</span>,\n",
       "                <span style=\"color: #808000; text-decoration-color: #808000\">response_metadata</span>=<span style=\"font-weight: bold\">{</span>\n",
       "                    <span style=\"color: #008000; text-decoration-color: #008000\">'token_usage'</span>: <span style=\"font-weight: bold\">{</span>\n",
       "                        <span style=\"color: #008000; text-decoration-color: #008000\">'completion_tokens'</span>: <span style=\"color: #008080; text-decoration-color: #008080; font-weight: bold\">25</span>,\n",
       "                        <span style=\"color: #008000; text-decoration-color: #008000\">'prompt_tokens'</span>: <span style=\"color: #008080; text-decoration-color: #008080; font-weight: bold\">193</span>,\n",
       "                        <span style=\"color: #008000; text-decoration-color: #008000\">'total_tokens'</span>: <span style=\"color: #008080; text-decoration-color: #008080; font-weight: bold\">218</span>,\n",
       "                        <span style=\"color: #008000; text-decoration-color: #008000\">'completion_tokens_details'</span>: <span style=\"font-weight: bold\">{</span>\n",
       "                            <span style=\"color: #008000; text-decoration-color: #008000\">'accepted_prediction_tokens'</span>: <span style=\"color: #008080; text-decoration-color: #008080; font-weight: bold\">0</span>,\n",
       "                            <span style=\"color: #008000; text-decoration-color: #008000\">'audio_tokens'</span>: <span style=\"color: #008080; text-decoration-color: #008080; font-weight: bold\">0</span>,\n",
       "                            <span style=\"color: #008000; text-decoration-color: #008000\">'reasoning_tokens'</span>: <span style=\"color: #008080; text-decoration-color: #008080; font-weight: bold\">0</span>,\n",
       "                            <span style=\"color: #008000; text-decoration-color: #008000\">'rejected_prediction_tokens'</span>: <span style=\"color: #008080; text-decoration-color: #008080; font-weight: bold\">0</span>\n",
       "                        <span style=\"font-weight: bold\">}</span>,\n",
       "                        <span style=\"color: #008000; text-decoration-color: #008000\">'prompt_tokens_details'</span>: <span style=\"font-weight: bold\">{</span><span style=\"color: #008000; text-decoration-color: #008000\">'audio_tokens'</span>: <span style=\"color: #008080; text-decoration-color: #008080; font-weight: bold\">0</span>, <span style=\"color: #008000; text-decoration-color: #008000\">'cached_tokens'</span>: <span style=\"color: #008080; text-decoration-color: #008080; font-weight: bold\">0</span><span style=\"font-weight: bold\">}</span>\n",
       "                    <span style=\"font-weight: bold\">}</span>,\n",
       "                    <span style=\"color: #008000; text-decoration-color: #008000\">'model_name'</span>: <span style=\"color: #008000; text-decoration-color: #008000\">'gpt-4o-mini-2024-07-18'</span>,\n",
       "                    <span style=\"color: #008000; text-decoration-color: #008000\">'system_fingerprint'</span>: <span style=\"color: #008000; text-decoration-color: #008000\">'fp_8bda4d3a2c'</span>,\n",
       "                    <span style=\"color: #008000; text-decoration-color: #008000\">'id'</span>: <span style=\"color: #008000; text-decoration-color: #008000\">'chatcmpl-CCcy3ra2T0orrZx6vOBzD5zAjrRIU'</span>,\n",
       "                    <span style=\"color: #008000; text-decoration-color: #008000\">'service_tier'</span>: <span style=\"color: #008000; text-decoration-color: #008000\">'default'</span>,\n",
       "                    <span style=\"color: #008000; text-decoration-color: #008000\">'finish_reason'</span>: <span style=\"color: #008000; text-decoration-color: #008000\">'stop'</span>,\n",
       "                    <span style=\"color: #008000; text-decoration-color: #008000\">'logprobs'</span>: <span style=\"color: #800080; text-decoration-color: #800080; font-style: italic\">None</span>\n",
       "                <span style=\"font-weight: bold\">}</span>,\n",
       "                <span style=\"color: #808000; text-decoration-color: #808000\">name</span>=<span style=\"color: #008000; text-decoration-color: #008000\">'supervisor'</span>,\n",
       "                <span style=\"color: #808000; text-decoration-color: #808000\">id</span>=<span style=\"color: #008000; text-decoration-color: #008000\">'run--398ae733-0681-4518-876c-5de16a172b3f-0'</span>,\n",
       "                <span style=\"color: #808000; text-decoration-color: #808000\">usage_metadata</span>=<span style=\"font-weight: bold\">{</span>\n",
       "                    <span style=\"color: #008000; text-decoration-color: #008000\">'input_tokens'</span>: <span style=\"color: #008080; text-decoration-color: #008080; font-weight: bold\">193</span>,\n",
       "                    <span style=\"color: #008000; text-decoration-color: #008000\">'output_tokens'</span>: <span style=\"color: #008080; text-decoration-color: #008080; font-weight: bold\">25</span>,\n",
       "                    <span style=\"color: #008000; text-decoration-color: #008000\">'total_tokens'</span>: <span style=\"color: #008080; text-decoration-color: #008080; font-weight: bold\">218</span>,\n",
       "                    <span style=\"color: #008000; text-decoration-color: #008000\">'input_token_details'</span>: <span style=\"font-weight: bold\">{</span><span style=\"color: #008000; text-decoration-color: #008000\">'audio'</span>: <span style=\"color: #008080; text-decoration-color: #008080; font-weight: bold\">0</span>, <span style=\"color: #008000; text-decoration-color: #008000\">'cache_read'</span>: <span style=\"color: #008080; text-decoration-color: #008080; font-weight: bold\">0</span><span style=\"font-weight: bold\">}</span>,\n",
       "                    <span style=\"color: #008000; text-decoration-color: #008000\">'output_token_details'</span>: <span style=\"font-weight: bold\">{</span><span style=\"color: #008000; text-decoration-color: #008000\">'audio'</span>: <span style=\"color: #008080; text-decoration-color: #008080; font-weight: bold\">0</span>, <span style=\"color: #008000; text-decoration-color: #008000\">'reasoning'</span>: <span style=\"color: #008080; text-decoration-color: #008080; font-weight: bold\">0</span><span style=\"font-weight: bold\">}</span>\n",
       "                <span style=\"font-weight: bold\">}</span>\n",
       "            <span style=\"font-weight: bold\">)</span>\n",
       "        <span style=\"font-weight: bold\">]</span>\n",
       "    <span style=\"font-weight: bold\">}</span>\n",
       "<span style=\"font-weight: bold\">}</span>\n",
       "</pre>\n"
      ],
      "text/plain": [
       "\u001b[1m{\u001b[0m\n",
       "    \u001b[32m'supervisor'\u001b[0m: \u001b[1m{\u001b[0m\n",
       "        \u001b[32m'messages'\u001b[0m: \u001b[1m[\u001b[0m\n",
       "            \u001b[1;35mHumanMessage\u001b[0m\u001b[1m(\u001b[0m\n",
       "                \u001b[33mcontent\u001b[0m=\u001b[32m'Book a flight from LAX to NYC'\u001b[0m,\n",
       "                \u001b[33madditional_kwargs\u001b[0m=\u001b[1m{\u001b[0m\u001b[1m}\u001b[0m,\n",
       "                \u001b[33mresponse_metadata\u001b[0m=\u001b[1m{\u001b[0m\u001b[1m}\u001b[0m,\n",
       "                \u001b[33mid\u001b[0m=\u001b[32m'bcda27db-1f65-4b6d-896e-65ece36956af'\u001b[0m\n",
       "            \u001b[1m)\u001b[0m,\n",
       "            \u001b[1;35mAIMessage\u001b[0m\u001b[1m(\u001b[0m\n",
       "                \u001b[33mcontent\u001b[0m=\u001b[32m''\u001b[0m,\n",
       "                \u001b[33madditional_kwargs\u001b[0m=\u001b[1m{\u001b[0m\n",
       "                    \u001b[32m'tool_calls'\u001b[0m: \u001b[1m[\u001b[0m\n",
       "                        \u001b[1m{\u001b[0m\n",
       "                            \u001b[32m'id'\u001b[0m: \u001b[32m'call_hIenGOUhVyKhHpw4WzVcJ7nK'\u001b[0m,\n",
       "                            \u001b[32m'function'\u001b[0m: \u001b[1m{\u001b[0m\u001b[32m'arguments'\u001b[0m: \u001b[32m'\u001b[0m\u001b[32m{\u001b[0m\u001b[32m}\u001b[0m\u001b[32m'\u001b[0m, \u001b[32m'name'\u001b[0m: \u001b[32m'transfer_to_flight_assistant'\u001b[0m\u001b[1m}\u001b[0m,\n",
       "                            \u001b[32m'type'\u001b[0m: \u001b[32m'function'\u001b[0m\n",
       "                        \u001b[1m}\u001b[0m\n",
       "                    \u001b[1m]\u001b[0m,\n",
       "                    \u001b[32m'refusal'\u001b[0m: \u001b[3;35mNone\u001b[0m\n",
       "                \u001b[1m}\u001b[0m,\n",
       "                \u001b[33mresponse_metadata\u001b[0m=\u001b[1m{\u001b[0m\n",
       "                    \u001b[32m'token_usage'\u001b[0m: \u001b[1m{\u001b[0m\n",
       "                        \u001b[32m'completion_tokens'\u001b[0m: \u001b[1;36m14\u001b[0m,\n",
       "                        \u001b[32m'prompt_tokens'\u001b[0m: \u001b[1;36m88\u001b[0m,\n",
       "                        \u001b[32m'total_tokens'\u001b[0m: \u001b[1;36m102\u001b[0m,\n",
       "                        \u001b[32m'completion_tokens_details'\u001b[0m: \u001b[1m{\u001b[0m\n",
       "                            \u001b[32m'accepted_prediction_tokens'\u001b[0m: \u001b[1;36m0\u001b[0m,\n",
       "                            \u001b[32m'audio_tokens'\u001b[0m: \u001b[1;36m0\u001b[0m,\n",
       "                            \u001b[32m'reasoning_tokens'\u001b[0m: \u001b[1;36m0\u001b[0m,\n",
       "                            \u001b[32m'rejected_prediction_tokens'\u001b[0m: \u001b[1;36m0\u001b[0m\n",
       "                        \u001b[1m}\u001b[0m,\n",
       "                        \u001b[32m'prompt_tokens_details'\u001b[0m: \u001b[1m{\u001b[0m\u001b[32m'audio_tokens'\u001b[0m: \u001b[1;36m0\u001b[0m, \u001b[32m'cached_tokens'\u001b[0m: \u001b[1;36m0\u001b[0m\u001b[1m}\u001b[0m\n",
       "                    \u001b[1m}\u001b[0m,\n",
       "                    \u001b[32m'model_name'\u001b[0m: \u001b[32m'gpt-4o-mini-2024-07-18'\u001b[0m,\n",
       "                    \u001b[32m'system_fingerprint'\u001b[0m: \u001b[32m'fp_8bda4d3a2c'\u001b[0m,\n",
       "                    \u001b[32m'id'\u001b[0m: \u001b[32m'chatcmpl-CCcy1beSgwwufDdZMYUwelUkUvCvj'\u001b[0m,\n",
       "                    \u001b[32m'service_tier'\u001b[0m: \u001b[32m'default'\u001b[0m,\n",
       "                    \u001b[32m'finish_reason'\u001b[0m: \u001b[32m'tool_calls'\u001b[0m,\n",
       "                    \u001b[32m'logprobs'\u001b[0m: \u001b[3;35mNone\u001b[0m\n",
       "                \u001b[1m}\u001b[0m,\n",
       "                \u001b[33mname\u001b[0m=\u001b[32m'supervisor'\u001b[0m,\n",
       "                \u001b[33mid\u001b[0m=\u001b[32m'run--2642cb53-4610-400c-b956-e078048a0bbe-0'\u001b[0m,\n",
       "                \u001b[33mtool_calls\u001b[0m=\u001b[1m[\u001b[0m\n",
       "                    \u001b[1m{\u001b[0m\n",
       "                        \u001b[32m'name'\u001b[0m: \u001b[32m'transfer_to_flight_assistant'\u001b[0m,\n",
       "                        \u001b[32m'args'\u001b[0m: \u001b[1m{\u001b[0m\u001b[1m}\u001b[0m,\n",
       "                        \u001b[32m'id'\u001b[0m: \u001b[32m'call_hIenGOUhVyKhHpw4WzVcJ7nK'\u001b[0m,\n",
       "                        \u001b[32m'type'\u001b[0m: \u001b[32m'tool_call'\u001b[0m\n",
       "                    \u001b[1m}\u001b[0m\n",
       "                \u001b[1m]\u001b[0m,\n",
       "                \u001b[33musage_metadata\u001b[0m=\u001b[1m{\u001b[0m\n",
       "                    \u001b[32m'input_tokens'\u001b[0m: \u001b[1;36m88\u001b[0m,\n",
       "                    \u001b[32m'output_tokens'\u001b[0m: \u001b[1;36m14\u001b[0m,\n",
       "                    \u001b[32m'total_tokens'\u001b[0m: \u001b[1;36m102\u001b[0m,\n",
       "                    \u001b[32m'input_token_details'\u001b[0m: \u001b[1m{\u001b[0m\u001b[32m'audio'\u001b[0m: \u001b[1;36m0\u001b[0m, \u001b[32m'cache_read'\u001b[0m: \u001b[1;36m0\u001b[0m\u001b[1m}\u001b[0m,\n",
       "                    \u001b[32m'output_token_details'\u001b[0m: \u001b[1m{\u001b[0m\u001b[32m'audio'\u001b[0m: \u001b[1;36m0\u001b[0m, \u001b[32m'reasoning'\u001b[0m: \u001b[1;36m0\u001b[0m\u001b[1m}\u001b[0m\n",
       "                \u001b[1m}\u001b[0m\n",
       "            \u001b[1m)\u001b[0m,\n",
       "            \u001b[1;35mToolMessage\u001b[0m\u001b[1m(\u001b[0m\n",
       "                \u001b[33mcontent\u001b[0m=\u001b[32m'Successfully transferred to flight_assistant'\u001b[0m,\n",
       "                \u001b[33mname\u001b[0m=\u001b[32m'transfer_to_flight_assistant'\u001b[0m,\n",
       "                \u001b[33mid\u001b[0m=\u001b[32m'd8a7c030-152a-4003-bec1-321484fe98f8'\u001b[0m,\n",
       "                \u001b[33mtool_call_id\u001b[0m=\u001b[32m'call_hIenGOUhVyKhHpw4WzVcJ7nK'\u001b[0m\n",
       "            \u001b[1m)\u001b[0m,\n",
       "            \u001b[1;35mAIMessage\u001b[0m\u001b[1m(\u001b[0m\n",
       "                \u001b[33mcontent\u001b[0m=\u001b[32m'Your flight from LAX to NYC has been successfully booked. Safe travels!'\u001b[0m,\n",
       "                \u001b[33madditional_kwargs\u001b[0m=\u001b[1m{\u001b[0m\u001b[32m'refusal'\u001b[0m: \u001b[3;35mNone\u001b[0m\u001b[1m}\u001b[0m,\n",
       "                \u001b[33mresponse_metadata\u001b[0m=\u001b[1m{\u001b[0m\n",
       "                    \u001b[32m'token_usage'\u001b[0m: \u001b[1m{\u001b[0m\n",
       "                        \u001b[32m'completion_tokens'\u001b[0m: \u001b[1;36m16\u001b[0m,\n",
       "                        \u001b[32m'prompt_tokens'\u001b[0m: \u001b[1;36m153\u001b[0m,\n",
       "                        \u001b[32m'total_tokens'\u001b[0m: \u001b[1;36m169\u001b[0m,\n",
       "                        \u001b[32m'completion_tokens_details'\u001b[0m: \u001b[1m{\u001b[0m\n",
       "                            \u001b[32m'accepted_prediction_tokens'\u001b[0m: \u001b[1;36m0\u001b[0m,\n",
       "                            \u001b[32m'audio_tokens'\u001b[0m: \u001b[1;36m0\u001b[0m,\n",
       "                            \u001b[32m'reasoning_tokens'\u001b[0m: \u001b[1;36m0\u001b[0m,\n",
       "                            \u001b[32m'rejected_prediction_tokens'\u001b[0m: \u001b[1;36m0\u001b[0m\n",
       "                        \u001b[1m}\u001b[0m,\n",
       "                        \u001b[32m'prompt_tokens_details'\u001b[0m: \u001b[1m{\u001b[0m\u001b[32m'audio_tokens'\u001b[0m: \u001b[1;36m0\u001b[0m, \u001b[32m'cached_tokens'\u001b[0m: \u001b[1;36m0\u001b[0m\u001b[1m}\u001b[0m\n",
       "                    \u001b[1m}\u001b[0m,\n",
       "                    \u001b[32m'model_name'\u001b[0m: \u001b[32m'gpt-4o-mini-2024-07-18'\u001b[0m,\n",
       "                    \u001b[32m'system_fingerprint'\u001b[0m: \u001b[32m'fp_8bda4d3a2c'\u001b[0m,\n",
       "                    \u001b[32m'id'\u001b[0m: \u001b[32m'chatcmpl-CCcy2vcgoVSO7TIe32fA063ukX0iW'\u001b[0m,\n",
       "                    \u001b[32m'service_tier'\u001b[0m: \u001b[32m'default'\u001b[0m,\n",
       "                    \u001b[32m'finish_reason'\u001b[0m: \u001b[32m'stop'\u001b[0m,\n",
       "                    \u001b[32m'logprobs'\u001b[0m: \u001b[3;35mNone\u001b[0m\n",
       "                \u001b[1m}\u001b[0m,\n",
       "                \u001b[33mname\u001b[0m=\u001b[32m'flight_assistant'\u001b[0m,\n",
       "                \u001b[33mid\u001b[0m=\u001b[32m'run--00a00943-e24a-47a1-ba2f-93f2db52751a-0'\u001b[0m,\n",
       "                \u001b[33musage_metadata\u001b[0m=\u001b[1m{\u001b[0m\n",
       "                    \u001b[32m'input_tokens'\u001b[0m: \u001b[1;36m153\u001b[0m,\n",
       "                    \u001b[32m'output_tokens'\u001b[0m: \u001b[1;36m16\u001b[0m,\n",
       "                    \u001b[32m'total_tokens'\u001b[0m: \u001b[1;36m169\u001b[0m,\n",
       "                    \u001b[32m'input_token_details'\u001b[0m: \u001b[1m{\u001b[0m\u001b[32m'audio'\u001b[0m: \u001b[1;36m0\u001b[0m, \u001b[32m'cache_read'\u001b[0m: \u001b[1;36m0\u001b[0m\u001b[1m}\u001b[0m,\n",
       "                    \u001b[32m'output_token_details'\u001b[0m: \u001b[1m{\u001b[0m\u001b[32m'audio'\u001b[0m: \u001b[1;36m0\u001b[0m, \u001b[32m'reasoning'\u001b[0m: \u001b[1;36m0\u001b[0m\u001b[1m}\u001b[0m\n",
       "                \u001b[1m}\u001b[0m\n",
       "            \u001b[1m)\u001b[0m,\n",
       "            \u001b[1;35mAIMessage\u001b[0m\u001b[1m(\u001b[0m\n",
       "                \u001b[33mcontent\u001b[0m=\u001b[32m'Transferring back to supervisor'\u001b[0m,\n",
       "                \u001b[33madditional_kwargs\u001b[0m=\u001b[1m{\u001b[0m\u001b[1m}\u001b[0m,\n",
       "                \u001b[33mresponse_metadata\u001b[0m=\u001b[1m{\u001b[0m\u001b[32m'__is_handoff_back'\u001b[0m: \u001b[3;92mTrue\u001b[0m\u001b[1m}\u001b[0m,\n",
       "                \u001b[33mname\u001b[0m=\u001b[32m'flight_assistant'\u001b[0m,\n",
       "                \u001b[33mid\u001b[0m=\u001b[32m'eb8d4263-9a41-47cb-b93f-61105e7f2aa9'\u001b[0m,\n",
       "                \u001b[33mtool_calls\u001b[0m=\u001b[1m[\u001b[0m\n",
       "                    \u001b[1m{\u001b[0m\n",
       "                        \u001b[32m'name'\u001b[0m: \u001b[32m'transfer_back_to_supervisor'\u001b[0m,\n",
       "                        \u001b[32m'args'\u001b[0m: \u001b[1m{\u001b[0m\u001b[1m}\u001b[0m,\n",
       "                        \u001b[32m'id'\u001b[0m: \u001b[32m'e16e9062-891a-435f-b096-66becfd85b44'\u001b[0m,\n",
       "                        \u001b[32m'type'\u001b[0m: \u001b[32m'tool_call'\u001b[0m\n",
       "                    \u001b[1m}\u001b[0m\n",
       "                \u001b[1m]\u001b[0m\n",
       "            \u001b[1m)\u001b[0m,\n",
       "            \u001b[1;35mToolMessage\u001b[0m\u001b[1m(\u001b[0m\n",
       "                \u001b[33mcontent\u001b[0m=\u001b[32m'Successfully transferred back to supervisor'\u001b[0m,\n",
       "                \u001b[33mname\u001b[0m=\u001b[32m'transfer_back_to_supervisor'\u001b[0m,\n",
       "                \u001b[33mid\u001b[0m=\u001b[32m'8323a110-8440-4c9c-a3c3-8f316c6dcc56'\u001b[0m,\n",
       "                \u001b[33mtool_call_id\u001b[0m=\u001b[32m'e16e9062-891a-435f-b096-66becfd85b44'\u001b[0m\n",
       "            \u001b[1m)\u001b[0m,\n",
       "            \u001b[1;35mAIMessage\u001b[0m\u001b[1m(\u001b[0m\n",
       "                \u001b[33mcontent\u001b[0m=\u001b[32m'Your flight from LAX to NYC has been successfully booked. If you need any further \u001b[0m\n",
       "\u001b[32massistance, feel free to ask!'\u001b[0m,\n",
       "                \u001b[33madditional_kwargs\u001b[0m=\u001b[1m{\u001b[0m\u001b[32m'refusal'\u001b[0m: \u001b[3;35mNone\u001b[0m\u001b[1m}\u001b[0m,\n",
       "                \u001b[33mresponse_metadata\u001b[0m=\u001b[1m{\u001b[0m\n",
       "                    \u001b[32m'token_usage'\u001b[0m: \u001b[1m{\u001b[0m\n",
       "                        \u001b[32m'completion_tokens'\u001b[0m: \u001b[1;36m25\u001b[0m,\n",
       "                        \u001b[32m'prompt_tokens'\u001b[0m: \u001b[1;36m193\u001b[0m,\n",
       "                        \u001b[32m'total_tokens'\u001b[0m: \u001b[1;36m218\u001b[0m,\n",
       "                        \u001b[32m'completion_tokens_details'\u001b[0m: \u001b[1m{\u001b[0m\n",
       "                            \u001b[32m'accepted_prediction_tokens'\u001b[0m: \u001b[1;36m0\u001b[0m,\n",
       "                            \u001b[32m'audio_tokens'\u001b[0m: \u001b[1;36m0\u001b[0m,\n",
       "                            \u001b[32m'reasoning_tokens'\u001b[0m: \u001b[1;36m0\u001b[0m,\n",
       "                            \u001b[32m'rejected_prediction_tokens'\u001b[0m: \u001b[1;36m0\u001b[0m\n",
       "                        \u001b[1m}\u001b[0m,\n",
       "                        \u001b[32m'prompt_tokens_details'\u001b[0m: \u001b[1m{\u001b[0m\u001b[32m'audio_tokens'\u001b[0m: \u001b[1;36m0\u001b[0m, \u001b[32m'cached_tokens'\u001b[0m: \u001b[1;36m0\u001b[0m\u001b[1m}\u001b[0m\n",
       "                    \u001b[1m}\u001b[0m,\n",
       "                    \u001b[32m'model_name'\u001b[0m: \u001b[32m'gpt-4o-mini-2024-07-18'\u001b[0m,\n",
       "                    \u001b[32m'system_fingerprint'\u001b[0m: \u001b[32m'fp_8bda4d3a2c'\u001b[0m,\n",
       "                    \u001b[32m'id'\u001b[0m: \u001b[32m'chatcmpl-CCcy3ra2T0orrZx6vOBzD5zAjrRIU'\u001b[0m,\n",
       "                    \u001b[32m'service_tier'\u001b[0m: \u001b[32m'default'\u001b[0m,\n",
       "                    \u001b[32m'finish_reason'\u001b[0m: \u001b[32m'stop'\u001b[0m,\n",
       "                    \u001b[32m'logprobs'\u001b[0m: \u001b[3;35mNone\u001b[0m\n",
       "                \u001b[1m}\u001b[0m,\n",
       "                \u001b[33mname\u001b[0m=\u001b[32m'supervisor'\u001b[0m,\n",
       "                \u001b[33mid\u001b[0m=\u001b[32m'run--398ae733-0681-4518-876c-5de16a172b3f-0'\u001b[0m,\n",
       "                \u001b[33musage_metadata\u001b[0m=\u001b[1m{\u001b[0m\n",
       "                    \u001b[32m'input_tokens'\u001b[0m: \u001b[1;36m193\u001b[0m,\n",
       "                    \u001b[32m'output_tokens'\u001b[0m: \u001b[1;36m25\u001b[0m,\n",
       "                    \u001b[32m'total_tokens'\u001b[0m: \u001b[1;36m218\u001b[0m,\n",
       "                    \u001b[32m'input_token_details'\u001b[0m: \u001b[1m{\u001b[0m\u001b[32m'audio'\u001b[0m: \u001b[1;36m0\u001b[0m, \u001b[32m'cache_read'\u001b[0m: \u001b[1;36m0\u001b[0m\u001b[1m}\u001b[0m,\n",
       "                    \u001b[32m'output_token_details'\u001b[0m: \u001b[1m{\u001b[0m\u001b[32m'audio'\u001b[0m: \u001b[1;36m0\u001b[0m, \u001b[32m'reasoning'\u001b[0m: \u001b[1;36m0\u001b[0m\u001b[1m}\u001b[0m\n",
       "                \u001b[1m}\u001b[0m\n",
       "            \u001b[1m)\u001b[0m\n",
       "        \u001b[1m]\u001b[0m\n",
       "    \u001b[1m}\u001b[0m\n",
       "\u001b[1m}\u001b[0m\n"
      ]
     },
     "metadata": {},
     "output_type": "display_data"
    },
    {
     "name": "stdout",
     "output_type": "stream",
     "text": [
      "\u001b[1m[values]\u001b[0m {'messages': [HumanMessage(content='Book a flight from LAX to NYC', additional_kwargs={}, response_metadata={}, id='bcda27db-1f65-4b6d-896e-65ece36956af'), AIMessage(content='', additional_kwargs={'tool_calls': [{'id': 'call_hIenGOUhVyKhHpw4WzVcJ7nK', 'function': {'arguments': '{}', 'name': 'transfer_to_flight_assistant'}, 'type': 'function'}], 'refusal': None}, response_metadata={'token_usage': {'completion_tokens': 14, 'prompt_tokens': 88, 'total_tokens': 102, 'completion_tokens_details': {'accepted_prediction_tokens': 0, 'audio_tokens': 0, 'reasoning_tokens': 0, 'rejected_prediction_tokens': 0}, 'prompt_tokens_details': {'audio_tokens': 0, 'cached_tokens': 0}}, 'model_name': 'gpt-4o-mini-2024-07-18', 'system_fingerprint': 'fp_8bda4d3a2c', 'id': 'chatcmpl-CCcy1beSgwwufDdZMYUwelUkUvCvj', 'service_tier': 'default', 'finish_reason': 'tool_calls', 'logprobs': None}, name='supervisor', id='run--2642cb53-4610-400c-b956-e078048a0bbe-0', tool_calls=[{'name': 'transfer_to_flight_assistant', 'args': {}, 'id': 'call_hIenGOUhVyKhHpw4WzVcJ7nK', 'type': 'tool_call'}], usage_metadata={'input_tokens': 88, 'output_tokens': 14, 'total_tokens': 102, 'input_token_details': {'audio': 0, 'cache_read': 0}, 'output_token_details': {'audio': 0, 'reasoning': 0}}), ToolMessage(content='Successfully transferred to flight_assistant', name='transfer_to_flight_assistant', id='d8a7c030-152a-4003-bec1-321484fe98f8', tool_call_id='call_hIenGOUhVyKhHpw4WzVcJ7nK'), AIMessage(content='Your flight from LAX to NYC has been successfully booked. Safe travels!', additional_kwargs={'refusal': None}, response_metadata={'token_usage': {'completion_tokens': 16, 'prompt_tokens': 153, 'total_tokens': 169, 'completion_tokens_details': {'accepted_prediction_tokens': 0, 'audio_tokens': 0, 'reasoning_tokens': 0, 'rejected_prediction_tokens': 0}, 'prompt_tokens_details': {'audio_tokens': 0, 'cached_tokens': 0}}, 'model_name': 'gpt-4o-mini-2024-07-18', 'system_fingerprint': 'fp_8bda4d3a2c', 'id': 'chatcmpl-CCcy2vcgoVSO7TIe32fA063ukX0iW', 'service_tier': 'default', 'finish_reason': 'stop', 'logprobs': None}, name='flight_assistant', id='run--00a00943-e24a-47a1-ba2f-93f2db52751a-0', usage_metadata={'input_tokens': 153, 'output_tokens': 16, 'total_tokens': 169, 'input_token_details': {'audio': 0, 'cache_read': 0}, 'output_token_details': {'audio': 0, 'reasoning': 0}}), AIMessage(content='Transferring back to supervisor', additional_kwargs={}, response_metadata={'__is_handoff_back': True}, name='flight_assistant', id='eb8d4263-9a41-47cb-b93f-61105e7f2aa9', tool_calls=[{'name': 'transfer_back_to_supervisor', 'args': {}, 'id': 'e16e9062-891a-435f-b096-66becfd85b44', 'type': 'tool_call'}]), ToolMessage(content='Successfully transferred back to supervisor', name='transfer_back_to_supervisor', id='8323a110-8440-4c9c-a3c3-8f316c6dcc56', tool_call_id='e16e9062-891a-435f-b096-66becfd85b44'), AIMessage(content='Your flight from LAX to NYC has been successfully booked. If you need any further assistance, feel free to ask!', additional_kwargs={'refusal': None}, response_metadata={'token_usage': {'completion_tokens': 25, 'prompt_tokens': 193, 'total_tokens': 218, 'completion_tokens_details': {'accepted_prediction_tokens': 0, 'audio_tokens': 0, 'reasoning_tokens': 0, 'rejected_prediction_tokens': 0}, 'prompt_tokens_details': {'audio_tokens': 0, 'cached_tokens': 0}}, 'model_name': 'gpt-4o-mini-2024-07-18', 'system_fingerprint': 'fp_8bda4d3a2c', 'id': 'chatcmpl-CCcy3ra2T0orrZx6vOBzD5zAjrRIU', 'service_tier': 'default', 'finish_reason': 'stop', 'logprobs': None}, name='supervisor', id='run--398ae733-0681-4518-876c-5de16a172b3f-0', usage_metadata={'input_tokens': 193, 'output_tokens': 25, 'total_tokens': 218, 'input_token_details': {'audio': 0, 'cache_read': 0}, 'output_token_details': {'audio': 0, 'reasoning': 0}})]}\n"
     ]
    }
   ],
   "source": [
    "# Print a header for the supervisor example output.\n",
    "print('=== SUPERVISOR EXAMPLE ===')\n",
    "\n",
    "# Stream the output from the supervisor graph for a given user request.\n",
    "# The `stream` method allows processing the output as it's generated.\n",
    "# `debug=True` provides verbose logging of the internal steps.\n",
    "for chunk in supervisor.stream(\n",
    "    # The input to the graph is a dictionary with a 'messages' key.\n",
    "    {'messages': [{'role': 'user', 'content': 'Book a flight from LAX to NYC'}]},\n",
    "    debug=True,\n",
    "):\n",
    "    # Check if the chunk contains any data before printing.\n",
    "    if chunk:\n",
    "        # Print a separator for readability.\n",
    "        print('-' * 60)\n",
    "        # Print the content of the current chunk.\n",
    "        # print(f'Chunk: {chunk}')\n",
    "        # The original print(chunk) is commented out, but can be used for raw output.\n",
    "        print(chunk)"
   ]
  },
  {
   "cell_type": "markdown",
   "metadata": {},
   "source": [
    "## Section 2: Swarm Multi-Agent System - Research & Writing Collaboration\n",
    "\n",
    "This example showcases a swarm architecture where agents collaborate on research and content creation tasks. Agents can directly hand off tasks to one another based on their expertise, creating a dynamic collaborative workflow.\n",
    "\n",
    "**Code Logic:**\n",
    "1.  **Tool Definition:** Research tools (`conduct_research`, `create_outline`) and writing tools (`write_content`, `edit_content`) are defined for specialized agents.\n",
    "2.  **Handoff Tool Creation:** `create_handoff_tool` is used to create special tools that allow agents to transfer control to one another based on task requirements.\n",
    "3.  **Agent Creation:** Specialized agents (researcher, writer, editor) are created with their primary tools and handoff capabilities.\n",
    "4.  **Swarm Creation:** `create_swarm` assembles the agents into a collaborative system where they can seamlessly pass work between each other.\n",
    "5.  **Execution:** The user request is streamed through the swarm, demonstrating how agents collaborate on complex multi-step tasks."
   ]
  },
  {
   "cell_type": "code",
   "execution_count": 158,
   "metadata": {},
   "outputs": [],
   "source": [
    "from langchain_openai import ChatOpenAI\n",
    "from langgraph.prebuilt import create_react_agent\n",
    "from langgraph_swarm import create_swarm, create_handoff_tool"
   ]
  },
  {
   "cell_type": "code",
   "execution_count": 159,
   "metadata": {},
   "outputs": [],
   "source": [
    "# Define a tool for conducting research on a given topic.\n",
    "@tool\n",
    "def conduct_research(topic: str):\n",
    "    \"\"\"Conduct research on a given topic\"\"\"\n",
    "    # This is a mock function; in a real application, this would\n",
    "    # interact with research APIs, databases, or web scraping tools.\n",
    "    return f'Research completed on \"{topic}\". Found key insights: market trends, best practices, and recent developments.'\n",
    "\n",
    "\n",
    "# Define a tool for creating content outlines.\n",
    "@tool\n",
    "def create_outline(topic: str, research_findings: str):\n",
    "    \"\"\"Create a structured outline based on research findings\"\"\"\n",
    "    # This would typically use the research findings to structure content\n",
    "    return f'Outline created for \"{topic}\" with sections: Introduction, Key Points from research, Analysis, and Conclusion.'\n",
    "\n",
    "\n",
    "# Define a tool for writing content based on an outline.\n",
    "@tool\n",
    "def write_content(topic: str, outline: str):\n",
    "    \"\"\"Write content based on the provided outline\"\"\"\n",
    "    return f'Content written for \"{topic}\" following the provided outline structure.'\n",
    "\n",
    "\n",
    "# Define a tool for editing and refining content.\n",
    "@tool\n",
    "def edit_content(content: str):\n",
    "    \"\"\"Edit and refine the provided content\"\"\"\n",
    "    return f'Content has been edited and refined for clarity, grammar, and flow.'"
   ]
  },
  {
   "cell_type": "code",
   "execution_count": 160,
   "metadata": {},
   "outputs": [],
   "source": [
    "# Create a handoff tool that allows transferring a task to the writer agent.\n",
    "# The `create_handoff_tool` function generates a tool that agents can call.\n",
    "transfer_to_writer = create_handoff_tool(\n",
    "    # The name of the agent to hand off to.\n",
    "    agent_name='writer_assistant',\n",
    "    # The description of the tool, which the agent's LLM will use to decide when to use it.\n",
    "    description='Transfer to content writer assistant for creating articles and documents.',\n",
    ")\n",
    "\n",
    "\n",
    "# Create a handoff tool for transferring to the editor agent.\n",
    "transfer_to_editor = create_handoff_tool(\n",
    "    agent_name='editor_assistant',\n",
    "    description='Transfer to content editor assistant for reviewing and refining content.',\n",
    ")\n",
    "\n",
    "\n",
    "# Create a handoff tool for transferring back to the researcher agent.\n",
    "transfer_to_researcher = create_handoff_tool(\n",
    "    agent_name='researcher_assistant',\n",
    "    description='Transfer to research assistant for gathering information and insights.',\n",
    ")"
   ]
  },
  {
   "cell_type": "code",
   "execution_count": 161,
   "metadata": {},
   "outputs": [],
   "source": [
    "# Create the researcher assistant for the swarm.\n",
    "researcher_assistant_swarm = create_react_agent(\n",
    "    model=ChatOpenAI(model='gpt-4o', max_tokens=1000, temperature=0),\n",
    "    # This agent has research tools and can hand off to writer and editor.\n",
    "    tools=[conduct_research, create_outline, transfer_to_writer, transfer_to_editor],\n",
    "    prompt='You are a research assistant. You conduct thorough research on topics and create structured outlines. When research is complete, you can transfer to the writer or editor as needed.',\n",
    "    name='researcher_assistant',\n",
    ")\n",
    "\n",
    "\n",
    "# Create the writer assistant for the swarm.\n",
    "writer_assistant_swarm = create_react_agent(\n",
    "    model=ChatOpenAI(model='gpt-4o', max_tokens=1000, temperature=0),\n",
    "    # This agent can write content and hand off to researcher or editor.\n",
    "    tools=[write_content, transfer_to_researcher, transfer_to_editor],\n",
    "    prompt='You are a content writer. You create well-structured articles and documents based on research and outlines. You can request additional research or transfer to an editor for refinement.',\n",
    "    name='writer_assistant',\n",
    ")\n",
    "\n",
    "\n",
    "# Create the editor assistant for the swarm.\n",
    "editor_assistant_swarm = create_react_agent(\n",
    "    model=ChatOpenAI(model='gpt-4o', max_tokens=1000, temperature=0),\n",
    "    # This agent can edit content and hand off to researcher or writer.\n",
    "    tools=[edit_content, transfer_to_researcher, transfer_to_writer],\n",
    "    prompt='You are a content editor. You review, refine, and improve written content for clarity, accuracy, and engagement. You can request additional research or writing as needed.',\n",
    "    name='editor_assistant',\n",
    ")"
   ]
  },
  {
   "cell_type": "code",
   "execution_count": 162,
   "metadata": {},
   "outputs": [],
   "source": [
    "# Create the swarm by passing the list of research and writing agents.\n",
    "# `create_swarm` wires them together so they can hand off tasks to each other.\n",
    "# `default_active_agent` specifies which agent should receive the initial request (if no agents are currently active).\n",
    "swarm = create_swarm(\n",
    "    agents=[researcher_assistant_swarm, writer_assistant_swarm, editor_assistant_swarm], \n",
    "    default_active_agent='researcher_assistant'\n",
    ").compile()"
   ]
  },
  {
   "cell_type": "code",
   "execution_count": 163,
   "metadata": {},
   "outputs": [],
   "source": [
    "# print('Subgraph structure:')\n",
    "# try:\n",
    "#     display(Image(swarm.get_graph().draw_mermaid_png()))\n",
    "# except Exception:\n",
    "#     pass"
   ]
  },
  {
   "cell_type": "code",
   "execution_count": 164,
   "metadata": {},
   "outputs": [
    {
     "data": {
      "text/html": [
       "<pre style=\"white-space:pre;overflow-x:auto;line-height:normal;font-family:Menlo,'DejaVu Sans Mono',consolas,'Courier New',monospace\">\n",
       "=== SWARM EXAMPLE - RESEARCH &amp; WRITING COLLABORATION ===\n",
       "</pre>\n"
      ],
      "text/plain": [
       "\n",
       "=== SWARM EXAMPLE - RESEARCH & WRITING COLLABORATION ===\n"
      ]
     },
     "metadata": {},
     "output_type": "display_data"
    },
    {
     "name": "stdout",
     "output_type": "stream",
     "text": [
      "\u001b[1m[values]\u001b[0m {'messages': [HumanMessage(content='Create a comprehensive article about the benefits of artificial intelligence in healthcare. Please research the topic, write the content, and then edit it for publication.', additional_kwargs={}, response_metadata={}, id='66d68038-17b2-436e-9add-31ef15f165c4')]}\n",
      "\u001b[1m[updates]\u001b[0m {'researcher_assistant': {'messages': [HumanMessage(content='Create a comprehensive article about the benefits of artificial intelligence in healthcare. Please research the topic, write the content, and then edit it for publication.', additional_kwargs={}, response_metadata={}, id='66d68038-17b2-436e-9add-31ef15f165c4'), AIMessage(content='', additional_kwargs={'tool_calls': [{'id': 'call_Cw0RrE5Eucon4CjHR5HxTTe3', 'function': {'arguments': '{\"topic\":\"benefits of artificial intelligence in healthcare\"}', 'name': 'conduct_research'}, 'type': 'function'}], 'refusal': None}, response_metadata={'token_usage': {'completion_tokens': 22, 'prompt_tokens': 180, 'total_tokens': 202, 'completion_tokens_details': {'accepted_prediction_tokens': 0, 'audio_tokens': 0, 'reasoning_tokens': 0, 'rejected_prediction_tokens': 0}, 'prompt_tokens_details': {'audio_tokens': 0, 'cached_tokens': 0}}, 'model_name': 'gpt-4o-2024-08-06', 'system_fingerprint': 'fp_cbf1785567', 'id': 'chatcmpl-CCcy4rClbZsoJjxJ6K4OnvEd8GQHK', 'service_tier': 'default', 'finish_reason': 'tool_calls', 'logprobs': None}, name='researcher_assistant', id='run--8c613879-f13c-45e4-b2fd-f14f6ed7f361-0', tool_calls=[{'name': 'conduct_research', 'args': {'topic': 'benefits of artificial intelligence in healthcare'}, 'id': 'call_Cw0RrE5Eucon4CjHR5HxTTe3', 'type': 'tool_call'}], usage_metadata={'input_tokens': 180, 'output_tokens': 22, 'total_tokens': 202, 'input_token_details': {'audio': 0, 'cache_read': 0}, 'output_token_details': {'audio': 0, 'reasoning': 0}}), ToolMessage(content='Research completed on \"benefits of artificial intelligence in healthcare\". Found key insights: market trends, best practices, and recent developments.', name='conduct_research', id='5473c4d3-93d8-468d-8d94-5a6ec84d4b8f', tool_call_id='call_Cw0RrE5Eucon4CjHR5HxTTe3'), AIMessage(content='', additional_kwargs={'tool_calls': [{'id': 'call_sRmCQeNGrDCAsdWjQLIiXlaV', 'function': {'arguments': '{\"topic\":\"benefits of artificial intelligence in healthcare\",\"research_findings\":\"Research completed on \\\\\"benefits of artificial intelligence in healthcare\\\\\". Found key insights: market trends, best practices, and recent developments.\"}', 'name': 'create_outline'}, 'type': 'function'}], 'refusal': None}, response_metadata={'token_usage': {'completion_tokens': 52, 'prompt_tokens': 242, 'total_tokens': 294, 'completion_tokens_details': {'accepted_prediction_tokens': 0, 'audio_tokens': 0, 'reasoning_tokens': 0, 'rejected_prediction_tokens': 0}, 'prompt_tokens_details': {'audio_tokens': 0, 'cached_tokens': 0}}, 'model_name': 'gpt-4o-2024-08-06', 'system_fingerprint': 'fp_cbf1785567', 'id': 'chatcmpl-CCcy4Q7956KKiEsdVSfN9YQ5uCgTI', 'service_tier': 'default', 'finish_reason': 'tool_calls', 'logprobs': None}, name='researcher_assistant', id='run--7cfbcc41-385a-4edb-8642-c2e5c55f7a3f-0', tool_calls=[{'name': 'create_outline', 'args': {'topic': 'benefits of artificial intelligence in healthcare', 'research_findings': 'Research completed on \"benefits of artificial intelligence in healthcare\". Found key insights: market trends, best practices, and recent developments.'}, 'id': 'call_sRmCQeNGrDCAsdWjQLIiXlaV', 'type': 'tool_call'}], usage_metadata={'input_tokens': 242, 'output_tokens': 52, 'total_tokens': 294, 'input_token_details': {'audio': 0, 'cache_read': 0}, 'output_token_details': {'audio': 0, 'reasoning': 0}}), ToolMessage(content='Outline created for \"benefits of artificial intelligence in healthcare\" with sections: Introduction, Key Points from research, Analysis, and Conclusion.', name='create_outline', id='cbcd79e5-244a-4951-8469-a0cd27a6413f', tool_call_id='call_sRmCQeNGrDCAsdWjQLIiXlaV'), AIMessage(content='', additional_kwargs={'tool_calls': [{'id': 'call_U9LeDrBrpnrtN7b8BP1Mz8WA', 'function': {'arguments': '{}', 'name': 'transfer_to_writer_assistant'}, 'type': 'function'}], 'refusal': None}, response_metadata={'token_usage': {'completion_tokens': 13, 'prompt_tokens': 334, 'total_tokens': 347, 'completion_tokens_details': {'accepted_prediction_tokens': 0, 'audio_tokens': 0, 'reasoning_tokens': 0, 'rejected_prediction_tokens': 0}, 'prompt_tokens_details': {'audio_tokens': 0, 'cached_tokens': 0}}, 'model_name': 'gpt-4o-2024-08-06', 'system_fingerprint': 'fp_cbf1785567', 'id': 'chatcmpl-CCcy5OoHI2uwvcKQHHwejjkxMuSdi', 'service_tier': 'default', 'finish_reason': 'tool_calls', 'logprobs': None}, name='researcher_assistant', id='run--a41763bc-a9dc-4d13-a0be-035d3134ad50-0', tool_calls=[{'name': 'transfer_to_writer_assistant', 'args': {}, 'id': 'call_U9LeDrBrpnrtN7b8BP1Mz8WA', 'type': 'tool_call'}], usage_metadata={'input_tokens': 334, 'output_tokens': 13, 'total_tokens': 347, 'input_token_details': {'audio': 0, 'cache_read': 0}, 'output_token_details': {'audio': 0, 'reasoning': 0}}), ToolMessage(content='Successfully transferred to writer_assistant', name='transfer_to_writer_assistant', id='7f8ee956-aefa-45c8-8ad8-19feca2e9f8a', tool_call_id='call_U9LeDrBrpnrtN7b8BP1Mz8WA')], 'active_agent': 'writer_assistant'}}\n"
     ]
    },
    {
     "data": {
      "text/html": [
       "<pre style=\"white-space:pre;overflow-x:auto;line-height:normal;font-family:Menlo,'DejaVu Sans Mono',consolas,'Courier New',monospace\">------------------------------------------------------------\n",
       "</pre>\n"
      ],
      "text/plain": [
       "------------------------------------------------------------\n"
      ]
     },
     "metadata": {},
     "output_type": "display_data"
    },
    {
     "name": "stdout",
     "output_type": "stream",
     "text": [
      "\u001b[1m[values]\u001b[0m {'messages': [HumanMessage(content='Create a comprehensive article about the benefits of artificial intelligence in healthcare. Please research the topic, write the content, and then edit it for publication.', additional_kwargs={}, response_metadata={}, id='66d68038-17b2-436e-9add-31ef15f165c4'), AIMessage(content='', additional_kwargs={'tool_calls': [{'id': 'call_Cw0RrE5Eucon4CjHR5HxTTe3', 'function': {'arguments': '{\"topic\":\"benefits of artificial intelligence in healthcare\"}', 'name': 'conduct_research'}, 'type': 'function'}], 'refusal': None}, response_metadata={'token_usage': {'completion_tokens': 22, 'prompt_tokens': 180, 'total_tokens': 202, 'completion_tokens_details': {'accepted_prediction_tokens': 0, 'audio_tokens': 0, 'reasoning_tokens': 0, 'rejected_prediction_tokens': 0}, 'prompt_tokens_details': {'audio_tokens': 0, 'cached_tokens': 0}}, 'model_name': 'gpt-4o-2024-08-06', 'system_fingerprint': 'fp_cbf1785567', 'id': 'chatcmpl-CCcy4rClbZsoJjxJ6K4OnvEd8GQHK', 'service_tier': 'default', 'finish_reason': 'tool_calls', 'logprobs': None}, name='researcher_assistant', id='run--8c613879-f13c-45e4-b2fd-f14f6ed7f361-0', tool_calls=[{'name': 'conduct_research', 'args': {'topic': 'benefits of artificial intelligence in healthcare'}, 'id': 'call_Cw0RrE5Eucon4CjHR5HxTTe3', 'type': 'tool_call'}], usage_metadata={'input_tokens': 180, 'output_tokens': 22, 'total_tokens': 202, 'input_token_details': {'audio': 0, 'cache_read': 0}, 'output_token_details': {'audio': 0, 'reasoning': 0}}), ToolMessage(content='Research completed on \"benefits of artificial intelligence in healthcare\". Found key insights: market trends, best practices, and recent developments.', name='conduct_research', id='5473c4d3-93d8-468d-8d94-5a6ec84d4b8f', tool_call_id='call_Cw0RrE5Eucon4CjHR5HxTTe3'), AIMessage(content='', additional_kwargs={'tool_calls': [{'id': 'call_sRmCQeNGrDCAsdWjQLIiXlaV', 'function': {'arguments': '{\"topic\":\"benefits of artificial intelligence in healthcare\",\"research_findings\":\"Research completed on \\\\\"benefits of artificial intelligence in healthcare\\\\\". Found key insights: market trends, best practices, and recent developments.\"}', 'name': 'create_outline'}, 'type': 'function'}], 'refusal': None}, response_metadata={'token_usage': {'completion_tokens': 52, 'prompt_tokens': 242, 'total_tokens': 294, 'completion_tokens_details': {'accepted_prediction_tokens': 0, 'audio_tokens': 0, 'reasoning_tokens': 0, 'rejected_prediction_tokens': 0}, 'prompt_tokens_details': {'audio_tokens': 0, 'cached_tokens': 0}}, 'model_name': 'gpt-4o-2024-08-06', 'system_fingerprint': 'fp_cbf1785567', 'id': 'chatcmpl-CCcy4Q7956KKiEsdVSfN9YQ5uCgTI', 'service_tier': 'default', 'finish_reason': 'tool_calls', 'logprobs': None}, name='researcher_assistant', id='run--7cfbcc41-385a-4edb-8642-c2e5c55f7a3f-0', tool_calls=[{'name': 'create_outline', 'args': {'topic': 'benefits of artificial intelligence in healthcare', 'research_findings': 'Research completed on \"benefits of artificial intelligence in healthcare\". Found key insights: market trends, best practices, and recent developments.'}, 'id': 'call_sRmCQeNGrDCAsdWjQLIiXlaV', 'type': 'tool_call'}], usage_metadata={'input_tokens': 242, 'output_tokens': 52, 'total_tokens': 294, 'input_token_details': {'audio': 0, 'cache_read': 0}, 'output_token_details': {'audio': 0, 'reasoning': 0}}), ToolMessage(content='Outline created for \"benefits of artificial intelligence in healthcare\" with sections: Introduction, Key Points from research, Analysis, and Conclusion.', name='create_outline', id='cbcd79e5-244a-4951-8469-a0cd27a6413f', tool_call_id='call_sRmCQeNGrDCAsdWjQLIiXlaV'), AIMessage(content='', additional_kwargs={'tool_calls': [{'id': 'call_U9LeDrBrpnrtN7b8BP1Mz8WA', 'function': {'arguments': '{}', 'name': 'transfer_to_writer_assistant'}, 'type': 'function'}], 'refusal': None}, response_metadata={'token_usage': {'completion_tokens': 13, 'prompt_tokens': 334, 'total_tokens': 347, 'completion_tokens_details': {'accepted_prediction_tokens': 0, 'audio_tokens': 0, 'reasoning_tokens': 0, 'rejected_prediction_tokens': 0}, 'prompt_tokens_details': {'audio_tokens': 0, 'cached_tokens': 0}}, 'model_name': 'gpt-4o-2024-08-06', 'system_fingerprint': 'fp_cbf1785567', 'id': 'chatcmpl-CCcy5OoHI2uwvcKQHHwejjkxMuSdi', 'service_tier': 'default', 'finish_reason': 'tool_calls', 'logprobs': None}, name='researcher_assistant', id='run--a41763bc-a9dc-4d13-a0be-035d3134ad50-0', tool_calls=[{'name': 'transfer_to_writer_assistant', 'args': {}, 'id': 'call_U9LeDrBrpnrtN7b8BP1Mz8WA', 'type': 'tool_call'}], usage_metadata={'input_tokens': 334, 'output_tokens': 13, 'total_tokens': 347, 'input_token_details': {'audio': 0, 'cache_read': 0}, 'output_token_details': {'audio': 0, 'reasoning': 0}}), ToolMessage(content='Successfully transferred to writer_assistant', name='transfer_to_writer_assistant', id='7f8ee956-aefa-45c8-8ad8-19feca2e9f8a', tool_call_id='call_U9LeDrBrpnrtN7b8BP1Mz8WA')], 'active_agent': 'writer_assistant'}\n",
      "\u001b[1m[updates]\u001b[0m {'writer_assistant': {'messages': [HumanMessage(content='Create a comprehensive article about the benefits of artificial intelligence in healthcare. Please research the topic, write the content, and then edit it for publication.', additional_kwargs={}, response_metadata={}, id='66d68038-17b2-436e-9add-31ef15f165c4'), AIMessage(content='', additional_kwargs={'tool_calls': [{'id': 'call_Cw0RrE5Eucon4CjHR5HxTTe3', 'function': {'arguments': '{\"topic\":\"benefits of artificial intelligence in healthcare\"}', 'name': 'conduct_research'}, 'type': 'function'}], 'refusal': None}, response_metadata={'token_usage': {'completion_tokens': 22, 'prompt_tokens': 180, 'total_tokens': 202, 'completion_tokens_details': {'accepted_prediction_tokens': 0, 'audio_tokens': 0, 'reasoning_tokens': 0, 'rejected_prediction_tokens': 0}, 'prompt_tokens_details': {'audio_tokens': 0, 'cached_tokens': 0}}, 'model_name': 'gpt-4o-2024-08-06', 'system_fingerprint': 'fp_cbf1785567', 'id': 'chatcmpl-CCcy4rClbZsoJjxJ6K4OnvEd8GQHK', 'service_tier': 'default', 'finish_reason': 'tool_calls', 'logprobs': None}, name='researcher_assistant', id='run--8c613879-f13c-45e4-b2fd-f14f6ed7f361-0', tool_calls=[{'name': 'conduct_research', 'args': {'topic': 'benefits of artificial intelligence in healthcare'}, 'id': 'call_Cw0RrE5Eucon4CjHR5HxTTe3', 'type': 'tool_call'}], usage_metadata={'input_tokens': 180, 'output_tokens': 22, 'total_tokens': 202, 'input_token_details': {'audio': 0, 'cache_read': 0}, 'output_token_details': {'audio': 0, 'reasoning': 0}}), ToolMessage(content='Research completed on \"benefits of artificial intelligence in healthcare\". Found key insights: market trends, best practices, and recent developments.', name='conduct_research', id='5473c4d3-93d8-468d-8d94-5a6ec84d4b8f', tool_call_id='call_Cw0RrE5Eucon4CjHR5HxTTe3'), AIMessage(content='', additional_kwargs={'tool_calls': [{'id': 'call_sRmCQeNGrDCAsdWjQLIiXlaV', 'function': {'arguments': '{\"topic\":\"benefits of artificial intelligence in healthcare\",\"research_findings\":\"Research completed on \\\\\"benefits of artificial intelligence in healthcare\\\\\". Found key insights: market trends, best practices, and recent developments.\"}', 'name': 'create_outline'}, 'type': 'function'}], 'refusal': None}, response_metadata={'token_usage': {'completion_tokens': 52, 'prompt_tokens': 242, 'total_tokens': 294, 'completion_tokens_details': {'accepted_prediction_tokens': 0, 'audio_tokens': 0, 'reasoning_tokens': 0, 'rejected_prediction_tokens': 0}, 'prompt_tokens_details': {'audio_tokens': 0, 'cached_tokens': 0}}, 'model_name': 'gpt-4o-2024-08-06', 'system_fingerprint': 'fp_cbf1785567', 'id': 'chatcmpl-CCcy4Q7956KKiEsdVSfN9YQ5uCgTI', 'service_tier': 'default', 'finish_reason': 'tool_calls', 'logprobs': None}, name='researcher_assistant', id='run--7cfbcc41-385a-4edb-8642-c2e5c55f7a3f-0', tool_calls=[{'name': 'create_outline', 'args': {'topic': 'benefits of artificial intelligence in healthcare', 'research_findings': 'Research completed on \"benefits of artificial intelligence in healthcare\". Found key insights: market trends, best practices, and recent developments.'}, 'id': 'call_sRmCQeNGrDCAsdWjQLIiXlaV', 'type': 'tool_call'}], usage_metadata={'input_tokens': 242, 'output_tokens': 52, 'total_tokens': 294, 'input_token_details': {'audio': 0, 'cache_read': 0}, 'output_token_details': {'audio': 0, 'reasoning': 0}}), ToolMessage(content='Outline created for \"benefits of artificial intelligence in healthcare\" with sections: Introduction, Key Points from research, Analysis, and Conclusion.', name='create_outline', id='cbcd79e5-244a-4951-8469-a0cd27a6413f', tool_call_id='call_sRmCQeNGrDCAsdWjQLIiXlaV'), AIMessage(content='', additional_kwargs={'tool_calls': [{'id': 'call_U9LeDrBrpnrtN7b8BP1Mz8WA', 'function': {'arguments': '{}', 'name': 'transfer_to_writer_assistant'}, 'type': 'function'}], 'refusal': None}, response_metadata={'token_usage': {'completion_tokens': 13, 'prompt_tokens': 334, 'total_tokens': 347, 'completion_tokens_details': {'accepted_prediction_tokens': 0, 'audio_tokens': 0, 'reasoning_tokens': 0, 'rejected_prediction_tokens': 0}, 'prompt_tokens_details': {'audio_tokens': 0, 'cached_tokens': 0}}, 'model_name': 'gpt-4o-2024-08-06', 'system_fingerprint': 'fp_cbf1785567', 'id': 'chatcmpl-CCcy5OoHI2uwvcKQHHwejjkxMuSdi', 'service_tier': 'default', 'finish_reason': 'tool_calls', 'logprobs': None}, name='researcher_assistant', id='run--a41763bc-a9dc-4d13-a0be-035d3134ad50-0', tool_calls=[{'name': 'transfer_to_writer_assistant', 'args': {}, 'id': 'call_U9LeDrBrpnrtN7b8BP1Mz8WA', 'type': 'tool_call'}], usage_metadata={'input_tokens': 334, 'output_tokens': 13, 'total_tokens': 347, 'input_token_details': {'audio': 0, 'cache_read': 0}, 'output_token_details': {'audio': 0, 'reasoning': 0}}), ToolMessage(content='Successfully transferred to writer_assistant', name='transfer_to_writer_assistant', id='7f8ee956-aefa-45c8-8ad8-19feca2e9f8a', tool_call_id='call_U9LeDrBrpnrtN7b8BP1Mz8WA'), AIMessage(content='', additional_kwargs={'tool_calls': [{'id': 'call_HqV4tVIgsA7SDFciJHIZRww1', 'function': {'arguments': '{\"topic\":\"benefits of artificial intelligence in healthcare\",\"outline\":\"1. Introduction\\\\n   - Definition of Artificial Intelligence (AI)\\\\n   - Overview of AI in healthcare\\\\n\\\\n2. Key Benefits of AI in Healthcare\\\\n   - Improved Diagnostics\\\\n   - Personalized Treatment\\\\n   - Operational Efficiency\\\\n   - Predictive Analytics\\\\n   - Patient Engagement\\\\n\\\\n3. Market Trends and Developments\\\\n   - Current market trends\\\\n   - Recent technological advancements\\\\n\\\\n4. Best Practices for Implementing AI in Healthcare\\\\n   - Ensuring data privacy and security\\\\n   - Integrating AI with existing systems\\\\n   - Training healthcare professionals\\\\n\\\\n5. Challenges and Considerations\\\\n   - Ethical concerns\\\\n   - Cost implications\\\\n   - Regulatory issues\\\\n\\\\n6. Conclusion\\\\n   - Summary of benefits\\\\n   - Future outlook of AI in healthcare\"}', 'name': 'write_content'}, 'type': 'function'}], 'refusal': None}, response_metadata={'token_usage': {'completion_tokens': 180, 'prompt_tokens': 345, 'total_tokens': 525, 'completion_tokens_details': {'accepted_prediction_tokens': 0, 'audio_tokens': 0, 'reasoning_tokens': 0, 'rejected_prediction_tokens': 0}, 'prompt_tokens_details': {'audio_tokens': 0, 'cached_tokens': 0}}, 'model_name': 'gpt-4o-2024-08-06', 'system_fingerprint': 'fp_cbf1785567', 'id': 'chatcmpl-CCcy6cGSiD85NquGUCdMT1DOyKQPr', 'service_tier': 'default', 'finish_reason': 'tool_calls', 'logprobs': None}, name='writer_assistant', id='run--c301d83e-e9d6-4314-80b6-d160e3305ffa-0', tool_calls=[{'name': 'write_content', 'args': {'topic': 'benefits of artificial intelligence in healthcare', 'outline': '1. Introduction\\n   - Definition of Artificial Intelligence (AI)\\n   - Overview of AI in healthcare\\n\\n2. Key Benefits of AI in Healthcare\\n   - Improved Diagnostics\\n   - Personalized Treatment\\n   - Operational Efficiency\\n   - Predictive Analytics\\n   - Patient Engagement\\n\\n3. Market Trends and Developments\\n   - Current market trends\\n   - Recent technological advancements\\n\\n4. Best Practices for Implementing AI in Healthcare\\n   - Ensuring data privacy and security\\n   - Integrating AI with existing systems\\n   - Training healthcare professionals\\n\\n5. Challenges and Considerations\\n   - Ethical concerns\\n   - Cost implications\\n   - Regulatory issues\\n\\n6. Conclusion\\n   - Summary of benefits\\n   - Future outlook of AI in healthcare'}, 'id': 'call_HqV4tVIgsA7SDFciJHIZRww1', 'type': 'tool_call'}], usage_metadata={'input_tokens': 345, 'output_tokens': 180, 'total_tokens': 525, 'input_token_details': {'audio': 0, 'cache_read': 0}, 'output_token_details': {'audio': 0, 'reasoning': 0}}), ToolMessage(content='Content written for \"benefits of artificial intelligence in healthcare\" following the provided outline structure.', name='write_content', id='c2efdbf1-e0db-47c2-8ae2-ec8aaa1366f8', tool_call_id='call_HqV4tVIgsA7SDFciJHIZRww1'), AIMessage(content='', additional_kwargs={'tool_calls': [{'id': 'call_3VGE4xQbTy32pN5Jx4zTFeZC', 'function': {'arguments': '{}', 'name': 'transfer_to_editor_assistant'}, 'type': 'function'}], 'refusal': None}, response_metadata={'token_usage': {'completion_tokens': 13, 'prompt_tokens': 555, 'total_tokens': 568, 'completion_tokens_details': {'accepted_prediction_tokens': 0, 'audio_tokens': 0, 'reasoning_tokens': 0, 'rejected_prediction_tokens': 0}, 'prompt_tokens_details': {'audio_tokens': 0, 'cached_tokens': 0}}, 'model_name': 'gpt-4o-2024-08-06', 'system_fingerprint': 'fp_cbf1785567', 'id': 'chatcmpl-CCcy89YxsWd4u8cgrvHy9OjE5Bm9e', 'service_tier': 'default', 'finish_reason': 'tool_calls', 'logprobs': None}, name='writer_assistant', id='run--554eb0f6-8f3c-4c6a-82fb-6732de5c2d46-0', tool_calls=[{'name': 'transfer_to_editor_assistant', 'args': {}, 'id': 'call_3VGE4xQbTy32pN5Jx4zTFeZC', 'type': 'tool_call'}], usage_metadata={'input_tokens': 555, 'output_tokens': 13, 'total_tokens': 568, 'input_token_details': {'audio': 0, 'cache_read': 0}, 'output_token_details': {'audio': 0, 'reasoning': 0}}), ToolMessage(content='Successfully transferred to editor_assistant', name='transfer_to_editor_assistant', id='d548575f-9e6c-4210-ac41-618c47acf0b0', tool_call_id='call_3VGE4xQbTy32pN5Jx4zTFeZC')], 'active_agent': 'editor_assistant'}}\n"
     ]
    },
    {
     "data": {
      "text/html": [
       "<pre style=\"white-space:pre;overflow-x:auto;line-height:normal;font-family:Menlo,'DejaVu Sans Mono',consolas,'Courier New',monospace\">------------------------------------------------------------\n",
       "</pre>\n"
      ],
      "text/plain": [
       "------------------------------------------------------------\n"
      ]
     },
     "metadata": {},
     "output_type": "display_data"
    },
    {
     "name": "stdout",
     "output_type": "stream",
     "text": [
      "\u001b[1m[values]\u001b[0m {'messages': [HumanMessage(content='Create a comprehensive article about the benefits of artificial intelligence in healthcare. Please research the topic, write the content, and then edit it for publication.', additional_kwargs={}, response_metadata={}, id='66d68038-17b2-436e-9add-31ef15f165c4'), AIMessage(content='', additional_kwargs={'tool_calls': [{'id': 'call_Cw0RrE5Eucon4CjHR5HxTTe3', 'function': {'arguments': '{\"topic\":\"benefits of artificial intelligence in healthcare\"}', 'name': 'conduct_research'}, 'type': 'function'}], 'refusal': None}, response_metadata={'token_usage': {'completion_tokens': 22, 'prompt_tokens': 180, 'total_tokens': 202, 'completion_tokens_details': {'accepted_prediction_tokens': 0, 'audio_tokens': 0, 'reasoning_tokens': 0, 'rejected_prediction_tokens': 0}, 'prompt_tokens_details': {'audio_tokens': 0, 'cached_tokens': 0}}, 'model_name': 'gpt-4o-2024-08-06', 'system_fingerprint': 'fp_cbf1785567', 'id': 'chatcmpl-CCcy4rClbZsoJjxJ6K4OnvEd8GQHK', 'service_tier': 'default', 'finish_reason': 'tool_calls', 'logprobs': None}, name='researcher_assistant', id='run--8c613879-f13c-45e4-b2fd-f14f6ed7f361-0', tool_calls=[{'name': 'conduct_research', 'args': {'topic': 'benefits of artificial intelligence in healthcare'}, 'id': 'call_Cw0RrE5Eucon4CjHR5HxTTe3', 'type': 'tool_call'}], usage_metadata={'input_tokens': 180, 'output_tokens': 22, 'total_tokens': 202, 'input_token_details': {'audio': 0, 'cache_read': 0}, 'output_token_details': {'audio': 0, 'reasoning': 0}}), ToolMessage(content='Research completed on \"benefits of artificial intelligence in healthcare\". Found key insights: market trends, best practices, and recent developments.', name='conduct_research', id='5473c4d3-93d8-468d-8d94-5a6ec84d4b8f', tool_call_id='call_Cw0RrE5Eucon4CjHR5HxTTe3'), AIMessage(content='', additional_kwargs={'tool_calls': [{'id': 'call_sRmCQeNGrDCAsdWjQLIiXlaV', 'function': {'arguments': '{\"topic\":\"benefits of artificial intelligence in healthcare\",\"research_findings\":\"Research completed on \\\\\"benefits of artificial intelligence in healthcare\\\\\". Found key insights: market trends, best practices, and recent developments.\"}', 'name': 'create_outline'}, 'type': 'function'}], 'refusal': None}, response_metadata={'token_usage': {'completion_tokens': 52, 'prompt_tokens': 242, 'total_tokens': 294, 'completion_tokens_details': {'accepted_prediction_tokens': 0, 'audio_tokens': 0, 'reasoning_tokens': 0, 'rejected_prediction_tokens': 0}, 'prompt_tokens_details': {'audio_tokens': 0, 'cached_tokens': 0}}, 'model_name': 'gpt-4o-2024-08-06', 'system_fingerprint': 'fp_cbf1785567', 'id': 'chatcmpl-CCcy4Q7956KKiEsdVSfN9YQ5uCgTI', 'service_tier': 'default', 'finish_reason': 'tool_calls', 'logprobs': None}, name='researcher_assistant', id='run--7cfbcc41-385a-4edb-8642-c2e5c55f7a3f-0', tool_calls=[{'name': 'create_outline', 'args': {'topic': 'benefits of artificial intelligence in healthcare', 'research_findings': 'Research completed on \"benefits of artificial intelligence in healthcare\". Found key insights: market trends, best practices, and recent developments.'}, 'id': 'call_sRmCQeNGrDCAsdWjQLIiXlaV', 'type': 'tool_call'}], usage_metadata={'input_tokens': 242, 'output_tokens': 52, 'total_tokens': 294, 'input_token_details': {'audio': 0, 'cache_read': 0}, 'output_token_details': {'audio': 0, 'reasoning': 0}}), ToolMessage(content='Outline created for \"benefits of artificial intelligence in healthcare\" with sections: Introduction, Key Points from research, Analysis, and Conclusion.', name='create_outline', id='cbcd79e5-244a-4951-8469-a0cd27a6413f', tool_call_id='call_sRmCQeNGrDCAsdWjQLIiXlaV'), AIMessage(content='', additional_kwargs={'tool_calls': [{'id': 'call_U9LeDrBrpnrtN7b8BP1Mz8WA', 'function': {'arguments': '{}', 'name': 'transfer_to_writer_assistant'}, 'type': 'function'}], 'refusal': None}, response_metadata={'token_usage': {'completion_tokens': 13, 'prompt_tokens': 334, 'total_tokens': 347, 'completion_tokens_details': {'accepted_prediction_tokens': 0, 'audio_tokens': 0, 'reasoning_tokens': 0, 'rejected_prediction_tokens': 0}, 'prompt_tokens_details': {'audio_tokens': 0, 'cached_tokens': 0}}, 'model_name': 'gpt-4o-2024-08-06', 'system_fingerprint': 'fp_cbf1785567', 'id': 'chatcmpl-CCcy5OoHI2uwvcKQHHwejjkxMuSdi', 'service_tier': 'default', 'finish_reason': 'tool_calls', 'logprobs': None}, name='researcher_assistant', id='run--a41763bc-a9dc-4d13-a0be-035d3134ad50-0', tool_calls=[{'name': 'transfer_to_writer_assistant', 'args': {}, 'id': 'call_U9LeDrBrpnrtN7b8BP1Mz8WA', 'type': 'tool_call'}], usage_metadata={'input_tokens': 334, 'output_tokens': 13, 'total_tokens': 347, 'input_token_details': {'audio': 0, 'cache_read': 0}, 'output_token_details': {'audio': 0, 'reasoning': 0}}), ToolMessage(content='Successfully transferred to writer_assistant', name='transfer_to_writer_assistant', id='7f8ee956-aefa-45c8-8ad8-19feca2e9f8a', tool_call_id='call_U9LeDrBrpnrtN7b8BP1Mz8WA'), AIMessage(content='', additional_kwargs={'tool_calls': [{'id': 'call_HqV4tVIgsA7SDFciJHIZRww1', 'function': {'arguments': '{\"topic\":\"benefits of artificial intelligence in healthcare\",\"outline\":\"1. Introduction\\\\n   - Definition of Artificial Intelligence (AI)\\\\n   - Overview of AI in healthcare\\\\n\\\\n2. Key Benefits of AI in Healthcare\\\\n   - Improved Diagnostics\\\\n   - Personalized Treatment\\\\n   - Operational Efficiency\\\\n   - Predictive Analytics\\\\n   - Patient Engagement\\\\n\\\\n3. Market Trends and Developments\\\\n   - Current market trends\\\\n   - Recent technological advancements\\\\n\\\\n4. Best Practices for Implementing AI in Healthcare\\\\n   - Ensuring data privacy and security\\\\n   - Integrating AI with existing systems\\\\n   - Training healthcare professionals\\\\n\\\\n5. Challenges and Considerations\\\\n   - Ethical concerns\\\\n   - Cost implications\\\\n   - Regulatory issues\\\\n\\\\n6. Conclusion\\\\n   - Summary of benefits\\\\n   - Future outlook of AI in healthcare\"}', 'name': 'write_content'}, 'type': 'function'}], 'refusal': None}, response_metadata={'token_usage': {'completion_tokens': 180, 'prompt_tokens': 345, 'total_tokens': 525, 'completion_tokens_details': {'accepted_prediction_tokens': 0, 'audio_tokens': 0, 'reasoning_tokens': 0, 'rejected_prediction_tokens': 0}, 'prompt_tokens_details': {'audio_tokens': 0, 'cached_tokens': 0}}, 'model_name': 'gpt-4o-2024-08-06', 'system_fingerprint': 'fp_cbf1785567', 'id': 'chatcmpl-CCcy6cGSiD85NquGUCdMT1DOyKQPr', 'service_tier': 'default', 'finish_reason': 'tool_calls', 'logprobs': None}, name='writer_assistant', id='run--c301d83e-e9d6-4314-80b6-d160e3305ffa-0', tool_calls=[{'name': 'write_content', 'args': {'topic': 'benefits of artificial intelligence in healthcare', 'outline': '1. Introduction\\n   - Definition of Artificial Intelligence (AI)\\n   - Overview of AI in healthcare\\n\\n2. Key Benefits of AI in Healthcare\\n   - Improved Diagnostics\\n   - Personalized Treatment\\n   - Operational Efficiency\\n   - Predictive Analytics\\n   - Patient Engagement\\n\\n3. Market Trends and Developments\\n   - Current market trends\\n   - Recent technological advancements\\n\\n4. Best Practices for Implementing AI in Healthcare\\n   - Ensuring data privacy and security\\n   - Integrating AI with existing systems\\n   - Training healthcare professionals\\n\\n5. Challenges and Considerations\\n   - Ethical concerns\\n   - Cost implications\\n   - Regulatory issues\\n\\n6. Conclusion\\n   - Summary of benefits\\n   - Future outlook of AI in healthcare'}, 'id': 'call_HqV4tVIgsA7SDFciJHIZRww1', 'type': 'tool_call'}], usage_metadata={'input_tokens': 345, 'output_tokens': 180, 'total_tokens': 525, 'input_token_details': {'audio': 0, 'cache_read': 0}, 'output_token_details': {'audio': 0, 'reasoning': 0}}), ToolMessage(content='Content written for \"benefits of artificial intelligence in healthcare\" following the provided outline structure.', name='write_content', id='c2efdbf1-e0db-47c2-8ae2-ec8aaa1366f8', tool_call_id='call_HqV4tVIgsA7SDFciJHIZRww1'), AIMessage(content='', additional_kwargs={'tool_calls': [{'id': 'call_3VGE4xQbTy32pN5Jx4zTFeZC', 'function': {'arguments': '{}', 'name': 'transfer_to_editor_assistant'}, 'type': 'function'}], 'refusal': None}, response_metadata={'token_usage': {'completion_tokens': 13, 'prompt_tokens': 555, 'total_tokens': 568, 'completion_tokens_details': {'accepted_prediction_tokens': 0, 'audio_tokens': 0, 'reasoning_tokens': 0, 'rejected_prediction_tokens': 0}, 'prompt_tokens_details': {'audio_tokens': 0, 'cached_tokens': 0}}, 'model_name': 'gpt-4o-2024-08-06', 'system_fingerprint': 'fp_cbf1785567', 'id': 'chatcmpl-CCcy89YxsWd4u8cgrvHy9OjE5Bm9e', 'service_tier': 'default', 'finish_reason': 'tool_calls', 'logprobs': None}, name='writer_assistant', id='run--554eb0f6-8f3c-4c6a-82fb-6732de5c2d46-0', tool_calls=[{'name': 'transfer_to_editor_assistant', 'args': {}, 'id': 'call_3VGE4xQbTy32pN5Jx4zTFeZC', 'type': 'tool_call'}], usage_metadata={'input_tokens': 555, 'output_tokens': 13, 'total_tokens': 568, 'input_token_details': {'audio': 0, 'cache_read': 0}, 'output_token_details': {'audio': 0, 'reasoning': 0}}), ToolMessage(content='Successfully transferred to editor_assistant', name='transfer_to_editor_assistant', id='d548575f-9e6c-4210-ac41-618c47acf0b0', tool_call_id='call_3VGE4xQbTy32pN5Jx4zTFeZC')], 'active_agent': 'editor_assistant'}\n",
      "\u001b[1m[updates]\u001b[0m {'editor_assistant': {'messages': [HumanMessage(content='Create a comprehensive article about the benefits of artificial intelligence in healthcare. Please research the topic, write the content, and then edit it for publication.', additional_kwargs={}, response_metadata={}, id='66d68038-17b2-436e-9add-31ef15f165c4'), AIMessage(content='', additional_kwargs={'tool_calls': [{'id': 'call_Cw0RrE5Eucon4CjHR5HxTTe3', 'function': {'arguments': '{\"topic\":\"benefits of artificial intelligence in healthcare\"}', 'name': 'conduct_research'}, 'type': 'function'}], 'refusal': None}, response_metadata={'token_usage': {'completion_tokens': 22, 'prompt_tokens': 180, 'total_tokens': 202, 'completion_tokens_details': {'accepted_prediction_tokens': 0, 'audio_tokens': 0, 'reasoning_tokens': 0, 'rejected_prediction_tokens': 0}, 'prompt_tokens_details': {'audio_tokens': 0, 'cached_tokens': 0}}, 'model_name': 'gpt-4o-2024-08-06', 'system_fingerprint': 'fp_cbf1785567', 'id': 'chatcmpl-CCcy4rClbZsoJjxJ6K4OnvEd8GQHK', 'service_tier': 'default', 'finish_reason': 'tool_calls', 'logprobs': None}, name='researcher_assistant', id='run--8c613879-f13c-45e4-b2fd-f14f6ed7f361-0', tool_calls=[{'name': 'conduct_research', 'args': {'topic': 'benefits of artificial intelligence in healthcare'}, 'id': 'call_Cw0RrE5Eucon4CjHR5HxTTe3', 'type': 'tool_call'}], usage_metadata={'input_tokens': 180, 'output_tokens': 22, 'total_tokens': 202, 'input_token_details': {'audio': 0, 'cache_read': 0}, 'output_token_details': {'audio': 0, 'reasoning': 0}}), ToolMessage(content='Research completed on \"benefits of artificial intelligence in healthcare\". Found key insights: market trends, best practices, and recent developments.', name='conduct_research', id='5473c4d3-93d8-468d-8d94-5a6ec84d4b8f', tool_call_id='call_Cw0RrE5Eucon4CjHR5HxTTe3'), AIMessage(content='', additional_kwargs={'tool_calls': [{'id': 'call_sRmCQeNGrDCAsdWjQLIiXlaV', 'function': {'arguments': '{\"topic\":\"benefits of artificial intelligence in healthcare\",\"research_findings\":\"Research completed on \\\\\"benefits of artificial intelligence in healthcare\\\\\". Found key insights: market trends, best practices, and recent developments.\"}', 'name': 'create_outline'}, 'type': 'function'}], 'refusal': None}, response_metadata={'token_usage': {'completion_tokens': 52, 'prompt_tokens': 242, 'total_tokens': 294, 'completion_tokens_details': {'accepted_prediction_tokens': 0, 'audio_tokens': 0, 'reasoning_tokens': 0, 'rejected_prediction_tokens': 0}, 'prompt_tokens_details': {'audio_tokens': 0, 'cached_tokens': 0}}, 'model_name': 'gpt-4o-2024-08-06', 'system_fingerprint': 'fp_cbf1785567', 'id': 'chatcmpl-CCcy4Q7956KKiEsdVSfN9YQ5uCgTI', 'service_tier': 'default', 'finish_reason': 'tool_calls', 'logprobs': None}, name='researcher_assistant', id='run--7cfbcc41-385a-4edb-8642-c2e5c55f7a3f-0', tool_calls=[{'name': 'create_outline', 'args': {'topic': 'benefits of artificial intelligence in healthcare', 'research_findings': 'Research completed on \"benefits of artificial intelligence in healthcare\". Found key insights: market trends, best practices, and recent developments.'}, 'id': 'call_sRmCQeNGrDCAsdWjQLIiXlaV', 'type': 'tool_call'}], usage_metadata={'input_tokens': 242, 'output_tokens': 52, 'total_tokens': 294, 'input_token_details': {'audio': 0, 'cache_read': 0}, 'output_token_details': {'audio': 0, 'reasoning': 0}}), ToolMessage(content='Outline created for \"benefits of artificial intelligence in healthcare\" with sections: Introduction, Key Points from research, Analysis, and Conclusion.', name='create_outline', id='cbcd79e5-244a-4951-8469-a0cd27a6413f', tool_call_id='call_sRmCQeNGrDCAsdWjQLIiXlaV'), AIMessage(content='', additional_kwargs={'tool_calls': [{'id': 'call_U9LeDrBrpnrtN7b8BP1Mz8WA', 'function': {'arguments': '{}', 'name': 'transfer_to_writer_assistant'}, 'type': 'function'}], 'refusal': None}, response_metadata={'token_usage': {'completion_tokens': 13, 'prompt_tokens': 334, 'total_tokens': 347, 'completion_tokens_details': {'accepted_prediction_tokens': 0, 'audio_tokens': 0, 'reasoning_tokens': 0, 'rejected_prediction_tokens': 0}, 'prompt_tokens_details': {'audio_tokens': 0, 'cached_tokens': 0}}, 'model_name': 'gpt-4o-2024-08-06', 'system_fingerprint': 'fp_cbf1785567', 'id': 'chatcmpl-CCcy5OoHI2uwvcKQHHwejjkxMuSdi', 'service_tier': 'default', 'finish_reason': 'tool_calls', 'logprobs': None}, name='researcher_assistant', id='run--a41763bc-a9dc-4d13-a0be-035d3134ad50-0', tool_calls=[{'name': 'transfer_to_writer_assistant', 'args': {}, 'id': 'call_U9LeDrBrpnrtN7b8BP1Mz8WA', 'type': 'tool_call'}], usage_metadata={'input_tokens': 334, 'output_tokens': 13, 'total_tokens': 347, 'input_token_details': {'audio': 0, 'cache_read': 0}, 'output_token_details': {'audio': 0, 'reasoning': 0}}), ToolMessage(content='Successfully transferred to writer_assistant', name='transfer_to_writer_assistant', id='7f8ee956-aefa-45c8-8ad8-19feca2e9f8a', tool_call_id='call_U9LeDrBrpnrtN7b8BP1Mz8WA'), AIMessage(content='', additional_kwargs={'tool_calls': [{'id': 'call_HqV4tVIgsA7SDFciJHIZRww1', 'function': {'arguments': '{\"topic\":\"benefits of artificial intelligence in healthcare\",\"outline\":\"1. Introduction\\\\n   - Definition of Artificial Intelligence (AI)\\\\n   - Overview of AI in healthcare\\\\n\\\\n2. Key Benefits of AI in Healthcare\\\\n   - Improved Diagnostics\\\\n   - Personalized Treatment\\\\n   - Operational Efficiency\\\\n   - Predictive Analytics\\\\n   - Patient Engagement\\\\n\\\\n3. Market Trends and Developments\\\\n   - Current market trends\\\\n   - Recent technological advancements\\\\n\\\\n4. Best Practices for Implementing AI in Healthcare\\\\n   - Ensuring data privacy and security\\\\n   - Integrating AI with existing systems\\\\n   - Training healthcare professionals\\\\n\\\\n5. Challenges and Considerations\\\\n   - Ethical concerns\\\\n   - Cost implications\\\\n   - Regulatory issues\\\\n\\\\n6. Conclusion\\\\n   - Summary of benefits\\\\n   - Future outlook of AI in healthcare\"}', 'name': 'write_content'}, 'type': 'function'}], 'refusal': None}, response_metadata={'token_usage': {'completion_tokens': 180, 'prompt_tokens': 345, 'total_tokens': 525, 'completion_tokens_details': {'accepted_prediction_tokens': 0, 'audio_tokens': 0, 'reasoning_tokens': 0, 'rejected_prediction_tokens': 0}, 'prompt_tokens_details': {'audio_tokens': 0, 'cached_tokens': 0}}, 'model_name': 'gpt-4o-2024-08-06', 'system_fingerprint': 'fp_cbf1785567', 'id': 'chatcmpl-CCcy6cGSiD85NquGUCdMT1DOyKQPr', 'service_tier': 'default', 'finish_reason': 'tool_calls', 'logprobs': None}, name='writer_assistant', id='run--c301d83e-e9d6-4314-80b6-d160e3305ffa-0', tool_calls=[{'name': 'write_content', 'args': {'topic': 'benefits of artificial intelligence in healthcare', 'outline': '1. Introduction\\n   - Definition of Artificial Intelligence (AI)\\n   - Overview of AI in healthcare\\n\\n2. Key Benefits of AI in Healthcare\\n   - Improved Diagnostics\\n   - Personalized Treatment\\n   - Operational Efficiency\\n   - Predictive Analytics\\n   - Patient Engagement\\n\\n3. Market Trends and Developments\\n   - Current market trends\\n   - Recent technological advancements\\n\\n4. Best Practices for Implementing AI in Healthcare\\n   - Ensuring data privacy and security\\n   - Integrating AI with existing systems\\n   - Training healthcare professionals\\n\\n5. Challenges and Considerations\\n   - Ethical concerns\\n   - Cost implications\\n   - Regulatory issues\\n\\n6. Conclusion\\n   - Summary of benefits\\n   - Future outlook of AI in healthcare'}, 'id': 'call_HqV4tVIgsA7SDFciJHIZRww1', 'type': 'tool_call'}], usage_metadata={'input_tokens': 345, 'output_tokens': 180, 'total_tokens': 525, 'input_token_details': {'audio': 0, 'cache_read': 0}, 'output_token_details': {'audio': 0, 'reasoning': 0}}), ToolMessage(content='Content written for \"benefits of artificial intelligence in healthcare\" following the provided outline structure.', name='write_content', id='c2efdbf1-e0db-47c2-8ae2-ec8aaa1366f8', tool_call_id='call_HqV4tVIgsA7SDFciJHIZRww1'), AIMessage(content='', additional_kwargs={'tool_calls': [{'id': 'call_3VGE4xQbTy32pN5Jx4zTFeZC', 'function': {'arguments': '{}', 'name': 'transfer_to_editor_assistant'}, 'type': 'function'}], 'refusal': None}, response_metadata={'token_usage': {'completion_tokens': 13, 'prompt_tokens': 555, 'total_tokens': 568, 'completion_tokens_details': {'accepted_prediction_tokens': 0, 'audio_tokens': 0, 'reasoning_tokens': 0, 'rejected_prediction_tokens': 0}, 'prompt_tokens_details': {'audio_tokens': 0, 'cached_tokens': 0}}, 'model_name': 'gpt-4o-2024-08-06', 'system_fingerprint': 'fp_cbf1785567', 'id': 'chatcmpl-CCcy89YxsWd4u8cgrvHy9OjE5Bm9e', 'service_tier': 'default', 'finish_reason': 'tool_calls', 'logprobs': None}, name='writer_assistant', id='run--554eb0f6-8f3c-4c6a-82fb-6732de5c2d46-0', tool_calls=[{'name': 'transfer_to_editor_assistant', 'args': {}, 'id': 'call_3VGE4xQbTy32pN5Jx4zTFeZC', 'type': 'tool_call'}], usage_metadata={'input_tokens': 555, 'output_tokens': 13, 'total_tokens': 568, 'input_token_details': {'audio': 0, 'cache_read': 0}, 'output_token_details': {'audio': 0, 'reasoning': 0}}), ToolMessage(content='Successfully transferred to editor_assistant', name='transfer_to_editor_assistant', id='d548575f-9e6c-4210-ac41-618c47acf0b0', tool_call_id='call_3VGE4xQbTy32pN5Jx4zTFeZC'), AIMessage(content='', additional_kwargs={'tool_calls': [{'id': 'call_pDTWw9P4PtMxQp0yGOVyeD7E', 'function': {'arguments': '{\"content\":\"**The Benefits of Artificial Intelligence in Healthcare**\\\\n\\\\n**Introduction**\\\\nArtificial Intelligence (AI) is revolutionizing various sectors, and healthcare is no exception. AI in healthcare refers to the use of complex algorithms and software to emulate human cognition in the analysis, interpretation, and comprehension of complicated medical and healthcare data. This technology is transforming the way healthcare is delivered, making it more efficient, personalized, and accessible.\\\\n\\\\n**Key Benefits of AI in Healthcare**\\\\n\\\\n1. **Improved Diagnostics**: AI systems can analyze medical data with high accuracy, assisting doctors in diagnosing diseases more quickly and accurately. For instance, AI algorithms can detect patterns in imaging data that might be missed by the human eye, leading to early detection of conditions like cancer.\\\\n\\\\n2. **Personalized Treatment**: AI enables the development of personalized treatment plans by analyzing a patient’s genetic information, lifestyle, and other factors. This approach ensures that patients receive treatments that are specifically tailored to their individual needs, improving outcomes and reducing side effects.\\\\n\\\\n3. **Operational Efficiency**: AI can automate routine tasks, such as scheduling appointments and managing patient records, freeing up healthcare professionals to focus on more critical tasks. This leads to increased efficiency and reduced administrative costs.\\\\n\\\\n4. **Predictive Analytics**: By analyzing vast amounts of data, AI can predict patient outcomes and disease outbreaks, allowing for proactive measures to be taken. This capability is particularly valuable in managing chronic diseases and preventing hospital readmissions.\\\\n\\\\n5. **Patient Engagement**: AI-powered tools, such as chatbots and virtual health assistants, enhance patient engagement by providing 24/7 support and personalized health advice. These tools empower patients to take an active role in managing their health.\\\\n\\\\n**Market Trends and Developments**\\\\nThe AI healthcare market is experiencing rapid growth, driven by technological advancements and increasing demand for efficient healthcare solutions. Recent developments include the integration of AI with wearable devices and the use of AI in drug discovery, which are opening new avenues for innovation.\\\\n\\\\n**Best Practices for Implementing AI in Healthcare**\\\\nTo successfully implement AI in healthcare, it is crucial to ensure data privacy and security, integrate AI systems with existing healthcare infrastructure, and provide adequate training for healthcare professionals. These practices help in overcoming barriers and maximizing the benefits of AI.\\\\n\\\\n**Challenges and Considerations**\\\\nDespite its potential, the adoption of AI in healthcare comes with challenges. Ethical concerns, such as data privacy and the potential for bias in AI algorithms, need to be addressed. Additionally, the cost of implementing AI technologies and navigating regulatory requirements can be significant hurdles.\\\\n\\\\n**Conclusion**\\\\nAI is poised to transform healthcare by improving diagnostics, personalizing treatment, and enhancing operational efficiency. While challenges exist, the future of AI in healthcare looks promising, with the potential to significantly improve patient outcomes and healthcare delivery.\"}', 'name': 'edit_content'}, 'type': 'function'}], 'refusal': None}, response_metadata={'token_usage': {'completion_tokens': 600, 'prompt_tokens': 584, 'total_tokens': 1184, 'completion_tokens_details': {'accepted_prediction_tokens': 0, 'audio_tokens': 0, 'reasoning_tokens': 0, 'rejected_prediction_tokens': 0}, 'prompt_tokens_details': {'audio_tokens': 0, 'cached_tokens': 0}}, 'model_name': 'gpt-4o-2024-08-06', 'system_fingerprint': 'fp_cbf1785567', 'id': 'chatcmpl-CCcy8iwJetO3Atf3YLPzlmOYx2dPH', 'service_tier': 'default', 'finish_reason': 'tool_calls', 'logprobs': None}, name='editor_assistant', id='run--46dad25f-b8a5-4be3-af12-3e1e519d8a26-0', tool_calls=[{'name': 'edit_content', 'args': {'content': '**The Benefits of Artificial Intelligence in Healthcare**\\n\\n**Introduction**\\nArtificial Intelligence (AI) is revolutionizing various sectors, and healthcare is no exception. AI in healthcare refers to the use of complex algorithms and software to emulate human cognition in the analysis, interpretation, and comprehension of complicated medical and healthcare data. This technology is transforming the way healthcare is delivered, making it more efficient, personalized, and accessible.\\n\\n**Key Benefits of AI in Healthcare**\\n\\n1. **Improved Diagnostics**: AI systems can analyze medical data with high accuracy, assisting doctors in diagnosing diseases more quickly and accurately. For instance, AI algorithms can detect patterns in imaging data that might be missed by the human eye, leading to early detection of conditions like cancer.\\n\\n2. **Personalized Treatment**: AI enables the development of personalized treatment plans by analyzing a patient’s genetic information, lifestyle, and other factors. This approach ensures that patients receive treatments that are specifically tailored to their individual needs, improving outcomes and reducing side effects.\\n\\n3. **Operational Efficiency**: AI can automate routine tasks, such as scheduling appointments and managing patient records, freeing up healthcare professionals to focus on more critical tasks. This leads to increased efficiency and reduced administrative costs.\\n\\n4. **Predictive Analytics**: By analyzing vast amounts of data, AI can predict patient outcomes and disease outbreaks, allowing for proactive measures to be taken. This capability is particularly valuable in managing chronic diseases and preventing hospital readmissions.\\n\\n5. **Patient Engagement**: AI-powered tools, such as chatbots and virtual health assistants, enhance patient engagement by providing 24/7 support and personalized health advice. These tools empower patients to take an active role in managing their health.\\n\\n**Market Trends and Developments**\\nThe AI healthcare market is experiencing rapid growth, driven by technological advancements and increasing demand for efficient healthcare solutions. Recent developments include the integration of AI with wearable devices and the use of AI in drug discovery, which are opening new avenues for innovation.\\n\\n**Best Practices for Implementing AI in Healthcare**\\nTo successfully implement AI in healthcare, it is crucial to ensure data privacy and security, integrate AI systems with existing healthcare infrastructure, and provide adequate training for healthcare professionals. These practices help in overcoming barriers and maximizing the benefits of AI.\\n\\n**Challenges and Considerations**\\nDespite its potential, the adoption of AI in healthcare comes with challenges. Ethical concerns, such as data privacy and the potential for bias in AI algorithms, need to be addressed. Additionally, the cost of implementing AI technologies and navigating regulatory requirements can be significant hurdles.\\n\\n**Conclusion**\\nAI is poised to transform healthcare by improving diagnostics, personalizing treatment, and enhancing operational efficiency. While challenges exist, the future of AI in healthcare looks promising, with the potential to significantly improve patient outcomes and healthcare delivery.'}, 'id': 'call_pDTWw9P4PtMxQp0yGOVyeD7E', 'type': 'tool_call'}], usage_metadata={'input_tokens': 584, 'output_tokens': 600, 'total_tokens': 1184, 'input_token_details': {'audio': 0, 'cache_read': 0}, 'output_token_details': {'audio': 0, 'reasoning': 0}}), ToolMessage(content='Content has been edited and refined for clarity, grammar, and flow.', name='edit_content', id='03024d4c-b080-4719-9a50-bc05ab4debaf', tool_call_id='call_pDTWw9P4PtMxQp0yGOVyeD7E'), AIMessage(content='Here is the comprehensive article on the benefits of artificial intelligence in healthcare:\\n\\n---\\n\\n**The Benefits of Artificial Intelligence in Healthcare**\\n\\n**Introduction**\\n\\nArtificial Intelligence (AI) is revolutionizing various sectors, and healthcare is no exception. AI in healthcare refers to the use of complex algorithms and software to emulate human cognition in the analysis, interpretation, and comprehension of complicated medical and healthcare data. This technology is transforming the way healthcare is delivered, making it more efficient, personalized, and accessible.\\n\\n**Key Benefits of AI in Healthcare**\\n\\n1. **Improved Diagnostics**: AI systems can analyze medical data with high accuracy, assisting doctors in diagnosing diseases more quickly and accurately. For instance, AI algorithms can detect patterns in imaging data that might be missed by the human eye, leading to early detection of conditions like cancer.\\n\\n2. **Personalized Treatment**: AI enables the development of personalized treatment plans by analyzing a patient’s genetic information, lifestyle, and other factors. This approach ensures that patients receive treatments that are specifically tailored to their individual needs, improving outcomes and reducing side effects.\\n\\n3. **Operational Efficiency**: AI can automate routine tasks, such as scheduling appointments and managing patient records, freeing up healthcare professionals to focus on more critical tasks. This leads to increased efficiency and reduced administrative costs.\\n\\n4. **Predictive Analytics**: By analyzing vast amounts of data, AI can predict patient outcomes and disease outbreaks, allowing for proactive measures to be taken. This capability is particularly valuable in managing chronic diseases and preventing hospital readmissions.\\n\\n5. **Patient Engagement**: AI-powered tools, such as chatbots and virtual health assistants, enhance patient engagement by providing 24/7 support and personalized health advice. These tools empower patients to take an active role in managing their health.\\n\\n**Market Trends and Developments**\\n\\nThe AI healthcare market is experiencing rapid growth, driven by technological advancements and increasing demand for efficient healthcare solutions. Recent developments include the integration of AI with wearable devices and the use of AI in drug discovery, which are opening new avenues for innovation.\\n\\n**Best Practices for Implementing AI in Healthcare**\\n\\nTo successfully implement AI in healthcare, it is crucial to ensure data privacy and security, integrate AI systems with existing healthcare infrastructure, and provide adequate training for healthcare professionals. These practices help in overcoming barriers and maximizing the benefits of AI.\\n\\n**Challenges and Considerations**\\n\\nDespite its potential, the adoption of AI in healthcare comes with challenges. Ethical concerns, such as data privacy and the potential for bias in AI algorithms, need to be addressed. Additionally, the cost of implementing AI technologies and navigating regulatory requirements can be significant hurdles.\\n\\n**Conclusion**\\n\\nAI is poised to transform healthcare by improving diagnostics, personalizing treatment, and enhancing operational efficiency. While challenges exist, the future of AI in healthcare looks promising, with the potential to significantly improve patient outcomes and healthcare delivery.\\n\\n--- \\n\\nThis article is now ready for publication.', additional_kwargs={'refusal': None}, response_metadata={'token_usage': {'completion_tokens': 579, 'prompt_tokens': 1210, 'total_tokens': 1789, 'completion_tokens_details': {'accepted_prediction_tokens': 0, 'audio_tokens': 0, 'reasoning_tokens': 0, 'rejected_prediction_tokens': 0}, 'prompt_tokens_details': {'audio_tokens': 0, 'cached_tokens': 0}}, 'model_name': 'gpt-4o-2024-08-06', 'system_fingerprint': 'fp_cbf1785567', 'id': 'chatcmpl-CCcyGJwiWwEiolqE4KpvF19eIEDlw', 'service_tier': 'default', 'finish_reason': 'stop', 'logprobs': None}, name='editor_assistant', id='run--0f8135eb-d354-48c4-8498-d768ffb3ce64-0', usage_metadata={'input_tokens': 1210, 'output_tokens': 579, 'total_tokens': 1789, 'input_token_details': {'audio': 0, 'cache_read': 0}, 'output_token_details': {'audio': 0, 'reasoning': 0}})]}}\n"
     ]
    },
    {
     "data": {
      "text/html": [
       "<pre style=\"white-space:pre;overflow-x:auto;line-height:normal;font-family:Menlo,'DejaVu Sans Mono',consolas,'Courier New',monospace\">------------------------------------------------------------\n",
       "</pre>\n"
      ],
      "text/plain": [
       "------------------------------------------------------------\n"
      ]
     },
     "metadata": {},
     "output_type": "display_data"
    },
    {
     "name": "stdout",
     "output_type": "stream",
     "text": [
      "\u001b[1m[values]\u001b[0m {'messages': [HumanMessage(content='Create a comprehensive article about the benefits of artificial intelligence in healthcare. Please research the topic, write the content, and then edit it for publication.', additional_kwargs={}, response_metadata={}, id='66d68038-17b2-436e-9add-31ef15f165c4'), AIMessage(content='', additional_kwargs={'tool_calls': [{'id': 'call_Cw0RrE5Eucon4CjHR5HxTTe3', 'function': {'arguments': '{\"topic\":\"benefits of artificial intelligence in healthcare\"}', 'name': 'conduct_research'}, 'type': 'function'}], 'refusal': None}, response_metadata={'token_usage': {'completion_tokens': 22, 'prompt_tokens': 180, 'total_tokens': 202, 'completion_tokens_details': {'accepted_prediction_tokens': 0, 'audio_tokens': 0, 'reasoning_tokens': 0, 'rejected_prediction_tokens': 0}, 'prompt_tokens_details': {'audio_tokens': 0, 'cached_tokens': 0}}, 'model_name': 'gpt-4o-2024-08-06', 'system_fingerprint': 'fp_cbf1785567', 'id': 'chatcmpl-CCcy4rClbZsoJjxJ6K4OnvEd8GQHK', 'service_tier': 'default', 'finish_reason': 'tool_calls', 'logprobs': None}, name='researcher_assistant', id='run--8c613879-f13c-45e4-b2fd-f14f6ed7f361-0', tool_calls=[{'name': 'conduct_research', 'args': {'topic': 'benefits of artificial intelligence in healthcare'}, 'id': 'call_Cw0RrE5Eucon4CjHR5HxTTe3', 'type': 'tool_call'}], usage_metadata={'input_tokens': 180, 'output_tokens': 22, 'total_tokens': 202, 'input_token_details': {'audio': 0, 'cache_read': 0}, 'output_token_details': {'audio': 0, 'reasoning': 0}}), ToolMessage(content='Research completed on \"benefits of artificial intelligence in healthcare\". Found key insights: market trends, best practices, and recent developments.', name='conduct_research', id='5473c4d3-93d8-468d-8d94-5a6ec84d4b8f', tool_call_id='call_Cw0RrE5Eucon4CjHR5HxTTe3'), AIMessage(content='', additional_kwargs={'tool_calls': [{'id': 'call_sRmCQeNGrDCAsdWjQLIiXlaV', 'function': {'arguments': '{\"topic\":\"benefits of artificial intelligence in healthcare\",\"research_findings\":\"Research completed on \\\\\"benefits of artificial intelligence in healthcare\\\\\". Found key insights: market trends, best practices, and recent developments.\"}', 'name': 'create_outline'}, 'type': 'function'}], 'refusal': None}, response_metadata={'token_usage': {'completion_tokens': 52, 'prompt_tokens': 242, 'total_tokens': 294, 'completion_tokens_details': {'accepted_prediction_tokens': 0, 'audio_tokens': 0, 'reasoning_tokens': 0, 'rejected_prediction_tokens': 0}, 'prompt_tokens_details': {'audio_tokens': 0, 'cached_tokens': 0}}, 'model_name': 'gpt-4o-2024-08-06', 'system_fingerprint': 'fp_cbf1785567', 'id': 'chatcmpl-CCcy4Q7956KKiEsdVSfN9YQ5uCgTI', 'service_tier': 'default', 'finish_reason': 'tool_calls', 'logprobs': None}, name='researcher_assistant', id='run--7cfbcc41-385a-4edb-8642-c2e5c55f7a3f-0', tool_calls=[{'name': 'create_outline', 'args': {'topic': 'benefits of artificial intelligence in healthcare', 'research_findings': 'Research completed on \"benefits of artificial intelligence in healthcare\". Found key insights: market trends, best practices, and recent developments.'}, 'id': 'call_sRmCQeNGrDCAsdWjQLIiXlaV', 'type': 'tool_call'}], usage_metadata={'input_tokens': 242, 'output_tokens': 52, 'total_tokens': 294, 'input_token_details': {'audio': 0, 'cache_read': 0}, 'output_token_details': {'audio': 0, 'reasoning': 0}}), ToolMessage(content='Outline created for \"benefits of artificial intelligence in healthcare\" with sections: Introduction, Key Points from research, Analysis, and Conclusion.', name='create_outline', id='cbcd79e5-244a-4951-8469-a0cd27a6413f', tool_call_id='call_sRmCQeNGrDCAsdWjQLIiXlaV'), AIMessage(content='', additional_kwargs={'tool_calls': [{'id': 'call_U9LeDrBrpnrtN7b8BP1Mz8WA', 'function': {'arguments': '{}', 'name': 'transfer_to_writer_assistant'}, 'type': 'function'}], 'refusal': None}, response_metadata={'token_usage': {'completion_tokens': 13, 'prompt_tokens': 334, 'total_tokens': 347, 'completion_tokens_details': {'accepted_prediction_tokens': 0, 'audio_tokens': 0, 'reasoning_tokens': 0, 'rejected_prediction_tokens': 0}, 'prompt_tokens_details': {'audio_tokens': 0, 'cached_tokens': 0}}, 'model_name': 'gpt-4o-2024-08-06', 'system_fingerprint': 'fp_cbf1785567', 'id': 'chatcmpl-CCcy5OoHI2uwvcKQHHwejjkxMuSdi', 'service_tier': 'default', 'finish_reason': 'tool_calls', 'logprobs': None}, name='researcher_assistant', id='run--a41763bc-a9dc-4d13-a0be-035d3134ad50-0', tool_calls=[{'name': 'transfer_to_writer_assistant', 'args': {}, 'id': 'call_U9LeDrBrpnrtN7b8BP1Mz8WA', 'type': 'tool_call'}], usage_metadata={'input_tokens': 334, 'output_tokens': 13, 'total_tokens': 347, 'input_token_details': {'audio': 0, 'cache_read': 0}, 'output_token_details': {'audio': 0, 'reasoning': 0}}), ToolMessage(content='Successfully transferred to writer_assistant', name='transfer_to_writer_assistant', id='7f8ee956-aefa-45c8-8ad8-19feca2e9f8a', tool_call_id='call_U9LeDrBrpnrtN7b8BP1Mz8WA'), AIMessage(content='', additional_kwargs={'tool_calls': [{'id': 'call_HqV4tVIgsA7SDFciJHIZRww1', 'function': {'arguments': '{\"topic\":\"benefits of artificial intelligence in healthcare\",\"outline\":\"1. Introduction\\\\n   - Definition of Artificial Intelligence (AI)\\\\n   - Overview of AI in healthcare\\\\n\\\\n2. Key Benefits of AI in Healthcare\\\\n   - Improved Diagnostics\\\\n   - Personalized Treatment\\\\n   - Operational Efficiency\\\\n   - Predictive Analytics\\\\n   - Patient Engagement\\\\n\\\\n3. Market Trends and Developments\\\\n   - Current market trends\\\\n   - Recent technological advancements\\\\n\\\\n4. Best Practices for Implementing AI in Healthcare\\\\n   - Ensuring data privacy and security\\\\n   - Integrating AI with existing systems\\\\n   - Training healthcare professionals\\\\n\\\\n5. Challenges and Considerations\\\\n   - Ethical concerns\\\\n   - Cost implications\\\\n   - Regulatory issues\\\\n\\\\n6. Conclusion\\\\n   - Summary of benefits\\\\n   - Future outlook of AI in healthcare\"}', 'name': 'write_content'}, 'type': 'function'}], 'refusal': None}, response_metadata={'token_usage': {'completion_tokens': 180, 'prompt_tokens': 345, 'total_tokens': 525, 'completion_tokens_details': {'accepted_prediction_tokens': 0, 'audio_tokens': 0, 'reasoning_tokens': 0, 'rejected_prediction_tokens': 0}, 'prompt_tokens_details': {'audio_tokens': 0, 'cached_tokens': 0}}, 'model_name': 'gpt-4o-2024-08-06', 'system_fingerprint': 'fp_cbf1785567', 'id': 'chatcmpl-CCcy6cGSiD85NquGUCdMT1DOyKQPr', 'service_tier': 'default', 'finish_reason': 'tool_calls', 'logprobs': None}, name='writer_assistant', id='run--c301d83e-e9d6-4314-80b6-d160e3305ffa-0', tool_calls=[{'name': 'write_content', 'args': {'topic': 'benefits of artificial intelligence in healthcare', 'outline': '1. Introduction\\n   - Definition of Artificial Intelligence (AI)\\n   - Overview of AI in healthcare\\n\\n2. Key Benefits of AI in Healthcare\\n   - Improved Diagnostics\\n   - Personalized Treatment\\n   - Operational Efficiency\\n   - Predictive Analytics\\n   - Patient Engagement\\n\\n3. Market Trends and Developments\\n   - Current market trends\\n   - Recent technological advancements\\n\\n4. Best Practices for Implementing AI in Healthcare\\n   - Ensuring data privacy and security\\n   - Integrating AI with existing systems\\n   - Training healthcare professionals\\n\\n5. Challenges and Considerations\\n   - Ethical concerns\\n   - Cost implications\\n   - Regulatory issues\\n\\n6. Conclusion\\n   - Summary of benefits\\n   - Future outlook of AI in healthcare'}, 'id': 'call_HqV4tVIgsA7SDFciJHIZRww1', 'type': 'tool_call'}], usage_metadata={'input_tokens': 345, 'output_tokens': 180, 'total_tokens': 525, 'input_token_details': {'audio': 0, 'cache_read': 0}, 'output_token_details': {'audio': 0, 'reasoning': 0}}), ToolMessage(content='Content written for \"benefits of artificial intelligence in healthcare\" following the provided outline structure.', name='write_content', id='c2efdbf1-e0db-47c2-8ae2-ec8aaa1366f8', tool_call_id='call_HqV4tVIgsA7SDFciJHIZRww1'), AIMessage(content='', additional_kwargs={'tool_calls': [{'id': 'call_3VGE4xQbTy32pN5Jx4zTFeZC', 'function': {'arguments': '{}', 'name': 'transfer_to_editor_assistant'}, 'type': 'function'}], 'refusal': None}, response_metadata={'token_usage': {'completion_tokens': 13, 'prompt_tokens': 555, 'total_tokens': 568, 'completion_tokens_details': {'accepted_prediction_tokens': 0, 'audio_tokens': 0, 'reasoning_tokens': 0, 'rejected_prediction_tokens': 0}, 'prompt_tokens_details': {'audio_tokens': 0, 'cached_tokens': 0}}, 'model_name': 'gpt-4o-2024-08-06', 'system_fingerprint': 'fp_cbf1785567', 'id': 'chatcmpl-CCcy89YxsWd4u8cgrvHy9OjE5Bm9e', 'service_tier': 'default', 'finish_reason': 'tool_calls', 'logprobs': None}, name='writer_assistant', id='run--554eb0f6-8f3c-4c6a-82fb-6732de5c2d46-0', tool_calls=[{'name': 'transfer_to_editor_assistant', 'args': {}, 'id': 'call_3VGE4xQbTy32pN5Jx4zTFeZC', 'type': 'tool_call'}], usage_metadata={'input_tokens': 555, 'output_tokens': 13, 'total_tokens': 568, 'input_token_details': {'audio': 0, 'cache_read': 0}, 'output_token_details': {'audio': 0, 'reasoning': 0}}), ToolMessage(content='Successfully transferred to editor_assistant', name='transfer_to_editor_assistant', id='d548575f-9e6c-4210-ac41-618c47acf0b0', tool_call_id='call_3VGE4xQbTy32pN5Jx4zTFeZC'), AIMessage(content='', additional_kwargs={'tool_calls': [{'id': 'call_pDTWw9P4PtMxQp0yGOVyeD7E', 'function': {'arguments': '{\"content\":\"**The Benefits of Artificial Intelligence in Healthcare**\\\\n\\\\n**Introduction**\\\\nArtificial Intelligence (AI) is revolutionizing various sectors, and healthcare is no exception. AI in healthcare refers to the use of complex algorithms and software to emulate human cognition in the analysis, interpretation, and comprehension of complicated medical and healthcare data. This technology is transforming the way healthcare is delivered, making it more efficient, personalized, and accessible.\\\\n\\\\n**Key Benefits of AI in Healthcare**\\\\n\\\\n1. **Improved Diagnostics**: AI systems can analyze medical data with high accuracy, assisting doctors in diagnosing diseases more quickly and accurately. For instance, AI algorithms can detect patterns in imaging data that might be missed by the human eye, leading to early detection of conditions like cancer.\\\\n\\\\n2. **Personalized Treatment**: AI enables the development of personalized treatment plans by analyzing a patient’s genetic information, lifestyle, and other factors. This approach ensures that patients receive treatments that are specifically tailored to their individual needs, improving outcomes and reducing side effects.\\\\n\\\\n3. **Operational Efficiency**: AI can automate routine tasks, such as scheduling appointments and managing patient records, freeing up healthcare professionals to focus on more critical tasks. This leads to increased efficiency and reduced administrative costs.\\\\n\\\\n4. **Predictive Analytics**: By analyzing vast amounts of data, AI can predict patient outcomes and disease outbreaks, allowing for proactive measures to be taken. This capability is particularly valuable in managing chronic diseases and preventing hospital readmissions.\\\\n\\\\n5. **Patient Engagement**: AI-powered tools, such as chatbots and virtual health assistants, enhance patient engagement by providing 24/7 support and personalized health advice. These tools empower patients to take an active role in managing their health.\\\\n\\\\n**Market Trends and Developments**\\\\nThe AI healthcare market is experiencing rapid growth, driven by technological advancements and increasing demand for efficient healthcare solutions. Recent developments include the integration of AI with wearable devices and the use of AI in drug discovery, which are opening new avenues for innovation.\\\\n\\\\n**Best Practices for Implementing AI in Healthcare**\\\\nTo successfully implement AI in healthcare, it is crucial to ensure data privacy and security, integrate AI systems with existing healthcare infrastructure, and provide adequate training for healthcare professionals. These practices help in overcoming barriers and maximizing the benefits of AI.\\\\n\\\\n**Challenges and Considerations**\\\\nDespite its potential, the adoption of AI in healthcare comes with challenges. Ethical concerns, such as data privacy and the potential for bias in AI algorithms, need to be addressed. Additionally, the cost of implementing AI technologies and navigating regulatory requirements can be significant hurdles.\\\\n\\\\n**Conclusion**\\\\nAI is poised to transform healthcare by improving diagnostics, personalizing treatment, and enhancing operational efficiency. While challenges exist, the future of AI in healthcare looks promising, with the potential to significantly improve patient outcomes and healthcare delivery.\"}', 'name': 'edit_content'}, 'type': 'function'}], 'refusal': None}, response_metadata={'token_usage': {'completion_tokens': 600, 'prompt_tokens': 584, 'total_tokens': 1184, 'completion_tokens_details': {'accepted_prediction_tokens': 0, 'audio_tokens': 0, 'reasoning_tokens': 0, 'rejected_prediction_tokens': 0}, 'prompt_tokens_details': {'audio_tokens': 0, 'cached_tokens': 0}}, 'model_name': 'gpt-4o-2024-08-06', 'system_fingerprint': 'fp_cbf1785567', 'id': 'chatcmpl-CCcy8iwJetO3Atf3YLPzlmOYx2dPH', 'service_tier': 'default', 'finish_reason': 'tool_calls', 'logprobs': None}, name='editor_assistant', id='run--46dad25f-b8a5-4be3-af12-3e1e519d8a26-0', tool_calls=[{'name': 'edit_content', 'args': {'content': '**The Benefits of Artificial Intelligence in Healthcare**\\n\\n**Introduction**\\nArtificial Intelligence (AI) is revolutionizing various sectors, and healthcare is no exception. AI in healthcare refers to the use of complex algorithms and software to emulate human cognition in the analysis, interpretation, and comprehension of complicated medical and healthcare data. This technology is transforming the way healthcare is delivered, making it more efficient, personalized, and accessible.\\n\\n**Key Benefits of AI in Healthcare**\\n\\n1. **Improved Diagnostics**: AI systems can analyze medical data with high accuracy, assisting doctors in diagnosing diseases more quickly and accurately. For instance, AI algorithms can detect patterns in imaging data that might be missed by the human eye, leading to early detection of conditions like cancer.\\n\\n2. **Personalized Treatment**: AI enables the development of personalized treatment plans by analyzing a patient’s genetic information, lifestyle, and other factors. This approach ensures that patients receive treatments that are specifically tailored to their individual needs, improving outcomes and reducing side effects.\\n\\n3. **Operational Efficiency**: AI can automate routine tasks, such as scheduling appointments and managing patient records, freeing up healthcare professionals to focus on more critical tasks. This leads to increased efficiency and reduced administrative costs.\\n\\n4. **Predictive Analytics**: By analyzing vast amounts of data, AI can predict patient outcomes and disease outbreaks, allowing for proactive measures to be taken. This capability is particularly valuable in managing chronic diseases and preventing hospital readmissions.\\n\\n5. **Patient Engagement**: AI-powered tools, such as chatbots and virtual health assistants, enhance patient engagement by providing 24/7 support and personalized health advice. These tools empower patients to take an active role in managing their health.\\n\\n**Market Trends and Developments**\\nThe AI healthcare market is experiencing rapid growth, driven by technological advancements and increasing demand for efficient healthcare solutions. Recent developments include the integration of AI with wearable devices and the use of AI in drug discovery, which are opening new avenues for innovation.\\n\\n**Best Practices for Implementing AI in Healthcare**\\nTo successfully implement AI in healthcare, it is crucial to ensure data privacy and security, integrate AI systems with existing healthcare infrastructure, and provide adequate training for healthcare professionals. These practices help in overcoming barriers and maximizing the benefits of AI.\\n\\n**Challenges and Considerations**\\nDespite its potential, the adoption of AI in healthcare comes with challenges. Ethical concerns, such as data privacy and the potential for bias in AI algorithms, need to be addressed. Additionally, the cost of implementing AI technologies and navigating regulatory requirements can be significant hurdles.\\n\\n**Conclusion**\\nAI is poised to transform healthcare by improving diagnostics, personalizing treatment, and enhancing operational efficiency. While challenges exist, the future of AI in healthcare looks promising, with the potential to significantly improve patient outcomes and healthcare delivery.'}, 'id': 'call_pDTWw9P4PtMxQp0yGOVyeD7E', 'type': 'tool_call'}], usage_metadata={'input_tokens': 584, 'output_tokens': 600, 'total_tokens': 1184, 'input_token_details': {'audio': 0, 'cache_read': 0}, 'output_token_details': {'audio': 0, 'reasoning': 0}}), ToolMessage(content='Content has been edited and refined for clarity, grammar, and flow.', name='edit_content', id='03024d4c-b080-4719-9a50-bc05ab4debaf', tool_call_id='call_pDTWw9P4PtMxQp0yGOVyeD7E'), AIMessage(content='Here is the comprehensive article on the benefits of artificial intelligence in healthcare:\\n\\n---\\n\\n**The Benefits of Artificial Intelligence in Healthcare**\\n\\n**Introduction**\\n\\nArtificial Intelligence (AI) is revolutionizing various sectors, and healthcare is no exception. AI in healthcare refers to the use of complex algorithms and software to emulate human cognition in the analysis, interpretation, and comprehension of complicated medical and healthcare data. This technology is transforming the way healthcare is delivered, making it more efficient, personalized, and accessible.\\n\\n**Key Benefits of AI in Healthcare**\\n\\n1. **Improved Diagnostics**: AI systems can analyze medical data with high accuracy, assisting doctors in diagnosing diseases more quickly and accurately. For instance, AI algorithms can detect patterns in imaging data that might be missed by the human eye, leading to early detection of conditions like cancer.\\n\\n2. **Personalized Treatment**: AI enables the development of personalized treatment plans by analyzing a patient’s genetic information, lifestyle, and other factors. This approach ensures that patients receive treatments that are specifically tailored to their individual needs, improving outcomes and reducing side effects.\\n\\n3. **Operational Efficiency**: AI can automate routine tasks, such as scheduling appointments and managing patient records, freeing up healthcare professionals to focus on more critical tasks. This leads to increased efficiency and reduced administrative costs.\\n\\n4. **Predictive Analytics**: By analyzing vast amounts of data, AI can predict patient outcomes and disease outbreaks, allowing for proactive measures to be taken. This capability is particularly valuable in managing chronic diseases and preventing hospital readmissions.\\n\\n5. **Patient Engagement**: AI-powered tools, such as chatbots and virtual health assistants, enhance patient engagement by providing 24/7 support and personalized health advice. These tools empower patients to take an active role in managing their health.\\n\\n**Market Trends and Developments**\\n\\nThe AI healthcare market is experiencing rapid growth, driven by technological advancements and increasing demand for efficient healthcare solutions. Recent developments include the integration of AI with wearable devices and the use of AI in drug discovery, which are opening new avenues for innovation.\\n\\n**Best Practices for Implementing AI in Healthcare**\\n\\nTo successfully implement AI in healthcare, it is crucial to ensure data privacy and security, integrate AI systems with existing healthcare infrastructure, and provide adequate training for healthcare professionals. These practices help in overcoming barriers and maximizing the benefits of AI.\\n\\n**Challenges and Considerations**\\n\\nDespite its potential, the adoption of AI in healthcare comes with challenges. Ethical concerns, such as data privacy and the potential for bias in AI algorithms, need to be addressed. Additionally, the cost of implementing AI technologies and navigating regulatory requirements can be significant hurdles.\\n\\n**Conclusion**\\n\\nAI is poised to transform healthcare by improving diagnostics, personalizing treatment, and enhancing operational efficiency. While challenges exist, the future of AI in healthcare looks promising, with the potential to significantly improve patient outcomes and healthcare delivery.\\n\\n--- \\n\\nThis article is now ready for publication.', additional_kwargs={'refusal': None}, response_metadata={'token_usage': {'completion_tokens': 579, 'prompt_tokens': 1210, 'total_tokens': 1789, 'completion_tokens_details': {'accepted_prediction_tokens': 0, 'audio_tokens': 0, 'reasoning_tokens': 0, 'rejected_prediction_tokens': 0}, 'prompt_tokens_details': {'audio_tokens': 0, 'cached_tokens': 0}}, 'model_name': 'gpt-4o-2024-08-06', 'system_fingerprint': 'fp_cbf1785567', 'id': 'chatcmpl-CCcyGJwiWwEiolqE4KpvF19eIEDlw', 'service_tier': 'default', 'finish_reason': 'stop', 'logprobs': None}, name='editor_assistant', id='run--0f8135eb-d354-48c4-8498-d768ffb3ce64-0', usage_metadata={'input_tokens': 1210, 'output_tokens': 579, 'total_tokens': 1789, 'input_token_details': {'audio': 0, 'cache_read': 0}, 'output_token_details': {'audio': 0, 'reasoning': 0}})], 'active_agent': 'editor_assistant'}\n"
     ]
    }
   ],
   "source": [
    "print('\\n=== SWARM EXAMPLE - RESEARCH & WRITING COLLABORATION ===')\n",
    "\n",
    "# The request asks for a complete article workflow: research, writing, and editing.The researcher will start, then likely hand off to the writer, who may then pass to the editor.\n",
    "for chunk in swarm.stream({\n",
    "    'messages': [{'role': 'user', 'content': 'Create a comprehensive article about the benefits of artificial intelligence in healthcare. Please research the topic, write the content, and then edit it for publication.'}]\n",
    "}, debug=True):\n",
    "    if chunk:\n",
    "        print('-' * 60)\n",
    "        # print(f'Chunk: {chunk}')\n",
    "        # print tool calls and responses\n",
    "        # print(chunk)"
   ]
  },
  {
   "cell_type": "markdown",
   "metadata": {},
   "source": [
    "## Section 3: Custom Handoffs Implementation\n",
    "\n",
    "This section provides a from-scratch implementation of handoffs, giving you complete control over agent interaction logic. It uses a `StateGraph` to define the workflow explicitly.\n",
    "\n",
    "You can specify:\n",
    "- **destination**: target agent to navigate to\n",
    "- **payload**: information to pass to that agent\n",
    "\n",
    "**Code Logic:**\n",
    "1. **Tool Definition:** `book_hotel_custom` and `book_flight_custom` tools are defined.\n",
    "2. **Custom Handoff Tool Factory:** The `create_handoff_tool` function generates a tool that returns a `Command` object when called. This `Command` instructs the graph to transition to a different agent node.\n",
    "3. **Agent Definition:** Agents are created with their respective tools, including the custom handoff tools.\n",
    "4. **Graph Building:** A `StateGraph` is constructed with agents added as nodes and an entry point (`START`) that directs initial requests to the `flight_assistant`.\n"
   ]
  },
  {
   "cell_type": "code",
   "execution_count": 173,
   "metadata": {},
   "outputs": [],
   "source": [
    "from typing import Annotated\n",
    "from langchain_core.tools import tool, InjectedToolCallId\n",
    "from langchain_openai import ChatOpenAI\n",
    "from langgraph.prebuilt import create_react_agent, InjectedState\n",
    "from langgraph.graph import StateGraph, START, MessagesState\n",
    "from langgraph.types import Command"
   ]
  },
  {
   "cell_type": "code",
   "execution_count": 166,
   "metadata": {},
   "outputs": [],
   "source": [
    "# Define a custom tool for booking a hotel.\n",
    "@tool\n",
    "def book_hotel_custom(hotel_name: str):\n",
    "    \"\"\"Book a hotel\"\"\"\n",
    "    return f'Custom hotel booking: {hotel_name}'\n",
    "\n",
    "\n",
    "# Define a custom tool for booking a flight.\n",
    "@tool\n",
    "def book_flight_custom(from_airport: str, to_airport: str):\n",
    "    \"\"\"Book a flight\"\"\"\n",
    "    return f'Custom flight booking: {from_airport} to {to_airport}'"
   ]
  },
  {
   "cell_type": "code",
   "execution_count": null,
   "metadata": {},
   "outputs": [],
   "source": [
    "# This function is a factory for creating custom handoff tools.\n",
    "def create_handoff_tool_custom(*, agent_name: str, description: str):\n",
    "    # Generate a unique name for the tool based on the target agent.\n",
    "    name = f'transfer_to_{agent_name}'\n",
    "\n",
    "    # Use the @tool decorator to define the handoff tool.\n",
    "    @tool(name, description=description)\n",
    "    def handoff_tool(state: Annotated[MessagesState, InjectedState],tool_call_id: Annotated[str, InjectedToolCallId],\n",
    "    ) -> Command:\n",
    "        # Create a tool message to record the handoff event.\n",
    "        tool_message = {\n",
    "            'role': 'tool',\n",
    "            'content': f'Transferred to {agent_name}',\n",
    "            'name': name,\n",
    "            'tool_call_id': tool_call_id,\n",
    "        }\n",
    "        # Return a Command object to instruct the graph to transition.\n",
    "        return Command(\n",
    "            # The `goto` field specifies the next node to execute.\n",
    "            goto=agent_name,\n",
    "            # The `update` field modifies the state, adding the tool message.\n",
    "            update={'messages': state['messages'] + [tool_message]},\n",
    "            # `graph=Command.PARENT` indicates the command applies to the parent graph.\n",
    "            graph=Command.PARENT,\n",
    "        )\n",
    "\n",
    "    return handoff_tool"
   ]
  },
  {
   "cell_type": "code",
   "execution_count": 174,
   "metadata": {},
   "outputs": [],
   "source": [
    "# Create the custom handoff tools using the factory function.\n",
    "transfer_to_hotel_custom = create_handoff_tool_custom(\n",
    "    agent_name='hotel_assistant',\n",
    "    description='Transfer to hotel assistant.',\n",
    ")\n",
    "\n",
    "transfer_to_flight_custom = create_handoff_tool_custom(\n",
    "    agent_name='flight_assistant',\n",
    "    description='Transfer to flight assistant.',\n",
    ")"
   ]
  },
  {
   "cell_type": "code",
   "execution_count": 178,
   "metadata": {},
   "outputs": [],
   "source": [
    "# Define the agents using the custom tools.\n",
    "flight_assistant_custom = create_react_agent(\n",
    "    model=ChatOpenAI(model='gpt-4o', max_tokens=1000),\n",
    "    tools=[book_flight_custom, transfer_to_hotel_custom],\n",
    "    prompt='You are a flight booking assistant.',\n",
    "    name='flight_assistant',\n",
    ")\n",
    "\n",
    "hotel_assistant_custom = create_react_agent(\n",
    "    model=ChatOpenAI(model='gpt-4o', max_tokens=1000),\n",
    "    tools=[book_hotel_custom, transfer_to_flight_custom],\n",
    "    prompt='You are a hotel booking assistant.',\n",
    "    name='hotel_assistant',\n",
    ")"
   ]
  },
  {
   "cell_type": "code",
   "execution_count": 179,
   "metadata": {},
   "outputs": [],
   "source": [
    "# Build the state graph manually. New way to define multi-agent workflows.\n",
    "multi_agent_graph = (\n",
    "    # Initialize a StateGraph with the MessagesState schema.\n",
    "    StateGraph(MessagesState)\n",
    "    .add_node('flight_assistant', flight_assistant_custom)\n",
    "    # Add the hotel assistant as another node.\n",
    "    .add_node('hotel_assistant', hotel_assistant_custom)\n",
    "    # Define the entry point of the graph. All requests will start at the flight assistant.\n",
    "    .add_edge(START, 'flight_assistant')\n",
    "    .compile()\n",
    ")"
   ]
  },
  {
   "cell_type": "code",
   "execution_count": 180,
   "metadata": {},
   "outputs": [
    {
     "data": {
      "text/html": [
       "<pre style=\"white-space:pre;overflow-x:auto;line-height:normal;font-family:Menlo,'DejaVu Sans Mono',consolas,'Courier New',monospace\">Subgraph structure:\n",
       "</pre>\n"
      ],
      "text/plain": [
       "Subgraph structure:\n"
      ]
     },
     "metadata": {},
     "output_type": "display_data"
    },
    {
     "data": {
      "image/png": "[encoded data removed]",
      "text/plain": [
       "<IPython.core.display.Image object>"
      ]
     },
     "metadata": {},
     "output_type": "display_data"
    }
   ],
   "source": [
    "print('Subgraph structure:')\n",
    "try:\n",
    "    img = Image(multi_agent_graph.get_graph().draw_mermaid_png())\n",
    "    display(img)\n",
    "except Exception:\n",
    "    pass"
   ]
  },
  {
   "cell_type": "code",
   "execution_count": 181,
   "metadata": {},
   "outputs": [
    {
     "data": {
      "text/html": [
       "<pre style=\"white-space:pre;overflow-x:auto;line-height:normal;font-family:Menlo,'DejaVu Sans Mono',consolas,'Courier New',monospace\">\n",
       "=== CUSTOM HANDOFFS EXAMPLE ===\n",
       "</pre>\n"
      ],
      "text/plain": [
       "\n",
       "=== CUSTOM HANDOFFS EXAMPLE ===\n"
      ]
     },
     "metadata": {},
     "output_type": "display_data"
    },
    {
     "name": "stdout",
     "output_type": "stream",
     "text": [
      "\u001b[1m[values]\u001b[0m {'messages': [HumanMessage(content='Book a flight from SFO to LAX and book me a hotel in SF', additional_kwargs={}, response_metadata={}, id='e6593ffb-20f3-4dbe-acb4-a1cb5209abd3')]}\n",
      "\u001b[1m[updates]\u001b[0m {'flight_assistant': {'messages': [HumanMessage(content='Book a flight from SFO to LAX and book me a hotel in SF', additional_kwargs={}, response_metadata={}, id='e6593ffb-20f3-4dbe-acb4-a1cb5209abd3'), AIMessage(content='', additional_kwargs={'tool_calls': [{'id': 'call_7iZWQVDhuLU9n5CDWvb81Gbs', 'function': {'arguments': '{\"from_airport\": \"SFO\", \"to_airport\": \"LAX\"}', 'name': 'book_flight_custom'}, 'type': 'function'}, {'id': 'call_wvb2qXsQEZzVG30XwiSBowhL', 'function': {'arguments': '{}', 'name': 'transfer_to_hotel_assistant'}, 'type': 'function'}], 'refusal': None}, response_metadata={'token_usage': {'completion_tokens': 58, 'prompt_tokens': 91, 'total_tokens': 149, 'completion_tokens_details': {'accepted_prediction_tokens': 0, 'audio_tokens': 0, 'reasoning_tokens': 0, 'rejected_prediction_tokens': 0}, 'prompt_tokens_details': {'audio_tokens': 0, 'cached_tokens': 0}}, 'model_name': 'gpt-4o-2024-08-06', 'system_fingerprint': 'fp_cbf1785567', 'id': 'chatcmpl-CCd9pacWkTvUTvgMgIUrvYymDv5dt', 'service_tier': 'default', 'finish_reason': 'tool_calls', 'logprobs': None}, name='flight_assistant', id='run--797f70d1-c55d-4f29-8005-08a1d48e7b7a-0', tool_calls=[{'name': 'book_flight_custom', 'args': {'from_airport': 'SFO', 'to_airport': 'LAX'}, 'id': 'call_7iZWQVDhuLU9n5CDWvb81Gbs', 'type': 'tool_call'}, {'name': 'transfer_to_hotel_assistant', 'args': {}, 'id': 'call_wvb2qXsQEZzVG30XwiSBowhL', 'type': 'tool_call'}], usage_metadata={'input_tokens': 91, 'output_tokens': 58, 'total_tokens': 149, 'input_token_details': {'audio': 0, 'cache_read': 0}, 'output_token_details': {'audio': 0, 'reasoning': 0}}), {'role': 'tool', 'content': 'Transferred to hotel_assistant', 'name': 'transfer_to_hotel_assistant', 'tool_call_id': 'call_wvb2qXsQEZzVG30XwiSBowhL'}]}}\n"
     ]
    },
    {
     "data": {
      "text/html": [
       "<pre style=\"white-space:pre;overflow-x:auto;line-height:normal;font-family:Menlo,'DejaVu Sans Mono',consolas,'Courier New',monospace\">------------------------------------------------------------\n",
       "</pre>\n"
      ],
      "text/plain": [
       "------------------------------------------------------------\n"
      ]
     },
     "metadata": {},
     "output_type": "display_data"
    },
    {
     "name": "stdout",
     "output_type": "stream",
     "text": [
      "\u001b[1m[values]\u001b[0m {'messages': [HumanMessage(content='Book a flight from SFO to LAX and book me a hotel in SF', additional_kwargs={}, response_metadata={}, id='e6593ffb-20f3-4dbe-acb4-a1cb5209abd3'), AIMessage(content='', additional_kwargs={'tool_calls': [{'id': 'call_7iZWQVDhuLU9n5CDWvb81Gbs', 'function': {'arguments': '{\"from_airport\": \"SFO\", \"to_airport\": \"LAX\"}', 'name': 'book_flight_custom'}, 'type': 'function'}, {'id': 'call_wvb2qXsQEZzVG30XwiSBowhL', 'function': {'arguments': '{}', 'name': 'transfer_to_hotel_assistant'}, 'type': 'function'}], 'refusal': None}, response_metadata={'token_usage': {'completion_tokens': 58, 'prompt_tokens': 91, 'total_tokens': 149, 'completion_tokens_details': {'accepted_prediction_tokens': 0, 'audio_tokens': 0, 'reasoning_tokens': 0, 'rejected_prediction_tokens': 0}, 'prompt_tokens_details': {'audio_tokens': 0, 'cached_tokens': 0}}, 'model_name': 'gpt-4o-2024-08-06', 'system_fingerprint': 'fp_cbf1785567', 'id': 'chatcmpl-CCd9pacWkTvUTvgMgIUrvYymDv5dt', 'service_tier': 'default', 'finish_reason': 'tool_calls', 'logprobs': None}, name='flight_assistant', id='run--797f70d1-c55d-4f29-8005-08a1d48e7b7a-0', tool_calls=[{'name': 'book_flight_custom', 'args': {'from_airport': 'SFO', 'to_airport': 'LAX'}, 'id': 'call_7iZWQVDhuLU9n5CDWvb81Gbs', 'type': 'tool_call'}, {'name': 'transfer_to_hotel_assistant', 'args': {}, 'id': 'call_wvb2qXsQEZzVG30XwiSBowhL', 'type': 'tool_call'}], usage_metadata={'input_tokens': 91, 'output_tokens': 58, 'total_tokens': 149, 'input_token_details': {'audio': 0, 'cache_read': 0}, 'output_token_details': {'audio': 0, 'reasoning': 0}}), ToolMessage(content='Transferred to hotel_assistant', name='transfer_to_hotel_assistant', id='eea71fa4-20d4-40b6-998f-4b9fe254a18d', tool_call_id='call_wvb2qXsQEZzVG30XwiSBowhL')]}\n"
     ]
    },
    {
     "ename": "ValueError",
     "evalue": "Found AIMessages with tool_calls that do not have a corresponding ToolMessage. Here are the first few of those tool calls: [{'name': 'book_flight_custom', 'args': {'from_airport': 'SFO', 'to_airport': 'LAX'}, 'id': 'call_7iZWQVDhuLU9n5CDWvb81Gbs', 'type': 'tool_call'}].\n\nEvery tool call (LLM requesting to call a tool) in the message history MUST have a corresponding ToolMessage (result of a tool invocation to return to the LLM) - this is required by most LLM providers.\nFor troubleshooting, visit: https://python.langchain.com/docs/troubleshooting/errors/INVALID_CHAT_HISTORY",
     "output_type": "error",
     "traceback": [
      "\u001b[31m---------------------------------------------------------------------------\u001b[39m",
      "\u001b[31mValueError\u001b[39m                                Traceback (most recent call last)",
      "\u001b[36mCell\u001b[39m\u001b[36m \u001b[39m\u001b[32mIn[181]\u001b[39m\u001b[32m, line 5\u001b[39m\n\u001b[32m      2\u001b[39m \u001b[38;5;28mprint\u001b[39m(\u001b[33m'\u001b[39m\u001b[38;5;130;01m\\n\u001b[39;00m\u001b[33m=== CUSTOM HANDOFFS EXAMPLE ===\u001b[39m\u001b[33m'\u001b[39m)\n\u001b[32m      4\u001b[39m \u001b[38;5;66;03m# Stream the output from the custom graph.\u001b[39;00m\n\u001b[32m----> \u001b[39m\u001b[32m5\u001b[39m \u001b[38;5;28;43;01mfor\u001b[39;49;00m\u001b[43m \u001b[49m\u001b[43mchunk\u001b[49m\u001b[43m \u001b[49m\u001b[38;5;129;43;01min\u001b[39;49;00m\u001b[43m \u001b[49m\u001b[43mmulti_agent_graph\u001b[49m\u001b[43m.\u001b[49m\u001b[43mstream\u001b[49m\u001b[43m(\u001b[49m\n\u001b[32m      6\u001b[39m \u001b[43m    \u001b[49m\u001b[43m{\u001b[49m\u001b[33;43m'\u001b[39;49m\u001b[33;43mmessages\u001b[39;49m\u001b[33;43m'\u001b[39;49m\u001b[43m:\u001b[49m\u001b[43m \u001b[49m\u001b[43m[\u001b[49m\u001b[43m{\u001b[49m\u001b[33;43m'\u001b[39;49m\u001b[33;43mrole\u001b[39;49m\u001b[33;43m'\u001b[39;49m\u001b[43m:\u001b[49m\u001b[43m \u001b[49m\u001b[33;43m'\u001b[39;49m\u001b[33;43muser\u001b[39;49m\u001b[33;43m'\u001b[39;49m\u001b[43m,\u001b[49m\u001b[43m \u001b[49m\u001b[33;43m'\u001b[39;49m\u001b[33;43mcontent\u001b[39;49m\u001b[33;43m'\u001b[39;49m\u001b[43m:\u001b[49m\u001b[43m \u001b[49m\u001b[33;43m'\u001b[39;49m\u001b[33;43mBook a flight from SFO to LAX and book me a hotel in SF\u001b[39;49m\u001b[33;43m'\u001b[39;49m\u001b[43m}\u001b[49m\u001b[43m]\u001b[49m\u001b[43m}\u001b[49m\u001b[43m,\u001b[49m\u001b[43m \u001b[49m\u001b[43mdebug\u001b[49m\u001b[43m=\u001b[49m\u001b[38;5;28;43;01mTrue\u001b[39;49;00m\n\u001b[32m      7\u001b[39m \u001b[43m)\u001b[49m\u001b[43m:\u001b[49m\n\u001b[32m      8\u001b[39m \u001b[43m    \u001b[49m\u001b[38;5;28;43;01mif\u001b[39;49;00m\u001b[43m \u001b[49m\u001b[43mchunk\u001b[49m\u001b[43m:\u001b[49m\n\u001b[32m      9\u001b[39m \u001b[43m        \u001b[49m\u001b[38;5;28;43mprint\u001b[39;49m\u001b[43m(\u001b[49m\u001b[33;43m'\u001b[39;49m\u001b[33;43m-\u001b[39;49m\u001b[33;43m'\u001b[39;49m\u001b[43m \u001b[49m\u001b[43m*\u001b[49m\u001b[43m \u001b[49m\u001b[32;43m60\u001b[39;49m\u001b[43m)\u001b[49m\n",
      "\u001b[36mFile \u001b[39m\u001b[32m~/miniconda3/envs/py312/lib/python3.12/site-packages/langgraph/pregel/main.py:2647\u001b[39m, in \u001b[36mPregel.stream\u001b[39m\u001b[34m(self, input, config, context, stream_mode, print_mode, output_keys, interrupt_before, interrupt_after, durability, subgraphs, debug, **kwargs)\u001b[39m\n\u001b[32m   2645\u001b[39m \u001b[38;5;28;01mfor\u001b[39;00m task \u001b[38;5;129;01min\u001b[39;00m loop.match_cached_writes():\n\u001b[32m   2646\u001b[39m     loop.output_writes(task.id, task.writes, cached=\u001b[38;5;28;01mTrue\u001b[39;00m)\n\u001b[32m-> \u001b[39m\u001b[32m2647\u001b[39m \u001b[43m\u001b[49m\u001b[38;5;28;43;01mfor\u001b[39;49;00m\u001b[43m \u001b[49m\u001b[43m_\u001b[49m\u001b[43m \u001b[49m\u001b[38;5;129;43;01min\u001b[39;49;00m\u001b[43m \u001b[49m\u001b[43mrunner\u001b[49m\u001b[43m.\u001b[49m\u001b[43mtick\u001b[49m\u001b[43m(\u001b[49m\n\u001b[32m   2648\u001b[39m \u001b[43m    \u001b[49m\u001b[43m[\u001b[49m\u001b[43mt\u001b[49m\u001b[43m \u001b[49m\u001b[38;5;28;43;01mfor\u001b[39;49;00m\u001b[43m \u001b[49m\u001b[43mt\u001b[49m\u001b[43m \u001b[49m\u001b[38;5;129;43;01min\u001b[39;49;00m\u001b[43m \u001b[49m\u001b[43mloop\u001b[49m\u001b[43m.\u001b[49m\u001b[43mtasks\u001b[49m\u001b[43m.\u001b[49m\u001b[43mvalues\u001b[49m\u001b[43m(\u001b[49m\u001b[43m)\u001b[49m\u001b[43m \u001b[49m\u001b[38;5;28;43;01mif\u001b[39;49;00m\u001b[43m \u001b[49m\u001b[38;5;129;43;01mnot\u001b[39;49;00m\u001b[43m \u001b[49m\u001b[43mt\u001b[49m\u001b[43m.\u001b[49m\u001b[43mwrites\u001b[49m\u001b[43m]\u001b[49m\u001b[43m,\u001b[49m\n\u001b[32m   2649\u001b[39m \u001b[43m    \u001b[49m\u001b[43mtimeout\u001b[49m\u001b[43m=\u001b[49m\u001b[38;5;28;43mself\u001b[39;49m\u001b[43m.\u001b[49m\u001b[43mstep_timeout\u001b[49m\u001b[43m,\u001b[49m\n\u001b[32m   2650\u001b[39m \u001b[43m    \u001b[49m\u001b[43mget_waiter\u001b[49m\u001b[43m=\u001b[49m\u001b[43mget_waiter\u001b[49m\u001b[43m,\u001b[49m\n\u001b[32m   2651\u001b[39m \u001b[43m    \u001b[49m\u001b[43mschedule_task\u001b[49m\u001b[43m=\u001b[49m\u001b[43mloop\u001b[49m\u001b[43m.\u001b[49m\u001b[43maccept_push\u001b[49m\u001b[43m,\u001b[49m\n\u001b[32m   2652\u001b[39m \u001b[43m\u001b[49m\u001b[43m)\u001b[49m\u001b[43m:\u001b[49m\n\u001b[32m   2653\u001b[39m \u001b[43m    \u001b[49m\u001b[38;5;66;43;03m# emit output\u001b[39;49;00m\n\u001b[32m   2654\u001b[39m \u001b[43m    \u001b[49m\u001b[38;5;28;43;01myield from\u001b[39;49;00m\u001b[43m \u001b[49m\u001b[43m_output\u001b[49m\u001b[43m(\u001b[49m\n\u001b[32m   2655\u001b[39m \u001b[43m        \u001b[49m\u001b[43mstream_mode\u001b[49m\u001b[43m,\u001b[49m\u001b[43m \u001b[49m\u001b[43mprint_mode\u001b[49m\u001b[43m,\u001b[49m\u001b[43m \u001b[49m\u001b[43msubgraphs\u001b[49m\u001b[43m,\u001b[49m\u001b[43m \u001b[49m\u001b[43mstream\u001b[49m\u001b[43m.\u001b[49m\u001b[43mget\u001b[49m\u001b[43m,\u001b[49m\u001b[43m \u001b[49m\u001b[43mqueue\u001b[49m\u001b[43m.\u001b[49m\u001b[43mEmpty\u001b[49m\n\u001b[32m   2656\u001b[39m \u001b[43m    \u001b[49m\u001b[43m)\u001b[49m\n\u001b[32m   2657\u001b[39m loop.after_tick()\n",
      "\u001b[36mFile \u001b[39m\u001b[32m~/miniconda3/envs/py312/lib/python3.12/site-packages/langgraph/pregel/_runner.py:162\u001b[39m, in \u001b[36mPregelRunner.tick\u001b[39m\u001b[34m(self, tasks, reraise, timeout, retry_policy, get_waiter, schedule_task)\u001b[39m\n\u001b[32m    160\u001b[39m t = tasks[\u001b[32m0\u001b[39m]\n\u001b[32m    161\u001b[39m \u001b[38;5;28;01mtry\u001b[39;00m:\n\u001b[32m--> \u001b[39m\u001b[32m162\u001b[39m     \u001b[43mrun_with_retry\u001b[49m\u001b[43m(\u001b[49m\n\u001b[32m    163\u001b[39m \u001b[43m        \u001b[49m\u001b[43mt\u001b[49m\u001b[43m,\u001b[49m\n\u001b[32m    164\u001b[39m \u001b[43m        \u001b[49m\u001b[43mretry_policy\u001b[49m\u001b[43m,\u001b[49m\n\u001b[32m    165\u001b[39m \u001b[43m        \u001b[49m\u001b[43mconfigurable\u001b[49m\u001b[43m=\u001b[49m\u001b[43m{\u001b[49m\n\u001b[32m    166\u001b[39m \u001b[43m            \u001b[49m\u001b[43mCONFIG_KEY_CALL\u001b[49m\u001b[43m:\u001b[49m\u001b[43m \u001b[49m\u001b[43mpartial\u001b[49m\u001b[43m(\u001b[49m\n\u001b[32m    167\u001b[39m \u001b[43m                \u001b[49m\u001b[43m_call\u001b[49m\u001b[43m,\u001b[49m\n\u001b[32m    168\u001b[39m \u001b[43m                \u001b[49m\u001b[43mweakref\u001b[49m\u001b[43m.\u001b[49m\u001b[43mref\u001b[49m\u001b[43m(\u001b[49m\u001b[43mt\u001b[49m\u001b[43m)\u001b[49m\u001b[43m,\u001b[49m\n\u001b[32m    169\u001b[39m \u001b[43m                \u001b[49m\u001b[43mretry_policy\u001b[49m\u001b[43m=\u001b[49m\u001b[43mretry_policy\u001b[49m\u001b[43m,\u001b[49m\n\u001b[32m    170\u001b[39m \u001b[43m                \u001b[49m\u001b[43mfutures\u001b[49m\u001b[43m=\u001b[49m\u001b[43mweakref\u001b[49m\u001b[43m.\u001b[49m\u001b[43mref\u001b[49m\u001b[43m(\u001b[49m\u001b[43mfutures\u001b[49m\u001b[43m)\u001b[49m\u001b[43m,\u001b[49m\n\u001b[32m    171\u001b[39m \u001b[43m                \u001b[49m\u001b[43mschedule_task\u001b[49m\u001b[43m=\u001b[49m\u001b[43mschedule_task\u001b[49m\u001b[43m,\u001b[49m\n\u001b[32m    172\u001b[39m \u001b[43m                \u001b[49m\u001b[43msubmit\u001b[49m\u001b[43m=\u001b[49m\u001b[38;5;28;43mself\u001b[39;49m\u001b[43m.\u001b[49m\u001b[43msubmit\u001b[49m\u001b[43m,\u001b[49m\n\u001b[32m    173\u001b[39m \u001b[43m            \u001b[49m\u001b[43m)\u001b[49m\u001b[43m,\u001b[49m\n\u001b[32m    174\u001b[39m \u001b[43m        \u001b[49m\u001b[43m}\u001b[49m\u001b[43m,\u001b[49m\n\u001b[32m    175\u001b[39m \u001b[43m    \u001b[49m\u001b[43m)\u001b[49m\n\u001b[32m    176\u001b[39m     \u001b[38;5;28mself\u001b[39m.commit(t, \u001b[38;5;28;01mNone\u001b[39;00m)\n\u001b[32m    177\u001b[39m \u001b[38;5;28;01mexcept\u001b[39;00m \u001b[38;5;167;01mException\u001b[39;00m \u001b[38;5;28;01mas\u001b[39;00m exc:\n",
      "\u001b[36mFile \u001b[39m\u001b[32m~/miniconda3/envs/py312/lib/python3.12/site-packages/langgraph/pregel/_retry.py:42\u001b[39m, in \u001b[36mrun_with_retry\u001b[39m\u001b[34m(task, retry_policy, configurable)\u001b[39m\n\u001b[32m     40\u001b[39m     task.writes.clear()\n\u001b[32m     41\u001b[39m     \u001b[38;5;66;03m# run the task\u001b[39;00m\n\u001b[32m---> \u001b[39m\u001b[32m42\u001b[39m     \u001b[38;5;28;01mreturn\u001b[39;00m \u001b[43mtask\u001b[49m\u001b[43m.\u001b[49m\u001b[43mproc\u001b[49m\u001b[43m.\u001b[49m\u001b[43minvoke\u001b[49m\u001b[43m(\u001b[49m\u001b[43mtask\u001b[49m\u001b[43m.\u001b[49m\u001b[43minput\u001b[49m\u001b[43m,\u001b[49m\u001b[43m \u001b[49m\u001b[43mconfig\u001b[49m\u001b[43m)\u001b[49m\n\u001b[32m     43\u001b[39m \u001b[38;5;28;01mexcept\u001b[39;00m ParentCommand \u001b[38;5;28;01mas\u001b[39;00m exc:\n\u001b[32m     44\u001b[39m     ns: \u001b[38;5;28mstr\u001b[39m = config[CONF][CONFIG_KEY_CHECKPOINT_NS]\n",
      "\u001b[36mFile \u001b[39m\u001b[32m~/miniconda3/envs/py312/lib/python3.12/site-packages/langgraph/_internal/_runnable.py:657\u001b[39m, in \u001b[36mRunnableSeq.invoke\u001b[39m\u001b[34m(self, input, config, **kwargs)\u001b[39m\n\u001b[32m    655\u001b[39m     \u001b[38;5;66;03m# run in context\u001b[39;00m\n\u001b[32m    656\u001b[39m     \u001b[38;5;28;01mwith\u001b[39;00m set_config_context(config, run) \u001b[38;5;28;01mas\u001b[39;00m context:\n\u001b[32m--> \u001b[39m\u001b[32m657\u001b[39m         \u001b[38;5;28minput\u001b[39m = \u001b[43mcontext\u001b[49m\u001b[43m.\u001b[49m\u001b[43mrun\u001b[49m\u001b[43m(\u001b[49m\u001b[43mstep\u001b[49m\u001b[43m.\u001b[49m\u001b[43minvoke\u001b[49m\u001b[43m,\u001b[49m\u001b[43m \u001b[49m\u001b[38;5;28;43minput\u001b[39;49m\u001b[43m,\u001b[49m\u001b[43m \u001b[49m\u001b[43mconfig\u001b[49m\u001b[43m,\u001b[49m\u001b[43m \u001b[49m\u001b[43m*\u001b[49m\u001b[43m*\u001b[49m\u001b[43mkwargs\u001b[49m\u001b[43m)\u001b[49m\n\u001b[32m    658\u001b[39m \u001b[38;5;28;01melse\u001b[39;00m:\n\u001b[32m    659\u001b[39m     \u001b[38;5;28minput\u001b[39m = step.invoke(\u001b[38;5;28minput\u001b[39m, config)\n",
      "\u001b[36mFile \u001b[39m\u001b[32m~/miniconda3/envs/py312/lib/python3.12/site-packages/langgraph/pregel/main.py:3026\u001b[39m, in \u001b[36mPregel.invoke\u001b[39m\u001b[34m(self, input, config, context, stream_mode, print_mode, output_keys, interrupt_before, interrupt_after, durability, **kwargs)\u001b[39m\n\u001b[32m   3023\u001b[39m chunks: \u001b[38;5;28mlist\u001b[39m[\u001b[38;5;28mdict\u001b[39m[\u001b[38;5;28mstr\u001b[39m, Any] | Any] = []\n\u001b[32m   3024\u001b[39m interrupts: \u001b[38;5;28mlist\u001b[39m[Interrupt] = []\n\u001b[32m-> \u001b[39m\u001b[32m3026\u001b[39m \u001b[43m\u001b[49m\u001b[38;5;28;43;01mfor\u001b[39;49;00m\u001b[43m \u001b[49m\u001b[43mchunk\u001b[49m\u001b[43m \u001b[49m\u001b[38;5;129;43;01min\u001b[39;49;00m\u001b[43m \u001b[49m\u001b[38;5;28;43mself\u001b[39;49m\u001b[43m.\u001b[49m\u001b[43mstream\u001b[49m\u001b[43m(\u001b[49m\n\u001b[32m   3027\u001b[39m \u001b[43m    \u001b[49m\u001b[38;5;28;43minput\u001b[39;49m\u001b[43m,\u001b[49m\n\u001b[32m   3028\u001b[39m \u001b[43m    \u001b[49m\u001b[43mconfig\u001b[49m\u001b[43m,\u001b[49m\n\u001b[32m   3029\u001b[39m \u001b[43m    \u001b[49m\u001b[43mcontext\u001b[49m\u001b[43m=\u001b[49m\u001b[43mcontext\u001b[49m\u001b[43m,\u001b[49m\n\u001b[32m   3030\u001b[39m \u001b[43m    \u001b[49m\u001b[43mstream_mode\u001b[49m\u001b[43m=\u001b[49m\u001b[43m[\u001b[49m\u001b[33;43m\"\u001b[39;49m\u001b[33;43mupdates\u001b[39;49m\u001b[33;43m\"\u001b[39;49m\u001b[43m,\u001b[49m\u001b[43m \u001b[49m\u001b[33;43m\"\u001b[39;49m\u001b[33;43mvalues\u001b[39;49m\u001b[33;43m\"\u001b[39;49m\u001b[43m]\u001b[49m\n\u001b[32m   3031\u001b[39m \u001b[43m    \u001b[49m\u001b[38;5;28;43;01mif\u001b[39;49;00m\u001b[43m \u001b[49m\u001b[43mstream_mode\u001b[49m\u001b[43m \u001b[49m\u001b[43m==\u001b[49m\u001b[43m \u001b[49m\u001b[33;43m\"\u001b[39;49m\u001b[33;43mvalues\u001b[39;49m\u001b[33;43m\"\u001b[39;49m\n\u001b[32m   3032\u001b[39m \u001b[43m    \u001b[49m\u001b[38;5;28;43;01melse\u001b[39;49;00m\u001b[43m \u001b[49m\u001b[43mstream_mode\u001b[49m\u001b[43m,\u001b[49m\n\u001b[32m   3033\u001b[39m \u001b[43m    \u001b[49m\u001b[43mprint_mode\u001b[49m\u001b[43m=\u001b[49m\u001b[43mprint_mode\u001b[49m\u001b[43m,\u001b[49m\n\u001b[32m   3034\u001b[39m \u001b[43m    \u001b[49m\u001b[43moutput_keys\u001b[49m\u001b[43m=\u001b[49m\u001b[43moutput_keys\u001b[49m\u001b[43m,\u001b[49m\n\u001b[32m   3035\u001b[39m \u001b[43m    \u001b[49m\u001b[43minterrupt_before\u001b[49m\u001b[43m=\u001b[49m\u001b[43minterrupt_before\u001b[49m\u001b[43m,\u001b[49m\n\u001b[32m   3036\u001b[39m \u001b[43m    \u001b[49m\u001b[43minterrupt_after\u001b[49m\u001b[43m=\u001b[49m\u001b[43minterrupt_after\u001b[49m\u001b[43m,\u001b[49m\n\u001b[32m   3037\u001b[39m \u001b[43m    \u001b[49m\u001b[43mdurability\u001b[49m\u001b[43m=\u001b[49m\u001b[43mdurability\u001b[49m\u001b[43m,\u001b[49m\n\u001b[32m   3038\u001b[39m \u001b[43m    \u001b[49m\u001b[43m*\u001b[49m\u001b[43m*\u001b[49m\u001b[43mkwargs\u001b[49m\u001b[43m,\u001b[49m\n\u001b[32m   3039\u001b[39m \u001b[43m\u001b[49m\u001b[43m)\u001b[49m\u001b[43m:\u001b[49m\n\u001b[32m   3040\u001b[39m \u001b[43m    \u001b[49m\u001b[38;5;28;43;01mif\u001b[39;49;00m\u001b[43m \u001b[49m\u001b[43mstream_mode\u001b[49m\u001b[43m \u001b[49m\u001b[43m==\u001b[49m\u001b[43m \u001b[49m\u001b[33;43m\"\u001b[39;49m\u001b[33;43mvalues\u001b[39;49m\u001b[33;43m\"\u001b[39;49m\u001b[43m:\u001b[49m\n\u001b[32m   3041\u001b[39m \u001b[43m        \u001b[49m\u001b[38;5;28;43;01mif\u001b[39;49;00m\u001b[43m \u001b[49m\u001b[38;5;28;43mlen\u001b[39;49m\u001b[43m(\u001b[49m\u001b[43mchunk\u001b[49m\u001b[43m)\u001b[49m\u001b[43m \u001b[49m\u001b[43m==\u001b[49m\u001b[43m \u001b[49m\u001b[32;43m2\u001b[39;49m\u001b[43m:\u001b[49m\n",
      "\u001b[36mFile \u001b[39m\u001b[32m~/miniconda3/envs/py312/lib/python3.12/site-packages/langgraph/pregel/main.py:2647\u001b[39m, in \u001b[36mPregel.stream\u001b[39m\u001b[34m(self, input, config, context, stream_mode, print_mode, output_keys, interrupt_before, interrupt_after, durability, subgraphs, debug, **kwargs)\u001b[39m\n\u001b[32m   2645\u001b[39m \u001b[38;5;28;01mfor\u001b[39;00m task \u001b[38;5;129;01min\u001b[39;00m loop.match_cached_writes():\n\u001b[32m   2646\u001b[39m     loop.output_writes(task.id, task.writes, cached=\u001b[38;5;28;01mTrue\u001b[39;00m)\n\u001b[32m-> \u001b[39m\u001b[32m2647\u001b[39m \u001b[43m\u001b[49m\u001b[38;5;28;43;01mfor\u001b[39;49;00m\u001b[43m \u001b[49m\u001b[43m_\u001b[49m\u001b[43m \u001b[49m\u001b[38;5;129;43;01min\u001b[39;49;00m\u001b[43m \u001b[49m\u001b[43mrunner\u001b[49m\u001b[43m.\u001b[49m\u001b[43mtick\u001b[49m\u001b[43m(\u001b[49m\n\u001b[32m   2648\u001b[39m \u001b[43m    \u001b[49m\u001b[43m[\u001b[49m\u001b[43mt\u001b[49m\u001b[43m \u001b[49m\u001b[38;5;28;43;01mfor\u001b[39;49;00m\u001b[43m \u001b[49m\u001b[43mt\u001b[49m\u001b[43m \u001b[49m\u001b[38;5;129;43;01min\u001b[39;49;00m\u001b[43m \u001b[49m\u001b[43mloop\u001b[49m\u001b[43m.\u001b[49m\u001b[43mtasks\u001b[49m\u001b[43m.\u001b[49m\u001b[43mvalues\u001b[49m\u001b[43m(\u001b[49m\u001b[43m)\u001b[49m\u001b[43m \u001b[49m\u001b[38;5;28;43;01mif\u001b[39;49;00m\u001b[43m \u001b[49m\u001b[38;5;129;43;01mnot\u001b[39;49;00m\u001b[43m \u001b[49m\u001b[43mt\u001b[49m\u001b[43m.\u001b[49m\u001b[43mwrites\u001b[49m\u001b[43m]\u001b[49m\u001b[43m,\u001b[49m\n\u001b[32m   2649\u001b[39m \u001b[43m    \u001b[49m\u001b[43mtimeout\u001b[49m\u001b[43m=\u001b[49m\u001b[38;5;28;43mself\u001b[39;49m\u001b[43m.\u001b[49m\u001b[43mstep_timeout\u001b[49m\u001b[43m,\u001b[49m\n\u001b[32m   2650\u001b[39m \u001b[43m    \u001b[49m\u001b[43mget_waiter\u001b[49m\u001b[43m=\u001b[49m\u001b[43mget_waiter\u001b[49m\u001b[43m,\u001b[49m\n\u001b[32m   2651\u001b[39m \u001b[43m    \u001b[49m\u001b[43mschedule_task\u001b[49m\u001b[43m=\u001b[49m\u001b[43mloop\u001b[49m\u001b[43m.\u001b[49m\u001b[43maccept_push\u001b[49m\u001b[43m,\u001b[49m\n\u001b[32m   2652\u001b[39m \u001b[43m\u001b[49m\u001b[43m)\u001b[49m\u001b[43m:\u001b[49m\n\u001b[32m   2653\u001b[39m \u001b[43m    \u001b[49m\u001b[38;5;66;43;03m# emit output\u001b[39;49;00m\n\u001b[32m   2654\u001b[39m \u001b[43m    \u001b[49m\u001b[38;5;28;43;01myield from\u001b[39;49;00m\u001b[43m \u001b[49m\u001b[43m_output\u001b[49m\u001b[43m(\u001b[49m\n\u001b[32m   2655\u001b[39m \u001b[43m        \u001b[49m\u001b[43mstream_mode\u001b[49m\u001b[43m,\u001b[49m\u001b[43m \u001b[49m\u001b[43mprint_mode\u001b[49m\u001b[43m,\u001b[49m\u001b[43m \u001b[49m\u001b[43msubgraphs\u001b[49m\u001b[43m,\u001b[49m\u001b[43m \u001b[49m\u001b[43mstream\u001b[49m\u001b[43m.\u001b[49m\u001b[43mget\u001b[49m\u001b[43m,\u001b[49m\u001b[43m \u001b[49m\u001b[43mqueue\u001b[49m\u001b[43m.\u001b[49m\u001b[43mEmpty\u001b[49m\n\u001b[32m   2656\u001b[39m \u001b[43m    \u001b[49m\u001b[43m)\u001b[49m\n\u001b[32m   2657\u001b[39m loop.after_tick()\n",
      "\u001b[36mFile \u001b[39m\u001b[32m~/miniconda3/envs/py312/lib/python3.12/site-packages/langgraph/pregel/_runner.py:162\u001b[39m, in \u001b[36mPregelRunner.tick\u001b[39m\u001b[34m(self, tasks, reraise, timeout, retry_policy, get_waiter, schedule_task)\u001b[39m\n\u001b[32m    160\u001b[39m t = tasks[\u001b[32m0\u001b[39m]\n\u001b[32m    161\u001b[39m \u001b[38;5;28;01mtry\u001b[39;00m:\n\u001b[32m--> \u001b[39m\u001b[32m162\u001b[39m     \u001b[43mrun_with_retry\u001b[49m\u001b[43m(\u001b[49m\n\u001b[32m    163\u001b[39m \u001b[43m        \u001b[49m\u001b[43mt\u001b[49m\u001b[43m,\u001b[49m\n\u001b[32m    164\u001b[39m \u001b[43m        \u001b[49m\u001b[43mretry_policy\u001b[49m\u001b[43m,\u001b[49m\n\u001b[32m    165\u001b[39m \u001b[43m        \u001b[49m\u001b[43mconfigurable\u001b[49m\u001b[43m=\u001b[49m\u001b[43m{\u001b[49m\n\u001b[32m    166\u001b[39m \u001b[43m            \u001b[49m\u001b[43mCONFIG_KEY_CALL\u001b[49m\u001b[43m:\u001b[49m\u001b[43m \u001b[49m\u001b[43mpartial\u001b[49m\u001b[43m(\u001b[49m\n\u001b[32m    167\u001b[39m \u001b[43m                \u001b[49m\u001b[43m_call\u001b[49m\u001b[43m,\u001b[49m\n\u001b[32m    168\u001b[39m \u001b[43m                \u001b[49m\u001b[43mweakref\u001b[49m\u001b[43m.\u001b[49m\u001b[43mref\u001b[49m\u001b[43m(\u001b[49m\u001b[43mt\u001b[49m\u001b[43m)\u001b[49m\u001b[43m,\u001b[49m\n\u001b[32m    169\u001b[39m \u001b[43m                \u001b[49m\u001b[43mretry_policy\u001b[49m\u001b[43m=\u001b[49m\u001b[43mretry_policy\u001b[49m\u001b[43m,\u001b[49m\n\u001b[32m    170\u001b[39m \u001b[43m                \u001b[49m\u001b[43mfutures\u001b[49m\u001b[43m=\u001b[49m\u001b[43mweakref\u001b[49m\u001b[43m.\u001b[49m\u001b[43mref\u001b[49m\u001b[43m(\u001b[49m\u001b[43mfutures\u001b[49m\u001b[43m)\u001b[49m\u001b[43m,\u001b[49m\n\u001b[32m    171\u001b[39m \u001b[43m                \u001b[49m\u001b[43mschedule_task\u001b[49m\u001b[43m=\u001b[49m\u001b[43mschedule_task\u001b[49m\u001b[43m,\u001b[49m\n\u001b[32m    172\u001b[39m \u001b[43m                \u001b[49m\u001b[43msubmit\u001b[49m\u001b[43m=\u001b[49m\u001b[38;5;28;43mself\u001b[39;49m\u001b[43m.\u001b[49m\u001b[43msubmit\u001b[49m\u001b[43m,\u001b[49m\n\u001b[32m    173\u001b[39m \u001b[43m            \u001b[49m\u001b[43m)\u001b[49m\u001b[43m,\u001b[49m\n\u001b[32m    174\u001b[39m \u001b[43m        \u001b[49m\u001b[43m}\u001b[49m\u001b[43m,\u001b[49m\n\u001b[32m    175\u001b[39m \u001b[43m    \u001b[49m\u001b[43m)\u001b[49m\n\u001b[32m    176\u001b[39m     \u001b[38;5;28mself\u001b[39m.commit(t, \u001b[38;5;28;01mNone\u001b[39;00m)\n\u001b[32m    177\u001b[39m \u001b[38;5;28;01mexcept\u001b[39;00m \u001b[38;5;167;01mException\u001b[39;00m \u001b[38;5;28;01mas\u001b[39;00m exc:\n",
      "\u001b[36mFile \u001b[39m\u001b[32m~/miniconda3/envs/py312/lib/python3.12/site-packages/langgraph/pregel/_retry.py:42\u001b[39m, in \u001b[36mrun_with_retry\u001b[39m\u001b[34m(task, retry_policy, configurable)\u001b[39m\n\u001b[32m     40\u001b[39m     task.writes.clear()\n\u001b[32m     41\u001b[39m     \u001b[38;5;66;03m# run the task\u001b[39;00m\n\u001b[32m---> \u001b[39m\u001b[32m42\u001b[39m     \u001b[38;5;28;01mreturn\u001b[39;00m \u001b[43mtask\u001b[49m\u001b[43m.\u001b[49m\u001b[43mproc\u001b[49m\u001b[43m.\u001b[49m\u001b[43minvoke\u001b[49m\u001b[43m(\u001b[49m\u001b[43mtask\u001b[49m\u001b[43m.\u001b[49m\u001b[43minput\u001b[49m\u001b[43m,\u001b[49m\u001b[43m \u001b[49m\u001b[43mconfig\u001b[49m\u001b[43m)\u001b[49m\n\u001b[32m     43\u001b[39m \u001b[38;5;28;01mexcept\u001b[39;00m ParentCommand \u001b[38;5;28;01mas\u001b[39;00m exc:\n\u001b[32m     44\u001b[39m     ns: \u001b[38;5;28mstr\u001b[39m = config[CONF][CONFIG_KEY_CHECKPOINT_NS]\n",
      "\u001b[36mFile \u001b[39m\u001b[32m~/miniconda3/envs/py312/lib/python3.12/site-packages/langgraph/_internal/_runnable.py:657\u001b[39m, in \u001b[36mRunnableSeq.invoke\u001b[39m\u001b[34m(self, input, config, **kwargs)\u001b[39m\n\u001b[32m    655\u001b[39m     \u001b[38;5;66;03m# run in context\u001b[39;00m\n\u001b[32m    656\u001b[39m     \u001b[38;5;28;01mwith\u001b[39;00m set_config_context(config, run) \u001b[38;5;28;01mas\u001b[39;00m context:\n\u001b[32m--> \u001b[39m\u001b[32m657\u001b[39m         \u001b[38;5;28minput\u001b[39m = \u001b[43mcontext\u001b[49m\u001b[43m.\u001b[49m\u001b[43mrun\u001b[49m\u001b[43m(\u001b[49m\u001b[43mstep\u001b[49m\u001b[43m.\u001b[49m\u001b[43minvoke\u001b[49m\u001b[43m,\u001b[49m\u001b[43m \u001b[49m\u001b[38;5;28;43minput\u001b[39;49m\u001b[43m,\u001b[49m\u001b[43m \u001b[49m\u001b[43mconfig\u001b[49m\u001b[43m,\u001b[49m\u001b[43m \u001b[49m\u001b[43m*\u001b[49m\u001b[43m*\u001b[49m\u001b[43mkwargs\u001b[49m\u001b[43m)\u001b[49m\n\u001b[32m    658\u001b[39m \u001b[38;5;28;01melse\u001b[39;00m:\n\u001b[32m    659\u001b[39m     \u001b[38;5;28minput\u001b[39m = step.invoke(\u001b[38;5;28minput\u001b[39m, config)\n",
      "\u001b[36mFile \u001b[39m\u001b[32m~/miniconda3/envs/py312/lib/python3.12/site-packages/langgraph/_internal/_runnable.py:394\u001b[39m, in \u001b[36mRunnableCallable.invoke\u001b[39m\u001b[34m(self, input, config, **kwargs)\u001b[39m\n\u001b[32m    392\u001b[39m     \u001b[38;5;66;03m# run in context\u001b[39;00m\n\u001b[32m    393\u001b[39m     \u001b[38;5;28;01mwith\u001b[39;00m set_config_context(child_config, run) \u001b[38;5;28;01mas\u001b[39;00m context:\n\u001b[32m--> \u001b[39m\u001b[32m394\u001b[39m         ret = \u001b[43mcontext\u001b[49m\u001b[43m.\u001b[49m\u001b[43mrun\u001b[49m\u001b[43m(\u001b[49m\u001b[38;5;28;43mself\u001b[39;49m\u001b[43m.\u001b[49m\u001b[43mfunc\u001b[49m\u001b[43m,\u001b[49m\u001b[43m \u001b[49m\u001b[43m*\u001b[49m\u001b[43margs\u001b[49m\u001b[43m,\u001b[49m\u001b[43m \u001b[49m\u001b[43m*\u001b[49m\u001b[43m*\u001b[49m\u001b[43mkwargs\u001b[49m\u001b[43m)\u001b[49m\n\u001b[32m    395\u001b[39m \u001b[38;5;28;01mexcept\u001b[39;00m \u001b[38;5;167;01mBaseException\u001b[39;00m \u001b[38;5;28;01mas\u001b[39;00m e:\n\u001b[32m    396\u001b[39m     run_manager.on_chain_error(e)\n",
      "\u001b[36mFile \u001b[39m\u001b[32m~/miniconda3/envs/py312/lib/python3.12/site-packages/langgraph/prebuilt/chat_agent_executor.py:620\u001b[39m, in \u001b[36mcreate_react_agent.<locals>.call_model\u001b[39m\u001b[34m(state, runtime, config)\u001b[39m\n\u001b[32m    613\u001b[39m     msg = (\n\u001b[32m    614\u001b[39m         \u001b[33m\"\u001b[39m\u001b[33mAsync model callable provided but agent invoked synchronously. \u001b[39m\u001b[33m\"\u001b[39m\n\u001b[32m    615\u001b[39m         \u001b[33m\"\u001b[39m\u001b[33mUse agent.ainvoke() or agent.astream(), or \u001b[39m\u001b[33m\"\u001b[39m\n\u001b[32m    616\u001b[39m         \u001b[33m\"\u001b[39m\u001b[33mprovide a sync model callable.\u001b[39m\u001b[33m\"\u001b[39m\n\u001b[32m    617\u001b[39m     )\n\u001b[32m    618\u001b[39m     \u001b[38;5;28;01mraise\u001b[39;00m \u001b[38;5;167;01mRuntimeError\u001b[39;00m(msg)\n\u001b[32m--> \u001b[39m\u001b[32m620\u001b[39m model_input = \u001b[43m_get_model_input_state\u001b[49m\u001b[43m(\u001b[49m\u001b[43mstate\u001b[49m\u001b[43m)\u001b[49m\n\u001b[32m    622\u001b[39m \u001b[38;5;28;01mif\u001b[39;00m is_dynamic_model:\n\u001b[32m    623\u001b[39m     \u001b[38;5;66;03m# Resolve dynamic model at runtime and apply prompt\u001b[39;00m\n\u001b[32m    624\u001b[39m     dynamic_model = _resolve_model(state, runtime)\n",
      "\u001b[36mFile \u001b[39m\u001b[32m~/miniconda3/envs/py312/lib/python3.12/site-packages/langgraph/prebuilt/chat_agent_executor.py:599\u001b[39m, in \u001b[36mcreate_react_agent.<locals>._get_model_input_state\u001b[39m\u001b[34m(state)\u001b[39m\n\u001b[32m    596\u001b[39m \u001b[38;5;28;01mif\u001b[39;00m messages \u001b[38;5;129;01mis\u001b[39;00m \u001b[38;5;28;01mNone\u001b[39;00m:\n\u001b[32m    597\u001b[39m     \u001b[38;5;28;01mraise\u001b[39;00m \u001b[38;5;167;01mValueError\u001b[39;00m(error_msg)\n\u001b[32m--> \u001b[39m\u001b[32m599\u001b[39m \u001b[43m_validate_chat_history\u001b[49m\u001b[43m(\u001b[49m\u001b[43mmessages\u001b[49m\u001b[43m)\u001b[49m\n\u001b[32m    600\u001b[39m \u001b[38;5;66;03m# we're passing messages under `messages` key, as this is expected by the prompt\u001b[39;00m\n\u001b[32m    601\u001b[39m \u001b[38;5;28;01mif\u001b[39;00m \u001b[38;5;28misinstance\u001b[39m(state_schema, \u001b[38;5;28mtype\u001b[39m) \u001b[38;5;129;01mand\u001b[39;00m \u001b[38;5;28missubclass\u001b[39m(state_schema, BaseModel):\n",
      "\u001b[36mFile \u001b[39m\u001b[32m~/miniconda3/envs/py312/lib/python3.12/site-packages/langgraph/prebuilt/chat_agent_executor.py:245\u001b[39m, in \u001b[36m_validate_chat_history\u001b[39m\u001b[34m(messages)\u001b[39m\n\u001b[32m    236\u001b[39m     \u001b[38;5;28;01mreturn\u001b[39;00m\n\u001b[32m    238\u001b[39m error_message = create_error_message(\n\u001b[32m    239\u001b[39m     message=\u001b[33m\"\u001b[39m\u001b[33mFound AIMessages with tool_calls that do not have a corresponding ToolMessage. \u001b[39m\u001b[33m\"\u001b[39m\n\u001b[32m    240\u001b[39m     \u001b[33mf\u001b[39m\u001b[33m\"\u001b[39m\u001b[33mHere are the first few of those tool calls: \u001b[39m\u001b[38;5;132;01m{\u001b[39;00mtool_calls_without_results[:\u001b[32m3\u001b[39m]\u001b[38;5;132;01m}\u001b[39;00m\u001b[33m.\u001b[39m\u001b[38;5;130;01m\\n\u001b[39;00m\u001b[38;5;130;01m\\n\u001b[39;00m\u001b[33m\"\u001b[39m\n\u001b[32m   (...)\u001b[39m\u001b[32m    243\u001b[39m     error_code=ErrorCode.INVALID_CHAT_HISTORY,\n\u001b[32m    244\u001b[39m )\n\u001b[32m--> \u001b[39m\u001b[32m245\u001b[39m \u001b[38;5;28;01mraise\u001b[39;00m \u001b[38;5;167;01mValueError\u001b[39;00m(error_message)\n",
      "\u001b[31mValueError\u001b[39m: Found AIMessages with tool_calls that do not have a corresponding ToolMessage. Here are the first few of those tool calls: [{'name': 'book_flight_custom', 'args': {'from_airport': 'SFO', 'to_airport': 'LAX'}, 'id': 'call_7iZWQVDhuLU9n5CDWvb81Gbs', 'type': 'tool_call'}].\n\nEvery tool call (LLM requesting to call a tool) in the message history MUST have a corresponding ToolMessage (result of a tool invocation to return to the LLM) - this is required by most LLM providers.\nFor troubleshooting, visit: https://python.langchain.com/docs/troubleshooting/errors/INVALID_CHAT_HISTORY",
      "During task with name 'agent' and id '17703e71-9e11-a7c2-7b68-63ede2129517'",
      "During task with name 'hotel_assistant' and id '0e5bb16d-7a77-3158-f3fb-005933bea7cb'"
     ]
    }
   ],
   "source": [
    "# Print a header for the custom handoffs example.\n",
    "print('\\n=== CUSTOM HANDOFFS EXAMPLE ===')\n",
    "\n",
    "# Stream the output from the custom graph.\n",
    "for chunk in multi_agent_graph.stream(\n",
    "    {'messages': [{'role': 'user', 'content': 'Book a flight from SFO to LAX and book me a hotel in SF'}]}, debug=True\n",
    "):\n",
    "    if chunk:\n",
    "        print('-' * 60)\n",
    "        # print(f'Chunk: {chunk}')\n",
    "        # print(chunk)"
   ]
  },
  {
   "cell_type": "markdown",
   "metadata": {},
   "source": [
    "## Section 5: Conclusion\n",
    "\n",
    "This notebook has demonstrated three powerful patterns for building multi-agent systems with LangGraph:\n",
    "\n",
    "-   **Supervisor:** Ideal for hierarchical task delegation where a manager oversees workers.\n",
    "-   **Swarm:** Suitable for collaborative environments where agents can pass tasks amongst themselves.\n",
    "-   **Custom Handoffs:** Offers the most flexibility for designing complex, bespoke agent interactions.\n",
    "\n",
    "**Potential Extensions:**\n",
    "\n",
    "*   **Error Handling:** Implement more robust error handling within each agent.\n",
    "*   **Dynamic Routing:** Add more complex conditional logic for routing tasks.\n",
    "*   **State Management:** Enhance the state to carry more context between agent interactions."
   ]
  },
  {
   "cell_type": "markdown",
   "metadata": {},
   "source": []
  }
 ],
 "metadata": {
  "kernelspec": {
   "display_name": "py312",
   "language": "python",
   "name": "python3"
  },
  "language_info": {
   "codemirror_mode": {
    "name": "ipython",
    "version": 3
   },
   "file_extension": ".py",
   "mimetype": "text/x-python",
   "name": "python",
   "nbconvert_exporter": "python",
   "pygments_lexer": "ipython3",
   "version": "3.12.11"
  }
 },
 "nbformat": 4,
 "nbformat_minor": 4
}
