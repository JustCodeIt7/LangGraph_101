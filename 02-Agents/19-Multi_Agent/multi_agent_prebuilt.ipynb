{
 "cells": [
  {
   "cell_type": "markdown",
   "metadata": {},
   "source": [
    "# Multi-Agent System with LangGraph\n",
    "In multi-agent systems, agents interact through handoffs, a mechanism that determines which agent receives control and what data is transferred to them.\n",
    "\n",
    "Popular multi-agent architectures include:\n",
    "\n",
    "-  **Supervisor:** A central supervisor agent oversees individual agents, managing all communication and task delegation. It decides which agent to activate based on the current context and task needs.\n",
    "-  **Swarm:** Agents dynamically transfer control to one another based on their expertise. The system tracks the last active agent to ensure subsequent interactions continue with that agent.\n",
    "\n",
    "**Overview of the `multi_agent_prebuilt.py` script:**\n",
    "\n",
    "This script showcases three distinct approaches to building multi-agent systems:\n",
    "1. **Supervisor Pattern:** A central supervisor agent assigns tasks to specialized agents.\n",
    "2. **Swarm Pattern:** Agents directly pass tasks to each other as needed.\n",
    "3. **Custom Handoffs:** A detailed implementation of task handoffs between agents."
   ]
  },
  {
   "cell_type": "code",
   "execution_count": null,
   "metadata": {},
   "outputs": [],
   "source": [
    "# Import the os module to interact with the operating system, used here for environment variables.\n",
    "import os\n",
    "from dotenv import load_dotenv\n",
    "from rich import print\n",
    "from langchain_openai import ChatOpenAI\n",
    "from langgraph.prebuilt import create_react_agent\n",
    "from langgraph_supervisor import create_supervisor\n",
    "from IPython.display import Image, display\n",
    "from langchain_core.tools import tool\n",
    "load_dotenv()"
   ]
  },
  {
   "cell_type": "markdown",
   "metadata": {},
   "source": [
    "## Section 1: Supervisor Multi-Agent System\n",
    "\n",
    "This example demonstrates a supervisor-worker architecture. A `supervisor` agent receives a user request and routes it to the appropriate specialized agent (`flight_assistant` or `hotel_assistant`).\n",
    "\n",
    "**Code Logic:**\n",
    "1.  **Tool Definition:** Simple functions `book_hotel` and `book_flight` are defined as tools for the agents.\n",
    "2.  **Agent Creation:** Two `create_react_agent` instances are created. Each agent is specialized for a single task (booking flights or hotels) and is given access to the relevant tool.\n",
    "3.  **Supervisor Creation:** `create_supervisor` is used to create a managing agent that orchestrates the two specialized agents.\n",
    "4.  **Execution:** The system is run by streaming a user request through the compiled supervisor graph."
   ]
  },
  {
   "cell_type": "code",
   "execution_count": null,
   "metadata": {},
   "outputs": [],
   "source": [
    "# Define a tool function for booking a hotel.\n",
    "# It takes the hotel name as input and returns a confirmation message.\n",
    "@tool\n",
    "def book_hotel(hotel_name: str):\n",
    "    \"\"\"Book a hotel\"\"\"\n",
    "    # This is a mock function; in a real application, this would\n",
    "    # interact with a hotel booking API.\n",
    "    return f'Successfully booked a stay at {hotel_name}.'\n",
    "\n",
    "\n",
    "# Define a tool function for booking a flight.\n",
    "# It takes departure and arrival airports and returns a confirmation.\n",
    "@tool\n",
    "def book_flight(from_airport: str, to_airport: str):\n",
    "    \"\"\"Book a flight\"\"\"\n",
    "    # This is a mock function; in a real application, this would\n",
    "    # interact with a flight booking API.\n",
    "    return f'Successfully booked a flight from {from_airport} to {to_airport}.'"
   ]
  },
  {
   "cell_type": "code",
   "execution_count": null,
   "metadata": {},
   "outputs": [],
   "source": [
    "# Create the first specialized agent for booking flights.\n",
    "# The create_react_agent function initializes an agent that can reason and act.\n",
    "flight_assistant = create_react_agent(\n",
    "    # The language model that powers the agent's reasoning.\n",
    "    model=ChatOpenAI(model='gpt-4o-mini', max_tokens=500),\n",
    "    # The list of tools the agent can use. This agent can only book flights.\n",
    "    tools=[book_flight],\n",
    "    # The system prompt that defines the agent's role and personality.\n",
    "    prompt='You are a flight booking assistant. Help users book flights.',\n",
    "    # A unique name for the agent, used for routing and identification.\n",
    "    name='flight_assistant',\n",
    ")\n",
    "\n",
    "\n",
    "# Create the second specialized agent for booking hotels.\n",
    "hotel_assistant = create_react_agent(\n",
    "    model=ChatOpenAI(model='gpt-4o-mini', max_tokens=500),\n",
    "    # This agent can only use the book_hotel tool.\n",
    "    tools=[book_hotel],\n",
    "    # The specific prompt for the hotel assistant.\n",
    "    prompt='You are a hotel booking assistant. Help users book hotels.',\n",
    "    # A unique name for the hotel agent.\n",
    "    name='hotel_assistant',\n",
    ")"
   ]
  },
  {
   "cell_type": "code",
   "execution_count": null,
   "metadata": {},
   "outputs": [],
   "source": [
    "# Create the supervisor agent that will manage the specialized agents.\n",
    "# The create_supervisor function wires together the agents and a routing mechanism.\n",
    "from litellm import max_tokens\n",
    "\n",
    "\n",
    "supervisor = create_supervisor(\n",
    "    # A list of the worker agents that the supervisor can delegate tasks to.\n",
    "    agents=[flight_assistant, hotel_assistant],\n",
    "    # The language model for the supervisor's decision-making.\n",
    "    model=ChatOpenAI(model='gpt-4o-mini', max_tokens=500),\n",
    "    # The system prompt for the supervisor, defining its role as a manager.\n",
    "    prompt='You manage hotel and flight booking assistants. Assign work to them.',\n",
    "    # Compile the supervisor graph into a runnable LangGraph object.\n",
    ").compile()"
   ]
  },
  {
   "cell_type": "code",
   "execution_count": null,
   "metadata": {},
   "outputs": [],
   "source": [
    "# Print a header to indicate that the graph structure is being displayed.\n",
    "print('Subgraph structure:')\n",
    "try:\n",
    "    display(Image(supervisor.get_graph().draw_mermaid_png()))\n",
    "except Exception:\n",
    "    pass"
   ]
  },
  {
   "cell_type": "code",
   "execution_count": null,
   "metadata": {},
   "outputs": [],
   "source": [
    "# Print a header for the supervisor example output.\n",
    "print('=== SUPERVISOR EXAMPLE ===')\n",
    "\n",
    "# Stream the output from the supervisor graph for a given user request.\n",
    "# The `stream` method allows processing the output as it's generated.\n",
    "# `debug=True` provides verbose logging of the internal steps.\n",
    "for chunk in supervisor.stream(\n",
    "    # The input to the graph is a dictionary with a 'messages' key.\n",
    "    {'messages': [{'role': 'user', 'content': 'Book a flight from LAX to NYC'}]},\n",
    "    debug=True,\n",
    "):\n",
    "    # Check if the chunk contains any data before printing.\n",
    "    if chunk:\n",
    "        # Print a separator for readability.\n",
    "        print('-' * 60)\n",
    "        # Print the content of the current chunk.\n",
    "        print(f'Chunk: {chunk}')\n",
    "        # The original print(chunk) is commented out, but can be used for raw output.\n",
    "        # print(chunk)"
   ]
  },
  {
   "cell_type": "markdown",
   "metadata": {},
   "source": [
    "## Section 2: Swarm Multi-Agent System\n",
    "\n",
    "This example showcases a swarm architecture where agents can directly hand off tasks to one another. This is useful for more collaborative workflows.\n",
    "\n",
    "**Code Logic:**\n",
    "1.  **Tool Definition:** Similar to the supervisor example, `book_hotel_swarm` and `book_flight_swarm` are defined.\n",
    "2.  **Handoff Tool Creation:** `create_handoff_tool` is used to create special tools that allow one agent to transfer control to another.\n",
    "3.  **Agent Creation:** Agents are created with both their primary tool and the handoff tools.\n",
    "4.  **Swarm Creation:** `create_swarm` assembles the agents into a collaborative system. A `default_active_agent` is specified to handle the initial user request.\n",
    "5.  **Execution:** The user request is streamed through the swarm."
   ]
  },
  {
   "cell_type": "code",
   "execution_count": null,
   "metadata": {},
   "outputs": [],
   "source": [
    "from langchain_openai import ChatOpenAI\n",
    "from langgraph.prebuilt import create_react_agent\n",
    "from langgraph_swarm import create_swarm, create_handoff_tool"
   ]
  },
  {
   "cell_type": "code",
   "execution_count": null,
   "metadata": {},
   "outputs": [],
   "source": [
    "# Define a tool for booking a hotel in the swarm example.\n",
    "@tool\n",
    "def book_hotel_swarm(hotel_name: str):\n",
    "    \"\"\"Book a hotel\"\"\"\n",
    "    return f'Hotel booked: {hotel_name}'\n",
    "\n",
    "\n",
    "# Define a tool for booking a flight in the swarm example.\n",
    "@tool\n",
    "def book_flight_swarm(from_airport: str, to_airport: str):\n",
    "    \"\"\"Book a flight\"\"\"\n",
    "    return f'Flight booked: {from_airport} to {to_airport}'"
   ]
  },
  {
   "cell_type": "code",
   "execution_count": null,
   "metadata": {},
   "outputs": [],
   "source": [
    "# Create a handoff tool that allows transferring a task to the hotel assistant.\n",
    "# The `create_handoff_tool` function generates a tool that agents can call.\n",
    "transfer_to_hotel = create_handoff_tool(\n",
    "    # The name of the agent to hand off to.\n",
    "    agent_name='hotel_assistant',\n",
    "    # The description of the tool, which the agent's LLM will use to decide when to use it.\n",
    "    description='Transfer to hotel booking assistant.',\n",
    ")\n",
    "\n",
    "\n",
    "# Create a similar handoff tool for transferring to the flight assistant.\n",
    "transfer_to_flight = create_handoff_tool(\n",
    "    agent_name='flight_assistant',\n",
    "    description='Transfer to flight booking assistant.',\n",
    ")"
   ]
  },
  {
   "cell_type": "code",
   "execution_count": null,
   "metadata": {},
   "outputs": [],
   "source": [
    "# Create the flight assistant for the swarm.\n",
    "flight_assistant_swarm = create_react_agent(\n",
    "    model=ChatOpenAI(model='gpt-4o-mini', max_tokens=500),\n",
    "    # This agent has its primary tool (book_flight_swarm) and a handoff tool.\n",
    "    tools=[book_flight_swarm, transfer_to_hotel],\n",
    "    prompt='You are a flight booking assistant.',\n",
    "    name='flight_assistant',\n",
    ")\n",
    "\n",
    "\n",
    "# Create the hotel assistant for the swarm.\n",
    "hotel_assistant_swarm = create_react_agent(\n",
    "    model=ChatOpenAI(model='gpt-4o-mini', max_tokens=500),\n",
    "    # This agent can book hotels and hand off to the flight assistant.\n",
    "    tools=[book_hotel_swarm, transfer_to_flight],\n",
    "    prompt='You are a hotel booking assistant.',\n",
    "    name='hotel_assistant',\n",
    ")"
   ]
  },
  {
   "cell_type": "code",
   "execution_count": null,
   "metadata": {},
   "outputs": [],
   "source": [
    "print('Subgraph structure:')\n",
    "try:\n",
    "    display(Image(hotel_assistant_swarm.get_graph().draw_mermaid_png()))\n",
    "except Exception:\n",
    "    pass"
   ]
  },
  {
   "cell_type": "code",
   "execution_count": null,
   "metadata": {},
   "outputs": [],
   "source": [
    "# Create the swarm by passing the list of agents.\n",
    "# `create_swarm` wires them together so they can hand off tasks to each other.\n",
    "# `default_active_agent` specifies which agent should receive the initial request.\n",
    "swarm = create_swarm(\n",
    "    agents=[flight_assistant_swarm, hotel_assistant_swarm], default_active_agent='flight_assistant'\n",
    ").compile()"
   ]
  },
  {
   "cell_type": "code",
   "execution_count": null,
   "metadata": {},
   "outputs": [],
   "source": [
    "# Print a header for the swarm example.\n",
    "print('\\n=== SWARM EXAMPLE ===')\n",
    "\n",
    "# Stream the output from the swarm.\n",
    "# The initial request is to book a hotel, which will go to the default 'flight_assistant'.\n",
    "# The flight assistant should then use the `transfer_to_hotel` tool.\n",
    "for chunk in swarm.stream({'messages': [{'role': 'user', 'content': 'Book a hotel at Marriott'}]}, debug=True):\n",
    "    if chunk:\n",
    "        print('-' * 60)\n",
    "        print(f'Chunk: {chunk}')\n",
    "        # print(chunk)"
   ]
  },
  {
   "cell_type": "markdown",
   "metadata": {},
   "source": [
    "## Section 3: Custom Handoffs Implementation\n",
    "\n",
    "This section provides a from-scratch implementation of handoffs, giving you complete control over agent interaction logic. It uses a `StateGraph` to define the workflow explicitly.\n",
    "\n",
    "You can specify:\n",
    "- **destination**: target agent to navigate to\n",
    "- **payload**: information to pass to that agent\n",
    "\n",
    "**Code Logic:**\n",
    "1. **Tool Definition:** `book_hotel_custom` and `book_flight_custom` tools are defined.\n",
    "2. **Custom Handoff Tool Factory:** The `create_handoff_tool` function generates a tool that returns a `Command` object when called. This `Command` instructs the graph to transition to a different agent node.\n",
    "3. **Agent Definition:** Agents are created with their respective tools, including the custom handoff tools.\n",
    "4. **Graph Building:** A `StateGraph` is constructed with agents added as nodes and an entry point (`START`) that directs initial requests to the `flight_assistant`.\n"
   ]
  },
  {
   "cell_type": "code",
   "execution_count": null,
   "metadata": {},
   "outputs": [],
   "source": [
    "from typing import Annotated\n",
    "from langchain_core.tools import tool, InjectedToolCallId\n",
    "from langchain_openai import ChatOpenAI\n",
    "from langgraph.prebuilt import create_react_agent, InjectedState\n",
    "from langgraph.graph import StateGraph, START, MessagesState\n",
    "from langgraph.types import Command"
   ]
  },
  {
   "cell_type": "code",
   "execution_count": null,
   "metadata": {},
   "outputs": [],
   "source": [
    "# Define a custom tool for booking a hotel.\n",
    "@tool\n",
    "def book_hotel_custom(hotel_name: str):\n",
    "    \"\"\"Book a hotel\"\"\"\n",
    "    return f'Custom hotel booking: {hotel_name}'\n",
    "\n",
    "\n",
    "# Define a custom tool for booking a flight.\n",
    "@tool\n",
    "def book_flight_custom(from_airport: str, to_airport: str):\n",
    "    \"\"\"Book a flight\"\"\"\n",
    "    return f'Custom flight booking: {from_airport} to {to_airport}'"
   ]
  },
  {
   "cell_type": "code",
   "execution_count": null,
   "metadata": {},
   "outputs": [],
   "source": [
    "# This function is a factory for creating custom handoff tools.\n",
    "def create_handoff_tool_custom(*, agent_name: str, description: str):\n",
    "    # Generate a unique name for the tool based on the target agent.\n",
    "    name = f'transfer_to_{agent_name}'\n",
    "\n",
    "    # Use the @tool decorator to define the handoff tool.\n",
    "    @tool(name, description=description)\n",
    "    def handoff_tool(\n",
    "        # Inject the current graph state into the tool call.\n",
    "        state: Annotated[MessagesState, InjectedState],\n",
    "        # Inject the ID of the tool call that triggered this.\n",
    "        tool_call_id: Annotated[str, InjectedToolCallId],\n",
    "    ) -> Command:\n",
    "        # Create a tool message to record the handoff event.\n",
    "        tool_message = {\n",
    "            'role': 'tool',\n",
    "            'content': f'Transferred to {agent_name}',\n",
    "            'name': name,\n",
    "            'tool_call_id': tool_call_id,\n",
    "        }\n",
    "        # Return a Command object to instruct the graph to transition.\n",
    "        return Command(\n",
    "            # The `goto` field specifies the next node to execute.\n",
    "            goto=agent_name,\n",
    "            # The `update` field modifies the state, adding the tool message.\n",
    "            update={'messages': state['messages'] + [tool_message]},\n",
    "            # `graph=Command.PARENT` indicates the command applies to the parent graph.\n",
    "            graph=Command.PARENT,\n",
    "        )\n",
    "\n",
    "    return handoff_tool"
   ]
  },
  {
   "cell_type": "code",
   "execution_count": null,
   "metadata": {},
   "outputs": [],
   "source": [
    "# Create the custom handoff tools using the factory function.\n",
    "transfer_to_hotel_custom = create_handoff_tool_custom(\n",
    "    agent_name='hotel_assistant',\n",
    "    description='Transfer to hotel assistant.',\n",
    ")\n",
    "\n",
    "transfer_to_flight_custom = create_handoff_tool_custom(\n",
    "    agent_name='flight_assistant',\n",
    "    description='Transfer to flight assistant.',\n",
    ")"
   ]
  },
  {
   "cell_type": "code",
   "execution_count": null,
   "metadata": {},
   "outputs": [],
   "source": [
    "# Define the agents using the custom tools.\n",
    "flight_assistant_custom = create_react_agent(\n",
    "    model=ChatOpenAI(model='gpt-4o-mini', max_tokens=500),\n",
    "    tools=[book_flight_custom, transfer_to_hotel_custom],\n",
    "    prompt='You are a flight booking assistant.',\n",
    "    name='flight_assistant',\n",
    ")\n",
    "\n",
    "hotel_assistant_custom = create_react_agent(\n",
    "    model=ChatOpenAI(model='gpt-4o-mini', max_tokens=500),\n",
    "    tools=[book_hotel_custom, transfer_to_flight_custom],\n",
    "    prompt='You are a hotel booking assistant.',\n",
    "    name='hotel_assistant',\n",
    ")"
   ]
  },
  {
   "cell_type": "code",
   "execution_count": null,
   "metadata": {},
   "outputs": [],
   "source": [
    "# Build the state graph manually. New way to define multi-agent workflows.\n",
    "multi_agent_graph = (\n",
    "    # Initialize a StateGraph with the MessagesState schema.\n",
    "    StateGraph(MessagesState)\n",
    "    # Add the flight assistant as a node in the graph.\n",
    "    .add_node('flight_assistant', flight_assistant_custom)\n",
    "    # Add the hotel assistant as another node.\n",
    "    .add_node('hotel_assistant', hotel_assistant_custom)\n",
    "    # Define the entry point of the graph. All requests will start at the flight assistant.\n",
    "    .add_edge(START, 'flight_assistant')\n",
    "    .compile()\n",
    ")"
   ]
  },
  {
   "cell_type": "code",
   "execution_count": null,
   "metadata": {},
   "outputs": [],
   "source": [
    "print('Subgraph structure:')\n",
    "try:\n",
    "    img = Image(multi_agent_graph.get_graph().draw_mermaid_png())\n",
    "    display(img)\n",
    "except Exception:\n",
    "    pass"
   ]
  },
  {
   "cell_type": "code",
   "execution_count": null,
   "metadata": {},
   "outputs": [],
   "source": [
    "# Print a header for the custom handoffs example.\n",
    "print('\\n=== CUSTOM HANDOFFS EXAMPLE ===')\n",
    "\n",
    "# Stream the output from the custom graph.\n",
    "for chunk in multi_agent_graph.stream(\n",
    "    {'messages': [{'role': 'user', 'content': 'Book a flight from SFO to LAX'}]}, debug=True\n",
    "):\n",
    "    if chunk:\n",
    "        print('-' * 60)\n",
    "        print(f'Chunk: {chunk}')\n",
    "        # print(chunk)"
   ]
  },
  {
   "cell_type": "markdown",
   "metadata": {},
   "source": [
    "## Section 5: Conclusion\n",
    "\n",
    "This notebook has demonstrated three powerful patterns for building multi-agent systems with LangGraph:\n",
    "\n",
    "-   **Supervisor:** Ideal for hierarchical task delegation where a manager oversees workers.\n",
    "-   **Swarm:** Suitable for collaborative environments where agents can pass tasks amongst themselves.\n",
    "-   **Custom Handoffs:** Offers the most flexibility for designing complex, bespoke agent interactions.\n",
    "\n",
    "**Potential Extensions:**\n",
    "\n",
    "*   **Error Handling:** Implement more robust error handling within each agent.\n",
    "*   **Dynamic Routing:** Add more complex conditional logic for routing tasks.\n",
    "*   **State Management:** Enhance the state to carry more context between agent interactions."
   ]
  },
  {
   "cell_type": "markdown",
   "metadata": {},
   "source": []
  }
 ],
 "metadata": {
  "kernelspec": {
   "display_name": "py312",
   "language": "python",
   "name": "python3"
  },
  "language_info": {
   "codemirror_mode": {
    "name": "ipython",
    "version": 3
   },
   "file_extension": ".py",
   "mimetype": "text/x-python",
   "name": "python",
   "nbconvert_exporter": "python",
   "pygments_lexer": "ipython3",
   "version": "3.12.11"
  }
 },
 "nbformat": 4,
 "nbformat_minor": 4
}
