{
 "cells": [
  {
   "cell_type": "markdown",
   "metadata": {},
   "source": [
    "# Multi-Agent System with LangGraph\n",
    "\n",
    "This notebook provides a detailed walkthrough of the `multi_agent_prebuilt.py` script. We will explore how to build multi-agent systems using LangGraph, specifically focusing on Supervisor and Swarm patterns, as well as custom handoffs between agents.\n",
    "\n",
    "**Overview of the `multi_agent_prebuilt.py` script:**\n",
    "\n",
    "The script demonstrates three different approaches to building multi-agent systems:\n",
    "1.  **Supervisor Pattern:** A central supervisor agent delegates tasks to specialized agents.\n",
    "2.  **Swarm Pattern:** Agents can hand off tasks to each other directly.\n",
    "3.  **Custom Handoffs:** A more granular implementation of agent-to-agent task handoffs."
   ]
  },
  {
   "cell_type": "markdown",
   "metadata": {},
   "source": [
    "## Section 1: Setup and Imports\n",
    "\n",
    "This section handles the initial setup, including loading environment variables for API keys and importing necessary libraries. The `dotenv` library is used to load the `OPENAI_API_KEY` from a `.env` file. `rich` is used for pretty-printing outputs."
   ]
  },
  {
   "cell_type": "code",
   "execution_count": null,
   "metadata": {},
   "outputs": [],
   "source": [
    "import os\n",
    "from dotenv import load_dotenv\n",
    "from rich import print\n",
    "from langchain_openai import ChatOpenAI\n",
    "from langgraph.prebuilt import create_react_agent\n",
    "from langgraph_supervisor import create_supervisor\n",
    "load_dotenv()\n",
    "# Make sure to set your OPENAI_API_KEY in a .env file or as an environment variable"
   ]
  },
  {
   "cell_type": "markdown",
   "metadata": {},
   "source": [
    "## Section 2: Supervisor Multi-Agent System\n",
    "\n",
    "This example demonstrates a supervisor-worker architecture. A `supervisor` agent receives a user request and routes it to the appropriate specialized agent (`flight_assistant` or `hotel_assistant`).\n",
    "\n",
    "**Code Logic:**\n",
    "1.  **Tool Definition:** Simple functions `book_hotel` and `book_flight` are defined as tools for the agents.\n",
    "2.  **Agent Creation:** Two `create_react_agent` instances are created. Each agent is specialized for a single task (booking flights or hotels) and is given access to the relevant tool.\n",
    "3.  **Supervisor Creation:** `create_supervisor` is used to create a managing agent that orchestrates the two specialized agents.\n",
    "4.  **Execution:** The system is run by streaming a user request through the compiled supervisor graph."
   ]
  },
  {
   "cell_type": "code",
   "execution_count": null,
   "metadata": {},
   "outputs": [],
   "source": [
    "def book_hotel(hotel_name: str):\n",
    "    \"\"\"Book a hotel\"\"\"\n",
    "    return f'Successfully booked a stay at {hotel_name}.'\n",
    "\n",
    "def book_flight(from_airport: str, to_airport: str):\n",
    "    \"\"\"Book a flight\"\"\"\n",
    "    return f'Successfully booked a flight from {from_airport} to {to_airport}.'\n"
   ]
  },
  {
   "cell_type": "code",
   "execution_count": null,
   "metadata": {},
   "outputs": [],
   "source": [
    "\n",
    "# Create specialized agents\n",
    "flight_assistant = create_react_agent(\n",
    "    model=ChatOpenAI(model='gpt-4o-mini'),\n",
    "    tools=[book_flight],\n",
    "    prompt='You are a flight booking assistant. Help users book flights.',\n",
    "    name='flight_assistant',\n",
    ")\n",
    "\n",
    "hotel_assistant = create_react_agent(\n",
    "    model=ChatOpenAI(model='gpt-4o-mini'),\n",
    "    tools=[book_hotel],\n",
    "    prompt='You are a hotel booking assistant. Help users book hotels.',\n",
    "    name='hotel_assistant',\n",
    ")\n",
    "\n",
    "# Create supervisor\n",
    "supervisor = create_supervisor(\n",
    "    agents=[flight_assistant, hotel_assistant],\n",
    "    model=ChatOpenAI(model='gpt-4o-mini'),\n",
    "    prompt='You manage hotel and flight booking assistants. Assign work to them.',\n",
    ").compile()\n",
    "\n"
   ]
  },
  {
   "cell_type": "code",
   "execution_count": null,
   "metadata": {},
   "outputs": [],
   "source": [
    "print('Subgraph structure:')\n",
    "# Optional: Display a visualization of the graph's structure.\n",
    "try:\n",
    "    from IPython.display import Image, display\n",
    "\n",
    "    display(Image(supervisor.get_graph().draw_mermaid_png()))\n",
    "except Exception:\n",
    "    pass"
   ]
  },
  {
   "cell_type": "code",
   "execution_count": null,
   "metadata": {},
   "outputs": [],
   "source": [
    "print('=== SUPERVISOR EXAMPLE ===')\n",
    "for chunk in supervisor.stream({'messages': [{'role': 'user', 'content': 'Book a flight from LAX to NYC'}]}, debug=True):\n",
    "    if chunk:\n",
    "        print('-'*60)\n",
    "        print(f'Chunk: {chunk}')\n",
    "        # print(chunk)"
   ]
  },
  {
   "cell_type": "markdown",
   "metadata": {},
   "source": [
    "## Section 3: Swarm Multi-Agent System\n",
    "\n",
    "This example showcases a swarm architecture where agents can directly hand off tasks to one another. This is useful for more collaborative workflows.\n",
    "\n",
    "**Code Logic:**\n",
    "1.  **Tool Definition:** Similar to the supervisor example, `book_hotel_swarm` and `book_flight_swarm` are defined.\n",
    "2.  **Handoff Tool Creation:** `create_handoff_tool` is used to create special tools that allow one agent to transfer control to another.\n",
    "3.  **Agent Creation:** Agents are created with both their primary tool and the handoff tools.\n",
    "4.  **Swarm Creation:** `create_swarm` assembles the agents into a collaborative system. A `default_active_agent` is specified to handle the initial user request.\n",
    "5.  **Execution:** The user request is streamed through the swarm."
   ]
  },
  {
   "cell_type": "code",
   "execution_count": null,
   "metadata": {},
   "outputs": [],
   "source": [
    "from langchain_openai import ChatOpenAI\n",
    "from langgraph.prebuilt import create_react_agent\n",
    "from langgraph_swarm import create_swarm, create_handoff_tool\n"
   ]
  },
  {
   "cell_type": "code",
   "execution_count": null,
   "metadata": {},
   "outputs": [],
   "source": [
    "# Define booking tools\n",
    "def book_hotel_swarm(hotel_name: str):\n",
    "    \"\"\"Book a hotel\"\"\"\n",
    "    return f'Hotel booked: {hotel_name}'\n",
    "\n",
    "def book_flight_swarm(from_airport: str, to_airport: str):\n",
    "    \"\"\"Book a flight\"\"\"\n",
    "    return f'Flight booked: {from_airport} to {to_airport}'\n"
   ]
  },
  {
   "cell_type": "code",
   "execution_count": null,
   "metadata": {},
   "outputs": [],
   "source": [
    "\n",
    "# Create handoff tools\n",
    "transfer_to_hotel = create_handoff_tool(\n",
    "    agent_name='hotel_assistant',\n",
    "    description='Transfer to hotel booking assistant.',\n",
    ")\n",
    "\n",
    "transfer_to_flight = create_handoff_tool(\n",
    "    agent_name='flight_assistant',\n",
    "    description='Transfer to flight booking assistant.',\n",
    ")\n",
    "\n",
    "# Create agents\n",
    "flight_assistant_swarm = create_react_agent(\n",
    "    model=ChatOpenAI(model='gpt-4o-mini'),\n",
    "    tools=[book_flight_swarm, transfer_to_hotel],\n",
    "    prompt='You are a flight booking assistant.',\n",
    "    name='flight_assistant',\n",
    ")\n",
    "\n",
    "hotel_assistant_swarm = create_react_agent(\n",
    "    model=ChatOpenAI(model='gpt-4o-mini'),\n",
    "    tools=[book_hotel_swarm, transfer_to_flight],\n",
    "    prompt='You are a hotel booking assistant.',\n",
    "    name='hotel_assistant',\n",
    ")\n",
    "\n"
   ]
  },
  {
   "cell_type": "code",
   "execution_count": null,
   "metadata": {},
   "outputs": [],
   "source": [
    "\n",
    "print('Subgraph structure:')\n",
    "# Optional: Display a visualization of the graph's structure.\n",
    "try:\n",
    "    from IPython.display import Image, display\n",
    "\n",
    "    display(Image(hotel_assistant_swarm.get_graph().draw_mermaid_png()))\n",
    "except Exception:\n",
    "    pass\n"
   ]
  },
  {
   "cell_type": "code",
   "execution_count": null,
   "metadata": {},
   "outputs": [],
   "source": [
    "# Create swarm\n",
    "swarm = create_swarm(agents=[flight_assistant_swarm, hotel_assistant_swarm], default_active_agent='flight_assistant').compile()\n",
    "\n",
    "print('\\n=== SWARM EXAMPLE ===')\n",
    "for chunk in swarm.stream({'messages': [{'role': 'user', 'content': 'Book a hotel at Marriott'}]}, debug=True):\n",
    "    if chunk:\n",
    "        print('-'*60)\n",
    "        print(f'Chunk: {chunk}')\n",
    "        # print(chunk)"
   ]
  },
  {
   "cell_type": "markdown",
   "metadata": {},
   "source": [
    "## Section 4: Custom Handoffs Implementation\n",
    "\n",
    "This section provides a from-scratch implementation of handoffs, giving you more control over the agent interaction logic. It uses a `StateGraph` to define the workflow explicitly.\n",
    "\n",
    "**Code Logic:**\n",
    "1.  **Tool Definition:** `book_hotel_custom` and `book_flight_custom` are defined.\n",
    "2.  **Custom Handoff Tool Factory:** A function `create_handoff_tool` is created. This factory generates a tool that, when called, returns a `Command` object. This `Command` instructs the graph to transition to a different agent node.\n",
    "3.  **Agent Definition:** Agents are created with their respective tools, including the custom handoff tools.\n",
    "4.  **Graph Building:** A `StateGraph` is constructed. The agents are added as nodes, and an entry point (`START`) is defined, directing initial requests to the `flight_assistant`."
   ]
  },
  {
   "cell_type": "code",
   "execution_count": null,
   "metadata": {},
   "outputs": [],
   "source": [
    "from typing import Annotated\n",
    "from langchain_core.tools import tool, InjectedToolCallId\n",
    "from langchain_openai import ChatOpenAI\n",
    "from langgraph.prebuilt import create_react_agent, InjectedState\n",
    "from langgraph.graph import StateGraph, START, MessagesState\n",
    "from langgraph.types import Command\n"
   ]
  },
  {
   "cell_type": "code",
   "execution_count": null,
   "metadata": {},
   "outputs": [],
   "source": [
    "# Define booking tools\n",
    "def book_hotel_custom(hotel_name: str):\n",
    "    \"\"\"Book a hotel\"\"\"\n",
    "    return f'Custom hotel booking: {hotel_name}'\n",
    "\n",
    "def book_flight_custom(from_airport: str, to_airport: str):\n",
    "    \"\"\"Book a flight\"\"\"\n",
    "    return f'Custom flight booking: {from_airport} to {to_airport}'\n"
   ]
  },
  {
   "cell_type": "code",
   "execution_count": null,
   "metadata": {},
   "outputs": [],
   "source": [
    "\n",
    "# Custom handoff tool factory\n",
    "def create_handoff_tool_custom(*, agent_name: str, description: str):\n",
    "    name = f'transfer_to_{agent_name}'\n",
    "\n",
    "    @tool(name, description=description)\n",
    "    def handoff_tool(\n",
    "        state: Annotated[MessagesState, InjectedState],\n",
    "        tool_call_id: Annotated[str, InjectedToolCallId],\n",
    "    ) -> Command:\n",
    "        tool_message = {\n",
    "            'role': 'tool',\n",
    "            'content': f'Transferred to {agent_name}',\n",
    "            'name': name,\n",
    "            'tool_call_id': tool_call_id,\n",
    "        }\n",
    "        return Command(\n",
    "            goto=agent_name,\n",
    "            update={'messages': state['messages'] + [tool_message]},\n",
    "            graph=Command.PARENT,\n",
    "        )\n",
    "\n",
    "    return handoff_tool\n"
   ]
  },
  {
   "cell_type": "code",
   "execution_count": null,
   "metadata": {},
   "outputs": [],
   "source": [
    "\n",
    "# Create handoff tools\n",
    "transfer_to_hotel_custom = create_handoff_tool_custom(\n",
    "    agent_name='hotel_assistant',\n",
    "    description='Transfer to hotel assistant.',\n",
    ")\n",
    "\n",
    "transfer_to_flight_custom = create_handoff_tool_custom(\n",
    "    agent_name='flight_assistant',\n",
    "    description='Transfer to flight assistant.',\n",
    ")\n",
    "\n",
    "# Define agents\n",
    "flight_assistant_custom = create_react_agent(\n",
    "    model=ChatOpenAI(model='gpt-4o-mini'),\n",
    "    tools=[book_flight_custom, transfer_to_hotel_custom],\n",
    "    prompt='You are a flight booking assistant.',\n",
    "    name='flight_assistant',\n",
    ")\n",
    "\n",
    "hotel_assistant_custom = create_react_agent(\n",
    "    model=ChatOpenAI(model='gpt-4o-mini'),\n",
    "    tools=[book_hotel_custom, transfer_to_flight_custom],\n",
    "    prompt='You are a hotel booking assistant.',\n",
    "    name='hotel_assistant',\n",
    ")\n",
    "\n",
    "# Build graph\n",
    "multi_agent_graph = (\n",
    "    StateGraph(MessagesState)\n",
    "    .add_node('flight_assistant', flight_assistant_custom)\n",
    "    .add_node('hotel_assistant', hotel_assistant_custom)\n",
    "    .add_edge(START, 'flight_assistant')\n",
    "    .compile()\n",
    ")\n"
   ]
  },
  {
   "cell_type": "code",
   "execution_count": null,
   "metadata": {},
   "outputs": [],
   "source": [
    "\n",
    "print('Subgraph structure:')\n",
    "# Optional: Display a visualization of the graph's structure.\n",
    "try:\n",
    "    from IPython.display import Image, display\n",
    "\n",
    "    display(Image(multi_agent_graph.get_graph().draw_mermaid_png()))\n",
    "except Exception:\n",
    "    pass"
   ]
  },
  {
   "cell_type": "code",
   "execution_count": null,
   "metadata": {},
   "outputs": [],
   "source": [
    "\n",
    "from regex import P\n",
    "\n",
    "\n",
    "print('\\n=== CUSTOM HANDOFFS EXAMPLE ===')\n",
    "for chunk in multi_agent_graph.stream({'messages': [{'role': 'user', 'content': 'Book a flight from SFO to LAX'}]}, debug=True):\n",
    "    if chunk:\n",
    "        print('-'*60)\n",
    "        print(f'Chunk: {chunk}')\n",
    "        # print(chunk)"
   ]
  },
  {
   "cell_type": "markdown",
   "metadata": {},
   "source": [
    "## Section 5: Conclusion\n",
    "\n",
    "This notebook has demonstrated three powerful patterns for building multi-agent systems with LangGraph:\n",
    "\n",
    "-   **Supervisor:** Ideal for hierarchical task delegation where a manager oversees workers.\n",
    "-   **Swarm:** Suitable for collaborative environments where agents can pass tasks amongst themselves.\n",
    "-   **Custom Handoffs:** Offers the most flexibility for designing complex, bespoke agent interactions.\n",
    "\n",
    "**Potential Extensions:**\n",
    "\n",
    "*   **Error Handling:** Implement more robust error handling within each agent.\n",
    "*   **Dynamic Routing:** Add more complex conditional logic for routing tasks.\n",
    "*   **State Management:** Enhance the state to carry more context between agent interactions."
   ]
  }
 ],
 "metadata": {
  "kernelspec": {
   "display_name": "py312",
   "language": "python",
   "name": "python3"
  },
  "language_info": {
   "codemirror_mode": {
    "name": "ipython",
    "version": 3
   },
   "file_extension": ".py",
   "mimetype": "text/x-python",
   "name": "python",
   "nbconvert_exporter": "python",
   "pygments_lexer": "ipython3",
   "version": "3.12.11"
  }
 },
 "nbformat": 4,
 "nbformat_minor": 4
}
