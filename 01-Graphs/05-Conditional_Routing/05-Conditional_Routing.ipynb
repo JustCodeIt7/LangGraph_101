{
 "cells": [
  {
   "cell_type": "markdown",
   "id": "bb0cc4aa-9f03-487c-807e-84bd6fe32028",
   "metadata": {},
   "source": [
    "# LangGraph 101: Conditional Routing\n"
   ]
  },
  {
   "cell_type": "markdown",
   "metadata": {},
   "source": [
    "## Imports and State Definition\n"
   ]
  },
  {
   "cell_type": "code",
   "execution_count": null,
   "metadata": {},
   "outputs": [],
   "source": [
    "from typing import TypedDict\n",
    "from langgraph.graph import StateGraph, START, END\n",
    "from IPython.display import Image, display"
   ]
  },
  {
   "cell_type": "markdown",
   "id": "63cfdb1d-d25f-4d28-b583-69b62c348d69",
   "metadata": {},
   "source": [
    "## State Definition\n"
   ]
  },
  {
   "cell_type": "code",
   "execution_count": null,
   "metadata": {},
   "outputs": [],
   "source": []
  },
  {
   "cell_type": "code",
   "execution_count": null,
   "id": "e7fee5a9-ad6f-4c0d-895f-e657543a3e27",
   "metadata": {},
   "outputs": [],
   "source": [
    "class NumberState(TypedDict):\n",
    "    number: int\n",
    "    result: int"
   ]
  },
  {
   "cell_type": "markdown",
   "id": "f3cc3346-44a7-4593-a98d-fe30baef546d",
   "metadata": {},
   "source": [
    "## Node Functions and Router\n",
    "\n",
    "We've set up three processing nodes to handle different types of numbers:\n",
    "\n",
    "- **Positive numbers**: We square the number.\n",
    "- **Negative numbers**: We take the absolute value.\n",
    "- **Zero**: We leave it as zero.\n",
    "\n",
    "Additionally, we've built a router function that decides which path to follow based on the sign of the input number.\n"
   ]
  },
  {
   "cell_type": "code",
   "execution_count": null,
   "id": "d9b863b0-3ffc-4921-97c7-a7afe73f852a",
   "metadata": {},
   "outputs": [],
   "source": []
  },
  {
   "cell_type": "code",
   "execution_count": null,
   "metadata": {},
   "outputs": [],
   "source": []
  },
  {
   "cell_type": "markdown",
   "id": "918bbedb-67da-4cca-bbae-986cd5c0d035",
   "metadata": {},
   "source": [
    "## Building the Conditional Routing Graph\n",
    "\n",
    "1.  Start → Router node\n",
    "2.  Router evaluates the number's sign\n",
    "3.  Routes to the appropriate processing node\n",
    "4.  All branches lead to END\n"
   ]
  },
  {
   "cell_type": "code",
   "execution_count": null,
   "id": "63c0706d-0bfc-4793-adaa-a937fcbe4b52",
   "metadata": {},
   "outputs": [],
   "source": []
  },
  {
   "cell_type": "markdown",
   "id": "124d03d7-4ccb-44d8-a1ee-602c4eda6ff5",
   "metadata": {},
   "source": [
    "## Visualizing the Graph\n"
   ]
  },
  {
   "cell_type": "code",
   "execution_count": null,
   "id": "c75d32ec-9ea1-405e-9099-2d0426730272",
   "metadata": {},
   "outputs": [],
   "source": []
  },
  {
   "cell_type": "markdown",
   "id": "d44c7226-d12b-4bd0-9d67-05b24581bc37",
   "metadata": {},
   "source": [
    "## Testing the Conditional Routing Graph\n"
   ]
  },
  {
   "cell_type": "code",
   "execution_count": null,
   "id": "fda40dea-148d-4561-8db6-809d053e4b96",
   "metadata": {},
   "outputs": [],
   "source": []
  },
  {
   "cell_type": "markdown",
   "id": "a1c35e36-b7f4-4659-8e42-ccac372433a3",
   "metadata": {},
   "source": [
    "# Example 2: Text Message Processing Router\n",
    "\n",
    "Let's create another conditional routing example using text messages. This will demonstrate how to route based on text length and apply different processing strategies.\n"
   ]
  },
  {
   "cell_type": "markdown",
   "id": "87e18c94-29b4-4cdf-b71c-3e75354b49a9",
   "metadata": {},
   "source": [
    "## Text State Definition\n"
   ]
  },
  {
   "cell_type": "code",
   "execution_count": null,
   "id": "d461b6b3-fa2e-4e53-b563-75bc8055d3dd",
   "metadata": {},
   "outputs": [],
   "source": [
    "class MessageState(TypedDict):\n",
    "    message: str\n",
    "    processed_message: str\n",
    "    word_count: int"
   ]
  },
  {
   "cell_type": "markdown",
   "id": "db740f23-e7bd-4bf6-88d9-1259792d2f02",
   "metadata": {},
   "source": [
    "## Text Processing Nodes and Router\n",
    "\n",
    "We'll route messages based on their length and apply different processing:\n",
    "\n",
    "- **Short messages** (≤ 10 chars): Convert to uppercase and add exclamation\n",
    "- **Medium messages** (11-50 chars): Add a friendly greeting prefix\n",
    "- **Long messages** (> 50 chars): Summarize by counting words and truncating\n"
   ]
  },
  {
   "cell_type": "code",
   "execution_count": null,
   "id": "2b242e2e-a7a3-40d3-9f2c-9b476fcce469",
   "metadata": {},
   "outputs": [],
   "source": []
  },
  {
   "cell_type": "code",
   "execution_count": null,
   "metadata": {},
   "outputs": [],
   "source": []
  },
  {
   "cell_type": "markdown",
   "id": "5e08a443-9272-42a3-a1ed-7566e39d9915",
   "metadata": {},
   "source": [
    "## Building the Text Processing Graph\n"
   ]
  },
  {
   "cell_type": "code",
   "execution_count": null,
   "id": "16a69c17-da67-475c-a97f-116d553978be",
   "metadata": {},
   "outputs": [],
   "source": []
  },
  {
   "cell_type": "markdown",
   "id": "cf08a296-944f-45ad-9abf-161642a1ac48",
   "metadata": {},
   "source": [
    "## Visualizing the Text Processing Graph\n"
   ]
  },
  {
   "cell_type": "code",
   "execution_count": null,
   "id": "309db342-9b9c-46b1-8819-dcc935b6debd",
   "metadata": {},
   "outputs": [],
   "source": []
  },
  {
   "cell_type": "markdown",
   "id": "0118aa8a-ea22-46cf-ab18-6916bad6056a",
   "metadata": {},
   "source": [
    "## Testing the Text Processing Router\n"
   ]
  },
  {
   "cell_type": "code",
   "execution_count": null,
   "id": "7d170af5-ad64-4d12-a4a3-14bb2043388c",
   "metadata": {},
   "outputs": [],
   "source": []
  }
 ],
 "metadata": {
  "kernelspec": {
   "display_name": "py312",
   "language": "python",
   "name": "python3"
  },
  "language_info": {
   "codemirror_mode": {
    "name": "ipython",
    "version": 3
   },
   "file_extension": ".py",
   "mimetype": "text/x-python",
   "name": "python",
   "nbconvert_exporter": "python",
   "pygments_lexer": "ipython3",
   "version": "3.12.9"
  }
 },
 "nbformat": 4,
 "nbformat_minor": 2
}
