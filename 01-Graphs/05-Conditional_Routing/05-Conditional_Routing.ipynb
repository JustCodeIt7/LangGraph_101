{
 "cells": [
  {
   "cell_type": "markdown",
   "id": "bb0cc4aa-9f03-487c-807e-84bd6fe32028",
   "metadata": {},
   "source": [
    "# LangGraph 101: Conditional Routing\n"
   ]
  },
  {
   "cell_type": "markdown",
   "id": "22b4a97f-7225-47c1-9b74-08c812cc524c",
   "metadata": {},
   "source": [
    "## Imports and State Definition\n"
   ]
  },
  {
   "cell_type": "code",
   "execution_count": 39,
   "id": "0a4364b2-d42b-4c4b-a1bb-4597a356496f",
   "metadata": {},
   "outputs": [],
   "source": [
    "from typing import TypedDict\n",
    "from langgraph.graph import StateGraph, START, END\n",
    "from IPython.display import Image, display"
   ]
  },
  {
   "cell_type": "markdown",
   "id": "63cfdb1d-d25f-4d28-b583-69b62c348d69",
   "metadata": {},
   "source": [
    "## State Definition\n"
   ]
  },
  {
   "cell_type": "code",
   "execution_count": 29,
   "id": "e7fee5a9-ad6f-4c0d-895f-e657543a3e27",
   "metadata": {},
   "outputs": [],
   "source": [
    "class NumberState(TypedDict):\n",
    "    number: int\n",
    "    result: int"
   ]
  },
  {
   "cell_type": "markdown",
   "id": "f3cc3346-44a7-4593-a98d-fe30baef546d",
   "metadata": {},
   "source": [
    "## Node Functions and Router\n",
    "\n",
    "We've set up three processing nodes to handle different types of numbers:\n",
    "\n",
    "- **Positive numbers**: We square the number.\n",
    "- **Negative numbers**: We take the absolute value.\n",
    "- **Zero**: We leave it as zero.\n",
    "\n",
    "Additionally, we've built a router function that decides which path to follow based on the sign of the input number.\n"
   ]
  },
  {
   "cell_type": "code",
   "execution_count": null,
   "id": "d9b863b0-3ffc-4921-97c7-a7afe73f852a",
   "metadata": {},
   "outputs": [],
   "source": [
    "def square_node(state: NumberState) -> NumberState:\n",
    "    \"\"\"If positive: square the number\"\"\"\n",
    "    state[\"result\"] = state[\"number\"] ** 2\n",
    "    return state\n",
    "\n",
    "\n",
    "def abs_node(state: NumberState) -> NumberState:\n",
    "    \"\"\"If negative: take absolute value\"\"\"\n",
    "    state[\"result\"] = abs(state[\"number\"])\n",
    "    return state\n"
   ]
  },
  {
   "cell_type": "code",
   "execution_count": null,
   "metadata": {},
   "outputs": [],
   "source": [
    "def zero_node(state: NumberState) -> NumberState:\n",
    "    \"\"\"If zero: leave as zero\"\"\"\n",
    "    state[\"result\"] = 0\n",
    "    return state\n",
    "\n",
    "\n",
    "def route_by_sign(state: NumberState) -> str:\n",
    "    \"\"\"Choose next node based on the sign of the number\"\"\"\n",
    "    if state[\"number\"] > 0:\n",
    "        return \"positive_branch\"\n",
    "    elif state[\"number\"] < 0:\n",
    "        return \"negative_branch\"\n",
    "    else:\n",
    "        return \"zero_branch\""
   ]
  },
  {
   "cell_type": "markdown",
   "id": "918bbedb-67da-4cca-bbae-986cd5c0d035",
   "metadata": {},
   "source": [
    "## Building the Conditional Routing Graph\n",
    "\n",
    "1.  Start → Router node\n",
    "2.  Router evaluates the number's sign\n",
    "3.  Routes to the appropriate processing node\n",
    "4.  All branches lead to END\n"
   ]
  },
  {
   "cell_type": "code",
   "execution_count": 31,
   "id": "63c0706d-0bfc-4793-adaa-a937fcbe4b52",
   "metadata": {},
   "outputs": [],
   "source": [
    "# Build the graph\n",
    "graph = StateGraph(NumberState)\n",
    "\n",
    "# Add our transformation nodes\n",
    "graph.add_node(\"square_node\", square_node)\n",
    "graph.add_node(\"abs_node\", abs_node)\n",
    "graph.add_node(\"zero_node\", zero_node)\n",
    "\n",
    "# A passthrough router node\n",
    "graph.add_node(\"router\", lambda s: s)\n",
    "\n",
    "# Link start → router\n",
    "graph.add_edge(START, \"router\")\n",
    "\n",
    "# Conditional edges from router into each branch\n",
    "graph.add_conditional_edges(\n",
    "    \"router\",\n",
    "    route_by_sign,\n",
    "    {\"positive_branch\": \"square_node\", \"negative_branch\": \"abs_node\", \"zero_branch\": \"zero_node\"},\n",
    ")\n",
    "\n",
    "# All branches lead to END\n",
    "graph.add_edge(\"square_node\", END)\n",
    "graph.add_edge(\"abs_node\", END)\n",
    "graph.add_edge(\"zero_node\", END)\n",
    "\n",
    "# Compile into an executable app\n",
    "app = graph.compile()"
   ]
  },
  {
   "cell_type": "markdown",
   "id": "124d03d7-4ccb-44d8-a1ee-602c4eda6ff5",
   "metadata": {},
   "source": [
    "## Visualizing the Graph\n"
   ]
  },
  {
   "cell_type": "code",
   "execution_count": null,
   "id": "c75d32ec-9ea1-405e-9099-2d0426730272",
   "metadata": {},
   "outputs": [
    {
     "data": {
      "image/png": "[encoded data removed]",
      "text/plain": [
       "<IPython.core.display.Image object>"
      ]
     },
     "metadata": {},
     "output_type": "display_data"
    }
   ],
   "source": [
    "graph_img = Image(app.get_graph().draw_mermaid_png())\n",
    "display(graph_img)\n",
    "# save the graph to a file\n",
    "with open(\"../output/05-Conditional_Routing.png\", \"wb\") as f:\n",
    "    f.write(app.get_graph().draw_mermaid_png())\n",
    "# Mermaid is a popular diagramming syntax that can be rendered in many tools\n",
    "with open(\"../output/05-Conditional_Routing.mmd\", \"w\") as f:\n",
    "    f.write(app.get_graph().draw_mermaid())"
   ]
  },
  {
   "cell_type": "markdown",
   "id": "d44c7226-d12b-4bd0-9d67-05b24581bc37",
   "metadata": {},
   "source": [
    "## Testing the Conditional Routing Graph\n"
   ]
  },
  {
   "cell_type": "code",
   "execution_count": 33,
   "id": "fda40dea-148d-4561-8db6-809d053e4b96",
   "metadata": {},
   "outputs": [
    {
     "name": "stdout",
     "output_type": "stream",
     "text": [
      "Input:  5 → Result: 25\n",
      "Input: -3 → Result: 3\n",
      "Input:  0 → Result: 0\n"
     ]
    }
   ],
   "source": [
    "# Test it out:\n",
    "for test_number in [5, -3, 0]:\n",
    "    state: NumberState = {\"number\": test_number, \"result\": None}  # type: ignore\n",
    "    out = app.invoke(state)\n",
    "    print(f\"Input: {test_number:>2} → Result: {out['result']}\")"
   ]
  },
  {
   "cell_type": "markdown",
   "id": "a1c35e36-b7f4-4659-8e42-ccac372433a3",
   "metadata": {},
   "source": [
    "---\n",
    "\n",
    "# Example 2: Text Message Processing Router\n",
    "\n",
    "Let's create another conditional routing example using text messages. This will demonstrate how to route based on text length and apply different processing strategies.\n"
   ]
  },
  {
   "cell_type": "markdown",
   "id": "87e18c94-29b4-4cdf-b71c-3e75354b49a9",
   "metadata": {},
   "source": [
    "## Text State Definition\n"
   ]
  },
  {
   "cell_type": "code",
   "execution_count": 34,
   "id": "d461b6b3-fa2e-4e53-b563-75bc8055d3dd",
   "metadata": {},
   "outputs": [],
   "source": [
    "class MessageState(TypedDict):\n",
    "    message: str\n",
    "    processed_message: str\n",
    "    word_count: int"
   ]
  },
  {
   "cell_type": "markdown",
   "id": "db740f23-e7bd-4bf6-88d9-1259792d2f02",
   "metadata": {},
   "source": [
    "## Text Processing Nodes and Router\n",
    "\n",
    "We'll route messages based on their length and apply different processing:\n",
    "\n",
    "- **Short messages** (≤ 10 chars): Convert to uppercase and add exclamation\n",
    "- **Medium messages** (11-50 chars): Add a friendly greeting prefix\n",
    "- **Long messages** (> 50 chars): Summarize by counting words and truncating\n"
   ]
  },
  {
   "cell_type": "code",
   "execution_count": null,
   "id": "2b242e2e-a7a3-40d3-9f2c-9b476fcce469",
   "metadata": {},
   "outputs": [],
   "source": [
    "def short_message_node(state: MessageState) -> MessageState:\n",
    "    \"\"\"Process short messages: make them loud and exciting\"\"\"\n",
    "    state[\"processed_message\"] = state[\"message\"].upper() + \"!\"\n",
    "    state[\"word_count\"] = len(state[\"message\"].split())\n",
    "    return state\n",
    "\n",
    "\n",
    "def medium_message_node(state: MessageState) -> MessageState:\n",
    "    \"\"\"Process medium messages: add friendly greeting\"\"\"\n",
    "    state[\"processed_message\"] = f\"Hello! {state['message']}\"\n",
    "    state[\"word_count\"] = len(state[\"message\"].split())\n",
    "    return state\n"
   ]
  },
  {
   "cell_type": "code",
   "execution_count": null,
   "metadata": {},
   "outputs": [],
   "source": [
    "def long_message_node(state: MessageState) -> MessageState:\n",
    "    \"\"\"Process long messages: truncate and count words\"\"\"\n",
    "    words = state[\"message\"].split()\n",
    "    state[\"word_count\"] = len(words)\n",
    "    # Truncate to first 50 characters and add summary\n",
    "    truncated = state[\"message\"][:50] + \"...\" if len(state[\"message\"]) > 50 else state[\"message\"]\n",
    "    state[\"processed_message\"] = f\"{truncated} [{state['word_count']} words]\"\n",
    "    return state\n",
    "\n",
    "\n",
    "def route_by_length(state: MessageState) -> str:\n",
    "    \"\"\"Choose processing strategy based on message length\"\"\"\n",
    "    message_length = len(state[\"message\"])\n",
    "\n",
    "    if message_length <= 10:\n",
    "        return \"short_path\"\n",
    "    elif message_length <= 50:\n",
    "        return \"medium_path\"\n",
    "    else:\n",
    "        return \"long_path\""
   ]
  },
  {
   "cell_type": "markdown",
   "id": "5e08a443-9272-42a3-a1ed-7566e39d9915",
   "metadata": {},
   "source": [
    "## Building the Text Processing Graph\n"
   ]
  },
  {
   "cell_type": "code",
   "execution_count": 36,
   "id": "16a69c17-da67-475c-a97f-116d553978be",
   "metadata": {},
   "outputs": [],
   "source": [
    "# Build the text processing graph\n",
    "text_graph = StateGraph(MessageState)\n",
    "\n",
    "# Add our text processing nodes\n",
    "text_graph.add_node(\"short_processor\", short_message_node)\n",
    "text_graph.add_node(\"medium_processor\", medium_message_node)\n",
    "text_graph.add_node(\"long_processor\", long_message_node)\n",
    "\n",
    "# Router node (passthrough)\n",
    "text_graph.add_node(\"text_router\", lambda s: s)\n",
    "\n",
    "# Link start → router\n",
    "text_graph.add_edge(START, \"text_router\")\n",
    "\n",
    "# Conditional edges from router to processing nodes\n",
    "text_graph.add_conditional_edges(\n",
    "    \"text_router\",\n",
    "    route_by_length,\n",
    "    {\"short_path\": \"short_processor\", \"medium_path\": \"medium_processor\", \"long_path\": \"long_processor\"},\n",
    ")\n",
    "\n",
    "# All processors lead to END\n",
    "text_graph.add_edge(\"short_processor\", END)\n",
    "text_graph.add_edge(\"medium_processor\", END)\n",
    "text_graph.add_edge(\"long_processor\", END)\n",
    "\n",
    "# Compile the text processing app\n",
    "text_app = text_graph.compile()"
   ]
  },
  {
   "cell_type": "markdown",
   "id": "cf08a296-944f-45ad-9abf-161642a1ac48",
   "metadata": {},
   "source": [
    "## Visualizing the Text Processing Graph\n"
   ]
  },
  {
   "cell_type": "code",
   "execution_count": 37,
   "id": "309db342-9b9c-46b1-8819-dcc935b6debd",
   "metadata": {},
   "outputs": [
    {
     "data": {
      "image/png": "[encoded data removed]",
      "text/plain": [
       "<IPython.core.display.Image object>"
      ]
     },
     "metadata": {},
     "output_type": "display_data"
    }
   ],
   "source": [
    "# Visualize the text processing graph\n",
    "text_graph_img = Image(text_app.get_graph().draw_mermaid_png())\n",
    "display(text_graph_img)\n",
    "\n",
    "# Save the text processing graph\n",
    "with open(\"../output/05-Text_Routing.png\", \"wb\") as f:\n",
    "    f.write(text_app.get_graph().draw_mermaid_png())\n",
    "\n",
    "with open(\"../output/05-Text_Routing.mmd\", \"w\") as f:\n",
    "    f.write(text_app.get_graph().draw_mermaid())"
   ]
  },
  {
   "cell_type": "markdown",
   "id": "0118aa8a-ea22-46cf-ab18-6916bad6056a",
   "metadata": {},
   "source": [
    "## Testing the Text Processing Router\n"
   ]
  },
  {
   "cell_type": "code",
   "execution_count": 38,
   "id": "7d170af5-ad64-4d12-a4a3-14bb2043388c",
   "metadata": {},
   "outputs": [
    {
     "name": "stdout",
     "output_type": "stream",
     "text": [
      "Text Processing Results:\n",
      "==================================================\n",
      "Original (3 chars): Hi!\n",
      "Processed: HI!!\n",
      "Word count: 1\n",
      "------------------------------\n",
      "Original (24 chars): How are you doing today?\n",
      "Processed: Hello! How are you doing today?\n",
      "Word count: 5\n",
      "------------------------------\n",
      "Original (133 chars): This is a really long message that should definitely be truncated because it contains way too much information for a simple greeting.\n",
      "Processed: This is a really long message that should definite... [22 words]\n",
      "Word count: 22\n",
      "------------------------------\n"
     ]
    }
   ],
   "source": [
    "# Test different message lengths\n",
    "test_messages = [\n",
    "    \"Hi!\",  # Short (3 chars)\n",
    "    \"How are you doing today?\",  # Medium (25 chars)\n",
    "    \"This is a really long message that should definitely be truncated because it contains way too much information for a simple greeting.\",  # Long (134 chars)\n",
    "]\n",
    "\n",
    "print(\"Text Processing Results:\")\n",
    "print(\"=\" * 50)\n",
    "\n",
    "for msg in test_messages:\n",
    "    state: MessageState = {\"message\": msg, \"processed_message\": \"\", \"word_count\": 0}\n",
    "    result = text_app.invoke(state)\n",
    "\n",
    "    print(f\"Original ({len(msg)} chars): {msg}\")\n",
    "    print(f\"Processed: {result['processed_message']}\")\n",
    "    print(f\"Word count: {result['word_count']}\")\n",
    "    print(\"-\" * 30)"
   ]
  }
 ],
 "metadata": {
  "language_info": {
   "codemirror_mode": {
    "name": "ipython",
    "version": 3
   },
   "file_extension": ".py",
   "mimetype": "text/x-python",
   "name": "python",
   "nbconvert_exporter": "python",
   "pygments_lexer": "ipython3",
   "version": 3
  }
 },
 "nbformat": 4,
 "nbformat_minor": 2
}
