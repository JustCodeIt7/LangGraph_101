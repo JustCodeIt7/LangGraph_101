{
 "cells": [
  {
   "cell_type": "markdown",
   "id": "700993ca-2e68-48f9-8ec5-f4f287e5d14f",
   "metadata": {},
   "source": [
    "# LangGraph 101: Conditional Routing\n",
    "\n",
    "## Imports and State Definition\n"
   ]
  },
  {
   "cell_type": "code",
   "execution_count": null,
   "id": "f8431749-b8fc-4977-9b66-2d6548861da2",
   "metadata": {},
   "outputs": [],
   "source": [
    "# ~ Imports\n",
    "from typing import TypedDict\n",
    "from langgraph.graph import StateGraph, START, END\n",
    "from IPython.display import Image, display\n",
    "from rich import print"
   ]
  },
  {
   "cell_type": "markdown",
   "id": "fac52b61-936b-470f-a46c-c921ae98ede7",
   "metadata": {},
   "source": [
    "## State Definition\n"
   ]
  },
  {
   "cell_type": "code",
   "execution_count": null,
   "id": "384f73d6-9200-4fa5-af80-aa97d4f0cb2f",
   "metadata": {},
   "outputs": [],
   "source": [
    "class NumberState(TypedDict):\n",
    "    number: int\n",
    "    result: int"
   ]
  }
 ],
 "metadata": {
  "kernelspec": {
   "display_name": "py312",
   "language": "python",
   "name": "python3"
  },
  "language_info": {
   "name": "python",
   "version": "3.12.9"
  }
 },
 "nbformat": 4,
 "nbformat_minor": 5
}
