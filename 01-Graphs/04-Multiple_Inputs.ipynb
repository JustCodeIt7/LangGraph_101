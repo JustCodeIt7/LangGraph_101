{
 "cells": [
  {
   "cell_type": "markdown",
   "metadata": {},
   "source": [
    "# LangGraph: Multiple Inputs"
   ]
  },
  {
   "cell_type": "markdown",
   "metadata": {},
   "source": [
    "# LangGraph 101: Handling Multiple Inputs\n"
   ]
  },
  {
   "cell_type": "code",
   "execution_count": 2,
   "metadata": {},
   "outputs": [],
   "source": [
    "from typing import TypedDict, List\n",
    "from langgraph.graph import StateGraph, END\n",
    "\n",
    "# Define the shape of our state\n",
    "class AgentState(TypedDict):\n",
    "    scores: List[float]\n",
    "    multiplier: float\n",
    "    scaled_scores: List[float]\n",
    "    summary: str\n"
   ]
  },
  {
   "cell_type": "markdown",
   "metadata": {},
   "source": [
    "### Defining the State\n"
   ]
  },
  {
   "cell_type": "markdown",
   "metadata": {},
   "source": [
    "## Node Definitions"
   ]
  },
  {
   "cell_type": "code",
   "execution_count": 3,
   "metadata": {},
   "outputs": [],
   "source": [
    "# Node 1: Scale each score by the multiplier\n",
    "def scale_scores(state: AgentState) -> AgentState:\n",
    "    original = state[\"scores\"]\n",
    "    factor = state[\"multiplier\"]\n",
    "    state[\"scaled_scores\"] = [s * factor for s in original]\n",
    "    print(f\"Scaled {original} by {factor} → {state['scaled_scores']}\")\n",
    "    return state\n",
    "\n",
    "# Node 2: Generate a summary message\n",
    "def make_summary(state: AgentState) -> AgentState:\n",
    "    scaled = state[\"scaled_scores\"]\n",
    "    avg = sum(scaled) / len(scaled) if scaled else 0\n",
    "    state[\"summary\"] = (\n",
    "        f\"With multiplier {state['multiplier']}, \"\n",
    "        f\"your scores become {scaled} and the average is {avg:.2f}.\"\n",
    "    )\n",
    "    print(state[\"summary\"])\n",
    "    return state"
   ]
  },
  {
   "cell_type": "markdown",
   "metadata": {},
   "source": [
    "### Node Functions\n",
    "\n",
    "We define two nodes:\n",
    "- `scale_scores`: Scales each score by the multiplier.\n",
    "- `make_summary`: Generates a summary message based on the scaled scores.\n"
   ]
  },
  {
   "cell_type": "markdown",
   "metadata": {},
   "source": [
    "## Graph Construction"
   ]
  },
  {
   "cell_type": "code",
   "execution_count": 4,
   "metadata": {},
   "outputs": [],
   "source": [
    "# Build the graph\n",
    "graph = StateGraph(AgentState)\n",
    "graph.add_node(\"scale\", scale_scores)\n",
    "graph.add_node(\"summarize\", make_summary)\n",
    "\n",
    "# Wire up the flow: after \"scale\" go to \"summarize\", then finish\n",
    "graph.add_edge(\"scale\", \"summarize\")\n",
    "graph.add_edge(\"summarize\", END)\n",
    "\n",
    "graph.set_entry_point(\"scale\")\n",
    "graph.set_finish_point(\"summarize\")\n",
    "\n",
    "# Compile and run\n",
    "app = graph.compile()\n"
   ]
  },
  {
   "cell_type": "markdown",
   "metadata": {},
   "source": [
    "### Building the Graph\n"
   ]
  },
  {
   "cell_type": "markdown",
   "metadata": {},
   "source": [
    "## Graph Visualization"
   ]
  },
  {
   "cell_type": "code",
   "execution_count": 5,
   "metadata": {},
   "outputs": [
    {
     "data": {
      "image/png": "[encoded data removed]",
      "text/plain": [
       "<IPython.core.display.Image object>"
      ]
     },
     "metadata": {},
     "output_type": "display_data"
    }
   ],
   "source": [
    "from IPython.display import Image, display\n",
    "display(Image(app.get_graph().draw_mermaid_png()))"
   ]
  },
  {
   "cell_type": "markdown",
   "metadata": {},
   "source": [
    "### Visualizing the Graph\n"
   ]
  },
  {
   "cell_type": "markdown",
   "metadata": {},
   "source": [
    "## Testing the Summary Graph\n"
   ]
  },
  {
   "cell_type": "code",
   "execution_count": 6,
   "metadata": {},
   "outputs": [
    {
     "name": "stdout",
     "output_type": "stream",
     "text": [
      "Scaled [10, 20, 30] by 1.5 → [15.0, 30.0, 45.0]\n",
      "With multiplier 1.5, your scores become [15.0, 30.0, 45.0] and the average is 30.00.\n",
      "\n",
      "Final summary: With multiplier 1.5, your scores become [15.0, 30.0, 45.0] and the average is 30.00.\n"
     ]
    }
   ],
   "source": [
    "result = app.invoke({\n",
    "    \"scores\": [10, 20, 30],\n",
    "    \"multiplier\": 1.5\n",
    "})\n",
    "\n",
    "print(\"\\nFinal summary:\", result[\"summary\"])"
   ]
  },
  {
   "cell_type": "markdown",
   "metadata": {},
   "source": [
    "### Running the Summary Graph\n"
   ]
  },
  {
   "cell_type": "markdown",
   "metadata": {},
   "source": [
    "## Grade Calculation"
   ]
  },
  {
   "cell_type": "code",
   "execution_count": 8,
   "metadata": {},
   "outputs": [],
   "source": [
    "class StudentState(TypedDict):\n",
    "    scores: List[float]\n",
    "    student_name: str\n",
    "    course_name: str\n",
    "    grade_report: str\n"
   ]
  },
  {
   "cell_type": "markdown",
   "metadata": {},
   "source": [
    "## Grade Calculation Example"
   ]
  },
  {
   "cell_type": "code",
   "execution_count": 9,
   "metadata": {},
   "outputs": [],
   "source": [
    "def calculate_grade(state: StudentState) -> StudentState:\n",
    "    \"\"\"Calculate final grade and generate a report from multiple inputs\"\"\"\n",
    "    print(f\"Processing grades for: {state}\")\n",
    "    \n",
    "    # Calculate average score\n",
    "    average_score = sum(state[\"scores\"]) / len(state[\"scores\"])\n",
    "    \n",
    "    # Determine letter grade\n",
    "    if average_score >= 90:\n",
    "        letter_grade = \"A\"\n",
    "    elif average_score >= 80:\n",
    "        letter_grade = \"B\"\n",
    "    elif average_score >= 70:\n",
    "        letter_grade = \"C\"\n",
    "    elif average_score >= 60:\n",
    "        letter_grade = \"D\"\n",
    "    else:\n",
    "        letter_grade = \"F\"\n",
    "    \n",
    "    # Generate comprehensive report\n",
    "    state[\"grade_report\"] = (\n",
    "        f\"Student: {state['student_name']}\\n\"\n",
    "        f\"Course: {state['course_name']}\\n\"\n",
    "        f\"Individual Scores: {', '.join(map(str, state['scores']))}\\n\"\n",
    "        f\"Average Score: {average_score:.2f}%\\n\"\n",
    "        f\"Final Grade: {letter_grade}\"\n",
    "    )\n",
    "    \n",
    "    print(f\"Completed processing: {state['grade_report']}\")\n",
    "    return state\n"
   ]
  },
  {
   "cell_type": "markdown",
   "metadata": {},
   "source": [
    "### Defining Student State and Grade Calculation Node\n",
    "\n",
    "We define a new state for student data and a node to calculate the final grade and generate a report.\n"
   ]
  },
  {
   "cell_type": "code",
   "execution_count": 10,
   "metadata": {},
   "outputs": [],
   "source": [
    "graph = StateGraph(StudentState)\n",
    "\n",
    "graph.add_node(\"grade_calculator\", calculate_grade)\n",
    "graph.set_entry_point(\"grade_calculator\")  # Set the starting node\n",
    "graph.set_finish_point(\"grade_calculator\")  # Set the ending node\n",
    "\n",
    "app = graph.compile()  # Compiling the graph\n",
    "\n"
   ]
  },
  {
   "cell_type": "markdown",
   "metadata": {},
   "source": [
    "### Building the Grade Calculation Graph\n",
    "\n",
    "We construct and compile the graph for the grade calculation workflow.\n"
   ]
  },
  {
   "cell_type": "code",
   "execution_count": 13,
   "metadata": {},
   "outputs": [
    {
     "data": {
      "image/png": "[encoded data removed]",
      "text/plain": [
       "<IPython.core.display.Image object>"
      ]
     },
     "metadata": {},
     "output_type": "display_data"
    }
   ],
   "source": [
    "from IPython.display import Image, display\n",
    "display(Image(app.get_graph().draw_mermaid_png()))\n",
    "\n"
   ]
  },
  {
   "cell_type": "markdown",
   "metadata": {},
   "source": [
    "### Visualizing the Grade Calculation Graph"
   ]
  },
  {
   "cell_type": "code",
   "execution_count": 12,
   "metadata": {},
   "outputs": [
    {
     "name": "stdout",
     "output_type": "stream",
     "text": [
      "Processing grades for: {'scores': [88.5, 92.0, 85.5, 94.0, 87.5], 'student_name': 'Alice Johnson', 'course_name': 'Python Programming'}\n",
      "Completed processing: Student: Alice Johnson\n",
      "Course: Python Programming\n",
      "Individual Scores: 88.5, 92.0, 85.5, 94.0, 87.5\n",
      "Average Score: 89.50%\n",
      "Final Grade: B\n",
      "Student: Alice Johnson\n",
      "Course: Python Programming\n",
      "Individual Scores: 88.5, 92.0, 85.5, 94.0, 87.5\n",
      "Average Score: 89.50%\n",
      "Final Grade: B\n"
     ]
    }
   ],
   "source": [
    "# Test with sample student data\n",
    "result = app.invoke({\n",
    "    \"scores\": [88.5, 92.0, 85.5, 94.0, 87.5], \n",
    "    \"student_name\": \"Alice Johnson\",\n",
    "    \"course_name\": \"Python Programming\"\n",
    "})\n",
    "\n",
    "print(result[\"grade_report\"])\n"
   ]
  }
 ],
 "metadata": {
  "kernelspec": {
   "display_name": "py312",
   "language": "python",
   "name": "python3"
  },
  "language_info": {
   "codemirror_mode": {
    "name": "ipython",
    "version": 3
   },
   "file_extension": ".py",
   "mimetype": "text/x-python",
   "name": "python",
   "nbconvert_exporter": "python",
   "pygments_lexer": "ipython3",
   "version": "3.12.9"
  }
 },
 "nbformat": 4,
 "nbformat_minor": 4
}
