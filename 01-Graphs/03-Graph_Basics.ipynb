{
 "cells": [
  {
   "cell_type": "markdown",
   "metadata": {},
   "source": [
    "# LangGraph Tutorial: Building Real-World Applications\n",
    "\n",
    "## Overview\n",
    "This tutorial covers building practical applications with LangGraph, including:\n",
    "1. 🍽️ Recipe Planner Graph\n",
    "2. 💪 Workout Recommendation Agent\n",
    "3. 📊 Data Analyzer Graph\n",
    "4. 🌤️ Weather Pattern Analyzer\n",
    "\n",
    "---"
   ]
  },
  {
   "cell_type": "markdown",
   "metadata": {},
   "source": [
    "## Setup and Imports"
   ]
  },
  {
   "cell_type": "code",
   "execution_count": 1,
   "metadata": {},
   "outputs": [
    {
     "name": "stdout",
     "output_type": "stream",
     "text": [
      "✅ All imports successful!\n",
      "🚀 Ready to build LangGraph applications!\n"
     ]
    }
   ],
   "source": [
    "# Install required packages (run only if needed)\n",
    "# !pip install langgraph typing-extensions\n",
    "\n",
    "# Import required modules\n",
    "from typing import TypedDict, List\n",
    "from langgraph.graph import StateGraph\n",
    "from IPython.display import Image, display\n",
    "import warnings\n",
    "warnings.filterwarnings('ignore')\n",
    "\n",
    "print(\"✅ All imports successful!\")\n",
    "print(\"🚀 Ready to build LangGraph applications!\")"
   ]
  },
  {
   "cell_type": "markdown",
   "metadata": {},
   "source": [
    "# Part 1: Recipe Planner Graph\n",
    "\n",
    "## Objectives:\n",
    "1. Define an **AgentState** (TypedDict with one `ingredient: str` field)\n",
    "2. Create a single **node** (`recipe_planner_node`) that suggests recipes based on ingredients\n",
    "3. Build, compile, and invoke the graph\n",
    "\n",
    "---"
   ]
  },
  {
   "cell_type": "markdown",
   "metadata": {},
   "source": [
    "## Step 1: Define the Agent State Schema\n",
    "\n",
    "The state schema defines the structure of data that flows through our graph."
   ]
  },
  {
   "cell_type": "code",
   "execution_count": 2,
   "metadata": {},
   "outputs": [
    {
     "name": "stdout",
     "output_type": "stream",
     "text": [
      "✅ RecipeState defined with 'ingredient' field\n",
      "📋 State structure:\n",
      "   - ingredient: str (main ingredient for recipe suggestion)\n"
     ]
    }
   ],
   "source": [
    "class RecipeState(TypedDict):\n",
    "    ingredient: str\n",
    "\n",
    "print(\"✅ RecipeState defined with 'ingredient' field\")\n",
    "print(\"📋 State structure:\")\n",
    "print(\"   - ingredient: str (main ingredient for recipe suggestion)\")"
   ]
  },
  {
   "cell_type": "markdown",
   "metadata": {},
   "source": [
    "## Step 2: Define the Recipe Planning Node\n",
    "\n",
    "Nodes are functions that process and transform the state data."
   ]
  },
  {
   "cell_type": "code",
   "execution_count": 3,
   "metadata": {},
   "outputs": [
    {
     "name": "stdout",
     "output_type": "stream",
     "text": [
      "✅ Recipe planner node defined!\n"
     ]
    }
   ],
   "source": [
    "def recipe_planner_node(state: RecipeState) -> RecipeState:\n",
    "    \"\"\"\n",
    "    Simple node that suggests a recipe based on a main ingredient.\n",
    "    Takes an ingredient and returns a recipe suggestion.\n",
    "    \"\"\"\n",
    "    print(f\"📥 Input to recipe_planner_node: {state}\")\n",
    "    \n",
    "    ingredient = state[\"ingredient\"]\n",
    "    \n",
    "    # Create recipe suggestions based on ingredient\n",
    "    recipes = {\n",
    "        \"chicken\": \"Herb-Roasted Chicken with garlic and rosemary\",\n",
    "        \"pasta\": \"Creamy Carbonara with parmesan and bacon\",\n",
    "        \"tomatoes\": \"Fresh Caprese Salad with mozzarella and basil\",\n",
    "        \"rice\": \"Spanish Paella with saffron and seafood\",\n",
    "        \"potatoes\": \"Crispy Garlic Roasted Potatoes with herbs\"\n",
    "    }\n",
    "    \n",
    "    recipe = recipes.get(ingredient.lower(), f\"Creative {ingredient} stir-fry with vegetables\")\n",
    "    state[\"ingredient\"] = f\"Recipe suggestion: {recipe}\"\n",
    "    \n",
    "    print(f\"📤 Output from recipe_planner_node: {state}\")\n",
    "    return state\n",
    "\n",
    "print(\"✅ Recipe planner node defined!\")"
   ]
  },
  {
   "cell_type": "markdown",
   "metadata": {},
   "source": [
    "## Step 3: Build and Compile the Graph"
   ]
  },
  {
   "cell_type": "code",
   "execution_count": 4,
   "metadata": {},
   "outputs": [
    {
     "name": "stdout",
     "output_type": "stream",
     "text": [
      "\n",
      "🔧 Building Recipe Planner Graph...\n",
      "✅ Graph compiled successfully!\n",
      "📊 Graph visualization:\n"
     ]
    },
    {
     "data": {
      "image/png": "[encoded data removed]",
      "text/plain": [
       "<IPython.core.display.Image object>"
      ]
     },
     "metadata": {},
     "output_type": "display_data"
    }
   ],
   "source": [
    "def build_recipe_graph():\n",
    "    \"\"\"Build and compile the Recipe Planner graph\"\"\"\n",
    "    print(\"\\n🔧 Building Recipe Planner Graph...\")\n",
    "    \n",
    "    # Create the graph with our state schema\n",
    "    graph = StateGraph(state_schema=RecipeState)\n",
    "    \n",
    "    # Add our recipe planning node\n",
    "    graph.add_node(\"planner\", recipe_planner_node)\n",
    "    \n",
    "    # Set entry and finish points\n",
    "    graph.set_entry_point(\"planner\")\n",
    "    graph.set_finish_point(\"planner\")\n",
    "    \n",
    "    # Compile the graph\n",
    "    app = graph.compile()\n",
    "    \n",
    "    print(\"✅ Graph compiled successfully!\")\n",
    "    print(\"📊 Graph visualization:\")\n",
    "    \n",
    "    # Display graph structure\n",
    "    try:\n",
    "        display(Image(app.get_graph().draw_mermaid_png()))\n",
    "    except Exception as e:\n",
    "        print(f\"Note: Graph visualization not available ({e})\")\n",
    "    \n",
    "    return app\n",
    "\n",
    "# Build the graph\n",
    "recipe_app = build_recipe_graph()"
   ]
  },
  {
   "cell_type": "markdown",
   "metadata": {},
   "source": [
    "## Step 4: Test the Recipe Planner"
   ]
  },
  {
   "cell_type": "code",
   "execution_count": 5,
   "metadata": {},
   "outputs": [
    {
     "name": "stdout",
     "output_type": "stream",
     "text": [
      "🚀 Testing Recipe Planner Graph...\n",
      "\n",
      "--- Planning recipe for: chicken ---\n",
      "📥 Input to recipe_planner_node: {'ingredient': 'chicken'}\n",
      "📤 Output from recipe_planner_node: {'ingredient': 'Recipe suggestion: Herb-Roasted Chicken with garlic and rosemary'}\n",
      "🍽️ Recipe suggestion: Herb-Roasted Chicken with garlic and rosemary\n",
      "\n",
      "--- Planning recipe for: pasta ---\n",
      "📥 Input to recipe_planner_node: {'ingredient': 'pasta'}\n",
      "📤 Output from recipe_planner_node: {'ingredient': 'Recipe suggestion: Creamy Carbonara with parmesan and bacon'}\n",
      "🍽️ Recipe suggestion: Creamy Carbonara with parmesan and bacon\n",
      "\n",
      "--- Planning recipe for: broccoli ---\n",
      "📥 Input to recipe_planner_node: {'ingredient': 'broccoli'}\n",
      "📤 Output from recipe_planner_node: {'ingredient': 'Recipe suggestion: Creative broccoli stir-fry with vegetables'}\n",
      "🍽️ Recipe suggestion: Creative broccoli stir-fry with vegetables\n",
      "\n",
      "--- Planning recipe for: salmon ---\n",
      "📥 Input to recipe_planner_node: {'ingredient': 'salmon'}\n",
      "📤 Output from recipe_planner_node: {'ingredient': 'Recipe suggestion: Creative salmon stir-fry with vegetables'}\n",
      "🍽️ Recipe suggestion: Creative salmon stir-fry with vegetables\n"
     ]
    }
   ],
   "source": [
    "def test_recipe_planner():\n",
    "    print(\"🚀 Testing Recipe Planner Graph...\")\n",
    "    \n",
    "    # Test with different ingredients\n",
    "    test_ingredients = [\"chicken\", \"pasta\", \"broccoli\", \"salmon\"]\n",
    "    \n",
    "    for ingredient in test_ingredients:\n",
    "        print(f\"\\n--- Planning recipe for: {ingredient} ---\")\n",
    "        result = recipe_app.invoke({\"ingredient\": ingredient})\n",
    "        print(f\"🍽️ {result['ingredient']}\")\n",
    "\n",
    "# Run the test\n",
    "test_recipe_planner()"
   ]
  },
  {
   "cell_type": "markdown",
   "metadata": {},
   "source": [
    "---\n",
    "\n",
    "# Exercise 1: Workout Recommendation Agent\n",
    "\n",
    "## Challenge:\n",
    "Build a workout recommendation agent that:\n",
    "- Input: activity type (e.g., \"cardio\", \"strength\")\n",
    "- Output: \"Workout plan: [specific workout routine]\"\n",
    "- Reuse the same state structure but for workout activities\n",
    "\n",
    "---"
   ]
  },
  {
   "cell_type": "markdown",
   "metadata": {},
   "source": [
    "## Exercise 1 Solution"
   ]
  },
  {
   "cell_type": "code",
   "execution_count": 6,
   "metadata": {},
   "outputs": [
    {
     "name": "stdout",
     "output_type": "stream",
     "text": [
      "✅ Workout recommender node defined!\n"
     ]
    }
   ],
   "source": [
    "def workout_recommender_node(state: RecipeState) -> RecipeState:\n",
    "    \"\"\"\n",
    "    Node that creates workout recommendations based on activity type.\n",
    "    \"\"\"\n",
    "    print(f\"📥 Input to workout_recommender_node: {state}\")\n",
    "    \n",
    "    # Get the activity type from the current ingredient field (reusing structure)\n",
    "    activity = state[\"ingredient\"]\n",
    "    \n",
    "    # Create workout recommendations\n",
    "    workouts = {\n",
    "        \"cardio\": \"30-minute HIIT workout with burpees, jumping jacks, and mountain climbers\",\n",
    "        \"strength\": \"Full-body strength training with squats, deadlifts, and bench press\",\n",
    "        \"yoga\": \"Flow yoga session focusing on flexibility and mindfulness\",\n",
    "        \"running\": \"5K interval training with 1-minute sprints and 2-minute recovery\",\n",
    "        \"swimming\": \"Lap swimming workout: 10x100m freestyle with 30-second rest\"\n",
    "    }\n",
    "    \n",
    "    workout = workouts.get(activity.lower(), f\"Beginner-friendly {activity} workout routine\")\n",
    "    state[\"ingredient\"] = f\"Workout plan: {workout}\"\n",
    "    \n",
    "    print(f\"📤 Output from workout_recommender_node: {state}\")\n",
    "    return state\n",
    "\n",
    "print(\"✅ Workout recommender node defined!\")"
   ]
  },
  {
   "cell_type": "code",
   "execution_count": 7,
   "metadata": {},
   "outputs": [
    {
     "name": "stdout",
     "output_type": "stream",
     "text": [
      "\n",
      "🔧 Building Workout Recommendation Graph...\n",
      "✅ Workout Graph compiled!\n"
     ]
    },
    {
     "data": {
      "image/png": "[encoded data removed]",
      "text/plain": [
       "<IPython.core.display.Image object>"
      ]
     },
     "metadata": {},
     "output_type": "display_data"
    }
   ],
   "source": [
    "def build_workout_graph():\n",
    "    \"\"\"Build the workout recommendation graph for Exercise 1\"\"\"\n",
    "    print(\"\\n🔧 Building Workout Recommendation Graph...\")\n",
    "    \n",
    "    graph = StateGraph(state_schema=RecipeState)\n",
    "    graph.add_node(\"trainer\", workout_recommender_node)\n",
    "    graph.set_entry_point(\"trainer\")\n",
    "    graph.set_finish_point(\"trainer\")\n",
    "    \n",
    "    app = graph.compile()\n",
    "    print(\"✅ Workout Graph compiled!\")\n",
    "    \n",
    "    # Display graph visualization\n",
    "    try:\n",
    "        display(Image(app.get_graph().draw_mermaid_png()))\n",
    "    except Exception as e:\n",
    "        print(f\"Note: Graph visualization not available ({e})\")\n",
    "    \n",
    "    return app\n",
    "\n",
    "# Build and test the workout graph\n",
    "workout_app = build_workout_graph()"
   ]
  },
  {
   "cell_type": "code",
   "execution_count": 8,
   "metadata": {},
   "outputs": [
    {
     "name": "stdout",
     "output_type": "stream",
     "text": [
      "\n",
      "🚀 Testing Workout Recommendation Agent...\n",
      "\n",
      "--- Workout for: cardio ---\n",
      "📥 Input to workout_recommender_node: {'ingredient': 'cardio'}\n",
      "📤 Output from workout_recommender_node: {'ingredient': 'Workout plan: 30-minute HIIT workout with burpees, jumping jacks, and mountain climbers'}\n",
      "💪 Workout plan: 30-minute HIIT workout with burpees, jumping jacks, and mountain climbers\n",
      "\n",
      "--- Workout for: strength ---\n",
      "📥 Input to workout_recommender_node: {'ingredient': 'strength'}\n",
      "📤 Output from workout_recommender_node: {'ingredient': 'Workout plan: Full-body strength training with squats, deadlifts, and bench press'}\n",
      "💪 Workout plan: Full-body strength training with squats, deadlifts, and bench press\n",
      "\n",
      "--- Workout for: yoga ---\n",
      "📥 Input to workout_recommender_node: {'ingredient': 'yoga'}\n",
      "📤 Output from workout_recommender_node: {'ingredient': 'Workout plan: Flow yoga session focusing on flexibility and mindfulness'}\n",
      "💪 Workout plan: Flow yoga session focusing on flexibility and mindfulness\n",
      "\n",
      "--- Workout for: dancing ---\n",
      "📥 Input to workout_recommender_node: {'ingredient': 'dancing'}\n",
      "📤 Output from workout_recommender_node: {'ingredient': 'Workout plan: Beginner-friendly dancing workout routine'}\n",
      "💪 Workout plan: Beginner-friendly dancing workout routine\n"
     ]
    }
   ],
   "source": [
    "def test_workout_agent():\n",
    "    print(\"\\n🚀 Testing Workout Recommendation Agent...\")\n",
    "    \n",
    "    test_activities = [\"cardio\", \"strength\", \"yoga\", \"dancing\"]\n",
    "    \n",
    "    for activity in test_activities:\n",
    "        print(f\"\\n--- Workout for: {activity} ---\")\n",
    "        result = workout_app.invoke({\"ingredient\": activity})\n",
    "        print(f\"💪 {result['ingredient']}\")\n",
    "\n",
    "# Run Exercise 1\n",
    "test_workout_agent()"
   ]
  },
  {
   "cell_type": "markdown",
   "metadata": {},
   "source": [
    "---\n",
    "\n",
    "# Part 2: Data Analyzer Graph\n",
    "\n",
    "## Objectives:\n",
    "- Extend **AgentState** with `numbers: List[int]`, `dataset_name: str`, `analysis_result: str`\n",
    "- Create a node (`analyze_data_node`) that processes numerical data and generates insights\n",
    "- Build/invoke the graph with structured inputs\n",
    "\n",
    "---"
   ]
  },
  {
   "cell_type": "markdown",
   "metadata": {},
   "source": [
    "## Step 1: Define Extended Agent State Schema"
   ]
  },
  {
   "cell_type": "code",
   "execution_count": 9,
   "metadata": {},
   "outputs": [
    {
     "name": "stdout",
     "output_type": "stream",
     "text": [
      "✅ DataAnalyzerState defined with multiple fields:\n",
      "   - numbers: List[int] (numerical data to analyze)\n",
      "   - dataset_name: str (descriptive name for the dataset)\n",
      "   - analysis_result: str (output analysis report)\n"
     ]
    }
   ],
   "source": [
    "class DataAnalyzerState(TypedDict):\n",
    "    numbers: List[int]\n",
    "    dataset_name: str\n",
    "    analysis_result: str\n",
    "\n",
    "print(\"✅ DataAnalyzerState defined with multiple fields:\")\n",
    "print(\"   - numbers: List[int] (numerical data to analyze)\")\n",
    "print(\"   - dataset_name: str (descriptive name for the dataset)\")\n",
    "print(\"   - analysis_result: str (output analysis report)\")"
   ]
  },
  {
   "cell_type": "markdown",
   "metadata": {},
   "source": [
    "## Step 2: Define the Data Analysis Node\n",
    "\n",
    "This node will perform statistical analysis on numerical data."
   ]
  },
  {
   "cell_type": "code",
   "execution_count": 10,
   "metadata": {},
   "outputs": [
    {
     "name": "stdout",
     "output_type": "stream",
     "text": [
      "✅ Data analysis node defined!\n"
     ]
    }
   ],
   "source": [
    "def analyze_data_node(state: DataAnalyzerState) -> DataAnalyzerState:\n",
    "    \"\"\"\n",
    "    Analyzes a dataset and provides statistical insights.\n",
    "    Takes a list of numbers and generates comprehensive analysis.\n",
    "    \"\"\"\n",
    "    print(f\"📥 Input to analyze_data_node: {state}\")\n",
    "    \n",
    "    numbers = state[\"numbers\"]\n",
    "    dataset_name = state[\"dataset_name\"]\n",
    "    \n",
    "    # Perform statistical analysis\n",
    "    total_count = len(numbers)\n",
    "    average = sum(numbers) / total_count\n",
    "    maximum = max(numbers)\n",
    "    minimum = min(numbers)\n",
    "    range_val = maximum - minimum\n",
    "    \n",
    "    # Create comprehensive analysis report\n",
    "    state[\"analysis_result\"] = (\n",
    "        f\"Analysis of {dataset_name} dataset:\\n\"\n",
    "        f\"• Count: {total_count} data points\\n\"\n",
    "        f\"• Average: {average:.2f}\\n\"\n",
    "        f\"• Range: {minimum} to {maximum} (span: {range_val})\\n\"\n",
    "        f\"• Trend: {'Increasing' if numbers[-1] > numbers[0] else 'Decreasing'}\"\n",
    "    )\n",
    "    \n",
    "    print(f\"📤 Output from analyze_data_node: {state}\")\n",
    "    return state\n",
    "\n",
    "print(\"✅ Data analysis node defined!\")"
   ]
  },
  {
   "cell_type": "markdown",
   "metadata": {},
   "source": [
    "## Step 3: Build and Compile the Data Analyzer Graph"
   ]
  },
  {
   "cell_type": "code",
   "execution_count": 11,
   "metadata": {},
   "outputs": [
    {
     "name": "stdout",
     "output_type": "stream",
     "text": [
      "\n",
      "🔧 Building Data Analyzer Graph...\n",
      "✅ Data Analyzer Graph compiled!\n"
     ]
    },
    {
     "data": {
      "image/png": "[encoded data removed]",
      "text/plain": [
       "<IPython.core.display.Image object>"
      ]
     },
     "metadata": {},
     "output_type": "display_data"
    }
   ],
   "source": [
    "def build_data_analyzer_graph():\n",
    "    \"\"\"Build and compile the Data Analyzer graph\"\"\"\n",
    "    print(\"\\n🔧 Building Data Analyzer Graph...\")\n",
    "    \n",
    "    graph = StateGraph(state_schema=DataAnalyzerState)\n",
    "    graph.add_node(\"analyzer\", analyze_data_node)\n",
    "    graph.set_entry_point(\"analyzer\")\n",
    "    graph.set_finish_point(\"analyzer\")\n",
    "    \n",
    "    app = graph.compile()\n",
    "    print(\"✅ Data Analyzer Graph compiled!\")\n",
    "    \n",
    "    # Display graph visualization\n",
    "    try:\n",
    "        display(Image(app.get_graph().draw_mermaid_png()))\n",
    "    except Exception as e:\n",
    "        print(f\"Note: Graph visualization not available ({e})\")\n",
    "    \n",
    "    return app\n",
    "\n",
    "# Build the data analyzer graph\n",
    "data_analyzer_app = build_data_analyzer_graph()"
   ]
  },
  {
   "cell_type": "markdown",
   "metadata": {},
   "source": [
    "## Step 4: Test the Data Analyzer Graph"
   ]
  },
  {
   "cell_type": "code",
   "execution_count": 12,
   "metadata": {},
   "outputs": [
    {
     "name": "stdout",
     "output_type": "stream",
     "text": [
      "\n",
      "🚀 Testing Data Analyzer Graph...\n",
      "\n",
      "--- Dataset 1: Student Test Scores ---\n",
      "Raw data: [85, 92, 78, 96, 88]\n",
      "📥 Input to analyze_data_node: {'numbers': [85, 92, 78, 96, 88], 'dataset_name': 'Student Test Scores', 'analysis_result': ''}\n",
      "📤 Output from analyze_data_node: {'numbers': [85, 92, 78, 96, 88], 'dataset_name': 'Student Test Scores', 'analysis_result': 'Analysis of Student Test Scores dataset:\\n• Count: 5 data points\\n• Average: 87.80\\n• Range: 78 to 96 (span: 18)\\n• Trend: Increasing'}\n",
      "📊 Analysis of Student Test Scores dataset:\n",
      "• Count: 5 data points\n",
      "• Average: 87.80\n",
      "• Range: 78 to 96 (span: 18)\n",
      "• Trend: Increasing\n",
      "\n",
      "--- Dataset 2: Daily Sales ($) ---\n",
      "Raw data: [120, 135, 110, 145, 130]\n",
      "📥 Input to analyze_data_node: {'numbers': [120, 135, 110, 145, 130], 'dataset_name': 'Daily Sales ($)', 'analysis_result': ''}\n",
      "📤 Output from analyze_data_node: {'numbers': [120, 135, 110, 145, 130], 'dataset_name': 'Daily Sales ($)', 'analysis_result': 'Analysis of Daily Sales ($) dataset:\\n• Count: 5 data points\\n• Average: 128.00\\n• Range: 110 to 145 (span: 35)\\n• Trend: Increasing'}\n",
      "📊 Analysis of Daily Sales ($) dataset:\n",
      "• Count: 5 data points\n",
      "• Average: 128.00\n",
      "• Range: 110 to 145 (span: 35)\n",
      "• Trend: Increasing\n",
      "\n",
      "--- Dataset 3: Temperature (°C) ---\n",
      "Raw data: [22, 25, 19, 28, 24, 21]\n",
      "📥 Input to analyze_data_node: {'numbers': [22, 25, 19, 28, 24, 21], 'dataset_name': 'Temperature (°C)', 'analysis_result': ''}\n",
      "📤 Output from analyze_data_node: {'numbers': [22, 25, 19, 28, 24, 21], 'dataset_name': 'Temperature (°C)', 'analysis_result': 'Analysis of Temperature (°C) dataset:\\n• Count: 6 data points\\n• Average: 23.17\\n• Range: 19 to 28 (span: 9)\\n• Trend: Decreasing'}\n",
      "📊 Analysis of Temperature (°C) dataset:\n",
      "• Count: 6 data points\n",
      "• Average: 23.17\n",
      "• Range: 19 to 28 (span: 9)\n",
      "• Trend: Decreasing\n"
     ]
    }
   ],
   "source": [
    "def test_data_analyzer():\n",
    "    print(\"\\n🚀 Testing Data Analyzer Graph...\")\n",
    "    \n",
    "    # Test cases with different datasets\n",
    "    test_cases = [\n",
    "        {\"numbers\": [85, 92, 78, 96, 88], \"dataset_name\": \"Student Test Scores\", \"analysis_result\": \"\"},\n",
    "        {\"numbers\": [120, 135, 110, 145, 130], \"dataset_name\": \"Daily Sales ($)\", \"analysis_result\": \"\"},\n",
    "        {\"numbers\": [22, 25, 19, 28, 24, 21], \"dataset_name\": \"Temperature (°C)\", \"analysis_result\": \"\"},\n",
    "    ]\n",
    "    \n",
    "    for i, test_case in enumerate(test_cases, 1):\n",
    "        print(f\"\\n--- Dataset {i}: {test_case['dataset_name']} ---\")\n",
    "        print(f\"Raw data: {test_case['numbers']}\")\n",
    "        result = data_analyzer_app.invoke(test_case)\n",
    "        print(f\"📊 {result['analysis_result']}\")\n",
    "\n",
    "# Run Data Analyzer example\n",
    "test_data_analyzer()"
   ]
  },
  {
   "cell_type": "markdown",
   "metadata": {},
   "source": [
    "---\n",
    "\n",
    "# Exercise 2: Weather Pattern Analyzer\n",
    "\n",
    "## Challenge:\n",
    "Build a conditional weather analyzer that:\n",
    "- Inputs: `temperatures: List[int]`, `location: str`, `analysis_type: str` (\"weekly\" or \"monthly\")\n",
    "- Single node: if `analysis_type==\"weekly\"`, focus on daily variations; if `\"monthly\"`, focus on overall trends\n",
    "- Output: Detailed weather report based on analysis type\n",
    "\n",
    "---"
   ]
  },
  {
   "cell_type": "markdown",
   "metadata": {},
   "source": [
    "## Exercise 2 Solution"
   ]
  },
  {
   "cell_type": "code",
   "execution_count": 13,
   "metadata": {},
   "outputs": [
    {
     "name": "stdout",
     "output_type": "stream",
     "text": [
      "✅ WeatherState defined for conditional analysis:\n",
      "   - temperatures: List[int] (temperature readings)\n",
      "   - location: str (geographic location)\n",
      "   - analysis_type: str (weekly/monthly analysis mode)\n",
      "   - weather_report: str (generated weather analysis)\n"
     ]
    }
   ],
   "source": [
    "class WeatherState(TypedDict):\n",
    "    temperatures: List[int]\n",
    "    location: str\n",
    "    analysis_type: str  # \"weekly\" or \"monthly\"\n",
    "    weather_report: str\n",
    "\n",
    "print(\"✅ WeatherState defined for conditional analysis:\")\n",
    "print(\"   - temperatures: List[int] (temperature readings)\")\n",
    "print(\"   - location: str (geographic location)\")\n",
    "print(\"   - analysis_type: str (weekly/monthly analysis mode)\")\n",
    "print(\"   - weather_report: str (generated weather analysis)\")"
   ]
  },
  {
   "cell_type": "code",
   "execution_count": 14,
   "metadata": {},
   "outputs": [
    {
     "name": "stdout",
     "output_type": "stream",
     "text": [
      "✅ Weather analyzer node with conditional logic defined!\n"
     ]
    }
   ],
   "source": [
    "def weather_analyzer_node(state: WeatherState) -> WeatherState:\n",
    "    \"\"\"\n",
    "    Analyzes weather patterns and provides different insights based on analysis type.\n",
    "    \"\"\"\n",
    "    print(f\"📥 Input to weather_analyzer_node: {state}\")\n",
    "    \n",
    "    temperatures = state[\"temperatures\"]\n",
    "    location = state[\"location\"]\n",
    "    analysis_type = state[\"analysis_type\"]\n",
    "    \n",
    "    avg_temp = sum(temperatures) / len(temperatures)\n",
    "    max_temp = max(temperatures)\n",
    "    min_temp = min(temperatures)\n",
    "    \n",
    "    if analysis_type == \"weekly\":\n",
    "        # Weekly analysis focuses on daily variations\n",
    "        daily_changes = [abs(temperatures[i] - temperatures[i-1]) for i in range(1, len(temperatures))]\n",
    "        avg_change = sum(daily_changes) / len(daily_changes) if daily_changes else 0\n",
    "        \n",
    "        state[\"weather_report\"] = (\n",
    "            f\"Weekly Weather Report for {location}:\\n\"\n",
    "            f\"🌡️ Average temperature: {avg_temp:.1f}°C\\n\"\n",
    "            f\"🔥 Highest: {max_temp}°C | 🧊 Lowest: {min_temp}°C\\n\"\n",
    "            f\"📈 Daily variation: {avg_change:.1f}°C average change\\n\"\n",
    "            f\"☀️ Weather stability: {'Stable' if avg_change < 3 else 'Variable'}\"\n",
    "        )\n",
    "    elif analysis_type == \"monthly\":\n",
    "        # Monthly analysis focuses on overall trends\n",
    "        temp_trend = \"warming\" if temperatures[-1] > temperatures[0] else \"cooling\"\n",
    "        variance = sum((t - avg_temp) ** 2 for t in temperatures) / len(temperatures)\n",
    "        \n",
    "        state[\"weather_report\"] = (\n",
    "            f\"Monthly Weather Summary for {location}:\\n\"\n",
    "            f\"🌡️ Monthly average: {avg_temp:.1f}°C\\n\"\n",
    "            f\"📊 Temperature range: {min_temp}°C to {max_temp}°C\\n\"\n",
    "            f\"📈 Overall trend: {temp_trend}\\n\"\n",
    "            f\"🔄 Consistency: {'Very consistent' if variance < 10 else 'Highly variable'}\"\n",
    "        )\n",
    "    \n",
    "    print(f\"📤 Output from weather_analyzer_node: {state}\")\n",
    "    return state\n",
    "\n",
    "print(\"✅ Weather analyzer node with conditional logic defined!\")"
   ]
  },
  {
   "cell_type": "code",
   "execution_count": 15,
   "metadata": {},
   "outputs": [
    {
     "name": "stdout",
     "output_type": "stream",
     "text": [
      "\n",
      "🔧 Building Weather Analyzer Graph...\n",
      "✅ Weather Analyzer Graph compiled!\n"
     ]
    },
    {
     "data": {
      "image/png": "[encoded data removed]",
      "text/plain": [
       "<IPython.core.display.Image object>"
      ]
     },
     "metadata": {},
     "output_type": "display_data"
    }
   ],
   "source": [
    "def build_weather_graph():\n",
    "    \"\"\"Build the weather analyzer graph for Exercise 2\"\"\"\n",
    "    print(\"\\n🔧 Building Weather Analyzer Graph...\")\n",
    "    \n",
    "    graph = StateGraph(state_schema=WeatherState)\n",
    "    graph.add_node(\"weather_analyst\", weather_analyzer_node)\n",
    "    graph.set_entry_point(\"weather_analyst\")\n",
    "    graph.set_finish_point(\"weather_analyst\")\n",
    "    \n",
    "    app = graph.compile()\n",
    "    print(\"✅ Weather Analyzer Graph compiled!\")\n",
    "    \n",
    "    # Display graph visualization\n",
    "    try:\n",
    "        display(Image(app.get_graph().draw_mermaid_png()))\n",
    "    except Exception as e:\n",
    "        print(f\"Note: Graph visualization not available ({e})\")\n",
    "    \n",
    "    return app\n",
    "\n",
    "# Build the weather analyzer graph\n",
    "weather_app = build_weather_graph()"
   ]
  },
  {
   "cell_type": "code",
   "execution_count": 16,
   "metadata": {},
   "outputs": [
    {
     "name": "stdout",
     "output_type": "stream",
     "text": [
      "\n",
      "🚀 Testing Weather Pattern Analyzer...\n",
      "\n",
      "--- Weather Analysis 1 ---\n",
      "Location: San Francisco | Type: weekly\n",
      "Temperatures: [22, 24, 21, 25, 23, 20, 26]\n",
      "📥 Input to weather_analyzer_node: {'temperatures': [22, 24, 21, 25, 23, 20, 26], 'location': 'San Francisco', 'analysis_type': 'weekly', 'weather_report': ''}\n",
      "📤 Output from weather_analyzer_node: {'temperatures': [22, 24, 21, 25, 23, 20, 26], 'location': 'San Francisco', 'analysis_type': 'weekly', 'weather_report': 'Weekly Weather Report for San Francisco:\\n🌡️ Average temperature: 23.0°C\\n🔥 Highest: 26°C | 🧊 Lowest: 20°C\\n📈 Daily variation: 3.3°C average change\\n☀️ Weather stability: Variable'}\n",
      "🌤️ Weekly Weather Report for San Francisco:\n",
      "🌡️ Average temperature: 23.0°C\n",
      "🔥 Highest: 26°C | 🧊 Lowest: 20°C\n",
      "📈 Daily variation: 3.3°C average change\n",
      "☀️ Weather stability: Variable\n",
      "\n",
      "--- Weather Analysis 2 ---\n",
      "Location: London | Type: monthly\n",
      "Temperatures: [15, 18, 20, 22, 25, 23, 21, 19]\n",
      "📥 Input to weather_analyzer_node: {'temperatures': [15, 18, 20, 22, 25, 23, 21, 19], 'location': 'London', 'analysis_type': 'monthly', 'weather_report': ''}\n",
      "📤 Output from weather_analyzer_node: {'temperatures': [15, 18, 20, 22, 25, 23, 21, 19], 'location': 'London', 'analysis_type': 'monthly', 'weather_report': 'Monthly Weather Summary for London:\\n🌡️ Monthly average: 20.4°C\\n📊 Temperature range: 15°C to 25°C\\n📈 Overall trend: warming\\n🔄 Consistency: Very consistent'}\n",
      "🌤️ Monthly Weather Summary for London:\n",
      "🌡️ Monthly average: 20.4°C\n",
      "📊 Temperature range: 15°C to 25°C\n",
      "📈 Overall trend: warming\n",
      "🔄 Consistency: Very consistent\n",
      "\n",
      "--- Weather Analysis 3 ---\n",
      "Location: Phoenix | Type: weekly\n",
      "Temperatures: [30, 32, 35, 33, 31, 34, 36]\n",
      "📥 Input to weather_analyzer_node: {'temperatures': [30, 32, 35, 33, 31, 34, 36], 'location': 'Phoenix', 'analysis_type': 'weekly', 'weather_report': ''}\n",
      "📤 Output from weather_analyzer_node: {'temperatures': [30, 32, 35, 33, 31, 34, 36], 'location': 'Phoenix', 'analysis_type': 'weekly', 'weather_report': 'Weekly Weather Report for Phoenix:\\n🌡️ Average temperature: 33.0°C\\n🔥 Highest: 36°C | 🧊 Lowest: 30°C\\n📈 Daily variation: 2.3°C average change\\n☀️ Weather stability: Stable'}\n",
      "🌤️ Weekly Weather Report for Phoenix:\n",
      "🌡️ Average temperature: 33.0°C\n",
      "🔥 Highest: 36°C | 🧊 Lowest: 30°C\n",
      "📈 Daily variation: 2.3°C average change\n",
      "☀️ Weather stability: Stable\n"
     ]
    }
   ],
   "source": [
    "def test_weather_agent():\n",
    "    print(\"\\n🚀 Testing Weather Pattern Analyzer...\")\n",
    "    \n",
    "    # Test cases for both weekly and monthly analysis\n",
    "    test_cases = [\n",
    "        {\n",
    "            \"temperatures\": [22, 24, 21, 25, 23, 20, 26], \n",
    "            \"location\": \"San Francisco\", \n",
    "            \"analysis_type\": \"weekly\", \n",
    "            \"weather_report\": \"\"\n",
    "        },\n",
    "        {\n",
    "            \"temperatures\": [15, 18, 20, 22, 25, 23, 21, 19], \n",
    "            \"location\": \"London\", \n",
    "            \"analysis_type\": \"monthly\", \n",
    "            \"weather_report\": \"\"\n",
    "        },\n",
    "        {\n",
    "            \"temperatures\": [30, 32, 35, 33, 31, 34, 36], \n",
    "            \"location\": \"Phoenix\", \n",
    "            \"analysis_type\": \"weekly\", \n",
    "            \"weather_report\": \"\"\n",
    "        },\n",
    "    ]\n",
    "    \n",
    "    for i, test_case in enumerate(test_cases, 1):\n",
    "        print(f\"\\n--- Weather Analysis {i} ---\")\n",
    "        print(f\"Location: {test_case['location']} | Type: {test_case['analysis_type']}\")\n",
    "        print(f\"Temperatures: {test_case['temperatures']}\")\n",
    "        result = weather_app.invoke(test_case)\n",
    "        print(f\"🌤️ {result['weather_report']}\")\n",
    "\n",
    "# Run Exercise 2\n",
    "test_weather_agent()"
   ]
  }
 ],
 "metadata": {
  "kernelspec": {
   "display_name": "py312",
   "language": "python",
   "name": "python3"
  },
  "language_info": {
   "codemirror_mode": {
    "name": "ipython",
    "version": 3
   },
   "file_extension": ".py",
   "mimetype": "text/x-python",
   "name": "python",
   "nbconvert_exporter": "python",
   "pygments_lexer": "ipython3",
   "version": "3.12.9"
  }
 },
 "nbformat": 4,
 "nbformat_minor": 4
}
