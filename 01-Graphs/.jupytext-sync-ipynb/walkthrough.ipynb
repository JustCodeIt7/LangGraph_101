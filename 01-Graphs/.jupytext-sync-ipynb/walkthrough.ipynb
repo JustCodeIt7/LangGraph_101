{
 "cells": [
  {
   "cell_type": "markdown",
   "metadata": {},
   "source": [
    "---\n",
    "title: \"Hello, Quarto\"\n",
    "format: html\n",
    "---\n",
    "\n",
    "## Markdown\n",
    "\n",
    "Markdown is an easy to read and write text format:\n",
    "\n",
    "- It's _plain text_ so works well with version control\n",
    "- It can be **rendered** into HTML, PDF, and more\n",
    "- Learn more at: <https://quarto.org/docs/authoring/>\n",
    "\n",
    "## Code Cell\n",
    "\n",
    "Here is a Python code cell:\n"
   ]
  },
  {
   "cell_type": "code",
   "execution_count": 1,
   "metadata": {},
   "outputs": [
    {
     "data": {
      "text/plain": [
       "16"
      ]
     },
     "execution_count": 1,
     "metadata": {},
     "output_type": "execute_result"
    }
   ],
   "source": [
    "import os\n",
    "os.cpu_count()"
   ]
  },
  {
   "cell_type": "markdown",
   "metadata": {},
   "source": [
    "## Equation\n",
    "\n",
    "Use LaTeX to write equations:\n",
    "\n",
    "$$\n",
    "\\chi' = \\sum_{i=1}^n k_i s_i^2\n",
    "$$\n"
   ]
  }
 ],
 "metadata": {
  "jupytext": {
   "formats": ".jupytext-sync-ipynb//ipynb,qmd:percent"
  },
  "kernelspec": {
   "display_name": "py312",
   "language": "python",
   "name": "python3"
  },
  "language_info": {
   "codemirror_mode": {
    "name": "ipython",
    "version": 3
   },
   "file_extension": ".py",
   "mimetype": "text/x-python",
   "name": "python",
   "nbconvert_exporter": "python",
   "pygments_lexer": "ipython3",
   "version": "3.12.9"
  }
 },
 "nbformat": 4,
 "nbformat_minor": 4
}
