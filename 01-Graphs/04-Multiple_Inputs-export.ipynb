{
 "cells": [
  {
   "cell_type": "markdown",
   "id": "18100d89-17ba-4d9a-b09d-68bece32668a",
   "metadata": {},
   "source": [
    "# %% [markdown]\n",
    "\n",
    " # LangGraph Student Grade Calculator\n",
    "\n",
    " This notebook demonstrates how to use **LangGraph** to build a small state‐based graph\n",
    " that calculates a student’s letter grade from a list of scores, and then visualizes\n",
    " the graph structure."
   ]
  },
  {
   "cell_type": "markdown",
   "id": "50a6510c-c50c-4a70-be9b-f5e0a478854e",
   "metadata": {},
   "source": [
    "# %% [markdown]\n",
    "\n",
    " ## 1. Imports"
   ]
  },
  {
   "cell_type": "code",
   "execution_count": null,
   "id": "8d435d6d-8ecb-4484-af32-5aacb23d3ac8",
   "metadata": {},
   "outputs": [],
   "source": [
    "# %%\n",
    "\n",
    "from typing import TypedDict, List\n",
    "from langgraph.graph import StateGraph\n",
    "from IPython.display import Image, display"
   ]
  },
  {
   "cell_type": "markdown",
   "id": "c40fb29a-89b6-41e7-822d-9d106a736ddb",
   "metadata": {},
   "source": [
    "# %% [markdown]\n",
    "\n",
    " ## 2. Define State Schema\n",
    "\n",
    " We define a `TypedDict` to specify exactly what data our graph nodes will read and write."
   ]
  },
  {
   "cell_type": "code",
   "execution_count": null,
   "id": "f01c26d0-125c-4dbc-87cf-6ccb5128efa8",
   "metadata": {},
   "outputs": [],
   "source": [
    "# %%\n",
    "\n",
    "class StudentState(TypedDict):\n",
    "    \"\"\"\n",
    "    State schema defining the data flowing through the graph.\n",
    "    \"\"\"\n",
    "    scores: List[float]      # test scores\n",
    "    student_name: str        # student full name\n",
    "    course_name: str         # course title\n",
    "    grade_report: str        # will be filled in by the node"
   ]
  },
  {
   "cell_type": "markdown",
   "id": "73786d17-3070-4112-93a5-c717deb71936",
   "metadata": {},
   "source": [
    "# %% [markdown]\n",
    "\n",
    " ## 3. Node Function: Grade Calculation\n",
    "\n",
    " This function computes the average, assigns a letter grade, and writes a formatted report."
   ]
  },
  {
   "cell_type": "code",
   "execution_count": null,
   "id": "7d14f893-d336-44a4-909c-5161a3252709",
   "metadata": {},
   "outputs": [],
   "source": [
    "# %%\n",
    "\n",
    "def calculate_grade(state: StudentState) -> StudentState:\n",
    "    \"\"\"\n",
    "    Processes scores and populates `grade_report` in the state.\n",
    "    \"\"\"\n",
    "    # Compute average\n",
    "    avg = sum(state[\"scores\"]) / len(state[\"scores\"])\n",
    "    # Determine letter grade\n",
    "    if   avg >= 90: letter = \"A\"\n",
    "    elif avg >= 80: letter = \"B\"\n",
    "    elif avg >= 70: letter = \"C\"\n",
    "    elif avg >= 60: letter = \"D\"\n",
    "    else:           letter = \"F\"\n",
    "\n",
    "    # Build the report\n",
    "    report = (\n",
    "        f\"Student: {state['student_name']}\\n\"\n",
    "        f\"Course : {state['course_name']}\\n\"\n",
    "        f\"Scores : {', '.join(map(str, state['scores']))}\\n\"\n",
    "        f\"Average: {avg:.2f}%\\n\"\n",
    "        f\"Final  : {letter}\"\n",
    "    )\n",
    "    state[\"grade_report\"] = report\n",
    "    return state"
   ]
  },
  {
   "cell_type": "markdown",
   "id": "a2f30d99-e2e9-42ea-8174-71fec9f39aad",
   "metadata": {},
   "source": [
    "# %% [markdown]\n",
    "\n",
    " ## 4. Build & Compile the Graph\n",
    "\n",
    " We add our node to a `StateGraph`, set its entry/exit points, and compile."
   ]
  },
  {
   "cell_type": "code",
   "execution_count": null,
   "id": "7f2d3fe3-ef45-4133-8d69-e51c6ddf8731",
   "metadata": {},
   "outputs": [],
   "source": [
    "# %%\n",
    "\n",
    "# Create graph\n",
    "graph = StateGraph(StudentState)\n",
    "\n",
    "# Add node\n",
    "graph.add_node(\"grade_calculator\", calculate_grade)\n",
    "\n",
    "# Define flow\n",
    "graph.set_entry_point(\"grade_calculator\")\n",
    "graph.set_finish_point(\"grade_calculator\")\n",
    "\n",
    "# Compile into an executable app\n",
    "app = graph.compile()"
   ]
  },
  {
   "cell_type": "markdown",
   "id": "c546ada5-0f3e-4ac4-88c2-b2a08cdc02ed",
   "metadata": {},
   "source": [
    "# %% [markdown]\n",
    "\n",
    " ## 5. Visualize the Graph\n",
    "\n",
    " Render the graph structure inline, and optionally save it for documentation."
   ]
  },
  {
   "cell_type": "code",
   "execution_count": null,
   "id": "642e1025-33c7-4fcf-a99d-c9a1970406c2",
   "metadata": {},
   "outputs": [
    {
     "data": {
      "image/png": "[encoded data removed]",
      "text/plain": [
       "<IPython.core.display.Image object>"
      ]
     },
     "metadata": {},
     "output_type": "display_data"
    }
   ],
   "source": [
    "# %%\n",
    "\n",
    "# Display inline\n",
    "display(Image(app.get_graph().draw_mermaid_png()))\n",
    "\n",
    "# (Optional) save files\n",
    "import os\n",
    "os.makedirs(\"output\", exist_ok=True)\n",
    "with open(\"output/grade_calculator.png\", \"wb\") as f:\n",
    "    f.write(app.get_graph().draw_mermaid_png())\n",
    "with open(\"output/grade_calculator.mmd\", \"w\") as f:\n",
    "    f.write(app.get_graph().draw_mermaid())"
   ]
  },
  {
   "cell_type": "markdown",
   "id": "dd989003-8f97-4abb-98bb-9761f4af981d",
   "metadata": {},
   "source": [
    "# %% [markdown]\n",
    "\n",
    " ## 6. Run the Graph with Sample Data\n",
    "\n",
    " Invoke the graph end‐to‐end with some example scores."
   ]
  },
  {
   "cell_type": "code",
   "execution_count": null,
   "id": "d559d2a6-4779-439f-824c-3c7eaa03fb2f",
   "metadata": {},
   "outputs": [],
   "source": [
    "# %%\n",
    "\n",
    "sample_input = {\n",
    "    \"scores\": [88.5, 92.0, 85.5, 94.0, 87.5],\n",
    "    \"student_name\": \"Alice Johnson\",\n",
    "    \"course_name\": \"Python Programming\"\n",
    "}\n",
    "result = app.invoke(sample_input)"
   ]
  },
  {
   "cell_type": "markdown",
   "id": "52d7cfb3-6883-4895-81e7-63550ec02b47",
   "metadata": {},
   "source": [
    "# %% [markdown]\n",
    "\n",
    " ## 7. Show the Final Report"
   ]
  },
  {
   "cell_type": "code",
   "execution_count": null,
   "id": "6ad76cc9-3d86-4210-a60f-3371fe9b418a",
   "metadata": {},
   "outputs": [
    {
     "name": "stdout",
     "output_type": "stream",
     "text": [
      "Student: Alice Johnson\n",
      "Course : Python Programming\n",
      "Scores : 88.5, 92.0, 85.5, 94.0, 87.5\n",
      "Average: 89.50%\n",
      "Final  : B\n"
     ]
    }
   ],
   "source": [
    "# %%\n",
    "\n",
    "print(result[\"grade_report\"])"
   ]
  }
 ],
 "metadata": {
  "language_info": {
   "codemirror_mode": {
    "name": "ipython",
    "version": 3
   },
   "file_extension": ".py",
   "mimetype": "text/x-python",
   "name": "python",
   "nbconvert_exporter": "python",
   "pygments_lexer": "ipython3",
   "version": 3
  }
 },
 "nbformat": 4,
 "nbformat_minor": 2
}
