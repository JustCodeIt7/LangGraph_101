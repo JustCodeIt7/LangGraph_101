{
 "cells": [
  {
   "cell_type": "markdown",
   "metadata": {},
   "source": [
    "# LangGraph Looping Logic\n",
    "\n",
    "We'll showcase two distinct methods for implementing loops in LangGraph:\n",
    "\n",
    "1. **Direct Conditional Routing**: Utilizing conditional edges straight from a processing node.\n",
    "2. **Separate Decision Node**: Employing a dedicated node to handle routing decisions.\n"
   ]
  },
  {
   "cell_type": "markdown",
   "metadata": {},
   "source": [
    "## Setup and Imports\n"
   ]
  },
  {
   "cell_type": "code",
   "metadata": {
    "jupyter": {
     "is_executing": true
    }
   },
   "source": [
    "from langgraph.graph import StateGraph, END\n",
    "import random\n",
    "from typing import TypedDict, List\n",
    "from IPython.display import Image, display\n",
    "from rich import print"
   ],
   "outputs": [],
   "execution_count": null
  },
  {
   "cell_type": "markdown",
   "metadata": {},
   "source": [
    "## Approach 1: Direct Conditional Routing\n",
    "\n",
    "In this approach, we'll create a graph where the conditional edges are attached directly to the processing node. This creates a more compact graph structure.\n",
    "\n",
    "### State Definition\n",
    "\n",
    "We'll create a simple state that tracks a list of numbers and their running total. Our loop will continue adding random numbers until the total reaches a threshold.\n"
   ]
  },
  {
   "cell_type": "code",
   "execution_count": 46,
   "metadata": {},
   "outputs": [],
   "source": [
    "# Define the shape of our state\n",
    "class SumState(TypedDict):\n",
    "    numbers: List[int]\n",
    "    total: int"
   ]
  },
  {
   "cell_type": "markdown",
   "metadata": {
    "slideshow": {
     "slide_type": "slide"
    }
   },
   "source": [
    "### Node Functions\n"
   ]
  },
  {
   "cell_type": "code",
   "execution_count": 47,
   "metadata": {},
   "outputs": [],
   "source": [
    "# Entry node: initialize the list and total\n",
    "def init_node(state: SumState) -> SumState:\n",
    "    state[\"numbers\"] = []\n",
    "    state[\"total\"] = 0\n",
    "    return state\n",
    "\n",
    "\n",
    "# Loop node: pick a random number, append it, and update the total\n",
    "def add_number(state: SumState) -> SumState:\n",
    "    num = random.randint(5, 15)\n",
    "    state[\"numbers\"].append(num)\n",
    "    state[\"total\"] += num\n",
    "    return state\n",
    "\n",
    "\n",
    "# Conditional function: decide whether to loop or exit\n",
    "def check_continue(state: SumState) -> str:\n",
    "    if state[\"total\"] < 50:\n",
    "        print(f\"Total is {state['total']}, adding another number...\")\n",
    "        return \"add\"  # go back to the add_number node\n",
    "    else:\n",
    "        print(f\"Reached total {state['total']}. Exiting loop.\")\n",
    "        return \"end\"  # jump to END"
   ]
  },
  {
   "cell_type": "markdown",
   "metadata": {},
   "source": [
    "### Building the Graph\n",
    "\n",
    "Now, we'll build the graph using direct conditional routing. Observe how the `add` node features conditional edges that can loop back to itself, forming a cycle.\n"
   ]
  },
  {
   "cell_type": "code",
   "execution_count": 48,
   "metadata": {},
   "outputs": [],
   "source": [
    "# Build the graph\n",
    "graph = StateGraph(SumState)\n",
    "\n",
    "graph.add_node(\"init\", init_node)\n",
    "graph.add_node(\"add\", add_number)\n",
    "\n",
    "# From init → add\n",
    "graph.add_edge(\"init\", \"add\")\n",
    "\n",
    "# From add → either add (loop) or END (using conditional routing)\n",
    "graph.add_conditional_edges(\n",
    "    \"add\",  # source node name\n",
    "    check_continue,  # the decision function\n",
    "    {\n",
    "        \"add\": \"add\",  # loop back to the same node\n",
    "        \"end\": END,  # or terminate the graph\n",
    "    },\n",
    ")\n",
    "\n",
    "# Specify the starting node\n",
    "graph.set_entry_point(\"init\")\n",
    "\n",
    "# Compile and run\n",
    "app = graph.compile()"
   ]
  },
  {
   "cell_type": "markdown",
   "metadata": {},
   "source": [
    "### Visualizing the Graph\n",
    "\n",
    "Let's visualize the graph structure to understand the flow better.\n"
   ]
  },
  {
   "cell_type": "code",
   "execution_count": 49,
   "metadata": {},
   "outputs": [
    {
     "data": {
      "image/png": "[encoded data removed]",
      "text/plain": [
       "<IPython.core.display.Image object>"
      ]
     },
     "metadata": {},
     "output_type": "display_data"
    }
   ],
   "source": [
    "# Visualize the Graph (requires graphviz and pygraphviz or pydot)\n",
    "display(Image(app.get_graph().draw_mermaid_png()))\n",
    "# save the graph to a file\n",
    "with open(\"./output//06.1-Looping_Logic.png\", \"wb\") as f:\n",
    "    f.write(app.get_graph().draw_mermaid_png())\n",
    "# Mermaid is a popular diagramming syntax that can be rendered in many tools\n",
    "with open(\"./output/06.1-Looping_Logic.mmd\", \"w\") as f:\n",
    "    f.write(app.get_graph().draw_mermaid())"
   ]
  },
  {
   "cell_type": "markdown",
   "metadata": {},
   "source": [
    "### Running the Graph\n"
   ]
  },
  {
   "cell_type": "code",
   "execution_count": 50,
   "metadata": {},
   "outputs": [
    {
     "data": {
      "text/html": [
       "<pre style=\"white-space:pre;overflow-x:auto;line-height:normal;font-family:Menlo,'DejaVu Sans Mono',consolas,'Courier New',monospace\">Total is <span style=\"color: #008080; text-decoration-color: #008080; font-weight: bold\">6</span>, adding another number<span style=\"color: #808000; text-decoration-color: #808000\">...</span>\n",
       "</pre>\n"
      ],
      "text/plain": [
       "Total is \u001B[1;36m6\u001B[0m, adding another number\u001B[33m...\u001B[0m\n"
      ]
     },
     "metadata": {},
     "output_type": "display_data"
    },
    {
     "data": {
      "text/html": [
       "<pre style=\"white-space:pre;overflow-x:auto;line-height:normal;font-family:Menlo,'DejaVu Sans Mono',consolas,'Courier New',monospace\">Total is <span style=\"color: #008080; text-decoration-color: #008080; font-weight: bold\">13</span>, adding another number<span style=\"color: #808000; text-decoration-color: #808000\">...</span>\n",
       "</pre>\n"
      ],
      "text/plain": [
       "Total is \u001B[1;36m13\u001B[0m, adding another number\u001B[33m...\u001B[0m\n"
      ]
     },
     "metadata": {},
     "output_type": "display_data"
    },
    {
     "data": {
      "text/html": [
       "<pre style=\"white-space:pre;overflow-x:auto;line-height:normal;font-family:Menlo,'DejaVu Sans Mono',consolas,'Courier New',monospace\">Total is <span style=\"color: #008080; text-decoration-color: #008080; font-weight: bold\">28</span>, adding another number<span style=\"color: #808000; text-decoration-color: #808000\">...</span>\n",
       "</pre>\n"
      ],
      "text/plain": [
       "Total is \u001B[1;36m28\u001B[0m, adding another number\u001B[33m...\u001B[0m\n"
      ]
     },
     "metadata": {},
     "output_type": "display_data"
    },
    {
     "data": {
      "text/html": [
       "<pre style=\"white-space:pre;overflow-x:auto;line-height:normal;font-family:Menlo,'DejaVu Sans Mono',consolas,'Courier New',monospace\">Total is <span style=\"color: #008080; text-decoration-color: #008080; font-weight: bold\">40</span>, adding another number<span style=\"color: #808000; text-decoration-color: #808000\">...</span>\n",
       "</pre>\n"
      ],
      "text/plain": [
       "Total is \u001B[1;36m40\u001B[0m, adding another number\u001B[33m...\u001B[0m\n"
      ]
     },
     "metadata": {},
     "output_type": "display_data"
    },
    {
     "data": {
      "text/html": [
       "<pre style=\"white-space:pre;overflow-x:auto;line-height:normal;font-family:Menlo,'DejaVu Sans Mono',consolas,'Courier New',monospace\">Total is <span style=\"color: #008080; text-decoration-color: #008080; font-weight: bold\">48</span>, adding another number<span style=\"color: #808000; text-decoration-color: #808000\">...</span>\n",
       "</pre>\n"
      ],
      "text/plain": [
       "Total is \u001B[1;36m48\u001B[0m, adding another number\u001B[33m...\u001B[0m\n"
      ]
     },
     "metadata": {},
     "output_type": "display_data"
    },
    {
     "data": {
      "text/html": [
       "<pre style=\"white-space:pre;overflow-x:auto;line-height:normal;font-family:Menlo,'DejaVu Sans Mono',consolas,'Courier New',monospace\">Reached total <span style=\"color: #008080; text-decoration-color: #008080; font-weight: bold\">58</span>. Exiting loop.\n",
       "</pre>\n"
      ],
      "text/plain": [
       "Reached total \u001B[1;36m58\u001B[0m. Exiting loop.\n"
      ]
     },
     "metadata": {},
     "output_type": "display_data"
    },
    {
     "data": {
      "text/html": [
       "<pre style=\"white-space:pre;overflow-x:auto;line-height:normal;font-family:Menlo,'DejaVu Sans Mono',consolas,'Courier New',monospace\">\n",
       "Final state:\n",
       "</pre>\n"
      ],
      "text/plain": [
       "\n",
       "Final state:\n"
      ]
     },
     "metadata": {},
     "output_type": "display_data"
    },
    {
     "data": {
      "text/html": [
       "<pre style=\"white-space:pre;overflow-x:auto;line-height:normal;font-family:Menlo,'DejaVu Sans Mono',consolas,'Courier New',monospace\"><span style=\"font-weight: bold\">{</span><span style=\"color: #008000; text-decoration-color: #008000\">'numbers'</span>: <span style=\"font-weight: bold\">[</span><span style=\"color: #008080; text-decoration-color: #008080; font-weight: bold\">6</span>, <span style=\"color: #008080; text-decoration-color: #008080; font-weight: bold\">7</span>, <span style=\"color: #008080; text-decoration-color: #008080; font-weight: bold\">15</span>, <span style=\"color: #008080; text-decoration-color: #008080; font-weight: bold\">12</span>, <span style=\"color: #008080; text-decoration-color: #008080; font-weight: bold\">8</span>, <span style=\"color: #008080; text-decoration-color: #008080; font-weight: bold\">10</span><span style=\"font-weight: bold\">]</span>, <span style=\"color: #008000; text-decoration-color: #008000\">'total'</span>: <span style=\"color: #008080; text-decoration-color: #008080; font-weight: bold\">58</span><span style=\"font-weight: bold\">}</span>\n",
       "</pre>\n"
      ],
      "text/plain": [
       "\u001B[1m{\u001B[0m\u001B[32m'numbers'\u001B[0m: \u001B[1m[\u001B[0m\u001B[1;36m6\u001B[0m, \u001B[1;36m7\u001B[0m, \u001B[1;36m15\u001B[0m, \u001B[1;36m12\u001B[0m, \u001B[1;36m8\u001B[0m, \u001B[1;36m10\u001B[0m\u001B[1m]\u001B[0m, \u001B[32m'total'\u001B[0m: \u001B[1;36m58\u001B[0m\u001B[1m}\u001B[0m\n"
      ]
     },
     "metadata": {},
     "output_type": "display_data"
    }
   ],
   "source": [
    "final_state = app.invoke({\"numbers\": [], \"total\": 0})\n",
    "\n",
    "print(\"\\nFinal state:\")\n",
    "print(final_state)"
   ]
  },
  {
   "cell_type": "markdown",
   "metadata": {},
   "source": [
    "## Approach 2: Separate Decision Node\n",
    "\n",
    "In this approach, we'll use a dedicated decision node that acts as a router. This pattern separates the processing logic from the routing logic, which can be useful for more complex decision-making scenarios.\n",
    "\n",
    "### Node Functions\n"
   ]
  },
  {
   "cell_type": "code",
   "execution_count": 51,
   "metadata": {},
   "outputs": [],
   "source": [
    "# Entry node: initialize the list and total (same as before)\n",
    "def init_node(state: SumState) -> SumState:\n",
    "    state[\"numbers\"] = []\n",
    "    state[\"total\"] = 0\n",
    "    return state\n",
    "\n",
    "\n",
    "# Loop node: pick a random number, append it, and update the total (same as before)\n",
    "def add_number(state: SumState) -> SumState:\n",
    "    num = random.randint(5, 15)\n",
    "    state[\"numbers\"].append(num)\n",
    "    state[\"total\"] += num\n",
    "    return state\n",
    "\n",
    "\n",
    "# Dummy pass-through node; real branching happens in the conditional edges\n",
    "def start(state: SumState) -> SumState:\n",
    "    return state\n",
    "\n",
    "\n",
    "# Dummy pass-through node; real branching happens in the conditional edges\n",
    "def decide_node(state: SumState) -> SumState:\n",
    "    return state\n",
    "\n",
    "\n",
    "# Conditional function: decide whether to loop or exit (same as before)\n",
    "def check_continue(state: SumState) -> str:\n",
    "    if state[\"total\"] < 50:\n",
    "        print(f\"Total is {state['total']}, adding another number...\")\n",
    "        return \"add\"  # go back to add_number node\n",
    "    else:\n",
    "        print(f\"Reached total {state['total']}. Exiting loop.\")\n",
    "        return \"end\"  # jump to END"
   ]
  },
  {
   "cell_type": "markdown",
   "metadata": {},
   "source": [
    "### Building the Graph with Decision Node\n",
    "\n",
    "This time we'll create a more explicit flow: `init → add → decide → (add or END)`\n"
   ]
  },
  {
   "cell_type": "code",
   "execution_count": 57,
   "metadata": {},
   "outputs": [],
   "source": [
    "# Build the graph\n",
    "graph = StateGraph(SumState)\n",
    "\n",
    "graph.add_node(\"init\", init_node)\n",
    "graph.add_node(\"start\", start)\n",
    "graph.add_node(\"add\", add_number)\n",
    "\n",
    "graph.add_node(\"decide\", decide_node)\n",
    "\n",
    "\n",
    "# Wire up the flow: init → add → decide → (add or END)\n",
    "graph.add_edge(\"init\", \"start\")\n",
    "graph.add_edge(\"start\", \"add\")\n",
    "graph.add_edge(\"add\", \"decide\")\n",
    "\n",
    "graph.add_conditional_edges(\n",
    "    \"decide\",  # source node name\n",
    "    check_continue,  # decision function\n",
    "    {\n",
    "        \"add\": \"start\",  # loop back to the add node\n",
    "        \"end\": END,  # or terminate\n",
    "    },\n",
    ")\n",
    "\n",
    "# Specify the starting node\n",
    "graph.set_entry_point(\"init\")\n",
    "\n",
    "# Compile and run\n",
    "app = graph.compile()\n"
   ]
  },
  {
   "cell_type": "markdown",
   "metadata": {},
   "source": [
    "### Visualizing the Second Graph\n"
   ]
  },
  {
   "cell_type": "code",
   "execution_count": 58,
   "metadata": {},
   "outputs": [
    {
     "data": {
      "image/png": "[encoded data removed]",
      "text/plain": [
       "<IPython.core.display.Image object>"
      ]
     },
     "metadata": {},
     "output_type": "display_data"
    },
    {
     "data": {
      "text/html": [
       "<pre style=\"white-space:pre;overflow-x:auto;line-height:normal;font-family:Menlo,'DejaVu Sans Mono',consolas,'Courier New',monospace\">Total is <span style=\"color: #008080; text-decoration-color: #008080; font-weight: bold\">6</span>, adding another number<span style=\"color: #808000; text-decoration-color: #808000\">...</span>\n",
       "</pre>\n"
      ],
      "text/plain": [
       "Total is \u001B[1;36m6\u001B[0m, adding another number\u001B[33m...\u001B[0m\n"
      ]
     },
     "metadata": {},
     "output_type": "display_data"
    },
    {
     "data": {
      "text/html": [
       "<pre style=\"white-space:pre;overflow-x:auto;line-height:normal;font-family:Menlo,'DejaVu Sans Mono',consolas,'Courier New',monospace\">Total is <span style=\"color: #008080; text-decoration-color: #008080; font-weight: bold\">11</span>, adding another number<span style=\"color: #808000; text-decoration-color: #808000\">...</span>\n",
       "</pre>\n"
      ],
      "text/plain": [
       "Total is \u001B[1;36m11\u001B[0m, adding another number\u001B[33m...\u001B[0m\n"
      ]
     },
     "metadata": {},
     "output_type": "display_data"
    },
    {
     "data": {
      "text/html": [
       "<pre style=\"white-space:pre;overflow-x:auto;line-height:normal;font-family:Menlo,'DejaVu Sans Mono',consolas,'Courier New',monospace\">Total is <span style=\"color: #008080; text-decoration-color: #008080; font-weight: bold\">16</span>, adding another number<span style=\"color: #808000; text-decoration-color: #808000\">...</span>\n",
       "</pre>\n"
      ],
      "text/plain": [
       "Total is \u001B[1;36m16\u001B[0m, adding another number\u001B[33m...\u001B[0m\n"
      ]
     },
     "metadata": {},
     "output_type": "display_data"
    },
    {
     "data": {
      "text/html": [
       "<pre style=\"white-space:pre;overflow-x:auto;line-height:normal;font-family:Menlo,'DejaVu Sans Mono',consolas,'Courier New',monospace\">Total is <span style=\"color: #008080; text-decoration-color: #008080; font-weight: bold\">26</span>, adding another number<span style=\"color: #808000; text-decoration-color: #808000\">...</span>\n",
       "</pre>\n"
      ],
      "text/plain": [
       "Total is \u001B[1;36m26\u001B[0m, adding another number\u001B[33m...\u001B[0m\n"
      ]
     },
     "metadata": {},
     "output_type": "display_data"
    },
    {
     "data": {
      "text/html": [
       "<pre style=\"white-space:pre;overflow-x:auto;line-height:normal;font-family:Menlo,'DejaVu Sans Mono',consolas,'Courier New',monospace\">Total is <span style=\"color: #008080; text-decoration-color: #008080; font-weight: bold\">37</span>, adding another number<span style=\"color: #808000; text-decoration-color: #808000\">...</span>\n",
       "</pre>\n"
      ],
      "text/plain": [
       "Total is \u001B[1;36m37\u001B[0m, adding another number\u001B[33m...\u001B[0m\n"
      ]
     },
     "metadata": {},
     "output_type": "display_data"
    },
    {
     "data": {
      "text/html": [
       "<pre style=\"white-space:pre;overflow-x:auto;line-height:normal;font-family:Menlo,'DejaVu Sans Mono',consolas,'Courier New',monospace\">Total is <span style=\"color: #008080; text-decoration-color: #008080; font-weight: bold\">42</span>, adding another number<span style=\"color: #808000; text-decoration-color: #808000\">...</span>\n",
       "</pre>\n"
      ],
      "text/plain": [
       "Total is \u001B[1;36m42\u001B[0m, adding another number\u001B[33m...\u001B[0m\n"
      ]
     },
     "metadata": {},
     "output_type": "display_data"
    },
    {
     "data": {
      "text/html": [
       "<pre style=\"white-space:pre;overflow-x:auto;line-height:normal;font-family:Menlo,'DejaVu Sans Mono',consolas,'Courier New',monospace\">Reached total <span style=\"color: #008080; text-decoration-color: #008080; font-weight: bold\">54</span>. Exiting loop.\n",
       "</pre>\n"
      ],
      "text/plain": [
       "Reached total \u001B[1;36m54\u001B[0m. Exiting loop.\n"
      ]
     },
     "metadata": {},
     "output_type": "display_data"
    },
    {
     "data": {
      "text/html": [
       "<pre style=\"white-space:pre;overflow-x:auto;line-height:normal;font-family:Menlo,'DejaVu Sans Mono',consolas,'Courier New',monospace\">\n",
       "Final state:\n",
       "</pre>\n"
      ],
      "text/plain": [
       "\n",
       "Final state:\n"
      ]
     },
     "metadata": {},
     "output_type": "display_data"
    },
    {
     "data": {
      "text/html": [
       "<pre style=\"white-space:pre;overflow-x:auto;line-height:normal;font-family:Menlo,'DejaVu Sans Mono',consolas,'Courier New',monospace\"><span style=\"font-weight: bold\">{</span><span style=\"color: #008000; text-decoration-color: #008000\">'numbers'</span>: <span style=\"font-weight: bold\">[</span><span style=\"color: #008080; text-decoration-color: #008080; font-weight: bold\">6</span>, <span style=\"color: #008080; text-decoration-color: #008080; font-weight: bold\">5</span>, <span style=\"color: #008080; text-decoration-color: #008080; font-weight: bold\">5</span>, <span style=\"color: #008080; text-decoration-color: #008080; font-weight: bold\">10</span>, <span style=\"color: #008080; text-decoration-color: #008080; font-weight: bold\">11</span>, <span style=\"color: #008080; text-decoration-color: #008080; font-weight: bold\">5</span>, <span style=\"color: #008080; text-decoration-color: #008080; font-weight: bold\">12</span><span style=\"font-weight: bold\">]</span>, <span style=\"color: #008000; text-decoration-color: #008000\">'total'</span>: <span style=\"color: #008080; text-decoration-color: #008080; font-weight: bold\">54</span><span style=\"font-weight: bold\">}</span>\n",
       "</pre>\n"
      ],
      "text/plain": [
       "\u001B[1m{\u001B[0m\u001B[32m'numbers'\u001B[0m: \u001B[1m[\u001B[0m\u001B[1;36m6\u001B[0m, \u001B[1;36m5\u001B[0m, \u001B[1;36m5\u001B[0m, \u001B[1;36m10\u001B[0m, \u001B[1;36m11\u001B[0m, \u001B[1;36m5\u001B[0m, \u001B[1;36m12\u001B[0m\u001B[1m]\u001B[0m, \u001B[32m'total'\u001B[0m: \u001B[1;36m54\u001B[0m\u001B[1m}\u001B[0m\n"
      ]
     },
     "metadata": {},
     "output_type": "display_data"
    }
   ],
   "source": [
    "display(Image(app.get_graph().draw_mermaid_png()))\n",
    "\n",
    "with open(\"./output/06.2-Looping_Logic.png\", \"wb\") as f:\n",
    "    f.write(app.get_graph().draw_mermaid_png())\n",
    "\n",
    "# save mermaid graph to a file\n",
    "final_state = app.invoke({\"numbers\": [], \"total\": 0})\n",
    "print(\"\\nFinal state:\")\n",
    "print(final_state)\n",
    "\n",
    "# Save the Mermaid representation of the graph\n",
    "with open(\"./output/06.2-Looping_Logic.mmd\", \"w\") as f:\n",
    "    f.write(app.get_graph().draw_mermaid())"
   ]
  },
  {
   "cell_type": "markdown",
   "metadata": {},
   "source": [
    "### Running the Second Graph\n"
   ]
  },
  {
   "cell_type": "code",
   "execution_count": null,
   "metadata": {},
   "outputs": [
    {
     "data": {
      "text/html": [
       "<pre style=\"white-space:pre;overflow-x:auto;line-height:normal;font-family:Menlo,'DejaVu Sans Mono',consolas,'Courier New',monospace\">Total is <span style=\"color: #008080; text-decoration-color: #008080; font-weight: bold\">14</span>, adding another number<span style=\"color: #808000; text-decoration-color: #808000\">...</span>\n",
       "</pre>\n"
      ],
      "text/plain": [
       "Total is \u001B[1;36m14\u001B[0m, adding another number\u001B[33m...\u001B[0m\n"
      ]
     },
     "metadata": {},
     "output_type": "display_data"
    },
    {
     "data": {
      "text/html": [
       "<pre style=\"white-space:pre;overflow-x:auto;line-height:normal;font-family:Menlo,'DejaVu Sans Mono',consolas,'Courier New',monospace\">\n",
       "Final state:\n",
       "</pre>\n"
      ],
      "text/plain": [
       "\n",
       "Final state:\n"
      ]
     },
     "metadata": {},
     "output_type": "display_data"
    },
    {
     "data": {
      "text/html": [
       "<pre style=\"white-space:pre;overflow-x:auto;line-height:normal;font-family:Menlo,'DejaVu Sans Mono',consolas,'Courier New',monospace\"><span style=\"font-weight: bold\">{</span><span style=\"color: #008000; text-decoration-color: #008000\">'numbers'</span>: <span style=\"font-weight: bold\">[</span><span style=\"color: #008080; text-decoration-color: #008080; font-weight: bold\">14</span><span style=\"font-weight: bold\">]</span>, <span style=\"color: #008000; text-decoration-color: #008000\">'total'</span>: <span style=\"color: #008080; text-decoration-color: #008080; font-weight: bold\">14</span><span style=\"font-weight: bold\">}</span>\n",
       "</pre>\n"
      ],
      "text/plain": [
       "\u001B[1m{\u001B[0m\u001B[32m'numbers'\u001B[0m: \u001B[1m[\u001B[0m\u001B[1;36m14\u001B[0m\u001B[1m]\u001B[0m, \u001B[32m'total'\u001B[0m: \u001B[1;36m14\u001B[0m\u001B[1m}\u001B[0m\n"
      ]
     },
     "metadata": {},
     "output_type": "display_data"
    }
   ],
   "source": [
    "final_state = app.invoke({\"numbers\": [], \"total\": 0})\n",
    "\n",
    "print(\"\\nFinal state:\")\n",
    "print(final_state)"
   ]
  },
  {
   "cell_type": "code",
   "execution_count": null,
   "metadata": {},
   "outputs": [],
   "source": []
  }
 ],
 "metadata": {
  "kernelspec": {
   "display_name": "py312",
   "language": "python",
   "name": "python3"
  },
  "language_info": {
   "codemirror_mode": {
    "name": "ipython",
    "version": 3
   },
   "file_extension": ".py",
   "mimetype": "text/x-python",
   "name": "python",
   "nbconvert_exporter": "python",
   "pygments_lexer": "ipython3",
   "version": "3.12.9"
  }
 },
 "nbformat": 4,
 "nbformat_minor": 4
}
