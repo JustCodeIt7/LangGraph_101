{
 "cells": [
  {
   "cell_type": "markdown",
   "id": "5f4f0eb3",
   "metadata": {},
   "source": [
    "# Conditional Routing\n"
   ]
  },
  {
   "cell_type": "code",
   "execution_count": null,
   "id": "c37a1c52",
   "metadata": {},
   "outputs": [],
   "source": [
    "from typing import TypedDict\n",
    "from langgraph.graph import StateGraph, START, END"
   ]
  },
  {
   "cell_type": "code",
   "execution_count": null,
   "id": "d96d13fa",
   "metadata": {},
   "outputs": [],
   "source": [
    "class NumberState(TypedDict):\n",
    "    number: int\n",
    "    result: int\n",
    "\n"
   ]
  },
  {
   "cell_type": "code",
   "execution_count": null,
   "id": "9200477f",
   "metadata": {},
   "outputs": [],
   "source": [
    "def square_node(state: NumberState) -> NumberState:\n",
    "    \"\"\"If positive: square the number\"\"\"\n",
    "    state[\"result\"] = state[\"number\"] ** 2\n",
    "    return state\n",
    "\n",
    "def abs_node(state: NumberState) -> NumberState:\n",
    "    \"\"\"If negative: take absolute value\"\"\"\n",
    "    state[\"result\"] = abs(state[\"number\"])\n",
    "    return state\n",
    "\n",
    "def zero_node(state: NumberState) -> NumberState:\n",
    "    \"\"\"If zero: leave as zero\"\"\"\n",
    "    state[\"result\"] = 0\n",
    "    return state\n",
    "\n",
    "def route_by_sign(state: NumberState) -> str:\n",
    "    \"\"\"Choose next node based on the sign of the number\"\"\"\n",
    "    if state[\"number\"] > 0:\n",
    "        return \"positive_branch\"\n",
    "    elif state[\"number\"] < 0:\n",
    "        return \"negative_branch\"\n",
    "    else:\n",
    "        return \"zero_branch\"\n"
   ]
  },
  {
   "cell_type": "code",
   "execution_count": null,
   "id": "961f82fc",
   "metadata": {},
   "outputs": [],
   "source": [
    "# Build the graph\n",
    "graph = StateGraph(NumberState)\n",
    "\n",
    "# Add our transformation nodes\n",
    "graph.add_node(\"square_node\", square_node)\n",
    "graph.add_node(\"abs_node\", abs_node)\n",
    "graph.add_node(\"zero_node\", zero_node)\n",
    "\n",
    "# A passthrough router node\n",
    "graph.add_node(\"router\", lambda s: s)\n",
    "\n",
    "# Link start → router\n",
    "graph.add_edge(START, \"router\")\n",
    "\n",
    "# Conditional edges from router into each branch\n",
    "graph.add_conditional_edges(\n",
    "    \"router\",\n",
    "    route_by_sign,\n",
    "    {\n",
    "        \"positive_branch\": \"square_node\",\n",
    "        \"negative_branch\": \"abs_node\",\n",
    "        \"zero_branch\":     \"zero_node\"\n",
    "    }\n",
    ")\n",
    "\n",
    "# All branches lead to END\n",
    "graph.add_edge(\"square_node\", END)\n",
    "graph.add_edge(\"abs_node\",    END)\n",
    "graph.add_edge(\"zero_node\",   END)\n",
    "\n",
    "# Compile into an executable app\n",
    "app = graph.compile()\n"
   ]
  },
  {
   "cell_type": "code",
   "execution_count": null,
   "id": "60d8dae4",
   "metadata": {},
   "outputs": [
    {
     "data": {
      "image/png": "[encoded data removed]",
      "text/plain": [
       "<IPython.core.display.Image object>"
      ]
     },
     "metadata": {},
     "output_type": "display_data"
    }
   ],
   "source": [
    "# (Optional) visualize the graph\n",
    "from IPython.display import Image, display\n",
    "display(Image(app.get_graph().draw_mermaid_png()))"
   ]
  },
  {
   "cell_type": "code",
   "execution_count": 8,
   "id": "e2ada29f",
   "metadata": {},
   "outputs": [
    {
     "name": "stdout",
     "output_type": "stream",
     "text": [
      "Input:  5 → Result: 25\n",
      "Input: -3 → Result: 3\n",
      "Input:  0 → Result: 0\n"
     ]
    }
   ],
   "source": [
    "# Test it out:\n",
    "for test_number in [ 5, -3,  0]:\n",
    "    state: NumberState = {\"number\": test_number, \"result\": None}  # type: ignore\n",
    "    out = app.invoke(state)\n",
    "    print(f\"Input: {test_number:>2} → Result: {out['result']}\")"
   ]
  },
  {
   "cell_type": "code",
   "execution_count": null,
   "id": "e908cf76",
   "metadata": {},
   "outputs": [],
   "source": []
  }
 ],
 "metadata": {
  "kernelspec": {
   "display_name": "py312",
   "language": "python",
   "name": "python3"
  },
  "language_info": {
   "codemirror_mode": {
    "name": "ipython",
    "version": 3
   },
   "file_extension": ".py",
   "mimetype": "text/x-python",
   "name": "python",
   "nbconvert_exporter": "python",
   "pygments_lexer": "ipython3",
   "version": "3.12.9"
  }
 },
 "nbformat": 4,
 "nbformat_minor": 5
}
