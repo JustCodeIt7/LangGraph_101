{
 "cells": [
  {
   "cell_type": "markdown",
   "id": "5f4f0eb3",
   "metadata": {},
   "source": [
    "# Conditional Routing\n"
   ]
  },
  {
   "cell_type": "markdown",
   "id": "870fd78e",
   "metadata": {},
   "source": []
  }
 ],
 "metadata": {
  "language_info": {
   "name": "python"
  }
 },
 "nbformat": 4,
 "nbformat_minor": 5
}
