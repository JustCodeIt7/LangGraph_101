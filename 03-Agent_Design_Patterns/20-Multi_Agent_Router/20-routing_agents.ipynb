{
 "cells": [
  {
   "cell_type": "markdown",
   "metadata": {},
   "source": [
    "# Multi-Agent Routing with LangGraph\n",
    "\n",
    "This notebook demonstrates how to build a multi-agent system that directs queries to specialized language models (LLMs) based on their content. We will use LangGraph to create a stateful graph that manages the routing logic.\n",
    "\n",
    "## Key Features of the Router\n",
    "\n",
    "-  **Router Functionality:** Enables an LLM to select a single step from multiple options.\n",
    "-  **Router Control:** Offers limited control, as the LLM makes one decision and generates specific output from predefined choices.\n",
    "\n",
    "## Overview of Graph Structure\n",
    "\n",
    "-  A code-specialized LLM\n",
    "-  A math-specialized LLM\n",
    "-  A creative-specialized LLM\n",
    "-  A general-purpose LLM\n",
    "\n",
    "## 1. Imports and State Definition"
   ]
  },
  {
   "cell_type": "code",
   "execution_count": null,
   "metadata": {
    "ExecuteTime": {
     "end_time": "2025-09-09T00:16:43.750063Z",
     "start_time": "2025-09-09T00:16:43.263437Z"
    }
   },
   "outputs": [],
   "source": [
    "from typing import TypedDict, Literal\n",
    "from langgraph.graph import StateGraph, END\n",
    "from dotenv import load_dotenv\n",
    "from langchain_openai import ChatOpenAI\n",
    "from langchain_core.messages import SystemMessage, HumanMessage\n",
    "from rich import print\n",
    "from langchain_ollama import ChatOllama, OllamaEmbeddings\n",
    "\n",
    "load_dotenv()"
   ]
  },
  {
   "cell_type": "code",
   "execution_count": null,
   "metadata": {
    "ExecuteTime": {
     "end_time": "2025-09-09T00:16:43.756012Z",
     "start_time": "2025-09-09T00:16:43.754028Z"
    }
   },
   "outputs": [],
   "source": [
    "# Define the state structure\n",
    "class AgentState(TypedDict):\n",
    "    query: str\n",
    "    route: str\n",
    "    response: str\n",
    "    reasoning: str"
   ]
  },
  {
   "cell_type": "markdown",
   "metadata": {},
   "source": [
    "## 2. Mock LLM Definitions\n",
    "\n",
    "To simulate a multi-agent environment without requiring actual API calls, we define several mock LLM functions. Each function represents a specialized agent and returns a formatted string indicating which LLM was called.\n",
    "\n",
    "In a real-world application, these would be replaced with actual calls to different LLM APIs or models."
   ]
  },
  {
   "cell_type": "code",
   "execution_count": null,
   "metadata": {
    "ExecuteTime": {
     "end_time": "2025-09-09T00:16:43.762304Z",
     "start_time": "2025-09-09T00:16:43.760267Z"
    }
   },
   "outputs": [],
   "source": [
    "# Mock LLM responses (replace with actual LLM calls)\n",
    "def code_llm(query: str) -> str:\n",
    "    \"\"\"Specialized LLM for coding questions\"\"\"\n",
    "    return f\"[CODE LLM] Here's a programming solution for: {query}\"\n",
    "\n",
    "def math_llm(query: str) -> str:\n",
    "    \"\"\"Specialized LLM for math questions\"\"\"\n",
    "    return f'[MATH LLM] Mathematical analysis of: {query}'\n",
    "\n",
    "def general_llm(query: str) -> str:\n",
    "    \"\"\"General purpose LLM\"\"\"\n",
    "    return f'[GENERAL LLM] General response to: {query}'\n",
    "\n",
    "def creative_llm(query: str) -> str:\n",
    "    \"\"\"Specialized LLM for creative tasks\"\"\"\n",
    "    return f'[CREATIVE LLM] Creative response to: {query}'"
   ]
  },
  {
   "cell_type": "markdown",
   "metadata": {},
   "source": [
    "## 3. The Router Function\n",
    "\n",
    "The `route_query` function is the core of our routing logic. It inspects the user's query for specific keywords to determine the most appropriate LLM. \n",
    "\n",
    "It uses predefined lists of keywords for different domains (code, math, creative). If a keyword is found, it sets the `route` and `reasoning` fields in the agent's state. If no specific keywords are matched, it defaults to the 'general' route."
   ]
  },
  {
   "cell_type": "code",
   "execution_count": 37,
   "metadata": {
    "ExecuteTime": {
     "end_time": "2025-09-09T00:16:43.774005Z",
     "start_time": "2025-09-09T00:16:43.771237Z"
    }
   },
   "outputs": [],
   "source": [
    "import json\n",
    "\n",
    "def route_query(state: AgentState) -> AgentState:\n",
    "    \"\"\" Classify the user's query into a specific domain using an LLM.\n",
    "    Fall back to heuristic parsing if the LLM response is not valid JSON.\"\"\"\n",
    "    \n",
    "    # Extract and clean the user query from the state.\n",
    "    query = state[\"query\"].strip()\n",
    "\n",
    "    # Initialize the LLM for classification.\n",
    "    # llm = ChatOpenAI(model=\"gpt-4.1-nano\", max_tokens=500) # Alternative OpenAI model\n",
    "    llm = ChatOllama(model='llama3.2', temperature=0) # Use a local Llama 3.2 model for deterministic output\n",
    "\n",
    "    # Define the system prompt to instruct the LLM on its role and required output format.\n",
    "    system = SystemMessage(content=\"\"\"\n",
    "        You are a routing classifier. Given a user query, respond ONLY with one token from this set:\n",
    "        code | math | creative | general\n",
    "        Definitions:\n",
    "        - code: programming, software engineering, APIs, debugging, algorithms.\n",
    "        - math: equations, calculus, probability, statistics, numeric problem solving.\n",
    "        - creative: storytelling, poems, fiction, characters, plot, imaginative writing.\n",
    "        - general: anything else (explanations, science, history, general knowledge).\n",
    "        If ambiguous, choose the most plausible specialized category else 'general'.\n",
    "        Return a JSON object: {\"route\": <one of above>, \"reasoning\": \"short explanation\"}.\n",
    "        Strict JSON.\n",
    "        \"\"\".strip())\n",
    "    # Prepare the user's query for the LLM.\n",
    "    human = HumanMessage(content=f\"Query: {query}\")\n",
    "\n",
    "    # Send the request to the LLM.\n",
    "    raw = llm.invoke([system, human])\n",
    "    \n",
    "    # Normalize the LLM response to a string.\n",
    "    text = raw.content if hasattr(raw, 'content') else str(raw)\n",
    "\n",
    "    # Set default values in case parsing fails.\n",
    "    route = \"general\"\n",
    "    reasoning = \"LLM routing fallback to general\"\n",
    "    \n",
    "    # Attempt to parse the LLM's JSON output.\n",
    "    try:\n",
    "        data = json.loads(text)\n",
    "        route = data.get(\"route\", route)\n",
    "        reasoning = data.get(\"reasoning\", reasoning)\n",
    "    # If JSON parsing fails, use a heuristic to find the route.\n",
    "    except json.JSONDecodeError:\n",
    "        print(f\"[red]Warning:[/red] LLM routing output not valid JSON: {text[:100]}\")\n",
    "        lowered = text.lower()\n",
    "        # Scan the output for a valid route keyword.\n",
    "        for candidate in [\"code\", \"math\", \"creative\", \"general\"]:\n",
    "            if candidate in lowered:\n",
    "                route = candidate\n",
    "                reasoning = f\"Heuristic parse from LLM output: {text[:60]}\" # Log the raw output for debugging\n",
    "                break\n",
    "                \n",
    "    # Update the agent state with the routing decision.\n",
    "    state[\"route\"] = route\n",
    "    state[\"reasoning\"] = reasoning\n",
    "    \n",
    "    return state\n"
   ]
  },
  {
   "cell_type": "markdown",
   "metadata": {},
   "source": [
    "## 4. Agent Nodes\n",
    "\n",
    "Each of these functions represents a node in our graph. When the graph transitions to one of these nodes, the corresponding function is executed. Each function calls its specialized mock LLM with the query, and updates the `response` field in the state."
   ]
  },
  {
   "cell_type": "code",
   "execution_count": null,
   "metadata": {
    "ExecuteTime": {
     "end_time": "2025-09-09T00:16:43.779430Z",
     "start_time": "2025-09-09T00:16:43.777189Z"
    }
   },
   "outputs": [],
   "source": [
    "def handle_code_query(state: AgentState) -> AgentState:\n",
    "    \"\"\"Process query with code-specialized LLM\"\"\"\n",
    "    response = code_llm(state['query'])\n",
    "    state['response'] = response\n",
    "    return state\n",
    "\n",
    "def handle_math_query(state: AgentState) -> AgentState:\n",
    "    \"\"\"Process query with math-specialized LLM\"\"\"\n",
    "    response = math_llm(state['query'])\n",
    "    state['response'] = response\n",
    "    return state\n",
    "\n",
    "def handle_creative_query(state: AgentState) -> AgentState:\n",
    "    \"\"\"Process query with creative-specialized LLM\"\"\"\n",
    "    response = creative_llm(state['query'])\n",
    "    state['response'] = response\n",
    "    return state\n",
    "\n",
    "def handle_general_query(state: AgentState) -> AgentState:\n",
    "    \"\"\"Process query with general LLM\"\"\"\n",
    "    response = general_llm(state['query'])\n",
    "    state['response'] = response\n",
    "    return state"
   ]
  },
  {
   "cell_type": "markdown",
   "metadata": {},
   "source": [
    "## 5. Graph Construction\n",
    "\n",
    "Now we build the graph using `StateGraph`.\n",
    "\n",
    "1.  **Nodes**: We add the `router` and each of the specialized handler functions as nodes in the graph.\n",
    "2.  **Entry Point**: We set the `router` node as the entry point. All queries will start here.\n",
    "3.  **Conditional Edges**: After the `router` node, we use `add_conditional_edges`. The `determine_next_node` function reads the `route` from the state and tells the graph which specialized node to go to next.\n",
    "4.  **End Points**: After each specialized node has done its work, it transitions to the `END` state, finishing the execution for that query.\n",
    "5.  **Compilation**: Finally, we compile the workflow into a runnable application."
   ]
  },
  {
   "cell_type": "code",
   "execution_count": 38,
   "metadata": {
    "ExecuteTime": {
     "end_time": "2025-09-09T00:16:43.785202Z",
     "start_time": "2025-09-09T00:16:43.782832Z"
    }
   },
   "outputs": [],
   "source": [
    "def determine_next_node(state: AgentState) -> Literal['code', 'math', 'creative', 'general']:\n",
    "    \"\"\"Return the next node based on routing decision\"\"\"\n",
    "    return state['route']\n",
    "\n",
    "def create_routing_agent(use_llm: bool = True):\n",
    "    \"\"\"Create and return the LangGraph routing agent.\n",
    "\n",
    "    Args:\n",
    "        use_llm: If True and LLM available, use LLM router; otherwise keyword router.\n",
    "    \"\"\"\n",
    "\n",
    "    workflow = StateGraph(AgentState)\n",
    "    \n",
    "    # Add nodes\n",
    "    workflow.add_node('router', route_query)\n",
    "    workflow.add_node('code', handle_code_query)\n",
    "    workflow.add_node('math', handle_math_query)\n",
    "    workflow.add_node('creative', handle_creative_query)\n",
    "    workflow.add_node('general', handle_general_query)\n",
    "\n",
    "    workflow.set_entry_point('router')\n",
    "\n",
    "    workflow.add_conditional_edges(\n",
    "        'router', determine_next_node, {'code': 'code', 'math': 'math', 'creative': 'creative', 'general': 'general'}\n",
    "    )\n",
    "\n",
    "    workflow.add_edge('code', END)\n",
    "    workflow.add_edge('math', END)\n",
    "    workflow.add_edge('creative', END)\n",
    "    workflow.add_edge('general', END)\n",
    "\n",
    "    return workflow.compile()"
   ]
  },
  {
   "cell_type": "markdown",
   "metadata": {},
   "source": [
    "## 6. Execution and Demonstration\n",
    "\n",
    "Below we instantiate the routing agent. If an OpenAI-compatible API key is present (OPENAI_API_KEY), the router uses an LLM to classify the query; otherwise it falls back to deterministic keyword routing. You can override the model via the `ROUTER_MODEL` environment variable. Set `use_llm=False` in `create_routing_agent` to force keyword routing.\n"
   ]
  },
  {
   "cell_type": "code",
   "execution_count": 39,
   "metadata": {
    "ExecuteTime": {
     "end_time": "2025-09-09T00:16:43.904014Z",
     "start_time": "2025-09-09T00:16:43.788097Z"
    }
   },
   "outputs": [
    {
     "data": {
      "text/html": [
       "<pre style=\"white-space:pre;overflow-x:auto;line-height:normal;font-family:Menlo,'DejaVu Sans Mono',consolas,'Courier New',monospace\">Subgraph structure <span style=\"font-weight: bold\">(</span>router uses LLM = <span style=\"color: #00ff00; text-decoration-color: #00ff00; font-style: italic\">True</span> <span style=\"font-weight: bold\">)</span>\n",
       "</pre>\n"
      ],
      "text/plain": [
       "Subgraph structure \u001b[1m(\u001b[0mrouter uses LLM = \u001b[3;92mTrue\u001b[0m \u001b[1m)\u001b[0m\n"
      ]
     },
     "metadata": {},
     "output_type": "display_data"
    },
    {
     "data": {
      "image/png": "[encoded data removed]",
      "text/plain": [
       "<IPython.core.display.Image object>"
      ]
     },
     "metadata": {},
     "output_type": "display_data"
    }
   ],
   "source": [
    "agent = create_routing_agent(use_llm=True)\n",
    "print('Subgraph structure (router uses LLM =', bool(ChatOpenAI), ')')\n",
    "# Optional: Display a visualization of the graph's structure.\n",
    "try:\n",
    "    from IPython.display import Image, display\n",
    "    display(Image(agent.get_graph().draw_mermaid_png()))\n",
    "except Exception:\n",
    "    pass"
   ]
  },
  {
   "cell_type": "code",
   "execution_count": 40,
   "metadata": {
    "ExecuteTime": {
     "end_time": "2025-09-09T00:16:46.057193Z",
     "start_time": "2025-09-09T00:16:43.913966Z"
    }
   },
   "outputs": [
    {
     "data": {
      "text/html": [
       "<pre style=\"white-space:pre;overflow-x:auto;line-height:normal;font-family:Menlo,'DejaVu Sans Mono',consolas,'Courier New',monospace\"><span style=\"font-weight: bold\">╭──────────────────────────────────────────╮</span>\n",
       "<span style=\"font-weight: bold\">│ </span><span style=\"color: #008000; text-decoration-color: #008000; font-weight: bold\">LangGraph LLM-Powered Routing Agent Demo</span><span style=\"font-weight: bold\"> │</span>\n",
       "<span style=\"font-weight: bold\">╰──────────────────────────────────────────╯</span>\n",
       "</pre>\n"
      ],
      "text/plain": [
       "\u001b[1m╭──────────────────────────────────────────╮\u001b[0m\n",
       "\u001b[1m│\u001b[0m\u001b[1m \u001b[0m\u001b[1;32mLangGraph LLM-Powered Routing Agent Demo\u001b[0m\u001b[1m \u001b[0m\u001b[1m│\u001b[0m\n",
       "\u001b[1m╰──────────────────────────────────────────╯\u001b[0m\n"
      ]
     },
     "metadata": {},
     "output_type": "display_data"
    },
    {
     "data": {
      "text/html": [
       "<pre style=\"white-space:pre;overflow-x:auto;line-height:normal;font-family:Menlo,'DejaVu Sans Mono',consolas,'Courier New',monospace\"><span style=\"color: #800000; text-decoration-color: #800000\">───────────────────────────────────────────────────── </span><span style=\"font-weight: bold\">Query </span><span style=\"color: #008080; text-decoration-color: #008080; font-weight: bold\">1</span><span style=\"color: #800000; text-decoration-color: #800000\"> ─────────────────────────────────────────────────────</span>\n",
       "</pre>\n"
      ],
      "text/plain": [
       "\u001b[31m───────────────────────────────────────────────────── \u001b[0m\u001b[1mQuery \u001b[0m\u001b[1;36m1\u001b[0m\u001b[31m ─────────────────────────────────────────────────────\u001b[0m\n"
      ]
     },
     "metadata": {},
     "output_type": "display_data"
    },
    {
     "data": {
      "text/html": [
       "<pre style=\"white-space:pre;overflow-x:auto;line-height:normal;font-family:Menlo,'DejaVu Sans Mono',consolas,'Courier New',monospace\"><span style=\"font-weight: bold\">Query:</span> <span style=\"font-style: italic\">How do I implement a binary search algorithm in Python?</span>\n",
       "\n",
       "</pre>\n"
      ],
      "text/plain": [
       "\u001b[1mQuery:\u001b[0m \u001b[3mHow do I implement a binary search algorithm in Python?\u001b[0m\n",
       "\n"
      ]
     },
     "metadata": {},
     "output_type": "display_data"
    },
    {
     "data": {
      "text/html": [
       "<pre style=\"white-space:pre;overflow-x:auto;line-height:normal;font-family:Menlo,'DejaVu Sans Mono',consolas,'Courier New',monospace\"><span style=\"color: #800000; text-decoration-color: #800000\">Warning:</span> LLM routing output not valid JSON: ```\n",
       "<span style=\"font-weight: bold\">{</span><span style=\"color: #008000; text-decoration-color: #008000\">\"route\"</span>: <span style=\"color: #008000; text-decoration-color: #008000\">\"code\"</span>, <span style=\"color: #008000; text-decoration-color: #008000\">\"reasoning\"</span>: \"binary search is an efficient algorithm for finding an item from\n",
       "</pre>\n"
      ],
      "text/plain": [
       "\u001b[31mWarning:\u001b[0m LLM routing output not valid JSON: ```\n",
       "\u001b[1m{\u001b[0m\u001b[32m\"route\"\u001b[0m: \u001b[32m\"code\"\u001b[0m, \u001b[32m\"reasoning\"\u001b[0m: \"binary search is an efficient algorithm for finding an item from\n"
      ]
     },
     "metadata": {},
     "output_type": "display_data"
    },
    {
     "data": {
      "text/html": [
       "<pre style=\"white-space:pre;overflow-x:auto;line-height:normal;font-family:Menlo,'DejaVu Sans Mono',consolas,'Courier New',monospace\">   <span style=\"color: #008080; text-decoration-color: #008080; font-weight: bold\">Route:</span> <span style=\"color: #808000; text-decoration-color: #808000\">code</span>\n",
       "</pre>\n"
      ],
      "text/plain": [
       "   \u001b[1;36mRoute:\u001b[0m \u001b[33mcode\u001b[0m\n"
      ]
     },
     "metadata": {},
     "output_type": "display_data"
    },
    {
     "data": {
      "text/html": [
       "<pre style=\"white-space:pre;overflow-x:auto;line-height:normal;font-family:Menlo,'DejaVu Sans Mono',consolas,'Courier New',monospace\">   <span style=\"color: #008080; text-decoration-color: #008080; font-weight: bold\">Reasoning:</span> Heuristic parse from LLM output: ```\n",
       "<span style=\"font-weight: bold\">{</span><span style=\"color: #008000; text-decoration-color: #008000\">\"route\"</span>: <span style=\"color: #008000; text-decoration-color: #008000\">\"code\"</span>, <span style=\"color: #008000; text-decoration-color: #008000\">\"reasoning\"</span>: \"binary search is an effi\n",
       "</pre>\n"
      ],
      "text/plain": [
       "   \u001b[1;36mReasoning:\u001b[0m Heuristic parse from LLM output: ```\n",
       "\u001b[1m{\u001b[0m\u001b[32m\"route\"\u001b[0m: \u001b[32m\"code\"\u001b[0m, \u001b[32m\"reasoning\"\u001b[0m: \"binary search is an effi\n"
      ]
     },
     "metadata": {},
     "output_type": "display_data"
    },
    {
     "data": {
      "text/html": [
       "<pre style=\"white-space:pre;overflow-x:auto;line-height:normal;font-family:Menlo,'DejaVu Sans Mono',consolas,'Courier New',monospace\">   <span style=\"color: #008080; text-decoration-color: #008080; font-weight: bold\">Response:</span> <span style=\"font-weight: bold\">[</span>CODE LLM<span style=\"font-weight: bold\">]</span> Here's a programming solution for: How do I implement a binary search algorithm in \n",
       "Python<span style=\"color: #808000; text-decoration-color: #808000\">...</span>\n",
       "</pre>\n"
      ],
      "text/plain": [
       "   \u001b[1;36mResponse:\u001b[0m \u001b[1m[\u001b[0mCODE LLM\u001b[1m]\u001b[0m Here's a programming solution for: How do I implement a binary search algorithm in \n",
       "Python\u001b[33m...\u001b[0m\n"
      ]
     },
     "metadata": {},
     "output_type": "display_data"
    },
    {
     "data": {
      "text/html": [
       "<pre style=\"white-space:pre;overflow-x:auto;line-height:normal;font-family:Menlo,'DejaVu Sans Mono',consolas,'Courier New',monospace\"><span style=\"color: #800000; text-decoration-color: #800000\">───────────────────────────────────────────────────── </span><span style=\"font-weight: bold\">Query </span><span style=\"color: #008080; text-decoration-color: #008080; font-weight: bold\">2</span><span style=\"color: #800000; text-decoration-color: #800000\"> ─────────────────────────────────────────────────────</span>\n",
       "</pre>\n"
      ],
      "text/plain": [
       "\u001b[31m───────────────────────────────────────────────────── \u001b[0m\u001b[1mQuery \u001b[0m\u001b[1;36m2\u001b[0m\u001b[31m ─────────────────────────────────────────────────────\u001b[0m\n"
      ]
     },
     "metadata": {},
     "output_type": "display_data"
    },
    {
     "data": {
      "text/html": [
       "<pre style=\"white-space:pre;overflow-x:auto;line-height:normal;font-family:Menlo,'DejaVu Sans Mono',consolas,'Courier New',monospace\"><span style=\"font-weight: bold\">Query:</span> <span style=\"font-style: italic\">What's the integral of 2x³ + 5x² - 3x + </span><span style=\"color: #008080; text-decoration-color: #008080; font-weight: bold; font-style: italic\">7</span><span style=\"font-style: italic\">?</span>\n",
       "\n",
       "</pre>\n"
      ],
      "text/plain": [
       "\u001b[1mQuery:\u001b[0m \u001b[3mWhat's the integral of 2x³ + 5x² - 3x + \u001b[0m\u001b[1;3;36m7\u001b[0m\u001b[3m?\u001b[0m\n",
       "\n"
      ]
     },
     "metadata": {},
     "output_type": "display_data"
    },
    {
     "data": {
      "text/html": [
       "<pre style=\"white-space:pre;overflow-x:auto;line-height:normal;font-family:Menlo,'DejaVu Sans Mono',consolas,'Courier New',monospace\"><span style=\"color: #800000; text-decoration-color: #800000\">Warning:</span> LLM routing output not valid JSON: ```\n",
       "<span style=\"font-weight: bold\">{</span><span style=\"color: #008000; text-decoration-color: #008000\">\"route\"</span>: <span style=\"color: #008000; text-decoration-color: #008000\">\"math\"</span>, <span style=\"color: #008000; text-decoration-color: #008000\">\"reasoning\"</span>: \"The query involves a mathematical operation, specifically findin\n",
       "</pre>\n"
      ],
      "text/plain": [
       "\u001b[31mWarning:\u001b[0m LLM routing output not valid JSON: ```\n",
       "\u001b[1m{\u001b[0m\u001b[32m\"route\"\u001b[0m: \u001b[32m\"math\"\u001b[0m, \u001b[32m\"reasoning\"\u001b[0m: \"The query involves a mathematical operation, specifically findin\n"
      ]
     },
     "metadata": {},
     "output_type": "display_data"
    },
    {
     "data": {
      "text/html": [
       "<pre style=\"white-space:pre;overflow-x:auto;line-height:normal;font-family:Menlo,'DejaVu Sans Mono',consolas,'Courier New',monospace\">   <span style=\"color: #008080; text-decoration-color: #008080; font-weight: bold\">Route:</span> <span style=\"color: #808000; text-decoration-color: #808000\">math</span>\n",
       "</pre>\n"
      ],
      "text/plain": [
       "   \u001b[1;36mRoute:\u001b[0m \u001b[33mmath\u001b[0m\n"
      ]
     },
     "metadata": {},
     "output_type": "display_data"
    },
    {
     "data": {
      "text/html": [
       "<pre style=\"white-space:pre;overflow-x:auto;line-height:normal;font-family:Menlo,'DejaVu Sans Mono',consolas,'Courier New',monospace\">   <span style=\"color: #008080; text-decoration-color: #008080; font-weight: bold\">Reasoning:</span> Heuristic parse from LLM output: ```\n",
       "<span style=\"font-weight: bold\">{</span><span style=\"color: #008000; text-decoration-color: #008000\">\"route\"</span>: <span style=\"color: #008000; text-decoration-color: #008000\">\"math\"</span>, <span style=\"color: #008000; text-decoration-color: #008000\">\"reasoning\"</span>: \"The query involves a mat\n",
       "</pre>\n"
      ],
      "text/plain": [
       "   \u001b[1;36mReasoning:\u001b[0m Heuristic parse from LLM output: ```\n",
       "\u001b[1m{\u001b[0m\u001b[32m\"route\"\u001b[0m: \u001b[32m\"math\"\u001b[0m, \u001b[32m\"reasoning\"\u001b[0m: \"The query involves a mat\n"
      ]
     },
     "metadata": {},
     "output_type": "display_data"
    },
    {
     "data": {
      "text/html": [
       "<pre style=\"white-space:pre;overflow-x:auto;line-height:normal;font-family:Menlo,'DejaVu Sans Mono',consolas,'Courier New',monospace\">   <span style=\"color: #008080; text-decoration-color: #008080; font-weight: bold\">Response:</span> <span style=\"font-weight: bold\">[</span>MATH LLM<span style=\"font-weight: bold\">]</span> Mathematical analysis of: What's the integral of 2x³ + 5x² - 3x + <span style=\"color: #008080; text-decoration-color: #008080; font-weight: bold\">7</span>?<span style=\"color: #808000; text-decoration-color: #808000\">...</span>\n",
       "</pre>\n"
      ],
      "text/plain": [
       "   \u001b[1;36mResponse:\u001b[0m \u001b[1m[\u001b[0mMATH LLM\u001b[1m]\u001b[0m Mathematical analysis of: What's the integral of 2x³ + 5x² - 3x + \u001b[1;36m7\u001b[0m?\u001b[33m...\u001b[0m\n"
      ]
     },
     "metadata": {},
     "output_type": "display_data"
    },
    {
     "data": {
      "text/html": [
       "<pre style=\"white-space:pre;overflow-x:auto;line-height:normal;font-family:Menlo,'DejaVu Sans Mono',consolas,'Courier New',monospace\"><span style=\"color: #800000; text-decoration-color: #800000\">───────────────────────────────────────────────────── </span><span style=\"font-weight: bold\">Query </span><span style=\"color: #008080; text-decoration-color: #008080; font-weight: bold\">3</span><span style=\"color: #800000; text-decoration-color: #800000\"> ─────────────────────────────────────────────────────</span>\n",
       "</pre>\n"
      ],
      "text/plain": [
       "\u001b[31m───────────────────────────────────────────────────── \u001b[0m\u001b[1mQuery \u001b[0m\u001b[1;36m3\u001b[0m\u001b[31m ─────────────────────────────────────────────────────\u001b[0m\n"
      ]
     },
     "metadata": {},
     "output_type": "display_data"
    },
    {
     "data": {
      "text/html": [
       "<pre style=\"white-space:pre;overflow-x:auto;line-height:normal;font-family:Menlo,'DejaVu Sans Mono',consolas,'Courier New',monospace\"><span style=\"font-weight: bold\">Query:</span> <span style=\"font-style: italic\">Write a mysterious short story about a lighthouse keeper</span>\n",
       "\n",
       "</pre>\n"
      ],
      "text/plain": [
       "\u001b[1mQuery:\u001b[0m \u001b[3mWrite a mysterious short story about a lighthouse keeper\u001b[0m\n",
       "\n"
      ]
     },
     "metadata": {},
     "output_type": "display_data"
    },
    {
     "data": {
      "text/html": [
       "<pre style=\"white-space:pre;overflow-x:auto;line-height:normal;font-family:Menlo,'DejaVu Sans Mono',consolas,'Courier New',monospace\">   <span style=\"color: #008080; text-decoration-color: #008080; font-weight: bold\">Route:</span> <span style=\"color: #808000; text-decoration-color: #808000\">creative</span>\n",
       "</pre>\n"
      ],
      "text/plain": [
       "   \u001b[1;36mRoute:\u001b[0m \u001b[33mcreative\u001b[0m\n"
      ]
     },
     "metadata": {},
     "output_type": "display_data"
    },
    {
     "data": {
      "text/html": [
       "<pre style=\"white-space:pre;overflow-x:auto;line-height:normal;font-family:Menlo,'DejaVu Sans Mono',consolas,'Courier New',monospace\">   <span style=\"color: #008080; text-decoration-color: #008080; font-weight: bold\">Reasoning:</span> The query is related to storytelling, which falls under the creative category.\n",
       "</pre>\n"
      ],
      "text/plain": [
       "   \u001b[1;36mReasoning:\u001b[0m The query is related to storytelling, which falls under the creative category.\n"
      ]
     },
     "metadata": {},
     "output_type": "display_data"
    },
    {
     "data": {
      "text/html": [
       "<pre style=\"white-space:pre;overflow-x:auto;line-height:normal;font-family:Menlo,'DejaVu Sans Mono',consolas,'Courier New',monospace\">   <span style=\"color: #008080; text-decoration-color: #008080; font-weight: bold\">Response:</span> <span style=\"font-weight: bold\">[</span>CREATIVE LLM<span style=\"font-weight: bold\">]</span> Creative response to: Write a mysterious short story about a lighthouse keeper<span style=\"color: #808000; text-decoration-color: #808000\">...</span>\n",
       "</pre>\n"
      ],
      "text/plain": [
       "   \u001b[1;36mResponse:\u001b[0m \u001b[1m[\u001b[0mCREATIVE LLM\u001b[1m]\u001b[0m Creative response to: Write a mysterious short story about a lighthouse keeper\u001b[33m...\u001b[0m\n"
      ]
     },
     "metadata": {},
     "output_type": "display_data"
    },
    {
     "data": {
      "text/html": [
       "<pre style=\"white-space:pre;overflow-x:auto;line-height:normal;font-family:Menlo,'DejaVu Sans Mono',consolas,'Courier New',monospace\"><span style=\"color: #800000; text-decoration-color: #800000\">───────────────────────────────────────────────────── </span><span style=\"font-weight: bold\">Query </span><span style=\"color: #008080; text-decoration-color: #008080; font-weight: bold\">4</span><span style=\"color: #800000; text-decoration-color: #800000\"> ─────────────────────────────────────────────────────</span>\n",
       "</pre>\n"
      ],
      "text/plain": [
       "\u001b[31m───────────────────────────────────────────────────── \u001b[0m\u001b[1mQuery \u001b[0m\u001b[1;36m4\u001b[0m\u001b[31m ─────────────────────────────────────────────────────\u001b[0m\n"
      ]
     },
     "metadata": {},
     "output_type": "display_data"
    },
    {
     "data": {
      "text/html": [
       "<pre style=\"white-space:pre;overflow-x:auto;line-height:normal;font-family:Menlo,'DejaVu Sans Mono',consolas,'Courier New',monospace\"><span style=\"font-weight: bold\">Query:</span> <span style=\"font-style: italic\">What causes the northern lights phenomenon?</span>\n",
       "\n",
       "</pre>\n"
      ],
      "text/plain": [
       "\u001b[1mQuery:\u001b[0m \u001b[3mWhat causes the northern lights phenomenon?\u001b[0m\n",
       "\n"
      ]
     },
     "metadata": {},
     "output_type": "display_data"
    },
    {
     "data": {
      "text/html": [
       "<pre style=\"white-space:pre;overflow-x:auto;line-height:normal;font-family:Menlo,'DejaVu Sans Mono',consolas,'Courier New',monospace\">   <span style=\"color: #008080; text-decoration-color: #008080; font-weight: bold\">Route:</span> <span style=\"color: #808000; text-decoration-color: #808000\">general</span>\n",
       "</pre>\n"
      ],
      "text/plain": [
       "   \u001b[1;36mRoute:\u001b[0m \u001b[33mgeneral\u001b[0m\n"
      ]
     },
     "metadata": {},
     "output_type": "display_data"
    },
    {
     "data": {
      "text/html": [
       "<pre style=\"white-space:pre;overflow-x:auto;line-height:normal;font-family:Menlo,'DejaVu Sans Mono',consolas,'Courier New',monospace\">   <span style=\"color: #008080; text-decoration-color: #008080; font-weight: bold\">Reasoning:</span> The Northern Lights are a natural light display caused by charged particles from the sun interacting \n",
       "with the Earth's magnetic field and atmosphere.\n",
       "</pre>\n"
      ],
      "text/plain": [
       "   \u001b[1;36mReasoning:\u001b[0m The Northern Lights are a natural light display caused by charged particles from the sun interacting \n",
       "with the Earth's magnetic field and atmosphere.\n"
      ]
     },
     "metadata": {},
     "output_type": "display_data"
    },
    {
     "data": {
      "text/html": [
       "<pre style=\"white-space:pre;overflow-x:auto;line-height:normal;font-family:Menlo,'DejaVu Sans Mono',consolas,'Courier New',monospace\">   <span style=\"color: #008080; text-decoration-color: #008080; font-weight: bold\">Response:</span> <span style=\"font-weight: bold\">[</span>GENERAL LLM<span style=\"font-weight: bold\">]</span> General response to: What causes the northern lights phenomenon?<span style=\"color: #808000; text-decoration-color: #808000\">...</span>\n",
       "</pre>\n"
      ],
      "text/plain": [
       "   \u001b[1;36mResponse:\u001b[0m \u001b[1m[\u001b[0mGENERAL LLM\u001b[1m]\u001b[0m General response to: What causes the northern lights phenomenon?\u001b[33m...\u001b[0m\n"
      ]
     },
     "metadata": {},
     "output_type": "display_data"
    },
    {
     "data": {
      "text/html": [
       "<pre style=\"white-space:pre;overflow-x:auto;line-height:normal;font-family:Menlo,'DejaVu Sans Mono',consolas,'Courier New',monospace\"><span style=\"color: #800000; text-decoration-color: #800000\">───────────────────────────────────────────────────── </span><span style=\"font-weight: bold\">Query </span><span style=\"color: #008080; text-decoration-color: #008080; font-weight: bold\">5</span><span style=\"color: #800000; text-decoration-color: #800000\"> ─────────────────────────────────────────────────────</span>\n",
       "</pre>\n"
      ],
      "text/plain": [
       "\u001b[31m───────────────────────────────────────────────────── \u001b[0m\u001b[1mQuery \u001b[0m\u001b[1;36m5\u001b[0m\u001b[31m ─────────────────────────────────────────────────────\u001b[0m\n"
      ]
     },
     "metadata": {},
     "output_type": "display_data"
    },
    {
     "data": {
      "text/html": [
       "<pre style=\"white-space:pre;overflow-x:auto;line-height:normal;font-family:Menlo,'DejaVu Sans Mono',consolas,'Courier New',monospace\"><span style=\"font-weight: bold\">Query:</span> <span style=\"font-style: italic\">Help me optimize this SQL query performance</span>\n",
       "\n",
       "</pre>\n"
      ],
      "text/plain": [
       "\u001b[1mQuery:\u001b[0m \u001b[3mHelp me optimize this SQL query performance\u001b[0m\n",
       "\n"
      ]
     },
     "metadata": {},
     "output_type": "display_data"
    },
    {
     "data": {
      "text/html": [
       "<pre style=\"white-space:pre;overflow-x:auto;line-height:normal;font-family:Menlo,'DejaVu Sans Mono',consolas,'Courier New',monospace\"><span style=\"color: #800000; text-decoration-color: #800000\">Warning:</span> LLM routing output not valid JSON: ```\n",
       "<span style=\"font-weight: bold\">{</span>\n",
       "  <span style=\"color: #008000; text-decoration-color: #008000\">\"route\"</span>: <span style=\"color: #008000; text-decoration-color: #008000\">\"code\"</span>,\n",
       "  <span style=\"color: #008000; text-decoration-color: #008000\">\"reasoning\"</span>: \"The query is related to programming and software engineerin\n",
       "</pre>\n"
      ],
      "text/plain": [
       "\u001b[31mWarning:\u001b[0m LLM routing output not valid JSON: ```\n",
       "\u001b[1m{\u001b[0m\n",
       "  \u001b[32m\"route\"\u001b[0m: \u001b[32m\"code\"\u001b[0m,\n",
       "  \u001b[32m\"reasoning\"\u001b[0m: \"The query is related to programming and software engineerin\n"
      ]
     },
     "metadata": {},
     "output_type": "display_data"
    },
    {
     "data": {
      "text/html": [
       "<pre style=\"white-space:pre;overflow-x:auto;line-height:normal;font-family:Menlo,'DejaVu Sans Mono',consolas,'Courier New',monospace\">   <span style=\"color: #008080; text-decoration-color: #008080; font-weight: bold\">Route:</span> <span style=\"color: #808000; text-decoration-color: #808000\">code</span>\n",
       "</pre>\n"
      ],
      "text/plain": [
       "   \u001b[1;36mRoute:\u001b[0m \u001b[33mcode\u001b[0m\n"
      ]
     },
     "metadata": {},
     "output_type": "display_data"
    },
    {
     "data": {
      "text/html": [
       "<pre style=\"white-space:pre;overflow-x:auto;line-height:normal;font-family:Menlo,'DejaVu Sans Mono',consolas,'Courier New',monospace\">   <span style=\"color: #008080; text-decoration-color: #008080; font-weight: bold\">Reasoning:</span> Heuristic parse from LLM output: ```\n",
       "<span style=\"font-weight: bold\">{</span>\n",
       "  <span style=\"color: #008000; text-decoration-color: #008000\">\"route\"</span>: <span style=\"color: #008000; text-decoration-color: #008000\">\"code\"</span>,\n",
       "  <span style=\"color: #008000; text-decoration-color: #008000\">\"reasoning\"</span>: \"The query is relate\n",
       "</pre>\n"
      ],
      "text/plain": [
       "   \u001b[1;36mReasoning:\u001b[0m Heuristic parse from LLM output: ```\n",
       "\u001b[1m{\u001b[0m\n",
       "  \u001b[32m\"route\"\u001b[0m: \u001b[32m\"code\"\u001b[0m,\n",
       "  \u001b[32m\"reasoning\"\u001b[0m: \"The query is relate\n"
      ]
     },
     "metadata": {},
     "output_type": "display_data"
    },
    {
     "data": {
      "text/html": [
       "<pre style=\"white-space:pre;overflow-x:auto;line-height:normal;font-family:Menlo,'DejaVu Sans Mono',consolas,'Courier New',monospace\">   <span style=\"color: #008080; text-decoration-color: #008080; font-weight: bold\">Response:</span> <span style=\"font-weight: bold\">[</span>CODE LLM<span style=\"font-weight: bold\">]</span> Here's a programming solution for: Help me optimize this SQL query performance<span style=\"color: #808000; text-decoration-color: #808000\">...</span>\n",
       "</pre>\n"
      ],
      "text/plain": [
       "   \u001b[1;36mResponse:\u001b[0m \u001b[1m[\u001b[0mCODE LLM\u001b[1m]\u001b[0m Here's a programming solution for: Help me optimize this SQL query performance\u001b[33m...\u001b[0m\n"
      ]
     },
     "metadata": {},
     "output_type": "display_data"
    },
    {
     "data": {
      "text/html": [
       "<pre style=\"white-space:pre;overflow-x:auto;line-height:normal;font-family:Menlo,'DejaVu Sans Mono',consolas,'Courier New',monospace\"><span style=\"color: #800000; text-decoration-color: #800000\">───────────────────────────────────────────────────── </span><span style=\"font-weight: bold\">Query </span><span style=\"color: #008080; text-decoration-color: #008080; font-weight: bold\">6</span><span style=\"color: #800000; text-decoration-color: #800000\"> ─────────────────────────────────────────────────────</span>\n",
       "</pre>\n"
      ],
      "text/plain": [
       "\u001b[31m───────────────────────────────────────────────────── \u001b[0m\u001b[1mQuery \u001b[0m\u001b[1;36m6\u001b[0m\u001b[31m ─────────────────────────────────────────────────────\u001b[0m\n"
      ]
     },
     "metadata": {},
     "output_type": "display_data"
    },
    {
     "data": {
      "text/html": [
       "<pre style=\"white-space:pre;overflow-x:auto;line-height:normal;font-family:Menlo,'DejaVu Sans Mono',consolas,'Courier New',monospace\"><span style=\"font-weight: bold\">Query:</span> <span style=\"font-style: italic\">Solve for x: 3x² - 12x + </span><span style=\"color: #008080; text-decoration-color: #008080; font-weight: bold; font-style: italic\">9</span><span style=\"font-style: italic\"> = </span><span style=\"color: #008080; text-decoration-color: #008080; font-weight: bold; font-style: italic\">0</span>\n",
       "\n",
       "</pre>\n"
      ],
      "text/plain": [
       "\u001b[1mQuery:\u001b[0m \u001b[3mSolve for x: 3x² - 12x + \u001b[0m\u001b[1;3;36m9\u001b[0m\u001b[3m = \u001b[0m\u001b[1;3;36m0\u001b[0m\n",
       "\n"
      ]
     },
     "metadata": {},
     "output_type": "display_data"
    },
    {
     "data": {
      "text/html": [
       "<pre style=\"white-space:pre;overflow-x:auto;line-height:normal;font-family:Menlo,'DejaVu Sans Mono',consolas,'Courier New',monospace\">   <span style=\"color: #008080; text-decoration-color: #008080; font-weight: bold\">Route:</span> <span style=\"color: #808000; text-decoration-color: #808000\">math</span>\n",
       "</pre>\n"
      ],
      "text/plain": [
       "   \u001b[1;36mRoute:\u001b[0m \u001b[33mmath\u001b[0m\n"
      ]
     },
     "metadata": {},
     "output_type": "display_data"
    },
    {
     "data": {
      "text/html": [
       "<pre style=\"white-space:pre;overflow-x:auto;line-height:normal;font-family:Menlo,'DejaVu Sans Mono',consolas,'Courier New',monospace\">   <span style=\"color: #008080; text-decoration-color: #008080; font-weight: bold\">Reasoning:</span> This is a quadratic equation, which falls under the category of math.\n",
       "</pre>\n"
      ],
      "text/plain": [
       "   \u001b[1;36mReasoning:\u001b[0m This is a quadratic equation, which falls under the category of math.\n"
      ]
     },
     "metadata": {},
     "output_type": "display_data"
    },
    {
     "data": {
      "text/html": [
       "<pre style=\"white-space:pre;overflow-x:auto;line-height:normal;font-family:Menlo,'DejaVu Sans Mono',consolas,'Courier New',monospace\">   <span style=\"color: #008080; text-decoration-color: #008080; font-weight: bold\">Response:</span> <span style=\"font-weight: bold\">[</span>MATH LLM<span style=\"font-weight: bold\">]</span> Mathematical analysis of: Solve for x: 3x² - 12x + <span style=\"color: #008080; text-decoration-color: #008080; font-weight: bold\">9</span> = <span style=\"color: #008080; text-decoration-color: #008080; font-weight: bold\">0</span><span style=\"color: #808000; text-decoration-color: #808000\">...</span>\n",
       "</pre>\n"
      ],
      "text/plain": [
       "   \u001b[1;36mResponse:\u001b[0m \u001b[1m[\u001b[0mMATH LLM\u001b[1m]\u001b[0m Mathematical analysis of: Solve for x: 3x² - 12x + \u001b[1;36m9\u001b[0m = \u001b[1;36m0\u001b[0m\u001b[33m...\u001b[0m\n"
      ]
     },
     "metadata": {},
     "output_type": "display_data"
    }
   ],
   "source": [
    "from rich.panel import Panel\n",
    "from rich.rule import Rule\n",
    "\n",
    "test_queries = [\n",
    "    'How do I implement a binary search algorithm in Python?',\n",
    "    \"What's the integral of 2x³ + 5x² - 3x + 7?\",\n",
    "    'Write a mysterious short story about a lighthouse keeper',\n",
    "    'What causes the northern lights phenomenon?',\n",
    "    'Help me optimize this SQL query performance',\n",
    "    'Solve for x: 3x² - 12x + 9 = 0',\n",
    "]\n",
    "\n",
    "print(Panel.fit(\"[bold green]LangGraph LLM-Powered Routing Agent Demo[/bold green]\", style=\"bold\"))\n",
    "\n",
    "for i, query in enumerate(test_queries, 1):\n",
    "    print(Rule(f\"[bold]Query {i}[/bold]\", style=\"red\"))\n",
    "    print(f\"[bold]Query:[/bold] [italic]{query}[/italic]\\n\")\n",
    "\n",
    "    # Run the agent\n",
    "    result = agent.invoke({'query': query})\n",
    "\n",
    "    # Print results with rich formatting\n",
    "    print(f\"   [bold cyan]Route:[/bold cyan] [yellow]{result['route']}[/yellow]\")\n",
    "    print(f\"   [bold cyan]Reasoning:[/bold cyan] {result['reasoning']}\")\n",
    "    print(f\"   [bold cyan]Response:[/bold cyan] {result['response'][:100]}...\")"
   ]
  },
  {
   "cell_type": "markdown",
   "metadata": {},
   "source": []
  }
 ],
 "metadata": {
  "kernelspec": {
   "display_name": "py312",
   "language": "python",
   "name": "python3"
  },
  "language_info": {
   "codemirror_mode": {
    "name": "ipython",
    "version": 3
   },
   "file_extension": ".py",
   "mimetype": "text/x-python",
   "name": "python",
   "nbconvert_exporter": "python",
   "pygments_lexer": "ipython3",
   "version": "3.12.11"
  }
 },
 "nbformat": 4,
 "nbformat_minor": 2
}
