{
 "cells": [
  {
   "cell_type": "markdown",
   "metadata": {},
   "source": [
    "# Multi-Agent Routing with LangGraph\n",
    "\n",
    "This notebook demonstrates how to build a multi-agent system that routes queries to specialized language models (LLMs) based on the query's content. We'll use LangGraph to create a stateful graph that manages the routing logic.\n",
    "\n",
    "The original Python script, `ma_routing-v2.py`, defines a system with four mock LLMs:\n",
    "\n",
    "- A code-specialized LLM\n",
    "- A math-specialized LLM\n",
    "- A creative-specialized LLM\n",
    "- A general-purpose LLM\n",
    "\n",
    "A router analyzes the user's query and directs it to the most appropriate LLM. This approach allows for more accurate and context-aware responses by leveraging specialized expertise."
   ]
  },
  {
   "cell_type": "markdown",
   "metadata": {},
   "source": [
    "## 1. Imports and State Definition\n",
    "\n",
    "First, we import the necessary libraries. `TypedDict` is used to define the structure of our agent's state, and `StateGraph` and `END` are core components from LangGraph for building the graph.\n",
    "\n",
    "The `AgentState` class defines the data that will be passed between nodes in our graph. It includes:\n",
    "\n",
    "- `query`: The user's input string.\n",
    "- `route`: The determined destination for the query (e.g., 'code', 'math').\n",
    "- `response`: The final response from the selected LLM.\n",
    "- `reasoning`: An explanation of why a particular route was chosen."
   ]
  },
  {
   "cell_type": "code",
   "metadata": {
    "ExecuteTime": {
     "end_time": "2025-09-08T23:49:33.759060Z",
     "start_time": "2025-09-08T23:49:33.414745Z"
    }
   },
   "source": [
    "from typing import TypedDict, Literal\n",
    "from langgraph.graph import StateGraph, END\n",
    "import re\n",
    "\n",
    "# Define the state structure\n",
    "class AgentState(TypedDict):\n",
    "    query: str\n",
    "    route: str\n",
    "    response: str\n",
    "    reasoning: str"
   ],
   "outputs": [],
   "execution_count": 1
  },
  {
   "cell_type": "markdown",
   "metadata": {},
   "source": [
    "## 2. Mock LLM Definitions\n",
    "\n",
    "To simulate a multi-agent environment without requiring actual API calls, we define several mock LLM functions. Each function represents a specialized agent and returns a formatted string indicating which LLM was called.\n",
    "\n",
    "In a real-world application, these would be replaced with actual calls to different LLM APIs or models."
   ]
  },
  {
   "cell_type": "code",
   "metadata": {
    "ExecuteTime": {
     "end_time": "2025-09-08T23:49:33.771106Z",
     "start_time": "2025-09-08T23:49:33.768932Z"
    }
   },
   "source": [
    "# Mock LLM responses (replace with actual LLM calls)\n",
    "def code_llm(query: str) -> str:\n",
    "    \"\"\"Specialized LLM for coding questions\"\"\"\n",
    "    return f\"[CODE LLM] Here's a programming solution for: {query}\"\n",
    "\n",
    "def math_llm(query: str) -> str:\n",
    "    \"\"\"Specialized LLM for math questions\"\"\"\n",
    "    return f'[MATH LLM] Mathematical analysis of: {query}'\n",
    "\n",
    "def general_llm(query: str) -> str:\n",
    "    \"\"\"General purpose LLM\"\"\"\n",
    "    return f'[GENERAL LLM] General response to: {query}'\n",
    "\n",
    "def creative_llm(query: str) -> str:\n",
    "    \"\"\"Specialized LLM for creative tasks\"\"\"\n",
    "    return f'[CREATIVE LLM] Creative response to: {query}'"
   ],
   "outputs": [],
   "execution_count": 2
  },
  {
   "metadata": {},
   "cell_type": "markdown",
   "source": ""
  },
  {
   "cell_type": "markdown",
   "metadata": {},
   "source": [
    "## 3. The Router Function\n",
    "\n",
    "The `route_query` function is the core of our routing logic. It inspects the user's query for specific keywords to determine the most appropriate LLM. \n",
    "\n",
    "It uses predefined lists of keywords for different domains (code, math, creative). If a keyword is found, it sets the `route` and `reasoning` fields in the agent's state. If no specific keywords are matched, it defaults to the 'general' route."
   ]
  },
  {
   "cell_type": "code",
   "metadata": {
    "ExecuteTime": {
     "end_time": "2025-09-08T23:49:33.783893Z",
     "start_time": "2025-09-08T23:49:33.781521Z"
    }
   },
   "source": [
    "def route_query(state: AgentState) -> AgentState:\n",
    "    \"\"\"Analyze query and determine which LLM to use\"\"\"\n",
    "    query = state['query'].lower()\n",
    "\n",
    "    # Code-related keywords\n",
    "    code_keywords = [\n",
    "        'python', 'javascript', 'code', 'function', 'programming', \n",
    "        'algorithm', 'debug', 'api', 'class', 'variable',\n",
    "    ]\n",
    "\n",
    "    # Math-related keywords\n",
    "    math_keywords = [\n",
    "        'calculate', 'equation', 'math', 'formula', 'solve', \n",
    "        'probability', 'statistics', 'derivative', 'integral',\n",
    "    ]\n",
    "\n",
    "    # Creative keywords\n",
    "    creative_keywords = ['story', 'poem', 'creative', 'write', 'imagine', 'fictional', 'character', 'plot', 'narrative']\n",
    "\n",
    "    # Determine route based on keyword matching\n",
    "    if any(keyword in query for keyword in code_keywords):\n",
    "        route = 'code'\n",
    "        reasoning = 'Detected programming/coding related query'\n",
    "    elif any(keyword in query for keyword in math_keywords):\n",
    "        route = 'math'\n",
    "        reasoning = 'Detected mathematical/calculation query'\n",
    "    elif any(keyword in query for keyword in creative_keywords):\n",
    "        route = 'creative'\n",
    "        reasoning = 'Detected creative writing query'\n",
    "    else:\n",
    "        route = 'general'\n",
    "        reasoning = 'No specific specialization detected, using general LLM'\n",
    "\n",
    "    state['route'] = route\n",
    "    state['reasoning'] = reasoning\n",
    "    return state"
   ],
   "outputs": [],
   "execution_count": 3
  },
  {
   "cell_type": "markdown",
   "metadata": {},
   "source": [
    "## 4. Agent Nodes\n",
    "\n",
    "Each of these functions represents a node in our graph. When the graph transitions to one of these nodes, the corresponding function is executed. Each function calls its specialized mock LLM with the query, and updates the `response` field in the state."
   ]
  },
  {
   "cell_type": "code",
   "metadata": {
    "ExecuteTime": {
     "end_time": "2025-09-08T23:49:33.791870Z",
     "start_time": "2025-09-08T23:49:33.789921Z"
    }
   },
   "source": [
    "def handle_code_query(state: AgentState) -> AgentState:\n",
    "    \"\"\"Process query with code-specialized LLM\"\"\"\n",
    "    response = code_llm(state['query'])\n",
    "    state['response'] = response\n",
    "    return state\n",
    "\n",
    "def handle_math_query(state: AgentState) -> AgentState:\n",
    "    \"\"\"Process query with math-specialized LLM\"\"\"\n",
    "    response = math_llm(state['query'])\n",
    "    state['response'] = response\n",
    "    return state\n",
    "\n",
    "def handle_creative_query(state: AgentState) -> AgentState:\n",
    "    \"\"\"Process query with creative-specialized LLM\"\"\"\n",
    "    response = creative_llm(state['query'])\n",
    "    state['response'] = response\n",
    "    return state\n",
    "\n",
    "def handle_general_query(state: AgentState) -> AgentState:\n",
    "    \"\"\"Process query with general LLM\"\"\"\n",
    "    response = general_llm(state['query'])\n",
    "    state['response'] = response\n",
    "    return state"
   ],
   "outputs": [],
   "execution_count": 4
  },
  {
   "cell_type": "markdown",
   "metadata": {},
   "source": [
    "## 5. Graph Construction\n",
    "\n",
    "Now we build the graph using `StateGraph`.\n",
    "\n",
    "1.  **Nodes**: We add the `router` and each of the specialized handler functions as nodes in the graph.\n",
    "2.  **Entry Point**: We set the `router` node as the entry point. All queries will start here.\n",
    "3.  **Conditional Edges**: After the `router` node, we use `add_conditional_edges`. The `determine_next_node` function reads the `route` from the state and tells the graph which specialized node to go to next.\n",
    "4.  **End Points**: After each specialized node has done its work, it transitions to the `END` state, finishing the execution for that query.\n",
    "5.  **Compilation**: Finally, we compile the workflow into a runnable application."
   ]
  },
  {
   "cell_type": "code",
   "metadata": {
    "ExecuteTime": {
     "end_time": "2025-09-08T23:49:33.798199Z",
     "start_time": "2025-09-08T23:49:33.795890Z"
    }
   },
   "source": [
    "def determine_next_node(state: AgentState) -> Literal['code', 'math', 'creative', 'general']:\n",
    "    \"\"\"Return the next node based on routing decision\"\"\"\n",
    "    return state['route']\n",
    "\n",
    "def create_routing_agent():\n",
    "    \"\"\"Create and return the LangGraph routing agent\"\"\"\n",
    "\n",
    "    # Initialize the graph\n",
    "    workflow = StateGraph(AgentState)\n",
    "\n",
    "    # Add nodes\n",
    "    workflow.add_node('router', route_query)\n",
    "    workflow.add_node('code', handle_code_query)\n",
    "    workflow.add_node('math', handle_math_query)\n",
    "    workflow.add_node('creative', handle_creative_query)\n",
    "    workflow.add_node('general', handle_general_query)\n",
    "\n",
    "    # Set entry point\n",
    "    workflow.set_entry_point('router')\n",
    "\n",
    "    # Add conditional edges from router to specialized nodes\n",
    "    workflow.add_conditional_edges(\n",
    "        'router', determine_next_node, {'code': 'code', 'math': 'math', 'creative': 'creative', 'general': 'general'}\n",
    "    )\n",
    "\n",
    "    # Add edges from specialized nodes to END\n",
    "    workflow.add_edge('code', END)\n",
    "    workflow.add_edge('math', END)\n",
    "    workflow.add_edge('creative', END)\n",
    "    workflow.add_edge('general', END)\n",
    "\n",
    "    # Compile the graph\n",
    "    app = workflow.compile()\n",
    "    return app"
   ],
   "outputs": [],
   "execution_count": 5
  },
  {
   "cell_type": "markdown",
   "metadata": {},
   "source": [
    "## 6. Execution and Demonstration\n",
    "\n",
    "The `run_example` function demonstrates the agent in action. It creates an instance of the routing agent and tests it with a list of diverse queries. \n",
    "\n",
    "For each query, it invokes the agent, prints the query, the route chosen by the agent, the reasoning behind the choice, and the response from the selected mock LLM. This shows how the routing logic directs different types of questions to the appropriate specialized agent."
   ]
  },
  {
   "cell_type": "code",
   "metadata": {
    "ExecuteTime": {
     "end_time": "2025-09-08T23:49:33.814856Z",
     "start_time": "2025-09-08T23:49:33.803724Z"
    }
   },
   "source": [
    "def run_example():\n",
    "    \"\"\"Demonstrate the LLM-powered routing agent with different query types\"\"\"\n",
    "\n",
    "    agent = create_routing_agent()\n",
    "\n",
    "    test_queries = [\n",
    "        'How do I implement a binary search algorithm in Python?',\n",
    "        \"What's the integral of 2x³ + 5x² - 3x + 7?\",\n",
    "        'Write a mysterious short story about a lighthouse keeper',\n",
    "        'What causes the northern lights phenomenon?',\n",
    "        'Help me optimize this SQL query performance',\n",
    "        'Solve for x: 3x² - 12x + 9 = 0',\n",
    "    ]\n",
    "\n",
    "    print('LangGraph LLM-Powered Routing Agent Demo')\n",
    "    print('=' * 50)\n",
    "\n",
    "    for i, query in enumerate(test_queries, 1):\n",
    "        print(f'\\n{i}. Query: {query}')\n",
    "\n",
    "        try:\n",
    "            # Run the agent\n",
    "            result = agent.invoke({'query': query})\n",
    "\n",
    "            print(f'   Route: {result[\"route\"]}')\n",
    "            print(f'   Reasoning: {result[\"reasoning\"]}')\n",
    "            print(f'   Response: {result[\"response\"][:100]}...')  # Truncate for demo\n",
    "\n",
    "        except Exception as e:\n",
    "            print(f'   Error: {str(e)}')\n",
    "\n",
    "        print('-' * 50)\n",
    "\n",
    "# To run the example, call the function\n",
    "run_example()"
   ],
   "outputs": [
    {
     "name": "stdout",
     "output_type": "stream",
     "text": [
      "LangGraph LLM-Powered Routing Agent Demo\n",
      "==================================================\n",
      "\n",
      "1. Query: How do I implement a binary search algorithm in Python?\n",
      "   Route: code\n",
      "   Reasoning: Detected programming/coding related query\n",
      "   Response: [CODE LLM] Here's a programming solution for: How do I implement a binary search algorithm in Python...\n",
      "--------------------------------------------------\n",
      "\n",
      "2. Query: What's the integral of 2x³ + 5x² - 3x + 7?\n",
      "   Route: math\n",
      "   Reasoning: Detected mathematical/calculation query\n",
      "   Response: [MATH LLM] Mathematical analysis of: What's the integral of 2x³ + 5x² - 3x + 7?...\n",
      "--------------------------------------------------\n",
      "\n",
      "3. Query: Write a mysterious short story about a lighthouse keeper\n",
      "   Route: creative\n",
      "   Reasoning: Detected creative writing query\n",
      "   Response: [CREATIVE LLM] Creative response to: Write a mysterious short story about a lighthouse keeper...\n",
      "--------------------------------------------------\n",
      "\n",
      "4. Query: What causes the northern lights phenomenon?\n",
      "   Route: general\n",
      "   Reasoning: No specific specialization detected, using general LLM\n",
      "   Response: [GENERAL LLM] General response to: What causes the northern lights phenomenon?...\n",
      "--------------------------------------------------\n",
      "\n",
      "5. Query: Help me optimize this SQL query performance\n",
      "   Route: general\n",
      "   Reasoning: No specific specialization detected, using general LLM\n",
      "   Response: [GENERAL LLM] General response to: Help me optimize this SQL query performance...\n",
      "--------------------------------------------------\n",
      "\n",
      "6. Query: Solve for x: 3x² - 12x + 9 = 0\n",
      "   Route: math\n",
      "   Reasoning: Detected mathematical/calculation query\n",
      "   Response: [MATH LLM] Mathematical analysis of: Solve for x: 3x² - 12x + 9 = 0...\n",
      "--------------------------------------------------\n"
     ]
    }
   ],
   "execution_count": 6
  },
  {
   "cell_type": "markdown",
   "metadata": {},
   "source": []
  }
 ],
 "metadata": {
  "kernelspec": {
   "display_name": "py312",
   "language": "python",
   "name": "python3"
  },
  "language_info": {
   "codemirror_mode": {
    "name": "ipython",
    "version": 3
   },
   "file_extension": ".py",
   "mimetype": "text/x-python",
   "name": "python",
   "nbconvert_exporter": "python",
   "pygments_lexer": "ipython3",
   "version": "3.12.11"
  }
 },
 "nbformat": 4,
 "nbformat_minor": 4
}
