{
 "cells": [
  {
   "cell_type": "markdown",
   "metadata": {},
   "source": [
    "# Example 3: Advanced Iterative Code Generation with Human Debugging\n",
    "\n",
    "## Problem Statement\n",
    "Create a sophisticated LangGraph that iteratively generates Python code, automatically runs unit tests, and engages human expertise when tests fail. The human provides debugging guidance, and the AI incorporates this feedback to fix the code. This process continues until all tests pass, demonstrating advanced human-AI collaboration in software development.\n",
    "\n",
    "## Features\n",
    "- Automated code generation from specifications\n",
    "- Automatic unit test execution and result analysis\n",
    "- Human debugging interface with error analysis\n",
    "- Iterative code improvement based on human feedback\n",
    "- Code quality assessment and optimization\n",
    "- Comprehensive error handling and safety measures"
   ]
  },
  {
   "cell_type": "code",
   "execution_count": null,
   "metadata": {},
   "outputs": [],
   "source": [
    "# Install required packages (run this cell if packages are not installed)\n",
    "# !pip install langchain langgraph langchain-openai pytest"
   ]
  },
  {
   "cell_type": "code",
   "execution_count": null,
   "metadata": {},
   "outputs": [],
   "source": [
    "import os\n",
    "import ast\n",
    "import sys\n",
    "import subprocess\n",
    "import tempfile\n",
    "import traceback\n",
    "from typing import TypedDict, Annotated, List, Dict, Tuple, Optional\n",
    "from langchain_core.messages import HumanMessage, AIMessage, SystemMessage\n",
    "from langchain_openai import ChatOpenAI\n",
    "from langgraph.graph import StateGraph, END\n",
    "from langgraph.graph.message import add_messages\n",
    "import json\n",
    "from datetime import datetime\n",
    "import re\n",
    "from pathlib import Path\n",
    "\n",
    "# Set up OpenAI API key (make sure this is set in your environment)\n",
    "# os.environ[\"OPENAI_API_KEY\"] = \"your-api-key-here\"\n",
    "\n",
    "print(\"🔧 Advanced Iterative Code Generation with Human Debugging\")\n",
    "print(\"=\" * 60)"
   ]
  },
  {
   "cell_type": "markdown",
   "metadata": {},
   "source": [
    "## Step 1: Define the State\n",
    "The state tracks code versions, test results, human feedback, and iteration history."
   ]
  },
  {
   "cell_type": "code",
   "execution_count": null,
   "metadata": {},
   "outputs": [],
   "source": [
    "class CodeTestingState(TypedDict):\n",
    "    messages: Annotated[List, add_messages]\n",
    "    specification: str\n",
    "    current_code: str\n",
    "    test_code: str\n",
    "    test_results: Dict\n",
